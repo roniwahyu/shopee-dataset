{
 "cells": [
  {
   "cell_type": "code",
   "execution_count": 1,
   "metadata": {},
   "outputs": [],
   "source": [
    "import requests\n",
    "import json\n"
   ]
  },
  {
   "cell_type": "code",
   "execution_count": 2,
   "metadata": {},
   "outputs": [],
   "source": [
    "url_target = 'https://gql.tokopedia.com/graphql/SearchProductQueryV4'\n",
    "\n",
    "header = {'authority': 'gql.tokopedia.com',\n",
    " 'accept': '*/*',\n",
    " 'accept-language': 'en-US,en;q=0.9,id;q=0.8',\n",
    " 'content-type': 'application/json',\n",
    " 'cookie': 'bm_sz=22F5E60DAE3DB34065A2618EBF3ACA23~YAAQX3Fidh9wmHmEAQAAp3xW6hJCn0Hv/Rp/oK480QTnzDScxjFazlqibbsYPHChkZaoZcmwhnF6lRGjWq7vVwa9A5eGViWJc8O4MzubwvfBU8s+2SUhZm2EJCynEAII1ToVj/rpOVekF3wo0uXwUbRSyit0pxYdgNnspwiU2MWG1nR3PCvDPd9rE/5kBQZiQKBtISGjK1f1ACeGmNsG2DB8pzhJ16N/TnH5qYUBVTcZ370cB7C6O4y0TaEVDuMK55yZydhmMixkmKcPo8+k8ufZ3NJn8V8z1kwXfhxmfKJdSXvw0D4=4339012~3749446; bm_mi=3DA88402D7B6D60021323B48C79324EB~YAAQX3FidsFwmHmEAQAAdIZW6hK+QpAia3xRP160GLbwLVQcomJNcmINwWsPwbEQb7BIDBTj+L47UUts7G5WrjjJsOqVqUFsJHkoI1agm4Ceur4+AwEayLwNQssUGrXLpj2qQeC9mlyuRpUahZdbwZRPr9noagzzKdJ+x/h1jVtg5NeVf6adziyye8TCdQ425xPnhYzJu6N4eiog1SbshMMsNCzs+wv580u+7HLW6EoXzxvIu8HRLuLywWQTfXoPmQ3AEDV70413QfGPnhbJ/bqvHG76v9B0fcA2DIt9cwHtaDWUD38D1hkHH95lIG2nRmexEj/7edKvId8YPn4A+X8pkeS35Ss=~1; gcl_aw=GCL.1670378851.Cj0KCQiA7bucBhCeARIsAIOwr-_jFQB5Zit7qOkQdmFXBvy0vRlQAMrrwNdQpSlS3o4rL4xafQGcPwoaAmbrEALw_wcB; _gcl_au=1.1.1612754706.1670378851; _gid=GA1.2.71074107.1670378852; _gac_UA-126956641-6=1.1670378852.Cj0KCQiA7bucBhCeARIsAIOwr-_jFQB5Zit7qOkQdmFXBvy0vRlQAMrrwNdQpSlS3o4rL4xafQGcPwoaAmbrEALw_wcB; _dc_gtm_UA-126956641-6=1; _SID_Tokopedia=TwIoAvS4q7mnrlOguaC7hA7Kzj7p1A_uC8tlAslLsHMD5NnmGZp5m9lsmUhIvRGJ3d209zOi09csJv_aT-kOb8xxqa6Q0JektD23yMzUrmERdzSO6ad1Vx46AIQVtu4q; DID=526a6468e04e57ddaa38471fa88e5368c82f0ff620f585f0318d724ba170d4cf3da81dfdb464a6fd3342ff6ec1697819; DID_JS=NTI2YTY0NjhlMDRlNTdkZGFhMzg0NzFmYTg4ZTUzNjhjODJmMGZmNjIwZjU4NWYwMzE4ZDcyNGJhMTcwZDRjZjNkYTgxZGZkYjQ2NGE2ZmQzMzQyZmY2ZWMxNjk3ODE547DEQpj8HBSa+/TImW+5JCeuQeRkm5NMpJWZG3hSuFU=; ak_bmsc=39B0E1D2123295DF33D2CE5E78E31BA0~000000000000000000000000000000~YAAQX3FidjZxmHmEAQAAeYxW6hLmof8PcJ4+xlVsckTOrFZ9QKLGAsH/tScsCgiljbHiY6T51uDTd4WAEOkdGde6HxzXLy0BtExHZdV6jg4tnFsJG4V0N2xsjVSAIFj8uyJTilFpKH5ZAUnI12tsaqBA8FYDaj2XOfdpqkrBhoMr22R/f8ne8C1g3t+WWYyNXMMUlJErVo9vm1QuASK+568UkV0aNXaX4q9nbkWYdElC8ovCdhfO8tPwPBjDb04Zc3ZFMzE7ow06OzF55qUdQOd3M7Ygju3KcMk/TmVK22zmC2it8Fgl93dqctToul5Sx52lXjIgxwASvZyKZbM6BRMSRvSJKiyOaN5lg6rYJruhfzdpT4iUGmnPQxvTEIZIpCAHrxtEPwTaQ79TdG9tag7SZKQyBp+pdbhetkWpyQ2q8EnXVET0IcEuSfiF3HY9FQL5K2adEkPQeo+Cz5B8Dn7XVJoqiI7nTz6KpVVFOQlzhRnjPiggiL7+LUeT/6Jyn9MiwVgDJf2oNOhEO0sGZCTai0geMlLNLPyJ; UUID_NONLOGIN=6010368ddd26a8fcc82ecb52fc3c3527; AMP_TOKEN=%24NOT_FOUND; dc_gtm_UA-9801603-1=1; _UUID_CAS=6aff9b73-ff0e-4b57-9209-9c3cddf4db14; CASE=2b72341934726a626267647c72311934726a607c723c323c726a721a313b31222431700025233124727c72331934726a6167667c723c3f3e37726a72727c723c3124726a72727c7220133f726a72727c72271934726a61626261606367657c72231934726a61616563606567637c722304292035726a726238727c72273823726a720b2b0c7227312235383f2523350f39340c726a61626261606367657c0c72233522263933350f242920350c726a0c7262380c727c0c720f0f242920353e313d350c726a0c7207312235383f252335230c722d7c2b0c7227312235383f2523350f39340c726a607c0c72233522263933350f242920350c726a0c7261653d0c727c0c720f0f242920353e313d350c726a0c7207312235383f252335230c722d0d727c723c052034726a72626062627d61627d60670460696a60676a63627b60676a6060722d; _gac_UA-9801603-1=1.1670378853.Cj0KCQiA7bucBhCeARIsAIOwr-_jFQB5Zit7qOkQdmFXBvy0vRlQAMrrwNdQpSlS3o4rL4xafQGcPwoaAmbrEALw_wcB; _gat_UA-9801603-1=1; __asc=9bb662a0184ea56a18aa811b707; __auc=9bb662a0184ea56a18aa811b707; _abck=7F1955629FFC5D460E1EB5D47D9D1699~0~YAAQX3Fidld3mHmEAQAALuNW6gnRhkI7LWo9OsSJ5j/qHRn8jMJDkectgr4WFgaWjDeBCPl/81JkMRxQUbyBwE+5Ghh6k/HDrauCQQe3OeEV9RRX5WwimXxVD34ofpILqFb8pyDAbDanZljgYHRHgsz7ICQawRzu6NX8skbQ4FY7YtIxz9bUCSWT5l9SzCxr2JW1Sk00s6q/JqSux8bnMYQfaEovEqWl+qUSaNVfGKzu89w6DIQ3TK6xpaEoXUmZYyK3o/1RnQs8tQvuSGJ3FA2B6CahXWy90VrvWLAV6ix5DUdJvF8l8Wpv7S+3Qdw4wgy+ShiIwRovBUJVFWQGVxdzUdGItc8uNLwKJjBlOqez/m2Kd9hAIyzGoJKf6O15OiUpvF+hhqHdCMf6hIWqOVW2wt52sGsxjVLc-1~-1~-1; _ga_70947XW48P=GS1.1.1670378851.1.1.1670378893.18.0.0; _ga=GA1.2.1953802084.1670378852; _fbp=fb.1.1670378894180.585367863',\n",
    " 'origin': 'https://www.tokopedia.com',\n",
    " 'referer': 'https://www.tokopedia.com/search?st=product&q=baju%20anak%20perempuan&srp_component_id=02.01.00.00&srp_page_id=&srp_page_title=&navsource=',\n",
    " 'sec-ch-ua': '\"Not?A_Brand\";v=\"8\", \"Chromium\";v=\"108\", \"Google Chrome\";v=\"108\"',\n",
    " 'sec-ch-ua-mobile': '?0',\n",
    " 'sec-ch-ua-platform': '\"Windows\"',\n",
    " 'sec-fetch-dest': 'empty',\n",
    " 'sec-fetch-mode': 'cors',\n",
    " 'sec-fetch-site': 'same-site',\n",
    " 'tkpd-userid': '0',\n",
    " 'user-agent': 'Mozilla/5.0 (Windows NT 10.0; Win64; x64) AppleWebKit/537.36 (KHTML, like Gecko) Chrome/108.0.0.0 Safari/537.36',\n",
    " 'x-device': 'desktop-0.0',\n",
    " 'x-source': 'tokopedia-lite',\n",
    " 'x-tkpd-lite-service': 'zeus',\n",
    " 'x-version': '3e188f7'}\n",
    "\n",
    "query = f'[{{\"operationName\":\"SearchProductQueryV4\",\"variables\":{{\"params\":\"device=desktop&navsource=&ob=23&page=1&q=laptop asus&related=true&rows=10&safe_search=false&scheme=https&shipping=&source=search&srp_component_id=02.01.00.00&srp_page_id=&srp_page_title=&st=product&start=0&topads_bucket=true&unique_id=6010368ddd26a8fcc82ecb52fc3c3527&user_addressId=&user_cityId=176&user_districtId=2274&user_id=&user_lat=&user_long=&user_postCode=&user_warehouseId=12210375&variants=\"}},\"query\":\"query SearchProductQueryV4($params: String\\u0021) {{\\\\n  ace_search_product_v4(params: $params) {{\\\\n    header {{\\\\n      totalData\\\\n      totalDataText\\\\n      processTime\\\\n      responseCode\\\\n      errorMessage\\\\n      additionalParams\\\\n      keywordProcess\\\\n      componentId\\\\n      __typename\\\\n    }}\\\\n    data {{\\\\n      banner {{\\\\n        position\\\\n        text\\\\n        imageUrl\\\\n        url\\\\n        componentId\\\\n        trackingOption\\\\n        __typename\\\\n      }}\\\\n      backendFilters\\\\n      isQuerySafe\\\\n      ticker {{\\\\n        text\\\\n        query\\\\n        typeId\\\\n        componentId\\\\n        trackingOption\\\\n        __typename\\\\n      }}\\\\n      redirection {{\\\\n        redirectUrl\\\\n        departmentId\\\\n        __typename\\\\n      }}\\\\n      related {{\\\\n        position\\\\n        trackingOption\\\\n        relatedKeyword\\\\n        otherRelated {{\\\\n          keyword\\\\n          url\\\\n          product {{\\\\n            id\\\\n            name\\\\n            price\\\\n            imageUrl\\\\n            rating\\\\n            countReview\\\\n            url\\\\n            priceStr\\\\n            wishlist\\\\n            shop {{\\\\n              city\\\\n              isOfficial\\\\n              isPowerBadge\\\\n              __typename\\\\n            }}\\\\n            ads {{\\\\n              adsId: id\\\\n              productClickUrl\\\\n              productWishlistUrl\\\\n              shopClickUrl\\\\n              productViewUrl\\\\n              __typename\\\\n            }}\\\\n            badges {{\\\\n              title\\\\n              imageUrl\\\\n              show\\\\n              __typename\\\\n            }}\\\\n            ratingAverage\\\\n            labelGroups {{\\\\n              position\\\\n              type\\\\n              title\\\\n              url\\\\n              __typename\\\\n            }}\\\\n            componentId\\\\n            __typename\\\\n          }}\\\\n          componentId\\\\n          __typename\\\\n        }}\\\\n        __typename\\\\n      }}\\\\n      suggestion {{\\\\n        currentKeyword\\\\n        suggestion\\\\n        suggestionCount\\\\n        instead\\\\n        insteadCount\\\\n        query\\\\n        text\\\\n        componentId\\\\n        trackingOption\\\\n        __typename\\\\n      }}\\\\n      products {{\\\\n        id\\\\n        name\\\\n        ads {{\\\\n          adsId: id\\\\n          productClickUrl\\\\n          productWishlistUrl\\\\n          productViewUrl\\\\n          __typename\\\\n        }}\\\\n        badges {{\\\\n          title\\\\n          imageUrl\\\\n          show\\\\n          __typename\\\\n        }}\\\\n        category: departmentId\\\\n        categoryBreadcrumb\\\\n        categoryId\\\\n        categoryName\\\\n        countReview\\\\n        customVideoURL\\\\n        discountPercentage\\\\n        gaKey\\\\n        imageUrl\\\\n        labelGroups {{\\\\n          position\\\\n          title\\\\n          type\\\\n          url\\\\n          __typename\\\\n        }}\\\\n        originalPrice\\\\n        price\\\\n        priceRange\\\\n        rating\\\\n        ratingAverage\\\\n        shop {{\\\\n          shopId: id\\\\n          name\\\\n          url\\\\n          city\\\\n          isOfficial\\\\n          isPowerBadge\\\\n          __typename\\\\n        }}\\\\n        url\\\\n        wishlist\\\\n        sourceEngine: source_engine\\\\n        __typename\\\\n      }}\\\\n      violation {{\\\\n        headerText\\\\n        descriptionText\\\\n        imageURL\\\\n        ctaURL\\\\n        ctaApplink\\\\n        buttonText\\\\n        buttonType\\\\n        __typename\\\\n      }}\\\\n      __typename\\\\n    }}\\\\n    __typename\\\\n  }}\\\\n}}\\\\n\"}}]'"
   ]
  },
  {
   "cell_type": "code",
   "execution_count": 4,
   "metadata": {},
   "outputs": [],
   "source": [
    "jml_page = 5\n",
    "jumlah_data = jml_page * 60\n",
    "kata_kunci = 'laptop asus vivobook'"
   ]
  },
  {
   "cell_type": "code",
   "execution_count": 5,
   "metadata": {},
   "outputs": [],
   "source": [
    "\n",
    "def extract_tokaopedia_products(url_target, header, kata_kunci, jml_page):\n",
    "    \"\"\"\n",
    "    Extracts product data from Tokopedia's SearchProductQueryV4 across multiple pages.\n",
    "\n",
    "    Args:\n",
    "        url_target: The URL of the Tokopedia GraphQL endpoint.\n",
    "        header: The HTTP headers to use for the request.\n",
    "        kata_kunci: The search keyword.\n",
    "        jml_page: The total number of pages to fetch.\n",
    "\n",
    "    Returns:\n",
    "        A list of extracted product dictionaries, or None if an error occurs.\n",
    "    \"\"\"\n",
    "\n",
    "    hasil = []  # Create an empty list to store extracted products\n",
    "\n",
    "    for page in range(1, jml_page + 1):\n",
    "        data_offset = (page - 1) * 60  # Calculate offset for each page\n",
    "\n",
    "        variables = {\n",
    "            \"params\": f\"device=desktop&navsource=&ob=23&page={page}\"\n",
    "                     f\"&q={kata_kunci}&related=true&rows=60&safe_search=false\"\n",
    "                     f\"&scheme=https&shipping=&source=search&srp_component_id=01.07.00.00\"\n",
    "                     f\"&srp_page_id=&srp_page_title=&st=product&start={data_offset}\"\n",
    "                     f\"&topads_bucket=true&unique_id=3220fd80a9a96a8eb398771a986004aa\"\n",
    "                     f\"&user_addressId=&user_cityId=176&user_districtId=2274&user_id=&\"\n",
    "                     f\"user_lat=&user_long=&user_postCode=&user_warehouseId=12210375&variants=\",\n",
    "        }\n",
    "\n",
    "        query = f\"\"\"\n",
    "        {{\n",
    "          \"operationName\": \"SearchProductQueryV4\",\n",
    "          \"variables\": {json.dumps(variables)},\n",
    "          \"query\": \"query SearchProductQueryV4($params: String!) {{\\\\n\"\n",
    "                  f\"  ace_search_product_v4(params: $params) {{\\\\n\"\n",
    "                  f\"    header {{\\\\n\"\n",
    "                  f\"      totalData\\\\n\"\n",
    "                  f\"      totalDataText\\\\n\"\n",
    "                  f\"      processTime\\\\n\"\n",
    "                  f\"      responseCode\\\\n\"\n",
    "                  f\"      errorMessage\\\\n\"\n",
    "                  f\"      additionalParams\\\\n\"\n",
    "                  f\"      keywordProcess\\\\n\"\n",
    "                  f\"      componentId\\\\n\"\n",
    "                  f\"      __typename\\\\n\"\n",
    "                  f\"    }}\\\\n\"\n",
    "                  f\"    data {{\\\\n\"\n",
    "                  f\"      banner {{\\\\n\"\n",
    "                  f\"        position\\\\n\"\n",
    "                  f\"        text\\\\n\"\n",
    "                  f\"        imageUrl\\\\n\"\n",
    "                  f\"        url\\\\n\"\n",
    "                  f\"        componentId\\\\n\"\n",
    "                  f\"        trackingOption\\\\n\"\n",
    "                  f\"        __typename\\\\n\"\n",
    "                  f\"      }}\\\\n\"\n",
    "                  f\"      # ... other desired fields ...\"\n",
    "                  f\"    }}\\\\n\"\n",
    "                  f\"    __typename\\\\n\"\n",
    "                  f\"  }}\\\\n\"\n",
    "                  f\"}}\\\\n\"\n",
    "        }}\n",
    "        \"\"\"\n",
    "\n",
    "        print(f\"Fetching page {page}\")  # Add informative print statement\n",
    "\n",
    "        try:\n",
    "            response = requests.post(url_target, headers=header, data=query)\n",
    "            response.raise_for_status()  # Raise an exception for non-200 status codes\n",
    "            data = response.json()[0]['data']['ace_search_product_v4']['data']\n",
    "\n",
    "            # Use descriptive variable names and nested list comprehension\n",
    "            products = [\n",
    "                {\n",
    "                    \"id\": product['id'],\n",
    "                    \"name\": product['name'],\n",
    "                    # ... other extracted product fields ...\n",
    "                }\n",
    "                for product in data['products']\n",
    "            ]\n",
    "\n",
    "            hasil.extend(products)\n",
    "        except requests.exceptions.RequestException as e:\n",
    "            print(f\"Error occurred: {e}\")\n",
    "\n",
    "    return hasil\n",
    "\n",
    "# Example usage:\n",
    "# ... (same as before)\n"
   ]
  },
  {
   "cell_type": "code",
   "execution_count": 6,
   "metadata": {},
   "outputs": [
    {
     "name": "stdout",
     "output_type": "stream",
     "text": [
      "Fetching page 1\n",
      "Error occurred: Expecting value: line 1 column 1 (char 0)\n",
      "Fetching page 2\n",
      "Error occurred: Expecting value: line 1 column 1 (char 0)\n",
      "Fetching page 3\n",
      "Error occurred: Expecting value: line 1 column 1 (char 0)\n",
      "Fetching page 4\n",
      "Error occurred: Expecting value: line 1 column 1 (char 0)\n",
      "Fetching page 5\n",
      "Error occurred: Expecting value: line 1 column 1 (char 0)\n"
     ]
    },
    {
     "data": {
      "text/plain": [
       "[]"
      ]
     },
     "execution_count": 6,
     "metadata": {},
     "output_type": "execute_result"
    }
   ],
   "source": [
    "extract_tokaopedia_products(url_target, header, kata_kunci, jml_page)"
   ]
  }
 ],
 "metadata": {
  "kernelspec": {
   "display_name": "Python 3",
   "language": "python",
   "name": "python3"
  },
  "language_info": {
   "codemirror_mode": {
    "name": "ipython",
    "version": 3
   },
   "file_extension": ".py",
   "mimetype": "text/x-python",
   "name": "python",
   "nbconvert_exporter": "python",
   "pygments_lexer": "ipython3",
   "version": "3.10.6"
  }
 },
 "nbformat": 4,
 "nbformat_minor": 2
}
