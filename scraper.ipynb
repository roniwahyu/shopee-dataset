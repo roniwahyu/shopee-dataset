{
 "cells": [
  {
   "cell_type": "code",
   "execution_count": null,
   "id": "b0ee0e62",
   "metadata": {},
   "outputs": [],
   "source": [
    "import requests\n",
    "from bs4 import BeautifulSoup"
   ]
  },
  {
   "cell_type": "code",
   "execution_count": null,
   "id": "1b1da069",
   "metadata": {},
   "outputs": [],
   "source": [
    "class Scraper:\n",
    "    def __init__(self):\n",
    "        self.session = requests.Session()\n",
    "        self.headers = {'user-agent': 'Mozilla/5.0 (Macintosh; Intel Mac OS X 10_14_1) AppleWebKit/537.36 (KHTML, like Gecko) Chrome/71.0.3578.98 Safari/537.36 OPR/58.0.3135.79'}\n",
    "\n",
    "    def getPage(self, url):\n",
    "        \"\"\" Get Page from given url\n",
    "\n",
    "        :param url: url to get\n",
    "        :return: BeautifulSoup object or None\n",
    "        \"\"\"\n",
    "        try:\n",
    "            req = self.session.get(url, headers=self.headers)\n",
    "        except Exception as e:\n",
    "            print(e)\n",
    "            return None\n",
    "        bs = BeautifulSoup(req.text, \"html.parser\")\n",
    "        return bs\n",
    "\n",
    "    def openURL(self, url):\n",
    "        \"\"\"Open URL as python requests.\"\"\"\n",
    "        try:\n",
    "            req = self.session.get(url, headers=self.headers)\n",
    "        except Exception as e:\n",
    "            req = None\n",
    "            print(f\"[-] Error when opening URL: {e}\")\n",
    "        finally:\n",
    "            return req"
   ]
  }
 ],
 "metadata": {
  "jupytext": {
   "cell_metadata_filter": "-all",
   "main_language": "python",
   "notebook_metadata_filter": "-all"
  }
 },
 "nbformat": 4,
 "nbformat_minor": 5
}
