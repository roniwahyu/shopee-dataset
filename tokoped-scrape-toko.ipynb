{
 "cells": [
  {
   "cell_type": "code",
   "execution_count": 1,
   "metadata": {},
   "outputs": [],
   "source": [
    "import requests\n",
    "import pandas as pd"
   ]
  },
  {
   "cell_type": "code",
   "execution_count": 2,
   "metadata": {},
   "outputs": [],
   "source": [
    "# https://gql.tokopedia.com/graphql/productRatingAndTopics\n"
   ]
  },
  {
   "cell_type": "code",
   "execution_count": 3,
   "metadata": {},
   "outputs": [],
   "source": [
    "url_target = 'https://gql.tokopedia.com/graphql/SearchProductQueryV4'\n",
    "\n",
    "header = {'authority': 'gql.tokopedia.com',\n",
    " 'accept': '*/*',\n",
    " 'accept-language': 'en-US,en;q=0.9,id;q=0.8',\n",
    " 'content-type': 'application/json',\n",
    " 'cookie': 'bm_sz=22F5E60DAE3DB34065A2618EBF3ACA23~YAAQX3Fidh9wmHmEAQAAp3xW6hJCn0Hv/Rp/oK480QTnzDScxjFazlqibbsYPHChkZaoZcmwhnF6lRGjWq7vVwa9A5eGViWJc8O4MzubwvfBU8s+2SUhZm2EJCynEAII1ToVj/rpOVekF3wo0uXwUbRSyit0pxYdgNnspwiU2MWG1nR3PCvDPd9rE/5kBQZiQKBtISGjK1f1ACeGmNsG2DB8pzhJ16N/TnH5qYUBVTcZ370cB7C6O4y0TaEVDuMK55yZydhmMixkmKcPo8+k8ufZ3NJn8V8z1kwXfhxmfKJdSXvw0D4=4339012~3749446; bm_mi=3DA88402D7B6D60021323B48C79324EB~YAAQX3FidsFwmHmEAQAAdIZW6hK+QpAia3xRP160GLbwLVQcomJNcmINwWsPwbEQb7BIDBTj+L47UUts7G5WrjjJsOqVqUFsJHkoI1agm4Ceur4+AwEayLwNQssUGrXLpj2qQeC9mlyuRpUahZdbwZRPr9noagzzKdJ+x/h1jVtg5NeVf6adziyye8TCdQ425xPnhYzJu6N4eiog1SbshMMsNCzs+wv580u+7HLW6EoXzxvIu8HRLuLywWQTfXoPmQ3AEDV70413QfGPnhbJ/bqvHG76v9B0fcA2DIt9cwHtaDWUD38D1hkHH95lIG2nRmexEj/7edKvId8YPn4A+X8pkeS35Ss=~1; gcl_aw=GCL.1670378851.Cj0KCQiA7bucBhCeARIsAIOwr-_jFQB5Zit7qOkQdmFXBvy0vRlQAMrrwNdQpSlS3o4rL4xafQGcPwoaAmbrEALw_wcB; _gcl_au=1.1.1612754706.1670378851; _gid=GA1.2.71074107.1670378852; _gac_UA-126956641-6=1.1670378852.Cj0KCQiA7bucBhCeARIsAIOwr-_jFQB5Zit7qOkQdmFXBvy0vRlQAMrrwNdQpSlS3o4rL4xafQGcPwoaAmbrEALw_wcB; _dc_gtm_UA-126956641-6=1; _SID_Tokopedia=TwIoAvS4q7mnrlOguaC7hA7Kzj7p1A_uC8tlAslLsHMD5NnmGZp5m9lsmUhIvRGJ3d209zOi09csJv_aT-kOb8xxqa6Q0JektD23yMzUrmERdzSO6ad1Vx46AIQVtu4q; DID=526a6468e04e57ddaa38471fa88e5368c82f0ff620f585f0318d724ba170d4cf3da81dfdb464a6fd3342ff6ec1697819; DID_JS=NTI2YTY0NjhlMDRlNTdkZGFhMzg0NzFmYTg4ZTUzNjhjODJmMGZmNjIwZjU4NWYwMzE4ZDcyNGJhMTcwZDRjZjNkYTgxZGZkYjQ2NGE2ZmQzMzQyZmY2ZWMxNjk3ODE547DEQpj8HBSa+/TImW+5JCeuQeRkm5NMpJWZG3hSuFU=; ak_bmsc=39B0E1D2123295DF33D2CE5E78E31BA0~000000000000000000000000000000~YAAQX3FidjZxmHmEAQAAeYxW6hLmof8PcJ4+xlVsckTOrFZ9QKLGAsH/tScsCgiljbHiY6T51uDTd4WAEOkdGde6HxzXLy0BtExHZdV6jg4tnFsJG4V0N2xsjVSAIFj8uyJTilFpKH5ZAUnI12tsaqBA8FYDaj2XOfdpqkrBhoMr22R/f8ne8C1g3t+WWYyNXMMUlJErVo9vm1QuASK+568UkV0aNXaX4q9nbkWYdElC8ovCdhfO8tPwPBjDb04Zc3ZFMzE7ow06OzF55qUdQOd3M7Ygju3KcMk/TmVK22zmC2it8Fgl93dqctToul5Sx52lXjIgxwASvZyKZbM6BRMSRvSJKiyOaN5lg6rYJruhfzdpT4iUGmnPQxvTEIZIpCAHrxtEPwTaQ79TdG9tag7SZKQyBp+pdbhetkWpyQ2q8EnXVET0IcEuSfiF3HY9FQL5K2adEkPQeo+Cz5B8Dn7XVJoqiI7nTz6KpVVFOQlzhRnjPiggiL7+LUeT/6Jyn9MiwVgDJf2oNOhEO0sGZCTai0geMlLNLPyJ; UUID_NONLOGIN=6010368ddd26a8fcc82ecb52fc3c3527; AMP_TOKEN=%24NOT_FOUND; dc_gtm_UA-9801603-1=1; _UUID_CAS=6aff9b73-ff0e-4b57-9209-9c3cddf4db14; CASE=2b72341934726a626267647c72311934726a607c723c323c726a721a313b31222431700025233124727c72331934726a6167667c723c3f3e37726a72727c723c3124726a72727c7220133f726a72727c72271934726a61626261606367657c72231934726a61616563606567637c722304292035726a726238727c72273823726a720b2b0c7227312235383f2523350f39340c726a61626261606367657c0c72233522263933350f242920350c726a0c7262380c727c0c720f0f242920353e313d350c726a0c7207312235383f252335230c722d7c2b0c7227312235383f2523350f39340c726a607c0c72233522263933350f242920350c726a0c7261653d0c727c0c720f0f242920353e313d350c726a0c7207312235383f252335230c722d0d727c723c052034726a72626062627d61627d60670460696a60676a63627b60676a6060722d; _gac_UA-9801603-1=1.1670378853.Cj0KCQiA7bucBhCeARIsAIOwr-_jFQB5Zit7qOkQdmFXBvy0vRlQAMrrwNdQpSlS3o4rL4xafQGcPwoaAmbrEALw_wcB; _gat_UA-9801603-1=1; __asc=9bb662a0184ea56a18aa811b707; __auc=9bb662a0184ea56a18aa811b707; _abck=7F1955629FFC5D460E1EB5D47D9D1699~0~YAAQX3Fidld3mHmEAQAALuNW6gnRhkI7LWo9OsSJ5j/qHRn8jMJDkectgr4WFgaWjDeBCPl/81JkMRxQUbyBwE+5Ghh6k/HDrauCQQe3OeEV9RRX5WwimXxVD34ofpILqFb8pyDAbDanZljgYHRHgsz7ICQawRzu6NX8skbQ4FY7YtIxz9bUCSWT5l9SzCxr2JW1Sk00s6q/JqSux8bnMYQfaEovEqWl+qUSaNVfGKzu89w6DIQ3TK6xpaEoXUmZYyK3o/1RnQs8tQvuSGJ3FA2B6CahXWy90VrvWLAV6ix5DUdJvF8l8Wpv7S+3Qdw4wgy+ShiIwRovBUJVFWQGVxdzUdGItc8uNLwKJjBlOqez/m2Kd9hAIyzGoJKf6O15OiUpvF+hhqHdCMf6hIWqOVW2wt52sGsxjVLc-1~-1~-1; _ga_70947XW48P=GS1.1.1670378851.1.1.1670378893.18.0.0; _ga=GA1.2.1953802084.1670378852; _fbp=fb.1.1670378894180.585367863',\n",
    " 'origin': 'https://www.tokopedia.com',\n",
    " 'referer': 'https://www.tokopedia.com/search?st=product&q=baju%20anak%20perempuan&srp_component_id=02.01.00.00&srp_page_id=&srp_page_title=&navsource=',\n",
    " 'sec-ch-ua': '\"Not?A_Brand\";v=\"8\", \"Chromium\";v=\"108\", \"Google Chrome\";v=\"108\"',\n",
    " 'sec-ch-ua-mobile': '?0',\n",
    " 'sec-ch-ua-platform': '\"Windows\"',\n",
    " 'sec-fetch-dest': 'empty',\n",
    " 'sec-fetch-mode': 'cors',\n",
    " 'sec-fetch-site': 'same-site',\n",
    " 'tkpd-userid': '0',\n",
    " 'user-agent': 'Mozilla/5.0 (Windows NT 10.0; Win64; x64) AppleWebKit/537.36 (KHTML, like Gecko) Chrome/108.0.0.0 Safari/537.36',\n",
    " 'x-device': 'desktop-0.0',\n",
    " 'x-source': 'tokopedia-lite',\n",
    " 'x-tkpd-lite-service': 'zeus',\n",
    " 'x-version': '3e188f7'}\n",
    "\n",
    "query = f'[{{\"operationName\":\"SearchProductQueryV4\",\"variables\":{{\"params\":\"device=desktop&navsource=&ob=23&page=1&q=laptop asus&related=true&rows=10&safe_search=false&scheme=https&shipping=&source=search&srp_component_id=02.01.00.00&srp_page_id=&srp_page_title=&st=product&start=0&topads_bucket=true&unique_id=6010368ddd26a8fcc82ecb52fc3c3527&user_addressId=&user_cityId=176&user_districtId=2274&user_id=&user_lat=&user_long=&user_postCode=&user_warehouseId=12210375&variants=\"}},\"query\":\"query SearchProductQueryV4($params: String\\u0021) {{\\\\n  ace_search_product_v4(params: $params) {{\\\\n    header {{\\\\n      totalData\\\\n      totalDataText\\\\n      processTime\\\\n      responseCode\\\\n      errorMessage\\\\n      additionalParams\\\\n      keywordProcess\\\\n      componentId\\\\n      __typename\\\\n    }}\\\\n    data {{\\\\n      banner {{\\\\n        position\\\\n        text\\\\n        imageUrl\\\\n        url\\\\n        componentId\\\\n        trackingOption\\\\n        __typename\\\\n      }}\\\\n      backendFilters\\\\n      isQuerySafe\\\\n      ticker {{\\\\n        text\\\\n        query\\\\n        typeId\\\\n        componentId\\\\n        trackingOption\\\\n        __typename\\\\n      }}\\\\n      redirection {{\\\\n        redirectUrl\\\\n        departmentId\\\\n        __typename\\\\n      }}\\\\n      related {{\\\\n        position\\\\n        trackingOption\\\\n        relatedKeyword\\\\n        otherRelated {{\\\\n          keyword\\\\n          url\\\\n          product {{\\\\n            id\\\\n            name\\\\n            price\\\\n            imageUrl\\\\n            rating\\\\n            countReview\\\\n            url\\\\n            priceStr\\\\n            wishlist\\\\n            shop {{\\\\n              city\\\\n              isOfficial\\\\n              isPowerBadge\\\\n              __typename\\\\n            }}\\\\n            ads {{\\\\n              adsId: id\\\\n              productClickUrl\\\\n              productWishlistUrl\\\\n              shopClickUrl\\\\n              productViewUrl\\\\n              __typename\\\\n            }}\\\\n            badges {{\\\\n              title\\\\n              imageUrl\\\\n              show\\\\n              __typename\\\\n            }}\\\\n            ratingAverage\\\\n            labelGroups {{\\\\n              position\\\\n              type\\\\n              title\\\\n              url\\\\n              __typename\\\\n            }}\\\\n            componentId\\\\n            __typename\\\\n          }}\\\\n          componentId\\\\n          __typename\\\\n        }}\\\\n        __typename\\\\n      }}\\\\n      suggestion {{\\\\n        currentKeyword\\\\n        suggestion\\\\n        suggestionCount\\\\n        instead\\\\n        insteadCount\\\\n        query\\\\n        text\\\\n        componentId\\\\n        trackingOption\\\\n        __typename\\\\n      }}\\\\n      products {{\\\\n        id\\\\n        name\\\\n        ads {{\\\\n          adsId: id\\\\n          productClickUrl\\\\n          productWishlistUrl\\\\n          productViewUrl\\\\n          __typename\\\\n        }}\\\\n        badges {{\\\\n          title\\\\n          imageUrl\\\\n          show\\\\n          __typename\\\\n        }}\\\\n        category: departmentId\\\\n        categoryBreadcrumb\\\\n        categoryId\\\\n        categoryName\\\\n        countReview\\\\n        customVideoURL\\\\n        discountPercentage\\\\n        gaKey\\\\n        imageUrl\\\\n        labelGroups {{\\\\n          position\\\\n          title\\\\n          type\\\\n          url\\\\n          __typename\\\\n        }}\\\\n        originalPrice\\\\n        price\\\\n        priceRange\\\\n        rating\\\\n        ratingAverage\\\\n        shop {{\\\\n          shopId: id\\\\n          name\\\\n          url\\\\n          city\\\\n          isOfficial\\\\n          isPowerBadge\\\\n          __typename\\\\n        }}\\\\n        url\\\\n        wishlist\\\\n        sourceEngine: source_engine\\\\n        __typename\\\\n      }}\\\\n      violation {{\\\\n        headerText\\\\n        descriptionText\\\\n        imageURL\\\\n        ctaURL\\\\n        ctaApplink\\\\n        buttonText\\\\n        buttonType\\\\n        __typename\\\\n      }}\\\\n      __typename\\\\n    }}\\\\n    __typename\\\\n  }}\\\\n}}\\\\n\"}}]'"
   ]
  },
  {
   "cell_type": "code",
   "execution_count": 4,
   "metadata": {},
   "outputs": [
    {
     "name": "stdout",
     "output_type": "stream",
     "text": [
      "Mulai Scrape Data ke Tokopedia....\n"
     ]
    }
   ],
   "source": [
    "print(\"Mulai Scrape Data ke Tokopedia....\")\n",
    "response = requests.post(url_target, headers=header, data=query)\n",
    "datax=response.json()[0]['data']['ace_search_product_v4']['data']\n",
    "products = response.json()[0]['data']['ace_search_product_v4']['data']['products']"
   ]
  },
  {
   "cell_type": "code",
   "execution_count": 5,
   "metadata": {},
   "outputs": [
    {
     "name": "stdout",
     "output_type": "stream",
     "text": [
      "{'banner': {'position': 0, 'text': '', 'imageUrl': '', 'url': '', 'componentId': '', 'trackingOption': 0, '__typename': 'AceSearchUnifyBanner'}, 'backendFilters': '', 'isQuerySafe': True, 'ticker': {'text': '', 'query': '', 'typeId': 0, 'componentId': '', 'trackingOption': 0, '__typename': 'AceSearchUnifyTicker'}, 'redirection': {'redirectUrl': '', 'departmentId': 0, '__typename': 'AceSearchUnifyRedirection'}, 'related': {'position': 0, 'trackingOption': 0, 'relatedKeyword': '', 'otherRelated': [], '__typename': 'AceSearchUnifyRelated'}, 'suggestion': {'currentKeyword': 'laptop asus', 'suggestion': '', 'suggestionCount': 0, 'instead': '', 'insteadCount': 0, 'query': '', 'text': '', 'componentId': '', 'trackingOption': 0, '__typename': 'AceSearchUnifySuggestion'}, 'products': [{'id': 15527745419, 'name': 'ASUS VIVOBOOK 14 A1405ZA I3 1215 8GB 512SSD OHS W11 14.0 A1404ZA X1404ZA', 'ads': {'adsId': '', 'productClickUrl': '', 'productWishlistUrl': '', 'productViewUrl': '', '__typename': 'AceSearchUnifyAds'}, 'badges': [{'title': 'Official Store', 'imageUrl': 'https://images.tokopedia.net/img/official_store_badge.png', 'show': True, '__typename': 'AceSearchUnifyBadge'}], 'category': 3982, 'categoryBreadcrumb': 'komputer-laptop/laptop/laptop-consumer', 'categoryId': 297, 'categoryName': 'Komputer & Laptop', 'countReview': 28, 'customVideoURL': '', 'discountPercentage': 28, 'gaKey': '/searchproduct/komputer-laptop/laptop/laptop-consumer/laptop+asus/prostorecomputer/asus-vivobook-14-a1405za-i3-1215-8gb-512ssd-ohs-w11-14-0-a1404za-x1404za-x1404za-8-256-laptop-fe6bd', 'imageUrl': 'https://images.tokopedia.net/img/cache/200-square/VqbcmM/2024/10/16/fe3e69cb-6e18-4acf-b795-d95e68f840a2.png', 'labelGroups': [{'position': 'price', 'title': 'Diskon 500rb', 'type': 'lightGreen', 'url': '', '__typename': 'AceSearchUnifyLabelGroup'}, {'position': 'integrity', 'title': '100+ terjual', 'type': 'textDarkGrey', 'url': '', '__typename': 'AceSearchUnifyLabelGroup'}], 'originalPrice': 'Rp7.999.000', 'price': 'Rp5.749.000', 'priceRange': '', 'rating': 5, 'ratingAverage': '4.8', 'shop': {'shopId': 1724388, 'name': 'ProStoreComputer', 'url': 'https://www.tokopedia.com/prostorecomputer', 'city': 'Jakarta Utara', 'isOfficial': True, 'isPowerBadge': True, '__typename': 'AceSearchUnifyShop'}, 'url': 'https://www.tokopedia.com/prostorecomputer/asus-vivobook-14-a1405za-i3-1215-8gb-512ssd-ohs-w11-14-0-a1404za-x1404za-x1404za-8-256-laptop-fe6bd?extParam=ivf%3Dfalse%26src%3Dsearch', 'wishlist': False, 'sourceEngine': '0', '__typename': 'AceSearchUnifyProduct'}, {'id': 13412557301, 'name': 'ASUS Vivobook S 14 OLED M5406UA Ryzen 7 8845HS 16GB 512GB W11+OHS 14.0 OLED', 'ads': {'adsId': '', 'productClickUrl': '', 'productWishlistUrl': '', 'productViewUrl': '', '__typename': 'AceSearchUnifyAds'}, 'badges': [{'title': 'Official Store', 'imageUrl': 'https://images.tokopedia.net/img/official_store_badge.png', 'show': True, '__typename': 'AceSearchUnifyBadge'}], 'category': 3982, 'categoryBreadcrumb': 'komputer-laptop/laptop/laptop-consumer', 'categoryId': 297, 'categoryName': 'Komputer & Laptop', 'countReview': 60, 'customVideoURL': '', 'discountPercentage': 18, 'gaKey': '/searchproduct/komputer-laptop/laptop/laptop-consumer/laptop+asus/amd-id/asus-vivobook-s-14-oled-m5406ua-ryzen-7-8845hs-16gb-512gb-w11-ohs-14-0-oled-neutral-black-standard-18b5f', 'imageUrl': 'https://images.tokopedia.net/img/cache/200-square/VqbcmM/2024/11/6/1a87cb65-efab-44b7-a6b4-80d379583d2a.png', 'labelGroups': [{'position': 'price', 'title': 'Diskon 500rb', 'type': 'lightGreen', 'url': '', '__typename': 'AceSearchUnifyLabelGroup'}, {'position': 'integrity', 'title': '100+ terjual', 'type': 'textDarkGrey', 'url': '', '__typename': 'AceSearchUnifyLabelGroup'}], 'originalPrice': 'Rp15.799.000', 'price': 'Rp13.019.000', 'priceRange': '', 'rating': 5, 'ratingAverage': '5.0', 'shop': {'shopId': 3872328, 'name': 'AMD Official Store', 'url': 'https://www.tokopedia.com/amd-id', 'city': 'Jakarta Utara', 'isOfficial': True, 'isPowerBadge': True, '__typename': 'AceSearchUnifyShop'}, 'url': 'https://www.tokopedia.com/amd-id/asus-vivobook-s-14-oled-m5406ua-ryzen-7-8845hs-16gb-512gb-w11-ohs-14-0-oled-neutral-black-standard-18b5f?extParam=cmp%3D1%26ivf%3Dfalse%26src%3Dsearch', 'wishlist': False, 'sourceEngine': '0', '__typename': 'AceSearchUnifyProduct'}, {'id': 12775566799, 'name': 'ASUS VIVOBOOK 14 A1404ZA A1405ZA I3 1215 8GB 512SSD OHS W11 14\"FHD IPS', 'ads': {'adsId': '', 'productClickUrl': '', 'productWishlistUrl': '', 'productViewUrl': '', '__typename': 'AceSearchUnifyAds'}, 'badges': [{'title': 'Official Store', 'imageUrl': 'https://images.tokopedia.net/img/official_store_badge.png', 'show': True, '__typename': 'AceSearchUnifyBadge'}], 'category': 3982, 'categoryBreadcrumb': 'komputer-laptop/laptop/laptop-consumer', 'categoryId': 297, 'categoryName': 'Komputer & Laptop', 'countReview': 690, 'customVideoURL': 'https://vod-stream.tokopedia.net/view/adaptive.m3u8?id=9279203a-895b-4032-b16b-7042ffd7ef0b', 'discountPercentage': 25, 'gaKey': '/searchproduct/komputer-laptop/laptop/laptop-consumer/laptop+asus/prostorecomputer/asus-vivobook-14-a1404za-a1405za-i3-1215-8gb-512ssd-ohs-w11-14-fhd-ips-i3-n305-8-512-laptop', 'imageUrl': 'https://images.tokopedia.net/img/cache/200-square/VqbcmM/2024/10/12/0be9e354-9791-4ff1-a7a7-df2121ece7dd.png', 'labelGroups': [{'position': 'price', 'title': 'Diskon 500rb', 'type': 'lightGreen', 'url': '', '__typename': 'AceSearchUnifyLabelGroup'}, {'position': 'integrity', 'title': '1rb+ terjual', 'type': 'textDarkGrey', 'url': '', '__typename': 'AceSearchUnifyLabelGroup'}, {'position': 'campaign', 'title': 'Promo Guncang 11.11', 'type': '', 'url': 'https://images.tokopedia.net/img/phOWBv/2024/6/20/a54c7313-dce1-426e-bcb3-4f0202f1dcbf.png', '__typename': 'AceSearchUnifyLabelGroup'}], 'originalPrice': 'Rp7.999.000', 'price': 'Rp6.039.000', 'priceRange': '', 'rating': 5, 'ratingAverage': '4.9', 'shop': {'shopId': 1724388, 'name': 'ProStoreComputer', 'url': 'https://www.tokopedia.com/prostorecomputer', 'city': 'Jakarta Utara', 'isOfficial': True, 'isPowerBadge': True, '__typename': 'AceSearchUnifyShop'}, 'url': 'https://www.tokopedia.com/prostorecomputer/asus-vivobook-14-a1404za-a1405za-i3-1215-8gb-512ssd-ohs-w11-14-fhd-ips-i3-n305-8-512-laptop?extParam=cmp%3D1%26ivf%3Dtrue%26src%3Dsearch', 'wishlist': False, 'sourceEngine': '0', '__typename': 'AceSearchUnifyProduct'}, {'id': 13528419036, 'name': 'ASUS Vivobook S 14 OLED M5406UA Ryzen 7-8845HS 16GB 512GB 14\" WUXGA W11 OHS', 'ads': {'adsId': '', 'productClickUrl': '', 'productWishlistUrl': '', 'productViewUrl': '', '__typename': 'AceSearchUnifyAds'}, 'badges': [{'title': 'Official Store', 'imageUrl': 'https://images.tokopedia.net/img/official_store_badge.png', 'show': True, '__typename': 'AceSearchUnifyBadge'}], 'category': 3982, 'categoryBreadcrumb': 'komputer-laptop/laptop/laptop-consumer', 'categoryId': 297, 'categoryName': 'Komputer & Laptop', 'countReview': 14, 'customVideoURL': '', 'discountPercentage': 31, 'gaKey': '/searchproduct/komputer-laptop/laptop/laptop-consumer/laptop+asus/protechcom/asus-vivobook-s-14-oled-m5406ua-ryzen-7-8845hs-16gb-512gb-14-wuxga-w11-ohs', 'imageUrl': 'https://images.tokopedia.net/img/cache/200-square/VqbcmM/2024/5/23/3992e0a2-cca7-4f74-beb7-932e57b4fa62.jpg', 'labelGroups': [{'position': 'price', 'title': 'Diskon 50rb', 'type': 'lightGreen', 'url': '', '__typename': 'AceSearchUnifyLabelGroup'}, {'position': 'integrity', 'title': '27 terjual', 'type': 'textDarkGrey', 'url': '', '__typename': 'AceSearchUnifyLabelGroup'}], 'originalPrice': 'Rp18.999.000', 'price': 'Rp13.029.000', 'priceRange': '', 'rating': 5, 'ratingAverage': '5.0', 'shop': {'shopId': 607744, 'name': 'Protech Computer', 'url': 'https://www.tokopedia.com/protechcom', 'city': 'Jakarta Pusat', 'isOfficial': True, 'isPowerBadge': True, '__typename': 'AceSearchUnifyShop'}, 'url': 'https://www.tokopedia.com/protechcom/asus-vivobook-s-14-oled-m5406ua-ryzen-7-8845hs-16gb-512gb-14-wuxga-w11-ohs?extParam=ivf%3Dfalse%26src%3Dsearch', 'wishlist': False, 'sourceEngine': '0', '__typename': 'AceSearchUnifyProduct'}, {'id': 15060213722, 'name': 'ASUS VIVOBOOK 14 OLED M1405YA RYZEN 7 7730 RYZEN 5 16GB 1TBSSD W11+OHS', 'ads': {'adsId': '', 'productClickUrl': '', 'productWishlistUrl': '', 'productViewUrl': '', '__typename': 'AceSearchUnifyAds'}, 'badges': [{'title': 'Official Store', 'imageUrl': 'https://images.tokopedia.net/img/official_store_badge.png', 'show': True, '__typename': 'AceSearchUnifyBadge'}], 'category': 3982, 'categoryBreadcrumb': 'komputer-laptop/laptop/laptop-consumer', 'categoryId': 297, 'categoryName': 'Komputer & Laptop', 'countReview': 361, 'customVideoURL': '', 'discountPercentage': 39, 'gaKey': '/searchproduct/komputer-laptop/laptop/laptop-consumer/laptop+asus/prostorecomputer/asus-vivobook-14-oled-m1405ya-ryzen-7-7730-ryzen-5-16gb-1tbssd-w11-ohs-ips-r5-16-512-laptop-64bb9', 'imageUrl': 'https://images.tokopedia.net/img/cache/200-square/VqbcmM/2024/9/9/dc0434e5-39fa-4de5-8090-f57ac3f2e760.png', 'labelGroups': [{'position': 'price', 'title': 'Diskon 500rb', 'type': 'lightGreen', 'url': '', '__typename': 'AceSearchUnifyLabelGroup'}, {'position': 'integrity', 'title': '500+ terjual', 'type': 'textDarkGrey', 'url': '', '__typename': 'AceSearchUnifyLabelGroup'}], 'originalPrice': 'Rp13.999.000', 'price': 'Rp8.549.000', 'priceRange': '', 'rating': 5, 'ratingAverage': '4.8', 'shop': {'shopId': 1724388, 'name': 'ProStoreComputer', 'url': 'https://www.tokopedia.com/prostorecomputer', 'city': 'Jakarta Utara', 'isOfficial': True, 'isPowerBadge': True, '__typename': 'AceSearchUnifyShop'}, 'url': 'https://www.tokopedia.com/prostorecomputer/asus-vivobook-14-oled-m1405ya-ryzen-7-7730-ryzen-5-16gb-1tbssd-w11-ohs-ips-r5-16-512-laptop-64bb9?extParam=ivf%3Dfalse%26src%3Dsearch', 'wishlist': False, 'sourceEngine': '0', '__typename': 'AceSearchUnifyProduct'}, {'id': 12818066649, 'name': 'ASUS VIVOBOOK 14 A1405ZA VIPS351 I3 1215 8GB 512SSD W11+OHS 14.0 WUXGA', 'ads': {'adsId': '', 'productClickUrl': '', 'productWishlistUrl': '', 'productViewUrl': '', '__typename': 'AceSearchUnifyAds'}, 'badges': [{'title': 'Official Store', 'imageUrl': 'https://images.tokopedia.net/img/official_store_badge.png', 'show': True, '__typename': 'AceSearchUnifyBadge'}], 'category': 3982, 'categoryBreadcrumb': 'komputer-laptop/laptop/laptop-consumer', 'categoryId': 297, 'categoryName': 'Komputer & Laptop', 'countReview': 117, 'customVideoURL': '', 'discountPercentage': 21, 'gaKey': '/searchproduct/komputer-laptop/laptop/laptop-consumer/laptop+asus/decacom/asus-vivobook-14-a1405za-vips351-i3-1215-8gb-512ssd-w11-ohs-14-0-wuxga-standart-512-slv-eabc3', 'imageUrl': 'https://images.tokopedia.net/img/cache/200-square/VqbcmM/2024/7/30/5c76fe91-843f-4dd8-854d-1cbb93676599.png', 'labelGroups': [{'position': 'price', 'title': 'Diskon 50rb', 'type': 'lightGreen', 'url': '', '__typename': 'AceSearchUnifyLabelGroup'}, {'position': 'integrity', 'title': '250+ terjual', 'type': 'textDarkGrey', 'url': '', '__typename': 'AceSearchUnifyLabelGroup'}, {'position': 'campaign', 'title': 'Promo Guncang 11.11', 'type': '', 'url': 'https://images.tokopedia.net/img/phOWBv/2024/6/20/a54c7313-dce1-426e-bcb3-4f0202f1dcbf.png', '__typename': 'AceSearchUnifyLabelGroup'}], 'originalPrice': 'Rp8.689.000', 'price': 'Rp6.859.000', 'priceRange': '', 'rating': 5, 'ratingAverage': '4.9', 'shop': {'shopId': 464482, 'name': 'Deca Computer', 'url': 'https://www.tokopedia.com/decacom', 'city': 'Jakarta Utara', 'isOfficial': True, 'isPowerBadge': True, '__typename': 'AceSearchUnifyShop'}, 'url': 'https://www.tokopedia.com/decacom/asus-vivobook-14-a1405za-vips351-i3-1215-8gb-512ssd-w11-ohs-14-0-wuxga-standart-512-slv-eabc3?extParam=cmp%3D1%26ivf%3Dfalse%26src%3Dsearch', 'wishlist': False, 'sourceEngine': '0', '__typename': 'AceSearchUnifyProduct'}, {'id': 12553033909, 'name': 'ASUS VIVOBOOK GO 14 E1404FA RYZEN 5 7520 16GB 512GB W11+OHS 14.0FHD', 'ads': {'adsId': '', 'productClickUrl': '', 'productWishlistUrl': '', 'productViewUrl': '', '__typename': 'AceSearchUnifyAds'}, 'badges': [{'title': 'Official Store', 'imageUrl': 'https://images.tokopedia.net/img/official_store_badge.png', 'show': True, '__typename': 'AceSearchUnifyBadge'}], 'category': 3982, 'categoryBreadcrumb': 'komputer-laptop/laptop/laptop-consumer', 'categoryId': 297, 'categoryName': 'Komputer & Laptop', 'countReview': 50, 'customVideoURL': '', 'discountPercentage': 0, 'gaKey': '/searchproduct/komputer-laptop/laptop/laptop-consumer/laptop+asus/prostorecomputer/asus-vivobook-go-14-e1404fa-ryzen-5-7520-16gb-512gb-w11-ohs-14-0fhd-ryzen-3-8-256-laptop-98460', 'imageUrl': 'https://images.tokopedia.net/img/cache/200-square/VqbcmM/2023/5/26/eaa54fe4-f019-46b1-9b68-c2ad162a53eb.jpg', 'labelGroups': [{'position': 'price', 'title': 'Diskon 500rb', 'type': 'lightGreen', 'url': '', '__typename': 'AceSearchUnifyLabelGroup'}, {'position': 'integrity', 'title': '100+ terjual', 'type': 'textDarkGrey', 'url': '', '__typename': 'AceSearchUnifyLabelGroup'}], 'originalPrice': '', 'price': 'Rp8.999.000', 'priceRange': '', 'rating': 5, 'ratingAverage': '5.0', 'shop': {'shopId': 1724388, 'name': 'ProStoreComputer', 'url': 'https://www.tokopedia.com/prostorecomputer', 'city': 'Jakarta Utara', 'isOfficial': True, 'isPowerBadge': True, '__typename': 'AceSearchUnifyShop'}, 'url': 'https://www.tokopedia.com/prostorecomputer/asus-vivobook-go-14-e1404fa-ryzen-5-7520-16gb-512gb-w11-ohs-14-0fhd-ryzen-3-8-256-laptop-98460?extParam=ivf%3Dfalse%26src%3Dsearch', 'wishlist': False, 'sourceEngine': '0', '__typename': 'AceSearchUnifyProduct'}, {'id': 14604438055, 'name': 'ASUS VIVOBOOK 14 A1404ZA I5 1235 I3 1215 8GB 512GB W11+OHS FHD A1405ZA', 'ads': {'adsId': '', 'productClickUrl': '', 'productWishlistUrl': '', 'productViewUrl': '', '__typename': 'AceSearchUnifyAds'}, 'badges': [{'title': 'Official Store', 'imageUrl': 'https://images.tokopedia.net/img/official_store_badge.png', 'show': True, '__typename': 'AceSearchUnifyBadge'}], 'category': 3982, 'categoryBreadcrumb': 'komputer-laptop/laptop/laptop-consumer', 'categoryId': 297, 'categoryName': 'Komputer & Laptop', 'countReview': 121, 'customVideoURL': '', 'discountPercentage': 14, 'gaKey': '/searchproduct/komputer-laptop/laptop/laptop-consumer/laptop+asus/prostorecomputer/asus-vivobook-14-a1404za-i5-1235-i3-1215-8gb-512gb-w11-ohs-fhd-a1405za-i3-1215-8-512-laptop-10bc7', 'imageUrl': 'https://images.tokopedia.net/img/cache/200-square/VqbcmM/2024/7/29/d3057f83-79b0-4eb3-a278-4f8ce4d3924d.png', 'labelGroups': [{'position': 'price', 'title': 'Diskon 500rb', 'type': 'lightGreen', 'url': '', '__typename': 'AceSearchUnifyLabelGroup'}, {'position': 'integrity', 'title': '250+ terjual', 'type': 'textDarkGrey', 'url': '', '__typename': 'AceSearchUnifyLabelGroup'}, {'position': 'campaign', 'title': 'Promo Guncang', 'type': '', 'url': 'https://images.tokopedia.net/img/phOWBv/2024/6/20/a54c7313-dce1-426e-bcb3-4f0202f1dcbf.png', '__typename': 'AceSearchUnifyLabelGroup'}], 'originalPrice': 'Rp7.999.000', 'price': 'Rp6.889.000', 'priceRange': '', 'rating': 5, 'ratingAverage': '5.0', 'shop': {'shopId': 1724388, 'name': 'ProStoreComputer', 'url': 'https://www.tokopedia.com/prostorecomputer', 'city': 'Jakarta Utara', 'isOfficial': True, 'isPowerBadge': True, '__typename': 'AceSearchUnifyShop'}, 'url': 'https://www.tokopedia.com/prostorecomputer/asus-vivobook-14-a1404za-i5-1235-i3-1215-8gb-512gb-w11-ohs-fhd-a1405za-i3-1215-8-512-laptop-10bc7?extParam=ivf%3Dfalse%26src%3Dsearch', 'wishlist': False, 'sourceEngine': '0', '__typename': 'AceSearchUnifyProduct'}, {'id': 9291288058, 'name': 'ASUS Vivobook Go 15 OLED E1504FA Ryzen 3 7320U 8GB 610M 15\"FHD W11 OHS', 'ads': {'adsId': '', 'productClickUrl': '', 'productWishlistUrl': '', 'productViewUrl': '', '__typename': 'AceSearchUnifyAds'}, 'badges': [{'title': 'Official Store', 'imageUrl': 'https://images.tokopedia.net/img/official_store_badge.png', 'show': True, '__typename': 'AceSearchUnifyBadge'}], 'category': 3982, 'categoryBreadcrumb': 'komputer-laptop/laptop/laptop-consumer', 'categoryId': 297, 'categoryName': 'Komputer & Laptop', 'countReview': 188, 'customVideoURL': '', 'discountPercentage': 20, 'gaKey': '/searchproduct/komputer-laptop/laptop/laptop-consumer/laptop+asus/amd-id/asus-vivobook-go-15-oled-e1504fa-ryzen-3-7320u-8gb-610m-15-fhd-w11-ohs-silver-512gb-tanpa-antigores-121a4', 'imageUrl': 'https://images.tokopedia.net/img/cache/200-square/VqbcmM/2024/11/6/995abf35-eb9e-48a0-a57b-88244de5b115.jpg', 'labelGroups': [{'position': 'price', 'title': 'Diskon 500rb', 'type': 'lightGreen', 'url': '', '__typename': 'AceSearchUnifyLabelGroup'}, {'position': 'integrity', 'title': '250+ terjual', 'type': 'textDarkGrey', 'url': '', '__typename': 'AceSearchUnifyLabelGroup'}, {'position': 'campaign', 'title': 'Promo Guncang', 'type': '', 'url': 'https://images.tokopedia.net/img/phOWBv/2024/6/20/a54c7313-dce1-426e-bcb3-4f0202f1dcbf.png', '__typename': 'AceSearchUnifyLabelGroup'}], 'originalPrice': 'Rp9.299.000', 'price': 'Rp7.399.000', 'priceRange': '', 'rating': 5, 'ratingAverage': '5.0', 'shop': {'shopId': 3872328, 'name': 'AMD Official Store', 'url': 'https://www.tokopedia.com/amd-id', 'city': 'Jakarta Utara', 'isOfficial': True, 'isPowerBadge': True, '__typename': 'AceSearchUnifyShop'}, 'url': 'https://www.tokopedia.com/amd-id/asus-vivobook-go-15-oled-e1504fa-ryzen-3-7320u-8gb-610m-15-fhd-w11-ohs-silver-512gb-tanpa-antigores-121a4?extParam=ivf%3Dfalse%26src%3Dsearch', 'wishlist': False, 'sourceEngine': '0', '__typename': 'AceSearchUnifyProduct'}, {'id': 11399802428, 'name': 'ASUS Vivobook 14 A1400KA N4500 8GB 256GB 14\" FHD OHS W11', 'ads': {'adsId': '', 'productClickUrl': '', 'productWishlistUrl': '', 'productViewUrl': '', '__typename': 'AceSearchUnifyAds'}, 'badges': [{'title': 'Official Store', 'imageUrl': 'https://images.tokopedia.net/img/official_store_badge.png', 'show': True, '__typename': 'AceSearchUnifyBadge'}], 'category': 3982, 'categoryBreadcrumb': 'komputer-laptop/laptop/laptop-consumer', 'categoryId': 297, 'categoryName': 'Komputer & Laptop', 'countReview': 1129, 'customVideoURL': '', 'discountPercentage': 22, 'gaKey': '/searchproduct/komputer-laptop/laptop/laptop-consumer/laptop+asus/protechcom/asus-vivobook-14-a1400ka-n4500-8gb-256gb-14-fhd-ohs-w11-ddr4-8gb-bee0c', 'imageUrl': 'https://images.tokopedia.net/img/cache/200-square/VqbcmM/2024/11/8/a94457d2-6ca1-4e12-96fd-3c2f943e5ff5.jpg', 'labelGroups': [{'position': 'price', 'title': 'Diskon 50rb', 'type': 'lightGreen', 'url': '', '__typename': 'AceSearchUnifyLabelGroup'}, {'position': 'integrity', 'title': '2rb+ terjual', 'type': 'textDarkGrey', 'url': '', '__typename': 'AceSearchUnifyLabelGroup'}], 'originalPrice': 'Rp5.999.000', 'price': 'Rp4.689.000', 'priceRange': '', 'rating': 5, 'ratingAverage': '4.9', 'shop': {'shopId': 607744, 'name': 'Protech Computer', 'url': 'https://www.tokopedia.com/protechcom', 'city': 'Jakarta Pusat', 'isOfficial': True, 'isPowerBadge': True, '__typename': 'AceSearchUnifyShop'}, 'url': 'https://www.tokopedia.com/protechcom/asus-vivobook-14-a1400ka-n4500-8gb-256gb-14-fhd-ohs-w11-ddr4-8gb-bee0c?extParam=cmp%3D1%26ivf%3Dfalse%26src%3Dsearch', 'wishlist': False, 'sourceEngine': '0', '__typename': 'AceSearchUnifyProduct'}], 'violation': {'headerText': '', 'descriptionText': '', 'imageURL': '', 'ctaURL': '', 'ctaApplink': '', 'buttonText': '', 'buttonType': '', '__typename': 'AceSearchUnifyViolation'}, '__typename': 'AceSearchUnifyData'}\n"
     ]
    },
    {
     "data": {
      "text/plain": [
       "dict"
      ]
     },
     "execution_count": 5,
     "metadata": {},
     "output_type": "execute_result"
    }
   ],
   "source": [
    "print(datax)\n",
    "type(datax)"
   ]
  },
  {
   "cell_type": "code",
   "execution_count": 6,
   "metadata": {},
   "outputs": [
    {
     "name": "stdout",
     "output_type": "stream",
     "text": [
      "[{'id': 15527745419, 'name': 'ASUS VIVOBOOK 14 A1405ZA I3 1215 8GB 512SSD OHS W11 14.0 A1404ZA X1404ZA', 'ads': {'adsId': '', 'productClickUrl': '', 'productWishlistUrl': '', 'productViewUrl': '', '__typename': 'AceSearchUnifyAds'}, 'badges': [{'title': 'Official Store', 'imageUrl': 'https://images.tokopedia.net/img/official_store_badge.png', 'show': True, '__typename': 'AceSearchUnifyBadge'}], 'category': 3982, 'categoryBreadcrumb': 'komputer-laptop/laptop/laptop-consumer', 'categoryId': 297, 'categoryName': 'Komputer & Laptop', 'countReview': 28, 'customVideoURL': '', 'discountPercentage': 28, 'gaKey': '/searchproduct/komputer-laptop/laptop/laptop-consumer/laptop+asus/prostorecomputer/asus-vivobook-14-a1405za-i3-1215-8gb-512ssd-ohs-w11-14-0-a1404za-x1404za-x1404za-8-256-laptop-fe6bd', 'imageUrl': 'https://images.tokopedia.net/img/cache/200-square/VqbcmM/2024/10/16/fe3e69cb-6e18-4acf-b795-d95e68f840a2.png', 'labelGroups': [{'position': 'price', 'title': 'Diskon 500rb', 'type': 'lightGreen', 'url': '', '__typename': 'AceSearchUnifyLabelGroup'}, {'position': 'integrity', 'title': '100+ terjual', 'type': 'textDarkGrey', 'url': '', '__typename': 'AceSearchUnifyLabelGroup'}], 'originalPrice': 'Rp7.999.000', 'price': 'Rp5.749.000', 'priceRange': '', 'rating': 5, 'ratingAverage': '4.8', 'shop': {'shopId': 1724388, 'name': 'ProStoreComputer', 'url': 'https://www.tokopedia.com/prostorecomputer', 'city': 'Jakarta Utara', 'isOfficial': True, 'isPowerBadge': True, '__typename': 'AceSearchUnifyShop'}, 'url': 'https://www.tokopedia.com/prostorecomputer/asus-vivobook-14-a1405za-i3-1215-8gb-512ssd-ohs-w11-14-0-a1404za-x1404za-x1404za-8-256-laptop-fe6bd?extParam=ivf%3Dfalse%26src%3Dsearch', 'wishlist': False, 'sourceEngine': '0', '__typename': 'AceSearchUnifyProduct'}, {'id': 13412557301, 'name': 'ASUS Vivobook S 14 OLED M5406UA Ryzen 7 8845HS 16GB 512GB W11+OHS 14.0 OLED', 'ads': {'adsId': '', 'productClickUrl': '', 'productWishlistUrl': '', 'productViewUrl': '', '__typename': 'AceSearchUnifyAds'}, 'badges': [{'title': 'Official Store', 'imageUrl': 'https://images.tokopedia.net/img/official_store_badge.png', 'show': True, '__typename': 'AceSearchUnifyBadge'}], 'category': 3982, 'categoryBreadcrumb': 'komputer-laptop/laptop/laptop-consumer', 'categoryId': 297, 'categoryName': 'Komputer & Laptop', 'countReview': 60, 'customVideoURL': '', 'discountPercentage': 18, 'gaKey': '/searchproduct/komputer-laptop/laptop/laptop-consumer/laptop+asus/amd-id/asus-vivobook-s-14-oled-m5406ua-ryzen-7-8845hs-16gb-512gb-w11-ohs-14-0-oled-neutral-black-standard-18b5f', 'imageUrl': 'https://images.tokopedia.net/img/cache/200-square/VqbcmM/2024/11/6/1a87cb65-efab-44b7-a6b4-80d379583d2a.png', 'labelGroups': [{'position': 'price', 'title': 'Diskon 500rb', 'type': 'lightGreen', 'url': '', '__typename': 'AceSearchUnifyLabelGroup'}, {'position': 'integrity', 'title': '100+ terjual', 'type': 'textDarkGrey', 'url': '', '__typename': 'AceSearchUnifyLabelGroup'}], 'originalPrice': 'Rp15.799.000', 'price': 'Rp13.019.000', 'priceRange': '', 'rating': 5, 'ratingAverage': '5.0', 'shop': {'shopId': 3872328, 'name': 'AMD Official Store', 'url': 'https://www.tokopedia.com/amd-id', 'city': 'Jakarta Utara', 'isOfficial': True, 'isPowerBadge': True, '__typename': 'AceSearchUnifyShop'}, 'url': 'https://www.tokopedia.com/amd-id/asus-vivobook-s-14-oled-m5406ua-ryzen-7-8845hs-16gb-512gb-w11-ohs-14-0-oled-neutral-black-standard-18b5f?extParam=cmp%3D1%26ivf%3Dfalse%26src%3Dsearch', 'wishlist': False, 'sourceEngine': '0', '__typename': 'AceSearchUnifyProduct'}, {'id': 12775566799, 'name': 'ASUS VIVOBOOK 14 A1404ZA A1405ZA I3 1215 8GB 512SSD OHS W11 14\"FHD IPS', 'ads': {'adsId': '', 'productClickUrl': '', 'productWishlistUrl': '', 'productViewUrl': '', '__typename': 'AceSearchUnifyAds'}, 'badges': [{'title': 'Official Store', 'imageUrl': 'https://images.tokopedia.net/img/official_store_badge.png', 'show': True, '__typename': 'AceSearchUnifyBadge'}], 'category': 3982, 'categoryBreadcrumb': 'komputer-laptop/laptop/laptop-consumer', 'categoryId': 297, 'categoryName': 'Komputer & Laptop', 'countReview': 690, 'customVideoURL': 'https://vod-stream.tokopedia.net/view/adaptive.m3u8?id=9279203a-895b-4032-b16b-7042ffd7ef0b', 'discountPercentage': 25, 'gaKey': '/searchproduct/komputer-laptop/laptop/laptop-consumer/laptop+asus/prostorecomputer/asus-vivobook-14-a1404za-a1405za-i3-1215-8gb-512ssd-ohs-w11-14-fhd-ips-i3-n305-8-512-laptop', 'imageUrl': 'https://images.tokopedia.net/img/cache/200-square/VqbcmM/2024/10/12/0be9e354-9791-4ff1-a7a7-df2121ece7dd.png', 'labelGroups': [{'position': 'price', 'title': 'Diskon 500rb', 'type': 'lightGreen', 'url': '', '__typename': 'AceSearchUnifyLabelGroup'}, {'position': 'integrity', 'title': '1rb+ terjual', 'type': 'textDarkGrey', 'url': '', '__typename': 'AceSearchUnifyLabelGroup'}, {'position': 'campaign', 'title': 'Promo Guncang 11.11', 'type': '', 'url': 'https://images.tokopedia.net/img/phOWBv/2024/6/20/a54c7313-dce1-426e-bcb3-4f0202f1dcbf.png', '__typename': 'AceSearchUnifyLabelGroup'}], 'originalPrice': 'Rp7.999.000', 'price': 'Rp6.039.000', 'priceRange': '', 'rating': 5, 'ratingAverage': '4.9', 'shop': {'shopId': 1724388, 'name': 'ProStoreComputer', 'url': 'https://www.tokopedia.com/prostorecomputer', 'city': 'Jakarta Utara', 'isOfficial': True, 'isPowerBadge': True, '__typename': 'AceSearchUnifyShop'}, 'url': 'https://www.tokopedia.com/prostorecomputer/asus-vivobook-14-a1404za-a1405za-i3-1215-8gb-512ssd-ohs-w11-14-fhd-ips-i3-n305-8-512-laptop?extParam=cmp%3D1%26ivf%3Dtrue%26src%3Dsearch', 'wishlist': False, 'sourceEngine': '0', '__typename': 'AceSearchUnifyProduct'}, {'id': 13528419036, 'name': 'ASUS Vivobook S 14 OLED M5406UA Ryzen 7-8845HS 16GB 512GB 14\" WUXGA W11 OHS', 'ads': {'adsId': '', 'productClickUrl': '', 'productWishlistUrl': '', 'productViewUrl': '', '__typename': 'AceSearchUnifyAds'}, 'badges': [{'title': 'Official Store', 'imageUrl': 'https://images.tokopedia.net/img/official_store_badge.png', 'show': True, '__typename': 'AceSearchUnifyBadge'}], 'category': 3982, 'categoryBreadcrumb': 'komputer-laptop/laptop/laptop-consumer', 'categoryId': 297, 'categoryName': 'Komputer & Laptop', 'countReview': 14, 'customVideoURL': '', 'discountPercentage': 31, 'gaKey': '/searchproduct/komputer-laptop/laptop/laptop-consumer/laptop+asus/protechcom/asus-vivobook-s-14-oled-m5406ua-ryzen-7-8845hs-16gb-512gb-14-wuxga-w11-ohs', 'imageUrl': 'https://images.tokopedia.net/img/cache/200-square/VqbcmM/2024/5/23/3992e0a2-cca7-4f74-beb7-932e57b4fa62.jpg', 'labelGroups': [{'position': 'price', 'title': 'Diskon 50rb', 'type': 'lightGreen', 'url': '', '__typename': 'AceSearchUnifyLabelGroup'}, {'position': 'integrity', 'title': '27 terjual', 'type': 'textDarkGrey', 'url': '', '__typename': 'AceSearchUnifyLabelGroup'}], 'originalPrice': 'Rp18.999.000', 'price': 'Rp13.029.000', 'priceRange': '', 'rating': 5, 'ratingAverage': '5.0', 'shop': {'shopId': 607744, 'name': 'Protech Computer', 'url': 'https://www.tokopedia.com/protechcom', 'city': 'Jakarta Pusat', 'isOfficial': True, 'isPowerBadge': True, '__typename': 'AceSearchUnifyShop'}, 'url': 'https://www.tokopedia.com/protechcom/asus-vivobook-s-14-oled-m5406ua-ryzen-7-8845hs-16gb-512gb-14-wuxga-w11-ohs?extParam=ivf%3Dfalse%26src%3Dsearch', 'wishlist': False, 'sourceEngine': '0', '__typename': 'AceSearchUnifyProduct'}, {'id': 15060213722, 'name': 'ASUS VIVOBOOK 14 OLED M1405YA RYZEN 7 7730 RYZEN 5 16GB 1TBSSD W11+OHS', 'ads': {'adsId': '', 'productClickUrl': '', 'productWishlistUrl': '', 'productViewUrl': '', '__typename': 'AceSearchUnifyAds'}, 'badges': [{'title': 'Official Store', 'imageUrl': 'https://images.tokopedia.net/img/official_store_badge.png', 'show': True, '__typename': 'AceSearchUnifyBadge'}], 'category': 3982, 'categoryBreadcrumb': 'komputer-laptop/laptop/laptop-consumer', 'categoryId': 297, 'categoryName': 'Komputer & Laptop', 'countReview': 361, 'customVideoURL': '', 'discountPercentage': 39, 'gaKey': '/searchproduct/komputer-laptop/laptop/laptop-consumer/laptop+asus/prostorecomputer/asus-vivobook-14-oled-m1405ya-ryzen-7-7730-ryzen-5-16gb-1tbssd-w11-ohs-ips-r5-16-512-laptop-64bb9', 'imageUrl': 'https://images.tokopedia.net/img/cache/200-square/VqbcmM/2024/9/9/dc0434e5-39fa-4de5-8090-f57ac3f2e760.png', 'labelGroups': [{'position': 'price', 'title': 'Diskon 500rb', 'type': 'lightGreen', 'url': '', '__typename': 'AceSearchUnifyLabelGroup'}, {'position': 'integrity', 'title': '500+ terjual', 'type': 'textDarkGrey', 'url': '', '__typename': 'AceSearchUnifyLabelGroup'}], 'originalPrice': 'Rp13.999.000', 'price': 'Rp8.549.000', 'priceRange': '', 'rating': 5, 'ratingAverage': '4.8', 'shop': {'shopId': 1724388, 'name': 'ProStoreComputer', 'url': 'https://www.tokopedia.com/prostorecomputer', 'city': 'Jakarta Utara', 'isOfficial': True, 'isPowerBadge': True, '__typename': 'AceSearchUnifyShop'}, 'url': 'https://www.tokopedia.com/prostorecomputer/asus-vivobook-14-oled-m1405ya-ryzen-7-7730-ryzen-5-16gb-1tbssd-w11-ohs-ips-r5-16-512-laptop-64bb9?extParam=ivf%3Dfalse%26src%3Dsearch', 'wishlist': False, 'sourceEngine': '0', '__typename': 'AceSearchUnifyProduct'}, {'id': 12818066649, 'name': 'ASUS VIVOBOOK 14 A1405ZA VIPS351 I3 1215 8GB 512SSD W11+OHS 14.0 WUXGA', 'ads': {'adsId': '', 'productClickUrl': '', 'productWishlistUrl': '', 'productViewUrl': '', '__typename': 'AceSearchUnifyAds'}, 'badges': [{'title': 'Official Store', 'imageUrl': 'https://images.tokopedia.net/img/official_store_badge.png', 'show': True, '__typename': 'AceSearchUnifyBadge'}], 'category': 3982, 'categoryBreadcrumb': 'komputer-laptop/laptop/laptop-consumer', 'categoryId': 297, 'categoryName': 'Komputer & Laptop', 'countReview': 117, 'customVideoURL': '', 'discountPercentage': 21, 'gaKey': '/searchproduct/komputer-laptop/laptop/laptop-consumer/laptop+asus/decacom/asus-vivobook-14-a1405za-vips351-i3-1215-8gb-512ssd-w11-ohs-14-0-wuxga-standart-512-slv-eabc3', 'imageUrl': 'https://images.tokopedia.net/img/cache/200-square/VqbcmM/2024/7/30/5c76fe91-843f-4dd8-854d-1cbb93676599.png', 'labelGroups': [{'position': 'price', 'title': 'Diskon 50rb', 'type': 'lightGreen', 'url': '', '__typename': 'AceSearchUnifyLabelGroup'}, {'position': 'integrity', 'title': '250+ terjual', 'type': 'textDarkGrey', 'url': '', '__typename': 'AceSearchUnifyLabelGroup'}, {'position': 'campaign', 'title': 'Promo Guncang 11.11', 'type': '', 'url': 'https://images.tokopedia.net/img/phOWBv/2024/6/20/a54c7313-dce1-426e-bcb3-4f0202f1dcbf.png', '__typename': 'AceSearchUnifyLabelGroup'}], 'originalPrice': 'Rp8.689.000', 'price': 'Rp6.859.000', 'priceRange': '', 'rating': 5, 'ratingAverage': '4.9', 'shop': {'shopId': 464482, 'name': 'Deca Computer', 'url': 'https://www.tokopedia.com/decacom', 'city': 'Jakarta Utara', 'isOfficial': True, 'isPowerBadge': True, '__typename': 'AceSearchUnifyShop'}, 'url': 'https://www.tokopedia.com/decacom/asus-vivobook-14-a1405za-vips351-i3-1215-8gb-512ssd-w11-ohs-14-0-wuxga-standart-512-slv-eabc3?extParam=cmp%3D1%26ivf%3Dfalse%26src%3Dsearch', 'wishlist': False, 'sourceEngine': '0', '__typename': 'AceSearchUnifyProduct'}, {'id': 12553033909, 'name': 'ASUS VIVOBOOK GO 14 E1404FA RYZEN 5 7520 16GB 512GB W11+OHS 14.0FHD', 'ads': {'adsId': '', 'productClickUrl': '', 'productWishlistUrl': '', 'productViewUrl': '', '__typename': 'AceSearchUnifyAds'}, 'badges': [{'title': 'Official Store', 'imageUrl': 'https://images.tokopedia.net/img/official_store_badge.png', 'show': True, '__typename': 'AceSearchUnifyBadge'}], 'category': 3982, 'categoryBreadcrumb': 'komputer-laptop/laptop/laptop-consumer', 'categoryId': 297, 'categoryName': 'Komputer & Laptop', 'countReview': 50, 'customVideoURL': '', 'discountPercentage': 0, 'gaKey': '/searchproduct/komputer-laptop/laptop/laptop-consumer/laptop+asus/prostorecomputer/asus-vivobook-go-14-e1404fa-ryzen-5-7520-16gb-512gb-w11-ohs-14-0fhd-ryzen-3-8-256-laptop-98460', 'imageUrl': 'https://images.tokopedia.net/img/cache/200-square/VqbcmM/2023/5/26/eaa54fe4-f019-46b1-9b68-c2ad162a53eb.jpg', 'labelGroups': [{'position': 'price', 'title': 'Diskon 500rb', 'type': 'lightGreen', 'url': '', '__typename': 'AceSearchUnifyLabelGroup'}, {'position': 'integrity', 'title': '100+ terjual', 'type': 'textDarkGrey', 'url': '', '__typename': 'AceSearchUnifyLabelGroup'}], 'originalPrice': '', 'price': 'Rp8.999.000', 'priceRange': '', 'rating': 5, 'ratingAverage': '5.0', 'shop': {'shopId': 1724388, 'name': 'ProStoreComputer', 'url': 'https://www.tokopedia.com/prostorecomputer', 'city': 'Jakarta Utara', 'isOfficial': True, 'isPowerBadge': True, '__typename': 'AceSearchUnifyShop'}, 'url': 'https://www.tokopedia.com/prostorecomputer/asus-vivobook-go-14-e1404fa-ryzen-5-7520-16gb-512gb-w11-ohs-14-0fhd-ryzen-3-8-256-laptop-98460?extParam=ivf%3Dfalse%26src%3Dsearch', 'wishlist': False, 'sourceEngine': '0', '__typename': 'AceSearchUnifyProduct'}, {'id': 14604438055, 'name': 'ASUS VIVOBOOK 14 A1404ZA I5 1235 I3 1215 8GB 512GB W11+OHS FHD A1405ZA', 'ads': {'adsId': '', 'productClickUrl': '', 'productWishlistUrl': '', 'productViewUrl': '', '__typename': 'AceSearchUnifyAds'}, 'badges': [{'title': 'Official Store', 'imageUrl': 'https://images.tokopedia.net/img/official_store_badge.png', 'show': True, '__typename': 'AceSearchUnifyBadge'}], 'category': 3982, 'categoryBreadcrumb': 'komputer-laptop/laptop/laptop-consumer', 'categoryId': 297, 'categoryName': 'Komputer & Laptop', 'countReview': 121, 'customVideoURL': '', 'discountPercentage': 14, 'gaKey': '/searchproduct/komputer-laptop/laptop/laptop-consumer/laptop+asus/prostorecomputer/asus-vivobook-14-a1404za-i5-1235-i3-1215-8gb-512gb-w11-ohs-fhd-a1405za-i3-1215-8-512-laptop-10bc7', 'imageUrl': 'https://images.tokopedia.net/img/cache/200-square/VqbcmM/2024/7/29/d3057f83-79b0-4eb3-a278-4f8ce4d3924d.png', 'labelGroups': [{'position': 'price', 'title': 'Diskon 500rb', 'type': 'lightGreen', 'url': '', '__typename': 'AceSearchUnifyLabelGroup'}, {'position': 'integrity', 'title': '250+ terjual', 'type': 'textDarkGrey', 'url': '', '__typename': 'AceSearchUnifyLabelGroup'}, {'position': 'campaign', 'title': 'Promo Guncang', 'type': '', 'url': 'https://images.tokopedia.net/img/phOWBv/2024/6/20/a54c7313-dce1-426e-bcb3-4f0202f1dcbf.png', '__typename': 'AceSearchUnifyLabelGroup'}], 'originalPrice': 'Rp7.999.000', 'price': 'Rp6.889.000', 'priceRange': '', 'rating': 5, 'ratingAverage': '5.0', 'shop': {'shopId': 1724388, 'name': 'ProStoreComputer', 'url': 'https://www.tokopedia.com/prostorecomputer', 'city': 'Jakarta Utara', 'isOfficial': True, 'isPowerBadge': True, '__typename': 'AceSearchUnifyShop'}, 'url': 'https://www.tokopedia.com/prostorecomputer/asus-vivobook-14-a1404za-i5-1235-i3-1215-8gb-512gb-w11-ohs-fhd-a1405za-i3-1215-8-512-laptop-10bc7?extParam=ivf%3Dfalse%26src%3Dsearch', 'wishlist': False, 'sourceEngine': '0', '__typename': 'AceSearchUnifyProduct'}, {'id': 9291288058, 'name': 'ASUS Vivobook Go 15 OLED E1504FA Ryzen 3 7320U 8GB 610M 15\"FHD W11 OHS', 'ads': {'adsId': '', 'productClickUrl': '', 'productWishlistUrl': '', 'productViewUrl': '', '__typename': 'AceSearchUnifyAds'}, 'badges': [{'title': 'Official Store', 'imageUrl': 'https://images.tokopedia.net/img/official_store_badge.png', 'show': True, '__typename': 'AceSearchUnifyBadge'}], 'category': 3982, 'categoryBreadcrumb': 'komputer-laptop/laptop/laptop-consumer', 'categoryId': 297, 'categoryName': 'Komputer & Laptop', 'countReview': 188, 'customVideoURL': '', 'discountPercentage': 20, 'gaKey': '/searchproduct/komputer-laptop/laptop/laptop-consumer/laptop+asus/amd-id/asus-vivobook-go-15-oled-e1504fa-ryzen-3-7320u-8gb-610m-15-fhd-w11-ohs-silver-512gb-tanpa-antigores-121a4', 'imageUrl': 'https://images.tokopedia.net/img/cache/200-square/VqbcmM/2024/11/6/995abf35-eb9e-48a0-a57b-88244de5b115.jpg', 'labelGroups': [{'position': 'price', 'title': 'Diskon 500rb', 'type': 'lightGreen', 'url': '', '__typename': 'AceSearchUnifyLabelGroup'}, {'position': 'integrity', 'title': '250+ terjual', 'type': 'textDarkGrey', 'url': '', '__typename': 'AceSearchUnifyLabelGroup'}, {'position': 'campaign', 'title': 'Promo Guncang', 'type': '', 'url': 'https://images.tokopedia.net/img/phOWBv/2024/6/20/a54c7313-dce1-426e-bcb3-4f0202f1dcbf.png', '__typename': 'AceSearchUnifyLabelGroup'}], 'originalPrice': 'Rp9.299.000', 'price': 'Rp7.399.000', 'priceRange': '', 'rating': 5, 'ratingAverage': '5.0', 'shop': {'shopId': 3872328, 'name': 'AMD Official Store', 'url': 'https://www.tokopedia.com/amd-id', 'city': 'Jakarta Utara', 'isOfficial': True, 'isPowerBadge': True, '__typename': 'AceSearchUnifyShop'}, 'url': 'https://www.tokopedia.com/amd-id/asus-vivobook-go-15-oled-e1504fa-ryzen-3-7320u-8gb-610m-15-fhd-w11-ohs-silver-512gb-tanpa-antigores-121a4?extParam=ivf%3Dfalse%26src%3Dsearch', 'wishlist': False, 'sourceEngine': '0', '__typename': 'AceSearchUnifyProduct'}, {'id': 11399802428, 'name': 'ASUS Vivobook 14 A1400KA N4500 8GB 256GB 14\" FHD OHS W11', 'ads': {'adsId': '', 'productClickUrl': '', 'productWishlistUrl': '', 'productViewUrl': '', '__typename': 'AceSearchUnifyAds'}, 'badges': [{'title': 'Official Store', 'imageUrl': 'https://images.tokopedia.net/img/official_store_badge.png', 'show': True, '__typename': 'AceSearchUnifyBadge'}], 'category': 3982, 'categoryBreadcrumb': 'komputer-laptop/laptop/laptop-consumer', 'categoryId': 297, 'categoryName': 'Komputer & Laptop', 'countReview': 1129, 'customVideoURL': '', 'discountPercentage': 22, 'gaKey': '/searchproduct/komputer-laptop/laptop/laptop-consumer/laptop+asus/protechcom/asus-vivobook-14-a1400ka-n4500-8gb-256gb-14-fhd-ohs-w11-ddr4-8gb-bee0c', 'imageUrl': 'https://images.tokopedia.net/img/cache/200-square/VqbcmM/2024/11/8/a94457d2-6ca1-4e12-96fd-3c2f943e5ff5.jpg', 'labelGroups': [{'position': 'price', 'title': 'Diskon 50rb', 'type': 'lightGreen', 'url': '', '__typename': 'AceSearchUnifyLabelGroup'}, {'position': 'integrity', 'title': '2rb+ terjual', 'type': 'textDarkGrey', 'url': '', '__typename': 'AceSearchUnifyLabelGroup'}], 'originalPrice': 'Rp5.999.000', 'price': 'Rp4.689.000', 'priceRange': '', 'rating': 5, 'ratingAverage': '4.9', 'shop': {'shopId': 607744, 'name': 'Protech Computer', 'url': 'https://www.tokopedia.com/protechcom', 'city': 'Jakarta Pusat', 'isOfficial': True, 'isPowerBadge': True, '__typename': 'AceSearchUnifyShop'}, 'url': 'https://www.tokopedia.com/protechcom/asus-vivobook-14-a1400ka-n4500-8gb-256gb-14-fhd-ohs-w11-ddr4-8gb-bee0c?extParam=cmp%3D1%26ivf%3Dfalse%26src%3Dsearch', 'wishlist': False, 'sourceEngine': '0', '__typename': 'AceSearchUnifyProduct'}]\n"
     ]
    }
   ],
   "source": [
    "print(products)"
   ]
  },
  {
   "cell_type": "code",
   "execution_count": 7,
   "metadata": {},
   "outputs": [
    {
     "ename": "ValueError",
     "evalue": "Mixing dicts with non-Series may lead to ambiguous ordering.",
     "output_type": "error",
     "traceback": [
      "\u001b[1;31m---------------------------------------------------------------------------\u001b[0m",
      "\u001b[1;31mValueError\u001b[0m                                Traceback (most recent call last)",
      "Cell \u001b[1;32mIn[7], line 1\u001b[0m\n\u001b[1;32m----> 1\u001b[0m dtdatax\u001b[38;5;241m=\u001b[39m\u001b[43mpd\u001b[49m\u001b[38;5;241;43m.\u001b[39;49m\u001b[43mDataFrame\u001b[49m\u001b[38;5;241;43m.\u001b[39;49m\u001b[43mfrom_dict\u001b[49m\u001b[43m(\u001b[49m\u001b[43mdatax\u001b[49m\u001b[43m)\u001b[49m\n",
      "File \u001b[1;32mc:\\laragon\\bin\\python\\python-3.10\\lib\\site-packages\\pandas\\core\\frame.py:1813\u001b[0m, in \u001b[0;36mDataFrame.from_dict\u001b[1;34m(cls, data, orient, dtype, columns)\u001b[0m\n\u001b[0;32m   1807\u001b[0m     \u001b[38;5;28;01mraise\u001b[39;00m \u001b[38;5;167;01mValueError\u001b[39;00m(\n\u001b[0;32m   1808\u001b[0m         \u001b[38;5;124mf\u001b[39m\u001b[38;5;124m\"\u001b[39m\u001b[38;5;124mExpected \u001b[39m\u001b[38;5;124m'\u001b[39m\u001b[38;5;124mindex\u001b[39m\u001b[38;5;124m'\u001b[39m\u001b[38;5;124m, \u001b[39m\u001b[38;5;124m'\u001b[39m\u001b[38;5;124mcolumns\u001b[39m\u001b[38;5;124m'\u001b[39m\u001b[38;5;124m or \u001b[39m\u001b[38;5;124m'\u001b[39m\u001b[38;5;124mtight\u001b[39m\u001b[38;5;124m'\u001b[39m\u001b[38;5;124m for orient parameter. \u001b[39m\u001b[38;5;124m\"\u001b[39m\n\u001b[0;32m   1809\u001b[0m         \u001b[38;5;124mf\u001b[39m\u001b[38;5;124m\"\u001b[39m\u001b[38;5;124mGot \u001b[39m\u001b[38;5;124m'\u001b[39m\u001b[38;5;132;01m{\u001b[39;00morient\u001b[38;5;132;01m}\u001b[39;00m\u001b[38;5;124m'\u001b[39m\u001b[38;5;124m instead\u001b[39m\u001b[38;5;124m\"\u001b[39m\n\u001b[0;32m   1810\u001b[0m     )\n\u001b[0;32m   1812\u001b[0m \u001b[38;5;28;01mif\u001b[39;00m orient \u001b[38;5;241m!=\u001b[39m \u001b[38;5;124m\"\u001b[39m\u001b[38;5;124mtight\u001b[39m\u001b[38;5;124m\"\u001b[39m:\n\u001b[1;32m-> 1813\u001b[0m     \u001b[38;5;28;01mreturn\u001b[39;00m \u001b[38;5;28;43mcls\u001b[39;49m\u001b[43m(\u001b[49m\u001b[43mdata\u001b[49m\u001b[43m,\u001b[49m\u001b[43m \u001b[49m\u001b[43mindex\u001b[49m\u001b[38;5;241;43m=\u001b[39;49m\u001b[43mindex\u001b[49m\u001b[43m,\u001b[49m\u001b[43m \u001b[49m\u001b[43mcolumns\u001b[49m\u001b[38;5;241;43m=\u001b[39;49m\u001b[43mcolumns\u001b[49m\u001b[43m,\u001b[49m\u001b[43m \u001b[49m\u001b[43mdtype\u001b[49m\u001b[38;5;241;43m=\u001b[39;49m\u001b[43mdtype\u001b[49m\u001b[43m)\u001b[49m\n\u001b[0;32m   1814\u001b[0m \u001b[38;5;28;01melse\u001b[39;00m:\n\u001b[0;32m   1815\u001b[0m     realdata \u001b[38;5;241m=\u001b[39m data[\u001b[38;5;124m\"\u001b[39m\u001b[38;5;124mdata\u001b[39m\u001b[38;5;124m\"\u001b[39m]\n",
      "File \u001b[1;32mc:\\laragon\\bin\\python\\python-3.10\\lib\\site-packages\\pandas\\core\\frame.py:733\u001b[0m, in \u001b[0;36mDataFrame.__init__\u001b[1;34m(self, data, index, columns, dtype, copy)\u001b[0m\n\u001b[0;32m    727\u001b[0m     mgr \u001b[38;5;241m=\u001b[39m \u001b[38;5;28mself\u001b[39m\u001b[38;5;241m.\u001b[39m_init_mgr(\n\u001b[0;32m    728\u001b[0m         data, axes\u001b[38;5;241m=\u001b[39m{\u001b[38;5;124m\"\u001b[39m\u001b[38;5;124mindex\u001b[39m\u001b[38;5;124m\"\u001b[39m: index, \u001b[38;5;124m\"\u001b[39m\u001b[38;5;124mcolumns\u001b[39m\u001b[38;5;124m\"\u001b[39m: columns}, dtype\u001b[38;5;241m=\u001b[39mdtype, copy\u001b[38;5;241m=\u001b[39mcopy\n\u001b[0;32m    729\u001b[0m     )\n\u001b[0;32m    731\u001b[0m \u001b[38;5;28;01melif\u001b[39;00m \u001b[38;5;28misinstance\u001b[39m(data, \u001b[38;5;28mdict\u001b[39m):\n\u001b[0;32m    732\u001b[0m     \u001b[38;5;66;03m# GH#38939 de facto copy defaults to False only in non-dict cases\u001b[39;00m\n\u001b[1;32m--> 733\u001b[0m     mgr \u001b[38;5;241m=\u001b[39m \u001b[43mdict_to_mgr\u001b[49m\u001b[43m(\u001b[49m\u001b[43mdata\u001b[49m\u001b[43m,\u001b[49m\u001b[43m \u001b[49m\u001b[43mindex\u001b[49m\u001b[43m,\u001b[49m\u001b[43m \u001b[49m\u001b[43mcolumns\u001b[49m\u001b[43m,\u001b[49m\u001b[43m \u001b[49m\u001b[43mdtype\u001b[49m\u001b[38;5;241;43m=\u001b[39;49m\u001b[43mdtype\u001b[49m\u001b[43m,\u001b[49m\u001b[43m \u001b[49m\u001b[43mcopy\u001b[49m\u001b[38;5;241;43m=\u001b[39;49m\u001b[43mcopy\u001b[49m\u001b[43m,\u001b[49m\u001b[43m \u001b[49m\u001b[43mtyp\u001b[49m\u001b[38;5;241;43m=\u001b[39;49m\u001b[43mmanager\u001b[49m\u001b[43m)\u001b[49m\n\u001b[0;32m    734\u001b[0m \u001b[38;5;28;01melif\u001b[39;00m \u001b[38;5;28misinstance\u001b[39m(data, ma\u001b[38;5;241m.\u001b[39mMaskedArray):\n\u001b[0;32m    735\u001b[0m     \u001b[38;5;28;01mfrom\u001b[39;00m \u001b[38;5;21;01mnumpy\u001b[39;00m\u001b[38;5;21;01m.\u001b[39;00m\u001b[38;5;21;01mma\u001b[39;00m \u001b[38;5;28;01mimport\u001b[39;00m mrecords\n",
      "File \u001b[1;32mc:\\laragon\\bin\\python\\python-3.10\\lib\\site-packages\\pandas\\core\\internals\\construction.py:503\u001b[0m, in \u001b[0;36mdict_to_mgr\u001b[1;34m(data, index, columns, dtype, typ, copy)\u001b[0m\n\u001b[0;32m    499\u001b[0m     \u001b[38;5;28;01melse\u001b[39;00m:\n\u001b[0;32m    500\u001b[0m         \u001b[38;5;66;03m# dtype check to exclude e.g. range objects, scalars\u001b[39;00m\n\u001b[0;32m    501\u001b[0m         arrays \u001b[38;5;241m=\u001b[39m [x\u001b[38;5;241m.\u001b[39mcopy() \u001b[38;5;28;01mif\u001b[39;00m \u001b[38;5;28mhasattr\u001b[39m(x, \u001b[38;5;124m\"\u001b[39m\u001b[38;5;124mdtype\u001b[39m\u001b[38;5;124m\"\u001b[39m) \u001b[38;5;28;01melse\u001b[39;00m x \u001b[38;5;28;01mfor\u001b[39;00m x \u001b[38;5;129;01min\u001b[39;00m arrays]\n\u001b[1;32m--> 503\u001b[0m \u001b[38;5;28;01mreturn\u001b[39;00m \u001b[43marrays_to_mgr\u001b[49m\u001b[43m(\u001b[49m\u001b[43marrays\u001b[49m\u001b[43m,\u001b[49m\u001b[43m \u001b[49m\u001b[43mcolumns\u001b[49m\u001b[43m,\u001b[49m\u001b[43m \u001b[49m\u001b[43mindex\u001b[49m\u001b[43m,\u001b[49m\u001b[43m \u001b[49m\u001b[43mdtype\u001b[49m\u001b[38;5;241;43m=\u001b[39;49m\u001b[43mdtype\u001b[49m\u001b[43m,\u001b[49m\u001b[43m \u001b[49m\u001b[43mtyp\u001b[49m\u001b[38;5;241;43m=\u001b[39;49m\u001b[43mtyp\u001b[49m\u001b[43m,\u001b[49m\u001b[43m \u001b[49m\u001b[43mconsolidate\u001b[49m\u001b[38;5;241;43m=\u001b[39;49m\u001b[43mcopy\u001b[49m\u001b[43m)\u001b[49m\n",
      "File \u001b[1;32mc:\\laragon\\bin\\python\\python-3.10\\lib\\site-packages\\pandas\\core\\internals\\construction.py:114\u001b[0m, in \u001b[0;36marrays_to_mgr\u001b[1;34m(arrays, columns, index, dtype, verify_integrity, typ, consolidate)\u001b[0m\n\u001b[0;32m    111\u001b[0m \u001b[38;5;28;01mif\u001b[39;00m verify_integrity:\n\u001b[0;32m    112\u001b[0m     \u001b[38;5;66;03m# figure out the index, if necessary\u001b[39;00m\n\u001b[0;32m    113\u001b[0m     \u001b[38;5;28;01mif\u001b[39;00m index \u001b[38;5;129;01mis\u001b[39;00m \u001b[38;5;28;01mNone\u001b[39;00m:\n\u001b[1;32m--> 114\u001b[0m         index \u001b[38;5;241m=\u001b[39m \u001b[43m_extract_index\u001b[49m\u001b[43m(\u001b[49m\u001b[43marrays\u001b[49m\u001b[43m)\u001b[49m\n\u001b[0;32m    115\u001b[0m     \u001b[38;5;28;01melse\u001b[39;00m:\n\u001b[0;32m    116\u001b[0m         index \u001b[38;5;241m=\u001b[39m ensure_index(index)\n",
      "File \u001b[1;32mc:\\laragon\\bin\\python\\python-3.10\\lib\\site-packages\\pandas\\core\\internals\\construction.py:680\u001b[0m, in \u001b[0;36m_extract_index\u001b[1;34m(data)\u001b[0m\n\u001b[0;32m    677\u001b[0m     \u001b[38;5;28;01mraise\u001b[39;00m \u001b[38;5;167;01mValueError\u001b[39;00m(\u001b[38;5;124m\"\u001b[39m\u001b[38;5;124mAll arrays must be of the same length\u001b[39m\u001b[38;5;124m\"\u001b[39m)\n\u001b[0;32m    679\u001b[0m \u001b[38;5;28;01mif\u001b[39;00m have_dicts:\n\u001b[1;32m--> 680\u001b[0m     \u001b[38;5;28;01mraise\u001b[39;00m \u001b[38;5;167;01mValueError\u001b[39;00m(\n\u001b[0;32m    681\u001b[0m         \u001b[38;5;124m\"\u001b[39m\u001b[38;5;124mMixing dicts with non-Series may lead to ambiguous ordering.\u001b[39m\u001b[38;5;124m\"\u001b[39m\n\u001b[0;32m    682\u001b[0m     )\n\u001b[0;32m    684\u001b[0m \u001b[38;5;28;01mif\u001b[39;00m have_series:\n\u001b[0;32m    685\u001b[0m     \u001b[38;5;28;01mif\u001b[39;00m lengths[\u001b[38;5;241m0\u001b[39m] \u001b[38;5;241m!=\u001b[39m \u001b[38;5;28mlen\u001b[39m(index):\n",
      "\u001b[1;31mValueError\u001b[0m: Mixing dicts with non-Series may lead to ambiguous ordering."
     ]
    }
   ],
   "source": [
    "dtdatax=pd.DataFrame.from_dict(datax)"
   ]
  },
  {
   "cell_type": "code",
   "execution_count": null,
   "metadata": {},
   "outputs": [],
   "source": [
    "dtFrame = pd.DataFrame.from_dict(products)\n",
    "# dtDatax = pd.DataFrame.from_dict(datax)\n"
   ]
  },
  {
   "cell_type": "code",
   "execution_count": null,
   "metadata": {},
   "outputs": [
    {
     "data": {
      "text/html": [
       "<div>\n",
       "<style scoped>\n",
       "    .dataframe tbody tr th:only-of-type {\n",
       "        vertical-align: middle;\n",
       "    }\n",
       "\n",
       "    .dataframe tbody tr th {\n",
       "        vertical-align: top;\n",
       "    }\n",
       "\n",
       "    .dataframe thead th {\n",
       "        text-align: right;\n",
       "    }\n",
       "</style>\n",
       "<table border=\"1\" class=\"dataframe\">\n",
       "  <thead>\n",
       "    <tr style=\"text-align: right;\">\n",
       "      <th></th>\n",
       "      <th>id</th>\n",
       "      <th>name</th>\n",
       "      <th>ads</th>\n",
       "      <th>badges</th>\n",
       "      <th>category</th>\n",
       "      <th>categoryBreadcrumb</th>\n",
       "      <th>categoryId</th>\n",
       "      <th>categoryName</th>\n",
       "      <th>countReview</th>\n",
       "      <th>customVideoURL</th>\n",
       "      <th>...</th>\n",
       "      <th>originalPrice</th>\n",
       "      <th>price</th>\n",
       "      <th>priceRange</th>\n",
       "      <th>rating</th>\n",
       "      <th>ratingAverage</th>\n",
       "      <th>shop</th>\n",
       "      <th>url</th>\n",
       "      <th>wishlist</th>\n",
       "      <th>sourceEngine</th>\n",
       "      <th>__typename</th>\n",
       "    </tr>\n",
       "  </thead>\n",
       "  <tbody>\n",
       "    <tr>\n",
       "      <th>0</th>\n",
       "      <td>11590460422</td>\n",
       "      <td>ASUS Vivobook Go 14 E1404FA Ryzen 3-7320U RAM ...</td>\n",
       "      <td>{'adsId': '', 'productClickUrl': '', 'productW...</td>\n",
       "      <td>[{'title': 'Official Store', 'imageUrl': 'http...</td>\n",
       "      <td>3982</td>\n",
       "      <td>komputer-laptop/laptop/laptop-consumer</td>\n",
       "      <td>297</td>\n",
       "      <td>Komputer &amp; Laptop</td>\n",
       "      <td>79</td>\n",
       "      <td>https://vod-stream.tokopedia.net/view/adaptive...</td>\n",
       "      <td>...</td>\n",
       "      <td>Rp6.999.000</td>\n",
       "      <td>Rp5.719.000</td>\n",
       "      <td></td>\n",
       "      <td>5</td>\n",
       "      <td>5.0</td>\n",
       "      <td>{'shopId': 6207038, 'name': 'Distributor Lapto...</td>\n",
       "      <td>https://www.tokopedia.com/distrilapid/asus-viv...</td>\n",
       "      <td>False</td>\n",
       "      <td>0</td>\n",
       "      <td>AceSearchUnifyProduct</td>\n",
       "    </tr>\n",
       "    <tr>\n",
       "      <th>1</th>\n",
       "      <td>12412787516</td>\n",
       "      <td>ASUS VIVOBOOK 14 A1405ZA VIPS351 I3 1215 8GB 5...</td>\n",
       "      <td>{'adsId': '', 'productClickUrl': '', 'productW...</td>\n",
       "      <td>[{'title': 'Official Store', 'imageUrl': 'http...</td>\n",
       "      <td>3982</td>\n",
       "      <td>komputer-laptop/laptop/laptop-consumer</td>\n",
       "      <td>297</td>\n",
       "      <td>Komputer &amp; Laptop</td>\n",
       "      <td>6</td>\n",
       "      <td></td>\n",
       "      <td>...</td>\n",
       "      <td>Rp7.579.000</td>\n",
       "      <td>Rp6.548.000</td>\n",
       "      <td></td>\n",
       "      <td>5</td>\n",
       "      <td>5.0</td>\n",
       "      <td>{'shopId': 464482, 'name': 'Deca Computer', 'u...</td>\n",
       "      <td>https://www.tokopedia.com/laptopgaming/asus-vi...</td>\n",
       "      <td>False</td>\n",
       "      <td>0</td>\n",
       "      <td>AceSearchUnifyProduct</td>\n",
       "    </tr>\n",
       "    <tr>\n",
       "      <th>2</th>\n",
       "      <td>2127406112</td>\n",
       "      <td>ASUS VIVOBOOK FLIP TM420UA RYZEN 5-5500U 8GB 2...</td>\n",
       "      <td>{'adsId': '', 'productClickUrl': '', 'productW...</td>\n",
       "      <td>[{'title': 'Official Store', 'imageUrl': 'http...</td>\n",
       "      <td>3982</td>\n",
       "      <td>komputer-laptop/laptop/laptop-consumer</td>\n",
       "      <td>297</td>\n",
       "      <td>Komputer &amp; Laptop</td>\n",
       "      <td>150</td>\n",
       "      <td></td>\n",
       "      <td>...</td>\n",
       "      <td>Rp9.899.000</td>\n",
       "      <td>Rp7.849.000</td>\n",
       "      <td></td>\n",
       "      <td>5</td>\n",
       "      <td>4.8</td>\n",
       "      <td>{'shopId': 1646721, 'name': 'Top Tech', 'url':...</td>\n",
       "      <td>https://www.tokopedia.com/toptech/asus-vivoboo...</td>\n",
       "      <td>False</td>\n",
       "      <td>0</td>\n",
       "      <td>AceSearchUnifyProduct</td>\n",
       "    </tr>\n",
       "    <tr>\n",
       "      <th>3</th>\n",
       "      <td>11894479893</td>\n",
       "      <td>Laptop ASUS ZenBook 14 OLED UM3402YA-OLEDS552 ...</td>\n",
       "      <td>{'adsId': '', 'productClickUrl': '', 'productW...</td>\n",
       "      <td>[{'title': 'Official Store', 'imageUrl': 'http...</td>\n",
       "      <td>3984</td>\n",
       "      <td>komputer-laptop/laptop/ultrabook</td>\n",
       "      <td>297</td>\n",
       "      <td>Komputer &amp; Laptop</td>\n",
       "      <td>1</td>\n",
       "      <td></td>\n",
       "      <td>...</td>\n",
       "      <td></td>\n",
       "      <td>Rp9.999.000</td>\n",
       "      <td></td>\n",
       "      <td>5</td>\n",
       "      <td>5.0</td>\n",
       "      <td>{'shopId': 6698692, 'name': 'Level99ID', 'url'...</td>\n",
       "      <td>https://www.tokopedia.com/level99id/laptop-asu...</td>\n",
       "      <td>False</td>\n",
       "      <td>0</td>\n",
       "      <td>AceSearchUnifyProduct</td>\n",
       "    </tr>\n",
       "    <tr>\n",
       "      <th>4</th>\n",
       "      <td>11507315255</td>\n",
       "      <td>Asus VivoBook 14 i3 1115G4 8GB 512 SSD A1400EA...</td>\n",
       "      <td>{'adsId': '', 'productClickUrl': '', 'productW...</td>\n",
       "      <td>[{'title': 'Official Store', 'imageUrl': 'http...</td>\n",
       "      <td>3982</td>\n",
       "      <td>komputer-laptop/laptop/laptop-consumer</td>\n",
       "      <td>297</td>\n",
       "      <td>Komputer &amp; Laptop</td>\n",
       "      <td>6</td>\n",
       "      <td></td>\n",
       "      <td>...</td>\n",
       "      <td>Rp7.000.000</td>\n",
       "      <td>Rp6.099.000</td>\n",
       "      <td></td>\n",
       "      <td>5</td>\n",
       "      <td>5.0</td>\n",
       "      <td>{'shopId': 2076454, 'name': 'mikrotek', 'url':...</td>\n",
       "      <td>https://www.tokopedia.com/mikrotek/asus-vivobo...</td>\n",
       "      <td>False</td>\n",
       "      <td>0</td>\n",
       "      <td>AceSearchUnifyProduct</td>\n",
       "    </tr>\n",
       "  </tbody>\n",
       "</table>\n",
       "<p>5 rows × 24 columns</p>\n",
       "</div>"
      ],
      "text/plain": [
       "            id                                               name  \\\n",
       "0  11590460422  ASUS Vivobook Go 14 E1404FA Ryzen 3-7320U RAM ...   \n",
       "1  12412787516  ASUS VIVOBOOK 14 A1405ZA VIPS351 I3 1215 8GB 5...   \n",
       "2   2127406112  ASUS VIVOBOOK FLIP TM420UA RYZEN 5-5500U 8GB 2...   \n",
       "3  11894479893  Laptop ASUS ZenBook 14 OLED UM3402YA-OLEDS552 ...   \n",
       "4  11507315255  Asus VivoBook 14 i3 1115G4 8GB 512 SSD A1400EA...   \n",
       "\n",
       "                                                 ads  \\\n",
       "0  {'adsId': '', 'productClickUrl': '', 'productW...   \n",
       "1  {'adsId': '', 'productClickUrl': '', 'productW...   \n",
       "2  {'adsId': '', 'productClickUrl': '', 'productW...   \n",
       "3  {'adsId': '', 'productClickUrl': '', 'productW...   \n",
       "4  {'adsId': '', 'productClickUrl': '', 'productW...   \n",
       "\n",
       "                                              badges  category  \\\n",
       "0  [{'title': 'Official Store', 'imageUrl': 'http...      3982   \n",
       "1  [{'title': 'Official Store', 'imageUrl': 'http...      3982   \n",
       "2  [{'title': 'Official Store', 'imageUrl': 'http...      3982   \n",
       "3  [{'title': 'Official Store', 'imageUrl': 'http...      3984   \n",
       "4  [{'title': 'Official Store', 'imageUrl': 'http...      3982   \n",
       "\n",
       "                       categoryBreadcrumb  categoryId       categoryName  \\\n",
       "0  komputer-laptop/laptop/laptop-consumer         297  Komputer & Laptop   \n",
       "1  komputer-laptop/laptop/laptop-consumer         297  Komputer & Laptop   \n",
       "2  komputer-laptop/laptop/laptop-consumer         297  Komputer & Laptop   \n",
       "3        komputer-laptop/laptop/ultrabook         297  Komputer & Laptop   \n",
       "4  komputer-laptop/laptop/laptop-consumer         297  Komputer & Laptop   \n",
       "\n",
       "   countReview                                     customVideoURL  ...  \\\n",
       "0           79  https://vod-stream.tokopedia.net/view/adaptive...  ...   \n",
       "1            6                                                     ...   \n",
       "2          150                                                     ...   \n",
       "3            1                                                     ...   \n",
       "4            6                                                     ...   \n",
       "\n",
       "   originalPrice        price priceRange rating ratingAverage  \\\n",
       "0    Rp6.999.000  Rp5.719.000                 5           5.0   \n",
       "1    Rp7.579.000  Rp6.548.000                 5           5.0   \n",
       "2    Rp9.899.000  Rp7.849.000                 5           4.8   \n",
       "3                 Rp9.999.000                 5           5.0   \n",
       "4    Rp7.000.000  Rp6.099.000                 5           5.0   \n",
       "\n",
       "                                                shop  \\\n",
       "0  {'shopId': 6207038, 'name': 'Distributor Lapto...   \n",
       "1  {'shopId': 464482, 'name': 'Deca Computer', 'u...   \n",
       "2  {'shopId': 1646721, 'name': 'Top Tech', 'url':...   \n",
       "3  {'shopId': 6698692, 'name': 'Level99ID', 'url'...   \n",
       "4  {'shopId': 2076454, 'name': 'mikrotek', 'url':...   \n",
       "\n",
       "                                                 url  wishlist sourceEngine  \\\n",
       "0  https://www.tokopedia.com/distrilapid/asus-viv...     False            0   \n",
       "1  https://www.tokopedia.com/laptopgaming/asus-vi...     False            0   \n",
       "2  https://www.tokopedia.com/toptech/asus-vivoboo...     False            0   \n",
       "3  https://www.tokopedia.com/level99id/laptop-asu...     False            0   \n",
       "4  https://www.tokopedia.com/mikrotek/asus-vivobo...     False            0   \n",
       "\n",
       "              __typename  \n",
       "0  AceSearchUnifyProduct  \n",
       "1  AceSearchUnifyProduct  \n",
       "2  AceSearchUnifyProduct  \n",
       "3  AceSearchUnifyProduct  \n",
       "4  AceSearchUnifyProduct  \n",
       "\n",
       "[5 rows x 24 columns]"
      ]
     },
     "execution_count": 9,
     "metadata": {},
     "output_type": "execute_result"
    }
   ],
   "source": [
    "\n",
    "dtFrame.head()"
   ]
  },
  {
   "cell_type": "code",
   "execution_count": null,
   "metadata": {},
   "outputs": [
    {
     "name": "stdout",
     "output_type": "stream",
     "text": [
      "Selesai...\n"
     ]
    }
   ],
   "source": [
    "dtFrame.to_csv('data_tokped_laptop.csv', encoding='utf-8')\n",
    "print(\"Selesai...\")"
   ]
  },
  {
   "cell_type": "code",
   "execution_count": null,
   "metadata": {},
   "outputs": [
    {
     "name": "stdout",
     "output_type": "stream",
     "text": [
      "300 5\n"
     ]
    }
   ],
   "source": [
    "kata_kunci='laptop asus'\n",
    "init_query = f'[{{\"operationName\":\"SearchProductQueryV4\",\"variables\":{{\"params\":\"device=desktop&navsource=&ob=23&page=1&q={kata_kunci}&related=true&rows=60&safe_search=false&scheme=https&shipping=&source=search&srp_component_id=01.07.00.00&srp_page_id=&srp_page_title=&st=product&start=0&topads_bucket=true&unique_id=1fdabea77fbaf5f1954bdbc40d4a9337&user_addressId=113228966&user_cityId=171&user_districtId=2233&user_id=7773903&user_lat=-6.377643399999999&user_long=106.7621449&user_postCode=16516&user_warehouseId=0&variants=\"}},\"query\":\"query SearchProductQueryV4($params: String!) {{\\\\n  ace_search_product_v4(params: $params) {{\\\\n    header {{\\\\n      totalData\\\\n      totalDataText\\\\n      processTime\\\\n      responseCode\\\\n      errorMessage\\\\n      additionalParams\\\\n      keywordProcess\\\\n      componentId\\\\n      __typename\\\\n    }}\\\\n    data {{\\\\n      banner {{\\\\n        position\\\\n        text\\\\n        imageUrl\\\\n        url\\\\n        componentId\\\\n        trackingOption\\\\n        __typename\\\\n      }}\\\\n      backendFilters\\\\n      isQuerySafe\\\\n      ticker {{\\\\n        text\\\\n        query\\\\n        typeId\\\\n        componentId\\\\n        trackingOption\\\\n        __typename\\\\n      }}\\\\n      redirection {{\\\\n        redirectUrl\\\\n        departmentId\\\\n        __typename\\\\n      }}\\\\n      related {{\\\\n        position\\\\n        trackingOption\\\\n        relatedKeyword\\\\n        otherRelated {{\\\\n          keyword\\\\n          url\\\\n          product {{\\\\n            id\\\\n            name\\\\n            price\\\\n            imageUrl\\\\n            rating\\\\n            countReview\\\\n            url\\\\n            priceStr\\\\n            wishlist\\\\n            shop {{\\\\n              city\\\\n              isOfficial\\\\n              isPowerBadge\\\\n              __typename\\\\n            }}\\\\n            ads {{\\\\n              adsId: id\\\\n              productClickUrl\\\\n              productWishlistUrl\\\\n              shopClickUrl\\\\n              productViewUrl\\\\n              __typename\\\\n            }}\\\\n            badges {{\\\\n              title\\\\n              imageUrl\\\\n              show\\\\n              __typename\\\\n            }}\\\\n            ratingAverage\\\\n            labelGroups {{\\\\n              position\\\\n              type\\\\n              title\\\\n              url\\\\n              __typename\\\\n            }}\\\\n            componentId\\\\n            __typename\\\\n          }}\\\\n          componentId\\\\n          __typename\\\\n        }}\\\\n        __typename\\\\n      }}\\\\n      suggestion {{\\\\n        currentKeyword\\\\n        suggestion\\\\n        suggestionCount\\\\n        instead\\\\n        insteadCount\\\\n        query\\\\n        text\\\\n        componentId\\\\n        trackingOption\\\\n        __typename\\\\n      }}\\\\n      products {{\\\\n        id\\\\n        name\\\\n        ads {{\\\\n          adsId: id\\\\n          productClickUrl\\\\n          productWishlistUrl\\\\n          productViewUrl\\\\n          __typename\\\\n        }}\\\\n        badges {{\\\\n          title\\\\n          imageUrl\\\\n          show\\\\n          __typename\\\\n        }}\\\\n        category: departmentId\\\\n        categoryBreadcrumb\\\\n        categoryId\\\\n        categoryName\\\\n        countReview\\\\n        customVideoURL\\\\n        discountPercentage\\\\n        gaKey\\\\n        imageUrl\\\\n        labelGroups {{\\\\n          position\\\\n          title\\\\n          type\\\\n          url\\\\n          __typename\\\\n        }}\\\\n        originalPrice\\\\n        price\\\\n        priceRange\\\\n        rating\\\\n        ratingAverage\\\\n        shop {{\\\\n          shopId: id\\\\n          name\\\\n          url\\\\n          city\\\\n          isOfficial\\\\n          isPowerBadge\\\\n          __typename\\\\n        }}\\\\n        url\\\\n        wishlist\\\\n        sourceEngine: source_engine\\\\n        __typename\\\\n      }}\\\\n      violation {{\\\\n        headerText\\\\n        descriptionText\\\\n        imageURL\\\\n        ctaURL\\\\n        ctaApplink\\\\n        buttonText\\\\n        buttonType\\\\n        __typename\\\\n      }}\\\\n      __typename\\\\n    }}\\\\n    __typename\\\\n  }}\\\\n}}\\\\n\"}}]'\n",
    "    \n",
    "response = requests.post(url_target, headers=header, data=init_query)\n",
    "\n",
    "#Jika ingin scrape seluruh data, maka buka remark yang ini\n",
    "#jumlah_data = response.json()[0]['data']['ace_search_product_v4']['header']['totalData']\n",
    "#jumlah_page = math.ceil(jumlah_data/60) + 1\n",
    "\n",
    "#Data yang di scrape hanya sebanyak 5 halaman(page saja), sejumlah 5 halaman x 60 data per halaman\n",
    "jumlah_page = 5\n",
    "jumlah_data = jumlah_page * 60\n",
    "    \n",
    "print(jumlah_data, jumlah_page)"
   ]
  },
  {
   "cell_type": "code",
   "execution_count": null,
   "metadata": {},
   "outputs": [],
   "source": [
    "def cek_jumlah_data(kata_kunci):\n",
    "    init_query = f'[{{\"operationName\":\"SearchProductQueryV4\",\"variables\":{{\"params\":\"device=desktop&navsource=&ob=23&page=1&q={kata_kunci}&related=true&rows=60&safe_search=false&scheme=https&shipping=&source=search&srp_component_id=01.07.00.00&srp_page_id=&srp_page_title=&st=product&start=0&topads_bucket=true&unique_id=1fdabea77fbaf5f1954bdbc40d4a9337&user_addressId=113228966&user_cityId=171&user_districtId=2233&user_id=7773903&user_lat=-6.377643399999999&user_long=106.7621449&user_postCode=16516&user_warehouseId=0&variants=\"}},\"query\":\"query SearchProductQueryV4($params: String!) {{\\\\n  ace_search_product_v4(params: $params) {{\\\\n    header {{\\\\n      totalData\\\\n      totalDataText\\\\n      processTime\\\\n      responseCode\\\\n      errorMessage\\\\n      additionalParams\\\\n      keywordProcess\\\\n      componentId\\\\n      __typename\\\\n    }}\\\\n    data {{\\\\n      banner {{\\\\n        position\\\\n        text\\\\n        imageUrl\\\\n        url\\\\n        componentId\\\\n        trackingOption\\\\n        __typename\\\\n      }}\\\\n      backendFilters\\\\n      isQuerySafe\\\\n      ticker {{\\\\n        text\\\\n        query\\\\n        typeId\\\\n        componentId\\\\n        trackingOption\\\\n        __typename\\\\n      }}\\\\n      redirection {{\\\\n        redirectUrl\\\\n        departmentId\\\\n        __typename\\\\n      }}\\\\n      related {{\\\\n        position\\\\n        trackingOption\\\\n        relatedKeyword\\\\n        otherRelated {{\\\\n          keyword\\\\n          url\\\\n          product {{\\\\n            id\\\\n            name\\\\n            price\\\\n            imageUrl\\\\n            rating\\\\n            countReview\\\\n            url\\\\n            priceStr\\\\n            wishlist\\\\n            shop {{\\\\n              city\\\\n              isOfficial\\\\n              isPowerBadge\\\\n              __typename\\\\n            }}\\\\n            ads {{\\\\n              adsId: id\\\\n              productClickUrl\\\\n              productWishlistUrl\\\\n              shopClickUrl\\\\n              productViewUrl\\\\n              __typename\\\\n            }}\\\\n            badges {{\\\\n              title\\\\n              imageUrl\\\\n              show\\\\n              __typename\\\\n            }}\\\\n            ratingAverage\\\\n            labelGroups {{\\\\n              position\\\\n              type\\\\n              title\\\\n              url\\\\n              __typename\\\\n            }}\\\\n            componentId\\\\n            __typename\\\\n          }}\\\\n          componentId\\\\n          __typename\\\\n        }}\\\\n        __typename\\\\n      }}\\\\n      suggestion {{\\\\n        currentKeyword\\\\n        suggestion\\\\n        suggestionCount\\\\n        instead\\\\n        insteadCount\\\\n        query\\\\n        text\\\\n        componentId\\\\n        trackingOption\\\\n        __typename\\\\n      }}\\\\n      products {{\\\\n        id\\\\n        name\\\\n        ads {{\\\\n          adsId: id\\\\n          productClickUrl\\\\n          productWishlistUrl\\\\n          productViewUrl\\\\n          __typename\\\\n        }}\\\\n        badges {{\\\\n          title\\\\n          imageUrl\\\\n          show\\\\n          __typename\\\\n        }}\\\\n        category: departmentId\\\\n        categoryBreadcrumb\\\\n        categoryId\\\\n        categoryName\\\\n        countReview\\\\n        customVideoURL\\\\n        discountPercentage\\\\n        gaKey\\\\n        imageUrl\\\\n        labelGroups {{\\\\n          position\\\\n          title\\\\n          type\\\\n          url\\\\n          __typename\\\\n        }}\\\\n        originalPrice\\\\n        price\\\\n        priceRange\\\\n        rating\\\\n        ratingAverage\\\\n        shop {{\\\\n          shopId: id\\\\n          name\\\\n          url\\\\n          city\\\\n          isOfficial\\\\n          isPowerBadge\\\\n          __typename\\\\n        }}\\\\n        url\\\\n        wishlist\\\\n        sourceEngine: source_engine\\\\n        __typename\\\\n      }}\\\\n      violation {{\\\\n        headerText\\\\n        descriptionText\\\\n        imageURL\\\\n        ctaURL\\\\n        ctaApplink\\\\n        buttonText\\\\n        buttonType\\\\n        __typename\\\\n      }}\\\\n      __typename\\\\n    }}\\\\n    __typename\\\\n  }}\\\\n}}\\\\n\"}}]'\n",
    "    \n",
    "    response = requests.post(url_target, headers=header, data=init_query)\n",
    "\n",
    "    #Jika ingin scrape seluruh data, maka buka remark yang ini\n",
    "    #jumlah_data = response.json()[0]['data']['ace_search_product_v4']['header']['totalData']\n",
    "    #jumlah_page = math.ceil(jumlah_data/60) + 1\n",
    "\n",
    "    #Data yang di scrape hanya sebanyak 5 halaman(page saja), sejumlah 5 halaman x 60 data per halaman\n",
    "    jumlah_page = 5\n",
    "    jumlah_data = jumlah_page * 60\n",
    "    \n",
    "    return jumlah_data, jumlah_page"
   ]
  },
  {
   "cell_type": "code",
   "execution_count": null,
   "metadata": {},
   "outputs": [],
   "source": [
    "def scrape_tokeped(kata_kunci):\n",
    "    print(\"Mulai scrape data ke tokopedia....\")\n",
    "    jml_data, jml_page = cek_jumlah_data(kata_kunci)\n",
    "    hasil = []\n",
    "    for page, data in zip(range(1, jml_page), range(0, jml_data, 60)):\n",
    "        print(page)\n",
    "        query = f'[{{\"operationName\":\"SearchProductQueryV4\",\"variables\":{{\"params\":\"device=desktop&navsource=&ob=23&page={page}&q={kata_kunci}&related=true&rows=60&safe_search=false&scheme=https&shipping=&source=search&srp_component_id=01.07.00.00&srp_page_id=&srp_page_title=&st=product&start={data}&topads_bucket=true&unique_id=3220fd80a9a96a8eb398771a986004aa&user_addressId=&user_cityId=176&user_districtId=2274&user_id=&user_lat=&user_long=&user_postCode=&user_warehouseId=12210375&variants=\"}},\"query\":\"query SearchProductQueryV4($params: String!) {{\\\\n  ace_search_product_v4(params: $params) {{\\\\n    header {{\\\\n      totalData\\\\n      totalDataText\\\\n      processTime\\\\n      responseCode\\\\n      errorMessage\\\\n      additionalParams\\\\n      keywordProcess\\\\n      componentId\\\\n      __typename\\\\n    }}\\\\n    data {{\\\\n      banner {{\\\\n        position\\\\n        text\\\\n        imageUrl\\\\n        url\\\\n        componentId\\\\n        trackingOption\\\\n        __typename\\\\n      }}\\\\n      backendFilters\\\\n      isQuerySafe\\\\n      ticker {{\\\\n        text\\\\n        query\\\\n        typeId\\\\n        componentId\\\\n        trackingOption\\\\n        __typename\\\\n      }}\\\\n      redirection {{\\\\n        redirectUrl\\\\n        departmentId\\\\n        __typename\\\\n      }}\\\\n      related {{\\\\n        position\\\\n        trackingOption\\\\n        relatedKeyword\\\\n        otherRelated {{\\\\n          keyword\\\\n          url\\\\n          product {{\\\\n            id\\\\n            name\\\\n            price\\\\n            imageUrl\\\\n            rating\\\\n            countReview\\\\n            url\\\\n            priceStr\\\\n            wishlist\\\\n            shop {{\\\\n              city\\\\n              isOfficial\\\\n              isPowerBadge\\\\n              __typename\\\\n            }}\\\\n            ads {{\\\\n              adsId: id\\\\n              productClickUrl\\\\n              productWishlistUrl\\\\n              shopClickUrl\\\\n              productViewUrl\\\\n              __typename\\\\n            }}\\\\n            badges {{\\\\n              title\\\\n              imageUrl\\\\n              show\\\\n              __typename\\\\n            }}\\\\n            ratingAverage\\\\n            labelGroups {{\\\\n              position\\\\n              type\\\\n              title\\\\n              url\\\\n              __typename\\\\n            }}\\\\n            componentId\\\\n            __typename\\\\n          }}\\\\n          componentId\\\\n          __typename\\\\n        }}\\\\n        __typename\\\\n      }}\\\\n      suggestion {{\\\\n        currentKeyword\\\\n        suggestion\\\\n        suggestionCount\\\\n        instead\\\\n        insteadCount\\\\n        query\\\\n        text\\\\n        componentId\\\\n        trackingOption\\\\n        __typename\\\\n      }}\\\\n      products {{\\\\n        id\\\\n        name\\\\n        ads {{\\\\n          adsId: id\\\\n          productClickUrl\\\\n          productWishlistUrl\\\\n          productViewUrl\\\\n          __typename\\\\n        }}\\\\n        badges {{\\\\n          title\\\\n          imageUrl\\\\n          show\\\\n          __typename\\\\n        }}\\\\n        category: departmentId\\\\n        categoryBreadcrumb\\\\n        categoryId\\\\n        categoryName\\\\n        countReview\\\\n        customVideoURL\\\\n        discountPercentage\\\\n        gaKey\\\\n        imageUrl\\\\n        labelGroups {{\\\\n          position\\\\n          title\\\\n          type\\\\n          url\\\\n          __typename\\\\n        }}\\\\n        originalPrice\\\\n        price\\\\n        priceRange\\\\n        rating\\\\n        ratingAverage\\\\n        shop {{\\\\n          shopId: id\\\\n          name\\\\n          url\\\\n          city\\\\n          isOfficial\\\\n          isPowerBadge\\\\n          __typename\\\\n        }}\\\\n        url\\\\n        wishlist\\\\n        sourceEngine: source_engine\\\\n        __typename\\\\n      }}\\\\n      violation {{\\\\n        headerText\\\\n        descriptionText\\\\n        imageURL\\\\n        ctaURL\\\\n        ctaApplink\\\\n        buttonText\\\\n        buttonType\\\\n        __typename\\\\n      }}\\\\n      __typename\\\\n    }}\\\\n    __typename\\\\n  }}\\\\n}}\\\\n\"}}]'\n",
    "        response = requests.post(url_target, headers=header, data=query)\n",
    "        products = response.json()[0]['data']['ace_search_product_v4']['data']['products']\n",
    "        hasil.extend(products)\n",
    "    \n",
    "    dtFrame = pd.DataFrame.from_dict(hasil)\n",
    "    dtFrame.to_csv('data_tokped_2.csv', encoding='utf-8')\n",
    "    print(\"Selesai ...\")"
   ]
  },
  {
   "cell_type": "code",
   "execution_count": null,
   "metadata": {},
   "outputs": [
    {
     "name": "stdout",
     "output_type": "stream",
     "text": [
      "Mulai scrape data ke tokopedia....\n",
      "1\n",
      "2\n",
      "3\n",
      "4\n",
      "Selesai ...\n"
     ]
    }
   ],
   "source": [
    "keyword = \"laptop asus vivobook\"\n",
    "scrape_tokeped(keyword)"
   ]
  }
 ],
 "metadata": {
  "kernelspec": {
   "display_name": "Python 3",
   "language": "python",
   "name": "python3"
  },
  "language_info": {
   "codemirror_mode": {
    "name": "ipython",
    "version": 3
   },
   "file_extension": ".py",
   "mimetype": "text/x-python",
   "name": "python",
   "nbconvert_exporter": "python",
   "pygments_lexer": "ipython3",
   "version": "3.10.6"
  },
  "orig_nbformat": 4
 },
 "nbformat": 4,
 "nbformat_minor": 2
}
