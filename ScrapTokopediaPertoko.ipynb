{
 "cells": [
  {
   "cell_type": "code",
   "execution_count": 1,
   "metadata": {},
   "outputs": [],
   "source": [
    "import requests\n",
    "import pandas as pd\n",
    "\n",
    "url =  'https://gql.tokopedia.com/graphql/ShopProducts'\n"
   ]
  },
  {
   "cell_type": "code",
   "execution_count": 3,
   "metadata": {},
   "outputs": [
    {
     "name": "stdout",
     "output_type": "stream",
     "text": [
      "Mulai scrape data ke tokopedia....\n"
     ]
    }
   ],
   "source": [
    "\n",
    "header = {'authority': 'gql.tokopedia.com',\n",
    "    'accept': '*/*',\n",
    "    'accept-language': 'en-US,en;q=0.9',\n",
    "    'content-type': 'application/json',\n",
    "    'cookie': 'DID=781b1543ec567a30ff95ce3513ff9345fb47b2d34ead064472582b9bcfe9fe84505b34b135c1908fe3a0de592d9a16bf; DID_JS=NzgxYjE1NDNlYzU2N2EzMGZmOTVjZTM1MTNmZjkzNDVmYjQ3YjJkMzRlYWQwNjQ0NzI1ODJiOWJjZmU5ZmU4NDUwNWIzNGIxMzVjMTkwOGZlM2EwZGU1OTJkOWExNmJm47DEQpj8HBSa+/TImW+5JCeuQeRkm5NMpJWZG3hSuFU=; _UUID_NONLOGIN_=d72f66c759117e84fc70fae054c98e92; _gcl_au=1.1.2044317359.1673830976; _UUID_CAS_=93d8967b-7404-4c4c-b2b9-858b32c3ac10; _CASE_=7e27614c61273f373732312927644c61273f352927696769273f274f646e64777164255570766471272927664c61273f3432332927696a6b62273f27272927696471273f2727292775466a273f27272927724c61273f34373734353632302927764c61273f3434303635303236292776517c7560273f27376d272927726d76273f275e7e5927726477606d6a7076605a6c6159273f3437373435363230295927766077736c66605a717c756059273f5927376d59272959275a5a717c75606b64686059273f5927526477606d6a70766076592778297e5927726477606d6a7076605a6c6159273f35295927766077736c66605a717c756059273f592734306859272959275a5a717c75606b64686059273f5927526477606d6a707660765927785827292769507561273f273735373628353428343351353d3f35373f30302e35323f35352778; __auc=96483b00185b821bacbb1bef7e8; _fbp=fb.1.1673831496781.893027838; hfv_banner=true; _SID_Tokopedia_=g3WK1O6grMlv3U1mL9Q_I76ocYXMjAkB5FJ065wDiGc_TLQLm8Hrmg0_RXy00WnZ3EZhTmWzVACATgYP2gxUZBkmZHQoseLjwZ7rdrSYWPsTRG1bn0c3qwueVb1maDH3; _gid=GA1.2.1380388596.1674195534; _gcl_aw=GCL.1674207492.Cj0KCQiAlKmeBhCkARIsAHy7WVs3Knsr2s0iQMUL751fafk3PMYGmOIRZmNand1k0buKMd2T0h8pTnIaAn3REALw_wcB; _gac_UA-126956641-6=1.1674207492.Cj0KCQiAlKmeBhCkARIsAHy7WVs3Knsr2s0iQMUL751fafk3PMYGmOIRZmNand1k0buKMd2T0h8pTnIaAn3REALw_wcB; _gac_UA-9801603-1=1.1674207513.Cj0KCQiAlKmeBhCkARIsAHy7WVs3Knsr2s0iQMUL751fafk3PMYGmOIRZmNand1k0buKMd2T0h8pTnIaAn3REALw_wcB; bm_mi=B02459B4B31D15D198F0E441983A7A1D~YAAQBHFidkhj/8KFAQAA4BiMzhKHSTbf62uk2zVKNABpsiFpqDb4QUIfcM3DrR4dXsSCuCQWGPQf9Pa2Gvc5EoQVNnSb7ugSE5LIPqq43UiR+qDowRPNrLGOh59sYKcwhO8voGKpO9Hj26VZQjvBC+adcv4jGz2flLdxetUqDO/S7IPD0nwEFmEftr6ulIH0B9FNhrSzY8BKubmFLyuQZ9YeltQ3nH1pd0ZKbW8eO7L5dtYda8KqkwCdxy7zqOdKtQaxUpqaZKF0Esnl/n6IQSklAB3iCMoPzl9YNDm6iEQx2eKY8B/zuJAAYv1d9Gwi2g==~1; bm_sz=8B73CC98AF28277251926C3FCE42919D~YAAQb3FidrscCLqFAQAA0qvnzhJRoAwK9teV7fck4jh+BKfDVzUQ8SpeUuRQsQvCDrUlBFuFAflImIa634dO+J0K7uaaK5qx+3SyG2Qzm2bzO0oySTw63mH/y+ns15vWfH51CWaDC3AugZQbKBL+mmzHrLD7gMDEME3unA0rexaZYcZ7++jNoTVvOQtBPtNcR7qclV3jYwTE7u1m0MLG8PjwHP0UxnYbLNXjBVAn2p5XR8TZ9Y+mZRYhD+LC6mB9uTeTy3DSWrMlwFVXoFQUtZpy/Ajm8xuVGtYgEOJT4wRajG9d55M=~3421752~4408630; ak_bmsc=CE69865FEEFE7F1C8559D910D9CEFBD6~000000000000000000000000000000~YAAQb3FidsccCLqFAQAA467nzhJJD4dOyvOx2fml75tacJeFD+TBvxpQmFSYe8czCI6ZB+tuS11vRAgpRfp41Qnkirs1w++A9KXBag0Vq3bdKaT1eRCWETzzL1PmmMRoHGFClwr/HfBu3KgrEHRG3IvYDIKKfeNSm8PC380nVvJxIliCZQiXUy90O7nwRInbTLkZLnEDCOuqBG4cjON/YqH33IsXMUvl8+/PUy4yNQNu+CFVDPXHjqqLeEhvjnt0pjzzkYKbCg2pH1jK8MaXcdBMN+vmnWcvNDpk8XZkdS5+tMtENXom2S7nI986jEckVcgXRVEpgU3+dT9xuQvBcLBWfBbYexvOURvue66onJ0IwrrGjuPeVnE8Ieti078zVvERLUHiPXaPKWJ1k78GleU12A9IODM5tt1mHB6smOnQgROHzKs4dhOuSLSxlfDOUWz/IGVw+nCtrBrEwrXiXz/Md6o4sRCm95suY0SlCfzFRiERp8Gt9gRUqxvYapjB3atppiaA/TgzXtBmr1y7eQ==; __asc=a3f06f5a185cee922b11cbbe608; _dc_gtm_UA-126956641-6=1; _dc_gtm_UA-9801603-1=1; _ga_70947XW48P=GS1.1.1674213570.4.1.1674213761.60.0.0; AMP_TOKEN=%24NOT_FOUND; _ga=GA1.2.1633748412.1673830976; _abck=9EF9E4D13674E3900B1458C0CB03743A~0~YAAQR3FidkOoVM2FAQAAy6HqzgklXJqEMVItimneJkPGL82BZKsr3WvRIj3c3wwD5KUTjn2RnWyDL+XYMLQj++IJ62SgX7O93oBMpr05M7KvEyt5OoeSMiVt/56Ro6LVgjlMt7FsvhdVHFW/5XatxQtm1m++KVTuLbAsXwj5QxoZYXPSalODJWSWzpqBDdOx0zw58EZpPzwEBySwFG96NGXDxmqYVwC7WjEphhAzWdmfyhthpZEB3bH/DT90axW5ZmMu874HfjTJ+iDcXedh/ncbHuYDVhvRkYTsv0fnHRl/uGRQtJhvLJujZBzgv8sPXZ9Pf8uVZ7fYbDf7ER8Qhd/W5YiyjusGBVk6NQeJi7lgSSo0mNm6O2q4vGX+6Iy4zI3WwB/B6dX3dCAQhFU00fX0jG1EtehdYYb2~-1~-1~-1',\n",
    "    'origin': 'https://www.tokopedia.com',\n",
    "    'referer': 'https://www.tokopedia.com/acerstoreofficial',\n",
    "    'sec-ch-ua': '\"Not_A Brand\";v=\"99\", \"Google Chrome\";v=\"109\", \"Chromium\";v=\"109\"',\n",
    "    'sec-ch-ua-mobile': '?0',\n",
    "    'sec-ch-ua-platform': '\"Windows\"',\n",
    "    'sec-fetch-dest': 'empty',\n",
    "    'sec-fetch-mode': 'cors',\n",
    "    'sec-fetch-site': 'same-site',\n",
    "    'user-agent': 'Mozilla/5.0 (Windows NT 10.0; Win64; x64) AppleWebKit/537.36 (KHTML, like Gecko) Chrome/109.0.0.0 Safari/537.36',\n",
    "    'x-device': 'default_v3',\n",
    "    'x-source': 'tokopedia-lite',\n",
    "    'x-tkpd-lite-service': 'zeus',\n",
    "    'x-version': '0f2fb51'}\n",
    "\n",
    "query = f'[{{\"operationName\":\"ShopProducts\",\"variables\":{{\"sid\":\"2667888\",\"page\":1,\"perPage\":80,\"etalaseId\":\"etalase\",\"sort\":1,\"user_districtId\":\"2274\",\"user_cityId\":\"176\",\"user_lat\":\"\",\"user_long\":\"\"}},\"query\":\"query ShopProducts($sid: String\\u0021, $page: Int, $perPage: Int, $keyword: String, $etalaseId: String, $sort: Int, $user_districtId: String, $user_cityId: String, $user_lat: String, $user_long: String) {{\\\\n  GetShopProduct(shopID: $sid, filter: {{page: $page, perPage: $perPage, fkeyword: $keyword, fmenu: $etalaseId, sort: $sort, user_districtId: $user_districtId, user_cityId: $user_cityId, user_lat: $user_lat, user_long: $user_long}}) {{\\\\n    status\\\\n    errors\\\\n    links {{\\\\n      prev\\\\n      next\\\\n      __typename\\\\n    }}\\\\n    data {{\\\\n      name\\\\n      product_url\\\\n      product_id\\\\n      price {{\\\\n        text_idr\\\\n        __typename\\\\n      }}\\\\n      primary_image {{\\\\n        original\\\\n        thumbnail\\\\n        resize300\\\\n        __typename\\\\n      }}\\\\n      flags {{\\\\n        isSold\\\\n        isPreorder\\\\n        isWholesale\\\\n        isWishlist\\\\n        __typename\\\\n      }}\\\\n      campaign {{\\\\n        discounted_percentage\\\\n        original_price_fmt\\\\n        start_date\\\\n        end_date\\\\n        __typename\\\\n      }}\\\\n      label {{\\\\n        color_hex\\\\n        content\\\\n        __typename\\\\n      }}\\\\n      label_groups {{\\\\n        position\\\\n        title\\\\n        type\\\\n        url\\\\n        __typename\\\\n      }}\\\\n      badge {{\\\\n        title\\\\n        image_url\\\\n        __typename\\\\n      }}\\\\n      stats {{\\\\n        reviewCount\\\\n        rating\\\\n        __typename\\\\n      }}\\\\n      category {{\\\\n        id\\\\n        __typename\\\\n      }}\\\\n      __typename\\\\n    }}\\\\n    __typename\\\\n  }}\\\\n}}\\\\n\"}}]'\n",
    "\n",
    "print('Mulai scrape data ke tokopedia....')\n",
    "response = requests.post(url=url, headers=header, data=query)\n",
    "\n",
    "hasil = []\n"
   ]
  },
  {
   "cell_type": "code",
   "execution_count": 13,
   "metadata": {},
   "outputs": [],
   "source": [
    "\n",
    "for data in requests.post(url=url, headers=header,data=query).json()[0]['data']['GetShopProduct']['data']:\n",
    "\n",
    "        nama = data['name']\n",
    "        badge = data['badge'][0]['title']\n",
    "        product_id = data['product_id']\n",
    "        product_url = data['product_url']\n",
    "        harga = data['price']['text_idr']\n",
    "        gambar = data['primary_image']['original']\n",
    "        diskon = data['campaign']['discounted_percentage']\n",
    "        original_price = data['campaign']['original_price_fmt']\n",
    "        stats_review=data['stats']['reviewCount']\n",
    "        # stats_review_rating=data['stats']['rating']\n",
    "        # label_produk=data['label_groups'][0]['title']\n",
    "\n",
    "\n",
    "        hasil.append({\n",
    "                'id':product_id,\n",
    "                'nama': nama,\n",
    "                'badge':badge,\n",
    "                'link':product_url,\n",
    "                'harga': harga,\n",
    "                'diskon': diskon,\n",
    "                'harga_asli':original_price,\n",
    "                'gambar': gambar,\n",
    "                'review_count':stats_review,\n",
    "                # 'review_avg':stats_review_rating,\n",
    "\n",
    "                # 'label':label_produk,\n",
    "        })\n",
    "\n"
   ]
  },
  {
   "cell_type": "code",
   "execution_count": 14,
   "metadata": {},
   "outputs": [],
   "source": [
    "df = pd.DataFrame(hasil)"
   ]
  },
  {
   "cell_type": "code",
   "execution_count": 15,
   "metadata": {},
   "outputs": [
    {
     "data": {
      "text/html": [
       "<div>\n",
       "<style scoped>\n",
       "    .dataframe tbody tr th:only-of-type {\n",
       "        vertical-align: middle;\n",
       "    }\n",
       "\n",
       "    .dataframe tbody tr th {\n",
       "        vertical-align: top;\n",
       "    }\n",
       "\n",
       "    .dataframe thead th {\n",
       "        text-align: right;\n",
       "    }\n",
       "</style>\n",
       "<table border=\"1\" class=\"dataframe\">\n",
       "  <thead>\n",
       "    <tr style=\"text-align: right;\">\n",
       "      <th></th>\n",
       "      <th>id</th>\n",
       "      <th>nama</th>\n",
       "      <th>badge</th>\n",
       "      <th>link</th>\n",
       "      <th>harga</th>\n",
       "      <th>diskon</th>\n",
       "      <th>harga_asli</th>\n",
       "      <th>gambar</th>\n",
       "      <th>review_count</th>\n",
       "      <th>review_avg</th>\n",
       "    </tr>\n",
       "  </thead>\n",
       "  <tbody>\n",
       "    <tr>\n",
       "      <th>0</th>\n",
       "      <td>11499632131</td>\n",
       "      <td>ACER ASPIRE 7 A715-76G-53GV 15.6\" i5-12450H 8G...</td>\n",
       "      <td>Official Store</td>\n",
       "      <td>https://www.tokopedia.com/acerstoreofficial/ac...</td>\n",
       "      <td>Rp 10.499.000</td>\n",
       "      <td>20</td>\n",
       "      <td>Rp 13.199.000</td>\n",
       "      <td>https://images.tokopedia.net/img/cache/300-squ...</td>\n",
       "      <td>0</td>\n",
       "      <td>NaN</td>\n",
       "    </tr>\n",
       "    <tr>\n",
       "      <th>1</th>\n",
       "      <td>11499312878</td>\n",
       "      <td>ACER ASPIRE 3 SPIN 14 A3SP14-31PT-35GN 14 INTE...</td>\n",
       "      <td>Official Store</td>\n",
       "      <td>https://www.tokopedia.com/acerstoreofficial/ac...</td>\n",
       "      <td>Rp 8.499.000</td>\n",
       "      <td>17</td>\n",
       "      <td>Rp 10.199.000</td>\n",
       "      <td>https://images.tokopedia.net/img/cache/300-squ...</td>\n",
       "      <td>0</td>\n",
       "      <td>NaN</td>\n",
       "    </tr>\n",
       "    <tr>\n",
       "      <th>2</th>\n",
       "      <td>11477149887</td>\n",
       "      <td>ACER LAPTOP ASPIRE 3 A314-36P-P3ET 14FHD INTEL...</td>\n",
       "      <td>Official Store</td>\n",
       "      <td>https://www.tokopedia.com/acerstoreofficial/ac...</td>\n",
       "      <td>Rp 5.399.000</td>\n",
       "      <td>17</td>\n",
       "      <td>Rp 6.479.000</td>\n",
       "      <td>https://images.tokopedia.net/img/cache/300-squ...</td>\n",
       "      <td>0</td>\n",
       "      <td>NaN</td>\n",
       "    </tr>\n",
       "    <tr>\n",
       "      <th>3</th>\n",
       "      <td>11419840118</td>\n",
       "      <td>ACER LAPTOP NITRO 5 AN515-58-710Q 15.6 I7-1265...</td>\n",
       "      <td>Official Store</td>\n",
       "      <td>https://www.tokopedia.com/acerstoreofficial/ac...</td>\n",
       "      <td>Rp 20.499.000</td>\n",
       "      <td>9</td>\n",
       "      <td>Rp 22.499.000</td>\n",
       "      <td>https://images.tokopedia.net/img/cache/300-squ...</td>\n",
       "      <td>0</td>\n",
       "      <td>NaN</td>\n",
       "    </tr>\n",
       "    <tr>\n",
       "      <th>4</th>\n",
       "      <td>11419663520</td>\n",
       "      <td>ACER LAPTOP NITRO 5 AN515-58-70LA 15.6 I7-1265...</td>\n",
       "      <td>Official Store</td>\n",
       "      <td>https://www.tokopedia.com/acerstoreofficial/ac...</td>\n",
       "      <td>Rp 18.499.000</td>\n",
       "      <td>10</td>\n",
       "      <td>Rp 20.499.000</td>\n",
       "      <td>https://images.tokopedia.net/img/cache/300-squ...</td>\n",
       "      <td>0</td>\n",
       "      <td>NaN</td>\n",
       "    </tr>\n",
       "  </tbody>\n",
       "</table>\n",
       "</div>"
      ],
      "text/plain": [
       "            id                                               nama  \\\n",
       "0  11499632131  ACER ASPIRE 7 A715-76G-53GV 15.6\" i5-12450H 8G...   \n",
       "1  11499312878  ACER ASPIRE 3 SPIN 14 A3SP14-31PT-35GN 14 INTE...   \n",
       "2  11477149887  ACER LAPTOP ASPIRE 3 A314-36P-P3ET 14FHD INTEL...   \n",
       "3  11419840118  ACER LAPTOP NITRO 5 AN515-58-710Q 15.6 I7-1265...   \n",
       "4  11419663520  ACER LAPTOP NITRO 5 AN515-58-70LA 15.6 I7-1265...   \n",
       "\n",
       "            badge                                               link  \\\n",
       "0  Official Store  https://www.tokopedia.com/acerstoreofficial/ac...   \n",
       "1  Official Store  https://www.tokopedia.com/acerstoreofficial/ac...   \n",
       "2  Official Store  https://www.tokopedia.com/acerstoreofficial/ac...   \n",
       "3  Official Store  https://www.tokopedia.com/acerstoreofficial/ac...   \n",
       "4  Official Store  https://www.tokopedia.com/acerstoreofficial/ac...   \n",
       "\n",
       "           harga diskon     harga_asli  \\\n",
       "0  Rp 10.499.000     20  Rp 13.199.000   \n",
       "1   Rp 8.499.000     17  Rp 10.199.000   \n",
       "2   Rp 5.399.000     17   Rp 6.479.000   \n",
       "3  Rp 20.499.000      9  Rp 22.499.000   \n",
       "4  Rp 18.499.000     10  Rp 20.499.000   \n",
       "\n",
       "                                              gambar  review_count  review_avg  \n",
       "0  https://images.tokopedia.net/img/cache/300-squ...             0         NaN  \n",
       "1  https://images.tokopedia.net/img/cache/300-squ...             0         NaN  \n",
       "2  https://images.tokopedia.net/img/cache/300-squ...             0         NaN  \n",
       "3  https://images.tokopedia.net/img/cache/300-squ...             0         NaN  \n",
       "4  https://images.tokopedia.net/img/cache/300-squ...             0         NaN  "
      ]
     },
     "execution_count": 15,
     "metadata": {},
     "output_type": "execute_result"
    }
   ],
   "source": [
    "df.head()"
   ]
  },
  {
   "cell_type": "code",
   "execution_count": 16,
   "metadata": {},
   "outputs": [
    {
     "name": "stdout",
     "output_type": "stream",
     "text": [
      "Selesai Menyimpan data csv.....\n"
     ]
    }
   ],
   "source": [
    "df.to_csv('data_toko_acer.csv', encoding='utf-8')\n",
    "print('Selesai Menyimpan data csv.....')"
   ]
  },
  {
   "cell_type": "code",
   "execution_count": null,
   "metadata": {},
   "outputs": [],
   "source": [
    "import pandas as pd\n",
    "import matplotlib.pyplot as plt\n",
    "\n",
    "df = pd.read_csv('data_toko_acer.csv')\n",
    "plt.rcParams[\"figure.autolayout\"] = True\n",
    "fig, ax = plt.subplots()\n",
    "df['harga'].value_counts().sort_values(ascending=True).tail(10).plot(ax = ax, kind=\"barh\")\n",
    "plt.title(\"Re"
   ]
  }
 ],
 "metadata": {
  "kernelspec": {
   "display_name": "Python 3",
   "language": "python",
   "name": "python3"
  },
  "language_info": {
   "codemirror_mode": {
    "name": "ipython",
    "version": 3
   },
   "file_extension": ".py",
   "mimetype": "text/x-python",
   "name": "python",
   "nbconvert_exporter": "python",
   "pygments_lexer": "ipython3",
   "version": "3.11.4"
  },
  "orig_nbformat": 4
 },
 "nbformat": 4,
 "nbformat_minor": 2
}
