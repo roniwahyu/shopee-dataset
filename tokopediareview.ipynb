{
 "cells": [
  {
   "cell_type": "code",
   "execution_count": 150,
   "metadata": {},
   "outputs": [],
   "source": [
    "\n",
    "import pandas as pd\n",
    "import time"
   ]
  },
  {
   "cell_type": "code",
   "execution_count": 151,
   "metadata": {},
   "outputs": [],
   "source": [
    "from selenium import webdriver\n",
    "from selenium.webdriver.chrome.options import Options\n",
    "from selenium.webdriver.common.action_chains import ActionChains\n",
    "from selenium.webdriver.support.ui import WebDriverWait\n",
    "from selenium.webdriver.common.by import By\n",
    "from selenium.webdriver.support import expected_conditions as EC"
   ]
  },
  {
   "cell_type": "code",
   "execution_count": 34,
   "metadata": {},
   "outputs": [],
   "source": [
    "# options= webdriver.FirefoxOptions()\n",
    "# options.add_argument(\"--headless\")  # Run the browser in headless mode\n",
    "\n",
    "# Create a new instance of the Firefox driver\n",
    "# driver = webdriver.Firefox(options=options)"
   ]
  },
  {
   "cell_type": "code",
   "execution_count": 152,
   "metadata": {},
   "outputs": [],
   "source": [
    "# from selenium import webdriver\n",
    "\n",
    "\n",
    "chrome_options = webdriver.ChromeOptions()\n",
    "chrome_options.add_argument(\"--headless\")\n",
    "\n",
    "driver = webdriver.Chrome(chrome_options)"
   ]
  },
  {
   "cell_type": "code",
   "execution_count": 189,
   "metadata": {},
   "outputs": [],
   "source": [
    "\n",
    "\n",
    "def chrome_driver_headless():\n",
    "    try:\n",
    "        # chrome_options = Options()\n",
    "        # chrome_options.add_argument(\"--headless\")\n",
    "\n",
    "        # PATH = 'chromedriver.exe'\n",
    "        # driver = webdriver.Chrome(PATH, options = chrome_options)\n",
    "        chrome_options = webdriver.ChromeOptions()\n",
    "        chrome_options.add_argument(\"--headless\")\n",
    "\n",
    "        driver = webdriver.Chrome(chrome_options)\n",
    "        return driver\n",
    "    except:\n",
    "        print(\"Please check your chrome driver version\")\n",
    "    \n",
    "def chrome_driver():\n",
    "    # PATH = 'chromedriver.exe'\n",
    "    chrome_options=webdriver.ChromeOptions()\n",
    "    # chrome_options=Options()\n",
    "    # C:\\Users\\LENOVO\\AppData\\Local\\Google\\Chrome\\User Data\\Profile 11\n",
    "    # options.add_argument(\"user-data-dir=C:\\\\Users\\\\AtechM_03\\\\AppData\\\\Local\\\\Google\\\\Chrome\\\\User Data\\\\Default\")\n",
    "    # chrome_options.add_argument(\"user-data-dir=C:\\\\Users\\\\LENOVO\\\\AppData\\\\Local\\\\Google\\\\Chrome\\\\User Data\\\\Profile 11\")\n",
    "    chrome_options.add_argument(\"user-data-dir=C:\\\\Users\\\\LENOVO\\\\AppData\\\\Local\\\\Google\\\\Chrome\\\\User Data\")\n",
    "    chrome_options.add_argument(\"profile-directory=Profile 11\")\n",
    "\n",
    "    driver = webdriver.Chrome(chrome_options)\n",
    "    return driver\n"
   ]
  },
  {
   "cell_type": "code",
   "execution_count": 190,
   "metadata": {},
   "outputs": [],
   "source": [
    "url='https://www.tokopedia.com/asus/asus-vivobook-a416mao-fhd425-transparent-silver'\n",
    "# url='https://www.tokopedia.com/p/komputer-laptop/laptop/notebook'"
   ]
  },
  {
   "cell_type": "code",
   "execution_count": 191,
   "metadata": {},
   "outputs": [
    {
     "ename": "WebDriverException",
     "evalue": "Message: unknown error: Chrome failed to start: exited normally.\n  (unknown error: DevToolsActivePort file doesn't exist)\n  (The process started from chrome location C:\\Users\\LENOVO\\AppData\\Local\\Google\\Chrome\\Application\\chrome.exe is no longer running, so ChromeDriver is assuming that Chrome has crashed.)\nStacktrace:\n\tGetHandleVerifier [0x00007FF7CE7A52A2+57122]\n\t(No symbol) [0x00007FF7CE71EA92]\n\t(No symbol) [0x00007FF7CE5EE3AB]\n\t(No symbol) [0x00007FF7CE616B1F]\n\t(No symbol) [0x00007FF7CE612FE1]\n\t(No symbol) [0x00007FF7CE64EA4F]\n\t(No symbol) [0x00007FF7CE64E5B0]\n\t(No symbol) [0x00007FF7CE646DB3]\n\t(No symbol) [0x00007FF7CE61D2B1]\n\t(No symbol) [0x00007FF7CE61E494]\n\tGetHandleVerifier [0x00007FF7CEA4EF82+2849794]\n\tGetHandleVerifier [0x00007FF7CEAA1D24+3189156]\n\tGetHandleVerifier [0x00007FF7CEA9ACAF+3160367]\n\tGetHandleVerifier [0x00007FF7CE836D06+653702]\n\t(No symbol) [0x00007FF7CE72A208]\n\t(No symbol) [0x00007FF7CE7262C4]\n\t(No symbol) [0x00007FF7CE7263F6]\n\t(No symbol) [0x00007FF7CE7167A3]\n\tBaseThreadInitThunk [0x00007FFB6231257D+29]\n\tRtlUserThreadStart [0x00007FFB63F2AA68+40]\n",
     "output_type": "error",
     "traceback": [
      "\u001b[1;31m---------------------------------------------------------------------------\u001b[0m",
      "\u001b[1;31mWebDriverException\u001b[0m                        Traceback (most recent call last)",
      "Cell \u001b[1;32mIn[191], line 1\u001b[0m\n\u001b[1;32m----> 1\u001b[0m driver\u001b[39m=\u001b[39mchrome_driver()\n\u001b[0;32m      2\u001b[0m driver\u001b[39m.\u001b[39mget(url)\n",
      "Cell \u001b[1;32mIn[189], line 26\u001b[0m, in \u001b[0;36mchrome_driver\u001b[1;34m()\u001b[0m\n\u001b[0;32m     23\u001b[0m chrome_options\u001b[39m.\u001b[39madd_argument(\u001b[39m\"\u001b[39m\u001b[39muser-data-dir=C:\u001b[39m\u001b[39m\\\\\u001b[39;00m\u001b[39mUsers\u001b[39m\u001b[39m\\\\\u001b[39;00m\u001b[39mLENOVO\u001b[39m\u001b[39m\\\\\u001b[39;00m\u001b[39mAppData\u001b[39m\u001b[39m\\\\\u001b[39;00m\u001b[39mLocal\u001b[39m\u001b[39m\\\\\u001b[39;00m\u001b[39mGoogle\u001b[39m\u001b[39m\\\\\u001b[39;00m\u001b[39mChrome\u001b[39m\u001b[39m\\\\\u001b[39;00m\u001b[39mUser Data\u001b[39m\u001b[39m\"\u001b[39m)\n\u001b[0;32m     24\u001b[0m chrome_options\u001b[39m.\u001b[39madd_argument(\u001b[39m\"\u001b[39m\u001b[39mprofile-directory=Profile 11\u001b[39m\u001b[39m\"\u001b[39m)\n\u001b[1;32m---> 26\u001b[0m driver \u001b[39m=\u001b[39m webdriver\u001b[39m.\u001b[39;49mChrome(chrome_options)\n\u001b[0;32m     27\u001b[0m \u001b[39mreturn\u001b[39;00m driver\n",
      "File \u001b[1;32mc:\\Python311\\Lib\\site-packages\\selenium\\webdriver\\chrome\\webdriver.py:49\u001b[0m, in \u001b[0;36mWebDriver.__init__\u001b[1;34m(self, options, service, keep_alive)\u001b[0m\n\u001b[0;32m     45\u001b[0m \u001b[39mself\u001b[39m\u001b[39m.\u001b[39mkeep_alive \u001b[39m=\u001b[39m keep_alive\n\u001b[0;32m     47\u001b[0m \u001b[39mself\u001b[39m\u001b[39m.\u001b[39mservice\u001b[39m.\u001b[39mpath \u001b[39m=\u001b[39m DriverFinder\u001b[39m.\u001b[39mget_path(\u001b[39mself\u001b[39m\u001b[39m.\u001b[39mservice, \u001b[39mself\u001b[39m\u001b[39m.\u001b[39moptions)\n\u001b[1;32m---> 49\u001b[0m \u001b[39msuper\u001b[39;49m()\u001b[39m.\u001b[39;49m\u001b[39m__init__\u001b[39;49m(\n\u001b[0;32m     50\u001b[0m     DesiredCapabilities\u001b[39m.\u001b[39;49mCHROME[\u001b[39m\"\u001b[39;49m\u001b[39mbrowserName\u001b[39;49m\u001b[39m\"\u001b[39;49m],\n\u001b[0;32m     51\u001b[0m     \u001b[39m\"\u001b[39;49m\u001b[39mgoog\u001b[39;49m\u001b[39m\"\u001b[39;49m,\n\u001b[0;32m     52\u001b[0m     \u001b[39mself\u001b[39;49m\u001b[39m.\u001b[39;49moptions,\n\u001b[0;32m     53\u001b[0m     \u001b[39mself\u001b[39;49m\u001b[39m.\u001b[39;49mservice,\n\u001b[0;32m     54\u001b[0m     \u001b[39mself\u001b[39;49m\u001b[39m.\u001b[39;49mkeep_alive,\n\u001b[0;32m     55\u001b[0m )\n",
      "File \u001b[1;32mc:\\Python311\\Lib\\site-packages\\selenium\\webdriver\\chromium\\webdriver.py:54\u001b[0m, in \u001b[0;36mChromiumDriver.__init__\u001b[1;34m(self, browser_name, vendor_prefix, options, service, keep_alive)\u001b[0m\n\u001b[0;32m     51\u001b[0m \u001b[39mself\u001b[39m\u001b[39m.\u001b[39mservice\u001b[39m.\u001b[39mstart()\n\u001b[0;32m     53\u001b[0m \u001b[39mtry\u001b[39;00m:\n\u001b[1;32m---> 54\u001b[0m     \u001b[39msuper\u001b[39;49m()\u001b[39m.\u001b[39;49m\u001b[39m__init__\u001b[39;49m(\n\u001b[0;32m     55\u001b[0m         command_executor\u001b[39m=\u001b[39;49mChromiumRemoteConnection(\n\u001b[0;32m     56\u001b[0m             remote_server_addr\u001b[39m=\u001b[39;49m\u001b[39mself\u001b[39;49m\u001b[39m.\u001b[39;49mservice\u001b[39m.\u001b[39;49mservice_url,\n\u001b[0;32m     57\u001b[0m             browser_name\u001b[39m=\u001b[39;49mbrowser_name,\n\u001b[0;32m     58\u001b[0m             vendor_prefix\u001b[39m=\u001b[39;49mvendor_prefix,\n\u001b[0;32m     59\u001b[0m             keep_alive\u001b[39m=\u001b[39;49mkeep_alive,\n\u001b[0;32m     60\u001b[0m             ignore_proxy\u001b[39m=\u001b[39;49m\u001b[39mself\u001b[39;49m\u001b[39m.\u001b[39;49moptions\u001b[39m.\u001b[39;49m_ignore_local_proxy,\n\u001b[0;32m     61\u001b[0m         ),\n\u001b[0;32m     62\u001b[0m         options\u001b[39m=\u001b[39;49m\u001b[39mself\u001b[39;49m\u001b[39m.\u001b[39;49moptions,\n\u001b[0;32m     63\u001b[0m     )\n\u001b[0;32m     64\u001b[0m \u001b[39mexcept\u001b[39;00m \u001b[39mException\u001b[39;00m:\n\u001b[0;32m     65\u001b[0m     \u001b[39mself\u001b[39m\u001b[39m.\u001b[39mquit()\n",
      "File \u001b[1;32mc:\\Python311\\Lib\\site-packages\\selenium\\webdriver\\remote\\webdriver.py:206\u001b[0m, in \u001b[0;36mWebDriver.__init__\u001b[1;34m(self, command_executor, keep_alive, file_detector, options)\u001b[0m\n\u001b[0;32m    204\u001b[0m \u001b[39mself\u001b[39m\u001b[39m.\u001b[39m_authenticator_id \u001b[39m=\u001b[39m \u001b[39mNone\u001b[39;00m\n\u001b[0;32m    205\u001b[0m \u001b[39mself\u001b[39m\u001b[39m.\u001b[39mstart_client()\n\u001b[1;32m--> 206\u001b[0m \u001b[39mself\u001b[39;49m\u001b[39m.\u001b[39;49mstart_session(capabilities)\n",
      "File \u001b[1;32mc:\\Python311\\Lib\\site-packages\\selenium\\webdriver\\remote\\webdriver.py:291\u001b[0m, in \u001b[0;36mWebDriver.start_session\u001b[1;34m(self, capabilities)\u001b[0m\n\u001b[0;32m    283\u001b[0m \u001b[39m\u001b[39m\u001b[39m\"\"\"Creates a new session with the desired capabilities.\u001b[39;00m\n\u001b[0;32m    284\u001b[0m \n\u001b[0;32m    285\u001b[0m \u001b[39m:Args:\u001b[39;00m\n\u001b[0;32m    286\u001b[0m \u001b[39m - capabilities - a capabilities dict to start the session with.\u001b[39;00m\n\u001b[0;32m    287\u001b[0m \u001b[39m - browser_profile - A selenium.webdriver.firefox.firefox_profile.FirefoxProfile object. Only used if Firefox is requested.\u001b[39;00m\n\u001b[0;32m    288\u001b[0m \u001b[39m\"\"\"\u001b[39;00m\n\u001b[0;32m    290\u001b[0m caps \u001b[39m=\u001b[39m _create_caps(capabilities)\n\u001b[1;32m--> 291\u001b[0m response \u001b[39m=\u001b[39m \u001b[39mself\u001b[39;49m\u001b[39m.\u001b[39;49mexecute(Command\u001b[39m.\u001b[39;49mNEW_SESSION, caps)[\u001b[39m\"\u001b[39m\u001b[39mvalue\u001b[39m\u001b[39m\"\u001b[39m]\n\u001b[0;32m    292\u001b[0m \u001b[39mself\u001b[39m\u001b[39m.\u001b[39msession_id \u001b[39m=\u001b[39m response\u001b[39m.\u001b[39mget(\u001b[39m\"\u001b[39m\u001b[39msessionId\u001b[39m\u001b[39m\"\u001b[39m)\n\u001b[0;32m    293\u001b[0m \u001b[39mself\u001b[39m\u001b[39m.\u001b[39mcaps \u001b[39m=\u001b[39m response\u001b[39m.\u001b[39mget(\u001b[39m\"\u001b[39m\u001b[39mcapabilities\u001b[39m\u001b[39m\"\u001b[39m)\n",
      "File \u001b[1;32mc:\\Python311\\Lib\\site-packages\\selenium\\webdriver\\remote\\webdriver.py:346\u001b[0m, in \u001b[0;36mWebDriver.execute\u001b[1;34m(self, driver_command, params)\u001b[0m\n\u001b[0;32m    344\u001b[0m response \u001b[39m=\u001b[39m \u001b[39mself\u001b[39m\u001b[39m.\u001b[39mcommand_executor\u001b[39m.\u001b[39mexecute(driver_command, params)\n\u001b[0;32m    345\u001b[0m \u001b[39mif\u001b[39;00m response:\n\u001b[1;32m--> 346\u001b[0m     \u001b[39mself\u001b[39;49m\u001b[39m.\u001b[39;49merror_handler\u001b[39m.\u001b[39;49mcheck_response(response)\n\u001b[0;32m    347\u001b[0m     response[\u001b[39m\"\u001b[39m\u001b[39mvalue\u001b[39m\u001b[39m\"\u001b[39m] \u001b[39m=\u001b[39m \u001b[39mself\u001b[39m\u001b[39m.\u001b[39m_unwrap_value(response\u001b[39m.\u001b[39mget(\u001b[39m\"\u001b[39m\u001b[39mvalue\u001b[39m\u001b[39m\"\u001b[39m, \u001b[39mNone\u001b[39;00m))\n\u001b[0;32m    348\u001b[0m     \u001b[39mreturn\u001b[39;00m response\n",
      "File \u001b[1;32mc:\\Python311\\Lib\\site-packages\\selenium\\webdriver\\remote\\errorhandler.py:245\u001b[0m, in \u001b[0;36mErrorHandler.check_response\u001b[1;34m(self, response)\u001b[0m\n\u001b[0;32m    243\u001b[0m         alert_text \u001b[39m=\u001b[39m value[\u001b[39m\"\u001b[39m\u001b[39malert\u001b[39m\u001b[39m\"\u001b[39m]\u001b[39m.\u001b[39mget(\u001b[39m\"\u001b[39m\u001b[39mtext\u001b[39m\u001b[39m\"\u001b[39m)\n\u001b[0;32m    244\u001b[0m     \u001b[39mraise\u001b[39;00m exception_class(message, screen, stacktrace, alert_text)  \u001b[39m# type: ignore[call-arg]  # mypy is not smart enough here\u001b[39;00m\n\u001b[1;32m--> 245\u001b[0m \u001b[39mraise\u001b[39;00m exception_class(message, screen, stacktrace)\n",
      "\u001b[1;31mWebDriverException\u001b[0m: Message: unknown error: Chrome failed to start: exited normally.\n  (unknown error: DevToolsActivePort file doesn't exist)\n  (The process started from chrome location C:\\Users\\LENOVO\\AppData\\Local\\Google\\Chrome\\Application\\chrome.exe is no longer running, so ChromeDriver is assuming that Chrome has crashed.)\nStacktrace:\n\tGetHandleVerifier [0x00007FF7CE7A52A2+57122]\n\t(No symbol) [0x00007FF7CE71EA92]\n\t(No symbol) [0x00007FF7CE5EE3AB]\n\t(No symbol) [0x00007FF7CE616B1F]\n\t(No symbol) [0x00007FF7CE612FE1]\n\t(No symbol) [0x00007FF7CE64EA4F]\n\t(No symbol) [0x00007FF7CE64E5B0]\n\t(No symbol) [0x00007FF7CE646DB3]\n\t(No symbol) [0x00007FF7CE61D2B1]\n\t(No symbol) [0x00007FF7CE61E494]\n\tGetHandleVerifier [0x00007FF7CEA4EF82+2849794]\n\tGetHandleVerifier [0x00007FF7CEAA1D24+3189156]\n\tGetHandleVerifier [0x00007FF7CEA9ACAF+3160367]\n\tGetHandleVerifier [0x00007FF7CE836D06+653702]\n\t(No symbol) [0x00007FF7CE72A208]\n\t(No symbol) [0x00007FF7CE7262C4]\n\t(No symbol) [0x00007FF7CE7263F6]\n\t(No symbol) [0x00007FF7CE7167A3]\n\tBaseThreadInitThunk [0x00007FFB6231257D+29]\n\tRtlUserThreadStart [0x00007FFB63F2AA68+40]\n"
     ]
    }
   ],
   "source": [
    "driver=chrome_driver()\n",
    "driver.get(url)"
   ]
  },
  {
   "cell_type": "code",
   "execution_count": 99,
   "metadata": {},
   "outputs": [],
   "source": [
    "# driver.get('https://www.thewhiskyexchange.com/')\n",
    "# ActionChains(driver).move_to_element(WebDriverWait(driver, 20).until(EC.visibility_of_element_located((By.XPATH, \"//a[@title='Scotch Whisky']\")))).perform()\n",
    "# driver.save_screenshot('./Scotch_Whisky.png')\n",
    "# driver.quit()"
   ]
  },
  {
   "cell_type": "code",
   "execution_count": 156,
   "metadata": {},
   "outputs": [],
   "source": [
    "# Khusus Web Scraping untuk Halaman Produk\n",
    "path = '//*[@id=\"pdp_comp-product_content\"]/div/h1'\n",
    "element = driver.find_element('xpath',path)\n",
    "title = element.text"
   ]
  },
  {
   "cell_type": "code",
   "execution_count": 157,
   "metadata": {},
   "outputs": [
    {
     "name": "stdout",
     "output_type": "stream",
     "text": [
      "ASUS VivoBook A416MAO-FHD425 - Transparent Silver\n"
     ]
    }
   ],
   "source": [
    "print(title)"
   ]
  },
  {
   "cell_type": "code",
   "execution_count": 149,
   "metadata": {},
   "outputs": [
    {
     "ename": "InvalidSelectorException",
     "evalue": "Message: invalid selector: Unable to locate an element with the xpath expression //div[@id='pdp_comp-review']//[@id='review-feed'] because of the following error:\nSyntaxError: Failed to execute 'evaluate' on 'Document': The string '//div[@id='pdp_comp-review']//[@id='review-feed']' is not a valid XPath expression.\n  (Session info: chrome=116.0.5845.141); For documentation on this error, please visit: https://www.selenium.dev/documentation/webdriver/troubleshooting/errors#invalid-selector-exception\nStacktrace:\n\tGetHandleVerifier [0x00007FF7CE7A52A2+57122]\n\t(No symbol) [0x00007FF7CE71EA92]\n\t(No symbol) [0x00007FF7CE5EE3AB]\n\t(No symbol) [0x00007FF7CE5F2382]\n\t(No symbol) [0x00007FF7CE5F3D2F]\n\t(No symbol) [0x00007FF7CE5F3E20]\n\t(No symbol) [0x00007FF7CE6279B1]\n\t(No symbol) [0x00007FF7CE627E2C]\n\t(No symbol) [0x00007FF7CE660B67]\n\t(No symbol) [0x00007FF7CE64701F]\n\t(No symbol) [0x00007FF7CE65EB82]\n\t(No symbol) [0x00007FF7CE646DB3]\n\t(No symbol) [0x00007FF7CE61D2B1]\n\t(No symbol) [0x00007FF7CE61E494]\n\tGetHandleVerifier [0x00007FF7CEA4EF82+2849794]\n\tGetHandleVerifier [0x00007FF7CEAA1D24+3189156]\n\tGetHandleVerifier [0x00007FF7CEA9ACAF+3160367]\n\tGetHandleVerifier [0x00007FF7CE836D06+653702]\n\t(No symbol) [0x00007FF7CE72A208]\n\t(No symbol) [0x00007FF7CE7262C4]\n\t(No symbol) [0x00007FF7CE7263F6]\n\t(No symbol) [0x00007FF7CE7167A3]\n\tBaseThreadInitThunk [0x00007FFB6231257D+29]\n\tRtlUserThreadStart [0x00007FFB63F2AA68+40]\n",
     "output_type": "error",
     "traceback": [
      "\u001b[1;31m---------------------------------------------------------------------------\u001b[0m",
      "\u001b[1;31mInvalidSelectorException\u001b[0m                  Traceback (most recent call last)",
      "Cell \u001b[1;32mIn[149], line 5\u001b[0m\n\u001b[0;32m      1\u001b[0m \u001b[39m# path2 = '//*[@id=\"pdp_comp-review\"]/div[15]/div/div/button[10]'\u001b[39;00m\n\u001b[0;32m      2\u001b[0m \u001b[39m# path2 = '//*[@id=\"pdp_comp-review\"]//div[4]//div/div'\u001b[39;00m\n\u001b[0;32m      3\u001b[0m \u001b[39m# path2 =\"//div[@id='pdp_comp-review']\"\u001b[39;00m\n\u001b[0;32m      4\u001b[0m path2\u001b[39m=\u001b[39m\u001b[39m\"\u001b[39m\u001b[39m//div[@id=\u001b[39m\u001b[39m'\u001b[39m\u001b[39mpdp_comp-review\u001b[39m\u001b[39m'\u001b[39m\u001b[39m]//[@id=\u001b[39m\u001b[39m'\u001b[39m\u001b[39mreview-feed\u001b[39m\u001b[39m'\u001b[39m\u001b[39m]\u001b[39m\u001b[39m\"\u001b[39m\n\u001b[1;32m----> 5\u001b[0m element \u001b[39m=\u001b[39m driver\u001b[39m.\u001b[39;49mfind_element(\u001b[39m'\u001b[39;49m\u001b[39mxpath\u001b[39;49m\u001b[39m'\u001b[39;49m,path2)\n\u001b[0;32m      6\u001b[0m text \u001b[39m=\u001b[39m \u001b[39mstr\u001b[39m(element\u001b[39m.\u001b[39mtext)\n\u001b[0;32m      7\u001b[0m \u001b[39mprint\u001b[39m(text)\n",
      "File \u001b[1;32mc:\\Python311\\Lib\\site-packages\\selenium\\webdriver\\remote\\webdriver.py:740\u001b[0m, in \u001b[0;36mfind_element\u001b[1;34m(self, by, value)\u001b[0m\n\u001b[0;32m    736\u001b[0m         value \u001b[39m=\u001b[39m \u001b[39mf\u001b[39m\u001b[39m'\u001b[39m\u001b[39m[name=\u001b[39m\u001b[39m\"\u001b[39m\u001b[39m{\u001b[39;00mvalue\u001b[39m}\u001b[39;00m\u001b[39m\"\u001b[39m\u001b[39m]\u001b[39m\u001b[39m'\u001b[39m\n\u001b[0;32m    738\u001b[0m     \u001b[39mreturn\u001b[39;00m \u001b[39mself\u001b[39m\u001b[39m.\u001b[39mexecute(Command\u001b[39m.\u001b[39mFIND_ELEMENT, {\u001b[39m\"\u001b[39m\u001b[39musing\u001b[39m\u001b[39m\"\u001b[39m: by, \u001b[39m\"\u001b[39m\u001b[39mvalue\u001b[39m\u001b[39m\"\u001b[39m: value})[\u001b[39m\"\u001b[39m\u001b[39mvalue\u001b[39m\u001b[39m\"\u001b[39m]\n\u001b[1;32m--> 740\u001b[0m \u001b[39mdef\u001b[39;00m \u001b[39mfind_elements\u001b[39m(\u001b[39mself\u001b[39m, by\u001b[39m=\u001b[39mBy\u001b[39m.\u001b[39mID, value: Optional[\u001b[39mstr\u001b[39m] \u001b[39m=\u001b[39m \u001b[39mNone\u001b[39;00m) \u001b[39m-\u001b[39m\u001b[39m>\u001b[39m List[WebElement]:\n\u001b[0;32m    741\u001b[0m \u001b[39m    \u001b[39m\u001b[39m\"\"\"Find elements given a By strategy and locator.\u001b[39;00m\n\u001b[0;32m    742\u001b[0m \n\u001b[0;32m    743\u001b[0m \u001b[39m    :Usage:\u001b[39;00m\n\u001b[1;32m   (...)\u001b[0m\n\u001b[0;32m    748\u001b[0m \u001b[39m    :rtype: list of WebElement\u001b[39;00m\n\u001b[0;32m    749\u001b[0m \u001b[39m    \"\"\"\u001b[39;00m\n\u001b[0;32m    750\u001b[0m     \u001b[39mif\u001b[39;00m \u001b[39misinstance\u001b[39m(by, RelativeBy):\n",
      "File \u001b[1;32mc:\\Python311\\Lib\\site-packages\\selenium\\webdriver\\remote\\webdriver.py:346\u001b[0m, in \u001b[0;36mWebDriver.execute\u001b[1;34m(self, driver_command, params)\u001b[0m\n\u001b[0;32m    344\u001b[0m response \u001b[39m=\u001b[39m \u001b[39mself\u001b[39m\u001b[39m.\u001b[39mcommand_executor\u001b[39m.\u001b[39mexecute(driver_command, params)\n\u001b[0;32m    345\u001b[0m \u001b[39mif\u001b[39;00m response:\n\u001b[1;32m--> 346\u001b[0m     \u001b[39mself\u001b[39;49m\u001b[39m.\u001b[39;49merror_handler\u001b[39m.\u001b[39;49mcheck_response(response)\n\u001b[0;32m    347\u001b[0m     response[\u001b[39m\"\u001b[39m\u001b[39mvalue\u001b[39m\u001b[39m\"\u001b[39m] \u001b[39m=\u001b[39m \u001b[39mself\u001b[39m\u001b[39m.\u001b[39m_unwrap_value(response\u001b[39m.\u001b[39mget(\u001b[39m\"\u001b[39m\u001b[39mvalue\u001b[39m\u001b[39m\"\u001b[39m, \u001b[39mNone\u001b[39;00m))\n\u001b[0;32m    348\u001b[0m     \u001b[39mreturn\u001b[39;00m response\n",
      "File \u001b[1;32mc:\\Python311\\Lib\\site-packages\\selenium\\webdriver\\remote\\errorhandler.py:245\u001b[0m, in \u001b[0;36mErrorHandler.check_response\u001b[1;34m(self, response)\u001b[0m\n\u001b[0;32m    243\u001b[0m         alert_text \u001b[39m=\u001b[39m value[\u001b[39m\"\u001b[39m\u001b[39malert\u001b[39m\u001b[39m\"\u001b[39m]\u001b[39m.\u001b[39mget(\u001b[39m\"\u001b[39m\u001b[39mtext\u001b[39m\u001b[39m\"\u001b[39m)\n\u001b[0;32m    244\u001b[0m     \u001b[39mraise\u001b[39;00m exception_class(message, screen, stacktrace, alert_text)  \u001b[39m# type: ignore[call-arg]  # mypy is not smart enough here\u001b[39;00m\n\u001b[1;32m--> 245\u001b[0m \u001b[39mraise\u001b[39;00m exception_class(message, screen, stacktrace)\n",
      "\u001b[1;31mInvalidSelectorException\u001b[0m: Message: invalid selector: Unable to locate an element with the xpath expression //div[@id='pdp_comp-review']//[@id='review-feed'] because of the following error:\nSyntaxError: Failed to execute 'evaluate' on 'Document': The string '//div[@id='pdp_comp-review']//[@id='review-feed']' is not a valid XPath expression.\n  (Session info: chrome=116.0.5845.141); For documentation on this error, please visit: https://www.selenium.dev/documentation/webdriver/troubleshooting/errors#invalid-selector-exception\nStacktrace:\n\tGetHandleVerifier [0x00007FF7CE7A52A2+57122]\n\t(No symbol) [0x00007FF7CE71EA92]\n\t(No symbol) [0x00007FF7CE5EE3AB]\n\t(No symbol) [0x00007FF7CE5F2382]\n\t(No symbol) [0x00007FF7CE5F3D2F]\n\t(No symbol) [0x00007FF7CE5F3E20]\n\t(No symbol) [0x00007FF7CE6279B1]\n\t(No symbol) [0x00007FF7CE627E2C]\n\t(No symbol) [0x00007FF7CE660B67]\n\t(No symbol) [0x00007FF7CE64701F]\n\t(No symbol) [0x00007FF7CE65EB82]\n\t(No symbol) [0x00007FF7CE646DB3]\n\t(No symbol) [0x00007FF7CE61D2B1]\n\t(No symbol) [0x00007FF7CE61E494]\n\tGetHandleVerifier [0x00007FF7CEA4EF82+2849794]\n\tGetHandleVerifier [0x00007FF7CEAA1D24+3189156]\n\tGetHandleVerifier [0x00007FF7CEA9ACAF+3160367]\n\tGetHandleVerifier [0x00007FF7CE836D06+653702]\n\t(No symbol) [0x00007FF7CE72A208]\n\t(No symbol) [0x00007FF7CE7262C4]\n\t(No symbol) [0x00007FF7CE7263F6]\n\t(No symbol) [0x00007FF7CE7167A3]\n\tBaseThreadInitThunk [0x00007FFB6231257D+29]\n\tRtlUserThreadStart [0x00007FFB63F2AA68+40]\n"
     ]
    }
   ],
   "source": [
    "# path2 = '//*[@id=\"pdp_comp-review\"]/div[15]/div/div/button[10]'\n",
    "# path2 = '//*[@id=\"pdp_comp-review\"]//div[4]//div/div'\n",
    "# path2 =\"//div[@id='pdp_comp-review']\"\n",
    "path2=\"//div[@id='pdp_comp-review']//[@id='review-feed']\"\n",
    "element = driver.find_element('xpath',path2)\n",
    "text = str(element.text)\n",
    "print(text)"
   ]
  },
  {
   "cell_type": "code",
   "execution_count": 84,
   "metadata": {},
   "outputs": [
    {
     "ename": "NoSuchElementException",
     "evalue": "Message: no such element: Unable to locate element: {\"method\":\"xpath\",\"selector\":\"//*[@id=\"pdp_comp-review\"]/h2[4]\"}\n  (Session info: chrome=116.0.5845.141); For documentation on this error, please visit: https://www.selenium.dev/documentation/webdriver/troubleshooting/errors#no-such-element-exception\nStacktrace:\n\tGetHandleVerifier [0x00007FF7CE7A52A2+57122]\n\t(No symbol) [0x00007FF7CE71EA92]\n\t(No symbol) [0x00007FF7CE5EE3AB]\n\t(No symbol) [0x00007FF7CE627D3E]\n\t(No symbol) [0x00007FF7CE627E2C]\n\t(No symbol) [0x00007FF7CE660B67]\n\t(No symbol) [0x00007FF7CE64701F]\n\t(No symbol) [0x00007FF7CE65EB82]\n\t(No symbol) [0x00007FF7CE646DB3]\n\t(No symbol) [0x00007FF7CE61D2B1]\n\t(No symbol) [0x00007FF7CE61E494]\n\tGetHandleVerifier [0x00007FF7CEA4EF82+2849794]\n\tGetHandleVerifier [0x00007FF7CEAA1D24+3189156]\n\tGetHandleVerifier [0x00007FF7CEA9ACAF+3160367]\n\tGetHandleVerifier [0x00007FF7CE836D06+653702]\n\t(No symbol) [0x00007FF7CE72A208]\n\t(No symbol) [0x00007FF7CE7262C4]\n\t(No symbol) [0x00007FF7CE7263F6]\n\t(No symbol) [0x00007FF7CE7167A3]\n\tBaseThreadInitThunk [0x00007FFB6231257D+29]\n\tRtlUserThreadStart [0x00007FFB63F2AA68+40]\n",
     "output_type": "error",
     "traceback": [
      "\u001b[1;31m---------------------------------------------------------------------------\u001b[0m",
      "\u001b[1;31mNoSuchElementException\u001b[0m                    Traceback (most recent call last)",
      "Cell \u001b[1;32mIn[84], line 2\u001b[0m\n\u001b[0;32m      1\u001b[0m path \u001b[39m=\u001b[39m \u001b[39m'\u001b[39m\u001b[39m//*[@id=\u001b[39m\u001b[39m\"\u001b[39m\u001b[39mpdp_comp-review\u001b[39m\u001b[39m\"\u001b[39m\u001b[39m]/h2[4]\u001b[39m\u001b[39m'\u001b[39m\n\u001b[1;32m----> 2\u001b[0m element \u001b[39m=\u001b[39m driver\u001b[39m.\u001b[39;49mfind_element(\u001b[39m'\u001b[39;49m\u001b[39mxpath\u001b[39;49m\u001b[39m'\u001b[39;49m,path)\n\u001b[0;32m      3\u001b[0m text \u001b[39m=\u001b[39m \u001b[39mstr\u001b[39m(element\u001b[39m.\u001b[39mtext)\n\u001b[0;32m      4\u001b[0m num \u001b[39m=\u001b[39m text\u001b[39m.\u001b[39msplit()[\u001b[39m-\u001b[39m\u001b[39m1\u001b[39m]\n",
      "File \u001b[1;32mc:\\Python311\\Lib\\site-packages\\selenium\\webdriver\\remote\\webdriver.py:740\u001b[0m, in \u001b[0;36mfind_element\u001b[1;34m(self, by, value)\u001b[0m\n\u001b[0;32m    736\u001b[0m         value \u001b[39m=\u001b[39m \u001b[39mf\u001b[39m\u001b[39m'\u001b[39m\u001b[39m[name=\u001b[39m\u001b[39m\"\u001b[39m\u001b[39m{\u001b[39;00mvalue\u001b[39m}\u001b[39;00m\u001b[39m\"\u001b[39m\u001b[39m]\u001b[39m\u001b[39m'\u001b[39m\n\u001b[0;32m    738\u001b[0m     \u001b[39mreturn\u001b[39;00m \u001b[39mself\u001b[39m\u001b[39m.\u001b[39mexecute(Command\u001b[39m.\u001b[39mFIND_ELEMENT, {\u001b[39m\"\u001b[39m\u001b[39musing\u001b[39m\u001b[39m\"\u001b[39m: by, \u001b[39m\"\u001b[39m\u001b[39mvalue\u001b[39m\u001b[39m\"\u001b[39m: value})[\u001b[39m\"\u001b[39m\u001b[39mvalue\u001b[39m\u001b[39m\"\u001b[39m]\n\u001b[1;32m--> 740\u001b[0m \u001b[39mdef\u001b[39;00m \u001b[39mfind_elements\u001b[39m(\u001b[39mself\u001b[39m, by\u001b[39m=\u001b[39mBy\u001b[39m.\u001b[39mID, value: Optional[\u001b[39mstr\u001b[39m] \u001b[39m=\u001b[39m \u001b[39mNone\u001b[39;00m) \u001b[39m-\u001b[39m\u001b[39m>\u001b[39m List[WebElement]:\n\u001b[0;32m    741\u001b[0m \u001b[39m    \u001b[39m\u001b[39m\"\"\"Find elements given a By strategy and locator.\u001b[39;00m\n\u001b[0;32m    742\u001b[0m \n\u001b[0;32m    743\u001b[0m \u001b[39m    :Usage:\u001b[39;00m\n\u001b[1;32m   (...)\u001b[0m\n\u001b[0;32m    748\u001b[0m \u001b[39m    :rtype: list of WebElement\u001b[39;00m\n\u001b[0;32m    749\u001b[0m \u001b[39m    \"\"\"\u001b[39;00m\n\u001b[0;32m    750\u001b[0m     \u001b[39mif\u001b[39;00m \u001b[39misinstance\u001b[39m(by, RelativeBy):\n",
      "File \u001b[1;32mc:\\Python311\\Lib\\site-packages\\selenium\\webdriver\\remote\\webdriver.py:346\u001b[0m, in \u001b[0;36mWebDriver.execute\u001b[1;34m(self, driver_command, params)\u001b[0m\n\u001b[0;32m    344\u001b[0m response \u001b[39m=\u001b[39m \u001b[39mself\u001b[39m\u001b[39m.\u001b[39mcommand_executor\u001b[39m.\u001b[39mexecute(driver_command, params)\n\u001b[0;32m    345\u001b[0m \u001b[39mif\u001b[39;00m response:\n\u001b[1;32m--> 346\u001b[0m     \u001b[39mself\u001b[39;49m\u001b[39m.\u001b[39;49merror_handler\u001b[39m.\u001b[39;49mcheck_response(response)\n\u001b[0;32m    347\u001b[0m     response[\u001b[39m\"\u001b[39m\u001b[39mvalue\u001b[39m\u001b[39m\"\u001b[39m] \u001b[39m=\u001b[39m \u001b[39mself\u001b[39m\u001b[39m.\u001b[39m_unwrap_value(response\u001b[39m.\u001b[39mget(\u001b[39m\"\u001b[39m\u001b[39mvalue\u001b[39m\u001b[39m\"\u001b[39m, \u001b[39mNone\u001b[39;00m))\n\u001b[0;32m    348\u001b[0m     \u001b[39mreturn\u001b[39;00m response\n",
      "File \u001b[1;32mc:\\Python311\\Lib\\site-packages\\selenium\\webdriver\\remote\\errorhandler.py:245\u001b[0m, in \u001b[0;36mErrorHandler.check_response\u001b[1;34m(self, response)\u001b[0m\n\u001b[0;32m    243\u001b[0m         alert_text \u001b[39m=\u001b[39m value[\u001b[39m\"\u001b[39m\u001b[39malert\u001b[39m\u001b[39m\"\u001b[39m]\u001b[39m.\u001b[39mget(\u001b[39m\"\u001b[39m\u001b[39mtext\u001b[39m\u001b[39m\"\u001b[39m)\n\u001b[0;32m    244\u001b[0m     \u001b[39mraise\u001b[39;00m exception_class(message, screen, stacktrace, alert_text)  \u001b[39m# type: ignore[call-arg]  # mypy is not smart enough here\u001b[39;00m\n\u001b[1;32m--> 245\u001b[0m \u001b[39mraise\u001b[39;00m exception_class(message, screen, stacktrace)\n",
      "\u001b[1;31mNoSuchElementException\u001b[0m: Message: no such element: Unable to locate element: {\"method\":\"xpath\",\"selector\":\"//*[@id=\"pdp_comp-review\"]/h2[4]\"}\n  (Session info: chrome=116.0.5845.141); For documentation on this error, please visit: https://www.selenium.dev/documentation/webdriver/troubleshooting/errors#no-such-element-exception\nStacktrace:\n\tGetHandleVerifier [0x00007FF7CE7A52A2+57122]\n\t(No symbol) [0x00007FF7CE71EA92]\n\t(No symbol) [0x00007FF7CE5EE3AB]\n\t(No symbol) [0x00007FF7CE627D3E]\n\t(No symbol) [0x00007FF7CE627E2C]\n\t(No symbol) [0x00007FF7CE660B67]\n\t(No symbol) [0x00007FF7CE64701F]\n\t(No symbol) [0x00007FF7CE65EB82]\n\t(No symbol) [0x00007FF7CE646DB3]\n\t(No symbol) [0x00007FF7CE61D2B1]\n\t(No symbol) [0x00007FF7CE61E494]\n\tGetHandleVerifier [0x00007FF7CEA4EF82+2849794]\n\tGetHandleVerifier [0x00007FF7CEAA1D24+3189156]\n\tGetHandleVerifier [0x00007FF7CEA9ACAF+3160367]\n\tGetHandleVerifier [0x00007FF7CE836D06+653702]\n\t(No symbol) [0x00007FF7CE72A208]\n\t(No symbol) [0x00007FF7CE7262C4]\n\t(No symbol) [0x00007FF7CE7263F6]\n\t(No symbol) [0x00007FF7CE7167A3]\n\tBaseThreadInitThunk [0x00007FFB6231257D+29]\n\tRtlUserThreadStart [0x00007FFB63F2AA68+40]\n"
     ]
    }
   ],
   "source": [
    "path = '//*[@id=\"pdp_comp-review\"]/h2[4]'\n",
    "element = driver.find_element('xpath',path)\n",
    "text = str(element.text)\n",
    "num = text.split()[-1]\n",
    "num = num.replace(\"(\",\"\")\n",
    "num = num.replace(\")\",\"\")"
   ]
  },
  {
   "cell_type": "code",
   "execution_count": null,
   "metadata": {},
   "outputs": [],
   "source": [
    "print(num)"
   ]
  },
  {
   "cell_type": "code",
   "execution_count": 76,
   "metadata": {},
   "outputs": [],
   "source": [
    "def open_link(driver, url):\n",
    "    driver.get(url)\n",
    "    driver.implicitly_wait(2)\n",
    "\n",
    "def slowly_scroll(driver,n):\n",
    "    y = 1000\n",
    "    for timer in range(0,n):\n",
    "         driver.execute_script(\"window.scrollTo(0, \"+str(y)+\")\")\n",
    "         y += 1000  \n",
    "         time.sleep(1)\n",
    "\n",
    "def close_link(driver):\n",
    "    driver.quit()\n",
    "\n",
    "def scrap_title():\n",
    "    path = '//*[@id=\"pdp_comp-product_content\"]/div/h1'\n",
    "    element = driver.find_element('xpath',path)\n",
    "    title = element.text\n",
    "    return title\n",
    "\n",
    "def total_review():\n",
    "    path = '//*[@id=\"pdp_comp-review\"]/h2[4]'\n",
    "    element = driver.find_element('xpath',path)\n",
    "    text = str(element.text)\n",
    "    num = text.split()[-1]\n",
    "    num = num.replace(\"(\",\"\")\n",
    "    num = num.replace(\")\",\"\")\n",
    "    return num\n",
    "\n",
    "def total_pages():\n",
    "    path = '//*[@id=\"pdp_comp-review\"]/div[15]/div/div/button[10]'\n",
    "    element = driver.find_element('xpath',path)\n",
    "    text = str(element.text)\n",
    "    return text\n",
    "\n",
    "def scrap_one_review(path):\n",
    "    element = driver.find_element('xpath',path)\n",
    "    text = str(element.text)\n",
    "    return text\n",
    "\n",
    "def scrap_review(array,n):\n",
    "    for i in range(n):\n",
    "        i += 5\n",
    "        review = scrap_one_review('//*[@id=\"pdp_comp-review\"]/div[' + str(i) + ']/div/div[2]/p/span')\n",
    "        array.append(review)\n",
    "\n",
    "def click_next(driver):\n",
    "    driver.implicitly_wait(5)\n",
    "    #path = '//*[@id=\"header-main-wrapper\"]/div[5]/nav/div/div[2]/div/div[2]'\n",
    "    path = '//*[@id=\"pdp_comp-review\"]/div[15]/div/div/button[11]'\n",
    "    driver.find_element('xpath',path).click()\n",
    "    driver.implicitly_wait(5)\n",
    "    print('click next')\n",
    "\n",
    "def click_ulasan(driver):\n",
    "    path = '//*[@id=\"header-main-wrapper\"]/div[5]/nav/div/div[2]/div/div[2]'\n",
    "    driver.find_element('xpath',path).click()\n",
    "    driver.implicitly_wait(5)\n"
   ]
  },
  {
   "cell_type": "code",
   "execution_count": 69,
   "metadata": {},
   "outputs": [],
   "source": [
    "\n",
    "    # driver = chrome_driver()\n",
    "open_link(driver, url)\n",
    "slowly_scroll(driver,12)\n",
    "time.sleep(6)\n",
    "    \n"
   ]
  },
  {
   "cell_type": "code",
   "execution_count": 78,
   "metadata": {},
   "outputs": [
    {
     "ename": "NoSuchElementException",
     "evalue": "Message: no such element: Unable to locate element: {\"method\":\"xpath\",\"selector\":\"//*[@id=\"pdp_comp-review\"]/h2[4]\"}\n  (Session info: chrome=116.0.5845.141); For documentation on this error, please visit: https://www.selenium.dev/documentation/webdriver/troubleshooting/errors#no-such-element-exception\nStacktrace:\n\tGetHandleVerifier [0x00007FF7CE7A52A2+57122]\n\t(No symbol) [0x00007FF7CE71EA92]\n\t(No symbol) [0x00007FF7CE5EE3AB]\n\t(No symbol) [0x00007FF7CE627D3E]\n\t(No symbol) [0x00007FF7CE627E2C]\n\t(No symbol) [0x00007FF7CE660B67]\n\t(No symbol) [0x00007FF7CE64701F]\n\t(No symbol) [0x00007FF7CE65EB82]\n\t(No symbol) [0x00007FF7CE646DB3]\n\t(No symbol) [0x00007FF7CE61D2B1]\n\t(No symbol) [0x00007FF7CE61E494]\n\tGetHandleVerifier [0x00007FF7CEA4EF82+2849794]\n\tGetHandleVerifier [0x00007FF7CEAA1D24+3189156]\n\tGetHandleVerifier [0x00007FF7CEA9ACAF+3160367]\n\tGetHandleVerifier [0x00007FF7CE836D06+653702]\n\t(No symbol) [0x00007FF7CE72A208]\n\t(No symbol) [0x00007FF7CE7262C4]\n\t(No symbol) [0x00007FF7CE7263F6]\n\t(No symbol) [0x00007FF7CE7167A3]\n\tBaseThreadInitThunk [0x00007FFB6231257D+29]\n\tRtlUserThreadStart [0x00007FFB63F2AA68+40]\n",
     "output_type": "error",
     "traceback": [
      "\u001b[1;31m---------------------------------------------------------------------------\u001b[0m",
      "\u001b[1;31mNoSuchElementException\u001b[0m                    Traceback (most recent call last)",
      "Cell \u001b[1;32mIn[78], line 3\u001b[0m\n\u001b[0;32m      1\u001b[0m \u001b[39m#scraping info\u001b[39;00m\n\u001b[0;32m      2\u001b[0m title \u001b[39m=\u001b[39m scrap_title()\n\u001b[1;32m----> 3\u001b[0m review_num \u001b[39m=\u001b[39m \u001b[39mint\u001b[39m(total_review())\n\u001b[0;32m      4\u001b[0m \u001b[39m# pages = total_pages()\u001b[39;00m\n\u001b[0;32m      5\u001b[0m     \n\u001b[0;32m      6\u001b[0m \u001b[39m#display scrap info\u001b[39;00m\n\u001b[0;32m      7\u001b[0m \u001b[39mprint\u001b[39m(\u001b[39m'\u001b[39m\u001b[39mProduct title: \u001b[39m\u001b[39m'\u001b[39m \u001b[39m+\u001b[39m \u001b[39mstr\u001b[39m(title))\n",
      "Cell \u001b[1;32mIn[76], line 23\u001b[0m, in \u001b[0;36mtotal_review\u001b[1;34m()\u001b[0m\n\u001b[0;32m     21\u001b[0m \u001b[39mdef\u001b[39;00m \u001b[39mtotal_review\u001b[39m():\n\u001b[0;32m     22\u001b[0m     path \u001b[39m=\u001b[39m \u001b[39m'\u001b[39m\u001b[39m//*[@id=\u001b[39m\u001b[39m\"\u001b[39m\u001b[39mpdp_comp-review\u001b[39m\u001b[39m\"\u001b[39m\u001b[39m]/h2[4]\u001b[39m\u001b[39m'\u001b[39m\n\u001b[1;32m---> 23\u001b[0m     element \u001b[39m=\u001b[39m driver\u001b[39m.\u001b[39;49mfind_element(\u001b[39m'\u001b[39;49m\u001b[39mxpath\u001b[39;49m\u001b[39m'\u001b[39;49m,path)\n\u001b[0;32m     24\u001b[0m     text \u001b[39m=\u001b[39m \u001b[39mstr\u001b[39m(element\u001b[39m.\u001b[39mtext)\n\u001b[0;32m     25\u001b[0m     num \u001b[39m=\u001b[39m text\u001b[39m.\u001b[39msplit()[\u001b[39m-\u001b[39m\u001b[39m1\u001b[39m]\n",
      "File \u001b[1;32mc:\\Python311\\Lib\\site-packages\\selenium\\webdriver\\remote\\webdriver.py:740\u001b[0m, in \u001b[0;36mfind_element\u001b[1;34m(self, by, value)\u001b[0m\n\u001b[0;32m    736\u001b[0m         value \u001b[39m=\u001b[39m \u001b[39mf\u001b[39m\u001b[39m'\u001b[39m\u001b[39m[name=\u001b[39m\u001b[39m\"\u001b[39m\u001b[39m{\u001b[39;00mvalue\u001b[39m}\u001b[39;00m\u001b[39m\"\u001b[39m\u001b[39m]\u001b[39m\u001b[39m'\u001b[39m\n\u001b[0;32m    738\u001b[0m     \u001b[39mreturn\u001b[39;00m \u001b[39mself\u001b[39m\u001b[39m.\u001b[39mexecute(Command\u001b[39m.\u001b[39mFIND_ELEMENT, {\u001b[39m\"\u001b[39m\u001b[39musing\u001b[39m\u001b[39m\"\u001b[39m: by, \u001b[39m\"\u001b[39m\u001b[39mvalue\u001b[39m\u001b[39m\"\u001b[39m: value})[\u001b[39m\"\u001b[39m\u001b[39mvalue\u001b[39m\u001b[39m\"\u001b[39m]\n\u001b[1;32m--> 740\u001b[0m \u001b[39mdef\u001b[39;00m \u001b[39mfind_elements\u001b[39m(\u001b[39mself\u001b[39m, by\u001b[39m=\u001b[39mBy\u001b[39m.\u001b[39mID, value: Optional[\u001b[39mstr\u001b[39m] \u001b[39m=\u001b[39m \u001b[39mNone\u001b[39;00m) \u001b[39m-\u001b[39m\u001b[39m>\u001b[39m List[WebElement]:\n\u001b[0;32m    741\u001b[0m \u001b[39m    \u001b[39m\u001b[39m\"\"\"Find elements given a By strategy and locator.\u001b[39;00m\n\u001b[0;32m    742\u001b[0m \n\u001b[0;32m    743\u001b[0m \u001b[39m    :Usage:\u001b[39;00m\n\u001b[1;32m   (...)\u001b[0m\n\u001b[0;32m    748\u001b[0m \u001b[39m    :rtype: list of WebElement\u001b[39;00m\n\u001b[0;32m    749\u001b[0m \u001b[39m    \"\"\"\u001b[39;00m\n\u001b[0;32m    750\u001b[0m     \u001b[39mif\u001b[39;00m \u001b[39misinstance\u001b[39m(by, RelativeBy):\n",
      "File \u001b[1;32mc:\\Python311\\Lib\\site-packages\\selenium\\webdriver\\remote\\webdriver.py:346\u001b[0m, in \u001b[0;36mWebDriver.execute\u001b[1;34m(self, driver_command, params)\u001b[0m\n\u001b[0;32m    344\u001b[0m response \u001b[39m=\u001b[39m \u001b[39mself\u001b[39m\u001b[39m.\u001b[39mcommand_executor\u001b[39m.\u001b[39mexecute(driver_command, params)\n\u001b[0;32m    345\u001b[0m \u001b[39mif\u001b[39;00m response:\n\u001b[1;32m--> 346\u001b[0m     \u001b[39mself\u001b[39;49m\u001b[39m.\u001b[39;49merror_handler\u001b[39m.\u001b[39;49mcheck_response(response)\n\u001b[0;32m    347\u001b[0m     response[\u001b[39m\"\u001b[39m\u001b[39mvalue\u001b[39m\u001b[39m\"\u001b[39m] \u001b[39m=\u001b[39m \u001b[39mself\u001b[39m\u001b[39m.\u001b[39m_unwrap_value(response\u001b[39m.\u001b[39mget(\u001b[39m\"\u001b[39m\u001b[39mvalue\u001b[39m\u001b[39m\"\u001b[39m, \u001b[39mNone\u001b[39;00m))\n\u001b[0;32m    348\u001b[0m     \u001b[39mreturn\u001b[39;00m response\n",
      "File \u001b[1;32mc:\\Python311\\Lib\\site-packages\\selenium\\webdriver\\remote\\errorhandler.py:245\u001b[0m, in \u001b[0;36mErrorHandler.check_response\u001b[1;34m(self, response)\u001b[0m\n\u001b[0;32m    243\u001b[0m         alert_text \u001b[39m=\u001b[39m value[\u001b[39m\"\u001b[39m\u001b[39malert\u001b[39m\u001b[39m\"\u001b[39m]\u001b[39m.\u001b[39mget(\u001b[39m\"\u001b[39m\u001b[39mtext\u001b[39m\u001b[39m\"\u001b[39m)\n\u001b[0;32m    244\u001b[0m     \u001b[39mraise\u001b[39;00m exception_class(message, screen, stacktrace, alert_text)  \u001b[39m# type: ignore[call-arg]  # mypy is not smart enough here\u001b[39;00m\n\u001b[1;32m--> 245\u001b[0m \u001b[39mraise\u001b[39;00m exception_class(message, screen, stacktrace)\n",
      "\u001b[1;31mNoSuchElementException\u001b[0m: Message: no such element: Unable to locate element: {\"method\":\"xpath\",\"selector\":\"//*[@id=\"pdp_comp-review\"]/h2[4]\"}\n  (Session info: chrome=116.0.5845.141); For documentation on this error, please visit: https://www.selenium.dev/documentation/webdriver/troubleshooting/errors#no-such-element-exception\nStacktrace:\n\tGetHandleVerifier [0x00007FF7CE7A52A2+57122]\n\t(No symbol) [0x00007FF7CE71EA92]\n\t(No symbol) [0x00007FF7CE5EE3AB]\n\t(No symbol) [0x00007FF7CE627D3E]\n\t(No symbol) [0x00007FF7CE627E2C]\n\t(No symbol) [0x00007FF7CE660B67]\n\t(No symbol) [0x00007FF7CE64701F]\n\t(No symbol) [0x00007FF7CE65EB82]\n\t(No symbol) [0x00007FF7CE646DB3]\n\t(No symbol) [0x00007FF7CE61D2B1]\n\t(No symbol) [0x00007FF7CE61E494]\n\tGetHandleVerifier [0x00007FF7CEA4EF82+2849794]\n\tGetHandleVerifier [0x00007FF7CEAA1D24+3189156]\n\tGetHandleVerifier [0x00007FF7CEA9ACAF+3160367]\n\tGetHandleVerifier [0x00007FF7CE836D06+653702]\n\t(No symbol) [0x00007FF7CE72A208]\n\t(No symbol) [0x00007FF7CE7262C4]\n\t(No symbol) [0x00007FF7CE7263F6]\n\t(No symbol) [0x00007FF7CE7167A3]\n\tBaseThreadInitThunk [0x00007FFB6231257D+29]\n\tRtlUserThreadStart [0x00007FFB63F2AA68+40]\n"
     ]
    }
   ],
   "source": [
    "#scraping info\n",
    "title = scrap_title()\n",
    "# review_num = int(total_review())\n",
    "# pages = total_pages()\n",
    "    \n",
    "#display scrap info\n",
    "print('Product title: ' + str(title))\n",
    "# print('Total review ' + str(review_num))\n",
    "# print('Total pages ' + str(pages))\n",
    "time.sleep(5)\n"
   ]
  },
  {
   "cell_type": "code",
   "execution_count": null,
   "metadata": {},
   "outputs": [],
   "source": [
    "\n",
    "    #last page num\n",
    "    last = int(review_num)%10\n",
    "    print(last)\n",
    "    \n",
    "    #click the review page\n",
    "    print('click ulasan')\n",
    "    click_ulasan(driver)\n",
    "    time.sleep(2)\n",
    "\n",
    "    #Generate storing array\n",
    "    reviews = []\n",
    "    \n",
    "    #\n",
    "    for i in range(review_num):\n",
    "        click_ulasan(driver)\n",
    "        \n",
    "        if (i+1) == review_num:\n",
    "            scrap_review(reviews,total_review%10)\n",
    "        else:\n",
    "            scrap_review(reviews,10)\n",
    "            time.sleep(5)\n",
    "            click_next(driver)\n",
    "        if reviews[-1] == '':\n",
    "            break\n",
    "            \n",
    "    \n",
    "    #driver.quit()\n",
    "    #print(title)\n",
    "    df = pd.DataFrame({'Review': reviews})\n",
    "    title = title.split()\n",
    "    title = title[0] + ' ' + title[1]\n",
    "    title += '.csv'\n",
    "    df.to_csv('Export/'+title,index=False)\n",
    "    print(reviews)\n",
    "    time.sleep(3)\n",
    "    driver.quit()\n",
    "    #print(pages)\n",
    "    #print(review_num)"
   ]
  }
 ],
 "metadata": {
  "kernelspec": {
   "display_name": "Python 3",
   "language": "python",
   "name": "python3"
  },
  "language_info": {
   "codemirror_mode": {
    "name": "ipython",
    "version": 3
   },
   "file_extension": ".py",
   "mimetype": "text/x-python",
   "name": "python",
   "nbconvert_exporter": "python",
   "pygments_lexer": "ipython3",
   "version": "3.11.4"
  },
  "orig_nbformat": 4
 },
 "nbformat": 4,
 "nbformat_minor": 2
}
