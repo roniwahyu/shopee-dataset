{
 "cells": [
  {
   "cell_type": "code",
   "execution_count": 5,
   "metadata": {},
   "outputs": [],
   "source": [
    "from seleniumbase import BaseCase\n",
    "import json\n",
    "import random\n",
    "import time\n",
    "from selenium.webdriver.common.by import By\n",
    "from selenium.webdriver.common.action_chains import ActionChains\n",
    "from seleniumbase import DriverContext\n",
    "from selenium import webdriver\n",
    "from selenium.webdriver.chrome.options import Options\n",
    "from selenium.webdriver.common.by import By\n",
    "from selenium.webdriver.chrome.service import Service\n",
    "from selenium.webdriver.common.action_chains import ActionChains"
   ]
  },
  {
   "cell_type": "code",
   "execution_count": 6,
   "metadata": {},
   "outputs": [
    {
     "ename": "KeyboardInterrupt",
     "evalue": "",
     "output_type": "error",
     "traceback": [
      "\u001b[1;31m---------------------------------------------------------------------------\u001b[0m",
      "\u001b[1;31mKeyboardInterrupt\u001b[0m                         Traceback (most recent call last)",
      "Cell \u001b[1;32mIn[6], line 36\u001b[0m\n\u001b[0;32m     34\u001b[0m \u001b[38;5;66;03m# Locate the input field for username using the name attribute\u001b[39;00m\n\u001b[0;32m     35\u001b[0m input_field_username \u001b[38;5;241m=\u001b[39m driver\u001b[38;5;241m.\u001b[39mfind_element(By\u001b[38;5;241m.\u001b[39mNAME, \u001b[38;5;124m\"\u001b[39m\u001b[38;5;124mloginKey\u001b[39m\u001b[38;5;124m\"\u001b[39m)\n\u001b[1;32m---> 36\u001b[0m \u001b[43mtime\u001b[49m\u001b[38;5;241;43m.\u001b[39;49m\u001b[43msleep\u001b[49m\u001b[43m(\u001b[49m\u001b[38;5;241;43m2\u001b[39;49m\u001b[43m)\u001b[49m  \u001b[38;5;66;03m# 2-3 seconds delay to ensure the element is located\u001b[39;00m\n\u001b[0;32m     38\u001b[0m \u001b[38;5;66;03m# Clear the input field and enter the manually entered value\u001b[39;00m\n\u001b[0;32m     39\u001b[0m input_field_username\u001b[38;5;241m.\u001b[39mclear()\n",
      "\u001b[1;31mKeyboardInterrupt\u001b[0m: "
     ]
    }
   ],
   "source": [
    "\n",
    "\n",
    "service = Service(r\"C:\\Users\\LENOVO\\AppData\\Local\\Google\\Chrome\\chromedriver.exe\")\n",
    "# Define the path to your chromedriver\n",
    "options = webdriver.ChromeOptions()\n",
    "# options.add_argument(\"start-maximized\")\n",
    " # Set Chrome options with stealth settings\n",
    "# options = Options()\n",
    "# Define user agents for rotation\n",
    "user_agents = [\n",
    "    \"Mozilla/5.0 (Windows NT 10.0; Win64; x64) AppleWebKit/537.36 (KHTML, like Gecko) Chrome/90.0.4430.85 Safari/537.36\",\n",
    "    \"Mozilla/5.0 (Macintosh; Intel Mac OS X 10_15_7) AppleWebKit/537.36 (KHTML, like Gecko) Chrome/91.0.4472.124 Safari/537.36\",\n",
    "    \"Mozilla/5.0 (Windows NT 10.0; Win64; x64; rv:89.0) Gecko/20100101 Firefox/89.0\",\n",
    "    \"Mozilla/5.0 (X11; Linux x86_64) AppleWebKit/537.36 (KHTML, like Gecko) Chrome/92.0.4515.107 Safari/537.36\"\n",
    "]\n",
    "options.add_argument(\"--disable-blink-features=AutomationControlled\")\n",
    "options.add_argument(\"--disable-infobars\")\n",
    "options.add_argument(\"--disable-extensions\")\n",
    "options.add_argument(\"--incognito\")\n",
    "# Randomize user agent and window size\n",
    "options.add_argument(f\"user-agent={random.choice(user_agents)}\")\n",
    "\n",
    "# Create a WebDriver instance\n",
    "# driver = webdriver.Chrome(service=service, options=options)\n",
    "driver = webdriver.Chrome(options=options)\n",
    "\n",
    "# Open the target website\n",
    "url = \"https://shopee.co.id\"\n",
    "driver.get(url)\n",
    "# Wait for the page to load fully\n",
    "time.sleep(3)  # 2-3 seconds delay after opening the URL\n",
    "\n",
    "# Ask user for manual input for the username/email/phone number\n",
    "manual_input_username = input(\"Enter the value for Username/Phone Number/Email: \")\n",
    "\n",
    "# Locate the input field for username using the name attribute\n",
    "input_field_username = driver.find_element(By.NAME, \"loginKey\")\n",
    "time.sleep(2)  # 2-3 seconds delay to ensure the element is located\n",
    "\n",
    "# Clear the input field and enter the manually entered value\n",
    "input_field_username.clear()\n",
    "input_field_username.send_keys(manual_input_username)\n",
    "time.sleep(3)  # 2-3 seconds delay after entering username\n",
    "\n",
    "# Ask user for manual input for the password (use getpass for secure input)\n",
    "manual_input_password = getpass.getpass(\"Enter the password: \")\n",
    "\n",
    "# Locate the password field using the name attribute\n",
    "input_field_password = driver.find_element(By.NAME, \"password\")\n",
    "time.sleep(2)  # 2-3 seconds delay to ensure the element is located\n",
    "\n",
    "# Clear the password field and enter the manually entered password\n",
    "input_field_password.clear()\n",
    "input_field_password.send_keys(manual_input_password)\n",
    "time.sleep(3)  # 2-3 seconds delay after entering password\n",
    "\n",
    "# Locate the \"Log in\" button by its class name\n",
    "login_button = driver.find_element(By.CLASS_NAME, \"b5aVaf\")\n",
    "time.sleep(2)  # 2-3 seconds delay to ensure the element is located\n",
    "\n",
    "# Click the \"Log in\" button\n",
    "login_button.click()\n",
    "time.sleep(5)  # Delay to observe the action\n",
    "\n",
    "# Random scrolling to mimic human behavior\n",
    "for _ in range(random.randint(2, 5)):\n",
    "    scroll_distance = random.randint(200, 600)\n",
    "    driver.execute_script(f\"window.scrollBy(0, {scroll_distance});\")\n",
    "    time.sleep(random.uniform(1, 3))  # Random delay after each scroll\n",
    "# Close the driver\n",
    "# driver.quit()\n"
   ]
  }
 ],
 "metadata": {
  "kernelspec": {
   "display_name": "Python 3",
   "language": "python",
   "name": "python3"
  },
  "language_info": {
   "codemirror_mode": {
    "name": "ipython",
    "version": 3
   },
   "file_extension": ".py",
   "mimetype": "text/x-python",
   "name": "python",
   "nbconvert_exporter": "python",
   "pygments_lexer": "ipython3",
   "version": "3.12.3"
  }
 },
 "nbformat": 4,
 "nbformat_minor": 2
}
