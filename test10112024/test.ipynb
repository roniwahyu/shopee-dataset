{
 "cells": [
  {
   "cell_type": "code",
   "execution_count": 3,
   "metadata": {},
   "outputs": [],
   "source": [
    "from selenium import webdriver\n",
    "from selenium.webdriver.chrome.service import Service\n",
    "from bs4 import BeautifulSoup\n",
    "import pandas as pd\n",
    "import time\n"
   ]
  },
  {
   "cell_type": "code",
   "execution_count": 4,
   "metadata": {},
   "outputs": [
    {
     "name": "stdout",
     "output_type": "stream",
     "text": [
      "loading ke-1\n",
      "loading ke-2\n",
      "loading ke-3\n",
      "loading ke-4\n",
      "loading ke-5\n",
      "loading ke-6\n"
     ]
    }
   ],
   "source": [
    "opsi = webdriver.ChromeOptions()\n",
    "opsi.add_argument('--headless')\n",
    "# servis = Service('chromedriver.exe')\n",
    "driver = webdriver.Chrome(options=opsi)\n",
    "\n",
    "shopee_link = \"https://shopee.co.id/search?keyword=macbook\"\n",
    "driver.set_window_size(1300,800)\n",
    "driver.get(shopee_link)\n",
    "\n",
    "rentang = 500\n",
    "for i in range(1,7):\n",
    "    akhir = rentang * i \n",
    "    perintah = \"window.scrollTo(0,\"+str(akhir)+\")\"\n",
    "    driver.execute_script(perintah)\n",
    "    print(\"loading ke-\"+str(i))\n",
    "    time.sleep(1)\n",
    "\n",
    "time.sleep(5)\n",
    "driver.save_screenshot(\"home.png\")\n",
    "content = driver.page_source\n",
    "driver.quit()\n",
    "\n",
    "data = BeautifulSoup(content,'html.parser')\n",
    "# print(data.encode(\"utf-8\"))\n",
    "\n",
    "i = 1\n",
    "base_url = \"https://shopee.co.id\"\n"
   ]
  },
  {
   "cell_type": "code",
   "execution_count": 6,
   "metadata": {},
   "outputs": [],
   "source": [
    "list_nama,list_gambar,list_harga,list_link,list_terjual,list_lokasi=[],[],[],[],[],[]\n",
    "\n",
    "for area in data.find_all('div',class_=\"col-xs-2-4 shopee-search-item-result__item\"):\n",
    "    print('proses data ke-'+str(i))\n",
    "    nama = area.find('div',class_=\"ie3A+n bM+7UW Cve6sh\").get_text()\n",
    "    gambar = area.find('img')['src']\n",
    "    harga = area.find('span',class_=\"ZEgDH9\").get_text()\n",
    "    link = base_url + area.find('a')['href']\n",
    "    terjual = area.find('div',class_=\"r6HknA uEPGHT\")\n",
    "    if terjual != None:\n",
    "        terjual = terjual.get_text()\n",
    "    lokasi = area.find('div',class_=\"zGGwiV\").get_text()\n",
    "    \n",
    "    list_nama.append(nama)\n",
    "    list_gambar.append(gambar)\n",
    "    list_harga.append(harga)\n",
    "    list_link.append(link)\n",
    "    list_terjual.append(terjual)\n",
    "    i+=1\n",
    "    print(\"------\")\n"
   ]
  },
  {
   "cell_type": "code",
   "execution_count": 9,
   "metadata": {},
   "outputs": [
    {
     "name": "stderr",
     "output_type": "stream",
     "text": [
      "C:\\Users\\LENOVO\\AppData\\Local\\Temp\\ipykernel_15836\\2473829574.py:3: FutureWarning: Starting with pandas version 3.0 all arguments of to_excel except for the argument 'excel_writer' will be keyword-only.\n",
      "  df.to_excel(writer,'Sheet1.xlsx',index=False)\n"
     ]
    }
   ],
   "source": [
    "\n",
    "df = pd.DataFrame({'Nama':list_nama,'Gambar':list_gambar,'Harga':list_harga,'Link':list_link,'Terjual':list_terjual})\n",
    "df.to_csv('macbook.csv')\n",
    "df.to_excel(writer,'Sheet1.xlsx',index=False)\n"
   ]
  },
  {
   "cell_type": "code",
   "execution_count": null,
   "metadata": {},
   "outputs": [
    {
     "data": {
      "text/html": [
       "<div>\n",
       "<style scoped>\n",
       "    .dataframe tbody tr th:only-of-type {\n",
       "        vertical-align: middle;\n",
       "    }\n",
       "\n",
       "    .dataframe tbody tr th {\n",
       "        vertical-align: top;\n",
       "    }\n",
       "\n",
       "    .dataframe thead th {\n",
       "        text-align: right;\n",
       "    }\n",
       "</style>\n",
       "<table border=\"1\" class=\"dataframe\">\n",
       "  <thead>\n",
       "    <tr style=\"text-align: right;\">\n",
       "      <th></th>\n",
       "      <th>Nama</th>\n",
       "      <th>Gambar</th>\n",
       "      <th>Harga</th>\n",
       "      <th>Link</th>\n",
       "      <th>Terjual</th>\n",
       "    </tr>\n",
       "  </thead>\n",
       "  <tbody>\n",
       "  </tbody>\n",
       "</table>\n",
       "</div>"
      ],
      "text/plain": [
       "Empty DataFrame\n",
       "Columns: [Nama, Gambar, Harga, Link, Terjual]\n",
       "Index: []"
      ]
     },
     "execution_count": 2,
     "metadata": {},
     "output_type": "execute_result"
    }
   ],
   "source": [
    "df"
   ]
  }
 ],
 "metadata": {
  "kernelspec": {
   "display_name": "Python 3",
   "language": "python",
   "name": "python3"
  },
  "language_info": {
   "codemirror_mode": {
    "name": "ipython",
    "version": 3
   },
   "file_extension": ".py",
   "mimetype": "text/x-python",
   "name": "python",
   "nbconvert_exporter": "python",
   "pygments_lexer": "ipython3",
   "version": "3.12.3"
  }
 },
 "nbformat": 4,
 "nbformat_minor": 2
}
