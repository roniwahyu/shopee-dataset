{
 "cells": [
  {
   "cell_type": "markdown",
   "metadata": {},
   "source": [
    "## Test Shopee Indonesia Connection"
   ]
  },
  {
   "cell_type": "code",
   "execution_count": 2,
   "metadata": {},
   "outputs": [
    {
     "name": "stdout",
     "output_type": "stream",
     "text": [
      "{'success': True, 'message': 'success', 'results': []}\n"
     ]
    }
   ],
   "source": [
    "import requests\n",
    "\n",
    "url = \"https://shopee-indonesia.p.rapidapi.com/live/54663315/record\"\n",
    "\n",
    "headers = {\n",
    "\t\"x-rapidapi-key\": \"c25485657emshed16e9d246f7644p1ec0fbjsn92182ad894a8\",\n",
    "\t\"x-rapidapi-host\": \"shopee-indonesia.p.rapidapi.com\"\n",
    "}\n",
    "\n",
    "response = requests.get(url, headers=headers)\n",
    "\n",
    "print(response.json())"
   ]
  },
  {
   "cell_type": "markdown",
   "metadata": {},
   "source": [
    "## Test Shopee Indonesia API SHOP ID"
   ]
  },
  {
   "cell_type": "code",
   "execution_count": 4,
   "metadata": {},
   "outputs": [
    {
     "name": "stdout",
     "output_type": "stream",
     "text": [
      "{'success': True, 'message': 'success', 'results': None}\n"
     ]
    }
   ],
   "source": [
    "import requests\n",
    "\n",
    "url = \"https://shopee-indonesia.p.rapidapi.com/shop/computer.store\"\n",
    "\n",
    "headers = {\n",
    "\t\"x-rapidapi-key\": \"c25485657emshed16e9d246f7644p1ec0fbjsn92182ad894a8\",\n",
    "\t\"x-rapidapi-host\": \"shopee-indonesia.p.rapidapi.com\"\n",
    "}\n",
    "\n",
    "response = requests.get(url, headers=headers)\n",
    "\n",
    "print(response.json())"
   ]
  },
  {
   "cell_type": "code",
   "execution_count": 6,
   "metadata": {},
   "outputs": [
    {
     "name": "stdout",
     "output_type": "stream",
     "text": [
      "{'success': False, 'message': 'Whoops, looks like something went wrong.', 'results': None}\n"
     ]
    }
   ],
   "source": [
    "import requests\n",
    "\n",
    "url = \"https://shopee-indonesia.p.rapidapi.com/shop/14503895702/products\"\n",
    "\n",
    "querystring = {\"by\":\"popular\",\"order\":\"desc\"}\n",
    "\n",
    "headers = {\n",
    "\t\"x-rapidapi-key\": \"c25485657emshed16e9d246f7644p1ec0fbjsn92182ad894a8\",\n",
    "\t\"x-rapidapi-host\": \"shopee-indonesia.p.rapidapi.com\"\n",
    "}\n",
    "\n",
    "response = requests.get(url, headers=headers, params=querystring)\n",
    "\n",
    "print(response.json())"
   ]
  }
 ],
 "metadata": {
  "kernelspec": {
   "display_name": "Python 3",
   "language": "python",
   "name": "python3"
  },
  "language_info": {
   "codemirror_mode": {
    "name": "ipython",
    "version": 3
   },
   "file_extension": ".py",
   "mimetype": "text/x-python",
   "name": "python",
   "nbconvert_exporter": "python",
   "pygments_lexer": "ipython3",
   "version": "3.12.3"
  }
 },
 "nbformat": 4,
 "nbformat_minor": 2
}
