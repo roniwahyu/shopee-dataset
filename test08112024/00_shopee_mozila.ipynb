{
 "cells": [
  {
   "cell_type": "code",
   "execution_count": 2,
   "metadata": {},
   "outputs": [],
   "source": [
    "from selenium import webdriver\n",
    "from bs4 import BeautifulSoup\n",
    "import pandas as pd\n",
    "import time\n",
    "\n",
    "# Set up Selenium WebDriver\n",
    "options = webdriver.ChromeOptions()\n",
    "options.add_argument('--headless')\n",
    "driver = webdriver.Chrome(options=options)\n",
    "\n",
    "# Target URL\n",
    "url = 'https://shopee.co.id/search?keyword=asus'\n",
    "driver.get(url)\n",
    "\n",
    "# Allow time for the page to load content\n",
    "time.sleep(5)\n",
    "\n",
    "# Parse the page source\n",
    "soup = BeautifulSoup(driver.page_source, 'html.parser')\n",
    "\n",
    "# Initialize lists\n",
    "product_names = []\n",
    "product_images = []\n",
    "product_details = []\n",
    "product_stocks = []\n",
    "\n",
    "# Extract product data\n",
    "for product in soup.select('.product-card'):\n",
    "    name = product.select_one('.product-card__name').text if product.select_one('.product-card__name') else 'N/A'\n",
    "    image = product.select_one('img')['src'] if product.select_one('img') else 'N/A'\n",
    "    detail = product.select_one('.product-card__desc').text if product.select_one('.product-card__desc') else 'N/A'\n",
    "    stock = product.select_one('.product-card__stock').text if product.select_one('.product-card__stock') else 'N/A'\n",
    "    \n",
    "    product_names.append(name)\n",
    "    product_images.append(image)\n",
    "    product_details.append(detail)\n",
    "    product_stocks.append(stock)\n",
    "\n",
    "# Save data to Excel\n",
    "df = pd.DataFrame({\n",
    "    'Nama Produk': product_names,\n",
    "    'Gambar Produk': product_images,\n",
    "    'Detail Keterangan': product_details,\n",
    "    'Jumlah Stok': product_stocks,\n",
    "})\n",
    "\n",
    "df.to_excel('shopee_products.xlsx', index=False)\n",
    "\n",
    "# Close the driver\n",
    "driver.quit()\n"
   ]
  }
 ],
 "metadata": {
  "kernelspec": {
   "display_name": "Python 3",
   "language": "python",
   "name": "python3"
  },
  "language_info": {
   "codemirror_mode": {
    "name": "ipython",
    "version": 3
   },
   "file_extension": ".py",
   "mimetype": "text/x-python",
   "name": "python",
   "nbconvert_exporter": "python",
   "pygments_lexer": "ipython3",
   "version": "3.12.3"
  }
 },
 "nbformat": 4,
 "nbformat_minor": 2
}
