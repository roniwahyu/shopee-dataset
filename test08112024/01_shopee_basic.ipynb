{
 "cells": [
  {
   "cell_type": "code",
   "execution_count": 12,
   "metadata": {},
   "outputs": [],
   "source": [
    "from selenium import webdriver\n",
    "from selenium.webdriver.chrome.options import Options\n",
    "from selenium.webdriver.common.by import By\n",
    "from selenium.webdriver.support.ui import WebDriverWait\n",
    "from selenium.webdriver.support import expected_conditions as EC\n",
    "from selenium.webdriver.common.action_chains import ActionChains\n",
    "from selenium.webdriver.common.keys import Keys\n",
    "import logging\n",
    "import time\n"
   ]
  },
  {
   "cell_type": "code",
   "execution_count": 13,
   "metadata": {},
   "outputs": [],
   "source": [
    "# Setting up logging\n",
    "logging.basicConfig(filename=\"activity_log.txt\", level=logging.INFO, format=\"%(asctime)s - %(message)s\")\n",
    "def initialize_driver():\n",
    "    # Set Chrome options\n",
    "    chrome_options = Options()\n",
    "    chrome_options.add_argument(\"--disable-gpu\")\n",
    "    chrome_options.add_argument(\"--no-sandbox\")\n",
    "    chrome_options.add_argument(\"--user-data-dir=C:/Users/LENOVO/AppData/Local/Google/Chrome/User Data\")  # Path to Chrome user data\n",
    "    chrome_options.add_argument(\"--profile-directory=Profile 1\")  # Profile name\n",
    "    # chrome_options.add_argument(\"--start-maximized\")  # Start browser maximized\n",
    "    # chrome_options.add_argument(\"--disable-extensions\")  # Disable extensions for more stable operation\n",
    "\n",
    "    # Initialize the Chrome driver\n",
    "    driver = webdriver.Chrome(options=chrome_options)\n",
    "    return driver\n"
   ]
  },
  {
   "cell_type": "code",
   "execution_count": 14,
   "metadata": {},
   "outputs": [],
   "source": [
    "\n",
    "# # Initialize Chrome driver with specific options\n",
    "# def initialize_driver():\n",
    "#     chrome_options = Options()\n",
    "#     chrome_options.add_argument(\"--disable-gpu\")\n",
    "#     chrome_options.add_argument(\"--no-sandbox\")\n",
    "#     chrome_options.add_argument(\"--user-data-dir=C:/Users/LENOVO/AppData/Local/Google/Chrome/User Data\")  # Path to Chrome user data\n",
    "#     chrome_options.add_argument(\"--profile-directory=Profile 1\")  # Profile name\n",
    "#     # Additional optional settings\n",
    "#     chrome_options.add_argument(\"--start-maximized\")  # Start browser maximized\n",
    "#     chrome_options.add_argument(\"--disable-extensions\")  # Disable extensions for more stable operation\n",
    "    \n",
    "#     # Initialize the Chrome driver with options\n",
    "#     driver = webdriver.Chrome(options=chrome_options)\n",
    "#     return driver\n",
    "\n",
    "# Function to log activities\n",
    "def log_activity(action, description=\"\"):\n",
    "    logging.info(f\"{action} - {description}\")\n",
    "\n",
    "# Function example to open a URL\n",
    "def open_url(driver, url):\n",
    "    driver.get(url)\n",
    "    log_activity(\"Opened URL\", url)\n",
    "\n",
    "# Function example to click an element\n",
    "def click_element(driver, by, value):\n",
    "    element = driver.find_element(by, value)\n",
    "    element.click()\n",
    "    log_activity(\"Clicked element\", f\"{by} - {value}\")\n",
    "\n",
    "# Function example to enter text in a field\n",
    "def enter_text(driver, by, value, text):\n",
    "    element = driver.find_element(by, value)\n",
    "    element.clear()\n",
    "    element.send_keys(text)\n",
    "    log_activity(\"Entered text\", f\"{text} in {by} - {value}\")\n",
    "\n",
    "# Main script to perform actions\n",
    "try:\n",
    "    # Initialize driver and actions\n",
    "    driver = initialize_driver()\n",
    "    actions = ActionChains(driver)\n",
    "\n",
    "    # Example activities\n",
    "    open_url(driver, \"https://shopee.co.id\")\n",
    "    time.sleep(2)  # Wait briefly to ensure the page loads\n",
    "    enter_text(driver, By.NAME, \"q\", \"Selenium Python\")  # Enter text in the search box\n",
    "    time.sleep(1)\n",
    "    click_element(driver, By.NAME, \"btnK\")  # Click the search button\n",
    "    time.sleep(3)\n",
    "\n",
    "    # Add other activities as needed\n",
    "\n",
    "except Exception as e:\n",
    "    log_activity(\"Error\", str(e))\n",
    "finally:\n",
    "    # driver.quit()\n",
    "    log_activity(\"Closed browser\")\n",
    "\n"
   ]
  },
  {
   "cell_type": "code",
   "execution_count": 15,
   "metadata": {},
   "outputs": [],
   "source": [
    "url = \"https://shopee.co.id/ASUS-VIVOBOOK-GO-14-E1404FA-RYZEN-3-7320-8GB-256GB-RADEON-610M-W11-OHS-14.0FHD-GRN-GRY-FHD322-i.250649369.14415147474\"\n"
   ]
  }
 ],
 "metadata": {
  "kernelspec": {
   "display_name": "Python 3",
   "language": "python",
   "name": "python3"
  },
  "language_info": {
   "codemirror_mode": {
    "name": "ipython",
    "version": 3
   },
   "file_extension": ".py",
   "mimetype": "text/x-python",
   "name": "python",
   "nbconvert_exporter": "python",
   "pygments_lexer": "ipython3",
   "version": "3.12.3"
  }
 },
 "nbformat": 4,
 "nbformat_minor": 2
}
