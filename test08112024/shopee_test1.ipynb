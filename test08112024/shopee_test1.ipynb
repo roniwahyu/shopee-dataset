{
 "cells": [
  {
   "cell_type": "code",
   "execution_count": 1,
   "metadata": {},
   "outputs": [],
   "source": [
    "import re\n",
    "import json\n",
    "import requests\n",
    "import pandas as pd\n"
   ]
  },
  {
   "cell_type": "code",
   "execution_count": 2,
   "metadata": {},
   "outputs": [],
   "source": [
    "\n",
    "def parse_shopee_url(url):\n",
    "    \"\"\"\n",
    "    Extracts shop_id and item_id from a Shopee product URL.\n",
    "    \n",
    "    Parameters:\n",
    "    - url (str): Shopee product URL.\n",
    "    \n",
    "    Returns:\n",
    "    - tuple: (shop_id, item_id) if successful; otherwise None.\n",
    "    \"\"\"\n",
    "    match = re.search(r'i\\.(\\d+)\\.(\\d+)', url)\n",
    "    if match:\n",
    "        shop_id, item_id = match[1], match[2]\n",
    "        return shop_id, item_id\n",
    "    else:\n",
    "        print(\"Invalid URL format. Could not extract shop_id and item_id.\")\n",
    "        return None, None\n",
    "\n",
    "def fetch_reviews(shop_id, item_id, limit=50, offset=0):\n",
    "    \"\"\"\n",
    "    Fetches reviews from Shopee API for a specified shop and item.\n",
    "    \n",
    "    Parameters:\n",
    "    - shop_id (str): Shop ID extracted from the product URL.\n",
    "    - item_id (str): Item ID extracted from the product URL.\n",
    "    - limit (int): Number of reviews to fetch per API call (default: 50).\n",
    "    - offset (int): Offset for pagination (default: 0).\n",
    "    \n",
    "    Returns:\n",
    "    - dict: JSON data of the product reviews.\n",
    "    \"\"\"\n",
    "    ratings_url = f'https://shopee.co.id/api/v2/item/get_ratings?filter=0&flag=1&itemid={item_id}&limit={limit}&offset={offset}&shopid={shop_id}&type=0'\n",
    "    response = requests.get(ratings_url)\n",
    "    \n",
    "    if response.status_code == 200:\n",
    "        return response.json()\n",
    "    else:\n",
    "        print(f\"Failed to fetch data: Status code {response.status_code}\")\n",
    "        return None\n",
    "\n",
    "def reviews_to_dataframe(review_data):\n",
    "    \"\"\"\n",
    "    Converts Shopee review JSON data to a pandas DataFrame.\n",
    "    \n",
    "    Parameters:\n",
    "    - review_data (dict): JSON data of the reviews.\n",
    "    \n",
    "    Returns:\n",
    "    - DataFrame: DataFrame containing the reviews.\n",
    "    \"\"\"\n",
    "    if review_data:\n",
    "        df = pd.DataFrame(review_data)\n",
    "        return df\n",
    "    else:\n",
    "        print(\"No data to convert to DataFrame.\")\n",
    "        return pd.DataFrame()\n",
    "\n",
    "def main(url, limit=50, offset=0):\n",
    "    \"\"\"\n",
    "    Main function to parse the URL, fetch reviews, and convert them to a DataFrame.\n",
    "    \n",
    "    Parameters:\n",
    "    - url (str): Shopee product URL.\n",
    "    - limit (int): Number of reviews per API call.\n",
    "    - offset (int): Starting offset for reviews.\n",
    "    \n",
    "    Returns:\n",
    "    - DataFrame: DataFrame with the product reviews.\n",
    "    \"\"\"\n",
    "    shop_id, item_id = parse_shopee_url(url)\n",
    "    if shop_id and item_id:\n",
    "        review_data = fetch_reviews(shop_id, item_id, limit, offset)\n",
    "        df = reviews_to_dataframe(review_data)\n",
    "        return df\n",
    "    else:\n",
    "        return pd.DataFrame()\n",
    "\n"
   ]
  },
  {
   "cell_type": "code",
   "execution_count": 3,
   "metadata": {},
   "outputs": [
    {
     "name": "stdout",
     "output_type": "stream",
     "text": [
      "Failed to fetch data: Status code 403\n",
      "No data to convert to DataFrame.\n",
      "Empty DataFrame\n",
      "Columns: []\n",
      "Index: []\n"
     ]
    }
   ],
   "source": [
    "\n",
    "# Example usage:\n",
    "url = 'https://shopee.co.id/Official-Xiaomi-Redmi-12-(8GB-128GB)-(8GB-256GB)-MediaTek-Helio-G88-5000-mAh-18W-90Hz-FHD-50MP-Triple-Kamera-AI-i.51925611.20282046522?xptdk=27a3d8c0-b7e0-405c-817d-5f91385649ca'\n",
    "df = main(url)\n",
    "print(df.head())"
   ]
  }
 ],
 "metadata": {
  "kernelspec": {
   "display_name": "Python 3",
   "language": "python",
   "name": "python3"
  },
  "language_info": {
   "codemirror_mode": {
    "name": "ipython",
    "version": 3
   },
   "file_extension": ".py",
   "mimetype": "text/x-python",
   "name": "python",
   "nbconvert_exporter": "python",
   "pygments_lexer": "ipython3",
   "version": "3.12.3"
  }
 },
 "nbformat": 4,
 "nbformat_minor": 2
}
