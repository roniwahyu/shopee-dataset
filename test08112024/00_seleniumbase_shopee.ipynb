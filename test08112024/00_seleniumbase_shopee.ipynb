{
 "cells": [
  {
   "cell_type": "code",
   "execution_count": 20,
   "metadata": {},
   "outputs": [],
   "source": [
    "from seleniumbase import Driver\n",
    "from selenium import webdriver\n",
    "from selenium.webdriver.chrome.options import Options\n",
    "from selenium.webdriver.common.by import By\n",
    "from selenium.webdriver.support.ui import WebDriverWait\n",
    "from selenium.webdriver.support import expected_conditions as EC\n",
    "from selenium.webdriver.common.action_chains import ActionChains\n",
    "from selenium.webdriver.common.keys import Keys\n",
    "import logging\n",
    "import time\n",
    "import random\n"
   ]
  },
  {
   "cell_type": "code",
   "execution_count": null,
   "metadata": {},
   "outputs": [],
   "source": [
    "# First, install SeleniumBase and Selenium if not already installed\n",
    "# !pip install seleniumbase selenium\n",
    "\n",
    "from selenium import webdriver\n",
    "from selenium.webdriver.chrome.service import Service\n",
    "from selenium.webdriver.common.by import By\n",
    "from selenium.webdriver.chrome.options import Options\n",
    "import time\n",
    "\n",
    "# Configure Chrome options to use your user profile\n",
    "chrome_options = Options()\n",
    "chrome_options.add_argument(\"--user-data-dir=C:/Users/LENOVO/AppData/Local/Google/Chrome/User Data\")  # Path to Chrome user data\n",
    "chrome_options.add_argument(\"--profile-directory=Profile 1\")  # Profile name\n",
    "\n",
    "# Initialize WebDriver using SeleniumBase's built-in driver capabilities\n",
    "from seleniumbase import Driver\n",
    "driver = Driver(driver_options=chrome_options)\n",
    "\n",
    "try:\n",
    "    # Open the target URL\n",
    "    driver.get(\"https://shopee.co.id/search?keyword=speaker%20bass\")\n",
    "\n",
    "    # Wait for the page to load completely\n",
    "    time.sleep(5)\n",
    "\n",
    "    # Locate product elements (modify the selector as per Shopee's HTML structure)\n",
    "    products = driver.find_elements(By.CSS_SELECTOR, 'div.shopee-search-item-result__item')\n",
    "\n",
    "    # Iterate through the products and collect data\n",
    "    for product in products:\n",
    "        try:\n",
    "            title = product.find_element(By.CSS_SELECTOR, 'div._10Wbs-._2STCsK._3IqNCf').text\n",
    "            price = product.find_element(By.CSS_SELECTOR, 'div._29R_un').text\n",
    "            print(f\"Title: {title}, Price: {price}\")\n",
    "        except Exception as e:\n",
    "            print(\"Error:\", e)\n",
    "            continue\n",
    "\n",
    "finally:\n",
    "    # Quit the driver after scraping\n",
    "    driver.quit()\n"
   ]
  }
 ],
 "metadata": {
  "kernelspec": {
   "display_name": "Python 3",
   "language": "python",
   "name": "python3"
  },
  "language_info": {
   "codemirror_mode": {
    "name": "ipython",
    "version": 3
   },
   "file_extension": ".py",
   "mimetype": "text/x-python",
   "name": "python",
   "nbconvert_exporter": "python",
   "pygments_lexer": "ipython3",
   "version": "3.12.3"
  }
 },
 "nbformat": 4,
 "nbformat_minor": 2
}
