{
 "cells": [
  {
   "cell_type": "code",
   "execution_count": 13,
   "metadata": {},
   "outputs": [],
   "source": [
    "from seleniumbase import BaseCase\n",
    "import json\n",
    "import random\n",
    "import time\n",
    "from selenium.webdriver.common.by import By\n",
    "from selenium.webdriver.common.action_chains import ActionChains\n",
    "from seleniumbase import DriverContext\n",
    "from selenium import webdriver\n",
    "from selenium.webdriver.chrome.options import Options\n",
    "from selenium.webdriver.common.by import By\n",
    "from selenium.webdriver.common.action_chains import ActionChains"
   ]
  },
  {
   "cell_type": "code",
   "execution_count": 15,
   "metadata": {},
   "outputs": [
    {
     "name": "stdout",
     "output_type": "stream",
     "text": [
      "Element not found: Message: no such element: Unable to locate element: {\"method\":\"css selector\",\"selector\":\"a.navbar__link--account\"}\n",
      "  (Session info: chrome=130.0.6723.117); For documentation on this error, please visit: https://www.selenium.dev/documentation/webdriver/troubleshooting/errors#no-such-element-exception\n",
      "Stacktrace:\n",
      "\tGetHandleVerifier [0x00007FF786073AB5+28005]\n",
      "\t(No symbol) [0x00007FF785FD83B0]\n",
      "\t(No symbol) [0x00007FF785E7580A]\n",
      "\t(No symbol) [0x00007FF785EC5A3E]\n",
      "\t(No symbol) [0x00007FF785EC5D2C]\n",
      "\t(No symbol) [0x00007FF785F0EA97]\n",
      "\t(No symbol) [0x00007FF785EEBA7F]\n",
      "\t(No symbol) [0x00007FF785F0B8B3]\n",
      "\t(No symbol) [0x00007FF785EEB7E3]\n",
      "\t(No symbol) [0x00007FF785EB75C8]\n",
      "\t(No symbol) [0x00007FF785EB8731]\n",
      "\tGetHandleVerifier [0x00007FF78636643D+3118829]\n",
      "\tGetHandleVerifier [0x00007FF7863B6C90+3448640]\n",
      "\tGetHandleVerifier [0x00007FF7863ACF0D+3408317]\n",
      "\tGetHandleVerifier [0x00007FF78613A40B+841403]\n",
      "\t(No symbol) [0x00007FF785FE340F]\n",
      "\t(No symbol) [0x00007FF785FDF484]\n",
      "\t(No symbol) [0x00007FF785FDF61D]\n",
      "\t(No symbol) [0x00007FF785FCEB79]\n",
      "\tBaseThreadInitThunk [0x00007FFF0B20259D+29]\n",
      "\tRtlUserThreadStart [0x00007FFF0CA2AF38+40]\n",
      "\n"
     ]
    }
   ],
   "source": [
    "\n",
    "import json\n",
    "import random\n",
    "import time\n",
    "\n",
    "def run_shopee_scraper():\n",
    "    # Define user agents for rotation\n",
    "    user_agents = [\n",
    "        \"Mozilla/5.0 (Windows NT 10.0; Win64; x64) AppleWebKit/537.36 (KHTML, like Gecko) Chrome/90.0.4430.85 Safari/537.36\",\n",
    "        \"Mozilla/5.0 (Macintosh; Intel Mac OS X 10_15_7) AppleWebKit/537.36 (KHTML, like Gecko) Chrome/91.0.4472.124 Safari/537.36\",\n",
    "        \"Mozilla/5.0 (Windows NT 10.0; Win64; x64; rv:89.0) Gecko/20100101 Firefox/89.0\",\n",
    "        \"Mozilla/5.0 (X11; Linux x86_64) AppleWebKit/537.36 (KHTML, like Gecko) Chrome/92.0.4515.107 Safari/537.36\"\n",
    "    ]\n",
    "    \n",
    "    # Set Chrome options with stealth settings\n",
    "    chrome_options = Options()\n",
    "    chrome_options.add_argument(\"--disable-blink-features=AutomationControlled\")\n",
    "    chrome_options.add_argument(\"--disable-infobars\")\n",
    "    chrome_options.add_argument(\"--disable-extensions\")\n",
    "    chrome_options.add_argument(\"--incognito\")\n",
    "    \n",
    "    # Randomize user agent and window size\n",
    "    chrome_options.add_argument(f\"user-agent={random.choice(user_agents)}\")\n",
    "    width, height = random.randint(800, 1200), random.randint(600, 900)\n",
    "    chrome_options.add_argument(f\"--window-size={width},{height}\")\n",
    "    \n",
    "    # Start the browser with Chrome options\n",
    "    driver = webdriver.Chrome(options=chrome_options)\n",
    "    driver.get(\"https://shopee.co.id\")\n",
    "    \n",
    "    # Load cookies from the JSON file\n",
    "    with open(\"shopee.json\", \"r\") as f:\n",
    "        cookies = json.load(f)\n",
    "        for cookie in cookies:\n",
    "            cookie.pop(\"sameSite\", None)  # Remove unnecessary fields\n",
    "            cookie.pop(\"storeId\", None)\n",
    "            driver.add_cookie(cookie)\n",
    "    \n",
    "    # Refresh to apply cookies and establish the logged-in session\n",
    "    driver.refresh()\n",
    "    \n",
    "    # Simulate mouse movement by hovering over an element\n",
    "    action = ActionChains(driver)\n",
    "    try:\n",
    "        login_button = driver.find_element(By.CSS_SELECTOR, \"a.navbar__link--account\")\n",
    "        action.move_to_element(login_button).perform()\n",
    "        time.sleep(random.uniform(1.5, 3.5))  # Random delay to mimic human interaction\n",
    "    except Exception as e:\n",
    "        print(\"Element not found:\", e)\n",
    "    \n",
    "    # Random scrolling to mimic human behavior\n",
    "    for _ in range(random.randint(2, 5)):\n",
    "        scroll_distance = random.randint(200, 600)\n",
    "        driver.execute_script(f\"window.scrollBy(0, {scroll_distance});\")\n",
    "        time.sleep(random.uniform(1, 3))  # Random delay after each scroll\n",
    "    \n",
    "    # Example: Navigate to a specific page or perform more actions as needed\n",
    "    driver.get(\"https://shopee.co.id/SPEAKER-MUROTTAL-SPEKER-MUROTAL-AL-QURAN-At-Taqwa-30-JUZ-16-GB-BISA-CUSTOM-NAMA-FOTO-i.17756187.4151212984?sp_atk=1611503a-ac24-4d0f-95f6-d035a6264004&xptdk=1611503a-ac24-4d0f-95f6-d035a6264004\")\n",
    "    time.sleep(random.uniform(2, 5))\n",
    "    \n",
    "    # Close the browser\n",
    "    driver.quit()\n",
    "\n",
    "# Run the scraper\n",
    "run_shopee_scraper()\n"
   ]
  },
  {
   "cell_type": "code",
   "execution_count": null,
   "metadata": {},
   "outputs": [],
   "source": [
    "driver.get(\"https://shopee.co.id/SPEAKER-MUROTTAL-SPEKER-MUROTAL-AL-QURAN-At-Taqwa-30-JUZ-16-GB-BISA-CUSTOM-NAMA-FOTO-i.17756187.4151212984?sp_atk=1611503a-ac24-4d0f-95f6-d035a6264004&xptdk=1611503a-ac24-4d0f-95f6-d035a6264004\")\n",
    "        # Additional interaction examples can be added here\n"
   ]
  },
  {
   "cell_type": "code",
   "execution_count": 12,
   "metadata": {},
   "outputs": [
    {
     "ename": "NameError",
     "evalue": "name 'Options' is not defined",
     "output_type": "error",
     "traceback": [
      "\u001b[1;31m---------------------------------------------------------------------------\u001b[0m",
      "\u001b[1;31mNameError\u001b[0m                                 Traceback (most recent call last)",
      "Cell \u001b[1;32mIn[12], line 1\u001b[0m\n\u001b[1;32m----> 1\u001b[0m \u001b[43mrun_shopee_scraper\u001b[49m\u001b[43m(\u001b[49m\u001b[43m)\u001b[49m\n",
      "Cell \u001b[1;32mIn[11], line 11\u001b[0m, in \u001b[0;36mrun_shopee_scraper\u001b[1;34m()\u001b[0m\n\u001b[0;32m      3\u001b[0m user_agents \u001b[38;5;241m=\u001b[39m [\n\u001b[0;32m      4\u001b[0m     \u001b[38;5;124m\"\u001b[39m\u001b[38;5;124mMozilla/5.0 (Windows NT 10.0; Win64; x64) AppleWebKit/537.36 (KHTML, like Gecko) Chrome/90.0.4430.85 Safari/537.36\u001b[39m\u001b[38;5;124m\"\u001b[39m,\n\u001b[0;32m      5\u001b[0m     \u001b[38;5;124m\"\u001b[39m\u001b[38;5;124mMozilla/5.0 (Macintosh; Intel Mac OS X 10_15_7) AppleWebKit/537.36 (KHTML, like Gecko) Chrome/91.0.4472.124 Safari/537.36\u001b[39m\u001b[38;5;124m\"\u001b[39m,\n\u001b[0;32m      6\u001b[0m     \u001b[38;5;124m\"\u001b[39m\u001b[38;5;124mMozilla/5.0 (Windows NT 10.0; Win64; x64; rv:89.0) Gecko/20100101 Firefox/89.0\u001b[39m\u001b[38;5;124m\"\u001b[39m,\n\u001b[0;32m      7\u001b[0m     \u001b[38;5;124m\"\u001b[39m\u001b[38;5;124mMozilla/5.0 (X11; Linux x86_64) AppleWebKit/537.36 (KHTML, like Gecko) Chrome/92.0.4515.107 Safari/537.36\u001b[39m\u001b[38;5;124m\"\u001b[39m\n\u001b[0;32m      8\u001b[0m ]\n\u001b[0;32m     10\u001b[0m \u001b[38;5;66;03m# Set Chrome options with stealth settings\u001b[39;00m\n\u001b[1;32m---> 11\u001b[0m chrome_options \u001b[38;5;241m=\u001b[39m \u001b[43mOptions\u001b[49m()\n\u001b[0;32m     12\u001b[0m chrome_options\u001b[38;5;241m.\u001b[39madd_argument(\u001b[38;5;124m\"\u001b[39m\u001b[38;5;124m--disable-blink-features=AutomationControlled\u001b[39m\u001b[38;5;124m\"\u001b[39m)\n\u001b[0;32m     13\u001b[0m chrome_options\u001b[38;5;241m.\u001b[39madd_argument(\u001b[38;5;124m\"\u001b[39m\u001b[38;5;124m--disable-infobars\u001b[39m\u001b[38;5;124m\"\u001b[39m)\n",
      "\u001b[1;31mNameError\u001b[0m: name 'Options' is not defined"
     ]
    }
   ],
   "source": [
    "run_shopee_scraper()"
   ]
  }
 ],
 "metadata": {
  "kernelspec": {
   "display_name": "Python 3",
   "language": "python",
   "name": "python3"
  },
  "language_info": {
   "codemirror_mode": {
    "name": "ipython",
    "version": 3
   },
   "file_extension": ".py",
   "mimetype": "text/x-python",
   "name": "python",
   "nbconvert_exporter": "python",
   "pygments_lexer": "ipython3",
   "version": "3.12.3"
  }
 },
 "nbformat": 4,
 "nbformat_minor": 2
}
