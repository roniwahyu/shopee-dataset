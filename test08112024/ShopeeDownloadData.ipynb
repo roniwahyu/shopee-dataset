{
 "cells": [
  {
   "cell_type": "code",
   "execution_count": 33,
   "id": "9b5e9c91-2dde-4f10-8728-0b2bc0f2cd17",
   "metadata": {
    "executionCancelledAt": null,
    "executionTime": 49,
    "lastExecutedAt": 1693115640606,
    "lastScheduledRunId": null,
    "lastSuccessfullyExecutedCode": "import re\nimport json\nimport requests\nimport csv\nimport pandas as pd"
   },
   "outputs": [],
   "source": [
    "import re\n",
    "import json\n",
    "import requests\n",
    "import csv\n",
    "import pandas as pd"
   ]
  },
  {
   "cell_type": "code",
   "execution_count": 34,
   "id": "4d62ffc3-dff8-49b2-b394-04fdd0107bbb",
   "metadata": {
    "executionCancelledAt": null,
    "executionTime": 11,
    "lastExecutedAt": 1693115644580,
    "lastScheduledRunId": null,
    "lastSuccessfullyExecutedCode": "url ='https://shopee.co.id/Official-Xiaomi-Redmi-12-(8GB-128GB)-(8GB-256GB)-MediaTek-Helio-G88-5000-mAh-18W-90Hz-FHD-50MP-Triple-Kamera-AI-i.51925611.20282046522?xptdk=27a3d8c0-b7e0-405c-817d-5f91385649ca'\nr = re.search(r'i\\.(\\d+)\\.(\\d+)', url)\nproduk='xiaomi'"
   },
   "outputs": [],
   "source": [
    "url = \"https://shopee.co.id/ASUS-VIVOBOOK-GO-14-E1404FA-RYZEN-3-7320-8GB-256GB-RADEON-610M-W11-OHS-14.0FHD-GRN-GRY-FHD322-i.250649369.14415147474\"\n",
    "r = re.search(r'i\\.(\\d+)\\.(\\d+)', url)\n",
    "produk='xiaomi'"
   ]
  },
  {
   "cell_type": "code",
   "execution_count": 35,
   "id": "ccb75e02-266a-4574-b7b8-c408c20988c9",
   "metadata": {
    "executionCancelledAt": null,
    "executionTime": 49,
    "lastExecutedAt": 1693115665386,
    "lastScheduledRunId": null,
    "lastSuccessfullyExecutedCode": "r = re.search(r'i\\.(\\d+)\\.(\\d+)', url)\nshop_id, item_id = r[1], r[2]\n\nratings_url = 'https://shopee.co.id/api/v2/item/get_ratings?filter=0&flag=1&itemid={item_id}&limit={limit}&offset={offset}&shopid={shop_id}&type=0'\n"
   },
   "outputs": [],
   "source": [
    "r = re.search(r'i\\.(\\d+)\\.(\\d+)', url)\n",
    "shop_id, item_id = r[1], r[2]\n",
    "\n",
    "# ratings_url = 'https://shopee.co.id/api/v2/item/get_ratings?filter=0&flag=1&itemid={item_id}&limit={limit}&offset={offset}&shopid={shop_id}&type=0'\n",
    "ratings_url = 'https://open.admin.shopee.io/api/v2/item/get_ratings?filter=0&flag=1&itemid={item_id}&limit={limit}&offset={offset}&shopid={shop_id}&type=0'\n"
   ]
  },
  {
   "cell_type": "code",
   "execution_count": 36,
   "id": "36ad0719-d130-4839-b056-bebd2b771731",
   "metadata": {
    "executionCancelledAt": null,
    "executionTime": 1911,
    "lastExecutedAt": 1693115670237,
    "lastScheduledRunId": null,
    "lastSuccessfullyExecutedCode": "offset=0\nlimit=50\ndata = requests.get(ratings_url.format(shop_id=shop_id, item_id=item_id, offset=offset,limit=limit)).json()\ndf = pd.DataFrame(data)"
   },
   "outputs": [
    {
     "ename": "ConnectTimeout",
     "evalue": "HTTPSConnectionPool(host='open.admin.shopee.io', port=443): Max retries exceeded with url: /api/v2/item/get_ratings?filter=0&flag=1&itemid=14415147474&limit=50&offset=0&shopid=250649369&type=0 (Caused by ConnectTimeoutError(<urllib3.connection.HTTPSConnection object at 0x000001D9FB0AAE40>, 'Connection to open.admin.shopee.io timed out. (connect timeout=None)'))",
     "output_type": "error",
     "traceback": [
      "\u001b[1;31m---------------------------------------------------------------------------\u001b[0m",
      "\u001b[1;31mTimeoutError\u001b[0m                              Traceback (most recent call last)",
      "File \u001b[1;32mc:\\Python312\\Lib\\site-packages\\urllib3\\connection.py:198\u001b[0m, in \u001b[0;36mHTTPConnection._new_conn\u001b[1;34m(self)\u001b[0m\n\u001b[0;32m    197\u001b[0m \u001b[38;5;28;01mtry\u001b[39;00m:\n\u001b[1;32m--> 198\u001b[0m     sock \u001b[38;5;241m=\u001b[39m \u001b[43mconnection\u001b[49m\u001b[38;5;241;43m.\u001b[39;49m\u001b[43mcreate_connection\u001b[49m\u001b[43m(\u001b[49m\n\u001b[0;32m    199\u001b[0m \u001b[43m        \u001b[49m\u001b[43m(\u001b[49m\u001b[38;5;28;43mself\u001b[39;49m\u001b[38;5;241;43m.\u001b[39;49m\u001b[43m_dns_host\u001b[49m\u001b[43m,\u001b[49m\u001b[43m \u001b[49m\u001b[38;5;28;43mself\u001b[39;49m\u001b[38;5;241;43m.\u001b[39;49m\u001b[43mport\u001b[49m\u001b[43m)\u001b[49m\u001b[43m,\u001b[49m\n\u001b[0;32m    200\u001b[0m \u001b[43m        \u001b[49m\u001b[38;5;28;43mself\u001b[39;49m\u001b[38;5;241;43m.\u001b[39;49m\u001b[43mtimeout\u001b[49m\u001b[43m,\u001b[49m\n\u001b[0;32m    201\u001b[0m \u001b[43m        \u001b[49m\u001b[43msource_address\u001b[49m\u001b[38;5;241;43m=\u001b[39;49m\u001b[38;5;28;43mself\u001b[39;49m\u001b[38;5;241;43m.\u001b[39;49m\u001b[43msource_address\u001b[49m\u001b[43m,\u001b[49m\n\u001b[0;32m    202\u001b[0m \u001b[43m        \u001b[49m\u001b[43msocket_options\u001b[49m\u001b[38;5;241;43m=\u001b[39;49m\u001b[38;5;28;43mself\u001b[39;49m\u001b[38;5;241;43m.\u001b[39;49m\u001b[43msocket_options\u001b[49m\u001b[43m,\u001b[49m\n\u001b[0;32m    203\u001b[0m \u001b[43m    \u001b[49m\u001b[43m)\u001b[49m\n\u001b[0;32m    204\u001b[0m \u001b[38;5;28;01mexcept\u001b[39;00m socket\u001b[38;5;241m.\u001b[39mgaierror \u001b[38;5;28;01mas\u001b[39;00m e:\n",
      "File \u001b[1;32mc:\\Python312\\Lib\\site-packages\\urllib3\\util\\connection.py:85\u001b[0m, in \u001b[0;36mcreate_connection\u001b[1;34m(address, timeout, source_address, socket_options)\u001b[0m\n\u001b[0;32m     84\u001b[0m \u001b[38;5;28;01mtry\u001b[39;00m:\n\u001b[1;32m---> 85\u001b[0m     \u001b[38;5;28;01mraise\u001b[39;00m err\n\u001b[0;32m     86\u001b[0m \u001b[38;5;28;01mfinally\u001b[39;00m:\n\u001b[0;32m     87\u001b[0m     \u001b[38;5;66;03m# Break explicitly a reference cycle\u001b[39;00m\n",
      "File \u001b[1;32mc:\\Python312\\Lib\\site-packages\\urllib3\\util\\connection.py:73\u001b[0m, in \u001b[0;36mcreate_connection\u001b[1;34m(address, timeout, source_address, socket_options)\u001b[0m\n\u001b[0;32m     72\u001b[0m     sock\u001b[38;5;241m.\u001b[39mbind(source_address)\n\u001b[1;32m---> 73\u001b[0m \u001b[43msock\u001b[49m\u001b[38;5;241;43m.\u001b[39;49m\u001b[43mconnect\u001b[49m\u001b[43m(\u001b[49m\u001b[43msa\u001b[49m\u001b[43m)\u001b[49m\n\u001b[0;32m     74\u001b[0m \u001b[38;5;66;03m# Break explicitly a reference cycle\u001b[39;00m\n",
      "\u001b[1;31mTimeoutError\u001b[0m: [WinError 10060] A connection attempt failed because the connected party did not properly respond after a period of time, or established connection failed because connected host has failed to respond",
      "\nThe above exception was the direct cause of the following exception:\n",
      "\u001b[1;31mConnectTimeoutError\u001b[0m                       Traceback (most recent call last)",
      "File \u001b[1;32mc:\\Python312\\Lib\\site-packages\\urllib3\\connectionpool.py:793\u001b[0m, in \u001b[0;36mHTTPConnectionPool.urlopen\u001b[1;34m(self, method, url, body, headers, retries, redirect, assert_same_host, timeout, pool_timeout, release_conn, chunked, body_pos, preload_content, decode_content, **response_kw)\u001b[0m\n\u001b[0;32m    792\u001b[0m \u001b[38;5;66;03m# Make the request on the HTTPConnection object\u001b[39;00m\n\u001b[1;32m--> 793\u001b[0m response \u001b[38;5;241m=\u001b[39m \u001b[38;5;28;43mself\u001b[39;49m\u001b[38;5;241;43m.\u001b[39;49m\u001b[43m_make_request\u001b[49m\u001b[43m(\u001b[49m\n\u001b[0;32m    794\u001b[0m \u001b[43m    \u001b[49m\u001b[43mconn\u001b[49m\u001b[43m,\u001b[49m\n\u001b[0;32m    795\u001b[0m \u001b[43m    \u001b[49m\u001b[43mmethod\u001b[49m\u001b[43m,\u001b[49m\n\u001b[0;32m    796\u001b[0m \u001b[43m    \u001b[49m\u001b[43murl\u001b[49m\u001b[43m,\u001b[49m\n\u001b[0;32m    797\u001b[0m \u001b[43m    \u001b[49m\u001b[43mtimeout\u001b[49m\u001b[38;5;241;43m=\u001b[39;49m\u001b[43mtimeout_obj\u001b[49m\u001b[43m,\u001b[49m\n\u001b[0;32m    798\u001b[0m \u001b[43m    \u001b[49m\u001b[43mbody\u001b[49m\u001b[38;5;241;43m=\u001b[39;49m\u001b[43mbody\u001b[49m\u001b[43m,\u001b[49m\n\u001b[0;32m    799\u001b[0m \u001b[43m    \u001b[49m\u001b[43mheaders\u001b[49m\u001b[38;5;241;43m=\u001b[39;49m\u001b[43mheaders\u001b[49m\u001b[43m,\u001b[49m\n\u001b[0;32m    800\u001b[0m \u001b[43m    \u001b[49m\u001b[43mchunked\u001b[49m\u001b[38;5;241;43m=\u001b[39;49m\u001b[43mchunked\u001b[49m\u001b[43m,\u001b[49m\n\u001b[0;32m    801\u001b[0m \u001b[43m    \u001b[49m\u001b[43mretries\u001b[49m\u001b[38;5;241;43m=\u001b[39;49m\u001b[43mretries\u001b[49m\u001b[43m,\u001b[49m\n\u001b[0;32m    802\u001b[0m \u001b[43m    \u001b[49m\u001b[43mresponse_conn\u001b[49m\u001b[38;5;241;43m=\u001b[39;49m\u001b[43mresponse_conn\u001b[49m\u001b[43m,\u001b[49m\n\u001b[0;32m    803\u001b[0m \u001b[43m    \u001b[49m\u001b[43mpreload_content\u001b[49m\u001b[38;5;241;43m=\u001b[39;49m\u001b[43mpreload_content\u001b[49m\u001b[43m,\u001b[49m\n\u001b[0;32m    804\u001b[0m \u001b[43m    \u001b[49m\u001b[43mdecode_content\u001b[49m\u001b[38;5;241;43m=\u001b[39;49m\u001b[43mdecode_content\u001b[49m\u001b[43m,\u001b[49m\n\u001b[0;32m    805\u001b[0m \u001b[43m    \u001b[49m\u001b[38;5;241;43m*\u001b[39;49m\u001b[38;5;241;43m*\u001b[39;49m\u001b[43mresponse_kw\u001b[49m\u001b[43m,\u001b[49m\n\u001b[0;32m    806\u001b[0m \u001b[43m\u001b[49m\u001b[43m)\u001b[49m\n\u001b[0;32m    808\u001b[0m \u001b[38;5;66;03m# Everything went great!\u001b[39;00m\n",
      "File \u001b[1;32mc:\\Python312\\Lib\\site-packages\\urllib3\\connectionpool.py:491\u001b[0m, in \u001b[0;36mHTTPConnectionPool._make_request\u001b[1;34m(self, conn, method, url, body, headers, retries, timeout, chunked, response_conn, preload_content, decode_content, enforce_content_length)\u001b[0m\n\u001b[0;32m    490\u001b[0m         new_e \u001b[38;5;241m=\u001b[39m _wrap_proxy_error(new_e, conn\u001b[38;5;241m.\u001b[39mproxy\u001b[38;5;241m.\u001b[39mscheme)\n\u001b[1;32m--> 491\u001b[0m     \u001b[38;5;28;01mraise\u001b[39;00m new_e\n\u001b[0;32m    493\u001b[0m \u001b[38;5;66;03m# conn.request() calls http.client.*.request, not the method in\u001b[39;00m\n\u001b[0;32m    494\u001b[0m \u001b[38;5;66;03m# urllib3.request. It also calls makefile (recv) on the socket.\u001b[39;00m\n",
      "File \u001b[1;32mc:\\Python312\\Lib\\site-packages\\urllib3\\connectionpool.py:467\u001b[0m, in \u001b[0;36mHTTPConnectionPool._make_request\u001b[1;34m(self, conn, method, url, body, headers, retries, timeout, chunked, response_conn, preload_content, decode_content, enforce_content_length)\u001b[0m\n\u001b[0;32m    466\u001b[0m \u001b[38;5;28;01mtry\u001b[39;00m:\n\u001b[1;32m--> 467\u001b[0m     \u001b[38;5;28;43mself\u001b[39;49m\u001b[38;5;241;43m.\u001b[39;49m\u001b[43m_validate_conn\u001b[49m\u001b[43m(\u001b[49m\u001b[43mconn\u001b[49m\u001b[43m)\u001b[49m\n\u001b[0;32m    468\u001b[0m \u001b[38;5;28;01mexcept\u001b[39;00m (SocketTimeout, BaseSSLError) \u001b[38;5;28;01mas\u001b[39;00m e:\n",
      "File \u001b[1;32mc:\\Python312\\Lib\\site-packages\\urllib3\\connectionpool.py:1099\u001b[0m, in \u001b[0;36mHTTPSConnectionPool._validate_conn\u001b[1;34m(self, conn)\u001b[0m\n\u001b[0;32m   1098\u001b[0m \u001b[38;5;28;01mif\u001b[39;00m conn\u001b[38;5;241m.\u001b[39mis_closed:\n\u001b[1;32m-> 1099\u001b[0m     \u001b[43mconn\u001b[49m\u001b[38;5;241;43m.\u001b[39;49m\u001b[43mconnect\u001b[49m\u001b[43m(\u001b[49m\u001b[43m)\u001b[49m\n\u001b[0;32m   1101\u001b[0m \u001b[38;5;66;03m# TODO revise this, see https://github.com/urllib3/urllib3/issues/2791\u001b[39;00m\n",
      "File \u001b[1;32mc:\\Python312\\Lib\\site-packages\\urllib3\\connection.py:616\u001b[0m, in \u001b[0;36mHTTPSConnection.connect\u001b[1;34m(self)\u001b[0m\n\u001b[0;32m    615\u001b[0m sock: socket\u001b[38;5;241m.\u001b[39msocket \u001b[38;5;241m|\u001b[39m ssl\u001b[38;5;241m.\u001b[39mSSLSocket\n\u001b[1;32m--> 616\u001b[0m \u001b[38;5;28mself\u001b[39m\u001b[38;5;241m.\u001b[39msock \u001b[38;5;241m=\u001b[39m sock \u001b[38;5;241m=\u001b[39m \u001b[38;5;28;43mself\u001b[39;49m\u001b[38;5;241;43m.\u001b[39;49m\u001b[43m_new_conn\u001b[49m\u001b[43m(\u001b[49m\u001b[43m)\u001b[49m\n\u001b[0;32m    617\u001b[0m server_hostname: \u001b[38;5;28mstr\u001b[39m \u001b[38;5;241m=\u001b[39m \u001b[38;5;28mself\u001b[39m\u001b[38;5;241m.\u001b[39mhost\n",
      "File \u001b[1;32mc:\\Python312\\Lib\\site-packages\\urllib3\\connection.py:207\u001b[0m, in \u001b[0;36mHTTPConnection._new_conn\u001b[1;34m(self)\u001b[0m\n\u001b[0;32m    206\u001b[0m \u001b[38;5;28;01mexcept\u001b[39;00m SocketTimeout \u001b[38;5;28;01mas\u001b[39;00m e:\n\u001b[1;32m--> 207\u001b[0m     \u001b[38;5;28;01mraise\u001b[39;00m ConnectTimeoutError(\n\u001b[0;32m    208\u001b[0m         \u001b[38;5;28mself\u001b[39m,\n\u001b[0;32m    209\u001b[0m         \u001b[38;5;124mf\u001b[39m\u001b[38;5;124m\"\u001b[39m\u001b[38;5;124mConnection to \u001b[39m\u001b[38;5;132;01m{\u001b[39;00m\u001b[38;5;28mself\u001b[39m\u001b[38;5;241m.\u001b[39mhost\u001b[38;5;132;01m}\u001b[39;00m\u001b[38;5;124m timed out. (connect timeout=\u001b[39m\u001b[38;5;132;01m{\u001b[39;00m\u001b[38;5;28mself\u001b[39m\u001b[38;5;241m.\u001b[39mtimeout\u001b[38;5;132;01m}\u001b[39;00m\u001b[38;5;124m)\u001b[39m\u001b[38;5;124m\"\u001b[39m,\n\u001b[0;32m    210\u001b[0m     ) \u001b[38;5;28;01mfrom\u001b[39;00m \u001b[38;5;21;01me\u001b[39;00m\n\u001b[0;32m    212\u001b[0m \u001b[38;5;28;01mexcept\u001b[39;00m \u001b[38;5;167;01mOSError\u001b[39;00m \u001b[38;5;28;01mas\u001b[39;00m e:\n",
      "\u001b[1;31mConnectTimeoutError\u001b[0m: (<urllib3.connection.HTTPSConnection object at 0x000001D9FB0AAE40>, 'Connection to open.admin.shopee.io timed out. (connect timeout=None)')",
      "\nThe above exception was the direct cause of the following exception:\n",
      "\u001b[1;31mMaxRetryError\u001b[0m                             Traceback (most recent call last)",
      "File \u001b[1;32m~\\AppData\\Roaming\\Python\\Python312\\site-packages\\requests\\adapters.py:486\u001b[0m, in \u001b[0;36mHTTPAdapter.send\u001b[1;34m(self, request, stream, timeout, verify, cert, proxies)\u001b[0m\n\u001b[0;32m    485\u001b[0m \u001b[38;5;28;01mtry\u001b[39;00m:\n\u001b[1;32m--> 486\u001b[0m     resp \u001b[38;5;241m=\u001b[39m \u001b[43mconn\u001b[49m\u001b[38;5;241;43m.\u001b[39;49m\u001b[43murlopen\u001b[49m\u001b[43m(\u001b[49m\n\u001b[0;32m    487\u001b[0m \u001b[43m        \u001b[49m\u001b[43mmethod\u001b[49m\u001b[38;5;241;43m=\u001b[39;49m\u001b[43mrequest\u001b[49m\u001b[38;5;241;43m.\u001b[39;49m\u001b[43mmethod\u001b[49m\u001b[43m,\u001b[49m\n\u001b[0;32m    488\u001b[0m \u001b[43m        \u001b[49m\u001b[43murl\u001b[49m\u001b[38;5;241;43m=\u001b[39;49m\u001b[43murl\u001b[49m\u001b[43m,\u001b[49m\n\u001b[0;32m    489\u001b[0m \u001b[43m        \u001b[49m\u001b[43mbody\u001b[49m\u001b[38;5;241;43m=\u001b[39;49m\u001b[43mrequest\u001b[49m\u001b[38;5;241;43m.\u001b[39;49m\u001b[43mbody\u001b[49m\u001b[43m,\u001b[49m\n\u001b[0;32m    490\u001b[0m \u001b[43m        \u001b[49m\u001b[43mheaders\u001b[49m\u001b[38;5;241;43m=\u001b[39;49m\u001b[43mrequest\u001b[49m\u001b[38;5;241;43m.\u001b[39;49m\u001b[43mheaders\u001b[49m\u001b[43m,\u001b[49m\n\u001b[0;32m    491\u001b[0m \u001b[43m        \u001b[49m\u001b[43mredirect\u001b[49m\u001b[38;5;241;43m=\u001b[39;49m\u001b[38;5;28;43;01mFalse\u001b[39;49;00m\u001b[43m,\u001b[49m\n\u001b[0;32m    492\u001b[0m \u001b[43m        \u001b[49m\u001b[43massert_same_host\u001b[49m\u001b[38;5;241;43m=\u001b[39;49m\u001b[38;5;28;43;01mFalse\u001b[39;49;00m\u001b[43m,\u001b[49m\n\u001b[0;32m    493\u001b[0m \u001b[43m        \u001b[49m\u001b[43mpreload_content\u001b[49m\u001b[38;5;241;43m=\u001b[39;49m\u001b[38;5;28;43;01mFalse\u001b[39;49;00m\u001b[43m,\u001b[49m\n\u001b[0;32m    494\u001b[0m \u001b[43m        \u001b[49m\u001b[43mdecode_content\u001b[49m\u001b[38;5;241;43m=\u001b[39;49m\u001b[38;5;28;43;01mFalse\u001b[39;49;00m\u001b[43m,\u001b[49m\n\u001b[0;32m    495\u001b[0m \u001b[43m        \u001b[49m\u001b[43mretries\u001b[49m\u001b[38;5;241;43m=\u001b[39;49m\u001b[38;5;28;43mself\u001b[39;49m\u001b[38;5;241;43m.\u001b[39;49m\u001b[43mmax_retries\u001b[49m\u001b[43m,\u001b[49m\n\u001b[0;32m    496\u001b[0m \u001b[43m        \u001b[49m\u001b[43mtimeout\u001b[49m\u001b[38;5;241;43m=\u001b[39;49m\u001b[43mtimeout\u001b[49m\u001b[43m,\u001b[49m\n\u001b[0;32m    497\u001b[0m \u001b[43m        \u001b[49m\u001b[43mchunked\u001b[49m\u001b[38;5;241;43m=\u001b[39;49m\u001b[43mchunked\u001b[49m\u001b[43m,\u001b[49m\n\u001b[0;32m    498\u001b[0m \u001b[43m    \u001b[49m\u001b[43m)\u001b[49m\n\u001b[0;32m    500\u001b[0m \u001b[38;5;28;01mexcept\u001b[39;00m (ProtocolError, \u001b[38;5;167;01mOSError\u001b[39;00m) \u001b[38;5;28;01mas\u001b[39;00m err:\n",
      "File \u001b[1;32mc:\\Python312\\Lib\\site-packages\\urllib3\\connectionpool.py:847\u001b[0m, in \u001b[0;36mHTTPConnectionPool.urlopen\u001b[1;34m(self, method, url, body, headers, retries, redirect, assert_same_host, timeout, pool_timeout, release_conn, chunked, body_pos, preload_content, decode_content, **response_kw)\u001b[0m\n\u001b[0;32m    845\u001b[0m     new_e \u001b[38;5;241m=\u001b[39m ProtocolError(\u001b[38;5;124m\"\u001b[39m\u001b[38;5;124mConnection aborted.\u001b[39m\u001b[38;5;124m\"\u001b[39m, new_e)\n\u001b[1;32m--> 847\u001b[0m retries \u001b[38;5;241m=\u001b[39m \u001b[43mretries\u001b[49m\u001b[38;5;241;43m.\u001b[39;49m\u001b[43mincrement\u001b[49m\u001b[43m(\u001b[49m\n\u001b[0;32m    848\u001b[0m \u001b[43m    \u001b[49m\u001b[43mmethod\u001b[49m\u001b[43m,\u001b[49m\u001b[43m \u001b[49m\u001b[43murl\u001b[49m\u001b[43m,\u001b[49m\u001b[43m \u001b[49m\u001b[43merror\u001b[49m\u001b[38;5;241;43m=\u001b[39;49m\u001b[43mnew_e\u001b[49m\u001b[43m,\u001b[49m\u001b[43m \u001b[49m\u001b[43m_pool\u001b[49m\u001b[38;5;241;43m=\u001b[39;49m\u001b[38;5;28;43mself\u001b[39;49m\u001b[43m,\u001b[49m\u001b[43m \u001b[49m\u001b[43m_stacktrace\u001b[49m\u001b[38;5;241;43m=\u001b[39;49m\u001b[43msys\u001b[49m\u001b[38;5;241;43m.\u001b[39;49m\u001b[43mexc_info\u001b[49m\u001b[43m(\u001b[49m\u001b[43m)\u001b[49m\u001b[43m[\u001b[49m\u001b[38;5;241;43m2\u001b[39;49m\u001b[43m]\u001b[49m\n\u001b[0;32m    849\u001b[0m \u001b[43m\u001b[49m\u001b[43m)\u001b[49m\n\u001b[0;32m    850\u001b[0m retries\u001b[38;5;241m.\u001b[39msleep()\n",
      "File \u001b[1;32mc:\\Python312\\Lib\\site-packages\\urllib3\\util\\retry.py:515\u001b[0m, in \u001b[0;36mRetry.increment\u001b[1;34m(self, method, url, response, error, _pool, _stacktrace)\u001b[0m\n\u001b[0;32m    514\u001b[0m     reason \u001b[38;5;241m=\u001b[39m error \u001b[38;5;129;01mor\u001b[39;00m ResponseError(cause)\n\u001b[1;32m--> 515\u001b[0m     \u001b[38;5;28;01mraise\u001b[39;00m MaxRetryError(_pool, url, reason) \u001b[38;5;28;01mfrom\u001b[39;00m \u001b[38;5;21;01mreason\u001b[39;00m  \u001b[38;5;66;03m# type: ignore[arg-type]\u001b[39;00m\n\u001b[0;32m    517\u001b[0m log\u001b[38;5;241m.\u001b[39mdebug(\u001b[38;5;124m\"\u001b[39m\u001b[38;5;124mIncremented Retry for (url=\u001b[39m\u001b[38;5;124m'\u001b[39m\u001b[38;5;132;01m%s\u001b[39;00m\u001b[38;5;124m'\u001b[39m\u001b[38;5;124m): \u001b[39m\u001b[38;5;132;01m%r\u001b[39;00m\u001b[38;5;124m\"\u001b[39m, url, new_retry)\n",
      "\u001b[1;31mMaxRetryError\u001b[0m: HTTPSConnectionPool(host='open.admin.shopee.io', port=443): Max retries exceeded with url: /api/v2/item/get_ratings?filter=0&flag=1&itemid=14415147474&limit=50&offset=0&shopid=250649369&type=0 (Caused by ConnectTimeoutError(<urllib3.connection.HTTPSConnection object at 0x000001D9FB0AAE40>, 'Connection to open.admin.shopee.io timed out. (connect timeout=None)'))",
      "\nDuring handling of the above exception, another exception occurred:\n",
      "\u001b[1;31mConnectTimeout\u001b[0m                            Traceback (most recent call last)",
      "Cell \u001b[1;32mIn[36], line 3\u001b[0m\n\u001b[0;32m      1\u001b[0m offset\u001b[38;5;241m=\u001b[39m\u001b[38;5;241m0\u001b[39m\n\u001b[0;32m      2\u001b[0m limit\u001b[38;5;241m=\u001b[39m\u001b[38;5;241m50\u001b[39m\n\u001b[1;32m----> 3\u001b[0m data \u001b[38;5;241m=\u001b[39m \u001b[43mrequests\u001b[49m\u001b[38;5;241;43m.\u001b[39;49m\u001b[43mget\u001b[49m\u001b[43m(\u001b[49m\u001b[43mratings_url\u001b[49m\u001b[38;5;241;43m.\u001b[39;49m\u001b[43mformat\u001b[49m\u001b[43m(\u001b[49m\u001b[43mshop_id\u001b[49m\u001b[38;5;241;43m=\u001b[39;49m\u001b[43mshop_id\u001b[49m\u001b[43m,\u001b[49m\u001b[43m \u001b[49m\u001b[43mitem_id\u001b[49m\u001b[38;5;241;43m=\u001b[39;49m\u001b[43mitem_id\u001b[49m\u001b[43m,\u001b[49m\u001b[43m \u001b[49m\u001b[43moffset\u001b[49m\u001b[38;5;241;43m=\u001b[39;49m\u001b[43moffset\u001b[49m\u001b[43m,\u001b[49m\u001b[43mlimit\u001b[49m\u001b[38;5;241;43m=\u001b[39;49m\u001b[43mlimit\u001b[49m\u001b[43m)\u001b[49m\u001b[43m)\u001b[49m\u001b[38;5;241m.\u001b[39mjson()\n\u001b[0;32m      4\u001b[0m \u001b[38;5;66;03m# df = pd.DataFrame(data['rating'])  # Sesuaikan 'ratings' dengan kunci yang sesuai dalam data API Anda\u001b[39;00m\n\u001b[0;32m      5\u001b[0m data\n",
      "File \u001b[1;32m~\\AppData\\Roaming\\Python\\Python312\\site-packages\\requests\\api.py:73\u001b[0m, in \u001b[0;36mget\u001b[1;34m(url, params, **kwargs)\u001b[0m\n\u001b[0;32m     62\u001b[0m \u001b[38;5;28;01mdef\u001b[39;00m \u001b[38;5;21mget\u001b[39m(url, params\u001b[38;5;241m=\u001b[39m\u001b[38;5;28;01mNone\u001b[39;00m, \u001b[38;5;241m*\u001b[39m\u001b[38;5;241m*\u001b[39mkwargs):\n\u001b[0;32m     63\u001b[0m \u001b[38;5;250m    \u001b[39m\u001b[38;5;124mr\u001b[39m\u001b[38;5;124;03m\"\"\"Sends a GET request.\u001b[39;00m\n\u001b[0;32m     64\u001b[0m \n\u001b[0;32m     65\u001b[0m \u001b[38;5;124;03m    :param url: URL for the new :class:`Request` object.\u001b[39;00m\n\u001b[1;32m   (...)\u001b[0m\n\u001b[0;32m     70\u001b[0m \u001b[38;5;124;03m    :rtype: requests.Response\u001b[39;00m\n\u001b[0;32m     71\u001b[0m \u001b[38;5;124;03m    \"\"\"\u001b[39;00m\n\u001b[1;32m---> 73\u001b[0m     \u001b[38;5;28;01mreturn\u001b[39;00m \u001b[43mrequest\u001b[49m\u001b[43m(\u001b[49m\u001b[38;5;124;43m\"\u001b[39;49m\u001b[38;5;124;43mget\u001b[39;49m\u001b[38;5;124;43m\"\u001b[39;49m\u001b[43m,\u001b[49m\u001b[43m \u001b[49m\u001b[43murl\u001b[49m\u001b[43m,\u001b[49m\u001b[43m \u001b[49m\u001b[43mparams\u001b[49m\u001b[38;5;241;43m=\u001b[39;49m\u001b[43mparams\u001b[49m\u001b[43m,\u001b[49m\u001b[43m \u001b[49m\u001b[38;5;241;43m*\u001b[39;49m\u001b[38;5;241;43m*\u001b[39;49m\u001b[43mkwargs\u001b[49m\u001b[43m)\u001b[49m\n",
      "File \u001b[1;32m~\\AppData\\Roaming\\Python\\Python312\\site-packages\\requests\\api.py:59\u001b[0m, in \u001b[0;36mrequest\u001b[1;34m(method, url, **kwargs)\u001b[0m\n\u001b[0;32m     55\u001b[0m \u001b[38;5;66;03m# By using the 'with' statement we are sure the session is closed, thus we\u001b[39;00m\n\u001b[0;32m     56\u001b[0m \u001b[38;5;66;03m# avoid leaving sockets open which can trigger a ResourceWarning in some\u001b[39;00m\n\u001b[0;32m     57\u001b[0m \u001b[38;5;66;03m# cases, and look like a memory leak in others.\u001b[39;00m\n\u001b[0;32m     58\u001b[0m \u001b[38;5;28;01mwith\u001b[39;00m sessions\u001b[38;5;241m.\u001b[39mSession() \u001b[38;5;28;01mas\u001b[39;00m session:\n\u001b[1;32m---> 59\u001b[0m     \u001b[38;5;28;01mreturn\u001b[39;00m \u001b[43msession\u001b[49m\u001b[38;5;241;43m.\u001b[39;49m\u001b[43mrequest\u001b[49m\u001b[43m(\u001b[49m\u001b[43mmethod\u001b[49m\u001b[38;5;241;43m=\u001b[39;49m\u001b[43mmethod\u001b[49m\u001b[43m,\u001b[49m\u001b[43m \u001b[49m\u001b[43murl\u001b[49m\u001b[38;5;241;43m=\u001b[39;49m\u001b[43murl\u001b[49m\u001b[43m,\u001b[49m\u001b[43m \u001b[49m\u001b[38;5;241;43m*\u001b[39;49m\u001b[38;5;241;43m*\u001b[39;49m\u001b[43mkwargs\u001b[49m\u001b[43m)\u001b[49m\n",
      "File \u001b[1;32m~\\AppData\\Roaming\\Python\\Python312\\site-packages\\requests\\sessions.py:589\u001b[0m, in \u001b[0;36mSession.request\u001b[1;34m(self, method, url, params, data, headers, cookies, files, auth, timeout, allow_redirects, proxies, hooks, stream, verify, cert, json)\u001b[0m\n\u001b[0;32m    584\u001b[0m send_kwargs \u001b[38;5;241m=\u001b[39m {\n\u001b[0;32m    585\u001b[0m     \u001b[38;5;124m\"\u001b[39m\u001b[38;5;124mtimeout\u001b[39m\u001b[38;5;124m\"\u001b[39m: timeout,\n\u001b[0;32m    586\u001b[0m     \u001b[38;5;124m\"\u001b[39m\u001b[38;5;124mallow_redirects\u001b[39m\u001b[38;5;124m\"\u001b[39m: allow_redirects,\n\u001b[0;32m    587\u001b[0m }\n\u001b[0;32m    588\u001b[0m send_kwargs\u001b[38;5;241m.\u001b[39mupdate(settings)\n\u001b[1;32m--> 589\u001b[0m resp \u001b[38;5;241m=\u001b[39m \u001b[38;5;28;43mself\u001b[39;49m\u001b[38;5;241;43m.\u001b[39;49m\u001b[43msend\u001b[49m\u001b[43m(\u001b[49m\u001b[43mprep\u001b[49m\u001b[43m,\u001b[49m\u001b[43m \u001b[49m\u001b[38;5;241;43m*\u001b[39;49m\u001b[38;5;241;43m*\u001b[39;49m\u001b[43msend_kwargs\u001b[49m\u001b[43m)\u001b[49m\n\u001b[0;32m    591\u001b[0m \u001b[38;5;28;01mreturn\u001b[39;00m resp\n",
      "File \u001b[1;32m~\\AppData\\Roaming\\Python\\Python312\\site-packages\\requests\\sessions.py:703\u001b[0m, in \u001b[0;36mSession.send\u001b[1;34m(self, request, **kwargs)\u001b[0m\n\u001b[0;32m    700\u001b[0m start \u001b[38;5;241m=\u001b[39m preferred_clock()\n\u001b[0;32m    702\u001b[0m \u001b[38;5;66;03m# Send the request\u001b[39;00m\n\u001b[1;32m--> 703\u001b[0m r \u001b[38;5;241m=\u001b[39m \u001b[43madapter\u001b[49m\u001b[38;5;241;43m.\u001b[39;49m\u001b[43msend\u001b[49m\u001b[43m(\u001b[49m\u001b[43mrequest\u001b[49m\u001b[43m,\u001b[49m\u001b[43m \u001b[49m\u001b[38;5;241;43m*\u001b[39;49m\u001b[38;5;241;43m*\u001b[39;49m\u001b[43mkwargs\u001b[49m\u001b[43m)\u001b[49m\n\u001b[0;32m    705\u001b[0m \u001b[38;5;66;03m# Total elapsed time of the request (approximately)\u001b[39;00m\n\u001b[0;32m    706\u001b[0m elapsed \u001b[38;5;241m=\u001b[39m preferred_clock() \u001b[38;5;241m-\u001b[39m start\n",
      "File \u001b[1;32m~\\AppData\\Roaming\\Python\\Python312\\site-packages\\requests\\adapters.py:507\u001b[0m, in \u001b[0;36mHTTPAdapter.send\u001b[1;34m(self, request, stream, timeout, verify, cert, proxies)\u001b[0m\n\u001b[0;32m    504\u001b[0m \u001b[38;5;28;01mif\u001b[39;00m \u001b[38;5;28misinstance\u001b[39m(e\u001b[38;5;241m.\u001b[39mreason, ConnectTimeoutError):\n\u001b[0;32m    505\u001b[0m     \u001b[38;5;66;03m# TODO: Remove this in 3.0.0: see #2811\u001b[39;00m\n\u001b[0;32m    506\u001b[0m     \u001b[38;5;28;01mif\u001b[39;00m \u001b[38;5;129;01mnot\u001b[39;00m \u001b[38;5;28misinstance\u001b[39m(e\u001b[38;5;241m.\u001b[39mreason, NewConnectionError):\n\u001b[1;32m--> 507\u001b[0m         \u001b[38;5;28;01mraise\u001b[39;00m ConnectTimeout(e, request\u001b[38;5;241m=\u001b[39mrequest)\n\u001b[0;32m    509\u001b[0m \u001b[38;5;28;01mif\u001b[39;00m \u001b[38;5;28misinstance\u001b[39m(e\u001b[38;5;241m.\u001b[39mreason, ResponseError):\n\u001b[0;32m    510\u001b[0m     \u001b[38;5;28;01mraise\u001b[39;00m RetryError(e, request\u001b[38;5;241m=\u001b[39mrequest)\n",
      "\u001b[1;31mConnectTimeout\u001b[0m: HTTPSConnectionPool(host='open.admin.shopee.io', port=443): Max retries exceeded with url: /api/v2/item/get_ratings?filter=0&flag=1&itemid=14415147474&limit=50&offset=0&shopid=250649369&type=0 (Caused by ConnectTimeoutError(<urllib3.connection.HTTPSConnection object at 0x000001D9FB0AAE40>, 'Connection to open.admin.shopee.io timed out. (connect timeout=None)'))"
     ]
    }
   ],
   "source": [
    "offset=0\n",
    "limit=50\n",
    "data = requests.get(ratings_url.format(shop_id=shop_id, item_id=item_id, offset=offset,limit=limit)).json()\n",
    "# df = pd.DataFrame(data['rating'])  # Sesuaikan 'ratings' dengan kunci yang sesuai dalam data API Anda\n",
    "data\n",
    "# df = pd.DataFrame(data)"
   ]
  },
  {
   "cell_type": "code",
   "execution_count": null,
   "id": "1669c47b",
   "metadata": {},
   "outputs": [
    {
     "data": {
      "text/plain": [
       "{'is_customized': False,\n",
       " 'is_login': False,\n",
       " 'action_type': 2,\n",
       " 'error': 90309999,\n",
       " 'tracking_id': '25104eecf3-115b-4818-8ca6-3ead20c7f056'}"
      ]
     },
     "execution_count": 28,
     "metadata": {},
     "output_type": "execute_result"
    }
   ],
   "source": [
    "data"
   ]
  },
  {
   "cell_type": "code",
   "execution_count": null,
   "id": "47f408f2-505a-4390-bae0-29e92283c240",
   "metadata": {
    "executionCancelledAt": null,
    "executionTime": 10,
    "lastExecutedAt": 1693115673039,
    "lastScheduledRunId": null,
    "lastSuccessfullyExecutedCode": "\n# df.head(20)",
    "outputsMetadata": {
     "0": {
      "height": 313,
      "type": "dataFrame"
     }
    }
   },
   "outputs": [],
   "source": [
    "\n",
    "# df.head(20)"
   ]
  },
  {
   "cell_type": "code",
   "execution_count": null,
   "id": "13480bfa-71ed-4c5b-9c39-2b733ddcbdfe",
   "metadata": {
    "executionCancelledAt": null,
    "executionTime": 384,
    "lastExecutedAt": 1693115677577,
    "lastScheduledRunId": null,
    "lastSuccessfullyExecutedCode": "df_ratings = pd.DataFrame(df['data']['ratings'])\ndf_ratings",
    "outputsMetadata": {
     "0": {
      "height": 313,
      "type": "dataFrame"
     }
    }
   },
   "outputs": [
    {
     "ename": "NameError",
     "evalue": "name 'df' is not defined",
     "output_type": "error",
     "traceback": [
      "\u001b[1;31m---------------------------------------------------------------------------\u001b[0m",
      "\u001b[1;31mNameError\u001b[0m                                 Traceback (most recent call last)",
      "Cell \u001b[1;32mIn[26], line 1\u001b[0m\n\u001b[1;32m----> 1\u001b[0m df_ratings \u001b[38;5;241m=\u001b[39m pd\u001b[38;5;241m.\u001b[39mDataFrame(\u001b[43mdf\u001b[49m[\u001b[38;5;124m'\u001b[39m\u001b[38;5;124mdata\u001b[39m\u001b[38;5;124m'\u001b[39m][\u001b[38;5;124m'\u001b[39m\u001b[38;5;124mratings\u001b[39m\u001b[38;5;124m'\u001b[39m])\n\u001b[0;32m      2\u001b[0m df_ratings\n",
      "\u001b[1;31mNameError\u001b[0m: name 'df' is not defined"
     ]
    }
   ],
   "source": [
    "df_ratings = pd.DataFrame(df['data']['ratings'])\n",
    "df_ratings"
   ]
  },
  {
   "cell_type": "code",
   "execution_count": null,
   "id": "207e4e6a-fa4f-4196-ab8e-be63eab89af8",
   "metadata": {
    "chartConfig": {
     "bar": {
      "hasRoundedCorners": true,
      "stacked": false
     },
     "type": "bar",
     "version": "v1"
    },
    "executionCancelledAt": null,
    "executionTime": 235,
    "lastExecutedAt": 1693115690300,
    "lastScheduledRunId": null,
    "lastSuccessfullyExecutedCode": "ratings=pd.DataFrame(df['data']['ratings'])\nratings.head(25)",
    "outputsMetadata": {
     "0": {
      "height": 313,
      "type": "dataFrame"
     }
    },
    "visualizeDataframe": false
   },
   "outputs": [
    {
     "data": {
      "application/com.datacamp.data-table.v1+json": {
       "table": {
        "data": [
         {
          "ItemRatingReply": null,
          "anonymous": false,
          "author_portrait": "13dfd76373ea09e4de0b84277419014e",
          "author_shopid": 155100340,
          "author_username": "virjinki14",
          "can_follow_up": null,
          "cmtid": 12334513190,
          "comment": "Sepadan dengan Harga:YA\nFitur Terbaik:Kapasitas penyimpanan\n\nHampir seminggu pemakaian, \n(+) user interface enak dipake, body hp elegan\n(+) kamera foto lumayan jernih (siang/pencahayaan bagus), ada kamera 0.5\n(+) baterai pemakaian standar (sosmed) tahan bisa 12 jam-seharian\n(+) speakernya kuat walopun cuma satu\n\n(-) bingung kenapa tampilan di tiktok videonya pada ngezoom semua, kepotong, ngga full 🥲 masih nyari settingannya sampe skrg, udh coba update tetep sama aja\n(-) body gede jadi kalo digenggam satu tangan lama\" cape\n(-) kalo ngescroll/slide kurang srek, ga bouncy gmn gtu (mungkin krn sblmnya pake iph ato blm biasa aja hehehe)\n(-) charge dari 0-100% butuh waktu 2jam20menit\n(-) rekam video harus pake gimbal krn ga ada stabilisasinya\nTAPI, harga segini udah worth to buy kok. XIAOMI keren!!!",
          "ctime": 1692509692,
          "delete_operator": null,
          "delete_reason": null,
          "detailed_rating": {
           "delivery_service": 5,
           "driver_service": null,
           "product_quality": 5,
           "seller_service": 5
          },
          "display_variation_filter": true,
          "editable": 1,
          "editable_date": 1695101692,
          "exclude_scoring_due_low_logistic": false,
          "filter": 7,
          "follow_up": null,
          "has_template_tag": true,
          "image_data": [
           {
            "cover_image_id": "id-11134103-7r98o-lknfa025o01be4",
            "image_id": "id-11134103-7r98o-lknfa025o01be4"
           },
           {
            "cover_image_id": "id-11134103-7r98o-lknfa025nztd5f",
            "image_id": "id-11134103-7r98o-lknfa025nztd5f"
           },
           {
            "cover_image_id": "id-11134103-7r98o-lknfa025nzu305",
            "image_id": "id-11134103-7r98o-lknfa025nzu305"
           },
           {
            "cover_image_id": "id-11134103-7r98o-lknfa025nzj44e",
            "image_id": "id-11134103-7r98o-lknfa025nzj44e"
           },
           {
            "cover_image_id": "id-11134103-7r98o-lknfa025nzunc9",
            "image_id": "id-11134103-7r98o-lknfa025nzunc9"
           }
          ],
          "images": [
           "id-11134103-7r98o-lknfa025o01be4",
           "id-11134103-7r98o-lknfa025nztd5f",
           "id-11134103-7r98o-lknfa025nzu305",
           "id-11134103-7r98o-lknfa025nzj44e",
           "id-11134103-7r98o-lknfa025nzunc9"
          ],
          "index": 0,
          "is_hidden": false,
          "is_newly_created": null,
          "is_normal_item": true,
          "is_repeat_edited": null,
          "is_repeated_purchase": false,
          "is_super_review": false,
          "item_cart_info": null,
          "itemid": 20282046522,
          "key_media": {
           "key_media_code": 0,
           "key_media_id": ""
          },
          "like_count": 155,
          "liked": null,
          "loyalty_info": {
           "tier_code": 30,
           "tier_text": "Member Gold",
           "user_tier_badge_background_color": "#E7AE21",
           "user_tier_badge_text_color": "#FFFFFF",
           "user_tier_badge_url": "https://loyalty.shopee.co.id"
          },
          "mentioned": [],
          "mtime": 1693114045,
          "opt": 2,
          "orderid": 145389818291449,
          "original_item_info": {
           "image": "id-11134207-7qul7-lkge7tzidmbkda",
           "itemid": 20282046522,
           "name": "Official Xiaomi Redmi 12 (8GB/128GB) | (8GB/256GB) MediaTek Helio G88 5000 mAh 18W 90Hz FHD+ 50MP Triple Kamera AI",
           "shopid": 51925611
          },
          "overall_fit": 0,
          "product_items": [
           {
            "image": "id-11134207-7qul7-ljqvpc7vs4rf69",
            "is_snapshot": 1,
            "itemid": 20282046522,
            "model_name": "Midnight Black,8/256 GB",
            "modelid": 39680258931,
            "name": "Official Xiaomi Redmi 12 (8GB/128GB) | (8GB/256GB) MediaTek Helio G88 5000 mAh 18W 90Hz FHD+ 50MP Triple Kamera AI",
            "options": [
             "Midnight Black",
             "8/256 GB"
            ],
            "shopid": 51925611,
            "snapshotid": 22346917282
           }
          ],
          "profile": null,
          "rating": 1,
          "rating_star": 5,
          "region": "ID",
          "shopid": 51925611,
          "show_reply": null,
          "show_super_review_tag": false,
          "show_view": null,
          "sip_info": {
           "is_oversea": false,
           "origin_region": "id"
          },
          "size_info_abt": "",
          "size_info_tags": null,
          "status": 2,
          "super_review_status": 0,
          "super_reviewer_tag": [],
          "sync_to_social": false,
          "sync_to_social_detail": null,
          "sync_to_social_toggle": null,
          "tags": null,
          "template_abt": null,
          "template_hints": null,
          "template_tags": [
           "Sepadan dengan Harga",
           "Fitur Terbaik"
          ],
          "template_tags_hints": null,
          "userid": 155102263,
          "videos": [
           {
            "cover": "https://down-aka-sg.img.susercontent.com/id-11110103-23080-87ptittipxuvca",
            "cover_image_id": "sg-11134206-7rbk0-lkq288q769ata2",
            "duration": 14291,
            "highlight": {
             "cover": "https://play-ws.vod.shopee.com/c3/98934353/160/A3oyOYvMAFRpimsoEZ8JACc.jpg",
             "cover_image_id": "",
             "duration": 3000,
             "highlight": null,
             "id": "sg-11110160-6ke14-lkq2a9n0h54o00",
             "mms_ext": "{\"vid\":\"sg-11110160-6ke14-lkq2a9n0h54o00\",\"biz\":103,\"duration\":3000,\"create_time\":1692668165,\"serviceID\":6,\"cover\":\"https://play-ws.vod.shopee.com/c3/98934353/160/A3oyOYvMAFRpimsoEZ8JACc.jpg\",\"cover_list\":null,\"formats\":[],\"default_format\":{\"format\":600001,\"defn\":\"ORI\",\"profile\":\"MP4\",\"path\":\"\",\"url\":\"https://play-ws.vod.shopee.com/c3/98934353/160/A3oyOYAeAPRoimsoEagAACc.mp4\",\"width\":250,\"height\":250,\"bitrate\":222624,\"size\":85220,\"fps\":25,\"duration\":3000,\"update_time\":1692668166},\"extend_formats\":{\"H265\":[{\"format\":1600305,\"defn\":\"V270P\",\"profile\":\"MP4\",\"path\":\"api/v4/11110160/mms/sg-11110160-6ke14-lkq2a9n0h54o00.16003051692668174.mp4\",\"url\":\"https://play-ws.vod.shopee.com/api/v4/11110160/mms/sg-11110160-6ke14-lkq2a9n0h54o00.16003051692668174.mp4\",\"width\":250,\"height\":250,\"bitrate\":115478,\"size\":47052,\"fps\":25.33784,\"duration\":2960,\"update_time\":1692668168}]},\"ab_test\":\"\"}",
             "upload_time": null,
             "url": "https://play-ws.vod.shopee.com/c3/98934353/160/A3oyOYAeAPRoimsoEagAACc.mp4"
            },
            "id": "id-11110103-6ke14-lknf8bvfqqfd32",
            "mms_ext": "{\"vid\":\"id-11110103-6ke14-lknf8bvfqqfd32\",\"biz\":103,\"duration\":14291,\"create_time\":1692508347,\"serviceID\":6,\"cover\":\"https://down-aka-sg.img.susercontent.com/id-11110103-23080-87ptittipxuvca\",\"cover_list\":null,\"formats\":[{\"format\":1600323,\"defn\":\"V540P\",\"profile\":\"MP4\",\"path\":\"api/v4/11110103/mms/id-11110103-6ke14-lknf8bvfqqfd32.default.mp4\",\"url\":\"https://play-ws.vod.shopee.com/api/v4/11110103/mms/id-11110103-6ke14-lknf8bvfqqfd32.default.mp4\",\"width\":360,\"height\":640,\"bitrate\":453005,\"size\":995954,\"fps\":25.07022,\"duration\":14293,\"update_time\":1692508372},{\"format\":1600005,\"defn\":\"V640P\",\"profile\":\"MP4\",\"path\":\"api/v4/11110103/mms/id-11110103-6ke14-lknf8bvfqqfd32.16000051692508348.mp4\",\"url\":\"https://play-ws.vod.shopee.com/api/v4/11110103/mms/id-11110103-6ke14-lknf8bvfqqfd32.16000051692508348.mp4\",\"width\":360,\"height\":640,\"bitrate\":460958,\"size\":1005961,\"fps\":25.07022,\"duration\":14281,\"update_time\":1692508351}],\"default_format\":{\"format\":600001,\"defn\":\"ORI\",\"profile\":\"MP4\",\"path\":\"\",\"url\":\"https://play-ws.vod.shopee.com/c3/98934353/103/A3oyOYfDALRsb0UoEbYLACY.mp4\",\"width\":360,\"height\":640,\"bitrate\":1587659,\"size\":3021610,\"fps\":24,\"duration\":14291,\"update_time\":1692508348},\"extend_formats\":{\"H265\":[{\"format\":1600308,\"defn\":\"V640P\",\"profile\":\"MP4\",\"path\":\"api/v4/11110103/mms/id-11110103-6ke14-lknf8bvfqqfd32.16003081692558725.mp4\",\"url\":\"https://play-ws.vod.shopee.com/api/v4/11110103/mms/id-11110103-6ke14-lknf8bvfqqfd32.16003081692558725.mp4\",\"width\":360,\"height\":640,\"bitrate\":382445,\"size\":874101,\"fps\":25.07022,\"duration\":14281,\"update_time\":1692558737}]},\"ab_test\":\"\"}",
            "upload_time": null,
            "url": "https://play-ws.vod.shopee.com/api/v4/11110103/mms/id-11110103-6ke14-lknf8bvfqqfd32.default.mp4"
           }
          ],
          "viewed": null
         },
         {
          "ItemRatingReply": null,
          "anonymous": false,
          "author_portrait": "2c79f847f9d74ec3e9efc929137b8aaf",
          "author_shopid": 569460748,
          "author_username": "setiawan_custom",
          "can_follow_up": null,
          "cmtid": 12271698548,
          "comment": "Sepadan dengan Harga:sepadan\nFitur Terbaik:ram nya gede, body baguss mewah\n\nHP bagus , aman tidak ada yg kurang, pengemasan lumayan lama berfungsi dg baik, ram nya gede, semoga awett \nDulu beli note 11 disini jg pemakaian 3blan hilang kecopetan smoga kali ini awett aminn",
          "ctime": 1691947017,
          "delete_operator": null,
          "delete_reason": null,
          "detailed_rating": {
           "delivery_service": 5,
           "driver_service": null,
           "product_quality": 5,
           "seller_service": 5
          },
          "display_variation_filter": true,
          "editable": 1,
          "editable_date": 1694539017,
          "exclude_scoring_due_low_logistic": false,
          "filter": 7,
          "follow_up": null,
          "has_template_tag": true,
          "image_data": [
           {
            "cover_image_id": "id-11134103-7qul4-lke58bhicswkaf",
            "image_id": "id-11134103-7qul4-lke58bhicswkaf"
           },
           {
            "cover_image_id": "id-11134103-7qukw-lke58bhie7h045",
            "image_id": "id-11134103-7qukw-lke58bhie7h045"
           },
           {
            "cover_image_id": "id-11134103-7qul4-lke58bhifm1ga6",
            "image_id": "id-11134103-7qul4-lke58bhifm1ga6"
           },
           {
            "cover_image_id": "id-11134103-7qul4-lke58bhih0lw2e",
            "image_id": "id-11134103-7qul4-lke58bhih0lw2e"
           },
           {
            "cover_image_id": "id-11134103-7qul9-lke58bhiif6ce5",
            "image_id": "id-11134103-7qul9-lke58bhiif6ce5"
           }
          ],
          "images": [
           "id-11134103-7qul4-lke58bhicswkaf",
           "id-11134103-7qukw-lke58bhie7h045",
           "id-11134103-7qul4-lke58bhifm1ga6",
           "id-11134103-7qul4-lke58bhih0lw2e",
           "id-11134103-7qul9-lke58bhiif6ce5"
          ],
          "index": 1,
          "is_hidden": false,
          "is_newly_created": null,
          "is_normal_item": true,
          "is_repeat_edited": null,
          "is_repeated_purchase": false,
          "is_super_review": false,
          "item_cart_info": null,
          "itemid": 20282046522,
          "key_media": {
           "key_media_code": 0,
           "key_media_id": ""
          },
          "like_count": 58,
          "liked": null,
          "loyalty_info": {
           "tier_code": 20,
           "tier_text": "Member Silver",
           "user_tier_badge_background_color": "#ABB2BA",
           "user_tier_badge_text_color": "#FFFFFF",
           "user_tier_badge_url": "https://loyalty.shopee.co.id"
          },
          "mentioned": [],
          "mtime": 1693093707,
          "opt": 2,
          "orderid": 145272354210475,
          "original_item_info": {
           "image": "id-11134207-7qul7-lkge7tzidmbkda",
           "itemid": 20282046522,
           "name": "Official Xiaomi Redmi 12 (8GB/128GB) | (8GB/256GB) MediaTek Helio G88 5000 mAh 18W 90Hz FHD+ 50MP Triple Kamera AI",
           "shopid": 51925611
          },
          "overall_fit": 0,
          "product_items": [
           {
            "image": "id-11134207-7qul7-ljqvpc7vs4rf69",
            "is_snapshot": 1,
            "itemid": 20282046522,
            "model_name": "Polar Silver,8/128 GB",
            "modelid": 39680258934,
            "name": "Official Xiaomi Redmi 12 (8GB/128GB) | (8GB/256GB) MediaTek Helio G88 5000 mAh 18W 90Hz FHD+ 50MP Triple Kamera AI",
            "options": [
             "Polar Silver",
             "8/128 GB"
            ],
            "shopid": 51925611,
            "snapshotid": 22346917282
           }
          ],
          "profile": null,
          "rating": 1,
          "rating_star": 5,
          "region": "ID",
          "shopid": 51925611,
          "show_reply": null,
          "show_super_review_tag": false,
          "show_view": null,
          "sip_info": {
           "is_oversea": false,
           "origin_region": "id"
          },
          "size_info_abt": "",
          "size_info_tags": null,
          "status": 2,
          "super_review_status": 0,
          "super_reviewer_tag": [],
          "sync_to_social": false,
          "sync_to_social_detail": null,
          "sync_to_social_toggle": null,
          "tags": null,
          "template_abt": null,
          "template_hints": null,
          "template_tags": [
           "Sepadan dengan Harga",
           "Fitur Terbaik"
          ],
          "template_tags_hints": null,
          "userid": 569480333,
          "videos": [
           {
            "cover": "https://down-aka-sg.img.susercontent.com/id-11110103-23080-iwtaz5mkfouva5",
            "cover_image_id": "sg-11134206-7r98o-lkk7hivjw2kb7e",
            "duration": 10289,
            "highlight": {
             "cover": "https://play-ws.vod.shopee.com/c3/98934353/160/A3oyOdbhANwwDRcoEYAAACc.jpg",
             "cover_image_id": "",
             "duration": 3000,
             "highlight": null,
             "id": "sg-11110160-6ke14-lkk7jdylpx2x7f",
             "mms_ext": "{\"vid\":\"sg-11110160-6ke14-lkk7jdylpx2x7f\",\"biz\":103,\"duration\":3000,\"create_time\":1692313792,\"serviceID\":6,\"cover\":\"https://play-ws.vod.shopee.com/c3/98934353/160/A3oyOdbhANwwDRcoEYAAACc.jpg\",\"cover_list\":null,\"formats\":[],\"default_format\":{\"format\":600001,\"defn\":\"ORI\",\"profile\":\"MP4\",\"path\":\"\",\"url\":\"https://play-ws.vod.shopee.com/c3/98934353/160/A3oyOYWPAFwwDRcoEYAFACc.mp4\",\"width\":250,\"height\":250,\"bitrate\":213501,\"size\":81914,\"fps\":25,\"duration\":3000,\"update_time\":1692313793},\"extend_formats\":{\"H265\":[{\"format\":1600305,\"defn\":\"V270P\",\"profile\":\"MP4\",\"path\":\"api/v4/11110160/mms/sg-11110160-6ke14-lkk7jdylpx2x7f.16003051692313800.mp4\",\"url\":\"https://play-ws.vod.shopee.com/api/v4/11110160/mms/sg-11110160-6ke14-lkk7jdylpx2x7f.16003051692313800.mp4\",\"width\":250,\"height\":250,\"bitrate\":104186,\"size\":42858,\"fps\":25.33784,\"duration\":2960,\"update_time\":1692313795}]},\"ab_test\":\"\"}",
             "upload_time": null,
             "url": "https://play-ws.vod.shopee.com/c3/98934353/160/A3oyOYWPAFwwDRcoEYAFACc.mp4"
            },
            "id": "id-11110103-6jt7g-lke5a66oqydwa3",
            "mms_ext": "{\"vid\":\"id-11110103-6jt7g-lke5a66oqydwa3\",\"biz\":103,\"duration\":10289,\"create_time\":1691946806,\"serviceID\":2,\"cover\":\"https://down-aka-sg.img.susercontent.com/id-11110103-23080-iwtaz5mkfouva5\",\"cover_list\":null,\"formats\":[{\"format\":1600323,\"defn\":\"V540P\",\"profile\":\"MP4\",\"path\":\"api/v4/11110103/mms/id-11110103-6jt7g-lke5a66oqydwa3.default.mp4\",\"url\":\"https://play-ws.vod.shopee.com/api/v4/11110103/mms/id-11110103-6jt7g-lke5a66oqydwa3.default.mp4\",\"width\":540,\"height\":960,\"bitrate\":259996,\"size\":506491,\"fps\":25.09728,\"duration\":10279,\"update_time\":1691946821},{\"format\":1600005,\"defn\":\"V640P\",\"profile\":\"MP4\",\"path\":\"api/v4/11110103/mms/id-11110103-6jt7g-lke5a66oqydwa3.16000051691946808.mp4\",\"url\":\"https://play-ws.vod.shopee.com/api/v4/11110103/mms/id-11110103-6jt7g-lke5a66oqydwa3.16000051691946808.mp4\",\"width\":540,\"height\":960,\"bitrate\":517277,\"size\":797076,\"fps\":25.09728,\"duration\":10279,\"update_time\":1691946813}],\"default_format\":{\"format\":600001,\"defn\":\"ORI\",\"profile\":\"MP4\",\"path\":\"\",\"url\":\"https://play-ws.vod.shopee.com/api/v4/11110103/mms/id-11110103-6jt7g-lke5a66oqydwa3.ori.mp4\",\"width\":540,\"height\":960,\"bitrate\":5177855,\"size\":6837590,\"fps\":17.57575,\"duration\":10289,\"update_time\":1691946807},\"extend_formats\":{\"H265\":[{\"format\":1600307,\"defn\":\"V540P\",\"profile\":\"MP4\",\"path\":\"api/v4/11110103/mms/id-11110103-6jt7g-lke5a66oqydwa3.16003071691946814.mp4\",\"url\":\"https://play-ws.vod.shopee.com/api/v4/11110103/mms/id-11110103-6jt7g-lke5a66oqydwa3.16003071691946814.mp4\",\"width\":540,\"height\":960,\"bitrate\":468393,\"size\":777745,\"fps\":25.09728,\"duration\":10279,\"update_time\":1691946828},{\"format\":1600308,\"defn\":\"V640P\",\"profile\":\"MP4\",\"path\":\"api/v4/11110103/mms/id-11110103-6jt7g-lke5a66oqydwa3.16003081692387753.mp4\",\"url\":\"https://play-ws.vod.shopee.com/api/v4/11110103/mms/id-11110103-6jt7g-lke5a66oqydwa3.16003081692387753.mp4\",\"width\":540,\"height\":960,\"bitrate\":481529,\"size\":794625,\"fps\":25.09728,\"duration\":10279,\"update_time\":1692387766}]},\"ab_test\":\"\"}",
            "upload_time": null,
            "url": "https://play-ws.vod.shopee.com/api/v4/11110103/mms/id-11110103-6jt7g-lke5a66oqydwa3.default.mp4"
           }
          ],
          "viewed": null
         },
         {
          "ItemRatingReply": null,
          "anonymous": false,
          "author_portrait": "id-11134233-7r98o-lkujgg0qar5u1d",
          "author_shopid": 552488966,
          "author_username": "fitrianingsihfitrianings649",
          "can_follow_up": null,
          "cmtid": 12364921975,
          "comment": "Fitur Terbaik:penyimpanan besar\nSepadan dengan Harga:2jtan\n\nAlhamdulillah dah sampe hp nya,pesan tanggal 22 Agustus sampe 23 Agustus.terimakasih seller",
          "ctime": 1692784620,
          "delete_operator": null,
          "delete_reason": null,
          "detailed_rating": {
           "delivery_service": 5,
           "driver_service": null,
           "product_quality": 5,
           "seller_service": 5
          },
          "display_variation_filter": true,
          "editable": 1,
          "editable_date": 1695376620,
          "exclude_scoring_due_low_logistic": false,
          "filter": 7,
          "follow_up": null,
          "has_template_tag": true,
          "image_data": [
           {
            "cover_image_id": "id-11134103-7r98o-lkrzfc6w3klfe6",
            "image_id": "id-11134103-7r98o-lkrzfc6w3klfe6"
           },
           {
            "cover_image_id": "id-11134103-7r98o-lkrzfc30991e75",
            "image_id": "id-11134103-7r98o-lkrzfc30991e75"
           },
           {
            "cover_image_id": "id-11134103-7r98o-lkrzfc3098z09e",
            "image_id": "id-11134103-7r98o-lkrzfc3098z09e"
           },
           {
            "cover_image_id": "id-11134103-7r98o-lkrzfc5860en51",
            "image_id": "id-11134103-7r98o-lkrzfc5860en51"
           },
           {
            "cover_image_id": "id-11134103-7r98o-lkrzfc3098qd94",
            "image_id": "id-11134103-7r98o-lkrzfc3098qd94"
           }
          ],
          "images": [
           "id-11134103-7r98o-lkrzfc6w3klfe6",
           "id-11134103-7r98o-lkrzfc30991e75",
           "id-11134103-7r98o-lkrzfc3098z09e",
           "id-11134103-7r98o-lkrzfc5860en51",
           "id-11134103-7r98o-lkrzfc3098qd94"
          ],
          "index": 2,
          "is_hidden": false,
          "is_newly_created": null,
          "is_normal_item": true,
          "is_repeat_edited": null,
          "is_repeated_purchase": false,
          "is_super_review": false,
          "item_cart_info": null,
          "itemid": 20282046522,
          "key_media": {
           "key_media_code": 0,
           "key_media_id": ""
          },
          "like_count": 17,
          "liked": null,
          "loyalty_info": {
           "tier_code": 30,
           "tier_text": "Member Gold",
           "user_tier_badge_background_color": "#E7AE21",
           "user_tier_badge_text_color": "#FFFFFF",
           "user_tier_badge_url": "https://loyalty.shopee.co.id"
          },
          "mentioned": [],
          "mtime": 1693112906,
          "opt": 2,
          "orderid": 146328248260133,
          "original_item_info": {
           "image": "id-11134207-7qul7-lkge7tzidmbkda",
           "itemid": 20282046522,
           "name": "Official Xiaomi Redmi 12 (8GB/128GB) | (8GB/256GB) MediaTek Helio G88 5000 mAh 18W 90Hz FHD+ 50MP Triple Kamera AI",
           "shopid": 51925611
          },
          "overall_fit": 0,
          "product_items": [
           {
            "image": "id-11134207-7qul7-lkge7tzidmbkda",
            "is_snapshot": 1,
            "itemid": 20282046522,
            "model_name": "Midnight Black,8/128 GB",
            "modelid": 39680258936,
            "name": "Official Xiaomi Redmi 12 (8GB/128GB) | (8GB/256GB) MediaTek Helio G88 5000 mAh 18W 90Hz FHD+ 50MP Triple Kamera AI",
            "options": [
             "Midnight Black",
             "8/128 GB"
            ],
            "shopid": 51925611,
            "snapshotid": 9443190634
           }
          ],
          "profile": null,
          "rating": 1,
          "rating_star": 5,
          "region": "ID",
          "shopid": 51925611,
          "show_reply": null,
          "show_super_review_tag": false,
          "show_view": null,
          "sip_info": {
           "is_oversea": false,
           "origin_region": "id"
          },
          "size_info_abt": "",
          "size_info_tags": null,
          "status": 2,
          "super_review_status": 0,
          "super_reviewer_tag": [],
          "sync_to_social": false,
          "sync_to_social_detail": null,
          "sync_to_social_toggle": null,
          "tags": null,
          "template_abt": null,
          "template_hints": null,
          "template_tags": [
           "Fitur Terbaik",
           "Sepadan dengan Harga"
          ],
          "template_tags_hints": null,
          "userid": 552508547,
          "videos": [
           {
            "cover": "https://down-aka-sg.img.susercontent.com/id-11110103-23080-3ptt386q02uve6",
            "cover_image_id": "sg-11134206-7rbk0-lkt39t83p6x320",
            "duration": 24450,
            "highlight": {
             "cover": "https://play-aka.vod.shopee.com/c3/98934353/160/A3oyOWk3ADQpRZcoEcELACc.jpg",
             "cover_image_id": "",
             "duration": 3079,
             "highlight": null,
             "id": "sg-11110160-6ke14-lkt3d1r36cgl45",
             "mms_ext": "{\"vid\":\"sg-11110160-6ke14-lkt3d1r36cgl45\",\"biz\":103,\"duration\":3079,\"create_time\":1692851579,\"serviceID\":6,\"cover\":\"https://play-aka.vod.shopee.com/c3/98934353/160/A3oyOWk3ADQpRZcoEcELACc.jpg\",\"cover_list\":null,\"formats\":[],\"default_format\":{\"format\":600001,\"defn\":\"ORI\",\"profile\":\"MP4\",\"path\":\"\",\"url\":\"https://play-aka.vod.shopee.com/c3/98934353/160/A3oyOZv2AMwoRZcoEdQIACc.mp4\",\"width\":250,\"height\":250,\"bitrate\":209400,\"size\":82374,\"fps\":25,\"duration\":3079,\"update_time\":1692851580},\"extend_formats\":{\"H265\":[{\"format\":1600305,\"defn\":\"V270P\",\"profile\":\"MP4\",\"path\":\"api/v4/11110160/mms/sg-11110160-6ke14-lkt3d1r36cgl45.16003051692851588.mp4\",\"url\":\"https://play-aka.vod.shopee.com/api/v4/11110160/mms/sg-11110160-6ke14-lkt3d1r36cgl45.16003051692851588.mp4\",\"width\":250,\"height\":250,\"bitrate\":123136,\"size\":51143,\"fps\":25.32895,\"duration\":3039,\"update_time\":1692851582}]},\"ab_test\":\"\"}",
             "upload_time": null,
             "url": "https://play-aka.vod.shopee.com/c3/98934353/160/A3oyOZv2AMwoRZcoEdQIACc.mp4"
            },
            "id": "id-11110103-6ke14-lkrzgpplmscqfe",
            "mms_ext": "{\"vid\":\"id-11110103-6ke14-lkrzgpplmscqfe\",\"biz\":103,\"duration\":24450,\"create_time\":1692784505,\"serviceID\":6,\"cover\":\"https://down-aka-sg.img.susercontent.com/id-11110103-23080-3ptt386q02uve6\",\"cover_list\":null,\"formats\":[{\"format\":1600323,\"defn\":\"V540P\",\"profile\":\"MP4\",\"path\":\"api/v4/11110103/mms/id-11110103-6ke14-lkrzgpplmscqfe.default.mp4\",\"url\":\"https://play-ws.vod.shopee.com/api/v4/11110103/mms/id-11110103-6ke14-lkrzgpplmscqfe.default.mp4\",\"width\":480,\"height\":848,\"bitrate\":407779,\"size\":1458616,\"fps\":25.04105,\"duration\":24469,\"update_time\":1692784525},{\"format\":1600005,\"defn\":\"V640P\",\"profile\":\"MP4\",\"path\":\"api/v4/11110103/mms/id-11110103-6ke14-lkrzgpplmscqfe.16000051692784506.mp4\",\"url\":\"https://play-ws.vod.shopee.com/api/v4/11110103/mms/id-11110103-6ke14-lkrzgpplmscqfe.16000051692784506.mp4\",\"width\":480,\"height\":848,\"bitrate\":591831,\"size\":2020743,\"fps\":25.04105,\"duration\":24451,\"update_time\":1692784516}],\"default_format\":{\"format\":600001,\"defn\":\"ORI\",\"profile\":\"MP4\",\"path\":\"\",\"url\":\"https://play-ws.vod.shopee.com/c3/98934353/103/A3oyOXv9AADFRocoEYMHACY.mp4\",\"width\":480,\"height\":848,\"bitrate\":1596082,\"size\":5074467,\"fps\":30,\"duration\":24450,\"update_time\":1692784506},\"extend_formats\":{\"H265\":[{\"format\":1600308,\"defn\":\"V640P\",\"profile\":\"MP4\",\"path\":\"api/v4/11110103/mms/id-11110103-6ke14-lkrzgpplmscqfe.16003081692920668.mp4\",\"url\":\"https://play-ws.vod.shopee.com/api/v4/11110103/mms/id-11110103-6ke14-lkrzgpplmscqfe.16003081692920668.mp4\",\"width\":480,\"height\":848,\"bitrate\":471604,\"size\":1657762,\"fps\":25.04105,\"duration\":24451,\"update_time\":1692920691}]},\"ab_test\":\"\"}",
            "upload_time": null,
            "url": "https://play-ws.vod.shopee.com/api/v4/11110103/mms/id-11110103-6ke14-lkrzgpplmscqfe.default.mp4"
           }
          ],
          "viewed": null
         },
         {
          "ItemRatingReply": null,
          "anonymous": true,
          "author_portrait": "5bb2847561b25caa836d3d672d02089b",
          "author_shopid": 45046400,
          "author_username": "n*****i",
          "can_follow_up": null,
          "cmtid": 12236929079,
          "comment": "Sepadan dengan Harga:barang sampai dengan selamat jakarta ke malang\nFitur Terbaik:barang sesuai realpict, bismillah semoga awet amin . Karena baru pertama order HP lewat online 🙏🏻🤗☺️",
          "ctime": 1691675285,
          "delete_operator": null,
          "delete_reason": null,
          "detailed_rating": {
           "delivery_service": 5,
           "driver_service": null,
           "product_quality": 5,
           "seller_service": 5
          },
          "display_variation_filter": true,
          "editable": 1,
          "editable_date": 1694267285,
          "exclude_scoring_due_low_logistic": false,
          "filter": 7,
          "follow_up": null,
          "has_template_tag": true,
          "image_data": [
           {
            "cover_image_id": "id-11134103-7qul5-lk9nrep4176hd4",
            "image_id": "id-11134103-7qul5-lk9nrep4176hd4"
           },
           {
            "cover_image_id": "id-11134103-7qul1-lk9nrepo0dgqbe",
            "image_id": "id-11134103-7qul1-lk9nrepo0dgqbe"
           },
           {
            "cover_image_id": "id-11134103-7qukx-lk9nrep416s427",
            "image_id": "id-11134103-7qukx-lk9nrep416s427"
           },
           {
            "cover_image_id": "id-11134103-7qukz-lk9nrepo0dyu00",
            "image_id": "id-11134103-7qukz-lk9nrepo0dyu00"
           },
           {
            "cover_image_id": "id-11134103-7qul8-lk9nrepo0doic7",
            "image_id": "id-11134103-7qul8-lk9nrepo0doic7"
           }
          ],
          "images": [
           "id-11134103-7qul5-lk9nrep4176hd4",
           "id-11134103-7qul1-lk9nrepo0dgqbe",
           "id-11134103-7qukx-lk9nrep416s427",
           "id-11134103-7qukz-lk9nrepo0dyu00",
           "id-11134103-7qul8-lk9nrepo0doic7"
          ],
          "index": 3,
          "is_hidden": false,
          "is_newly_created": null,
          "is_normal_item": true,
          "is_repeat_edited": null,
          "is_repeated_purchase": false,
          "is_super_review": false,
          "item_cart_info": null,
          "itemid": 20282046522,
          "key_media": {
           "key_media_code": 0,
           "key_media_id": ""
          },
          "like_count": 40,
          "liked": null,
          "loyalty_info": {
           "tier_code": 30,
           "tier_text": "Member Gold",
           "user_tier_badge_background_color": "#E7AE21",
           "user_tier_badge_text_color": "#FFFFFF",
           "user_tier_badge_url": "https://loyalty.shopee.co.id"
          },
          "mentioned": [],
          "mtime": 1693103502,
          "opt": 2,
          "orderid": 145018472253232,
          "original_item_info": {
           "image": "id-11134207-7qul7-lkge7tzidmbkda",
           "itemid": 20282046522,
           "name": "Official Xiaomi Redmi 12 (8GB/128GB) | (8GB/256GB) MediaTek Helio G88 5000 mAh 18W 90Hz FHD+ 50MP Triple Kamera AI",
           "shopid": 51925611
          },
          "overall_fit": 0,
          "product_items": [
           {
            "image": "id-11134207-7qul7-ljqvpc7vs4rf69",
            "is_snapshot": 1,
            "itemid": 20282046522,
            "model_name": "Midnight Black,8/256 GB",
            "modelid": 39680258931,
            "name": "Official Xiaomi Redmi 12 (8GB/128GB) | (8GB/256GB) MediaTek Helio G88 5000 mAh 18W 90Hz FHD+ 50MP Triple Kamera AI",
            "options": [
             "Midnight Black",
             "8/256 GB"
            ],
            "shopid": 51925611,
            "snapshotid": 13339447130
           }
          ],
          "profile": null,
          "rating": 1,
          "rating_star": 5,
          "region": "ID",
          "shopid": 51925611,
          "show_reply": null,
          "show_super_review_tag": false,
          "show_view": null,
          "sip_info": {
           "is_oversea": false,
           "origin_region": "id"
          },
          "size_info_abt": "",
          "size_info_tags": null,
          "status": 2,
          "super_review_status": 0,
          "super_reviewer_tag": [],
          "sync_to_social": false,
          "sync_to_social_detail": null,
          "sync_to_social_toggle": null,
          "tags": null,
          "template_abt": null,
          "template_hints": null,
          "template_tags": [
           "Sepadan dengan Harga",
           "Fitur Terbaik"
          ],
          "template_tags_hints": null,
          "userid": 45047786,
          "videos": [
           {
            "cover": "https://down-aka-sg.img.susercontent.com/id-11110103-23080-folonn81xjuv7e",
            "cover_image_id": "sg-11134206-7qve7-lkarwesuy6680e",
            "duration": 33166,
            "highlight": {
             "cover": "https://play-ws.vod.shopee.com/c3/98934353/160/A3oyOSvsAATL6Y4nEZYKACc.jpg",
             "cover_image_id": "",
             "duration": 3079,
             "highlight": null,
             "id": "sg-11110160-6jro3-lkarykcpf8uq79",
             "mms_ext": "{\"vid\":\"sg-11110160-6jro3-lkarykcpf8uq79\",\"biz\":103,\"duration\":3079,\"create_time\":1691742788,\"serviceID\":6,\"cover\":\"https://play-ws.vod.shopee.com/c3/98934353/160/A3oyOSvsAATL6Y4nEZYKACc.jpg\",\"cover_list\":null,\"formats\":[],\"default_format\":{\"format\":600001,\"defn\":\"ORI\",\"profile\":\"MP4\",\"path\":\"\",\"url\":\"https://play-ws.vod.shopee.com/c3/98934353/160/A3oyOXV7ACTK6Y4nEZcCACc.mp4\",\"width\":250,\"height\":250,\"bitrate\":279901,\"size\":109453,\"fps\":25,\"duration\":3079,\"update_time\":1691742789},\"extend_formats\":{\"H265\":[{\"format\":1600305,\"defn\":\"V270P\",\"profile\":\"MP4\",\"path\":\"api/v4/11110160/mms/sg-11110160-6jro3-lkarykcpf8uq79.16003051691742795.mp4\",\"url\":\"https://play-ws.vod.shopee.com/api/v4/11110160/mms/sg-11110160-6jro3-lkarykcpf8uq79.16003051691742795.mp4\",\"width\":250,\"height\":250,\"bitrate\":135450,\"size\":55810,\"fps\":25.32895,\"duration\":3039,\"update_time\":1691742791}]},\"ab_test\":\"\"}",
             "upload_time": null,
             "url": "https://play-ws.vod.shopee.com/c3/98934353/160/A3oyOXV7ACTK6Y4nEZcCACc.mp4"
            },
            "id": "id-11110103-6jt7b-lk9nqpveshuc79",
            "mms_ext": "{\"vid\":\"id-11110103-6jt7b-lk9nqpveshuc79\",\"biz\":103,\"duration\":33166,\"create_time\":1691675175,\"serviceID\":6,\"cover\":\"https://down-aka-sg.img.susercontent.com/id-11110103-23080-folonn81xjuv7e\",\"cover_list\":null,\"formats\":[{\"format\":1600408,\"defn\":\"V360P\",\"profile\":\"MP4\",\"path\":\"api/v4/11110103/mms/id-11110103-6jt7b-lk9nqpveshuc79.16004081692055413.mp4\",\"url\":\"https://play-ws.vod.shopee.com/api/v4/11110103/mms/id-11110103-6jt7b-lk9nqpveshuc79.16004081692055413.mp4\",\"width\":360,\"height\":640,\"bitrate\":358644,\"size\":1912894,\"fps\":25.03019,\"duration\":33181,\"update_time\":1692055421},{\"format\":1600323,\"defn\":\"V540P\",\"profile\":\"MP4\",\"path\":\"api/v4/11110103/mms/id-11110103-6jt7b-lk9nqpveshuc79.default.mp4\",\"url\":\"https://play-ws.vod.shopee.com/api/v4/11110103/mms/id-11110103-6jt7b-lk9nqpveshuc79.default.mp4\",\"width\":360,\"height\":640,\"bitrate\":472993,\"size\":2508250,\"fps\":25.03019,\"duration\":33194,\"update_time\":1691675198},{\"format\":1600005,\"defn\":\"V640P\",\"profile\":\"MP4\",\"path\":\"api/v4/11110103/mms/id-11110103-6jt7b-lk9nqpveshuc79.16000051691675177.mp4\",\"url\":\"https://play-ws.vod.shopee.com/api/v4/11110103/mms/id-11110103-6jt7b-lk9nqpveshuc79.16000051691675177.mp4\",\"width\":360,\"height\":640,\"bitrate\":632573,\"size\":3046823,\"fps\":25.03019,\"duration\":33181,\"update_time\":1691675186}],\"default_format\":{\"format\":600001,\"defn\":\"ORI\",\"profile\":\"MP4\",\"path\":\"\",\"url\":\"https://play-ws.vod.shopee.com/c3/98934353/103/A3oyOf2TAFypyn4nEYcLACY.mp4\",\"width\":360,\"height\":640,\"bitrate\":1512740,\"size\":6810660,\"fps\":30,\"duration\":33166,\"update_time\":1691675176},\"extend_formats\":{\"H265\":[{\"format\":1600412,\"defn\":\"V360P\",\"profile\":\"MP4\",\"path\":\"api/v4/11110103/mms/id-11110103-6jt7b-lk9nqpveshuc79.16004121692055422.mp4\",\"url\":\"https://play-ws.vod.shopee.com/api/v4/11110103/mms/id-11110103-6jt7b-lk9nqpveshuc79.16004121692055422.mp4\",\"width\":360,\"height\":640,\"bitrate\":236301,\"size\":1409939,\"fps\":25.03019,\"duration\":33181,\"update_time\":1692055452},{\"format\":1600308,\"defn\":\"V640P\",\"profile\":\"MP4\",\"path\":\"api/v4/11110103/mms/id-11110103-6jt7b-lk9nqpveshuc79.16003081691780197.mp4\",\"url\":\"https://play-ws.vod.shopee.com/api/v4/11110103/mms/id-11110103-6jt7b-lk9nqpveshuc79.16003081691780197.mp4\",\"width\":360,\"height\":640,\"bitrate\":339077,\"size\":1959655,\"fps\":25.03019,\"duration\":33181,\"update_time\":1691780236}]},\"ab_test\":\"\"}",
            "upload_time": null,
            "url": "https://play-ws.vod.shopee.com/api/v4/11110103/mms/id-11110103-6jt7b-lk9nqpveshuc79.16004081692055413.mp4"
           }
          ],
          "viewed": null
         },
         {
          "ItemRatingReply": null,
          "anonymous": false,
          "author_portrait": "",
          "author_shopid": 864052692,
          "author_username": "nurbagusm6",
          "can_follow_up": null,
          "cmtid": 12213849243,
          "comment": "Sepadan dengan Harga:Kualitas dan harga worth it,\nFitur Terbaik:kamera pixel tinggi\n\nBismillah",
          "ctime": 1691497024,
          "delete_operator": null,
          "delete_reason": null,
          "detailed_rating": {
           "delivery_service": 5,
           "driver_service": null,
           "product_quality": 5,
           "seller_service": 5
          },
          "display_variation_filter": true,
          "editable": 1,
          "editable_date": 1694089024,
          "exclude_scoring_due_low_logistic": false,
          "filter": 7,
          "follow_up": null,
          "has_template_tag": true,
          "image_data": [
           {
            "cover_image_id": "id-11134103-7qula-lk6pqbs64de7ba",
            "image_id": "id-11134103-7qula-lk6pqbs64de7ba"
           },
           {
            "cover_image_id": "id-11134103-7qul3-lk6pqbs64d9m22",
            "image_id": "id-11134103-7qul3-lk6pqbs64d9m22"
           },
           {
            "cover_image_id": "id-11134103-7quky-lk6pqbs64d9796",
            "image_id": "id-11134103-7quky-lk6pqbs64d9796"
           },
           {
            "cover_image_id": "id-11134103-7qul1-lk6pqbs64d7c95",
            "image_id": "id-11134103-7qul1-lk6pqbs64d7c95"
           },
           {
            "cover_image_id": "id-11134103-7qukx-lk6pqbsg3yv750",
            "image_id": "id-11134103-7qukx-lk6pqbsg3yv750"
           }
          ],
          "images": [
           "id-11134103-7qula-lk6pqbs64de7ba",
           "id-11134103-7qul3-lk6pqbs64d9m22",
           "id-11134103-7quky-lk6pqbs64d9796",
           "id-11134103-7qul1-lk6pqbs64d7c95",
           "id-11134103-7qukx-lk6pqbsg3yv750"
          ],
          "index": 4,
          "is_hidden": false,
          "is_newly_created": null,
          "is_normal_item": true,
          "is_repeat_edited": null,
          "is_repeated_purchase": false,
          "is_super_review": false,
          "item_cart_info": null,
          "itemid": 20282046522,
          "key_media": {
           "key_media_code": 0,
           "key_media_id": ""
          },
          "like_count": 35,
          "liked": null,
          "loyalty_info": {
           "tier_code": 30,
           "tier_text": "Member Gold",
           "user_tier_badge_background_color": "#E7AE21",
           "user_tier_badge_text_color": "#FFFFFF",
           "user_tier_badge_url": "https://loyalty.shopee.co.id"
          },
          "mentioned": [],
          "mtime": 1693115644,
          "opt": 2,
          "orderid": 144902339237858,
          "original_item_info": {
           "image": "id-11134207-7qul7-lkge7tzidmbkda",
           "itemid": 20282046522,
           "name": "Official Xiaomi Redmi 12 (8GB/128GB) | (8GB/256GB) MediaTek Helio G88 5000 mAh 18W 90Hz FHD+ 50MP Triple Kamera AI",
           "shopid": 51925611
          },
          "overall_fit": 0,
          "product_items": [
           {
            "image": "id-11134207-7qul7-ljqvpc7vs4rf69",
            "is_snapshot": 1,
            "itemid": 20282046522,
            "model_name": "Midnight Black,8/256 GB",
            "modelid": 39680258931,
            "name": "Official Xiaomi Redmi 12 (8GB/128GB) | (8GB/256GB) MediaTek Helio G88 5000 mAh 18W 90Hz FHD+ 50MP Triple Kamera AI",
            "options": [
             "Midnight Black",
             "8/256 GB"
            ],
            "shopid": 51925611,
            "snapshotid": 13339447130
           }
          ],
          "profile": null,
          "rating": 1,
          "rating_star": 5,
          "region": "ID",
          "shopid": 51925611,
          "show_reply": null,
          "show_super_review_tag": false,
          "show_view": null,
          "sip_info": {
           "is_oversea": false,
           "origin_region": "id"
          },
          "size_info_abt": "",
          "size_info_tags": null,
          "status": 2,
          "super_review_status": 0,
          "super_reviewer_tag": [],
          "sync_to_social": false,
          "sync_to_social_detail": null,
          "sync_to_social_toggle": null,
          "tags": null,
          "template_abt": null,
          "template_hints": null,
          "template_tags": [
           "Sepadan dengan Harga",
           "Fitur Terbaik"
          ],
          "template_tags_hints": null,
          "userid": 864071948,
          "videos": [
           {
            "cover": "https://down-aka-sg.img.susercontent.com/id-11110103-7qul6-lk6pqzjldyjm33",
            "cover_image_id": "sg-11134206-7qvfw-lk8vifo1uaif95",
            "duration": 17090,
            "highlight": {
             "cover": "https://play-aka.vod.shopee.com/c3/98934353/160/A3oyOV52AJx3fXMnEZYEACc.jpg",
             "cover_image_id": "",
             "duration": 3079,
             "highlight": null,
             "id": "sg-11110160-6jrq2-lk8vk1oj0v0qe8",
             "mms_ext": "{\"vid\":\"sg-11110160-6jrq2-lk8vk1oj0v0qe8\",\"biz\":103,\"duration\":3079,\"create_time\":1691627767,\"serviceID\":6,\"cover\":\"https://play-aka.vod.shopee.com/c3/98934353/160/A3oyOV52AJx3fXMnEZYEACc.jpg\",\"cover_list\":null,\"formats\":[],\"default_format\":{\"format\":600001,\"defn\":\"ORI\",\"profile\":\"MP4\",\"path\":\"\",\"url\":\"https://play-aka.vod.shopee.com/c3/98934353/160/A3oyOWuHACR3fXMnEQ8LACc.mp4\",\"width\":250,\"height\":250,\"bitrate\":195410,\"size\":77143,\"fps\":25,\"duration\":3079,\"update_time\":1691627768},\"extend_formats\":{\"H265\":[{\"format\":1600305,\"defn\":\"V270P\",\"profile\":\"MP4\",\"path\":\"api/v4/11110160/mms/sg-11110160-6jrq2-lk8vk1oj0v0qe8.16003051691627774.mp4\",\"url\":\"https://play-aka.vod.shopee.com/api/v4/11110160/mms/sg-11110160-6jrq2-lk8vk1oj0v0qe8.16003051691627774.mp4\",\"width\":250,\"height\":250,\"bitrate\":82713,\"size\":35782,\"fps\":25.32895,\"duration\":3039,\"update_time\":1691627770}]},\"ab_test\":\"\"}",
             "upload_time": null,
             "url": "https://play-aka.vod.shopee.com/c3/98934353/160/A3oyOWuHACR3fXMnEQ8LACc.mp4"
            },
            "id": "id-11110103-6jt79-lk6pqzjlcjz68c",
            "mms_ext": "{\"vid\":\"id-11110103-6jt79-lk6pqzjlcjz68c\",\"biz\":103,\"duration\":17090,\"create_time\":1691496945,\"serviceID\":6,\"cover\":\"https://down-aka-sg.img.susercontent.com/id-11110103-7qul6-lk6pqzjldyjm33\",\"cover_list\":null,\"formats\":[{\"format\":1600323,\"defn\":\"V540P\",\"profile\":\"MP4\",\"path\":\"api/v4/11110103/mms/id-11110103-6jt79-lk6pqzjlcjz68c.default.mp4\",\"url\":\"https://play-ws.vod.shopee.com/api/v4/11110103/mms/id-11110103-6jt79-lk6pqzjlcjz68c.default.mp4\",\"width\":960,\"height\":540,\"bitrate\":457059,\"size\":1262053,\"fps\":25.05869,\"duration\":17110,\"update_time\":1691496972},{\"format\":1600005,\"defn\":\"V640P\",\"profile\":\"MP4\",\"path\":\"api/v4/11110103/mms/id-11110103-6jt79-lk6pqzjlcjz68c.16000051691496947.mp4\",\"url\":\"https://play-ws.vod.shopee.com/api/v4/11110103/mms/id-11110103-6jt79-lk6pqzjlcjz68c.16000051691496947.mp4\",\"width\":1138,\"height\":640,\"bitrate\":746425,\"size\":1811544,\"fps\":25.05869,\"duration\":17090,\"update_time\":1691496960}],\"default_format\":{\"format\":600001,\"defn\":\"ORI\",\"profile\":\"MP4\",\"path\":\"\",\"url\":\"https://play-ws.vod.shopee.com/api/v4/11110103/mms/id-11110103-6jt79-lk6pqzjlcjz68c.mp4\",\"width\":1280,\"height\":720,\"bitrate\":1500758,\"size\":3488225,\"fps\":30.05905,\"duration\":17090,\"update_time\":1691496946},\"extend_formats\":{\"H265\":[{\"format\":1600304,\"defn\":\"V480P\",\"profile\":\"MP4\",\"path\":\"api/v4/11110103/mms/id-11110103-6jt79-lk6pqzjlcjz68c.16003041691694851.mp4\",\"url\":\"https://play-ws.vod.shopee.com/api/v4/11110103/mms/id-11110103-6jt79-lk6pqzjlcjz68c.16003041691694851.mp4\",\"width\":854,\"height\":480,\"bitrate\":191412,\"size\":632281,\"fps\":25.05869,\"duration\":17090,\"update_time\":1691694866},{\"format\":1600307,\"defn\":\"V540P\",\"profile\":\"MP4\",\"path\":\"api/v4/11110103/mms/id-11110103-6jt79-lk6pqzjlcjz68c.16003071691496961.mp4\",\"url\":\"https://play-ws.vod.shopee.com/api/v4/11110103/mms/id-11110103-6jt79-lk6pqzjlcjz68c.16003071691496961.mp4\",\"width\":960,\"height\":540,\"bitrate\":223295,\"size\":768416,\"fps\":25.05869,\"duration\":17090,\"update_time\":1691496982},{\"format\":1600308,\"defn\":\"V640P\",\"profile\":\"MP4\",\"path\":\"api/v4/11110103/mms/id-11110103-6jt79-lk6pqzjlcjz68c.16003081691496961.mp4\",\"url\":\"https://play-ws.vod.shopee.com/api/v4/11110103/mms/id-11110103-6jt79-lk6pqzjlcjz68c.16003081691496961.mp4\",\"width\":1138,\"height\":640,\"bitrate\":283608,\"size\":896887,\"fps\":25.05869,\"duration\":17090,\"update_time\":1691496990}]},\"ab_test\":\"\"}",
            "upload_time": null,
            "url": "https://play-ws.vod.shopee.com/api/v4/11110103/mms/id-11110103-6jt79-lk6pqzjlcjz68c.default.mp4"
           }
          ],
          "viewed": null
         },
         {
          "ItemRatingReply": null,
          "anonymous": true,
          "author_portrait": "fe28e440dab814d3a81dfe8b6d94115c",
          "author_shopid": 142986338,
          "author_username": "y*****p",
          "can_follow_up": null,
          "cmtid": 12280161295,
          "comment": "Fitur Terbaik:Kamera\nSepadan dengan Harga:Iyaa\n\nAlhamdulillah mendarat dengan selamat Hp aku nya hehehe😍 Akhirnya aku punya hp yang aku inginkan💓 kurirnya juga ramah banget, toko amanah selalu, pokoknya gapernah mengecewakan dah kalo tiap belanja di shopee tuu🤩🤩🤩 Terimakasih banyak shopee hehe^-^",
          "ctime": 1692015592,
          "delete_operator": null,
          "delete_reason": null,
          "detailed_rating": {
           "delivery_service": 5,
           "driver_service": null,
           "product_quality": 5,
           "seller_service": 5
          },
          "display_variation_filter": true,
          "editable": 1,
          "editable_date": 1694607592,
          "exclude_scoring_due_low_logistic": false,
          "filter": 7,
          "follow_up": null,
          "has_template_tag": true,
          "image_data": [
           {
            "cover_image_id": "id-11134103-7qul9-lkfa0siurwdydf",
            "image_id": "id-11134103-7qul9-lkfa0siurwdydf"
           },
           {
            "cover_image_id": "id-11134103-7qul3-lkfa0siurw3m01",
            "image_id": "id-11134103-7qul3-lkfa0siurw3m01"
           },
           {
            "cover_image_id": "id-11134103-7qul6-lkfa0sjer39w95",
            "image_id": "id-11134103-7qul6-lkfa0sjer39w95"
           },
           {
            "cover_image_id": "id-11134103-7qul5-lkfa0sjer2o06b",
            "image_id": "id-11134103-7qul5-lkfa0sjer2o06b"
           },
           {
            "cover_image_id": "id-11134103-7qukw-lkfa0siutao2a9",
            "image_id": "id-11134103-7qukw-lkfa0siutao2a9"
           }
          ],
          "images": [
           "id-11134103-7qul9-lkfa0siurwdydf",
           "id-11134103-7qul3-lkfa0siurw3m01",
           "id-11134103-7qul6-lkfa0sjer39w95",
           "id-11134103-7qul5-lkfa0sjer2o06b",
           "id-11134103-7qukw-lkfa0siutao2a9"
          ],
          "index": 5,
          "is_hidden": false,
          "is_newly_created": null,
          "is_normal_item": true,
          "is_repeat_edited": null,
          "is_repeated_purchase": false,
          "is_super_review": false,
          "item_cart_info": null,
          "itemid": 20282046522,
          "key_media": {
           "key_media_code": 0,
           "key_media_id": ""
          },
          "like_count": 9,
          "liked": null,
          "loyalty_info": {
           "tier_code": 30,
           "tier_text": "Member Gold",
           "user_tier_badge_background_color": "#E7AE21",
           "user_tier_badge_text_color": "#FFFFFF",
           "user_tier_badge_url": "https://loyalty.shopee.co.id"
          },
          "mentioned": [],
          "mtime": 1692940100,
          "opt": 2,
          "orderid": 145459660283119,
          "original_item_info": {
           "image": "id-11134207-7qul7-lkge7tzidmbkda",
           "itemid": 20282046522,
           "name": "Official Xiaomi Redmi 12 (8GB/128GB) | (8GB/256GB) MediaTek Helio G88 5000 mAh 18W 90Hz FHD+ 50MP Triple Kamera AI",
           "shopid": 51925611
          },
          "overall_fit": 0,
          "product_items": [
           {
            "image": "id-11134207-7qul7-ljqvpc7vs4rf69",
            "is_snapshot": 1,
            "itemid": 20282046522,
            "model_name": "Midnight Black,8/256 GB",
            "modelid": 39680258931,
            "name": "Official Xiaomi Redmi 12 (8GB/128GB) | (8GB/256GB) MediaTek Helio G88 5000 mAh 18W 90Hz FHD+ 50MP Triple Kamera AI",
            "options": [
             "Midnight Black",
             "8/256 GB"
            ],
            "shopid": 51925611,
            "snapshotid": 22346917282
           }
          ],
          "profile": null,
          "rating": 1,
          "rating_star": 5,
          "region": "ID",
          "shopid": 51925611,
          "show_reply": null,
          "show_super_review_tag": false,
          "show_view": null,
          "sip_info": {
           "is_oversea": false,
           "origin_region": "id"
          },
          "size_info_abt": "",
          "size_info_tags": null,
          "status": 2,
          "super_review_status": 0,
          "super_reviewer_tag": [],
          "sync_to_social": false,
          "sync_to_social_detail": null,
          "sync_to_social_toggle": null,
          "tags": null,
          "template_abt": null,
          "template_hints": null,
          "template_tags": [
           "Fitur Terbaik",
           "Sepadan dengan Harga"
          ],
          "template_tags_hints": null,
          "userid": 142988162,
          "videos": [
           {
            "cover": "https://down-aka-sg.img.susercontent.com/id-11110103-23080-wuxo4jaekpuvd0",
            "cover_image_id": "sg-11134206-7r98o-lkkcegcn0id7db",
            "duration": 16951,
            "highlight": {
             "cover": "https://play-ws.vod.shopee.com/c3/98934353/160/A3oyOVp1APR9BhkoEXwFACc.jpg",
             "cover_image_id": "",
             "duration": 3079,
             "highlight": null,
             "id": "sg-11110160-6ke14-lkkcgmqq7w9c63",
             "mms_ext": "{\"vid\":\"sg-11110160-6ke14-lkkcgmqq7w9c63\",\"biz\":103,\"duration\":3079,\"create_time\":1692322071,\"serviceID\":6,\"cover\":\"https://play-ws.vod.shopee.com/c3/98934353/160/A3oyOVp1APR9BhkoEXwFACc.jpg\",\"cover_list\":null,\"formats\":[],\"default_format\":{\"format\":600001,\"defn\":\"ORI\",\"profile\":\"MP4\",\"path\":\"\",\"url\":\"https://play-ws.vod.shopee.com/c3/98934353/160/A3oyOYQBAER9BhkoEX4CACc.mp4\",\"width\":250,\"height\":250,\"bitrate\":239249,\"size\":94016,\"fps\":25,\"duration\":3079,\"update_time\":1692322072},\"extend_formats\":{\"H265\":[{\"format\":1600305,\"defn\":\"V270P\",\"profile\":\"MP4\",\"path\":\"api/v4/11110160/mms/sg-11110160-6ke14-lkkcgmqq7w9c63.16003051692322079.mp4\",\"url\":\"https://play-ws.vod.shopee.com/api/v4/11110160/mms/sg-11110160-6ke14-lkkcgmqq7w9c63.16003051692322079.mp4\",\"width\":250,\"height\":250,\"bitrate\":82934,\"size\":35846,\"fps\":25.32895,\"duration\":3039,\"update_time\":1692322075}]},\"ab_test\":\"\"}",
             "upload_time": null,
             "url": "https://play-ws.vod.shopee.com/c3/98934353/160/A3oyOYQBAER9BhkoEX4CACc.mp4"
            },
            "id": "id-11110103-6jt7n-lkfa3a1lrsm176",
            "mms_ext": "{\"vid\":\"id-11110103-6jt7n-lkfa3a1lrsm176\",\"biz\":103,\"duration\":16951,\"create_time\":1692015451,\"serviceID\":2,\"cover\":\"https://down-aka-sg.img.susercontent.com/id-11110103-23080-wuxo4jaekpuvd0\",\"cover_list\":null,\"formats\":[{\"format\":1600323,\"defn\":\"V540P\",\"profile\":\"MP4\",\"path\":\"api/v4/11110103/mms/id-11110103-6jt7n-lkfa3a1lrsm176.default.mp4\",\"url\":\"https://play-ws.vod.shopee.com/api/v4/11110103/mms/id-11110103-6jt7n-lkfa3a1lrsm176.default.mp4\",\"width\":540,\"height\":960,\"bitrate\":487490,\"size\":1314491,\"fps\":25.05924,\"duration\":16959,\"update_time\":1692015481},{\"format\":1600005,\"defn\":\"V640P\",\"profile\":\"MP4\",\"path\":\"api/v4/11110103/mms/id-11110103-6jt7n-lkfa3a1lrsm176.16000051692015453.mp4\",\"url\":\"https://play-ws.vod.shopee.com/api/v4/11110103/mms/id-11110103-6jt7n-lkfa3a1lrsm176.16000051692015453.mp4\",\"width\":640,\"height\":1138,\"bitrate\":830989,\"size\":1972486,\"fps\":25.05924,\"duration\":16951,\"update_time\":1692015469}],\"default_format\":{\"format\":600001,\"defn\":\"ORI\",\"profile\":\"MP4\",\"path\":\"\",\"url\":\"https://play-ws.vod.shopee.com/api/v4/11110103/mms/id-11110103-6jt7n-lkfa3a1lrsm176.ori.mp4\",\"width\":720,\"height\":1280,\"bitrate\":1508348,\"size\":3469712,\"fps\":29.06,\"duration\":16951,\"update_time\":1692015453},\"extend_formats\":{\"H265\":[{\"format\":1600307,\"defn\":\"V540P\",\"profile\":\"MP4\",\"path\":\"api/v4/11110103/mms/id-11110103-6jt7n-lkfa3a1lrsm176.16003071692015471.mp4\",\"url\":\"https://play-ws.vod.shopee.com/api/v4/11110103/mms/id-11110103-6jt7n-lkfa3a1lrsm176.16003071692015471.mp4\",\"width\":540,\"height\":960,\"bitrate\":284536,\"size\":890407,\"fps\":25.05924,\"duration\":16951,\"update_time\":1692015501},{\"format\":1600308,\"defn\":\"V640P\",\"profile\":\"MP4\",\"path\":\"api/v4/11110103/mms/id-11110103-6jt7n-lkfa3a1lrsm176.16003081692015471.mp4\",\"url\":\"https://play-ws.vod.shopee.com/api/v4/11110103/mms/id-11110103-6jt7n-lkfa3a1lrsm176.16003081692015471.mp4\",\"width\":640,\"height\":1138,\"bitrate\":356489,\"size\":1042230,\"fps\":25.05924,\"duration\":16951,\"update_time\":1692015503}]},\"ab_test\":\"\"}",
            "upload_time": null,
            "url": "https://play-ws.vod.shopee.com/api/v4/11110103/mms/id-11110103-6jt7n-lkfa3a1lrsm176.default.mp4"
           }
          ],
          "viewed": null
         },
         {
          "ItemRatingReply": null,
          "anonymous": true,
          "author_portrait": "e6e610da3943787874d687f9986839be",
          "author_shopid": 66398819,
          "author_username": "g*****a",
          "can_follow_up": null,
          "cmtid": 12240126688,
          "comment": "Fitur Terbaik:bagus banget\nSepadan dengan Harga:untuk harganya mantap dengan ram segini\n\nGilaakk si ini dengan harga segini dapat ram yg besar wortit bangett. Warnanya juga bagus bangeeetttt. Semoga fitur2nya berjalan dengan baik. Pengirimannya mantull cepet bangeet\nTerimakasih xoami dan shopee",
          "ctime": 1691717647,
          "delete_operator": null,
          "delete_reason": null,
          "detailed_rating": {
           "delivery_service": 5,
           "driver_service": null,
           "product_quality": 5,
           "seller_service": 5
          },
          "display_variation_filter": true,
          "editable": 1,
          "editable_date": 1694309647,
          "exclude_scoring_due_low_logistic": false,
          "filter": 7,
          "follow_up": null,
          "has_template_tag": true,
          "image_data": [
           {
            "cover_image_id": "id-11134103-7qul6-lkabn7a15b1m24",
            "image_id": "id-11134103-7qul6-lkabn7a15b1m24"
           },
           {
            "cover_image_id": "id-11134103-7quky-lkacx4zmo7xma9",
            "image_id": "id-11134103-7quky-lkacx4zmo7xma9"
           },
           {
            "cover_image_id": "id-11134103-7qul6-lkacx4zmo8fqd2",
            "image_id": "id-11134103-7qul6-lkacx4zmo8fqd2"
           }
          ],
          "images": [
           "id-11134103-7qul6-lkabn7a15b1m24",
           "id-11134103-7quky-lkacx4zmo7xma9",
           "id-11134103-7qul6-lkacx4zmo8fqd2"
          ],
          "index": 6,
          "is_hidden": false,
          "is_newly_created": null,
          "is_normal_item": true,
          "is_repeat_edited": null,
          "is_repeated_purchase": false,
          "is_super_review": false,
          "item_cart_info": null,
          "itemid": 20282046522,
          "key_media": {
           "key_media_code": 0,
           "key_media_id": ""
          },
          "like_count": 14,
          "liked": null,
          "loyalty_info": {
           "tier_code": 30,
           "tier_text": "Member Gold",
           "user_tier_badge_background_color": "#E7AE21",
           "user_tier_badge_text_color": "#FFFFFF",
           "user_tier_badge_url": "https://loyalty.shopee.co.id"
          },
          "mentioned": [],
          "mtime": 1693100570,
          "opt": 2,
          "orderid": 144910004218296,
          "original_item_info": {
           "image": "id-11134207-7qul7-lkge7tzidmbkda",
           "itemid": 20282046522,
           "name": "Official Xiaomi Redmi 12 (8GB/128GB) | (8GB/256GB) MediaTek Helio G88 5000 mAh 18W 90Hz FHD+ 50MP Triple Kamera AI",
           "shopid": 51925611
          },
          "overall_fit": 0,
          "product_items": [
           {
            "image": "id-11134207-7qul7-ljqvpc7vs4rf69",
            "is_snapshot": 1,
            "itemid": 20282046522,
            "model_name": "Polar Silver,8/128 GB",
            "modelid": 39680258934,
            "name": "Official Xiaomi Redmi 12 (8GB/128GB) | (8GB/256GB) MediaTek Helio G88 5000 mAh 18W 90Hz FHD+ 50MP Triple Kamera AI",
            "options": [
             "Polar Silver",
             "8/128 GB"
            ],
            "shopid": 51925611,
            "snapshotid": 13339447130
           }
          ],
          "profile": null,
          "rating": 1,
          "rating_star": 5,
          "region": "ID",
          "shopid": 51925611,
          "show_reply": null,
          "show_super_review_tag": false,
          "show_view": null,
          "sip_info": {
           "is_oversea": false,
           "origin_region": "id"
          },
          "size_info_abt": "",
          "size_info_tags": null,
          "status": 2,
          "super_review_status": 0,
          "super_reviewer_tag": [],
          "sync_to_social": false,
          "sync_to_social_detail": null,
          "sync_to_social_toggle": null,
          "tags": null,
          "template_abt": null,
          "template_hints": null,
          "template_tags": [
           "Fitur Terbaik",
           "Sepadan dengan Harga"
          ],
          "template_tags_hints": null,
          "userid": 66400275,
          "videos": [
           {
            "cover": "https://down-aka-sg.img.susercontent.com/id-11110103-7qukw-lkacxeeoxgvt5b",
            "cover_image_id": "sg-11134206-7qvea-lkawy1i8chfg02",
            "duration": 16299,
            "highlight": {
             "cover": "https://play-aka.vod.shopee.com/c3/98934353/160/A3oyOXFbALCu75AnEZAEACc.jpg",
             "cover_image_id": "",
             "duration": 3079,
             "highlight": null,
             "id": "sg-11110160-6jrp4-lkax0839dxtld8",
             "mms_ext": "{\"vid\":\"sg-11110160-6jrp4-lkax0839dxtld8\",\"biz\":103,\"duration\":3079,\"create_time\":1691751273,\"serviceID\":6,\"cover\":\"https://play-aka.vod.shopee.com/c3/98934353/160/A3oyOXFbALCu75AnEZAEACc.jpg\",\"cover_list\":null,\"formats\":[],\"default_format\":{\"format\":600001,\"defn\":\"ORI\",\"profile\":\"MP4\",\"path\":\"\",\"url\":\"https://play-aka.vod.shopee.com/c3/98934353/160/A3oyOYsqADCt75AnEZULACc.mp4\",\"width\":250,\"height\":250,\"bitrate\":332485,\"size\":129606,\"fps\":25,\"duration\":3079,\"update_time\":1691751274},\"extend_formats\":{\"H265\":[{\"format\":1600305,\"defn\":\"V270P\",\"profile\":\"MP4\",\"path\":\"api/v4/11110160/mms/sg-11110160-6jrp4-lkax0839dxtld8.16003051691751280.mp4\",\"url\":\"https://play-aka.vod.shopee.com/api/v4/11110160/mms/sg-11110160-6jrp4-lkax0839dxtld8.16003051691751280.mp4\",\"width\":250,\"height\":250,\"bitrate\":188700,\"size\":76057,\"fps\":25.32895,\"duration\":3039,\"update_time\":1691751277}]},\"ab_test\":\"\"}",
             "upload_time": null,
             "url": "https://play-aka.vod.shopee.com/c3/98934353/160/A3oyOYsqADCt75AnEZULACc.mp4"
            },
            "id": "id-11110103-6jt7j-lkacxeeow2bdb5",
            "mms_ext": "{\"vid\":\"id-11110103-6jt7j-lkacxeeow2bdb5\",\"biz\":103,\"duration\":16299,\"create_time\":1691717522,\"serviceID\":6,\"cover\":\"https://down-aka-sg.img.susercontent.com/id-11110103-7qukw-lkacxeeoxgvt5b\",\"cover_list\":null,\"formats\":[{\"format\":1600408,\"defn\":\"V360P\",\"profile\":\"MP4\",\"path\":\"api/v4/11110103/mms/id-11110103-6jt7j-lkacxeeow2bdb5.16004081692010051.mp4\",\"url\":\"https://play-ws.vod.shopee.com/api/v4/11110103/mms/id-11110103-6jt7j-lkacxeeow2bdb5.16004081692010051.mp4\",\"width\":360,\"height\":640,\"bitrate\":331247,\"size\":714453,\"fps\":25.06142,\"duration\":16301,\"update_time\":1692010056},{\"format\":1600322,\"defn\":\"V360P\",\"profile\":\"MP4\",\"path\":\"api/v4/11110103/mms/id-11110103-6jt7j-lkacxeeow2bdb5.16003221692299435.mp4\",\"url\":\"https://play-ws.vod.shopee.com/api/v4/11110103/mms/id-11110103-6jt7j-lkacxeeow2bdb5.16003221692299435.mp4\",\"width\":360,\"height\":640,\"bitrate\":228574,\"size\":503470,\"fps\":25.06142,\"duration\":16298,\"update_time\":1692299439},{\"format\":1600323,\"defn\":\"V540P\",\"profile\":\"MP4\",\"path\":\"api/v4/11110103/mms/id-11110103-6jt7j-lkacxeeow2bdb5.default.mp4\",\"url\":\"https://play-ws.vod.shopee.com/api/v4/11110103/mms/id-11110103-6jt7j-lkacxeeow2bdb5.default.mp4\",\"width\":360,\"height\":640,\"bitrate\":507544,\"size\":1071175,\"fps\":25.06142,\"duration\":16298,\"update_time\":1691717551},{\"format\":1600005,\"defn\":\"V640P\",\"profile\":\"MP4\",\"path\":\"api/v4/11110103/mms/id-11110103-6jt7j-lkacxeeow2bdb5.16000051691717524.mp4\",\"url\":\"https://play-ws.vod.shopee.com/api/v4/11110103/mms/id-11110103-6jt7j-lkacxeeow2bdb5.16000051691717524.mp4\",\"width\":360,\"height\":640,\"bitrate\":678657,\"size\":1421433,\"fps\":25.06142,\"duration\":16301,\"update_time\":1691717530}],\"default_format\":{\"format\":600001,\"defn\":\"ORI\",\"profile\":\"MP4\",\"path\":\"\",\"url\":\"https://play-ws.vod.shopee.com/api/v4/11110103/mms/id-11110103-6jt7j-lkacxeeow2bdb5.mp4\",\"width\":360,\"height\":640,\"bitrate\":1493321,\"size\":3058302,\"fps\":30,\"duration\":16299,\"update_time\":1691717523},\"extend_formats\":{\"H265\":[{\"format\":1600412,\"defn\":\"V360P\",\"profile\":\"MP4\",\"path\":\"api/v4/11110103/mms/id-11110103-6jt7j-lkacxeeow2bdb5.16004121692010057.mp4\",\"url\":\"https://play-ws.vod.shopee.com/api/v4/11110103/mms/id-11110103-6jt7j-lkacxeeow2bdb5.16004121692010057.mp4\",\"width\":360,\"height\":640,\"bitrate\":245250,\"size\":542346,\"fps\":25.06142,\"duration\":16301,\"update_time\":1692010074},{\"format\":1600315,\"defn\":\"V360P\",\"profile\":\"MP4\",\"path\":\"api/v4/11110103/mms/id-11110103-6jt7j-lkacxeeow2bdb5.16003151692299436.mp4\",\"url\":\"https://play-ws.vod.shopee.com/api/v4/11110103/mms/id-11110103-6jt7j-lkacxeeow2bdb5.16003151692299436.mp4\",\"width\":360,\"height\":640,\"bitrate\":265623,\"size\":583805,\"fps\":25.06142,\"duration\":16301,\"update_time\":1692299451},{\"format\":1600308,\"defn\":\"V640P\",\"profile\":\"MP4\",\"path\":\"api/v4/11110103/mms/id-11110103-6jt7j-lkacxeeow2bdb5.16003081691780515.mp4\",\"url\":\"https://play-ws.vod.shopee.com/api/v4/11110103/mms/id-11110103-6jt7j-lkacxeeow2bdb5.16003081691780515.mp4\",\"width\":360,\"height\":640,\"bitrate\":396673,\"size\":850492,\"fps\":25.06142,\"duration\":16301,\"update_time\":1691780535}]},\"ab_test\":\"\"}",
            "upload_time": null,
            "url": "https://play-ws.vod.shopee.com/api/v4/11110103/mms/id-11110103-6jt7j-lkacxeeow2bdb5.16004081692010051.mp4"
           }
          ],
          "viewed": null
         },
         {
          "ItemRatingReply": null,
          "anonymous": true,
          "author_portrait": "bb1cca9099aa428aa884c44fb648ae56",
          "author_shopid": 200259523,
          "author_username": "e*****1",
          "can_follow_up": null,
          "cmtid": 12184342794,
          "comment": "Fitur Terbaik:Penyimpanan BESAR Dan Body Kaca\n\nMantap Harga Segitu Bisa Dapat Penyimpanan 8/256 GB Tapi Sayangnya Masih Emmc dan Chipset Helio G88.\n#Majelis Kaum Mendang Mending",
          "ctime": 1691232327,
          "delete_operator": null,
          "delete_reason": null,
          "detailed_rating": {
           "delivery_service": 5,
           "driver_service": null,
           "product_quality": 5,
           "seller_service": 5
          },
          "display_variation_filter": true,
          "editable": 1,
          "editable_date": 1693824327,
          "exclude_scoring_due_low_logistic": false,
          "filter": 7,
          "follow_up": null,
          "has_template_tag": true,
          "image_data": [
           {
            "cover_image_id": "id-11134103-7qula-lk2bozd657vmb2",
            "image_id": "id-11134103-7qula-lk2bozd657vmb2"
           },
           {
            "cover_image_id": "id-11134103-7qul0-lk2bozd6585bd4",
            "image_id": "id-11134103-7qul0-lk2bozd6585bd4"
           },
           {
            "cover_image_id": "id-11134103-7qul8-lk2bozd658arf9",
            "image_id": "id-11134103-7qul8-lk2bozd658arf9"
           },
           {
            "cover_image_id": "id-11134103-7quky-lk2bozd657xj6e",
            "image_id": "id-11134103-7quky-lk2bozd657xj6e"
           },
           {
            "cover_image_id": "id-11134103-7qul7-lk2bozea3ljs95",
            "image_id": "id-11134103-7qul7-lk2bozea3ljs95"
           }
          ],
          "images": [
           "id-11134103-7qula-lk2bozd657vmb2",
           "id-11134103-7qul0-lk2bozd6585bd4",
           "id-11134103-7qul8-lk2bozd658arf9",
           "id-11134103-7quky-lk2bozd657xj6e",
           "id-11134103-7qul7-lk2bozea3ljs95"
          ],
          "index": 7,
          "is_hidden": false,
          "is_newly_created": null,
          "is_normal_item": true,
          "is_repeat_edited": null,
          "is_repeated_purchase": false,
          "is_super_review": false,
          "item_cart_info": null,
          "itemid": 20282046522,
          "key_media": {
           "key_media_code": 0,
           "key_media_id": ""
          },
          "like_count": 22,
          "liked": null,
          "loyalty_info": {
           "tier_code": 20,
           "tier_text": "Member Silver",
           "user_tier_badge_background_color": "#ABB2BA",
           "user_tier_badge_text_color": "#FFFFFF",
           "user_tier_badge_url": "https://loyalty.shopee.co.id"
          },
          "mentioned": [],
          "mtime": 1693029490,
          "opt": 2,
          "orderid": 144567734221465,
          "original_item_info": {
           "image": "id-11134207-7qul7-lkge7tzidmbkda",
           "itemid": 20282046522,
           "name": "Official Xiaomi Redmi 12 (8GB/128GB) | (8GB/256GB) MediaTek Helio G88 5000 mAh 18W 90Hz FHD+ 50MP Triple Kamera AI",
           "shopid": 51925611
          },
          "overall_fit": 0,
          "product_items": [
           {
            "image": "id-11134207-7qul7-ljqvpc7vs4rf69",
            "is_snapshot": 1,
            "itemid": 20282046522,
            "model_name": "Midnight Black,8/256 GB",
            "modelid": 39680258931,
            "name": "Official Xiaomi Redmi 12 (8GB/128GB) | (8GB/256GB) MediaTek Helio G88 5000 mAh 18W 90Hz FHD+ 50MP Triple Kamera AI",
            "options": [
             "Midnight Black",
             "8/256 GB"
            ],
            "shopid": 51925611,
            "snapshotid": 5841139887
           }
          ],
          "profile": null,
          "rating": 1,
          "rating_star": 5,
          "region": "ID",
          "shopid": 51925611,
          "show_reply": null,
          "show_super_review_tag": false,
          "show_view": null,
          "sip_info": {
           "is_oversea": false,
           "origin_region": "id"
          },
          "size_info_abt": "",
          "size_info_tags": null,
          "status": 2,
          "super_review_status": 0,
          "super_reviewer_tag": [],
          "sync_to_social": false,
          "sync_to_social_detail": null,
          "sync_to_social_toggle": null,
          "tags": null,
          "template_abt": null,
          "template_hints": null,
          "template_tags": [
           "Fitur Terbaik"
          ],
          "template_tags_hints": null,
          "userid": 200262650,
          "videos": [
           {
            "cover": "https://down-aka-sg.img.susercontent.com/id-11110103-23080-f56ytsbylcuv11",
            "cover_image_id": "sg-11134206-7qvg9-lk5k54dze9sa5e",
            "duration": 22895,
            "highlight": {
             "cover": "https://play-ws.vod.shopee.com/c3/98934353/160/A3oyOSKOALCspEMnISEBCAAn.jpg",
             "cover_image_id": "",
             "duration": 3119,
             "highlight": null,
             "id": "sg-11110160-6jrp0-lk5k7jek0q7o6e",
             "mms_ext": "{\"vid\":\"sg-11110160-6jrp0-lk5k7jek0q7o6e\",\"biz\":103,\"duration\":3119,\"create_time\":1691427083,\"serviceID\":6,\"cover\":\"https://play-ws.vod.shopee.com/c3/98934353/160/A3oyOSKOALCspEMnISEBCAAn.jpg\",\"cover_list\":null,\"formats\":[],\"default_format\":{\"format\":600001,\"defn\":\"ORI\",\"profile\":\"MP4\",\"path\":\"\",\"url\":\"https://play-ws.vod.shopee.com/c3/98934353/160/A3oyOSs4AAispEMnIR8BAAAn.mp4\",\"width\":250,\"height\":250,\"bitrate\":221310,\"size\":88276,\"fps\":25,\"duration\":3119,\"update_time\":1691427084},\"extend_formats\":{\"H265\":[{\"format\":1600305,\"defn\":\"V270P\",\"profile\":\"MP4\",\"path\":\"api/v4/11110160/mms/sg-11110160-6jrp0-lk5k7jek0q7o6e.16003051691427090.mp4\",\"url\":\"https://play-ws.vod.shopee.com/api/v4/11110160/mms/sg-11110160-6jrp0-lk5k7jek0q7o6e.16003051691427090.mp4\",\"width\":250,\"height\":250,\"bitrate\":98397,\"size\":42239,\"fps\":25.32467,\"duration\":3079,\"update_time\":1691427087}]},\"ab_test\":\"\"}",
             "upload_time": null,
             "url": "https://play-ws.vod.shopee.com/c3/98934353/160/A3oyOSs4AAispEMnIR8BAAAn.mp4"
            },
            "id": "id-11110103-6jt74-lk2bnvzlrnmvae",
            "mms_ext": "{\"vid\":\"id-11110103-6jt74-lk2bnvzlrnmvae\",\"biz\":103,\"duration\":22895,\"create_time\":1691231121,\"serviceID\":6,\"cover\":\"https://down-aka-sg.img.susercontent.com/id-11110103-23080-f56ytsbylcuv11\",\"cover_list\":null,\"formats\":[{\"format\":1600046,\"defn\":\"V480P\",\"profile\":\"MP4\",\"path\":\"api/v4/11110103/mms/id-11110103-6jt74-lk2bnvzlrnmvae.12000461691231142.mp4\",\"url\":\"https://play-ws.vod.shopee.com/api/v4/11110103/mms/id-11110103-6jt74-lk2bnvzlrnmvae.12000461691231142.mp4\",\"width\":640,\"height\":480,\"bitrate\":647890,\"size\":1879161,\"fps\":25,\"duration\":22919,\"update_time\":1691231142},{\"format\":1600005,\"defn\":\"V640P\",\"profile\":\"MP4\",\"path\":\"api/v4/11110103/mms/id-11110103-6jt74-lk2bnvzlrnmvae.16000051691231123.mp4\",\"url\":\"https://play-ws.vod.shopee.com/api/v4/11110103/mms/id-11110103-6jt74-lk2bnvzlrnmvae.16000051691231123.mp4\",\"width\":854,\"height\":640,\"bitrate\":654804,\"size\":2161705,\"fps\":25.04386,\"duration\":22895,\"update_time\":1691231135}],\"default_format\":{\"format\":600001,\"defn\":\"ORI\",\"profile\":\"MP4\",\"path\":\"\",\"url\":\"https://play-ws.vod.shopee.com/c3/98934353/103/A3oyORjQAHy76xQnIRABAQAm.mp4\",\"width\":1280,\"height\":960,\"bitrate\":1504991,\"size\":4679127,\"fps\":30.0442,\"duration\":22895,\"update_time\":1691231122},\"extend_formats\":{\"H265\":[{\"format\":1600304,\"defn\":\"V480P\",\"profile\":\"MP4\",\"path\":\"api/v4/11110103/mms/id-11110103-6jt74-lk2bnvzlrnmvae.16003041691231136.mp4\",\"url\":\"https://play-ws.vod.shopee.com/api/v4/11110103/mms/id-11110103-6jt74-lk2bnvzlrnmvae.16003041691231136.mp4\",\"width\":640,\"height\":480,\"bitrate\":204828,\"size\":882361,\"fps\":25.04386,\"duration\":22895,\"update_time\":1691231159},{\"format\":1600308,\"defn\":\"V640P\",\"profile\":\"MP4\",\"path\":\"api/v4/11110103/mms/id-11110103-6jt74-lk2bnvzlrnmvae.16003081691231136.mp4\",\"url\":\"https://play-ws.vod.shopee.com/api/v4/11110103/mms/id-11110103-6jt74-lk2bnvzlrnmvae.16003081691231136.mp4\",\"width\":854,\"height\":640,\"bitrate\":289042,\"size\":1214044,\"fps\":25.04386,\"duration\":22895,\"update_time\":1691231164}]},\"ab_test\":\"\"}",
            "upload_time": null,
            "url": "https://play-ws.vod.shopee.com/api/v4/11110103/mms/id-11110103-6jt74-lk2bnvzlrnmvae.12000461691231142.mp4"
           }
          ],
          "viewed": null
         },
         {
          "ItemRatingReply": null,
          "anonymous": true,
          "author_portrait": "351a91514a70a707874aa55817f5c74d",
          "author_shopid": 98601441,
          "author_username": "s*****t",
          "can_follow_up": null,
          "cmtid": 12211670134,
          "comment": "Fitur Terbaik:hp sudah datang tanpa ada cacat sedikitpun\nSepadan dengan Harga:harga relatif murah tapi barang bagus",
          "ctime": 1691484854,
          "delete_operator": null,
          "delete_reason": null,
          "detailed_rating": {
           "delivery_service": 5,
           "driver_service": null,
           "product_quality": 5,
           "seller_service": 5
          },
          "display_variation_filter": true,
          "editable": 1,
          "editable_date": 1694076854,
          "exclude_scoring_due_low_logistic": false,
          "filter": 7,
          "follow_up": null,
          "has_template_tag": true,
          "image_data": [
           {
            "cover_image_id": "id-11134103-7qukw-lk6ida2b9qprf3",
            "image_id": "id-11134103-7qukw-lk6ida2b9qprf3"
           },
           {
            "cover_image_id": "id-11134103-7qul6-lk6ida2bb5a7d7",
            "image_id": "id-11134103-7qul6-lk6ida2bb5a7d7"
           },
           {
            "cover_image_id": "id-11134103-7qukx-lk6ida2bcjun02",
            "image_id": "id-11134103-7qukx-lk6ida2bcjun02"
           },
           {
            "cover_image_id": "id-11134103-7qukz-lk6ida2bdyf391",
            "image_id": "id-11134103-7qukz-lk6ida2bdyf391"
           },
           {
            "cover_image_id": "id-11134103-7qula-lk6ida2bfczj17",
            "image_id": "id-11134103-7qula-lk6ida2bfczj17"
           }
          ],
          "images": [
           "id-11134103-7qukw-lk6ida2b9qprf3",
           "id-11134103-7qul6-lk6ida2bb5a7d7",
           "id-11134103-7qukx-lk6ida2bcjun02",
           "id-11134103-7qukz-lk6ida2bdyf391",
           "id-11134103-7qula-lk6ida2bfczj17"
          ],
          "index": 8,
          "is_hidden": false,
          "is_newly_created": null,
          "is_normal_item": true,
          "is_repeat_edited": null,
          "is_repeated_purchase": false,
          "is_super_review": false,
          "item_cart_info": null,
          "itemid": 20282046522,
          "key_media": {
           "key_media_code": 0,
           "key_media_id": ""
          },
          "like_count": 44,
          "liked": null,
          "loyalty_info": {
           "tier_code": 30,
           "tier_text": "Member Gold",
           "user_tier_badge_background_color": "#E7AE21",
           "user_tier_badge_text_color": "#FFFFFF",
           "user_tier_badge_url": "https://loyalty.shopee.co.id"
          },
          "mentioned": [],
          "mtime": 1693064339,
          "opt": 2,
          "orderid": 144909334295893,
          "original_item_info": {
           "image": "id-11134207-7qul7-lkge7tzidmbkda",
           "itemid": 20282046522,
           "name": "Official Xiaomi Redmi 12 (8GB/128GB) | (8GB/256GB) MediaTek Helio G88 5000 mAh 18W 90Hz FHD+ 50MP Triple Kamera AI",
           "shopid": 51925611
          },
          "overall_fit": 0,
          "product_items": [
           {
            "image": "id-11134207-7qul7-ljqvpc7vs4rf69",
            "is_snapshot": 1,
            "itemid": 20282046522,
            "model_name": "Midnight Black,8/128 GB",
            "modelid": 39680258936,
            "name": "Official Xiaomi Redmi 12 (8GB/128GB) | (8GB/256GB) MediaTek Helio G88 5000 mAh 18W 90Hz FHD+ 50MP Triple Kamera AI",
            "options": [
             "Midnight Black",
             "8/128 GB"
            ],
            "shopid": 51925611,
            "snapshotid": 13339447130
           }
          ],
          "profile": null,
          "rating": 1,
          "rating_star": 5,
          "region": "ID",
          "shopid": 51925611,
          "show_reply": null,
          "show_super_review_tag": false,
          "show_view": null,
          "sip_info": {
           "is_oversea": false,
           "origin_region": "id"
          },
          "size_info_abt": "",
          "size_info_tags": null,
          "status": 2,
          "super_review_status": 0,
          "super_reviewer_tag": [],
          "sync_to_social": false,
          "sync_to_social_detail": null,
          "sync_to_social_toggle": null,
          "tags": null,
          "template_abt": null,
          "template_hints": null,
          "template_tags": [
           "Fitur Terbaik",
           "Sepadan dengan Harga"
          ],
          "template_tags_hints": null,
          "userid": 98602919,
          "videos": [
           {
            "cover": "https://down-aka-sg.img.susercontent.com/id-11110103-23080-a7rlfpatsguv62",
            "cover_image_id": "sg-11134206-7qvcu-lk6imm87ewlzf7",
            "duration": 59959,
            "highlight": {
             "cover": "https://play-ws.vod.shopee.com/c3/98934353/160/A3oyOQm0ABRYeVEnIUcBAQAn.jpg",
             "cover_image_id": "",
             "duration": 3039,
             "highlight": null,
             "id": "sg-11110160-6jrq1-lk6iphzphma256",
             "mms_ext": "{\"vid\":\"sg-11110160-6jrq1-lk6iphzphma256\",\"biz\":103,\"duration\":3039,\"create_time\":1691485093,\"serviceID\":6,\"cover\":\"https://play-ws.vod.shopee.com/c3/98934353/160/A3oyOQm0ABRYeVEnIUcBAQAn.jpg\",\"cover_list\":null,\"formats\":[],\"default_format\":{\"format\":600001,\"defn\":\"ORI\",\"profile\":\"MP4\",\"path\":\"\",\"url\":\"https://play-ws.vod.shopee.com/c3/98934353/160/A3oyOW0eAMBXeVEnIUUBCAAn.mp4\",\"width\":250,\"height\":250,\"bitrate\":257989,\"size\":99888,\"fps\":25,\"duration\":3039,\"update_time\":1691485095},\"extend_formats\":{\"H265\":[{\"format\":1600305,\"defn\":\"V270P\",\"profile\":\"MP4\",\"path\":\"api/v4/11110160/mms/sg-11110160-6jrq1-lk6iphzphma256.16003051691485100.mp4\",\"url\":\"https://play-ws.vod.shopee.com/api/v4/11110160/mms/sg-11110160-6jrq1-lk6iphzphma256.16003051691485100.mp4\",\"width\":250,\"height\":250,\"bitrate\":129530,\"size\":52904,\"fps\":25.33333,\"duration\":3000,\"update_time\":1691485096}]},\"ab_test\":\"\"}",
             "upload_time": null,
             "url": "https://play-ws.vod.shopee.com/c3/98934353/160/A3oyOW0eAMBXeVEnIUUBCAAn.mp4"
            },
            "id": "id-11110103-6jt7f-lk6ig3o4kyzua7",
            "mms_ext": "{\"vid\":\"id-11110103-6jt7f-lk6ig3o4kyzua7\",\"biz\":103,\"duration\":59959,\"create_time\":1691484794,\"serviceID\":6,\"cover\":\"https://down-aka-sg.img.susercontent.com/id-11110103-23080-a7rlfpatsguv62\",\"cover_list\":null,\"formats\":[{\"format\":1600408,\"defn\":\"V360P\",\"profile\":\"MP4\",\"path\":\"api/v4/11110103/mms/id-11110103-6jt7f-lk6ig3o4kyzua7.16004081691691002.mp4\",\"url\":\"https://play-ws.vod.shopee.com/api/v4/11110103/mms/id-11110103-6jt7f-lk6ig3o4kyzua7.16004081691691002.mp4\",\"width\":360,\"height\":640,\"bitrate\":210024,\"size\":2347287,\"fps\":25.01665,\"duration\":60040,\"update_time\":1691691031},{\"format\":1600322,\"defn\":\"V360P\",\"profile\":\"MP4\",\"path\":\"api/v4/11110103/mms/id-11110103-6jt7f-lk6ig3o4kyzua7.16003221691694224.mp4\",\"url\":\"https://play-ws.vod.shopee.com/api/v4/11110103/mms/id-11110103-6jt7f-lk6ig3o4kyzua7.16003221691694224.mp4\",\"width\":360,\"height\":640,\"bitrate\":203551,\"size\":2291905,\"fps\":25.01668,\"duration\":59959,\"update_time\":1691694249},{\"format\":1600409,\"defn\":\"V540P\",\"profile\":\"MP4\",\"path\":\"api/v4/11110103/mms/id-11110103-6jt7f-lk6ig3o4kyzua7.16004091691691032.mp4\",\"url\":\"https://play-ws.vod.shopee.com/api/v4/11110103/mms/id-11110103-6jt7f-lk6ig3o4kyzua7.16004091691691032.mp4\",\"width\":540,\"height\":960,\"bitrate\":440762,\"size\":4318323,\"fps\":25.01665,\"duration\":60040,\"update_time\":1691691058},{\"format\":1600323,\"defn\":\"V540P\",\"profile\":\"MP4\",\"path\":\"api/v4/11110103/mms/id-11110103-6jt7f-lk6ig3o4kyzua7.default.mp4\",\"url\":\"https://play-ws.vod.shopee.com/api/v4/11110103/mms/id-11110103-6jt7f-lk6ig3o4kyzua7.default.mp4\",\"width\":540,\"height\":960,\"bitrate\":440290,\"size\":4305552,\"fps\":25.01668,\"duration\":59959,\"update_time\":1691484881},{\"format\":1600005,\"defn\":\"V640P\",\"profile\":\"MP4\",\"path\":\"api/v4/11110103/mms/id-11110103-6jt7f-lk6ig3o4kyzua7.16000051691484796.mp4\",\"url\":\"https://play-ws.vod.shopee.com/api/v4/11110103/mms/id-11110103-6jt7f-lk6ig3o4kyzua7.16000051691484796.mp4\",\"width\":640,\"height\":1138,\"bitrate\":751583,\"size\":6404059,\"fps\":25.01668,\"duration\":59959,\"update_time\":1691484844},{\"format\":1600410,\"defn\":\"V720P\",\"profile\":\"MP4\",\"path\":\"api/v4/11110103/mms/id-11110103-6jt7f-lk6ig3o4kyzua7.16004101691691032.mp4\",\"url\":\"https://play-ws.vod.shopee.com/api/v4/11110103/mms/id-11110103-6jt7f-lk6ig3o4kyzua7.16004101691691032.mp4\",\"width\":720,\"height\":1280,\"bitrate\":933455,\"size\":8015920,\"fps\":25.01665,\"duration\":60040,\"update_time\":1691691088},{\"format\":1600411,\"defn\":\"V720P\",\"profile\":\"MP4\",\"path\":\"api/v4/11110103/mms/id-11110103-6jt7f-lk6ig3o4kyzua7.16004111691691032.mp4\",\"url\":\"https://play-ws.vod.shopee.com/api/v4/11110103/mms/id-11110103-6jt7f-lk6ig3o4kyzua7.16004111691691032.mp4\",\"width\":720,\"height\":1280,\"bitrate\":1100668,\"size\":9270857,\"fps\":25.01665,\"duration\":60040,\"update_time\":1691691077},{\"format\":1600324,\"defn\":\"V720P\",\"profile\":\"MP4\",\"path\":\"api/v4/11110103/mms/id-11110103-6jt7f-lk6ig3o4kyzua7.16003241691694224.mp4\",\"url\":\"https://play-ws.vod.shopee.com/api/v4/11110103/mms/id-11110103-6jt7f-lk6ig3o4kyzua7.16003241691694224.mp4\",\"width\":720,\"height\":1280,\"bitrate\":753176,\"size\":6650555,\"fps\":25.01668,\"duration\":59959,\"update_time\":1691694279},{\"format\":1600325,\"defn\":\"V720P\",\"profile\":\"MP4\",\"path\":\"api/v4/11110103/mms/id-11110103-6jt7f-lk6ig3o4kyzua7.16003251691694224.mp4\",\"url\":\"https://play-ws.vod.shopee.com/api/v4/11110103/mms/id-11110103-6jt7f-lk6ig3o4kyzua7.16003251691694224.mp4\",\"width\":720,\"height\":1280,\"bitrate\":1428290,\"size\":11710534,\"fps\":25.01668,\"duration\":59959,\"update_time\":1691694278}],\"default_format\":{\"format\":600001,\"defn\":\"ORI\",\"profile\":\"MP4\",\"path\":\"\",\"url\":\"https://play-ws.vod.shopee.com/c3/98934353/103/A3oyOa7CACiuZlEnIS4BBQAm.mp4\",\"width\":720,\"height\":1280,\"bitrate\":6138284,\"size\":47018344,\"fps\":24.53254,\"duration\":59959,\"update_time\":1691484796},\"extend_formats\":{\"H265\":[{\"format\":1600412,\"defn\":\"V360P\",\"profile\":\"MP4\",\"path\":\"api/v4/11110103/mms/id-11110103-6jt7f-lk6ig3o4kyzua7.16004121691691032.mp4\",\"url\":\"https://play-ws.vod.shopee.com/api/v4/11110103/mms/id-11110103-6jt7f-lk6ig3o4kyzua7.16004121691691032.mp4\",\"width\":360,\"height\":640,\"bitrate\":189022,\"size\":2193671,\"fps\":25.01665,\"duration\":60040,\"update_time\":1691691076},{\"format\":1600315,\"defn\":\"V360P\",\"profile\":\"MP4\",\"path\":\"api/v4/11110103/mms/id-11110103-6jt7f-lk6ig3o4kyzua7.16003151691694224.mp4\",\"url\":\"https://play-ws.vod.shopee.com/api/v4/11110103/mms/id-11110103-6jt7f-lk6ig3o4kyzua7.16003151691694224.mp4\",\"width\":360,\"height\":640,\"bitrate\":265612,\"size\":2765726,\"fps\":25.01668,\"duration\":59959,\"update_time\":1691694287},{\"format\":1600304,\"defn\":\"V480P\",\"profile\":\"MP4\",\"path\":\"api/v4/11110103/mms/id-11110103-6jt7f-lk6ig3o4kyzua7.16003041691519395.mp4\",\"url\":\"https://play-ws.vod.shopee.com/api/v4/11110103/mms/id-11110103-6jt7f-lk6ig3o4kyzua7.16003041691519395.mp4\",\"width\":480,\"height\":854,\"bitrate\":483878,\"size\":4401614,\"fps\":25.01668,\"duration\":59959,\"update_time\":1691519457},{\"format\":1600413,\"defn\":\"V540P\",\"profile\":\"MP4\",\"path\":\"api/v4/11110103/mms/id-11110103-6jt7f-lk6ig3o4kyzua7.16004131691691032.mp4\",\"url\":\"https://play-ws.vod.shopee.com/api/v4/11110103/mms/id-11110103-6jt7f-lk6ig3o4kyzua7.16004131691691032.mp4\",\"width\":540,\"height\":960,\"bitrate\":329803,\"size\":3489545,\"fps\":25.01665,\"duration\":60040,\"update_time\":1691691105},{\"format\":1600316,\"defn\":\"V540P\",\"profile\":\"MP4\",\"path\":\"api/v4/11110103/mms/id-11110103-6jt7f-lk6ig3o4kyzua7.16003161691694224.mp4\",\"url\":\"https://play-ws.vod.shopee.com/api/v4/11110103/mms/id-11110103-6jt7f-lk6ig3o4kyzua7.16003161691694224.mp4\",\"width\":540,\"height\":960,\"bitrate\":562677,\"size\":5231656,\"fps\":25.01668,\"duration\":59959,\"update_time\":1691694322},{\"format\":1600307,\"defn\":\"V540P\",\"profile\":\"MP4\",\"path\":\"api/v4/11110103/mms/id-11110103-6jt7f-lk6ig3o4kyzua7.16003071691484845.mp4\",\"url\":\"https://play-ws.vod.shopee.com/api/v4/11110103/mms/id-11110103-6jt7f-lk6ig3o4kyzua7.16003071691484845.mp4\",\"width\":540,\"height\":960,\"bitrate\":559359,\"size\":5206767,\"fps\":25.01668,\"duration\":59959,\"update_time\":1691484921},{\"format\":1600308,\"defn\":\"V640P\",\"profile\":\"MP4\",\"path\":\"api/v4/11110103/mms/id-11110103-6jt7f-lk6ig3o4kyzua7.16003081691484845.mp4\",\"url\":\"https://play-ws.vod.shopee.com/api/v4/11110103/mms/id-11110103-6jt7f-lk6ig3o4kyzua7.16003081691484845.mp4\",\"width\":640,\"height\":1138,\"bitrate\":713455,\"size\":6361720,\"fps\":25.01668,\"duration\":59959,\"update_time\":1691484956},{\"format\":1600414,\"defn\":\"V720P\",\"profile\":\"MP4\",\"path\":\"api/v4/11110103/mms/id-11110103-6jt7f-lk6ig3o4kyzua7.16004141691691032.mp4\",\"url\":\"https://play-ws.vod.shopee.com/api/v4/11110103/mms/id-11110103-6jt7f-lk6ig3o4kyzua7.16004141691691032.mp4\",\"width\":720,\"height\":1280,\"bitrate\":710803,\"size\":6348946,\"fps\":25.01665,\"duration\":60040,\"update_time\":1691691152},{\"format\":1600415,\"defn\":\"V720P\",\"profile\":\"MP4\",\"path\":\"api/v4/11110103/mms/id-11110103-6jt7f-lk6ig3o4kyzua7.16004151691691032.mp4\",\"url\":\"https://play-ws.vod.shopee.com/api/v4/11110103/mms/id-11110103-6jt7f-lk6ig3o4kyzua7.16004151691691032.mp4\",\"width\":720,\"height\":1280,\"bitrate\":714890,\"size\":6379621,\"fps\":25.01665,\"duration\":60040,\"update_time\":1691691161},{\"format\":1600317,\"defn\":\"V720P\",\"profile\":\"MP4\",\"path\":\"api/v4/11110103/mms/id-11110103-6jt7f-lk6ig3o4kyzua7.16003171691694224.mp4\",\"url\":\"https://play-ws.vod.shopee.com/api/v4/11110103/mms/id-11110103-6jt7f-lk6ig3o4kyzua7.16003171691694224.mp4\",\"width\":720,\"height\":1280,\"bitrate\":1268970,\"size\":10525303,\"fps\":25.01668,\"duration\":59959,\"update_time\":1691694399},{\"format\":1600318,\"defn\":\"V720P\",\"profile\":\"MP4\",\"path\":\"api/v4/11110103/mms/id-11110103-6jt7f-lk6ig3o4kyzua7.16003181691694224.mp4\",\"url\":\"https://play-ws.vod.shopee.com/api/v4/11110103/mms/id-11110103-6jt7f-lk6ig3o4kyzua7.16003181691694224.mp4\",\"width\":720,\"height\":1280,\"bitrate\":1270687,\"size\":10538174,\"fps\":25.01668,\"duration\":59959,\"update_time\":1691694373}]},\"ab_test\":\"\"}",
            "upload_time": null,
            "url": "https://play-ws.vod.shopee.com/api/v4/11110103/mms/id-11110103-6jt7f-lk6ig3o4kyzua7.16004081691691002.mp4"
           }
          ],
          "viewed": null
         },
         {
          "ItemRatingReply": null,
          "anonymous": true,
          "author_portrait": "b901e4f475d015645ac52de083f095c5",
          "author_shopid": 598884551,
          "author_username": "c*****3",
          "can_follow_up": null,
          "cmtid": 12222342975,
          "comment": "Fitur Terbaik:bgs sesuai dengan deskripsi\nSepadan dengan Harga:hrga sesuai ya dengan hpnya bgs skli\n\nPsn tnggl 5 sampai tnggl 9 oktober 2023 \nBgs sesuai dengan di pesan pengerjaannya rapih \nRekomen",
          "ctime": 1691574379,
          "delete_operator": null,
          "delete_reason": null,
          "detailed_rating": {
           "delivery_service": 5,
           "driver_service": null,
           "product_quality": 5,
           "seller_service": 5
          },
          "display_variation_filter": true,
          "editable": 1,
          "editable_date": 1694166379,
          "exclude_scoring_due_low_logistic": false,
          "filter": 7,
          "follow_up": null,
          "has_template_tag": true,
          "image_data": [
           {
            "cover_image_id": "id-11134103-7qul0-lk7zm6ak30svb3",
            "image_id": "id-11134103-7qul0-lk7zm6ak30svb3"
           },
           {
            "cover_image_id": "id-11134103-7qul6-lk7zm6ak4fdbf9",
            "image_id": "id-11134103-7qul6-lk7zm6ak4fdbf9"
           },
           {
            "cover_image_id": "id-11134103-7qul2-lk7zmoi7fk8z13",
            "image_id": "id-11134103-7qul2-lk7zmoi7fk8z13"
           },
           {
            "cover_image_id": "id-11134103-7qul7-lk7zmoi7fjvr92",
            "image_id": "id-11134103-7qul7-lk7zmoi7fjvr92"
           }
          ],
          "images": [
           "id-11134103-7qul0-lk7zm6ak30svb3",
           "id-11134103-7qul6-lk7zm6ak4fdbf9",
           "id-11134103-7qul2-lk7zmoi7fk8z13",
           "id-11134103-7qul7-lk7zmoi7fjvr92"
          ],
          "index": 9,
          "is_hidden": false,
          "is_newly_created": null,
          "is_normal_item": true,
          "is_repeat_edited": null,
          "is_repeated_purchase": false,
          "is_super_review": false,
          "item_cart_info": null,
          "itemid": 20282046522,
          "key_media": {
           "key_media_code": 0,
           "key_media_id": ""
          },
          "like_count": 8,
          "liked": null,
          "loyalty_info": {
           "tier_code": 30,
           "tier_text": "Member Gold",
           "user_tier_badge_background_color": "#E7AE21",
           "user_tier_badge_text_color": "#FFFFFF",
           "user_tier_badge_url": "https://loyalty.shopee.co.id"
          },
          "mentioned": [],
          "mtime": 1693043240,
          "opt": 2,
          "orderid": 144857977288610,
          "original_item_info": {
           "image": "id-11134207-7qul7-lkge7tzidmbkda",
           "itemid": 20282046522,
           "name": "Official Xiaomi Redmi 12 (8GB/128GB) | (8GB/256GB) MediaTek Helio G88 5000 mAh 18W 90Hz FHD+ 50MP Triple Kamera AI",
           "shopid": 51925611
          },
          "overall_fit": 0,
          "product_items": [
           {
            "image": "id-11134207-7qul7-ljqvpc7vs4rf69",
            "is_snapshot": 1,
            "itemid": 20282046522,
            "model_name": "Midnight Black,8/256 GB",
            "modelid": 39680258931,
            "name": "Official Xiaomi Redmi 12 (8GB/128GB) | (8GB/256GB) MediaTek Helio G88 5000 mAh 18W 90Hz FHD+ 50MP Triple Kamera AI",
            "options": [
             "Midnight Black",
             "8/256 GB"
            ],
            "shopid": 51925611,
            "snapshotid": 13339447130
           }
          ],
          "profile": null,
          "rating": 1,
          "rating_star": 5,
          "region": "ID",
          "shopid": 51925611,
          "show_reply": null,
          "show_super_review_tag": false,
          "show_view": null,
          "sip_info": {
           "is_oversea": false,
           "origin_region": "id"
          },
          "size_info_abt": "",
          "size_info_tags": null,
          "status": 2,
          "super_review_status": 0,
          "super_reviewer_tag": [],
          "sync_to_social": false,
          "sync_to_social_detail": null,
          "sync_to_social_toggle": null,
          "tags": null,
          "template_abt": null,
          "template_hints": null,
          "template_tags": [
           "Fitur Terbaik",
           "Sepadan dengan Harga"
          ],
          "template_tags_hints": null,
          "userid": 598904136,
          "videos": [
           {
            "cover": "https://down-aka-sg.img.susercontent.com/id-11110103-23080-ne4h6fy10huvc8",
            "cover_image_id": "sg-11134206-7qve4-lk93lswk43uy78",
            "duration": 32250,
            "highlight": {
             "cover": "https://play-ws.vod.shopee.com/c3/98934353/160/A3oyOV7jAAzavnYnEZEBACc.jpg",
             "cover_image_id": "",
             "duration": 3000,
             "highlight": null,
             "id": "sg-11110160-6jro4-lk93odfsqnlqe6",
             "mms_ext": "{\"vid\":\"sg-11110160-6jro4-lk93odfsqnlqe6\",\"biz\":103,\"duration\":3000,\"create_time\":1691641421,\"serviceID\":6,\"cover\":\"https://play-ws.vod.shopee.com/c3/98934353/160/A3oyOV7jAAzavnYnEZEBACc.jpg\",\"cover_list\":null,\"formats\":[],\"default_format\":{\"format\":600001,\"defn\":\"ORI\",\"profile\":\"MP4\",\"path\":\"\",\"url\":\"https://play-ws.vod.shopee.com/c3/98934353/160/A3oyOZciAKjZvnYnEY8BACc.mp4\",\"width\":250,\"height\":250,\"bitrate\":280856,\"size\":107072,\"fps\":25,\"duration\":3000,\"update_time\":1691641422},\"extend_formats\":{\"H265\":[{\"format\":1600305,\"defn\":\"V270P\",\"profile\":\"MP4\",\"path\":\"api/v4/11110160/mms/sg-11110160-6jro4-lk93odfsqnlqe6.16003051691641428.mp4\",\"url\":\"https://play-ws.vod.shopee.com/api/v4/11110160/mms/sg-11110160-6jro4-lk93odfsqnlqe6.16003051691641428.mp4\",\"width\":250,\"height\":250,\"bitrate\":138902,\"size\":55703,\"fps\":25.33784,\"duration\":2960,\"update_time\":1691641425}]},\"ab_test\":\"\"}",
             "upload_time": null,
             "url": "https://play-ws.vod.shopee.com/c3/98934353/160/A3oyOZciAKjZvnYnEY8BACc.mp4"
            },
            "id": "id-11110103-6jt7h-lk7zqi1u5fze5a",
            "mms_ext": "{\"vid\":\"id-11110103-6jt7h-lk7zqi1u5fze5a\",\"biz\":103,\"duration\":32250,\"create_time\":1691574273,\"serviceID\":6,\"cover\":\"https://down-aka-sg.img.susercontent.com/id-11110103-23080-ne4h6fy10huvc8\",\"cover_list\":null,\"formats\":[{\"format\":1600323,\"defn\":\"V540P\",\"profile\":\"MP4\",\"path\":\"api/v4/11110103/mms/id-11110103-6jt7h-lk7zqi1u5fze5a.default.mp4\",\"url\":\"https://play-ws.vod.shopee.com/api/v4/11110103/mms/id-11110103-6jt7h-lk7zqi1u5fze5a.default.mp4\",\"width\":360,\"height\":640,\"bitrate\":383003,\"size\":1615971,\"fps\":25.03106,\"duration\":32256,\"update_time\":1691574291},{\"format\":1600005,\"defn\":\"V640P\",\"profile\":\"MP4\",\"path\":\"api/v4/11110103/mms/id-11110103-6jt7h-lk7zqi1u5fze5a.16000051691574274.mp4\",\"url\":\"https://play-ws.vod.shopee.com/api/v4/11110103/mms/id-11110103-6jt7h-lk7zqi1u5fze5a.16000051691574274.mp4\",\"width\":360,\"height\":640,\"bitrate\":354131,\"size\":1503820,\"fps\":25.03106,\"duration\":32252,\"update_time\":1691574280}],\"default_format\":{\"format\":600001,\"defn\":\"ORI\",\"profile\":\"MP4\",\"path\":\"\",\"url\":\"https://play-ws.vod.shopee.com/c3/98934353/103/A3oyOcEAAOAPvGYnEWEGACY.mp4\",\"width\":360,\"height\":640,\"bitrate\":1505108,\"size\":6088162,\"fps\":24,\"duration\":32250,\"update_time\":1691574274},\"extend_formats\":{\"H265\":[{\"format\":1600308,\"defn\":\"V640P\",\"profile\":\"MP4\",\"path\":\"api/v4/11110103/mms/id-11110103-6jt7h-lk7zqi1u5fze5a.16003081691695055.mp4\",\"url\":\"https://play-ws.vod.shopee.com/api/v4/11110103/mms/id-11110103-6jt7h-lk7zqi1u5fze5a.16003081691695055.mp4\",\"width\":360,\"height\":640,\"bitrate\":229638,\"size\":1006016,\"fps\":25.03106,\"duration\":32252,\"update_time\":1691695074}]},\"ab_test\":\"\"}",
            "upload_time": null,
            "url": "https://play-ws.vod.shopee.com/api/v4/11110103/mms/id-11110103-6jt7h-lk7zqi1u5fze5a.default.mp4"
           }
          ],
          "viewed": null
         },
         {
          "ItemRatingReply": null,
          "anonymous": false,
          "author_portrait": "4584d2b89981e600dfdaef5b8b00eae6",
          "author_shopid": 398393846,
          "author_username": "yesiwidyarto_96",
          "can_follow_up": null,
          "cmtid": 12278668309,
          "comment": "Fitur Terbaik:mantapp\nSepadan dengan Harga:murah\n\nMantap, sangat murah harganya, dan elegan modelnya, mantapp sekali, insha Allah puas",
          "ctime": 1692008083,
          "delete_operator": null,
          "delete_reason": null,
          "detailed_rating": {
           "delivery_service": null,
           "driver_service": null,
           "product_quality": 5,
           "seller_service": null
          },
          "display_variation_filter": true,
          "editable": 1,
          "editable_date": 1694600083,
          "exclude_scoring_due_low_logistic": false,
          "filter": 7,
          "follow_up": null,
          "has_template_tag": true,
          "image_data": [
           {
            "cover_image_id": "id-11134103-7qul4-lkf5nn09v4ple7",
            "image_id": "id-11134103-7qul4-lkf5nn09v4ple7"
           },
           {
            "cover_image_id": "id-11134103-7qukw-lkf5nn0tub2sec",
            "image_id": "id-11134103-7qukw-lkf5nn0tub2sec"
           },
           {
            "cover_image_id": "id-11134103-7quky-lkf5nn0tuazu86",
            "image_id": "id-11134103-7quky-lkf5nn0tuazu86"
           },
           {
            "cover_image_id": "id-11134103-7qukx-lkf5nvezk5ec7c",
            "image_id": "id-11134103-7qukx-lkf5nvezk5ec7c"
           },
           {
            "cover_image_id": "id-11134103-7qul4-lkf5odev81hw6c",
            "image_id": "id-11134103-7qul4-lkf5odev81hw6c"
           }
          ],
          "images": [
           "id-11134103-7qul4-lkf5nn09v4ple7",
           "id-11134103-7qukw-lkf5nn0tub2sec",
           "id-11134103-7quky-lkf5nn0tuazu86",
           "id-11134103-7qukx-lkf5nvezk5ec7c",
           "id-11134103-7qul4-lkf5odev81hw6c"
          ],
          "index": 10,
          "is_hidden": false,
          "is_newly_created": null,
          "is_normal_item": true,
          "is_repeat_edited": null,
          "is_repeated_purchase": false,
          "is_super_review": false,
          "item_cart_info": null,
          "itemid": 20282046522,
          "key_media": {
           "key_media_code": 0,
           "key_media_id": ""
          },
          "like_count": 6,
          "liked": null,
          "loyalty_info": {
           "tier_code": 30,
           "tier_text": "Member Gold",
           "user_tier_badge_background_color": "#E7AE21",
           "user_tier_badge_text_color": "#FFFFFF",
           "user_tier_badge_url": "https://loyalty.shopee.co.id"
          },
          "mentioned": [],
          "mtime": 1692944607,
          "opt": 2,
          "orderid": 145361307215004,
          "original_item_info": {
           "image": "id-11134207-7qul7-lkge7tzidmbkda",
           "itemid": 20282046522,
           "name": "Official Xiaomi Redmi 12 (8GB/128GB) | (8GB/256GB) MediaTek Helio G88 5000 mAh 18W 90Hz FHD+ 50MP Triple Kamera AI",
           "shopid": 51925611
          },
          "overall_fit": 0,
          "product_items": [
           {
            "image": "id-11134207-7qul7-ljqvpc7vs4rf69",
            "is_snapshot": 1,
            "itemid": 20282046522,
            "model_name": "Midnight Black,8/256 GB",
            "modelid": 39680258931,
            "name": "Official Xiaomi Redmi 12 (8GB/128GB) | (8GB/256GB) MediaTek Helio G88 5000 mAh 18W 90Hz FHD+ 50MP Triple Kamera AI",
            "options": [
             "Midnight Black",
             "8/256 GB"
            ],
            "shopid": 51925611,
            "snapshotid": 22346917282
           }
          ],
          "profile": null,
          "rating": 1,
          "rating_star": 5,
          "region": "ID",
          "shopid": 51925611,
          "show_reply": null,
          "show_super_review_tag": false,
          "show_view": null,
          "sip_info": {
           "is_oversea": false,
           "origin_region": "id"
          },
          "size_info_abt": "",
          "size_info_tags": null,
          "status": 2,
          "super_review_status": 0,
          "super_reviewer_tag": [],
          "sync_to_social": false,
          "sync_to_social_detail": null,
          "sync_to_social_toggle": null,
          "tags": null,
          "template_abt": null,
          "template_hints": null,
          "template_tags": [
           "Fitur Terbaik",
           "Sepadan dengan Harga"
          ],
          "template_tags_hints": null,
          "userid": 398413423,
          "videos": [
           {
            "cover": "https://down-aka-sg.img.susercontent.com/id-11110103-23080-jg0f1ujzfpuv6b",
            "cover_image_id": "sg-11134206-7qvcz-lkg3ss16t9z062",
            "duration": 43700,
            "highlight": {
             "cover": "https://play-ws.vod.shopee.com/c3/98934353/160/A3oyOf3OAPyv3dsnERMEACc.jpg",
             "cover_image_id": "",
             "duration": 3000,
             "highlight": null,
             "id": "sg-11110160-6jrpm-lkg3wp1of1kse2",
             "mms_ext": "{\"vid\":\"sg-11110160-6jrpm-lkg3wp1of1kse2\",\"biz\":103,\"duration\":3000,\"create_time\":1692065551,\"serviceID\":6,\"cover\":\"https://play-ws.vod.shopee.com/c3/98934353/160/A3oyOf3OAPyv3dsnERMEACc.jpg\",\"cover_list\":null,\"formats\":[],\"default_format\":{\"format\":600001,\"defn\":\"ORI\",\"profile\":\"MP4\",\"path\":\"\",\"url\":\"https://play-ws.vod.shopee.com/c3/98934353/160/A3oyOQH=AFiv3dsnEbwIACc.mp4\",\"width\":250,\"height\":250,\"bitrate\":257768,\"size\":98362,\"fps\":25,\"duration\":3000,\"update_time\":1692065551},\"extend_formats\":{\"H265\":[{\"format\":1600305,\"defn\":\"V270P\",\"profile\":\"MP4\",\"path\":\"api/v4/11110160/mms/sg-11110160-6jrpm-lkg3wp1of1kse2.16003051692065558.mp4\",\"url\":\"https://play-ws.vod.shopee.com/api/v4/11110160/mms/sg-11110160-6jrpm-lkg3wp1of1kse2.16003051692065558.mp4\",\"width\":250,\"height\":250,\"bitrate\":142556,\"size\":57055,\"fps\":25.33784,\"duration\":2960,\"update_time\":1692065554}]},\"ab_test\":\"\"}",
             "upload_time": null,
             "url": "https://play-ws.vod.shopee.com/c3/98934353/160/A3oyOQH=AFiv3dsnEbwIACc.mp4"
            },
            "id": "id-11110103-6jt7i-lkf5p0kdcb3e3d",
            "mms_ext": "{\"vid\":\"id-11110103-6jt7i-lkf5p0kdcb3e3d\",\"biz\":103,\"duration\":43700,\"create_time\":1692008037,\"serviceID\":6,\"cover\":\"https://down-aka-sg.img.susercontent.com/id-11110103-23080-jg0f1ujzfpuv6b\",\"cover_list\":null,\"formats\":[{\"format\":1600323,\"defn\":\"V540P\",\"profile\":\"MP4\",\"path\":\"api/v4/11110103/mms/id-11110103-6jt7i-lkf5p0kdcb3e3d.default.mp4\",\"url\":\"https://play-ws.vod.shopee.com/api/v4/11110103/mms/id-11110103-6jt7i-lkf5p0kdcb3e3d.default.mp4\",\"width\":480,\"height\":848,\"bitrate\":445561,\"size\":2990558,\"fps\":25.02291,\"duration\":43712,\"update_time\":1692008073},{\"format\":1600005,\"defn\":\"V640P\",\"profile\":\"MP4\",\"path\":\"api/v4/11110103/mms/id-11110103-6jt7i-lkf5p0kdcb3e3d.16000051692008039.mp4\",\"url\":\"https://play-ws.vod.shopee.com/api/v4/11110103/mms/id-11110103-6jt7i-lkf5p0kdcb3e3d.16000051692008039.mp4\",\"width\":480,\"height\":848,\"bitrate\":673988,\"size\":4239771,\"fps\":25.02291,\"duration\":43700,\"update_time\":1692008054}],\"default_format\":{\"format\":600001,\"defn\":\"ORI\",\"profile\":\"MP4\",\"path\":\"\",\"url\":\"https://play-ws.vod.shopee.com/c3/98934353/103/A3oyOVwCAKTuJs4nEaYGACY.mp4\",\"width\":480,\"height\":848,\"bitrate\":1398211,\"size\":8175278,\"fps\":20,\"duration\":43700,\"update_time\":1692008038},\"extend_formats\":{\"H265\":[{\"format\":1600308,\"defn\":\"V640P\",\"profile\":\"MP4\",\"path\":\"api/v4/11110103/mms/id-11110103-6jt7i-lkf5p0kdcb3e3d.16003081692128210.mp4\",\"url\":\"https://play-ws.vod.shopee.com/api/v4/11110103/mms/id-11110103-6jt7i-lkf5p0kdcb3e3d.16003081692128210.mp4\",\"width\":480,\"height\":848,\"bitrate\":451826,\"size\":3031456,\"fps\":25.02291,\"duration\":43700,\"update_time\":1692128257}]},\"ab_test\":\"\"}",
            "upload_time": null,
            "url": "https://play-ws.vod.shopee.com/api/v4/11110103/mms/id-11110103-6jt7i-lkf5p0kdcb3e3d.default.mp4"
           }
          ],
          "viewed": null
         },
         {
          "ItemRatingReply": null,
          "anonymous": true,
          "author_portrait": "61e01b133517b1cc1c30db4fc686f037",
          "author_shopid": 37557397,
          "author_username": "6*****6",
          "can_follow_up": null,
          "cmtid": 12240199037,
          "comment": "Sepadan dengan Harga:sangat sepadan dengan harga\nFitur Terbaik:teknologi AI\n\nAlhamdulillah sudah sampai dengan baik, Terimakasih banyak seller karena sudah amanah, semoga awet dan bisa langganan 🙏😊",
          "ctime": 1691718208,
          "delete_operator": null,
          "delete_reason": null,
          "detailed_rating": {
           "delivery_service": 4,
           "driver_service": null,
           "product_quality": 5,
           "seller_service": 4
          },
          "display_variation_filter": true,
          "editable": 1,
          "editable_date": 1694310208,
          "exclude_scoring_due_low_logistic": false,
          "filter": 7,
          "follow_up": null,
          "has_template_tag": true,
          "image_data": [
           {
            "cover_image_id": "id-11134103-7qul7-lkad836tt4t5d4",
            "image_id": "id-11134103-7qul7-lkad836tt4t5d4"
           },
           {
            "cover_image_id": "id-11134103-7qukz-lkad8391pvw61e",
            "image_id": "id-11134103-7qukz-lkad8391pvw61e"
           },
           {
            "cover_image_id": "id-11134103-7qul3-lkad8373sppme4",
            "image_id": "id-11134103-7qul3-lkad8373sppme4"
           },
           {
            "cover_image_id": "id-11134103-7qul5-lkad8391pvlucf",
            "image_id": "id-11134103-7qul5-lkad8391pvlucf"
           },
           {
            "cover_image_id": "id-11134103-7qul0-lkad8373spskc5",
            "image_id": "id-11134103-7qul0-lkad8373spskc5"
           }
          ],
          "images": [
           "id-11134103-7qul7-lkad836tt4t5d4",
           "id-11134103-7qukz-lkad8391pvw61e",
           "id-11134103-7qul3-lkad8373sppme4",
           "id-11134103-7qul5-lkad8391pvlucf",
           "id-11134103-7qul0-lkad8373spskc5"
          ],
          "index": 11,
          "is_hidden": false,
          "is_newly_created": null,
          "is_normal_item": true,
          "is_repeat_edited": null,
          "is_repeated_purchase": false,
          "is_super_review": false,
          "item_cart_info": null,
          "itemid": 20282046522,
          "key_media": {
           "key_media_code": 0,
           "key_media_id": ""
          },
          "like_count": 39,
          "liked": null,
          "loyalty_info": {
           "tier_code": 30,
           "tier_text": "Member Gold",
           "user_tier_badge_background_color": "#E7AE21",
           "user_tier_badge_text_color": "#FFFFFF",
           "user_tier_badge_url": "https://loyalty.shopee.co.id"
          },
          "mentioned": [],
          "mtime": 1693101263,
          "opt": 2,
          "orderid": 144900147226370,
          "original_item_info": {
           "image": "id-11134207-7qul7-lkge7tzidmbkda",
           "itemid": 20282046522,
           "name": "Official Xiaomi Redmi 12 (8GB/128GB) | (8GB/256GB) MediaTek Helio G88 5000 mAh 18W 90Hz FHD+ 50MP Triple Kamera AI",
           "shopid": 51925611
          },
          "overall_fit": 0,
          "product_items": [
           {
            "image": "id-11134207-7qul7-ljqvpc7vs4rf69",
            "is_snapshot": 1,
            "itemid": 20282046522,
            "model_name": "Midnight Black,8/256 GB",
            "modelid": 39680258931,
            "name": "Official Xiaomi Redmi 12 (8GB/128GB) | (8GB/256GB) MediaTek Helio G88 5000 mAh 18W 90Hz FHD+ 50MP Triple Kamera AI",
            "options": [
             "Midnight Black",
             "8/256 GB"
            ],
            "shopid": 51925611,
            "snapshotid": 13339447130
           }
          ],
          "profile": null,
          "rating": 1,
          "rating_star": 5,
          "region": "ID",
          "shopid": 51925611,
          "show_reply": null,
          "show_super_review_tag": false,
          "show_view": null,
          "sip_info": {
           "is_oversea": false,
           "origin_region": "id"
          },
          "size_info_abt": "",
          "size_info_tags": null,
          "status": 2,
          "super_review_status": 0,
          "super_reviewer_tag": [],
          "sync_to_social": false,
          "sync_to_social_detail": null,
          "sync_to_social_toggle": null,
          "tags": null,
          "template_abt": null,
          "template_hints": null,
          "template_tags": [
           "Sepadan dengan Harga",
           "Fitur Terbaik"
          ],
          "template_tags_hints": null,
          "userid": 37558782,
          "videos": [
           {
            "cover": "https://down-aka-sg.img.susercontent.com/id-11110103-7qul6-lkad97oml7pcc2",
            "cover_image_id": "sg-11134206-7qve3-lkaxyu260t6o8d",
            "duration": 30860,
            "highlight": {
             "cover": "https://play-ws.vod.shopee.com/c3/98934353/160/A3oyOeOvAGy0WZEnEZwAACc.jpg",
             "cover_image_id": "",
             "duration": 3079,
             "highlight": null,
             "id": "sg-11110160-6jrpu-lkay1ez00nd3a7",
             "mms_ext": "{\"vid\":\"sg-11110160-6jrpu-lkay1ez00nd3a7\",\"biz\":103,\"duration\":3079,\"create_time\":1691753010,\"serviceID\":6,\"cover\":\"https://play-ws.vod.shopee.com/c3/98934353/160/A3oyOeOvAGy0WZEnEZwAACc.jpg\",\"cover_list\":null,\"formats\":[],\"default_format\":{\"format\":600001,\"defn\":\"ORI\",\"profile\":\"MP4\",\"path\":\"\",\"url\":\"https://play-ws.vod.shopee.com/c3/98934353/160/A3oyObHeABS0WZEnEZgFACc.mp4\",\"width\":250,\"height\":250,\"bitrate\":371184,\"size\":144730,\"fps\":25,\"duration\":3079,\"update_time\":1691753011},\"extend_formats\":{\"H265\":[{\"format\":1600305,\"defn\":\"V270P\",\"profile\":\"MP4\",\"path\":\"api/v4/11110160/mms/sg-11110160-6jrpu-lkay1ez00nd3a7.16003051691753017.mp4\",\"url\":\"https://play-ws.vod.shopee.com/api/v4/11110160/mms/sg-11110160-6jrpu-lkay1ez00nd3a7.16003051691753017.mp4\",\"width\":250,\"height\":250,\"bitrate\":162994,\"size\":66281,\"fps\":25.32895,\"duration\":3039,\"update_time\":1691753014}]},\"ab_test\":\"\"}",
             "upload_time": null,
             "url": "https://play-ws.vod.shopee.com/c3/98934353/160/A3oyObHeABS0WZEnEZgFACc.mp4"
            },
            "id": "id-11110103-6jt7d-lkad97omjt4w56",
            "mms_ext": "{\"vid\":\"id-11110103-6jt7d-lkad97omjt4w56\",\"biz\":103,\"duration\":30860,\"create_time\":1691718077,\"serviceID\":6,\"cover\":\"https://down-aka-sg.img.susercontent.com/id-11110103-7qul6-lkad97oml7pcc2\",\"cover_list\":null,\"formats\":[{\"format\":1600408,\"defn\":\"V360P\",\"profile\":\"MP4\",\"path\":\"api/v4/11110103/mms/id-11110103-6jt7d-lkad97omjt4w56.16004081691901632.mp4\",\"url\":\"https://play-ws.vod.shopee.com/api/v4/11110103/mms/id-11110103-6jt7d-lkad97omjt4w56.16004081691901632.mp4\",\"width\":360,\"height\":800,\"bitrate\":393913,\"size\":1591579,\"fps\":25.03247,\"duration\":30860,\"update_time\":1691901643},{\"format\":1600322,\"defn\":\"V360P\",\"profile\":\"MP4\",\"path\":\"api/v4/11110103/mms/id-11110103-6jt7d-lkad97omjt4w56.16003221691865891.mp4\",\"url\":\"https://play-ws.vod.shopee.com/api/v4/11110103/mms/id-11110103-6jt7d-lkad97omjt4w56.16003221691865891.mp4\",\"width\":360,\"height\":800,\"bitrate\":222427,\"size\":1246006,\"fps\":25.03247,\"duration\":30870,\"update_time\":1691865905},{\"format\":1600409,\"defn\":\"V540P\",\"profile\":\"MP4\",\"path\":\"api/v4/11110103/mms/id-11110103-6jt7d-lkad97omjt4w56.16004091691901644.mp4\",\"url\":\"https://play-ws.vod.shopee.com/api/v4/11110103/mms/id-11110103-6jt7d-lkad97omjt4w56.16004091691901644.mp4\",\"width\":540,\"height\":1200,\"bitrate\":698224,\"size\":2763087,\"fps\":25.03247,\"duration\":30860,\"update_time\":1691901662},{\"format\":1600323,\"defn\":\"V540P\",\"profile\":\"MP4\",\"path\":\"api/v4/11110103/mms/id-11110103-6jt7d-lkad97omjt4w56.default.mp4\",\"url\":\"https://play-ws.vod.shopee.com/api/v4/11110103/mms/id-11110103-6jt7d-lkad97omjt4w56.default.mp4\",\"width\":540,\"height\":1200,\"bitrate\":496460,\"size\":2430328,\"fps\":25.03247,\"duration\":30870,\"update_time\":1691718117},{\"format\":1600005,\"defn\":\"V640P\",\"profile\":\"MP4\",\"path\":\"api/v4/11110103/mms/id-11110103-6jt7d-lkad97omjt4w56.16000051691718079.mp4\",\"url\":\"https://play-ws.vod.shopee.com/api/v4/11110103/mms/id-11110103-6jt7d-lkad97omjt4w56.16000051691718079.mp4\",\"width\":576,\"height\":1280,\"bitrate\":847442,\"size\":3660341,\"fps\":25.03247,\"duration\":30860,\"update_time\":1691718098}],\"default_format\":{\"format\":600001,\"defn\":\"ORI\",\"profile\":\"MP4\",\"path\":\"\",\"url\":\"https://play-ws.vod.shopee.com/api/v4/11110103/mms/id-11110103-6jt7d-lkad97omjt4w56.mp4\",\"width\":576,\"height\":1280,\"bitrate\":1991158,\"size\":8188750,\"fps\":30.03279,\"duration\":30860,\"update_time\":1691718078},\"extend_formats\":{\"H265\":[{\"format\":1600412,\"defn\":\"V360P\",\"profile\":\"MP4\",\"path\":\"api/v4/11110103/mms/id-11110103-6jt7d-lkad97omjt4w56.16004121691901644.mp4\",\"url\":\"https://play-ws.vod.shopee.com/api/v4/11110103/mms/id-11110103-6jt7d-lkad97omjt4w56.16004121691901644.mp4\",\"width\":360,\"height\":800,\"bitrate\":246866,\"size\":1028759,\"fps\":25.03247,\"duration\":30860,\"update_time\":1691901680},{\"format\":1600315,\"defn\":\"V360P\",\"profile\":\"MP4\",\"path\":\"api/v4/11110103/mms/id-11110103-6jt7d-lkad97omjt4w56.16003151691865891.mp4\",\"url\":\"https://play-ws.vod.shopee.com/api/v4/11110103/mms/id-11110103-6jt7d-lkad97omjt4w56.16003151691865891.mp4\",\"width\":360,\"height\":800,\"bitrate\":274679,\"size\":1458559,\"fps\":25.03247,\"duration\":30860,\"update_time\":1691865922},{\"format\":1600304,\"defn\":\"V480P\",\"profile\":\"MP4\",\"path\":\"api/v4/11110103/mms/id-11110103-6jt7d-lkad97omjt4w56.16003041691780506.mp4\",\"url\":\"https://play-ws.vod.shopee.com/api/v4/11110103/mms/id-11110103-6jt7d-lkad97omjt4w56.16003041691780506.mp4\",\"width\":480,\"height\":1066,\"bitrate\":494821,\"size\":2306119,\"fps\":25.03247,\"duration\":30860,\"update_time\":1691780560},{\"format\":1600413,\"defn\":\"V540P\",\"profile\":\"MP4\",\"path\":\"api/v4/11110103/mms/id-11110103-6jt7d-lkad97omjt4w56.16004131691901644.mp4\",\"url\":\"https://play-ws.vod.shopee.com/api/v4/11110103/mms/id-11110103-6jt7d-lkad97omjt4w56.16004131691901644.mp4\",\"width\":540,\"height\":1200,\"bitrate\":400350,\"size\":1619652,\"fps\":25.03247,\"duration\":30860,\"update_time\":1691901700},{\"format\":1600307,\"defn\":\"V540P\",\"profile\":\"MP4\",\"path\":\"api/v4/11110103/mms/id-11110103-6jt7d-lkad97omjt4w56.16003071691718099.mp4\",\"url\":\"https://play-ws.vod.shopee.com/api/v4/11110103/mms/id-11110103-6jt7d-lkad97omjt4w56.16003071691718099.mp4\",\"width\":540,\"height\":1200,\"bitrate\":559367,\"size\":2678123,\"fps\":25.03247,\"duration\":30860,\"update_time\":1691718183},{\"format\":1600316,\"defn\":\"V540P\",\"profile\":\"MP4\",\"path\":\"api/v4/11110103/mms/id-11110103-6jt7d-lkad97omjt4w56.16003161691865891.mp4\",\"url\":\"https://play-ws.vod.shopee.com/api/v4/11110103/mms/id-11110103-6jt7d-lkad97omjt4w56.16003161691865891.mp4\",\"width\":540,\"height\":1200,\"bitrate\":417835,\"size\":2133206,\"fps\":25.03247,\"duration\":30860,\"update_time\":1691865942},{\"format\":1600308,\"defn\":\"V640P\",\"profile\":\"MP4\",\"path\":\"api/v4/11110103/mms/id-11110103-6jt7d-lkad97omjt4w56.16003081691718099.mp4\",\"url\":\"https://play-ws.vod.shopee.com/api/v4/11110103/mms/id-11110103-6jt7d-lkad97omjt4w56.16003081691718099.mp4\",\"width\":576,\"height\":1280,\"bitrate\":656436,\"size\":3051833,\"fps\":25.03247,\"duration\":30860,\"update_time\":1691718192}]},\"ab_test\":\"\"}",
            "upload_time": null,
            "url": "https://play-ws.vod.shopee.com/api/v4/11110103/mms/id-11110103-6jt7d-lkad97omjt4w56.16004081691901632.mp4"
           }
          ],
          "viewed": null
         },
         {
          "ItemRatingReply": null,
          "anonymous": false,
          "author_portrait": "efadb59f491dff1c4b63b042245ea1db",
          "author_shopid": 286513717,
          "author_username": "rurosan",
          "can_follow_up": null,
          "cmtid": 12206046764,
          "comment": "Fitur Terbaik:Bagus semua\nSepadan dengan Harga:ya, spek memuaskan\n\nIni yg ke 3 kalinya beli di official Xiaomi mulai dari redmi note 9, redmi 10, dan ini yg redmi 12. Tidak mengecewakan. Packing dus plus buble wrap 🤩. Video nya kena pelanggaran karna gelap 🤣 harap maklum pakai hp jadul jadi tidak bisa di share..",
          "ctime": 1691427921,
          "delete_operator": null,
          "delete_reason": null,
          "detailed_rating": {
           "delivery_service": 5,
           "driver_service": null,
           "product_quality": 5,
           "seller_service": 5
          },
          "display_variation_filter": true,
          "editable": 1,
          "editable_date": 1694019921,
          "exclude_scoring_due_low_logistic": false,
          "filter": 7,
          "follow_up": null,
          "has_template_tag": true,
          "image_data": [
           {
            "cover_image_id": "id-11134103-7qul2-lk5jqaoef12a6a",
            "image_id": "id-11134103-7qul2-lk5jqaoef12a6a"
           },
           {
            "cover_image_id": "id-11134103-7qukx-lk5jqaoegfmq9f",
            "image_id": "id-11134103-7qukx-lk5jqaoegfmq9f"
           },
           {
            "cover_image_id": "id-11134103-7qul7-lk5jqaoehu7604",
            "image_id": "id-11134103-7qul7-lk5jqaoehu7604"
           },
           {
            "cover_image_id": "id-11134103-7qul2-lk5jqaoej8rm92",
            "image_id": "id-11134103-7qul2-lk5jqaoej8rm92"
           },
           {
            "cover_image_id": "id-11134103-7qul5-lk5jqaoeknc2b0",
            "image_id": "id-11134103-7qul5-lk5jqaoeknc2b0"
           }
          ],
          "images": [
           "id-11134103-7qul2-lk5jqaoef12a6a",
           "id-11134103-7qukx-lk5jqaoegfmq9f",
           "id-11134103-7qul7-lk5jqaoehu7604",
           "id-11134103-7qul2-lk5jqaoej8rm92",
           "id-11134103-7qul5-lk5jqaoeknc2b0"
          ],
          "index": 12,
          "is_hidden": false,
          "is_newly_created": null,
          "is_normal_item": true,
          "is_repeat_edited": null,
          "is_repeated_purchase": false,
          "is_super_review": false,
          "item_cart_info": null,
          "itemid": 20282046522,
          "key_media": {
           "key_media_code": 0,
           "key_media_id": ""
          },
          "like_count": 8,
          "liked": null,
          "loyalty_info": {
           "tier_code": 20,
           "tier_text": "Member Silver",
           "user_tier_badge_background_color": "#ABB2BA",
           "user_tier_badge_text_color": "#FFFFFF",
           "user_tier_badge_url": "https://loyalty.shopee.co.id"
          },
          "mentioned": [],
          "mtime": 1693034559,
          "opt": 2,
          "orderid": 144832034209831,
          "original_item_info": {
           "image": "id-11134207-7qul7-lkge7tzidmbkda",
           "itemid": 20282046522,
           "name": "Official Xiaomi Redmi 12 (8GB/128GB) | (8GB/256GB) MediaTek Helio G88 5000 mAh 18W 90Hz FHD+ 50MP Triple Kamera AI",
           "shopid": 51925611
          },
          "overall_fit": 0,
          "product_items": [
           {
            "image": "id-11134207-7qul7-ljqvpc7vs4rf69",
            "is_snapshot": 1,
            "itemid": 20282046522,
            "model_name": "Midnight Black,8/128 GB",
            "modelid": 39680258936,
            "name": "Official Xiaomi Redmi 12 (8GB/128GB) | (8GB/256GB) MediaTek Helio G88 5000 mAh 18W 90Hz FHD+ 50MP Triple Kamera AI",
            "options": [
             "Midnight Black",
             "8/128 GB"
            ],
            "shopid": 51925611,
            "snapshotid": 13339447130
           }
          ],
          "profile": null,
          "rating": 1,
          "rating_star": 5,
          "region": "ID",
          "shopid": 51925611,
          "show_reply": null,
          "show_super_review_tag": false,
          "show_view": null,
          "sip_info": {
           "is_oversea": false,
           "origin_region": "id"
          },
          "size_info_abt": "",
          "size_info_tags": null,
          "status": 2,
          "super_review_status": 0,
          "super_reviewer_tag": [],
          "sync_to_social": false,
          "sync_to_social_detail": null,
          "sync_to_social_toggle": null,
          "tags": null,
          "template_abt": null,
          "template_hints": null,
          "template_tags": [
           "Fitur Terbaik",
           "Sepadan dengan Harga"
          ],
          "template_tags_hints": null,
          "userid": 286532826,
          "videos": [
           {
            "cover": "https://down-aka-sg.img.susercontent.com/id-11110103-23080-mhlphf0yufuv98",
            "cover_image_id": "sg-11134206-7qvem-lk66beqodji610",
            "duration": 9404,
            "highlight": {
             "cover": "https://play-ws.vod.shopee.com/c3/98934353/160/A3oyOXUYALwGh0wnIUkBBQAn.jpg",
             "cover_image_id": "",
             "duration": 3079,
             "highlight": null,
             "id": "sg-11110160-6jrpw-lk66db7o23py0e",
             "mms_ext": "{\"vid\":\"sg-11110160-6jrpw-lk66db7o23py0e\",\"biz\":103,\"duration\":3079,\"create_time\":1691464346,\"serviceID\":6,\"cover\":\"https://play-ws.vod.shopee.com/c3/98934353/160/A3oyOXUYALwGh0wnIUkBBQAn.jpg\",\"cover_list\":null,\"formats\":[],\"default_format\":{\"format\":600001,\"defn\":\"ORI\",\"profile\":\"MP4\",\"path\":\"\",\"url\":\"https://play-ws.vod.shopee.com/c3/98934353/160/A3oyOfm8ADgGh0wnIUEBCgAn.mp4\",\"width\":250,\"height\":250,\"bitrate\":308067,\"size\":120566,\"fps\":25,\"duration\":3079,\"update_time\":1691464348},\"extend_formats\":{\"H265\":[{\"format\":1600305,\"defn\":\"V270P\",\"profile\":\"MP4\",\"path\":\"api/v4/11110160/mms/sg-11110160-6jrpw-lk66db7o23py0e.16003051691464354.mp4\",\"url\":\"https://play-ws.vod.shopee.com/api/v4/11110160/mms/sg-11110160-6jrpw-lk66db7o23py0e.16003051691464354.mp4\",\"width\":250,\"height\":250,\"bitrate\":155415,\"size\":63409,\"fps\":25.32895,\"duration\":3039,\"update_time\":1691464351}]},\"ab_test\":\"\"}",
             "upload_time": null,
             "url": "https://play-ws.vod.shopee.com/c3/98934353/160/A3oyOfm8ADgGh0wnIUEBCgAn.mp4"
            },
            "id": "id-11110103-6jt76-lk5joj95cil7c3",
            "mms_ext": "{\"vid\":\"id-11110103-6jt76-lk5joj95cil7c3\",\"biz\":103,\"duration\":9404,\"create_time\":1691427902,\"serviceID\":6,\"cover\":\"https://down-aka-sg.img.susercontent.com/id-11110103-23080-mhlphf0yufuv98\",\"cover_list\":null,\"formats\":[{\"format\":1600408,\"defn\":\"V360P\",\"profile\":\"MP4\",\"path\":\"api/v4/11110103/mms/id-11110103-6jt76-lk5joj95cil7c3.16004081692058341.mp4\",\"url\":\"https://play-ws.vod.shopee.com/api/v4/11110103/mms/id-11110103-6jt76-lk5joj95cil7c3.16004081692058341.mp4\",\"width\":360,\"height\":640,\"bitrate\":209442,\"size\":367123,\"fps\":25.1073,\"duration\":9404,\"update_time\":1692058345},{\"format\":1600409,\"defn\":\"V540P\",\"profile\":\"MP4\",\"path\":\"api/v4/11110103/mms/id-11110103-6jt76-lk5joj95cil7c3.16004091692058346.mp4\",\"url\":\"https://play-ws.vod.shopee.com/api/v4/11110103/mms/id-11110103-6jt76-lk5joj95cil7c3.16004091692058346.mp4\",\"width\":540,\"height\":960,\"bitrate\":385590,\"size\":609989,\"fps\":25.1073,\"duration\":9404,\"update_time\":1692058351},{\"format\":1600323,\"defn\":\"V540P\",\"profile\":\"MP4\",\"path\":\"api/v4/11110103/mms/id-11110103-6jt76-lk5joj95cil7c3.default.mp4\",\"url\":\"https://play-ws.vod.shopee.com/api/v4/11110103/mms/id-11110103-6jt76-lk5joj95cil7c3.default.mp4\",\"width\":540,\"height\":960,\"bitrate\":503106,\"size\":746338,\"fps\":25.1073,\"duration\":9407,\"update_time\":1691427919},{\"format\":1600005,\"defn\":\"V640P\",\"profile\":\"MP4\",\"path\":\"api/v4/11110103/mms/id-11110103-6jt76-lk5joj95cil7c3.16000051691427903.mp4\",\"url\":\"https://play-ws.vod.shopee.com/api/v4/11110103/mms/id-11110103-6jt76-lk5joj95cil7c3.16000051691427903.mp4\",\"width\":640,\"height\":1138,\"bitrate\":858624,\"size\":1123462,\"fps\":25.1073,\"duration\":9404,\"update_time\":1691427910},{\"format\":1600410,\"defn\":\"V720P\",\"profile\":\"MP4\",\"path\":\"api/v4/11110103/mms/id-11110103-6jt76-lk5joj95cil7c3.16004101692058346.mp4\",\"url\":\"https://play-ws.vod.shopee.com/api/v4/11110103/mms/id-11110103-6jt76-lk5joj95cil7c3.16004101692058346.mp4\",\"width\":720,\"height\":1280,\"bitrate\":673039,\"size\":944867,\"fps\":25.1073,\"duration\":9404,\"update_time\":1692058353},{\"format\":1600411,\"defn\":\"V720P\",\"profile\":\"MP4\",\"path\":\"api/v4/11110103/mms/id-11110103-6jt76-lk5joj95cil7c3.16004111692058346.mp4\",\"url\":\"https://play-ws.vod.shopee.com/api/v4/11110103/mms/id-11110103-6jt76-lk5joj95cil7c3.16004111692058346.mp4\",\"width\":720,\"height\":1280,\"bitrate\":1207275,\"size\":1567252,\"fps\":25.1073,\"duration\":9404,\"update_time\":1692058354}],\"default_format\":{\"format\":600001,\"defn\":\"ORI\",\"profile\":\"MP4\",\"path\":\"\",\"url\":\"https://play-ws.vod.shopee.com/c3/98934353/103/A3oyOUfvAIg61kMnIRABAQAm.mp4\",\"width\":720,\"height\":1280,\"bitrate\":1495176,\"size\":1908672,\"fps\":30.10735,\"duration\":9404,\"update_time\":1691427903},\"extend_formats\":{\"H265\":[{\"format\":1600412,\"defn\":\"V360P\",\"profile\":\"MP4\",\"path\":\"api/v4/11110103/mms/id-11110103-6jt76-lk5joj95cil7c3.16004121692058346.mp4\",\"url\":\"https://play-ws.vod.shopee.com/api/v4/11110103/mms/id-11110103-6jt76-lk5joj95cil7c3.16004121692058346.mp4\",\"width\":360,\"height\":640,\"bitrate\":188084,\"size\":344964,\"fps\":25.1073,\"duration\":9404,\"update_time\":1692058354},{\"format\":1600304,\"defn\":\"V480P\",\"profile\":\"MP4\",\"path\":\"api/v4/11110103/mms/id-11110103-6jt76-lk5joj95cil7c3.16003041691519177.mp4\",\"url\":\"https://play-ws.vod.shopee.com/api/v4/11110103/mms/id-11110103-6jt76-lk5joj95cil7c3.16003041691519177.mp4\",\"width\":480,\"height\":854,\"bitrate\":421149,\"size\":616533,\"fps\":25.1073,\"duration\":9404,\"update_time\":1691519187},{\"format\":1600413,\"defn\":\"V540P\",\"profile\":\"MP4\",\"path\":\"api/v4/11110103/mms/id-11110103-6jt76-lk5joj95cil7c3.16004131692058346.mp4\",\"url\":\"https://play-ws.vod.shopee.com/api/v4/11110103/mms/id-11110103-6jt76-lk5joj95cil7c3.16004131692058346.mp4\",\"width\":540,\"height\":960,\"bitrate\":274514,\"size\":483313,\"fps\":25.1073,\"duration\":9404,\"update_time\":1692058355},{\"format\":1600307,\"defn\":\"V540P\",\"profile\":\"MP4\",\"path\":\"api/v4/11110103/mms/id-11110103-6jt76-lk5joj95cil7c3.16003071691427911.mp4\",\"url\":\"https://play-ws.vod.shopee.com/api/v4/11110103/mms/id-11110103-6jt76-lk5joj95cil7c3.16003071691427911.mp4\",\"width\":540,\"height\":960,\"bitrate\":496328,\"size\":741765,\"fps\":25.1073,\"duration\":9404,\"update_time\":1691427926},{\"format\":1600308,\"defn\":\"V640P\",\"profile\":\"MP4\",\"path\":\"api/v4/11110103/mms/id-11110103-6jt76-lk5joj95cil7c3.16003081691427911.mp4\",\"url\":\"https://play-ws.vod.shopee.com/api/v4/11110103/mms/id-11110103-6jt76-lk5joj95cil7c3.16003081691427911.mp4\",\"width\":640,\"height\":1138,\"bitrate\":631180,\"size\":898866,\"fps\":25.1073,\"duration\":9404,\"update_time\":1691427927},{\"format\":1600414,\"defn\":\"V720P\",\"profile\":\"MP4\",\"path\":\"api/v4/11110103/mms/id-11110103-6jt76-lk5joj95cil7c3.16004141692058346.mp4\",\"url\":\"https://play-ws.vod.shopee.com/api/v4/11110103/mms/id-11110103-6jt76-lk5joj95cil7c3.16004141692058346.mp4\",\"width\":720,\"height\":1280,\"bitrate\":488047,\"size\":732081,\"fps\":25.1073,\"duration\":9404,\"update_time\":1692058359},{\"format\":1600415,\"defn\":\"V720P\",\"profile\":\"MP4\",\"path\":\"api/v4/11110103/mms/id-11110103-6jt76-lk5joj95cil7c3.16004151692058346.mp4\",\"url\":\"https://play-ws.vod.shopee.com/api/v4/11110103/mms/id-11110103-6jt76-lk5joj95cil7c3.16004151692058346.mp4\",\"width\":720,\"height\":1280,\"bitrate\":626690,\"size\":893601,\"fps\":25.1073,\"duration\":9404,\"update_time\":1692058361}]},\"ab_test\":\"\"}",
            "upload_time": null,
            "url": "https://play-ws.vod.shopee.com/api/v4/11110103/mms/id-11110103-6jt76-lk5joj95cil7c3.16004081692058341.mp4"
           }
          ],
          "viewed": null
         },
         {
          "ItemRatingReply": null,
          "anonymous": false,
          "author_portrait": "c63e8a75426165cab65204554bf2f964",
          "author_shopid": 16057353,
          "author_username": "arie_prihady",
          "can_follow_up": null,
          "cmtid": 12324232902,
          "comment": "Sepadan dengan Harga:dengan harga 2 juta sudah mendapat spesifikasi terbaik...\nFitur Terbaik:untuk browsing dan main game ok, keseluruhan ok banget fitur..fitur di handphone nya...\n\nOrderan saya sudah sampai ke alamat yang jadi tujuan....\n\nTerimakasih...",
          "ctime": 1692412739,
          "delete_operator": null,
          "delete_reason": null,
          "detailed_rating": {
           "delivery_service": 5,
           "driver_service": null,
           "product_quality": 5,
           "seller_service": 5
          },
          "display_variation_filter": true,
          "editable": 1,
          "editable_date": 1695004739,
          "exclude_scoring_due_low_logistic": false,
          "filter": 7,
          "follow_up": null,
          "has_template_tag": true,
          "image_data": [
           {
            "cover_image_id": "id-11134103-7r98o-lklu6oywo0ff5b",
            "image_id": "id-11134103-7r98o-lklu6oywo0ff5b"
           },
           {
            "cover_image_id": "id-11134103-7r98o-lklu6oywo11l32",
            "image_id": "id-11134103-7r98o-lklu6oywo11l32"
           },
           {
            "cover_image_id": "id-11134103-7r98o-lklu6oycou8l99",
            "image_id": "id-11134103-7r98o-lklu6oycou8l99"
           },
           {
            "cover_image_id": "id-11134103-7r98o-lklu6p00mec1ab",
            "image_id": "id-11134103-7r98o-lklu6p00mec1ab"
           },
           {
            "cover_image_id": "id-11134103-7r98o-lklu6oz6nmenb9",
            "image_id": "id-11134103-7r98o-lklu6oz6nmenb9"
           }
          ],
          "images": [
           "id-11134103-7r98o-lklu6oywo0ff5b",
           "id-11134103-7r98o-lklu6oywo11l32",
           "id-11134103-7r98o-lklu6oycou8l99",
           "id-11134103-7r98o-lklu6p00mec1ab",
           "id-11134103-7r98o-lklu6oz6nmenb9"
          ],
          "index": 13,
          "is_hidden": false,
          "is_newly_created": null,
          "is_normal_item": true,
          "is_repeat_edited": null,
          "is_repeated_purchase": false,
          "is_super_review": false,
          "item_cart_info": null,
          "itemid": 20282046522,
          "key_media": {
           "key_media_code": 0,
           "key_media_id": ""
          },
          "like_count": 62,
          "liked": null,
          "loyalty_info": {
           "tier_code": 30,
           "tier_text": "Member Gold",
           "user_tier_badge_background_color": "#E7AE21",
           "user_tier_badge_text_color": "#FFFFFF",
           "user_tier_badge_url": "https://loyalty.shopee.co.id"
          },
          "mentioned": [],
          "mtime": 1693110532,
          "opt": 2,
          "orderid": 145348825245438,
          "original_item_info": {
           "image": "id-11134207-7qul7-lkge7tzidmbkda",
           "itemid": 20282046522,
           "name": "Official Xiaomi Redmi 12 (8GB/128GB) | (8GB/256GB) MediaTek Helio G88 5000 mAh 18W 90Hz FHD+ 50MP Triple Kamera AI",
           "shopid": 51925611
          },
          "overall_fit": 0,
          "product_items": [
           {
            "image": "id-11134207-7qul7-ljqvpc7vs4rf69",
            "is_snapshot": 1,
            "itemid": 20282046522,
            "model_name": "Midnight Black,8/128 GB",
            "modelid": 39680258936,
            "name": "Official Xiaomi Redmi 12 (8GB/128GB) | (8GB/256GB) MediaTek Helio G88 5000 mAh 18W 90Hz FHD+ 50MP Triple Kamera AI",
            "options": [
             "Midnight Black",
             "8/128 GB"
            ],
            "shopid": 51925611,
            "snapshotid": 22346917282
           },
           {
            "image": "id-11134207-7qul7-ljqvpc7vs4rf69",
            "is_snapshot": 1,
            "itemid": 20282046522,
            "model_name": "Sky Blue,8/128 GB",
            "modelid": 39680258932,
            "name": "Official Xiaomi Redmi 12 (8GB/128GB) | (8GB/256GB) MediaTek Helio G88 5000 mAh 18W 90Hz FHD+ 50MP Triple Kamera AI",
            "options": [
             "Sky Blue",
             "8/128 GB"
            ],
            "shopid": 51925611,
            "snapshotid": 22346917282
           }
          ],
          "profile": null,
          "rating": 1,
          "rating_star": 5,
          "region": "ID",
          "shopid": 51925611,
          "show_reply": null,
          "show_super_review_tag": false,
          "show_view": null,
          "sip_info": {
           "is_oversea": false,
           "origin_region": "id"
          },
          "size_info_abt": "",
          "size_info_tags": null,
          "status": 2,
          "super_review_status": 0,
          "super_reviewer_tag": [],
          "sync_to_social": false,
          "sync_to_social_detail": null,
          "sync_to_social_toggle": null,
          "tags": null,
          "template_abt": null,
          "template_hints": null,
          "template_tags": [
           "Sepadan dengan Harga",
           "Fitur Terbaik"
          ],
          "template_tags_hints": null,
          "userid": 16058689,
          "videos": [
           {
            "cover": "https://down-aka-sg.img.susercontent.com/id-11110103-23080-rry3rzih5vuvce",
            "cover_image_id": "sg-11134206-7rbk0-lknrvo6tklv264",
            "duration": 11866,
            "highlight": {
             "cover": "https://play-ws.vod.shopee.com/c3/98934353/160/A3oyObCqAPRehkooEY4JACc.jpg",
             "cover_image_id": "",
             "duration": 3079,
             "highlight": null,
             "id": "sg-11110160-6ke14-lknrxjngukt4a9",
             "mms_ext": "{\"vid\":\"sg-11110160-6ke14-lknrxjngukt4a9\",\"biz\":103,\"duration\":3079,\"create_time\":1692529687,\"serviceID\":6,\"cover\":\"https://play-ws.vod.shopee.com/c3/98934353/160/A3oyObCqAPRehkooEY4JACc.jpg\",\"cover_list\":null,\"formats\":[],\"default_format\":{\"format\":600001,\"defn\":\"ORI\",\"profile\":\"MP4\",\"path\":\"\",\"url\":\"https://play-ws.vod.shopee.com/c3/98934353/160/A3oyOZPGAHBehkooEZYFACc.mp4\",\"width\":250,\"height\":250,\"bitrate\":482161,\"size\":187578,\"fps\":25,\"duration\":3079,\"update_time\":1692529688},\"extend_formats\":{\"H265\":[{\"format\":1600305,\"defn\":\"V270P\",\"profile\":\"MP4\",\"path\":\"api/v4/11110160/mms/sg-11110160-6ke14-lknrxjngukt4a9.16003051692529695.mp4\",\"url\":\"https://play-ws.vod.shopee.com/api/v4/11110160/mms/sg-11110160-6ke14-lknrxjngukt4a9.16003051692529695.mp4\",\"width\":250,\"height\":250,\"bitrate\":242531,\"size\":96513,\"fps\":25.32895,\"duration\":3039,\"update_time\":1692529691}]},\"ab_test\":\"\"}",
             "upload_time": null,
             "url": "https://play-ws.vod.shopee.com/c3/98934353/160/A3oyOZPGAHBehkooEZYFACc.mp4"
            },
            "id": "id-11110103-6ke14-lklu73mn7qy758",
            "mms_ext": "{\"vid\":\"id-11110103-6ke14-lklu73mn7qy758\",\"biz\":103,\"duration\":11866,\"create_time\":1692412440,\"serviceID\":6,\"cover\":\"https://down-aka-sg.img.susercontent.com/id-11110103-23080-rry3rzih5vuvce\",\"cover_list\":null,\"formats\":[{\"format\":1600323,\"defn\":\"V540P\",\"profile\":\"MP4\",\"path\":\"api/v4/11110103/mms/id-11110103-6ke14-lklu73mn7qy758.default.mp4\",\"url\":\"https://play-ws.vod.shopee.com/api/v4/11110103/mms/id-11110103-6ke14-lklu73mn7qy758.default.mp4\",\"width\":540,\"height\":960,\"bitrate\":508439,\"size\":950845,\"fps\":25.08475,\"duration\":11883,\"update_time\":1692412469},{\"format\":1600005,\"defn\":\"V640P\",\"profile\":\"MP4\",\"path\":\"api/v4/11110103/mms/id-11110103-6ke14-lklu73mn7qy758.16000051692412441.mp4\",\"url\":\"https://play-ws.vod.shopee.com/api/v4/11110103/mms/id-11110103-6ke14-lklu73mn7qy758.16000051692412441.mp4\",\"width\":640,\"height\":1138,\"bitrate\":860949,\"size\":1423853,\"fps\":25.08475,\"duration\":11866,\"update_time\":1692412449}],\"default_format\":{\"format\":600001,\"defn\":\"ORI\",\"profile\":\"MP4\",\"path\":\"\",\"url\":\"https://play-ws.vod.shopee.com/c3/98934353/103/A3oyOVyzANi0kS4oEaUHACY.mp4\",\"width\":720,\"height\":1280,\"bitrate\":2072861,\"size\":3262434,\"fps\":30.08508,\"duration\":11866,\"update_time\":1692412441},\"extend_formats\":{\"H265\":[{\"format\":1600307,\"defn\":\"V540P\",\"profile\":\"MP4\",\"path\":\"api/v4/11110103/mms/id-11110103-6ke14-lklu73mn7qy758.16003071692474862.mp4\",\"url\":\"https://play-ws.vod.shopee.com/api/v4/11110103/mms/id-11110103-6ke14-lklu73mn7qy758.16003071692474862.mp4\",\"width\":540,\"height\":960,\"bitrate\":602149,\"size\":1092483,\"fps\":25.08475,\"duration\":11866,\"update_time\":1692474883},{\"format\":1600308,\"defn\":\"V640P\",\"profile\":\"MP4\",\"path\":\"api/v4/11110103/mms/id-11110103-6ke14-lklu73mn7qy758.16003081692412462.mp4\",\"url\":\"https://play-ws.vod.shopee.com/api/v4/11110103/mms/id-11110103-6ke14-lklu73mn7qy758.16003081692412462.mp4\",\"width\":640,\"height\":1138,\"bitrate\":747259,\"size\":1306528,\"fps\":25.08475,\"duration\":11866,\"update_time\":1692412490}]},\"ab_test\":\"\"}",
            "upload_time": null,
            "url": "https://play-ws.vod.shopee.com/api/v4/11110103/mms/id-11110103-6ke14-lklu73mn7qy758.default.mp4"
           }
          ],
          "viewed": null
         },
         {
          "ItemRatingReply": null,
          "anonymous": false,
          "author_portrait": "1f851eb914359cf554d39a355b4def7d",
          "author_shopid": 119774411,
          "author_username": "agusmuham",
          "can_follow_up": null,
          "cmtid": 12254782003,
          "comment": "Sepadan dengan Harga:Bagus\nFitur Terbaik:Bagus\n\nTerima Kasih Paket sangat cepat sampainya Produk sesuai pesanan. Kurirnya baik",
          "ctime": 1691820810,
          "delete_operator": null,
          "delete_reason": null,
          "detailed_rating": {
           "delivery_service": 5,
           "driver_service": null,
           "product_quality": 5,
           "seller_service": 5
          },
          "display_variation_filter": true,
          "editable": 1,
          "editable_date": 1694412810,
          "exclude_scoring_due_low_logistic": false,
          "filter": 7,
          "follow_up": null,
          "has_template_tag": true,
          "image_data": [
           {
            "cover_image_id": "id-11134103-7qul6-lkc24zuzubluc7",
            "image_id": "id-11134103-7qul6-lkc24zuzubluc7"
           },
           {
            "cover_image_id": "id-11134103-7qul4-lkc24zuzvq6a93",
            "image_id": "id-11134103-7qul4-lkc24zuzvq6a93"
           },
           {
            "cover_image_id": "id-11134103-7qul3-lkc24zuzx4qq99",
            "image_id": "id-11134103-7qul3-lkc24zuzx4qq99"
           },
           {
            "cover_image_id": "id-11134103-7qul2-lkc24zuzyjb69d",
            "image_id": "id-11134103-7qul2-lkc24zuzyjb69d"
           },
           {
            "cover_image_id": "id-11134103-7qul2-lkc24zuzzxvmbf",
            "image_id": "id-11134103-7qul2-lkc24zuzzxvmbf"
           }
          ],
          "images": [
           "id-11134103-7qul6-lkc24zuzubluc7",
           "id-11134103-7qul4-lkc24zuzvq6a93",
           "id-11134103-7qul3-lkc24zuzx4qq99",
           "id-11134103-7qul2-lkc24zuzyjb69d",
           "id-11134103-7qul2-lkc24zuzzxvmbf"
          ],
          "index": 14,
          "is_hidden": false,
          "is_newly_created": null,
          "is_normal_item": true,
          "is_repeat_edited": null,
          "is_repeated_purchase": false,
          "is_super_review": false,
          "item_cart_info": null,
          "itemid": 20282046522,
          "key_media": {
           "key_media_code": 0,
           "key_media_id": ""
          },
          "like_count": 5,
          "liked": null,
          "loyalty_info": {
           "tier_code": 20,
           "tier_text": "Member Silver",
           "user_tier_badge_background_color": "#ABB2BA",
           "user_tier_badge_text_color": "#FFFFFF",
           "user_tier_badge_url": "https://loyalty.shopee.co.id"
          },
          "mentioned": [],
          "mtime": 1692945560,
          "opt": 2,
          "orderid": 145199574249761,
          "original_item_info": {
           "image": "id-11134207-7qul7-lkge7tzidmbkda",
           "itemid": 20282046522,
           "name": "Official Xiaomi Redmi 12 (8GB/128GB) | (8GB/256GB) MediaTek Helio G88 5000 mAh 18W 90Hz FHD+ 50MP Triple Kamera AI",
           "shopid": 51925611
          },
          "overall_fit": 0,
          "product_items": [
           {
            "image": "id-11134207-7qul7-ljqvpc7vs4rf69",
            "is_snapshot": 1,
            "itemid": 20282046522,
            "model_name": "Midnight Black,8/128 GB",
            "modelid": 39680258936,
            "name": "Official Xiaomi Redmi 12 (8GB/128GB) | (8GB/256GB) MediaTek Helio G88 5000 mAh 18W 90Hz FHD+ 50MP Triple Kamera AI",
            "options": [
             "Midnight Black",
             "8/128 GB"
            ],
            "shopid": 51925611,
            "snapshotid": 6142209741
           }
          ],
          "profile": null,
          "rating": 1,
          "rating_star": 5,
          "region": "ID",
          "shopid": 51925611,
          "show_reply": null,
          "show_super_review_tag": false,
          "show_view": null,
          "sip_info": {
           "is_oversea": false,
           "origin_region": "id"
          },
          "size_info_abt": "",
          "size_info_tags": null,
          "status": 2,
          "super_review_status": 0,
          "super_reviewer_tag": [],
          "sync_to_social": false,
          "sync_to_social_detail": null,
          "sync_to_social_toggle": null,
          "tags": null,
          "template_abt": null,
          "template_hints": null,
          "template_tags": [
           "Sepadan dengan Harga",
           "Fitur Terbaik"
          ],
          "template_tags_hints": null,
          "userid": 119776235,
          "videos": [
           {
            "cover": "https://down-aka-sg.img.susercontent.com/id-11110103-23080-766yvmwecmuv94",
            "cover_image_id": "sg-11134206-7r98o-lkjgc79qwyd75f",
            "duration": 13996,
            "highlight": {
             "cover": "https://play-ws.vod.shopee.com/c3/98934353/160/A3oyOS7cAChyLQwoEQ4HACc.jpg",
             "cover_image_id": "",
             "duration": 3039,
             "highlight": null,
             "id": "sg-11110160-6ke14-lkjgexm6x41l54",
             "mms_ext": "{\"vid\":\"sg-11110160-6ke14-lkjgexm6x41l54\",\"biz\":103,\"duration\":3039,\"create_time\":1692268183,\"serviceID\":6,\"cover\":\"https://play-ws.vod.shopee.com/c3/98934353/160/A3oyOS7cAChyLQwoEQ4HACc.jpg\",\"cover_list\":null,\"formats\":[],\"default_format\":{\"format\":600001,\"defn\":\"ORI\",\"profile\":\"MP4\",\"path\":\"\",\"url\":\"https://play-ws.vod.shopee.com/c3/98934353/160/A3oyOWenALRxLQwoEQ4AACc.mp4\",\"width\":250,\"height\":250,\"bitrate\":440715,\"size\":169249,\"fps\":25,\"duration\":3039,\"update_time\":1692268184},\"extend_formats\":{\"H265\":[{\"format\":1600305,\"defn\":\"V270P\",\"profile\":\"MP4\",\"path\":\"api/v4/11110160/mms/sg-11110160-6ke14-lkjgexm6x41l54.16003051692268191.mp4\",\"url\":\"https://play-ws.vod.shopee.com/api/v4/11110160/mms/sg-11110160-6ke14-lkjgexm6x41l54.16003051692268191.mp4\",\"width\":250,\"height\":250,\"bitrate\":215522,\"size\":85151,\"fps\":25.33333,\"duration\":3000,\"update_time\":1692268187}]},\"ab_test\":\"\"}",
             "upload_time": null,
             "url": "https://play-ws.vod.shopee.com/c3/98934353/160/A3oyOWenALRxLQwoEQ4AACc.mp4"
            },
            "id": "id-11110103-6jt75-lkc24gki2mj833",
            "mms_ext": "{\"vid\":\"id-11110103-6jt75-lkc24gki2mj833\",\"biz\":103,\"duration\":13996,\"create_time\":1691820425,\"serviceID\":6,\"cover\":\"https://down-aka-sg.img.susercontent.com/id-11110103-23080-766yvmwecmuv94\",\"cover_list\":null,\"formats\":[{\"format\":1600323,\"defn\":\"V540P\",\"profile\":\"MP4\",\"path\":\"api/v4/11110103/mms/id-11110103-6jt75-lkc24gki2mj833.default.mp4\",\"url\":\"https://play-ws.vod.shopee.com/api/v4/11110103/mms/id-11110103-6jt75-lkc24gki2mj833.default.mp4\",\"width\":960,\"height\":540,\"bitrate\":425797,\"size\":922025,\"fps\":25.07163,\"duration\":13994,\"update_time\":1691820446},{\"format\":1600005,\"defn\":\"V640P\",\"profile\":\"MP4\",\"path\":\"api/v4/11110103/mms/id-11110103-6jt75-lkc24gki2mj833.16000051691820426.mp4\",\"url\":\"https://play-ws.vod.shopee.com/api/v4/11110103/mms/id-11110103-6jt75-lkc24gki2mj833.16000051691820426.mp4\",\"width\":1138,\"height\":640,\"bitrate\":742172,\"size\":1475229,\"fps\":25.07163,\"duration\":14001,\"update_time\":1691820437}],\"default_format\":{\"format\":600001,\"defn\":\"ORI\",\"profile\":\"MP4\",\"path\":\"\",\"url\":\"https://play-ws.vod.shopee.com/c3/98934353/103/A3oyORq8ANAAbKEnEcoCACY.mp4\",\"width\":1280,\"height\":720,\"bitrate\":6004685,\"size\":10679202,\"fps\":30.00948,\"duration\":13996,\"update_time\":1691820426},\"extend_formats\":{\"H265\":[{\"format\":1600304,\"defn\":\"V480P\",\"profile\":\"MP4\",\"path\":\"api/v4/11110103/mms/id-11110103-6jt75-lkc24gki2mj833.16003041691953266.mp4\",\"url\":\"https://play-ws.vod.shopee.com/api/v4/11110103/mms/id-11110103-6jt75-lkc24gki2mj833.16003041691953266.mp4\",\"width\":854,\"height\":480,\"bitrate\":543790,\"size\":1131869,\"fps\":25.07163,\"duration\":14001,\"update_time\":1691953285},{\"format\":1600307,\"defn\":\"V540P\",\"profile\":\"MP4\",\"path\":\"api/v4/11110103/mms/id-11110103-6jt75-lkc24gki2mj833.16003071691820438.mp4\",\"url\":\"https://play-ws.vod.shopee.com/api/v4/11110103/mms/id-11110103-6jt75-lkc24gki2mj833.16003071691820438.mp4\",\"width\":960,\"height\":540,\"bitrate\":588512,\"size\":1209909,\"fps\":25.07163,\"duration\":14001,\"update_time\":1691820461},{\"format\":1600308,\"defn\":\"V640P\",\"profile\":\"MP4\",\"path\":\"api/v4/11110103/mms/id-11110103-6jt75-lkc24gki2mj833.16003081691820438.mp4\",\"url\":\"https://play-ws.vod.shopee.com/api/v4/11110103/mms/id-11110103-6jt75-lkc24gki2mj833.16003081691820438.mp4\",\"width\":1138,\"height\":640,\"bitrate\":729361,\"size\":1455692,\"fps\":25.07163,\"duration\":14001,\"update_time\":1691820470}]},\"ab_test\":\"\"}",
            "upload_time": null,
            "url": "https://play-ws.vod.shopee.com/api/v4/11110103/mms/id-11110103-6jt75-lkc24gki2mj833.default.mp4"
           }
          ],
          "viewed": null
         },
         {
          "ItemRatingReply": null,
          "anonymous": false,
          "author_portrait": "15a920bfd5f4168a1f304d34c4eeb461",
          "author_shopid": 198081612,
          "author_username": "tendysutendy",
          "can_follow_up": null,
          "cmtid": 12203008562,
          "comment": "Fitur Terbaik:xiomi redmi 12 bagus\nSepadan dengan Harga:dgn ram 8 / 128 terbaik lah di harga 2 jt an\n\nTerima kasih hp nya sudah datang\nPacking rapih \nProduk original dan berjalan dgn baik\nMudah2an awet yaa ga ada kendala",
          "ctime": 1691407347,
          "delete_operator": null,
          "delete_reason": null,
          "detailed_rating": {
           "delivery_service": 5,
           "driver_service": null,
           "product_quality": 5,
           "seller_service": 5
          },
          "display_variation_filter": true,
          "editable": 1,
          "editable_date": 1693999347,
          "exclude_scoring_due_low_logistic": false,
          "filter": 7,
          "follow_up": null,
          "has_template_tag": true,
          "image_data": [
           {
            "cover_image_id": "id-11134103-7qul4-lk58c68kcjdu44",
            "image_id": "id-11134103-7qul4-lk58c68kcjdu44"
           },
           {
            "cover_image_id": "id-11134103-7qul1-lk58c694bqag8e",
            "image_id": "id-11134103-7qul1-lk58c694bqag8e"
           },
           {
            "cover_image_id": "id-11134103-7qukw-lk58c69yaimn4d",
            "image_id": "id-11134103-7qukw-lk58c69yaimn4d"
           },
           {
            "cover_image_id": "id-11134103-7qul0-lk58c68kcjnj60",
            "image_id": "id-11134103-7qul0-lk58c68kcjnj60"
           }
          ],
          "images": [
           "id-11134103-7qul4-lk58c68kcjdu44",
           "id-11134103-7qul1-lk58c694bqag8e",
           "id-11134103-7qukw-lk58c69yaimn4d",
           "id-11134103-7qul0-lk58c68kcjnj60"
          ],
          "index": 15,
          "is_hidden": false,
          "is_newly_created": null,
          "is_normal_item": true,
          "is_repeat_edited": null,
          "is_repeated_purchase": false,
          "is_super_review": false,
          "item_cart_info": null,
          "itemid": 20282046522,
          "key_media": {
           "key_media_code": 0,
           "key_media_id": ""
          },
          "like_count": 13,
          "liked": null,
          "loyalty_info": {
           "tier_code": 30,
           "tier_text": "Member Gold",
           "user_tier_badge_background_color": "#E7AE21",
           "user_tier_badge_text_color": "#FFFFFF",
           "user_tier_badge_url": "https://loyalty.shopee.co.id"
          },
          "mentioned": [],
          "mtime": 1693039475,
          "opt": 2,
          "orderid": 144734974269729,
          "original_item_info": {
           "image": "id-11134207-7qul7-lkge7tzidmbkda",
           "itemid": 20282046522,
           "name": "Official Xiaomi Redmi 12 (8GB/128GB) | (8GB/256GB) MediaTek Helio G88 5000 mAh 18W 90Hz FHD+ 50MP Triple Kamera AI",
           "shopid": 51925611
          },
          "overall_fit": 0,
          "product_items": [
           {
            "image": "id-11134207-7qul7-ljqvpc7vs4rf69",
            "is_snapshot": 1,
            "itemid": 20282046522,
            "model_name": "Polar Silver,8/128 GB",
            "modelid": 39680258934,
            "name": "Official Xiaomi Redmi 12 (8GB/128GB) | (8GB/256GB) MediaTek Helio G88 5000 mAh 18W 90Hz FHD+ 50MP Triple Kamera AI",
            "options": [
             "Polar Silver",
             "8/128 GB"
            ],
            "shopid": 51925611,
            "snapshotid": 13339447130
           }
          ],
          "profile": null,
          "rating": 1,
          "rating_star": 5,
          "region": "ID",
          "shopid": 51925611,
          "show_reply": null,
          "show_super_review_tag": false,
          "show_view": null,
          "sip_info": {
           "is_oversea": false,
           "origin_region": "id"
          },
          "size_info_abt": "",
          "size_info_tags": null,
          "status": 2,
          "super_review_status": 0,
          "super_reviewer_tag": [],
          "sync_to_social": false,
          "sync_to_social_detail": null,
          "sync_to_social_toggle": null,
          "tags": null,
          "template_abt": null,
          "template_hints": null,
          "template_tags": [
           "Fitur Terbaik",
           "Sepadan dengan Harga"
          ],
          "template_tags_hints": null,
          "userid": 198084632,
          "videos": [
           {
            "cover": "https://down-aka-sg.img.susercontent.com/id-11110103-23080-ycth7n1nifuva5",
            "cover_image_id": "sg-11134206-7qvcq-lk8l62bh0wsl29",
            "duration": 25402,
            "highlight": {
             "cover": "https://play-ws.vod.shopee.com/c3/98934353/160/A3oyORiYAMh5WW8nEZ0BACc.jpg",
             "cover_image_id": "",
             "duration": 3119,
             "highlight": null,
             "id": "sg-11110160-6jrov-lk8l88fanbn8e3",
             "mms_ext": "{\"vid\":\"sg-11110160-6jrov-lk8l88fanbn8e3\",\"biz\":103,\"duration\":3119,\"create_time\":1691610400,\"serviceID\":6,\"cover\":\"https://play-ws.vod.shopee.com/c3/98934353/160/A3oyORiYAMh5WW8nEZ0BACc.jpg\",\"cover_list\":null,\"formats\":[],\"default_format\":{\"format\":600001,\"defn\":\"ORI\",\"profile\":\"MP4\",\"path\":\"\",\"url\":\"https://play-ws.vod.shopee.com/c3/98934353/160/A3oyOSEfAGh5WW8nEZ0KACc.mp4\",\"width\":250,\"height\":250,\"bitrate\":448412,\"size\":176833,\"fps\":25,\"duration\":3119,\"update_time\":1691610401},\"extend_formats\":{\"H265\":[{\"format\":1600305,\"defn\":\"V270P\",\"profile\":\"MP4\",\"path\":\"api/v4/11110160/mms/sg-11110160-6jrov-lk8l88fanbn8e3.16003051691610407.mp4\",\"url\":\"https://play-ws.vod.shopee.com/api/v4/11110160/mms/sg-11110160-6jrov-lk8l88fanbn8e3.16003051691610407.mp4\",\"width\":250,\"height\":250,\"bitrate\":206031,\"size\":83674,\"fps\":25.32467,\"duration\":3079,\"update_time\":1691610404}]},\"ab_test\":\"\"}",
             "upload_time": null,
             "url": "https://play-ws.vod.shopee.com/c3/98934353/160/A3oyOSEfAGh5WW8nEZ0KACc.mp4"
            },
            "id": "id-11110103-6jt7a-lk58db4si47s18",
            "mms_ext": "{\"vid\":\"id-11110103-6jt7a-lk58db4si47s18\",\"biz\":103,\"duration\":25402,\"create_time\":1691407199,\"serviceID\":6,\"cover\":\"https://down-aka-sg.img.susercontent.com/id-11110103-23080-ycth7n1nifuva5\",\"cover_list\":null,\"formats\":[{\"format\":1600408,\"defn\":\"V360P\",\"profile\":\"MP4\",\"path\":\"api/v4/11110103/mms/id-11110103-6jt7a-lk58db4si47s18.16004081691942270.mp4\",\"url\":\"https://play-ws.vod.shopee.com/api/v4/11110103/mms/id-11110103-6jt7a-lk58db4si47s18.16004081691942270.mp4\",\"width\":360,\"height\":640,\"bitrate\":303415,\"size\":1022207,\"fps\":25.03949,\"duration\":25402,\"update_time\":1691942280},{\"format\":1600322,\"defn\":\"V360P\",\"profile\":\"MP4\",\"path\":\"api/v4/11110103/mms/id-11110103-6jt7a-lk58db4si47s18.16003221692127589.mp4\",\"url\":\"https://play-ws.vod.shopee.com/api/v4/11110103/mms/id-11110103-6jt7a-lk58db4si47s18.16003221692127589.mp4\",\"width\":360,\"height\":640,\"bitrate\":221037,\"size\":1020449,\"fps\":25.03949,\"duration\":25408,\"update_time\":1692127599},{\"format\":1600409,\"defn\":\"V540P\",\"profile\":\"MP4\",\"path\":\"api/v4/11110103/mms/id-11110103-6jt7a-lk58db4si47s18.16004091691942281.mp4\",\"url\":\"https://play-ws.vod.shopee.com/api/v4/11110103/mms/id-11110103-6jt7a-lk58db4si47s18.16004091691942281.mp4\",\"width\":540,\"height\":960,\"bitrate\":572286,\"size\":1873143,\"fps\":25.03949,\"duration\":25402,\"update_time\":1691942296},{\"format\":1600323,\"defn\":\"V540P\",\"profile\":\"MP4\",\"path\":\"api/v4/11110103/mms/id-11110103-6jt7a-lk58db4si47s18.default.mp4\",\"url\":\"https://play-ws.vod.shopee.com/api/v4/11110103/mms/id-11110103-6jt7a-lk58db4si47s18.default.mp4\",\"width\":540,\"height\":960,\"bitrate\":500013,\"size\":2009834,\"fps\":25.03949,\"duration\":25408,\"update_time\":1691407238},{\"format\":1600005,\"defn\":\"V640P\",\"profile\":\"MP4\",\"path\":\"api/v4/11110103/mms/id-11110103-6jt7a-lk58db4si47s18.16000051691407200.mp4\",\"url\":\"https://play-ws.vod.shopee.com/api/v4/11110103/mms/id-11110103-6jt7a-lk58db4si47s18.16000051691407200.mp4\",\"width\":640,\"height\":1138,\"bitrate\":855438,\"size\":3034982,\"fps\":25.03949,\"duration\":25402,\"update_time\":1691407222},{\"format\":1600410,\"defn\":\"V720P\",\"profile\":\"MP4\",\"path\":\"api/v4/11110103/mms/id-11110103-6jt7a-lk58db4si47s18.16004101691942281.mp4\",\"url\":\"https://play-ws.vod.shopee.com/api/v4/11110103/mms/id-11110103-6jt7a-lk58db4si47s18.16004101691942281.mp4\",\"width\":720,\"height\":1280,\"bitrate\":954123,\"size\":3081672,\"fps\":25.03949,\"duration\":25402,\"update_time\":1691942309},{\"format\":1600411,\"defn\":\"V720P\",\"profile\":\"MP4\",\"path\":\"api/v4/11110103/mms/id-11110103-6jt7a-lk58db4si47s18.16004111691942281.mp4\",\"url\":\"https://play-ws.vod.shopee.com/api/v4/11110103/mms/id-11110103-6jt7a-lk58db4si47s18.16004111691942281.mp4\",\"width\":720,\"height\":1280,\"bitrate\":1207695,\"size\":3884229,\"fps\":25.03949,\"duration\":25402,\"update_time\":1691942305},{\"format\":1600324,\"defn\":\"V720P\",\"profile\":\"MP4\",\"path\":\"api/v4/11110103/mms/id-11110103-6jt7a-lk58db4si47s18.16003241692127589.mp4\",\"url\":\"https://play-ws.vod.shopee.com/api/v4/11110103/mms/id-11110103-6jt7a-lk58db4si47s18.16003241692127589.mp4\",\"width\":720,\"height\":1280,\"bitrate\":814298,\"size\":3004645,\"fps\":25.03949,\"duration\":25408,\"update_time\":1692127613},{\"format\":1600325,\"defn\":\"V720P\",\"profile\":\"MP4\",\"path\":\"api/v4/11110103/mms/id-11110103-6jt7a-lk58db4si47s18.16003251692127589.mp4\",\"url\":\"https://play-ws.vod.shopee.com/api/v4/11110103/mms/id-11110103-6jt7a-lk58db4si47s18.16003251692127589.mp4\",\"width\":720,\"height\":1280,\"bitrate\":1469291,\"size\":5077699,\"fps\":25.03949,\"duration\":25408,\"update_time\":1692127621}],\"default_format\":{\"format\":600001,\"defn\":\"ORI\",\"profile\":\"MP4\",\"path\":\"\",\"url\":\"https://play-ws.vod.shopee.com/c3/98934353/103/A3oyOcSvALSk5j4nITEBAAAm.mp4\",\"width\":720,\"height\":1280,\"bitrate\":2494272,\"size\":8319714,\"fps\":30.03983,\"duration\":25402,\"update_time\":1691407200},\"extend_formats\":{\"H265\":[{\"format\":1600412,\"defn\":\"V360P\",\"profile\":\"MP4\",\"path\":\"api/v4/11110103/mms/id-11110103-6jt7a-lk58db4si47s18.16004121691942281.mp4\",\"url\":\"https://play-ws.vod.shopee.com/api/v4/11110103/mms/id-11110103-6jt7a-lk58db4si47s18.16004121691942281.mp4\",\"width\":360,\"height\":640,\"bitrate\":199057,\"size\":695173,\"fps\":25.03949,\"duration\":25402,\"update_time\":1691942304},{\"format\":1600315,\"defn\":\"V360P\",\"profile\":\"MP4\",\"path\":\"api/v4/11110103/mms/id-11110103-6jt7a-lk58db4si47s18.16003151692127589.mp4\",\"url\":\"https://play-ws.vod.shopee.com/api/v4/11110103/mms/id-11110103-6jt7a-lk58db4si47s18.16003151692127589.mp4\",\"width\":360,\"height\":640,\"bitrate\":239662,\"size\":1089377,\"fps\":25.03949,\"duration\":25402,\"update_time\":1692127616},{\"format\":1600304,\"defn\":\"V480P\",\"profile\":\"MP4\",\"path\":\"api/v4/11110103/mms/id-11110103-6jt7a-lk58db4si47s18.16003041691435345.mp4\",\"url\":\"https://play-ws.vod.shopee.com/api/v4/11110103/mms/id-11110103-6jt7a-lk58db4si47s18.16003041691435345.mp4\",\"width\":480,\"height\":854,\"bitrate\":486569,\"size\":1870804,\"fps\":25.03949,\"duration\":25402,\"update_time\":1691435378},{\"format\":1600413,\"defn\":\"V540P\",\"profile\":\"MP4\",\"path\":\"api/v4/11110103/mms/id-11110103-6jt7a-lk58db4si47s18.16004131691942281.mp4\",\"url\":\"https://play-ws.vod.shopee.com/api/v4/11110103/mms/id-11110103-6jt7a-lk58db4si47s18.16004131691942281.mp4\",\"width\":540,\"height\":960,\"bitrate\":341902,\"size\":1147262,\"fps\":25.03949,\"duration\":25402,\"update_time\":1691942315},{\"format\":1600316,\"defn\":\"V540P\",\"profile\":\"MP4\",\"path\":\"api/v4/11110103/mms/id-11110103-6jt7a-lk58db4si47s18.16003161692127589.mp4\",\"url\":\"https://play-ws.vod.shopee.com/api/v4/11110103/mms/id-11110103-6jt7a-lk58db4si47s18.16003161692127589.mp4\",\"width\":540,\"height\":960,\"bitrate\":399948,\"size\":1698382,\"fps\":25.03949,\"duration\":25402,\"update_time\":1692127626},{\"format\":1600307,\"defn\":\"V540P\",\"profile\":\"MP4\",\"path\":\"api/v4/11110103/mms/id-11110103-6jt7a-lk58db4si47s18.16003071691407223.mp4\",\"url\":\"https://play-ws.vod.shopee.com/api/v4/11110103/mms/id-11110103-6jt7a-lk58db4si47s18.16003071691407223.mp4\",\"width\":540,\"height\":960,\"bitrate\":546244,\"size\":2161400,\"fps\":25.03949,\"duration\":25402,\"update_time\":1691407276},{\"format\":1600308,\"defn\":\"V640P\",\"profile\":\"MP4\",\"path\":\"api/v4/11110103/mms/id-11110103-6jt7a-lk58db4si47s18.16003081691407223.mp4\",\"url\":\"https://play-ws.vod.shopee.com/api/v4/11110103/mms/id-11110103-6jt7a-lk58db4si47s18.16003081691407223.mp4\",\"width\":640,\"height\":1138,\"bitrate\":681724,\"size\":2590180,\"fps\":25.03949,\"duration\":25402,\"update_time\":1691407299},{\"format\":1600415,\"defn\":\"V720P\",\"profile\":\"MP4\",\"path\":\"api/v4/11110103/mms/id-11110103-6jt7a-lk58db4si47s18.16004151691942281.mp4\",\"url\":\"https://play-ws.vod.shopee.com/api/v4/11110103/mms/id-11110103-6jt7a-lk58db4si47s18.16004151691942281.mp4\",\"width\":720,\"height\":1280,\"bitrate\":612530,\"size\":2003773,\"fps\":25.03949,\"duration\":25402,\"update_time\":1691942360},{\"format\":1600414,\"defn\":\"V720P\",\"profile\":\"MP4\",\"path\":\"api/v4/11110103/mms/id-11110103-6jt7a-lk58db4si47s18.16004141691942281.mp4\",\"url\":\"https://play-ws.vod.shopee.com/api/v4/11110103/mms/id-11110103-6jt7a-lk58db4si47s18.16004141691942281.mp4\",\"width\":720,\"height\":1280,\"bitrate\":564625,\"size\":1852154,\"fps\":25.03949,\"duration\":25402,\"update_time\":1691942347},{\"format\":1600318,\"defn\":\"V720P\",\"profile\":\"MP4\",\"path\":\"api/v4/11110103/mms/id-11110103-6jt7a-lk58db4si47s18.16003181692127589.mp4\",\"url\":\"https://play-ws.vod.shopee.com/api/v4/11110103/mms/id-11110103-6jt7a-lk58db4si47s18.16003181692127589.mp4\",\"width\":720,\"height\":1280,\"bitrate\":830003,\"size\":3059469,\"fps\":25.03949,\"duration\":25402,\"update_time\":1692127676},{\"format\":1600317,\"defn\":\"V720P\",\"profile\":\"MP4\",\"path\":\"api/v4/11110103/mms/id-11110103-6jt7a-lk58db4si47s18.16003171692127589.mp4\",\"url\":\"https://play-ws.vod.shopee.com/api/v4/11110103/mms/id-11110103-6jt7a-lk58db4si47s18.16003171692127589.mp4\",\"width\":720,\"height\":1280,\"bitrate\":637110,\"size\":2448964,\"fps\":25.03949,\"duration\":25402,\"update_time\":1692127647}]},\"ab_test\":\"\"}",
            "upload_time": null,
            "url": "https://play-ws.vod.shopee.com/api/v4/11110103/mms/id-11110103-6jt7a-lk58db4si47s18.16004081691942270.mp4"
           }
          ],
          "viewed": null
         },
         {
          "ItemRatingReply": null,
          "anonymous": false,
          "author_portrait": "d428a020713608e412d49bc23eff0404",
          "author_shopid": 95565581,
          "author_username": "yanvitaanggraeni",
          "can_follow_up": null,
          "cmtid": 12289242156,
          "comment": "Sepadan dengan Harga:Sepada\nFitur Terbaik:HP gede banget ,internal ,ram dan kamera baguss\n\nPengiriman cepat dan sesuai dgn pesanan pembeli ,packing juga rapi dan amaan., Terima kasih atas rejeki.. saya nekat langsung beli dgn SPayLater 12bulan saat flash sale.,",
          "ctime": 1692095232,
          "delete_operator": null,
          "delete_reason": null,
          "detailed_rating": {
           "delivery_service": 5,
           "driver_service": null,
           "product_quality": 5,
           "seller_service": 5
          },
          "display_variation_filter": true,
          "editable": 1,
          "editable_date": 1694687232,
          "exclude_scoring_due_low_logistic": false,
          "filter": 7,
          "follow_up": null,
          "has_template_tag": true,
          "image_data": [
           {
            "cover_image_id": "id-11134103-7qul5-lkgl9e7y8gc6a7",
            "image_id": "id-11134103-7qul5-lkgl9e7y8gc6a7"
           },
           {
            "cover_image_id": "id-11134103-7quky-lkgl9e7y8fu25a",
            "image_id": "id-11134103-7quky-lkgl9e7y8fu25a"
           },
           {
            "cover_image_id": "id-11134103-7qul9-lkgl9e6ua2dw00",
            "image_id": "id-11134103-7qul9-lkgl9e6ua2dw00"
           },
           {
            "cover_image_id": "id-11134103-7qul7-lkgl9e6ubgyc5e",
            "image_id": "id-11134103-7qul7-lkgl9e6ubgyc5e"
           }
          ],
          "images": [
           "id-11134103-7qul5-lkgl9e7y8gc6a7",
           "id-11134103-7quky-lkgl9e7y8fu25a",
           "id-11134103-7qul9-lkgl9e6ua2dw00",
           "id-11134103-7qul7-lkgl9e6ubgyc5e"
          ],
          "index": 16,
          "is_hidden": false,
          "is_newly_created": null,
          "is_normal_item": true,
          "is_repeat_edited": null,
          "is_repeated_purchase": false,
          "is_super_review": false,
          "item_cart_info": null,
          "itemid": 20282046522,
          "key_media": {
           "key_media_code": 0,
           "key_media_id": ""
          },
          "like_count": 12,
          "liked": null,
          "loyalty_info": {
           "tier_code": 20,
           "tier_text": "Member Silver",
           "user_tier_badge_background_color": "#ABB2BA",
           "user_tier_badge_text_color": "#FFFFFF",
           "user_tier_badge_url": "https://loyalty.shopee.co.id"
          },
          "mentioned": [],
          "mtime": 1693076906,
          "opt": 2,
          "orderid": 144806178278351,
          "original_item_info": {
           "image": "id-11134207-7qul7-lkge7tzidmbkda",
           "itemid": 20282046522,
           "name": "Official Xiaomi Redmi 12 (8GB/128GB) | (8GB/256GB) MediaTek Helio G88 5000 mAh 18W 90Hz FHD+ 50MP Triple Kamera AI",
           "shopid": 51925611
          },
          "overall_fit": 0,
          "product_items": [
           {
            "image": "id-11134207-7qul7-ljqvpc7vs4rf69",
            "is_snapshot": 1,
            "itemid": 20282046522,
            "model_name": "Sky Blue,8/256 GB",
            "modelid": 39680258933,
            "name": "Official Xiaomi Redmi 12 (8GB/128GB) | (8GB/256GB) MediaTek Helio G88 5000 mAh 18W 90Hz FHD+ 50MP Triple Kamera AI",
            "options": [
             "Sky Blue",
             "8/256 GB"
            ],
            "shopid": 51925611,
            "snapshotid": 13339447130
           }
          ],
          "profile": null,
          "rating": 1,
          "rating_star": 5,
          "region": "ID",
          "shopid": 51925611,
          "show_reply": null,
          "show_super_review_tag": false,
          "show_view": null,
          "sip_info": {
           "is_oversea": false,
           "origin_region": "id"
          },
          "size_info_abt": "",
          "size_info_tags": null,
          "status": 2,
          "super_review_status": 0,
          "super_reviewer_tag": [],
          "sync_to_social": false,
          "sync_to_social_detail": null,
          "sync_to_social_toggle": null,
          "tags": null,
          "template_abt": null,
          "template_hints": null,
          "template_tags": [
           "Sepadan dengan Harga",
           "Fitur Terbaik"
          ],
          "template_tags_hints": null,
          "userid": 95567059,
          "videos": [
           {
            "cover": "https://down-aka-sg.img.susercontent.com/id-11110103-23080-sfryp4qqvquveb",
            "cover_image_id": "sg-11134206-7qveu-lkglll8ls9bw62",
            "duration": 33414,
            "highlight": {
             "cover": "https://play-ws.vod.shopee.com/c3/98934353/160/A3oyOajJAOzy--InEbUIACc.jpg",
             "cover_image_id": "",
             "duration": 3079,
             "highlight": null,
             "id": "sg-11110160-6jrnl-lkglnw1olszi8f",
             "mms_ext": "{\"vid\":\"sg-11110160-6jrnl-lkglnw1olszi8f\",\"biz\":103,\"duration\":3079,\"create_time\":1692095406,\"serviceID\":6,\"cover\":\"https://play-ws.vod.shopee.com/c3/98934353/160/A3oyOajJAOzy--InEbUIACc.jpg\",\"cover_list\":null,\"formats\":[],\"default_format\":{\"format\":600001,\"defn\":\"ORI\",\"profile\":\"MP4\",\"path\":\"\",\"url\":\"https://play-ws.vod.shopee.com/c3/98934353/160/A3oyOWJdAPzx--InEbQKACc.mp4\",\"width\":250,\"height\":250,\"bitrate\":239742,\"size\":94253,\"fps\":25,\"duration\":3079,\"update_time\":1692095407},\"extend_formats\":{\"H265\":[{\"format\":1600305,\"defn\":\"V270P\",\"profile\":\"MP4\",\"path\":\"api/v4/11110160/mms/sg-11110160-6jrnl-lkglnw1olszi8f.16003051692095414.mp4\",\"url\":\"https://play-ws.vod.shopee.com/api/v4/11110160/mms/sg-11110160-6jrnl-lkglnw1olszi8f.16003051692095414.mp4\",\"width\":250,\"height\":250,\"bitrate\":124676,\"size\":51728,\"fps\":25.32895,\"duration\":3039,\"update_time\":1692095409}]},\"ab_test\":\"\"}",
             "upload_time": null,
             "url": "https://play-ws.vod.shopee.com/c3/98934353/160/A3oyOWJdAPzx--InEbQKACc.mp4"
            },
            "id": "id-11110103-6jt79-lkglfhyqnygab8",
            "mms_ext": "{\"vid\":\"id-11110103-6jt79-lkglfhyqnygab8\",\"biz\":103,\"duration\":33414,\"create_time\":1692095063,\"serviceID\":2,\"cover\":\"https://down-aka-sg.img.susercontent.com/id-11110103-23080-sfryp4qqvquveb\",\"cover_list\":null,\"formats\":[{\"format\":1600408,\"defn\":\"V360P\",\"profile\":\"MP4\",\"path\":\"api/v4/11110103/mms/id-11110103-6jt79-lkglfhyqnygab8.16004081692555302.mp4\",\"url\":\"https://play-ws.vod.shopee.com/api/v4/11110103/mms/id-11110103-6jt79-lkglfhyqnygab8.16004081692555302.mp4\",\"width\":360,\"height\":644,\"bitrate\":194441,\"size\":1241391,\"fps\":25.02998,\"duration\":33414,\"update_time\":1692555313},{\"format\":1600322,\"defn\":\"V360P\",\"profile\":\"MP4\",\"path\":\"api/v4/11110103/mms/id-11110103-6jt79-lkglfhyqnygab8.16003221692646512.mp4\",\"url\":\"https://play-ws.vod.shopee.com/api/v4/11110103/mms/id-11110103-6jt79-lkglfhyqnygab8.16003221692646512.mp4\",\"width\":360,\"height\":644,\"bitrate\":200464,\"size\":1264195,\"fps\":25.02998,\"duration\":33430,\"update_time\":1692646522},{\"format\":1600409,\"defn\":\"V540P\",\"profile\":\"MP4\",\"path\":\"api/v4/11110103/mms/id-11110103-6jt79-lkglfhyqnygab8.16004091692555314.mp4\",\"url\":\"https://play-ws.vod.shopee.com/api/v4/11110103/mms/id-11110103-6jt79-lkglfhyqnygab8.16004091692555314.mp4\",\"width\":540,\"height\":966,\"bitrate\":354002,\"size\":2007118,\"fps\":25.02998,\"duration\":33414,\"update_time\":1692555331},{\"format\":1600323,\"defn\":\"V540P\",\"profile\":\"MP4\",\"path\":\"api/v4/11110103/mms/id-11110103-6jt79-lkglfhyqnygab8.default.mp4\",\"url\":\"https://play-ws.vod.shopee.com/api/v4/11110103/mms/id-11110103-6jt79-lkglfhyqnygab8.default.mp4\",\"width\":540,\"height\":966,\"bitrate\":449145,\"size\":2434950,\"fps\":25.02998,\"duration\":33430,\"update_time\":1692095107},{\"format\":1600005,\"defn\":\"V640P\",\"profile\":\"MP4\",\"path\":\"api/v4/11110103/mms/id-11110103-6jt79-lkglfhyqnygab8.16000051692095066.mp4\",\"url\":\"https://play-ws.vod.shopee.com/api/v4/11110103/mms/id-11110103-6jt79-lkglfhyqnygab8.16000051692095066.mp4\",\"width\":640,\"height\":1144,\"bitrate\":770137,\"size\":3642042,\"fps\":25.02998,\"duration\":33414,\"update_time\":1692095089},{\"format\":1600410,\"defn\":\"V720P\",\"profile\":\"MP4\",\"path\":\"api/v4/11110103/mms/id-11110103-6jt79-lkglfhyqnygab8.16004101692555314.mp4\",\"url\":\"https://play-ws.vod.shopee.com/api/v4/11110103/mms/id-11110103-6jt79-lkglfhyqnygab8.16004101692555314.mp4\",\"width\":716,\"height\":1280,\"bitrate\":571179,\"size\":2912695,\"fps\":25.02998,\"duration\":33414,\"update_time\":1692555337},{\"format\":1600411,\"defn\":\"V720P\",\"profile\":\"MP4\",\"path\":\"api/v4/11110103/mms/id-11110103-6jt79-lkglfhyqnygab8.16004111692555314.mp4\",\"url\":\"https://play-ws.vod.shopee.com/api/v4/11110103/mms/id-11110103-6jt79-lkglfhyqnygab8.16004111692555314.mp4\",\"width\":716,\"height\":1280,\"bitrate\":1060321,\"size\":4952420,\"fps\":25.02998,\"duration\":33414,\"update_time\":1692555338},{\"format\":1600324,\"defn\":\"V720P\",\"profile\":\"MP4\",\"path\":\"api/v4/11110103/mms/id-11110103-6jt79-lkglfhyqnygab8.16003241692646511.mp4\",\"url\":\"https://play-ws.vod.shopee.com/api/v4/11110103/mms/id-11110103-6jt79-lkglfhyqnygab8.16003241692646511.mp4\",\"width\":716,\"height\":1280,\"bitrate\":732672,\"size\":3617285,\"fps\":25.02998,\"duration\":33430,\"update_time\":1692646535},{\"format\":1600325,\"defn\":\"V720P\",\"profile\":\"MP4\",\"path\":\"api/v4/11110103/mms/id-11110103-6jt79-lkglfhyqnygab8.16003251692646511.mp4\",\"url\":\"https://play-ws.vod.shopee.com/api/v4/11110103/mms/id-11110103-6jt79-lkglfhyqnygab8.16003251692646511.mp4\",\"width\":716,\"height\":1280,\"bitrate\":1271311,\"size\":5863408,\"fps\":25.02998,\"duration\":33430,\"update_time\":1692646547}],\"default_format\":{\"format\":600001,\"defn\":\"ORI\",\"profile\":\"MP4\",\"path\":\"\",\"url\":\"https://play-ws.vod.shopee.com/api/v4/11110103/mms/id-11110103-6jt79-lkglfhyqnygab8.ori.mp4\",\"width\":716,\"height\":1280,\"bitrate\":2256614,\"size\":9979213,\"fps\":30.03026,\"duration\":33414,\"update_time\":1692095066},\"extend_formats\":{\"H265\":[{\"format\":1600412,\"defn\":\"V360P\",\"profile\":\"MP4\",\"path\":\"api/v4/11110103/mms/id-11110103-6jt79-lkglfhyqnygab8.16004121692555314.mp4\",\"url\":\"https://play-ws.vod.shopee.com/api/v4/11110103/mms/id-11110103-6jt79-lkglfhyqnygab8.16004121692555314.mp4\",\"width\":360,\"height\":644,\"bitrate\":167999,\"size\":1134488,\"fps\":25.02998,\"duration\":33414,\"update_time\":1692555338},{\"format\":1600315,\"defn\":\"V360P\",\"profile\":\"MP4\",\"path\":\"api/v4/11110103/mms/id-11110103-6jt79-lkglfhyqnygab8.16003151692646512.mp4\",\"url\":\"https://play-ws.vod.shopee.com/api/v4/11110103/mms/id-11110103-6jt79-lkglfhyqnygab8.16003151692646512.mp4\",\"width\":360,\"height\":644,\"bitrate\":187002,\"size\":1213717,\"fps\":25.02998,\"duration\":33414,\"update_time\":1692646535},{\"format\":1600413,\"defn\":\"V540P\",\"profile\":\"MP4\",\"path\":\"api/v4/11110103/mms/id-11110103-6jt79-lkglfhyqnygab8.16004131692555314.mp4\",\"url\":\"https://play-ws.vod.shopee.com/api/v4/11110103/mms/id-11110103-6jt79-lkglfhyqnygab8.16004131692555314.mp4\",\"width\":540,\"height\":966,\"bitrate\":227881,\"size\":1484495,\"fps\":25.02998,\"duration\":33414,\"update_time\":1692555354},{\"format\":1600307,\"defn\":\"V540P\",\"profile\":\"MP4\",\"path\":\"api/v4/11110103/mms/id-11110103-6jt79-lkglfhyqnygab8.16003071692300447.mp4\",\"url\":\"https://play-ws.vod.shopee.com/api/v4/11110103/mms/id-11110103-6jt79-lkglfhyqnygab8.16003071692300447.mp4\",\"width\":540,\"height\":966,\"bitrate\":360170,\"size\":2069570,\"fps\":25.02998,\"duration\":33414,\"update_time\":1692300482},{\"format\":1600316,\"defn\":\"V540P\",\"profile\":\"MP4\",\"path\":\"api/v4/11110103/mms/id-11110103-6jt79-lkglfhyqnygab8.16003161692646511.mp4\",\"url\":\"https://play-ws.vod.shopee.com/api/v4/11110103/mms/id-11110103-6jt79-lkglfhyqnygab8.16003161692646511.mp4\",\"width\":540,\"height\":966,\"bitrate\":345796,\"size\":2009634,\"fps\":25.02998,\"duration\":33414,\"update_time\":1692646561},{\"format\":1600308,\"defn\":\"V640P\",\"profile\":\"MP4\",\"path\":\"api/v4/11110103/mms/id-11110103-6jt79-lkglfhyqnygab8.16003081692095091.mp4\",\"url\":\"https://play-ws.vod.shopee.com/api/v4/11110103/mms/id-11110103-6jt79-lkglfhyqnygab8.16003081692095091.mp4\",\"width\":640,\"height\":1144,\"bitrate\":433988,\"size\":2377389,\"fps\":25.02998,\"duration\":33414,\"update_time\":1692095147},{\"format\":1600414,\"defn\":\"V720P\",\"profile\":\"MP4\",\"path\":\"api/v4/11110103/mms/id-11110103-6jt79-lkglfhyqnygab8.16004141692555314.mp4\",\"url\":\"https://play-ws.vod.shopee.com/api/v4/11110103/mms/id-11110103-6jt79-lkglfhyqnygab8.16004141692555314.mp4\",\"width\":716,\"height\":1280,\"bitrate\":403470,\"size\":2216690,\"fps\":25.02998,\"duration\":33414,\"update_time\":1692555365},{\"format\":1600415,\"defn\":\"V720P\",\"profile\":\"MP4\",\"path\":\"api/v4/11110103/mms/id-11110103-6jt79-lkglfhyqnygab8.16004151692555314.mp4\",\"url\":\"https://play-ws.vod.shopee.com/api/v4/11110103/mms/id-11110103-6jt79-lkglfhyqnygab8.16004151692555314.mp4\",\"width\":716,\"height\":1280,\"bitrate\":557072,\"size\":2857209,\"fps\":25.02998,\"duration\":33414,\"update_time\":1692555376},{\"format\":1600318,\"defn\":\"V720P\",\"profile\":\"MP4\",\"path\":\"api/v4/11110103/mms/id-11110103-6jt79-lkglfhyqnygab8.16003181692646512.mp4\",\"url\":\"https://play-ws.vod.shopee.com/api/v4/11110103/mms/id-11110103-6jt79-lkglfhyqnygab8.16003181692646512.mp4\",\"width\":716,\"height\":1280,\"bitrate\":686633,\"size\":3430913,\"fps\":25.02998,\"duration\":33414,\"update_time\":1692646600},{\"format\":1600317,\"defn\":\"V720P\",\"profile\":\"MP4\",\"path\":\"api/v4/11110103/mms/id-11110103-6jt79-lkglfhyqnygab8.16003171692646511.mp4\",\"url\":\"https://play-ws.vod.shopee.com/api/v4/11110103/mms/id-11110103-6jt79-lkglfhyqnygab8.16003171692646511.mp4\",\"width\":716,\"height\":1280,\"bitrate\":452128,\"size\":2453029,\"fps\":25.02998,\"duration\":33414,\"update_time\":1692646569}]},\"ab_test\":\"\"}",
            "upload_time": null,
            "url": "https://play-ws.vod.shopee.com/api/v4/11110103/mms/id-11110103-6jt79-lkglfhyqnygab8.16004081692555302.mp4"
           }
          ],
          "viewed": null
         },
         {
          "ItemRatingReply": null,
          "anonymous": false,
          "author_portrait": "dbfe822a67bd92ccbd8074f903419c47",
          "author_shopid": 715066142,
          "author_username": "weny222222",
          "can_follow_up": null,
          "cmtid": 12333412824,
          "comment": "Fitur Terbaik:mantap banget\n\nAlhamdulillah pas bgt dateng nya di hari H. Udah deg2an aja kalo2 dateng nya lewat hari H...",
          "ctime": 1692501892,
          "delete_operator": null,
          "delete_reason": null,
          "detailed_rating": {
           "delivery_service": 4,
           "driver_service": null,
           "product_quality": 5,
           "seller_service": 4
          },
          "display_variation_filter": true,
          "editable": 1,
          "editable_date": 1695093892,
          "exclude_scoring_due_low_logistic": false,
          "filter": 7,
          "follow_up": null,
          "has_template_tag": true,
          "image_data": [
           {
            "cover_image_id": "id-11134103-7r98o-lknbbiig4z7t9b",
            "image_id": "id-11134103-7r98o-lknbbiig4z7t9b"
           },
           {
            "cover_image_id": "id-11134103-7r98o-lknbbiig4z7345",
            "image_id": "id-11134103-7r98o-lknbbiig4z7345"
           },
           {
            "cover_image_id": "id-11134103-7r98o-lknbbiig4ylnc8",
            "image_id": "id-11134103-7r98o-lknbbiig4ylnc8"
           },
           {
            "cover_image_id": "id-11134103-7r98o-lknbbihm671177",
            "image_id": "id-11134103-7r98o-lknbbihm671177"
           },
           {
            "cover_image_id": "id-11134103-7r98o-lknbdzdc3sj344",
            "image_id": "id-11134103-7r98o-lknbdzdc3sj344"
           }
          ],
          "images": [
           "id-11134103-7r98o-lknbbiig4z7t9b",
           "id-11134103-7r98o-lknbbiig4z7345",
           "id-11134103-7r98o-lknbbiig4ylnc8",
           "id-11134103-7r98o-lknbbihm671177",
           "id-11134103-7r98o-lknbdzdc3sj344"
          ],
          "index": 17,
          "is_hidden": false,
          "is_newly_created": null,
          "is_normal_item": true,
          "is_repeat_edited": null,
          "is_repeated_purchase": false,
          "is_super_review": false,
          "item_cart_info": null,
          "itemid": 20282046522,
          "key_media": {
           "key_media_code": 0,
           "key_media_id": ""
          },
          "like_count": null,
          "liked": null,
          "loyalty_info": {
           "tier_code": 20,
           "tier_text": "Member Silver",
           "user_tier_badge_background_color": "#ABB2BA",
           "user_tier_badge_text_color": "#FFFFFF",
           "user_tier_badge_url": "https://loyalty.shopee.co.id"
          },
          "mentioned": [],
          "mtime": 1692657550,
          "opt": 2,
          "orderid": 145606052280517,
          "original_item_info": {
           "image": "id-11134207-7qul7-lkge7tzidmbkda",
           "itemid": 20282046522,
           "name": "Official Xiaomi Redmi 12 (8GB/128GB) | (8GB/256GB) MediaTek Helio G88 5000 mAh 18W 90Hz FHD+ 50MP Triple Kamera AI",
           "shopid": 51925611
          },
          "overall_fit": 0,
          "product_items": [
           {
            "image": "id-11134207-7qul7-ljqvpc7vs4rf69",
            "is_snapshot": 1,
            "itemid": 20282046522,
            "model_name": "Midnight Black,8/128 GB",
            "modelid": 39680258936,
            "name": "Official Xiaomi Redmi 12 (8GB/128GB) | (8GB/256GB) MediaTek Helio G88 5000 mAh 18W 90Hz FHD+ 50MP Triple Kamera AI",
            "options": [
             "Midnight Black",
             "8/128 GB"
            ],
            "shopid": 51925611,
            "snapshotid": 22346917282
           }
          ],
          "profile": null,
          "rating": 1,
          "rating_star": 5,
          "region": "ID",
          "shopid": 51925611,
          "show_reply": null,
          "show_super_review_tag": false,
          "show_view": null,
          "sip_info": {
           "is_oversea": false,
           "origin_region": "id"
          },
          "size_info_abt": "",
          "size_info_tags": null,
          "status": 2,
          "super_review_status": 0,
          "super_reviewer_tag": [],
          "sync_to_social": false,
          "sync_to_social_detail": null,
          "sync_to_social_toggle": null,
          "tags": null,
          "template_abt": null,
          "template_hints": null,
          "template_tags": [
           "Fitur Terbaik",
           "Sepadan dengan Harga"
          ],
          "template_tags_hints": null,
          "userid": 715085727,
          "videos": [
           {
            "cover": "https://down-aka-sg.img.susercontent.com/id-11110103-7r98o-lknbaw2r0cnpa2",
            "cover_image_id": "sg-11134206-7r98o-lkpvwawzduum21",
            "duration": 21106,
            "highlight": {
             "cover": "https://play-ws.vod.shopee.com/c3/98934353/160/A3oyOfy-AJAsAWkoEZIBACc.jpg",
             "cover_image_id": "",
             "duration": 3000,
             "highlight": null,
             "id": "sg-11110160-6ke14-lkpvyj8ft5yed2",
             "mms_ext": "{\"vid\":\"sg-11110160-6ke14-lkpvyj8ft5yed2\",\"biz\":103,\"duration\":3000,\"create_time\":1692657528,\"serviceID\":6,\"cover\":\"https://play-ws.vod.shopee.com/c3/98934353/160/A3oyOfy-AJAsAWkoEZIBACc.jpg\",\"cover_list\":null,\"formats\":[],\"default_format\":{\"format\":600001,\"defn\":\"ORI\",\"profile\":\"MP4\",\"path\":\"\",\"url\":\"https://play-ws.vod.shopee.com/c3/98934353/160/A3oyOUKTAAgsAWkoEZIJACc.mp4\",\"width\":250,\"height\":250,\"bitrate\":354826,\"size\":134628,\"fps\":25,\"duration\":3000,\"update_time\":1692657529},\"extend_formats\":{\"H265\":[{\"format\":1600305,\"defn\":\"V270P\",\"profile\":\"MP4\",\"path\":\"api/v4/11110160/mms/sg-11110160-6ke14-lkpvyj8ft5yed2.16003051692657537.mp4\",\"url\":\"https://play-ws.vod.shopee.com/api/v4/11110160/mms/sg-11110160-6ke14-lkpvyj8ft5yed2.16003051692657537.mp4\",\"width\":250,\"height\":250,\"bitrate\":135659,\"size\":54507,\"fps\":25.33784,\"duration\":2960,\"update_time\":1692657532}]},\"ab_test\":\"\"}",
             "upload_time": null,
             "url": "https://play-ws.vod.shopee.com/c3/98934353/160/A3oyOUKTAAgsAWkoEZIJACc.mp4"
            },
            "id": "id-11110103-6ke14-lknbaw2qyy392d",
            "mms_ext": "{\"vid\":\"id-11110103-6ke14-lknbaw2qyy392d\",\"biz\":103,\"duration\":21106,\"create_time\":1692501743,\"serviceID\":6,\"cover\":\"https://down-aka-sg.img.susercontent.com/id-11110103-7r98o-lknbaw2r0cnpa2\",\"cover_list\":null,\"formats\":[{\"format\":1600323,\"defn\":\"V540P\",\"profile\":\"MP4\",\"path\":\"api/v4/11110103/mms/id-11110103-6ke14-lknbaw2qyy392d.default.mp4\",\"url\":\"https://play-ws.vod.shopee.com/api/v4/11110103/mms/id-11110103-6ke14-lknbaw2qyy392d.default.mp4\",\"width\":960,\"height\":540,\"bitrate\":505582,\"size\":1377874,\"fps\":25.04753,\"duration\":21120,\"update_time\":1692501784},{\"format\":1600005,\"defn\":\"V640P\",\"profile\":\"MP4\",\"path\":\"api/v4/11110103/mms/id-11110103-6ke14-lknbaw2qyy392d.16000051692501745.mp4\",\"url\":\"https://play-ws.vod.shopee.com/api/v4/11110103/mms/id-11110103-6ke14-lknbaw2qyy392d.16000051692501745.mp4\",\"width\":1138,\"height\":640,\"bitrate\":877504,\"size\":2358625,\"fps\":25.04753,\"duration\":21107,\"update_time\":1692501766}],\"default_format\":{\"format\":600001,\"defn\":\"ORI\",\"profile\":\"MP4\",\"path\":\"\",\"url\":\"https://play-ws.vod.shopee.com/api/v4/11110103/mms/id-11110103-6ke14-lknbaw2qyy392d.mp4\",\"width\":1920,\"height\":1080,\"bitrate\":5926822,\"size\":15601371,\"fps\":25.04753,\"duration\":21106,\"update_time\":1692501745},\"extend_formats\":{\"H265\":[{\"format\":1600307,\"defn\":\"V540P\",\"profile\":\"MP4\",\"path\":\"api/v4/11110103/mms/id-11110103-6ke14-lknbaw2qyy392d.16003071692725670.mp4\",\"url\":\"https://play-ws.vod.shopee.com/api/v4/11110103/mms/id-11110103-6ke14-lknbaw2qyy392d.16003071692725670.mp4\",\"width\":960,\"height\":540,\"bitrate\":578150,\"size\":1575278,\"fps\":25.04753,\"duration\":21107,\"update_time\":1692725721},{\"format\":1600308,\"defn\":\"V640P\",\"profile\":\"MP4\",\"path\":\"api/v4/11110103/mms/id-11110103-6ke14-lknbaw2qyy392d.16003081692501768.mp4\",\"url\":\"https://play-ws.vod.shopee.com/api/v4/11110103/mms/id-11110103-6ke14-lknbaw2qyy392d.16003081692501768.mp4\",\"width\":1138,\"height\":640,\"bitrate\":717224,\"size\":1941073,\"fps\":25.04753,\"duration\":21107,\"update_time\":1692501831}]},\"ab_test\":\"\"}",
            "upload_time": null,
            "url": "https://play-ws.vod.shopee.com/api/v4/11110103/mms/id-11110103-6ke14-lknbaw2qyy392d.default.mp4"
           }
          ],
          "viewed": null
         },
         {
          "ItemRatingReply": null,
          "anonymous": false,
          "author_portrait": "77881b9a30b889b407ce80fe13985c4c",
          "author_shopid": 323357287,
          "author_username": "alfi_44shop",
          "can_follow_up": null,
          "cmtid": 12363025675,
          "comment": "Sepadan dengan Harga:murah lah dengan spek banyak\nFitur Terbaik:keren\n\nSaya sampai beli 2 ,sama anak saya..karena kata anak sy,spek nya bagus dan murah..\nSeller ramah dan baik, kurir sopan",
          "ctime": 1692773154,
          "delete_operator": null,
          "delete_reason": null,
          "detailed_rating": {
           "delivery_service": null,
           "driver_service": null,
           "product_quality": 5,
           "seller_service": null
          },
          "display_variation_filter": true,
          "editable": 1,
          "editable_date": 1695365154,
          "exclude_scoring_due_low_logistic": false,
          "filter": 7,
          "follow_up": null,
          "has_template_tag": true,
          "image_data": [
           {
            "cover_image_id": "id-11134103-7r98o-lkrsgtic2z1w89",
            "image_id": "id-11134103-7r98o-lkrsgtic2z1w89"
           },
           {
            "cover_image_id": "id-11134103-7r98o-lkrsgtic4dmc82",
            "image_id": "id-11134103-7r98o-lkrsgtic4dmc82"
           },
           {
            "cover_image_id": "id-11134103-7r98o-lkrsgtic5s6sbb",
            "image_id": "id-11134103-7r98o-lkrsgtic5s6sbb"
           },
           {
            "cover_image_id": "id-11134103-7r98o-lkrsgtic76r829",
            "image_id": "id-11134103-7r98o-lkrsgtic76r829"
           },
           {
            "cover_image_id": "id-11134103-7r98o-lkrsgtic8lboaa",
            "image_id": "id-11134103-7r98o-lkrsgtic8lboaa"
           }
          ],
          "images": [
           "id-11134103-7r98o-lkrsgtic2z1w89",
           "id-11134103-7r98o-lkrsgtic4dmc82",
           "id-11134103-7r98o-lkrsgtic5s6sbb",
           "id-11134103-7r98o-lkrsgtic76r829",
           "id-11134103-7r98o-lkrsgtic8lboaa"
          ],
          "index": 18,
          "is_hidden": false,
          "is_newly_created": null,
          "is_normal_item": true,
          "is_repeat_edited": null,
          "is_repeated_purchase": false,
          "is_super_review": false,
          "item_cart_info": null,
          "itemid": 20282046522,
          "key_media": {
           "key_media_code": 0,
           "key_media_id": ""
          },
          "like_count": 1,
          "liked": null,
          "loyalty_info": {
           "tier_code": 30,
           "tier_text": "Member Gold",
           "user_tier_badge_background_color": "#E7AE21",
           "user_tier_badge_text_color": "#FFFFFF",
           "user_tier_badge_url": "https://loyalty.shopee.co.id"
          },
          "mentioned": [],
          "mtime": 1693037764,
          "opt": 2,
          "orderid": 145846229215941,
          "original_item_info": {
           "image": "id-11134207-7qul7-lkge7tzidmbkda",
           "itemid": 20282046522,
           "name": "Official Xiaomi Redmi 12 (8GB/128GB) | (8GB/256GB) MediaTek Helio G88 5000 mAh 18W 90Hz FHD+ 50MP Triple Kamera AI",
           "shopid": 51925611
          },
          "overall_fit": 0,
          "product_items": [
           {
            "image": "id-11134207-7qul7-lkge7tzidmbkda",
            "is_snapshot": 1,
            "itemid": 20282046522,
            "model_name": "Midnight Black,8/256 GB",
            "modelid": 39680258931,
            "name": "Official Xiaomi Redmi 12 (8GB/128GB) | (8GB/256GB) MediaTek Helio G88 5000 mAh 18W 90Hz FHD+ 50MP Triple Kamera AI",
            "options": [
             "Midnight Black",
             "8/256 GB"
            ],
            "shopid": 51925611,
            "snapshotid": 9443190634
           }
          ],
          "profile": null,
          "rating": 1,
          "rating_star": 5,
          "region": "ID",
          "shopid": 51925611,
          "show_reply": null,
          "show_super_review_tag": false,
          "show_view": null,
          "sip_info": {
           "is_oversea": false,
           "origin_region": "id"
          },
          "size_info_abt": "",
          "size_info_tags": null,
          "status": 2,
          "super_review_status": 0,
          "super_reviewer_tag": [],
          "sync_to_social": false,
          "sync_to_social_detail": null,
          "sync_to_social_toggle": null,
          "tags": null,
          "template_abt": null,
          "template_hints": null,
          "template_tags": [
           "Sepadan dengan Harga",
           "Fitur Terbaik"
          ],
          "template_tags_hints": null,
          "userid": 323376886,
          "videos": [
           {
            "cover": "https://down-aka-sg.img.susercontent.com/id-11110103-23080-xbmkw3bz32uv33",
            "cover_image_id": "sg-11134206-7rbk0-lkt0vgg90hgwa4",
            "duration": 8987,
            "highlight": {
             "cover": "https://play-ws.vod.shopee.com/c3/98934353/160/A3oyOWemADAhTJYoEdUGACc.jpg",
             "cover_image_id": "",
             "duration": 3079,
             "highlight": null,
             "id": "sg-11110160-6ke14-lkt0xp291rp310",
             "mms_ext": "{\"vid\":\"sg-11110160-6ke14-lkt0xp291rp310\",\"biz\":103,\"duration\":3079,\"create_time\":1692847499,\"serviceID\":6,\"cover\":\"https://play-ws.vod.shopee.com/c3/98934353/160/A3oyOWemADAhTJYoEdUGACc.jpg\",\"cover_list\":null,\"formats\":[],\"default_format\":{\"format\":600001,\"defn\":\"ORI\",\"profile\":\"MP4\",\"path\":\"\",\"url\":\"https://play-ws.vod.shopee.com/c3/98934353/160/A3oyOaffANAgTJYoEdcDACc.mp4\",\"width\":250,\"height\":250,\"bitrate\":242249,\"size\":95219,\"fps\":25,\"duration\":3079,\"update_time\":1692847500},\"extend_formats\":{\"H265\":[{\"format\":1600305,\"defn\":\"V270P\",\"profile\":\"MP4\",\"path\":\"api/v4/11110160/mms/sg-11110160-6ke14-lkt0xp291rp310.16003051692847508.mp4\",\"url\":\"https://play-ws.vod.shopee.com/api/v4/11110160/mms/sg-11110160-6ke14-lkt0xp291rp310.16003051692847508.mp4\",\"width\":250,\"height\":250,\"bitrate\":132247,\"size\":54605,\"fps\":25.32895,\"duration\":3039,\"update_time\":1692847502}]},\"ab_test\":\"\"}",
             "upload_time": null,
             "url": "https://play-ws.vod.shopee.com/c3/98934353/160/A3oyOaffANAgTJYoEdcDACc.mp4"
            },
            "id": "id-11110103-6ke14-lkrshvsryz9032",
            "mms_ext": "{\"vid\":\"id-11110103-6ke14-lkrshvsryz9032\",\"biz\":103,\"duration\":8987,\"create_time\":1692773115,\"serviceID\":6,\"cover\":\"https://down-aka-sg.img.susercontent.com/id-11110103-23080-xbmkw3bz32uv33\",\"cover_list\":null,\"formats\":[{\"format\":1600323,\"defn\":\"V540P\",\"profile\":\"MP4\",\"path\":\"api/v4/11110103/mms/id-11110103-6ke14-lkrshvsryz9032.default.mp4\",\"url\":\"https://play-ws.vod.shopee.com/api/v4/11110103/mms/id-11110103-6ke14-lkrshvsryz9032.default.mp4\",\"width\":960,\"height\":540,\"bitrate\":498038,\"size\":707955,\"fps\":25.11211,\"duration\":9003,\"update_time\":1692773140},{\"format\":1600005,\"defn\":\"V640P\",\"profile\":\"MP4\",\"path\":\"api/v4/11110103/mms/id-11110103-6ke14-lkrshvsryz9032.16000051692773117.mp4\",\"url\":\"https://play-ws.vod.shopee.com/api/v4/11110103/mms/id-11110103-6ke14-lkrshvsryz9032.16000051692773117.mp4\",\"width\":1138,\"height\":640,\"bitrate\":853599,\"size\":1068913,\"fps\":25.11211,\"duration\":8987,\"update_time\":1692773124}],\"default_format\":{\"format\":600001,\"defn\":\"ORI\",\"profile\":\"MP4\",\"path\":\"\",\"url\":\"https://play-ws.vod.shopee.com/c3/98934353/103/A3oyOeybAGCZj4QoEX8HACY.mp4\",\"width\":1280,\"height\":720,\"bitrate\":1513975,\"size\":1840645,\"fps\":30.11258,\"duration\":8987,\"update_time\":1692773116},\"extend_formats\":{\"H265\":[{\"format\":1600307,\"defn\":\"V540P\",\"profile\":\"MP4\",\"path\":\"api/v4/11110103/mms/id-11110103-6ke14-lkrshvsryz9032.16003071692922225.mp4\",\"url\":\"https://play-ws.vod.shopee.com/api/v4/11110103/mms/id-11110103-6ke14-lkrshvsryz9032.16003071692922225.mp4\",\"width\":960,\"height\":540,\"bitrate\":603782,\"size\":828979,\"fps\":25.11211,\"duration\":8987,\"update_time\":1692922238},{\"format\":1600308,\"defn\":\"V640P\",\"profile\":\"MP4\",\"path\":\"api/v4/11110103/mms/id-11110103-6ke14-lkrshvsryz9032.16003081692773135.mp4\",\"url\":\"https://play-ws.vod.shopee.com/api/v4/11110103/mms/id-11110103-6ke14-lkrshvsryz9032.16003081692773135.mp4\",\"width\":1138,\"height\":640,\"bitrate\":755184,\"size\":997796,\"fps\":25.11211,\"duration\":8987,\"update_time\":1692773154}]},\"ab_test\":\"\"}",
            "upload_time": null,
            "url": "https://play-ws.vod.shopee.com/api/v4/11110103/mms/id-11110103-6ke14-lkrshvsryz9032.default.mp4"
           }
          ],
          "viewed": null
         },
         {
          "ItemRatingReply": null,
          "anonymous": false,
          "author_portrait": "",
          "author_shopid": 562964081,
          "author_username": "treizzhttreizzht",
          "can_follow_up": null,
          "cmtid": 12185409906,
          "comment": "Fitur Terbaik:penyimpananya gede\nSepadan dengan Harga:rill\n\nakhirnya bisa ganti hp di 2023 dan langsung ke redmi 12 yang baru aja launching, tau hp ini dari ignya ci shanii😍😍😍 dan langsung chekout wkwkw selebihnya mantap si",
          "ctime": 1691238678,
          "delete_operator": null,
          "delete_reason": null,
          "detailed_rating": {
           "delivery_service": 5,
           "driver_service": null,
           "product_quality": 5,
           "seller_service": 5
          },
          "display_variation_filter": true,
          "editable": 1,
          "editable_date": 1693830678,
          "exclude_scoring_due_low_logistic": false,
          "filter": 7,
          "follow_up": null,
          "has_template_tag": true,
          "image_data": [
           {
            "cover_image_id": "id-11134103-7qul7-lk2g4evz1rrsae",
            "image_id": "id-11134103-7qul7-lk2g4evz1rrsae"
           },
           {
            "cover_image_id": "id-11134103-7qul2-lk2g4evz1rmq09",
            "image_id": "id-11134103-7qul2-lk2g4evz1rmq09"
           },
           {
            "cover_image_id": "id-11134103-7quky-lk2g4evz36764e",
            "image_id": "id-11134103-7quky-lk2g4evz36764e"
           },
           {
            "cover_image_id": "id-11134103-7quky-lk2g4evz4krmd0",
            "image_id": "id-11134103-7quky-lk2g4evz4krmd0"
           }
          ],
          "images": [
           "id-11134103-7qul7-lk2g4evz1rrsae",
           "id-11134103-7qul2-lk2g4evz1rmq09",
           "id-11134103-7quky-lk2g4evz36764e",
           "id-11134103-7quky-lk2g4evz4krmd0"
          ],
          "index": 19,
          "is_hidden": false,
          "is_newly_created": null,
          "is_normal_item": true,
          "is_repeat_edited": null,
          "is_repeated_purchase": false,
          "is_super_review": false,
          "item_cart_info": null,
          "itemid": 20282046522,
          "key_media": {
           "key_media_code": 0,
           "key_media_id": ""
          },
          "like_count": 32,
          "liked": null,
          "loyalty_info": {
           "tier_code": 30,
           "tier_text": "Member Gold",
           "user_tier_badge_background_color": "#E7AE21",
           "user_tier_badge_text_color": "#FFFFFF",
           "user_tier_badge_url": "https://loyalty.shopee.co.id"
          },
          "mentioned": [],
          "mtime": 1692935794,
          "opt": 2,
          "orderid": 144595525202190,
          "original_item_info": {
           "image": "id-11134207-7qul7-lkge7tzidmbkda",
           "itemid": 20282046522,
           "name": "Official Xiaomi Redmi 12 (8GB/128GB) | (8GB/256GB) MediaTek Helio G88 5000 mAh 18W 90Hz FHD+ 50MP Triple Kamera AI",
           "shopid": 51925611
          },
          "overall_fit": 0,
          "product_items": [
           {
            "image": "id-11134207-7qul7-ljqvpc7vs4rf69",
            "is_snapshot": 1,
            "itemid": 20282046522,
            "model_name": "Sky Blue,8/256 GB",
            "modelid": 39680258933,
            "name": "Official Xiaomi Redmi 12 (8GB/128GB) | (8GB/256GB) MediaTek Helio G88 5000 mAh 18W 90Hz FHD+ 50MP Triple Kamera AI",
            "options": [
             "Sky Blue",
             "8/256 GB"
            ],
            "shopid": 51925611,
            "snapshotid": 20334645520
           }
          ],
          "profile": null,
          "rating": 1,
          "rating_star": 5,
          "region": "ID",
          "shopid": 51925611,
          "show_reply": null,
          "show_super_review_tag": false,
          "show_view": null,
          "sip_info": {
           "is_oversea": false,
           "origin_region": "id"
          },
          "size_info_abt": "",
          "size_info_tags": null,
          "status": 2,
          "super_review_status": 0,
          "super_reviewer_tag": [],
          "sync_to_social": false,
          "sync_to_social_detail": null,
          "sync_to_social_toggle": null,
          "tags": null,
          "template_abt": null,
          "template_hints": null,
          "template_tags": [
           "Fitur Terbaik",
           "Sepadan dengan Harga"
          ],
          "template_tags_hints": null,
          "userid": 562983666,
          "videos": [
           {
            "cover": "https://down-aka-sg.img.susercontent.com/id-11110103-23080-ezw4ut0eqcuv8d",
            "cover_image_id": "sg-11134206-7qvdz-lk88nb1pmrr91e",
            "duration": 6896,
            "highlight": {
             "cover": "https://play-ws.vod.shopee.com/c3/98934353/160/A3oyOemvAPA5UmonEW8HACc.jpg",
             "cover_image_id": "",
             "duration": 3079,
             "highlight": null,
             "id": "sg-11110160-6jroz-lk88opd9zridb2",
             "mms_ext": "{\"vid\":\"sg-11110160-6jroz-lk88opd9zridb2\",\"biz\":103,\"duration\":3079,\"create_time\":1691589310,\"serviceID\":6,\"cover\":\"https://play-ws.vod.shopee.com/c3/98934353/160/A3oyOemvAPA5UmonEW8HACc.jpg\",\"cover_list\":null,\"formats\":[],\"default_format\":{\"format\":600001,\"defn\":\"ORI\",\"profile\":\"MP4\",\"path\":\"\",\"url\":\"https://play-ws.vod.shopee.com/c3/98934353/160/A3oyOd1gANg4UmonEXsBACc.mp4\",\"width\":250,\"height\":250,\"bitrate\":220610,\"size\":86893,\"fps\":25,\"duration\":3079,\"update_time\":1691589310},\"extend_formats\":{\"H265\":[{\"format\":1600305,\"defn\":\"V270P\",\"profile\":\"MP4\",\"path\":\"api/v4/11110160/mms/sg-11110160-6jroz-lk88opd9zridb2.16003051691589317.mp4\",\"url\":\"https://play-ws.vod.shopee.com/api/v4/11110160/mms/sg-11110160-6jroz-lk88opd9zridb2.16003051691589317.mp4\",\"width\":250,\"height\":250,\"bitrate\":100828,\"size\":42634,\"fps\":25.32895,\"duration\":3039,\"update_time\":1691589313}]},\"ab_test\":\"\"}",
             "upload_time": null,
             "url": "https://play-ws.vod.shopee.com/c3/98934353/160/A3oyOd1gANg4UmonEXsBACc.mp4"
            },
            "id": "id-11110103-6jt7m-lk2g4v697tn39b",
            "mms_ext": "{\"vid\":\"id-11110103-6jt7m-lk2g4v697tn39b\",\"biz\":103,\"duration\":6896,\"create_time\":1691238638,\"serviceID\":2,\"cover\":\"https://down-aka-sg.img.susercontent.com/id-11110103-23080-ezw4ut0eqcuv8d\",\"cover_list\":null,\"formats\":[{\"format\":1600046,\"defn\":\"V480P\",\"profile\":\"MP4\",\"path\":\"api/v4/11110103/mms/id-11110103-6jt7m-lk2g4v697tn39b.16000461691238648.mp4\",\"url\":\"https://play-ws.vod.shopee.com/api/v4/11110103/mms/id-11110103-6jt7m-lk2g4v697tn39b.16000461691238648.mp4\",\"width\":480,\"height\":854,\"bitrate\":585210,\"size\":587263,\"fps\":25.14706,\"duration\":6912,\"update_time\":1691238651},{\"format\":1600005,\"defn\":\"V640P\",\"profile\":\"MP4\",\"path\":\"api/v4/11110103/mms/id-11110103-6jt7m-lk2g4v697tn39b.16000051691238640.mp4\",\"url\":\"https://play-ws.vod.shopee.com/api/v4/11110103/mms/id-11110103-6jt7m-lk2g4v697tn39b.16000051691238640.mp4\",\"width\":640,\"height\":1138,\"bitrate\":790224,\"size\":761848,\"fps\":25.14706,\"duration\":6896,\"update_time\":1691238646}],\"default_format\":{\"format\":600001,\"defn\":\"ORI\",\"profile\":\"MP4\",\"path\":\"\",\"url\":\"https://play-ws.vod.shopee.com/api/v4/11110103/mms/id-11110103-6jt7m-lk2g4v697tn39b.ori.mp4\",\"width\":720,\"height\":1280,\"bitrate\":2442639,\"size\":2196584,\"fps\":30.14735,\"duration\":6896,\"update_time\":1691238640},\"extend_formats\":{\"H265\":[{\"format\":1600304,\"defn\":\"V480P\",\"profile\":\"MP4\",\"path\":\"api/v4/11110103/mms/id-11110103-6jt7m-lk2g4v697tn39b.16003041691238647.mp4\",\"url\":\"https://play-ws.vod.shopee.com/api/v4/11110103/mms/id-11110103-6jt7m-lk2g4v697tn39b.16003041691238647.mp4\",\"width\":480,\"height\":854,\"bitrate\":357436,\"size\":396660,\"fps\":25.14706,\"duration\":6896,\"update_time\":1691238657},{\"format\":1600308,\"defn\":\"V640P\",\"profile\":\"MP4\",\"path\":\"api/v4/11110103/mms/id-11110103-6jt7m-lk2g4v697tn39b.16003081691238647.mp4\",\"url\":\"https://play-ws.vod.shopee.com/api/v4/11110103/mms/id-11110103-6jt7m-lk2g4v697tn39b.16003081691238647.mp4\",\"width\":640,\"height\":1138,\"bitrate\":555180,\"size\":592410,\"fps\":25.14706,\"duration\":6896,\"update_time\":1691238660}]},\"ab_test\":\"\"}",
            "upload_time": null,
            "url": "https://play-ws.vod.shopee.com/api/v4/11110103/mms/id-11110103-6jt7m-lk2g4v697tn39b.16000461691238648.mp4"
           }
          ],
          "viewed": null
         },
         {
          "ItemRatingReply": null,
          "anonymous": false,
          "author_portrait": "a06d5a9927fa3e00e6caa014c2abb762",
          "author_shopid": 213775546,
          "author_username": "vearactivewear",
          "can_follow_up": null,
          "cmtid": 12186588601,
          "comment": "Fitur Terbaik:design nya keren abies\nSepadan dengan Harga:worth to buy sih buat spec sgini\n\nPengiriman sameday dari official\nStore beneran langsung sampai . Smoga awet dah",
          "ctime": 1691246731,
          "delete_operator": null,
          "delete_reason": null,
          "detailed_rating": {
           "delivery_service": 5,
           "driver_service": null,
           "product_quality": 5,
           "seller_service": 5
          },
          "display_variation_filter": true,
          "editable": 1,
          "editable_date": 1693838731,
          "exclude_scoring_due_low_logistic": false,
          "filter": 7,
          "follow_up": null,
          "has_template_tag": true,
          "image_data": [
           {
            "cover_image_id": "id-11134103-7qul0-lk2kvzmi54rrfe",
            "image_id": "id-11134103-7qul0-lk2kvzmi54rrfe"
           },
           {
            "cover_image_id": "id-11134103-7qukx-lk2kvzmi6jc7e6",
            "image_id": "id-11134103-7qukx-lk2kvzmi6jc7e6"
           },
           {
            "cover_image_id": "id-11134103-7qul5-lk2kwcsyutaw37",
            "image_id": "id-11134103-7qul5-lk2kwcsyutaw37"
           }
          ],
          "images": [
           "id-11134103-7qul0-lk2kvzmi54rrfe",
           "id-11134103-7qukx-lk2kvzmi6jc7e6",
           "id-11134103-7qul5-lk2kwcsyutaw37"
          ],
          "index": 20,
          "is_hidden": false,
          "is_newly_created": null,
          "is_normal_item": true,
          "is_repeat_edited": null,
          "is_repeated_purchase": false,
          "is_super_review": false,
          "item_cart_info": null,
          "itemid": 20282046522,
          "key_media": {
           "key_media_code": 0,
           "key_media_id": ""
          },
          "like_count": 8,
          "liked": null,
          "loyalty_info": {
           "tier_code": 40,
           "tier_text": "Member Platinum",
           "user_tier_badge_background_color": "#55586E",
           "user_tier_badge_text_color": "#FFFFFF",
           "user_tier_badge_url": "https://loyalty.shopee.co.id"
          },
          "mentioned": [],
          "mtime": 1693098034,
          "opt": 2,
          "orderid": 144863204221284,
          "original_item_info": {
           "image": "id-11134207-7qul7-lkge7tzidmbkda",
           "itemid": 20282046522,
           "name": "Official Xiaomi Redmi 12 (8GB/128GB) | (8GB/256GB) MediaTek Helio G88 5000 mAh 18W 90Hz FHD+ 50MP Triple Kamera AI",
           "shopid": 51925611
          },
          "overall_fit": 0,
          "product_items": [
           {
            "image": "id-11134207-7qul7-ljqvpc7vs4rf69",
            "is_snapshot": 1,
            "itemid": 20282046522,
            "model_name": "Sky Blue,8/256 GB",
            "modelid": 39680258933,
            "name": "Official Xiaomi Redmi 12 (8GB/128GB) | (8GB/256GB) MediaTek Helio G88 5000 mAh 18W 90Hz FHD+ 50MP Triple Kamera AI",
            "options": [
             "Sky Blue",
             "8/256 GB"
            ],
            "shopid": 51925611,
            "snapshotid": 13339447130
           }
          ],
          "profile": null,
          "rating": 1,
          "rating_star": 5,
          "region": "ID",
          "shopid": 51925611,
          "show_reply": null,
          "show_super_review_tag": false,
          "show_view": null,
          "sip_info": {
           "is_oversea": false,
           "origin_region": "id"
          },
          "size_info_abt": "",
          "size_info_tags": null,
          "status": 2,
          "super_review_status": 0,
          "super_reviewer_tag": [],
          "sync_to_social": false,
          "sync_to_social_detail": null,
          "sync_to_social_toggle": null,
          "tags": null,
          "template_abt": null,
          "template_hints": null,
          "template_tags": [
           "Fitur Terbaik",
           "Sepadan dengan Harga"
          ],
          "template_tags_hints": null,
          "userid": 213779265,
          "videos": [
           {
            "cover": "https://down-aka-sg.img.susercontent.com/id-11110103-23080-e6d2uea8ucuv22",
            "cover_image_id": "sg-11134206-7qvf8-lk7g0bsxappz30",
            "duration": 12034,
            "highlight": {
             "cover": "https://play-ws.vod.shopee.com/c3/98934353/160/A3oyOd8-AMiQ114nITQBCgAn.jpg",
             "cover_image_id": "",
             "duration": 3079,
             "highlight": null,
             "id": "sg-11110160-6jroi-lk7g1wtvt1jm37",
             "mms_ext": "{\"vid\":\"sg-11110160-6jroi-lk7g1wtvt1jm37\",\"biz\":103,\"duration\":3079,\"create_time\":1691541163,\"serviceID\":6,\"cover\":\"https://play-ws.vod.shopee.com/c3/98934353/160/A3oyOd8-AMiQ114nITQBCgAn.jpg\",\"cover_list\":null,\"formats\":[],\"default_format\":{\"format\":600001,\"defn\":\"ORI\",\"profile\":\"MP4\",\"path\":\"\",\"url\":\"https://play-ws.vod.shopee.com/c3/98934353/160/A3oyOb20AFyQ114nESILACc.mp4\",\"width\":250,\"height\":250,\"bitrate\":209698,\"size\":82501,\"fps\":25,\"duration\":3079,\"update_time\":1691541165},\"extend_formats\":{\"H265\":[{\"format\":1600305,\"defn\":\"V270P\",\"profile\":\"MP4\",\"path\":\"api/v4/11110160/mms/sg-11110160-6jroi-lk7g1wtvt1jm37.16003051691541171.mp4\",\"url\":\"https://play-ws.vod.shopee.com/api/v4/11110160/mms/sg-11110160-6jroi-lk7g1wtvt1jm37.16003051691541171.mp4\",\"width\":250,\"height\":250,\"bitrate\":100813,\"size\":42660,\"fps\":25.32895,\"duration\":3039,\"update_time\":1691541167}]},\"ab_test\":\"\"}",
             "upload_time": null,
             "url": "https://play-ws.vod.shopee.com/c3/98934353/160/A3oyOb20AFyQ114nESILACc.mp4"
            },
            "id": "id-11110103-6jt7l-lk2kwtwnttjs4b",
            "mms_ext": "{\"vid\":\"id-11110103-6jt7l-lk2kwtwnttjs4b\",\"biz\":103,\"duration\":12034,\"create_time\":1691246673,\"serviceID\":6,\"cover\":\"https://down-aka-sg.img.susercontent.com/id-11110103-23080-e6d2uea8ucuv22\",\"cover_list\":null,\"formats\":[{\"format\":1600046,\"defn\":\"V480P\",\"profile\":\"MP4\",\"path\":\"api/v4/11110103/mms/id-11110103-6jt7l-lk2kwtwnttjs4b.16000461691246685.mp4\",\"url\":\"https://play-ws.vod.shopee.com/api/v4/11110103/mms/id-11110103-6jt7l-lk2kwtwnttjs4b.16000461691246685.mp4\",\"width\":480,\"height\":854,\"bitrate\":638351,\"size\":1113501,\"fps\":25.08333,\"duration\":12053,\"update_time\":1691246691},{\"format\":1600005,\"defn\":\"V640P\",\"profile\":\"MP4\",\"path\":\"api/v4/11110103/mms/id-11110103-6jt7l-lk2kwtwnttjs4b.16000051691246675.mp4\",\"url\":\"https://play-ws.vod.shopee.com/api/v4/11110103/mms/id-11110103-6jt7l-lk2kwtwnttjs4b.16000051691246675.mp4\",\"width\":640,\"height\":1138,\"bitrate\":837899,\"size\":1413638,\"fps\":25.08333,\"duration\":12052,\"update_time\":1691246684}],\"default_format\":{\"format\":600001,\"defn\":\"ORI\",\"profile\":\"MP4\",\"path\":\"\",\"url\":\"https://play-ws.vod.shopee.com/c3/98934353/103/A3oyOfReAHj-oBgnIRIBCAAm.mp4\",\"width\":720,\"height\":1280,\"bitrate\":6182943,\"size\":9486302,\"fps\":29.49869,\"duration\":12034,\"update_time\":1691246674},\"extend_formats\":{\"H265\":[{\"format\":1600304,\"defn\":\"V480P\",\"profile\":\"MP4\",\"path\":\"api/v4/11110103/mms/id-11110103-6jt7l-lk2kwtwnttjs4b.16003041691246685.mp4\",\"url\":\"https://play-ws.vod.shopee.com/api/v4/11110103/mms/id-11110103-6jt7l-lk2kwtwnttjs4b.16003041691246685.mp4\",\"width\":480,\"height\":854,\"bitrate\":438510,\"size\":817319,\"fps\":25.08333,\"duration\":12052,\"update_time\":1691246704},{\"format\":1600308,\"defn\":\"V640P\",\"profile\":\"MP4\",\"path\":\"api/v4/11110103/mms/id-11110103-6jt7l-lk2kwtwnttjs4b.16003081691246685.mp4\",\"url\":\"https://play-ws.vod.shopee.com/api/v4/11110103/mms/id-11110103-6jt7l-lk2kwtwnttjs4b.16003081691246685.mp4\",\"width\":640,\"height\":1138,\"bitrate\":616546,\"size\":1088699,\"fps\":25.08333,\"duration\":12052,\"update_time\":1691246710}]},\"ab_test\":\"\"}",
            "upload_time": null,
            "url": "https://play-ws.vod.shopee.com/api/v4/11110103/mms/id-11110103-6jt7l-lk2kwtwnttjs4b.16000461691246685.mp4"
           }
          ],
          "viewed": null
         },
         {
          "ItemRatingReply": null,
          "anonymous": true,
          "author_portrait": "3cbe6a90e29414e36883ae835b40a53d",
          "author_shopid": 17634906,
          "author_username": "r*****5",
          "can_follow_up": null,
          "cmtid": 12326937212,
          "comment": "Barang sesuai dan berfungsi dengan baik, pengiriman cepat dan admin fast respon 👍🏻👍🏻",
          "ctime": 1692430437,
          "delete_operator": null,
          "delete_reason": null,
          "detailed_rating": {
           "delivery_service": 5,
           "driver_service": null,
           "product_quality": 5,
           "seller_service": 5
          },
          "display_variation_filter": true,
          "editable": 1,
          "editable_date": 1695022437,
          "exclude_scoring_due_low_logistic": false,
          "filter": 7,
          "follow_up": null,
          "has_template_tag": false,
          "image_data": [
           {
            "cover_image_id": "id-11134103-7r98o-lkm4p6uuvbqnd8",
            "image_id": "id-11134103-7r98o-lkm4p6uuvbqnd8"
           },
           {
            "cover_image_id": "id-11134103-7r98o-lkm4p6w8rvv582",
            "image_id": "id-11134103-7r98o-lkm4p6w8rvv582"
           },
           {
            "cover_image_id": "id-11134103-7r98o-lkm4p6w8rvvv32",
            "image_id": "id-11134103-7r98o-lkm4p6w8rvvv32"
           },
           {
            "cover_image_id": "id-11134103-7r98o-lkm4p6uuwqb31f",
            "image_id": "id-11134103-7r98o-lkm4p6uuwqb31f"
           }
          ],
          "images": [
           "id-11134103-7r98o-lkm4p6uuvbqnd8",
           "id-11134103-7r98o-lkm4p6w8rvv582",
           "id-11134103-7r98o-lkm4p6w8rvvv32",
           "id-11134103-7r98o-lkm4p6uuwqb31f"
          ],
          "index": 21,
          "is_hidden": false,
          "is_newly_created": null,
          "is_normal_item": true,
          "is_repeat_edited": null,
          "is_repeated_purchase": false,
          "is_super_review": false,
          "item_cart_info": null,
          "itemid": 20282046522,
          "key_media": {
           "key_media_code": 0,
           "key_media_id": ""
          },
          "like_count": 7,
          "liked": null,
          "loyalty_info": {
           "tier_code": 20,
           "tier_text": "Member Silver",
           "user_tier_badge_background_color": "#ABB2BA",
           "user_tier_badge_text_color": "#FFFFFF",
           "user_tier_badge_url": "https://loyalty.shopee.co.id"
          },
          "mentioned": [],
          "mtime": 1693059461,
          "opt": 2,
          "orderid": 145872516275899,
          "original_item_info": {
           "image": "id-11134207-7qul7-lkge7tzidmbkda",
           "itemid": 20282046522,
           "name": "Official Xiaomi Redmi 12 (8GB/128GB) | (8GB/256GB) MediaTek Helio G88 5000 mAh 18W 90Hz FHD+ 50MP Triple Kamera AI",
           "shopid": 51925611
          },
          "overall_fit": 0,
          "product_items": [
           {
            "image": "id-11134207-7qul7-lkge7tzidmbkda",
            "is_snapshot": 1,
            "itemid": 20282046522,
            "model_name": "Midnight Black,8/256 GB",
            "modelid": 39680258931,
            "name": "Official Xiaomi Redmi 12 (8GB/128GB) | (8GB/256GB) MediaTek Helio G88 5000 mAh 18W 90Hz FHD+ 50MP Triple Kamera AI",
            "options": [
             "Midnight Black",
             "8/256 GB"
            ],
            "shopid": 51925611,
            "snapshotid": 9443190634
           }
          ],
          "profile": null,
          "rating": 1,
          "rating_star": 5,
          "region": "ID",
          "shopid": 51925611,
          "show_reply": null,
          "show_super_review_tag": false,
          "show_view": null,
          "sip_info": {
           "is_oversea": false,
           "origin_region": "id"
          },
          "size_info_abt": "",
          "size_info_tags": null,
          "status": 2,
          "super_review_status": 0,
          "super_reviewer_tag": [],
          "sync_to_social": false,
          "sync_to_social_detail": null,
          "sync_to_social_toggle": null,
          "tags": null,
          "template_abt": null,
          "template_hints": null,
          "template_tags": [],
          "template_tags_hints": null,
          "userid": 17636242,
          "videos": [
           {
            "cover": "https://down-aka-sg.img.susercontent.com/id-11110103-23080-kxj33vy6ewuv45",
            "cover_image_id": "sg-11134206-7rbk0-lknusqjek88e35",
            "duration": 30186,
            "highlight": {
             "cover": "https://play-ws.vod.shopee.com/c3/98934353/160/A3oyOf4UAAAatUsoEXUIACc.jpg",
             "cover_image_id": "",
             "duration": 3119,
             "highlight": null,
             "id": "sg-11110160-6ke14-lknuvqgqmifs74",
             "mms_ext": "{\"vid\":\"sg-11110160-6ke14-lknuvqgqmifs74\",\"biz\":103,\"duration\":3119,\"create_time\":1692534647,\"serviceID\":6,\"cover\":\"https://play-ws.vod.shopee.com/c3/98934353/160/A3oyOf4UAAAatUsoEXUIACc.jpg\",\"cover_list\":null,\"formats\":[],\"default_format\":{\"format\":600001,\"defn\":\"ORI\",\"profile\":\"MP4\",\"path\":\"\",\"url\":\"https://play-ws.vod.shopee.com/c3/98934353/160/A3oyOb-4AKwZtUsoEXkEACc.mp4\",\"width\":250,\"height\":250,\"bitrate\":303133,\"size\":120174,\"fps\":25,\"duration\":3119,\"update_time\":1692534648},\"extend_formats\":{\"H265\":[{\"format\":1600305,\"defn\":\"V270P\",\"profile\":\"MP4\",\"path\":\"api/v4/11110160/mms/sg-11110160-6ke14-lknuvqgqmifs74.16003051692534655.mp4\",\"url\":\"https://play-ws.vod.shopee.com/api/v4/11110160/mms/sg-11110160-6ke14-lknuvqgqmifs74.16003051692534655.mp4\",\"width\":250,\"height\":250,\"bitrate\":146810,\"size\":60874,\"fps\":25.32467,\"duration\":3079,\"update_time\":1692534650}]},\"ab_test\":\"\"}",
             "upload_time": null,
             "url": "https://play-ws.vod.shopee.com/c3/98934353/160/A3oyOb-4AKwZtUsoEXkEACc.mp4"
            },
            "id": "id-11110103-6ke14-lkm4vgsq6zh169",
            "mms_ext": "{\"vid\":\"id-11110103-6ke14-lkm4vgsq6zh169\",\"biz\":103,\"duration\":30186,\"create_time\":1692430394,\"serviceID\":2,\"cover\":\"https://down-aka-sg.img.susercontent.com/id-11110103-23080-kxj33vy6ewuv45\",\"cover_list\":null,\"formats\":[{\"format\":1600323,\"defn\":\"V540P\",\"profile\":\"MP4\",\"path\":\"api/v4/11110103/mms/id-11110103-6ke14-lkm4vgsq6zh169.default.mp4\",\"url\":\"https://play-ws.vod.shopee.com/api/v4/11110103/mms/id-11110103-6ke14-lkm4vgsq6zh169.default.mp4\",\"width\":540,\"height\":966,\"bitrate\":483764,\"size\":2329296,\"fps\":25.0332,\"duration\":30187,\"update_time\":1692430464},{\"format\":1600005,\"defn\":\"V640P\",\"profile\":\"MP4\",\"path\":\"api/v4/11110103/mms/id-11110103-6ke14-lkm4vgsq6zh169.16000051692430398.mp4\",\"url\":\"https://play-ws.vod.shopee.com/api/v4/11110103/mms/id-11110103-6ke14-lkm4vgsq6zh169.16000051692430398.mp4\",\"width\":640,\"height\":1144,\"bitrate\":839524,\"size\":3550588,\"fps\":25.0332,\"duration\":30186,\"update_time\":1692430426}],\"default_format\":{\"format\":600001,\"defn\":\"ORI\",\"profile\":\"MP4\",\"path\":\"\",\"url\":\"https://play-ws.vod.shopee.com/api/v4/11110103/mms/id-11110103-6ke14-lkm4vgsq6zh169.ori.mp4\",\"width\":716,\"height\":1280,\"bitrate\":2474541,\"size\":9839253,\"fps\":30.03351,\"duration\":30186,\"update_time\":1692430398},\"extend_formats\":{\"H265\":[{\"format\":1600307,\"defn\":\"V540P\",\"profile\":\"MP4\",\"path\":\"api/v4/11110103/mms/id-11110103-6ke14-lkm4vgsq6zh169.16003071692559393.mp4\",\"url\":\"https://play-ws.vod.shopee.com/api/v4/11110103/mms/id-11110103-6ke14-lkm4vgsq6zh169.16003071692559393.mp4\",\"width\":540,\"height\":966,\"bitrate\":583510,\"size\":2710835,\"fps\":25.0332,\"duration\":30186,\"update_time\":1692559453},{\"format\":1600308,\"defn\":\"V640P\",\"profile\":\"MP4\",\"path\":\"api/v4/11110103/mms/id-11110103-6ke14-lkm4vgsq6zh169.16003081692430447.mp4\",\"url\":\"https://play-ws.vod.shopee.com/api/v4/11110103/mms/id-11110103-6ke14-lkm4vgsq6zh169.16003081692430447.mp4\",\"width\":640,\"height\":1144,\"bitrate\":726368,\"size\":3248692,\"fps\":25.0332,\"duration\":30186,\"update_time\":1692430524}]},\"ab_test\":\"\"}",
            "upload_time": null,
            "url": "https://play-ws.vod.shopee.com/api/v4/11110103/mms/id-11110103-6ke14-lkm4vgsq6zh169.default.mp4"
           }
          ],
          "viewed": null
         },
         {
          "ItemRatingReply": null,
          "anonymous": true,
          "author_portrait": "83e0765727c3f902cbd73e509b7f5a35",
          "author_shopid": 349367915,
          "author_username": "s*****a",
          "can_follow_up": null,
          "cmtid": 12245579438,
          "comment": "Sepadan dengan Harga:sepadan\n\nProduk datang sesuai pesanan, tidak lecet, aman. Pengemasan aman dan terlindungi dengan bublewrap. Lumayan dapat harga diskon. Pengiriman lumayan cepet. Fitur baik dan hp berfungsi dengan baik tanpa ada kendala. Kelengkapan sangat lengkap.",
          "ctime": 1691747255,
          "delete_operator": null,
          "delete_reason": null,
          "detailed_rating": {
           "delivery_service": 5,
           "driver_service": null,
           "product_quality": 5,
           "seller_service": 5
          },
          "display_variation_filter": true,
          "editable": 1,
          "editable_date": 1694339255,
          "exclude_scoring_due_low_logistic": false,
          "filter": 7,
          "follow_up": null,
          "has_template_tag": true,
          "image_data": [
           {
            "cover_image_id": "id-11134103-7qul7-lkauj7dj0rpwcd",
            "image_id": "id-11134103-7qul7-lkauj7dj0rpwcd"
           },
           {
            "cover_image_id": "id-11134103-7qukx-lkauj7dj26ac8a",
            "image_id": "id-11134103-7qukx-lkauj7dj26ac8a"
           }
          ],
          "images": [
           "id-11134103-7qul7-lkauj7dj0rpwcd",
           "id-11134103-7qukx-lkauj7dj26ac8a"
          ],
          "index": 22,
          "is_hidden": false,
          "is_newly_created": null,
          "is_normal_item": true,
          "is_repeat_edited": null,
          "is_repeated_purchase": false,
          "is_super_review": false,
          "item_cart_info": null,
          "itemid": 20282046522,
          "key_media": {
           "key_media_code": 0,
           "key_media_id": ""
          },
          "like_count": 3,
          "liked": null,
          "loyalty_info": {
           "tier_code": 40,
           "tier_text": "Member Platinum",
           "user_tier_badge_background_color": "#55586E",
           "user_tier_badge_text_color": "#FFFFFF",
           "user_tier_badge_url": "https://loyalty.shopee.co.id"
          },
          "mentioned": [],
          "mtime": 1692471242,
          "opt": 2,
          "orderid": 144599972233669,
          "original_item_info": {
           "image": "id-11134207-7qul7-lkge7tzidmbkda",
           "itemid": 20282046522,
           "name": "Official Xiaomi Redmi 12 (8GB/128GB) | (8GB/256GB) MediaTek Helio G88 5000 mAh 18W 90Hz FHD+ 50MP Triple Kamera AI",
           "shopid": 51925611
          },
          "overall_fit": 0,
          "product_items": [
           {
            "image": "id-11134207-7qul7-ljqvpc7vs4rf69",
            "is_snapshot": 1,
            "itemid": 20282046522,
            "model_name": "Polar Silver,8/256 GB",
            "modelid": 39680258935,
            "name": "Official Xiaomi Redmi 12 (8GB/128GB) | (8GB/256GB) MediaTek Helio G88 5000 mAh 18W 90Hz FHD+ 50MP Triple Kamera AI",
            "options": [
             "Polar Silver",
             "8/256 GB"
            ],
            "shopid": 51925611,
            "snapshotid": 10336415615
           }
          ],
          "profile": null,
          "rating": 1,
          "rating_star": 5,
          "region": "ID",
          "shopid": 51925611,
          "show_reply": null,
          "show_super_review_tag": false,
          "show_view": null,
          "sip_info": {
           "is_oversea": false,
           "origin_region": "id"
          },
          "size_info_abt": "",
          "size_info_tags": null,
          "status": 2,
          "super_review_status": 0,
          "super_reviewer_tag": [],
          "sync_to_social": false,
          "sync_to_social_detail": null,
          "sync_to_social_toggle": null,
          "tags": null,
          "template_abt": null,
          "template_hints": null,
          "template_tags": [
           "Sepadan dengan Harga",
           "Fitur Terbaik"
          ],
          "template_tags_hints": null,
          "userid": 349387490,
          "videos": [
           {
            "cover": "https://down-aka-sg.img.susercontent.com/id-11110103-23080-7yj8rbju5kuv8e",
            "cover_image_id": "sg-11134206-7qvej-lkew1d6m36ikce",
            "duration": 11100,
            "highlight": {
             "cover": "https://play-ws.vod.shopee.com/c3/98934353/160/A3oyOcZFALwkSsonIUACAQAn.jpg",
             "cover_image_id": "",
             "duration": 3079,
             "highlight": null,
             "id": "sg-11110160-6jrnv-lkew2e3y1vgyec",
             "mms_ext": "{\"vid\":\"sg-11110160-6jrnv-lkew2e3y1vgyec\",\"biz\":103,\"duration\":3079,\"create_time\":1691991830,\"serviceID\":6,\"cover\":\"https://play-ws.vod.shopee.com/c3/98934353/160/A3oyOcZFALwkSsonIUACAQAn.jpg\",\"cover_list\":null,\"formats\":[],\"default_format\":{\"format\":600001,\"defn\":\"ORI\",\"profile\":\"MP4\",\"path\":\"\",\"url\":\"https://play-ws.vod.shopee.com/c3/98934353/160/A3oyOWXRAFQkSsonIYoCCwAn.mp4\",\"width\":250,\"height\":250,\"bitrate\":228997,\"size\":90034,\"fps\":25,\"duration\":3079,\"update_time\":1691991831},\"extend_formats\":{\"H265\":[{\"format\":1600305,\"defn\":\"V270P\",\"profile\":\"MP4\",\"path\":\"api/v4/11110160/mms/sg-11110160-6jrnv-lkew2e3y1vgyec.16003051691991837.mp4\",\"url\":\"https://play-ws.vod.shopee.com/api/v4/11110160/mms/sg-11110160-6jrnv-lkew2e3y1vgyec.16003051691991837.mp4\",\"width\":250,\"height\":250,\"bitrate\":117321,\"size\":48933,\"fps\":25.32895,\"duration\":3039,\"update_time\":1691991832}]},\"ab_test\":\"\"}",
             "upload_time": null,
             "url": "https://play-ws.vod.shopee.com/c3/98934353/160/A3oyOWXRAFQkSsonIYoCCwAn.mp4"
            },
            "id": "id-11110103-6jt78-lkaujzqlik6xcf",
            "mms_ext": "{\"vid\":\"id-11110103-6jt78-lkaujzqlik6xcf\",\"biz\":103,\"duration\":11100,\"create_time\":1691747168,\"serviceID\":2,\"cover\":\"https://down-aka-sg.img.susercontent.com/id-11110103-23080-7yj8rbju5kuv8e\",\"cover_list\":null,\"formats\":[{\"format\":1600323,\"defn\":\"V540P\",\"profile\":\"MP4\",\"path\":\"api/v4/11110103/mms/id-11110103-6jt78-lkaujzqlik6xcf.default.mp4\",\"url\":\"https://play-ws.vod.shopee.com/api/v4/11110103/mms/id-11110103-6jt78-lkaujzqlik6xcf.default.mp4\",\"width\":540,\"height\":960,\"bitrate\":348512,\"size\":669884,\"fps\":25.08993,\"duration\":11119,\"update_time\":1691747186},{\"format\":1600005,\"defn\":\"V640P\",\"profile\":\"MP4\",\"path\":\"api/v4/11110103/mms/id-11110103-6jt78-lkaujzqlik6xcf.16000051691747170.mp4\",\"url\":\"https://play-ws.vod.shopee.com/api/v4/11110103/mms/id-11110103-6jt78-lkaujzqlik6xcf.16000051691747170.mp4\",\"width\":640,\"height\":1138,\"bitrate\":639661,\"size\":1031840,\"fps\":25.08993,\"duration\":11119,\"update_time\":1691747178}],\"default_format\":{\"format\":600001,\"defn\":\"ORI\",\"profile\":\"MP4\",\"path\":\"\",\"url\":\"https://play-ws.vod.shopee.com/api/v4/11110103/mms/id-11110103-6jt78-lkaujzqlik6xcf.ori.mp4\",\"width\":720,\"height\":1280,\"bitrate\":6101658,\"size\":8659022,\"fps\":21.15271,\"duration\":11100,\"update_time\":1691747170},\"extend_formats\":{\"H265\":[{\"format\":1600304,\"defn\":\"V480P\",\"profile\":\"MP4\",\"path\":\"api/v4/11110103/mms/id-11110103-6jt78-lkaujzqlik6xcf.16003041691780228.mp4\",\"url\":\"https://play-ws.vod.shopee.com/api/v4/11110103/mms/id-11110103-6jt78-lkaujzqlik6xcf.16003041691780228.mp4\",\"width\":480,\"height\":854,\"bitrate\":370213,\"size\":660082,\"fps\":25.08993,\"duration\":11119,\"update_time\":1691780242},{\"format\":1600307,\"defn\":\"V540P\",\"profile\":\"MP4\",\"path\":\"api/v4/11110103/mms/id-11110103-6jt78-lkaujzqlik6xcf.16003071691747179.mp4\",\"url\":\"https://play-ws.vod.shopee.com/api/v4/11110103/mms/id-11110103-6jt78-lkaujzqlik6xcf.16003071691747179.mp4\",\"width\":540,\"height\":960,\"bitrate\":438580,\"size\":798657,\"fps\":25.08993,\"duration\":11119,\"update_time\":1691747197},{\"format\":1600308,\"defn\":\"V640P\",\"profile\":\"MP4\",\"path\":\"api/v4/11110103/mms/id-11110103-6jt78-lkaujzqlik6xcf.16003081691747179.mp4\",\"url\":\"https://play-ws.vod.shopee.com/api/v4/11110103/mms/id-11110103-6jt78-lkaujzqlik6xcf.16003081691747179.mp4\",\"width\":640,\"height\":1138,\"bitrate\":582271,\"size\":998391,\"fps\":25.08993,\"duration\":11119,\"update_time\":1691747198}]},\"ab_test\":\"\"}",
            "upload_time": null,
            "url": "https://play-ws.vod.shopee.com/api/v4/11110103/mms/id-11110103-6jt78-lkaujzqlik6xcf.default.mp4"
           }
          ],
          "viewed": null
         },
         {
          "ItemRatingReply": null,
          "anonymous": false,
          "author_portrait": "2163789e9589f66beeaee41846857b81",
          "author_shopid": 46113724,
          "author_username": "dinirohma611",
          "can_follow_up": null,
          "cmtid": 12331681162,
          "comment": "alhamdulillah hp sudah sampai.. \naman terkendali no minus2.. packing aman.. hp bisa berfungsi dengan baik... awalnya sempet ragu mau beli hp takut gimana2 gitu.. \nehh alhamdulillah nya barang sampai dengan aman dan full utuh... \nkelengkapan nya pun juga oke, dari cas dan printilan nya.. \nTerima kasih..",
          "ctime": 1692468724,
          "delete_operator": null,
          "delete_reason": null,
          "detailed_rating": {
           "delivery_service": 5,
           "driver_service": null,
           "product_quality": 5,
           "seller_service": 5
          },
          "display_variation_filter": true,
          "editable": 1,
          "editable_date": 1695060724,
          "exclude_scoring_due_low_logistic": false,
          "filter": 7,
          "follow_up": null,
          "has_template_tag": false,
          "image_data": [
           {
            "cover_image_id": "id-11134103-7r98o-lkmied1nvqc1c3",
            "image_id": "id-11134103-7r98o-lkmied1nvqc1c3"
           },
           {
            "cover_image_id": "id-11134103-7r98o-lkmied1nx4wh73",
            "image_id": "id-11134103-7r98o-lkmied1nx4wh73"
           }
          ],
          "images": [
           "id-11134103-7r98o-lkmied1nvqc1c3",
           "id-11134103-7r98o-lkmied1nx4wh73"
          ],
          "index": 23,
          "is_hidden": false,
          "is_newly_created": null,
          "is_normal_item": true,
          "is_repeat_edited": null,
          "is_repeated_purchase": false,
          "is_super_review": false,
          "item_cart_info": null,
          "itemid": 20282046522,
          "key_media": {
           "key_media_code": 0,
           "key_media_id": ""
          },
          "like_count": 27,
          "liked": null,
          "loyalty_info": {
           "tier_code": 30,
           "tier_text": "Member Gold",
           "user_tier_badge_background_color": "#E7AE21",
           "user_tier_badge_text_color": "#FFFFFF",
           "user_tier_badge_url": "https://loyalty.shopee.co.id"
          },
          "mentioned": [],
          "mtime": 1693104539,
          "opt": 2,
          "orderid": 145785084209111,
          "original_item_info": {
           "image": "id-11134207-7qul7-lkge7tzidmbkda",
           "itemid": 20282046522,
           "name": "Official Xiaomi Redmi 12 (8GB/128GB) | (8GB/256GB) MediaTek Helio G88 5000 mAh 18W 90Hz FHD+ 50MP Triple Kamera AI",
           "shopid": 51925611
          },
          "overall_fit": 0,
          "product_items": [
           {
            "image": "id-11134207-7qul7-ljqvpc7vs4rf69",
            "is_snapshot": 1,
            "itemid": 20282046522,
            "model_name": "Midnight Black,8/256 GB",
            "modelid": 39680258931,
            "name": "Official Xiaomi Redmi 12 (8GB/128GB) | (8GB/256GB) MediaTek Helio G88 5000 mAh 18W 90Hz FHD+ 50MP Triple Kamera AI",
            "options": [
             "Midnight Black",
             "8/256 GB"
            ],
            "shopid": 51925611,
            "snapshotid": 24353647371
           }
          ],
          "profile": null,
          "rating": 1,
          "rating_star": 5,
          "region": "ID",
          "shopid": 51925611,
          "show_reply": null,
          "show_super_review_tag": false,
          "show_view": null,
          "sip_info": {
           "is_oversea": false,
           "origin_region": "id"
          },
          "size_info_abt": "",
          "size_info_tags": null,
          "status": 2,
          "super_review_status": 0,
          "super_reviewer_tag": [],
          "sync_to_social": false,
          "sync_to_social_detail": null,
          "sync_to_social_toggle": null,
          "tags": null,
          "template_abt": null,
          "template_hints": null,
          "template_tags": [],
          "template_tags_hints": null,
          "userid": 46115110,
          "videos": [
           {
            "cover": "https://down-aka-sg.img.susercontent.com/id-11110103-23080-olulrk2s2wuv03",
            "cover_image_id": "sg-11134206-7rbk0-lkpzl3evo0vl54",
            "duration": 6519,
            "highlight": {
             "cover": "https://play-ws.vod.shopee.com/c3/98934353/160/A3oyOX=2AESseGooEYgFACc.jpg",
             "cover_image_id": "",
             "duration": 3079,
             "highlight": null,
             "id": "sg-11110160-6ke14-lkpzm8x10bxs0d",
             "mms_ext": "{\"vid\":\"sg-11110160-6ke14-lkpzm8x10bxs0d\",\"biz\":103,\"duration\":3079,\"create_time\":1692663680,\"serviceID\":6,\"cover\":\"https://play-ws.vod.shopee.com/c3/98934353/160/A3oyOX=2AESseGooEYgFACc.jpg\",\"cover_list\":null,\"formats\":[],\"default_format\":{\"format\":600001,\"defn\":\"ORI\",\"profile\":\"MP4\",\"path\":\"\",\"url\":\"https://play-ws.vod.shopee.com/c3/98934353/160/A3oyOXf2ALSreGooEYgFACc.mp4\",\"width\":250,\"height\":250,\"bitrate\":294587,\"size\":115250,\"fps\":25,\"duration\":3079,\"update_time\":1692663680},\"extend_formats\":{\"H265\":[{\"format\":1600305,\"defn\":\"V270P\",\"profile\":\"MP4\",\"path\":\"api/v4/11110160/mms/sg-11110160-6ke14-lkpzm8x10bxs0d.16003051692663688.mp4\",\"url\":\"https://play-ws.vod.shopee.com/api/v4/11110160/mms/sg-11110160-6ke14-lkpzm8x10bxs0d.16003051692663688.mp4\",\"width\":250,\"height\":250,\"bitrate\":160452,\"size\":65323,\"fps\":25.32895,\"duration\":3039,\"update_time\":1692663682}]},\"ab_test\":\"\"}",
             "upload_time": null,
             "url": "https://play-ws.vod.shopee.com/c3/98934353/160/A3oyOXf2ALSreGooEYgFACc.mp4"
            },
            "id": "id-11110103-6ke14-lkmrig7hiq7zf2",
            "mms_ext": "{\"vid\":\"id-11110103-6ke14-lkmrig7hiq7zf2\",\"biz\":103,\"duration\":6519,\"create_time\":1692468466,\"serviceID\":2,\"cover\":\"https://down-aka-sg.img.susercontent.com/id-11110103-23080-olulrk2s2wuv03\",\"cover_list\":null,\"formats\":[{\"format\":1600323,\"defn\":\"V540P\",\"profile\":\"MP4\",\"path\":\"api/v4/11110103/mms/id-11110103-6ke14-lkmrig7hiq7zf2.default.mp4\",\"url\":\"https://play-ws.vod.shopee.com/api/v4/11110103/mms/id-11110103-6ke14-lkmrig7hiq7zf2.default.mp4\",\"width\":540,\"height\":960,\"bitrate\":490596,\"size\":506202,\"fps\":25.15432,\"duration\":6480,\"update_time\":1692468491},{\"format\":1600005,\"defn\":\"V640P\",\"profile\":\"MP4\",\"path\":\"api/v4/11110103/mms/id-11110103-6ke14-lkmrig7hiq7zf2.16000051692468469.mp4\",\"url\":\"https://play-ws.vod.shopee.com/api/v4/11110103/mms/id-11110103-6ke14-lkmrig7hiq7zf2.16000051692468469.mp4\",\"width\":640,\"height\":1138,\"bitrate\":834940,\"size\":760176,\"fps\":25.15432,\"duration\":6480,\"update_time\":1692468475}],\"default_format\":{\"format\":600001,\"defn\":\"ORI\",\"profile\":\"MP4\",\"path\":\"\",\"url\":\"https://play-ws.vod.shopee.com/api/v4/11110103/mms/id-11110103-6ke14-lkmrig7hiq7zf2.ori.mp4\",\"width\":720,\"height\":1280,\"bitrate\":6189054,\"size\":5154280,\"fps\":29.59484,\"duration\":6519,\"update_time\":1692468469},\"extend_formats\":{\"H265\":[{\"format\":1600307,\"defn\":\"V540P\",\"profile\":\"MP4\",\"path\":\"api/v4/11110103/mms/id-11110103-6ke14-lkmrig7hiq7zf2.16003071692558778.mp4\",\"url\":\"https://play-ws.vod.shopee.com/api/v4/11110103/mms/id-11110103-6ke14-lkmrig7hiq7zf2.16003071692558778.mp4\",\"width\":540,\"height\":960,\"bitrate\":586187,\"size\":586670,\"fps\":25.15432,\"duration\":6480,\"update_time\":1692558788},{\"format\":1600308,\"defn\":\"V640P\",\"profile\":\"MP4\",\"path\":\"api/v4/11110103/mms/id-11110103-6ke14-lkmrig7hiq7zf2.16003081692468487.mp4\",\"url\":\"https://play-ws.vod.shopee.com/api/v4/11110103/mms/id-11110103-6ke14-lkmrig7hiq7zf2.16003081692468487.mp4\",\"width\":640,\"height\":1138,\"bitrate\":753923,\"size\":722539,\"fps\":25.15432,\"duration\":6480,\"update_time\":1692468499}]},\"ab_test\":\"\"}",
            "upload_time": null,
            "url": "https://play-ws.vod.shopee.com/api/v4/11110103/mms/id-11110103-6ke14-lkmrig7hiq7zf2.default.mp4"
           }
          ],
          "viewed": null
         },
         {
          "ItemRatingReply": null,
          "anonymous": false,
          "author_portrait": "6a9c94f1ee11bb84f194cd816973da87",
          "author_shopid": 87257922,
          "author_username": "ellindalindoo",
          "can_follow_up": null,
          "cmtid": 12199606794,
          "comment": "ipengiriman cepat\nProduk original dan harga sangat bersahabat\nTerimakasih\nSemoga awet ga bikin panas",
          "ctime": 1691387364,
          "delete_operator": null,
          "delete_reason": null,
          "detailed_rating": {
           "delivery_service": 5,
           "driver_service": null,
           "product_quality": 5,
           "seller_service": 5
          },
          "display_variation_filter": true,
          "editable": 1,
          "editable_date": 1693979364,
          "exclude_scoring_due_low_logistic": false,
          "filter": 7,
          "follow_up": null,
          "has_template_tag": false,
          "image_data": [
           {
            "cover_image_id": "id-11134103-7qul2-lk4wh2hcwl3j30",
            "image_id": "id-11134103-7qul2-lk4wh2hcwl3j30"
           },
           {
            "cover_image_id": "id-11134103-7qul1-lk4wh2hcxznz65",
            "image_id": "id-11134103-7qul1-lk4wh2hcxznz65"
           },
           {
            "cover_image_id": "id-11134103-7qul2-lk4wh95d5d8j53",
            "image_id": "id-11134103-7qul2-lk4wh95d5d8j53"
           },
           {
            "cover_image_id": "id-11134103-7qul2-lk4wh95d6rszb9",
            "image_id": "id-11134103-7qul2-lk4wh95d6rszb9"
           },
           {
            "cover_image_id": "id-11134103-7qul1-lk4wjoqqyriwff",
            "image_id": "id-11134103-7qul1-lk4wjoqqyriwff"
           }
          ],
          "images": [
           "id-11134103-7qul2-lk4wh2hcwl3j30",
           "id-11134103-7qul1-lk4wh2hcxznz65",
           "id-11134103-7qul2-lk4wh95d5d8j53",
           "id-11134103-7qul2-lk4wh95d6rszb9",
           "id-11134103-7qul1-lk4wjoqqyriwff"
          ],
          "index": 24,
          "is_hidden": false,
          "is_newly_created": null,
          "is_normal_item": true,
          "is_repeat_edited": null,
          "is_repeated_purchase": false,
          "is_super_review": false,
          "item_cart_info": null,
          "itemid": 20282046522,
          "key_media": {
           "key_media_code": 0,
           "key_media_id": ""
          },
          "like_count": 3,
          "liked": null,
          "loyalty_info": {
           "tier_code": 40,
           "tier_text": "Member Platinum",
           "user_tier_badge_background_color": "#55586E",
           "user_tier_badge_text_color": "#FFFFFF",
           "user_tier_badge_url": "https://loyalty.shopee.co.id"
          },
          "mentioned": [],
          "mtime": 1692541024,
          "opt": 2,
          "orderid": 144849145252911,
          "original_item_info": {
           "image": "id-11134207-7qul7-lkge7tzidmbkda",
           "itemid": 20282046522,
           "name": "Official Xiaomi Redmi 12 (8GB/128GB) | (8GB/256GB) MediaTek Helio G88 5000 mAh 18W 90Hz FHD+ 50MP Triple Kamera AI",
           "shopid": 51925611
          },
          "overall_fit": 0,
          "product_items": [
           {
            "image": "id-11134207-7qul7-ljqvpc7vs4rf69",
            "is_snapshot": 1,
            "itemid": 20282046522,
            "model_name": "Midnight Black,8/256 GB",
            "modelid": 39680258931,
            "name": "Official Xiaomi Redmi 12 (8GB/128GB) | (8GB/256GB) MediaTek Helio G88 5000 mAh 18W 90Hz FHD+ 50MP Triple Kamera AI",
            "options": [
             "Midnight Black",
             "8/256 GB"
            ],
            "shopid": 51925611,
            "snapshotid": 13339447130
           }
          ],
          "profile": null,
          "rating": 1,
          "rating_star": 5,
          "region": "ID",
          "shopid": 51925611,
          "show_reply": null,
          "show_super_review_tag": false,
          "show_view": null,
          "sip_info": {
           "is_oversea": false,
           "origin_region": "id"
          },
          "size_info_abt": "",
          "size_info_tags": null,
          "status": 2,
          "super_review_status": 0,
          "super_reviewer_tag": [],
          "sync_to_social": false,
          "sync_to_social_detail": null,
          "sync_to_social_toggle": null,
          "tags": null,
          "template_abt": null,
          "template_hints": null,
          "template_tags": [],
          "template_tags_hints": null,
          "userid": 87259400,
          "videos": [
           {
            "cover": "https://down-aka-sg.img.susercontent.com/id-11110103-23080-i5x56t5r7euvc3",
            "cover_image_id": "sg-11134206-7qver-lk5zkypksiafff",
            "duration": 5943,
            "highlight": {
             "cover": "https://play-ws.vod.shopee.com/c3/98934353/160/A3oyOSf2AASg1UknIRgBCQAn.jpg",
             "cover_image_id": "",
             "duration": 3079,
             "highlight": null,
             "id": "sg-11110160-6jrpd-lk5znhq5hepj57",
             "mms_ext": "{\"vid\":\"sg-11110160-6jrpd-lk5znhq5hepj57\",\"biz\":103,\"duration\":3079,\"create_time\":1691453051,\"serviceID\":6,\"cover\":\"https://play-ws.vod.shopee.com/c3/98934353/160/A3oyOSf2AASg1UknIRgBCQAn.jpg\",\"cover_list\":null,\"formats\":[],\"default_format\":{\"format\":600001,\"defn\":\"ORI\",\"profile\":\"MP4\",\"path\":\"\",\"url\":\"https://play-ws.vod.shopee.com/c3/98934353/160/A3oyOSX2AJyf1UknIRgBCQAn.mp4\",\"width\":250,\"height\":250,\"bitrate\":217571,\"size\":85540,\"fps\":25,\"duration\":3079,\"update_time\":1691453052},\"extend_formats\":{\"H265\":[{\"format\":1600305,\"defn\":\"V270P\",\"profile\":\"MP4\",\"path\":\"api/v4/11110160/mms/sg-11110160-6jrpd-lk5znhq5hepj57.16003051691453058.mp4\",\"url\":\"https://play-ws.vod.shopee.com/api/v4/11110160/mms/sg-11110160-6jrpd-lk5znhq5hepj57.16003051691453058.mp4\",\"width\":250,\"height\":250,\"bitrate\":113481,\"size\":47474,\"fps\":25.32895,\"duration\":3039,\"update_time\":1691453054}]},\"ab_test\":\"\"}",
             "upload_time": null,
             "url": "https://play-ws.vod.shopee.com/c3/98934353/160/A3oyOSX2AJyf1UknIRgBCQAn.mp4"
            },
            "id": "id-11110103-6jt7k-lk4wgxc0ft94bc",
            "mms_ext": "{\"vid\":\"id-11110103-6jt7k-lk4wgxc0ft94bc\",\"biz\":103,\"duration\":5943,\"create_time\":1691387211,\"serviceID\":2,\"cover\":\"https://down-aka-sg.img.susercontent.com/id-11110103-23080-i5x56t5r7euvc3\",\"cover_list\":null,\"formats\":[{\"format\":1600046,\"defn\":\"V480P\",\"profile\":\"MP4\",\"path\":\"api/v4/11110103/mms/id-11110103-6jt7k-lk4wgxc0ft94bc.16000461691387220.mp4\",\"url\":\"https://play-ws.vod.shopee.com/api/v4/11110103/mms/id-11110103-6jt7k-lk4wgxc0ft94bc.16000461691387220.mp4\",\"width\":480,\"height\":854,\"bitrate\":497695,\"size\":446397,\"fps\":25.16892,\"duration\":5973,\"update_time\":1691387224},{\"format\":1600005,\"defn\":\"V640P\",\"profile\":\"MP4\",\"path\":\"api/v4/11110103/mms/id-11110103-6jt7k-lk4wgxc0ft94bc.16000051691387214.mp4\",\"url\":\"https://play-ws.vod.shopee.com/api/v4/11110103/mms/id-11110103-6jt7k-lk4wgxc0ft94bc.16000051691387214.mp4\",\"width\":640,\"height\":1138,\"bitrate\":654145,\"size\":562573,\"fps\":25.16892,\"duration\":5967,\"update_time\":1691387219}],\"default_format\":{\"format\":600001,\"defn\":\"ORI\",\"profile\":\"MP4\",\"path\":\"\",\"url\":\"https://play-ws.vod.shopee.com/api/v4/11110103/mms/id-11110103-6jt7k-lk4wgxc0ft94bc.ori.mp4\",\"width\":720,\"height\":1280,\"bitrate\":6295660,\"size\":4778303,\"fps\":29.82902,\"duration\":5943,\"update_time\":1691387214},\"extend_formats\":{\"H265\":[{\"format\":1600304,\"defn\":\"V480P\",\"profile\":\"MP4\",\"path\":\"api/v4/11110103/mms/id-11110103-6jt7k-lk4wgxc0ft94bc.16003041691387220.mp4\",\"url\":\"https://play-ws.vod.shopee.com/api/v4/11110103/mms/id-11110103-6jt7k-lk4wgxc0ft94bc.16003041691387220.mp4\",\"width\":480,\"height\":854,\"bitrate\":432735,\"size\":401365,\"fps\":25.16892,\"duration\":5967,\"update_time\":1691387228},{\"format\":1600308,\"defn\":\"V640P\",\"profile\":\"MP4\",\"path\":\"api/v4/11110103/mms/id-11110103-6jt7k-lk4wgxc0ft94bc.16003081691387220.mp4\",\"url\":\"https://play-ws.vod.shopee.com/api/v4/11110103/mms/id-11110103-6jt7k-lk4wgxc0ft94bc.16003081691387220.mp4\",\"width\":640,\"height\":1138,\"bitrate\":642933,\"size\":561178,\"fps\":25.16892,\"duration\":5967,\"update_time\":1691387230}]},\"ab_test\":\"\"}",
            "upload_time": null,
            "url": "https://play-ws.vod.shopee.com/api/v4/11110103/mms/id-11110103-6jt7k-lk4wgxc0ft94bc.16000461691387220.mp4"
           }
          ],
          "viewed": null
         }
        ],
        "schema": {
         "fields": [
          {
           "name": "index",
           "type": "integer"
          },
          {
           "name": "orderid",
           "type": "integer"
          },
          {
           "name": "itemid",
           "type": "integer"
          },
          {
           "name": "cmtid",
           "type": "integer"
          },
          {
           "name": "ctime",
           "type": "integer"
          },
          {
           "name": "rating",
           "type": "integer"
          },
          {
           "name": "userid",
           "type": "integer"
          },
          {
           "name": "shopid",
           "type": "integer"
          },
          {
           "name": "comment",
           "type": "string"
          },
          {
           "name": "rating_star",
           "type": "integer"
          },
          {
           "name": "status",
           "type": "integer"
          },
          {
           "name": "mtime",
           "type": "integer"
          },
          {
           "name": "editable",
           "type": "integer"
          },
          {
           "name": "opt",
           "type": "integer"
          },
          {
           "name": "filter",
           "type": "integer"
          },
          {
           "name": "mentioned",
           "type": "string"
          },
          {
           "name": "is_hidden",
           "type": "boolean"
          },
          {
           "name": "can_follow_up",
           "type": "string"
          },
          {
           "name": "follow_up",
           "type": "string"
          },
          {
           "name": "author_username",
           "type": "string"
          },
          {
           "name": "author_portrait",
           "type": "string"
          },
          {
           "name": "author_shopid",
           "type": "integer"
          },
          {
           "name": "anonymous",
           "type": "boolean"
          },
          {
           "name": "images",
           "type": "string"
          },
          {
           "name": "videos",
           "type": "string"
          },
          {
           "name": "product_items",
           "type": "string"
          },
          {
           "name": "delete_reason",
           "type": "string"
          },
          {
           "name": "delete_operator",
           "type": "string"
          },
          {
           "name": "ItemRatingReply",
           "type": "string"
          },
          {
           "name": "tags",
           "type": "string"
          },
          {
           "name": "editable_date",
           "type": "integer"
          },
          {
           "name": "show_reply",
           "type": "string"
          },
          {
           "name": "like_count",
           "type": "number"
          },
          {
           "name": "liked",
           "type": "string"
          },
          {
           "name": "sync_to_social",
           "type": "boolean"
          },
          {
           "name": "detailed_rating",
           "type": "string"
          },
          {
           "name": "exclude_scoring_due_low_logistic",
           "type": "boolean"
          },
          {
           "name": "loyalty_info",
           "type": "string"
          },
          {
           "name": "template_tags",
           "type": "string"
          },
          {
           "name": "has_template_tag",
           "type": "boolean"
          },
          {
           "name": "sync_to_social_toggle",
           "type": "string"
          },
          {
           "name": "sip_info",
           "type": "string"
          },
          {
           "name": "is_repeated_purchase",
           "type": "boolean"
          },
          {
           "name": "display_variation_filter",
           "type": "boolean"
          },
          {
           "name": "overall_fit",
           "type": "integer"
          },
          {
           "name": "is_normal_item",
           "type": "boolean"
          },
          {
           "name": "viewed",
           "type": "string"
          },
          {
           "name": "show_view",
           "type": "string"
          },
          {
           "name": "sync_to_social_detail",
           "type": "string"
          },
          {
           "name": "profile",
           "type": "string"
          },
          {
           "name": "size_info_tags",
           "type": "string"
          },
          {
           "name": "size_info_abt",
           "type": "string"
          },
          {
           "name": "image_data",
           "type": "string"
          },
          {
           "name": "key_media",
           "type": "string"
          },
          {
           "name": "is_super_review",
           "type": "boolean"
          },
          {
           "name": "super_reviewer_tag",
           "type": "string"
          },
          {
           "name": "is_newly_created",
           "type": "string"
          },
          {
           "name": "template_hints",
           "type": "string"
          },
          {
           "name": "template_tags_hints",
           "type": "string"
          },
          {
           "name": "region",
           "type": "string"
          },
          {
           "name": "original_item_info",
           "type": "string"
          },
          {
           "name": "template_abt",
           "type": "string"
          },
          {
           "name": "is_repeat_edited",
           "type": "string"
          },
          {
           "name": "show_super_review_tag",
           "type": "boolean"
          },
          {
           "name": "super_review_status",
           "type": "integer"
          },
          {
           "name": "item_cart_info",
           "type": "string"
          }
         ],
         "pandas_version": "1.4.0",
         "primaryKey": [
          "index"
         ]
        }
       },
       "total_rows": 25,
       "truncation_type": null
      },
      "text/html": [
       "<div>\n",
       "<style scoped>\n",
       "    .dataframe tbody tr th:only-of-type {\n",
       "        vertical-align: middle;\n",
       "    }\n",
       "\n",
       "    .dataframe tbody tr th {\n",
       "        vertical-align: top;\n",
       "    }\n",
       "\n",
       "    .dataframe thead th {\n",
       "        text-align: right;\n",
       "    }\n",
       "</style>\n",
       "<table border=\"1\" class=\"dataframe\">\n",
       "  <thead>\n",
       "    <tr style=\"text-align: right;\">\n",
       "      <th></th>\n",
       "      <th>orderid</th>\n",
       "      <th>itemid</th>\n",
       "      <th>cmtid</th>\n",
       "      <th>ctime</th>\n",
       "      <th>rating</th>\n",
       "      <th>userid</th>\n",
       "      <th>shopid</th>\n",
       "      <th>comment</th>\n",
       "      <th>rating_star</th>\n",
       "      <th>status</th>\n",
       "      <th>mtime</th>\n",
       "      <th>editable</th>\n",
       "      <th>opt</th>\n",
       "      <th>filter</th>\n",
       "      <th>mentioned</th>\n",
       "      <th>is_hidden</th>\n",
       "      <th>can_follow_up</th>\n",
       "      <th>follow_up</th>\n",
       "      <th>author_username</th>\n",
       "      <th>author_portrait</th>\n",
       "      <th>author_shopid</th>\n",
       "      <th>anonymous</th>\n",
       "      <th>images</th>\n",
       "      <th>videos</th>\n",
       "      <th>product_items</th>\n",
       "      <th>delete_reason</th>\n",
       "      <th>delete_operator</th>\n",
       "      <th>ItemRatingReply</th>\n",
       "      <th>tags</th>\n",
       "      <th>editable_date</th>\n",
       "      <th>show_reply</th>\n",
       "      <th>like_count</th>\n",
       "      <th>liked</th>\n",
       "      <th>sync_to_social</th>\n",
       "      <th>detailed_rating</th>\n",
       "      <th>exclude_scoring_due_low_logistic</th>\n",
       "      <th>loyalty_info</th>\n",
       "      <th>template_tags</th>\n",
       "      <th>has_template_tag</th>\n",
       "      <th>sync_to_social_toggle</th>\n",
       "      <th>sip_info</th>\n",
       "      <th>is_repeated_purchase</th>\n",
       "      <th>display_variation_filter</th>\n",
       "      <th>overall_fit</th>\n",
       "      <th>is_normal_item</th>\n",
       "      <th>viewed</th>\n",
       "      <th>show_view</th>\n",
       "      <th>sync_to_social_detail</th>\n",
       "      <th>profile</th>\n",
       "      <th>size_info_tags</th>\n",
       "      <th>size_info_abt</th>\n",
       "      <th>image_data</th>\n",
       "      <th>key_media</th>\n",
       "      <th>is_super_review</th>\n",
       "      <th>super_reviewer_tag</th>\n",
       "      <th>is_newly_created</th>\n",
       "      <th>template_hints</th>\n",
       "      <th>template_tags_hints</th>\n",
       "      <th>region</th>\n",
       "      <th>original_item_info</th>\n",
       "      <th>template_abt</th>\n",
       "      <th>is_repeat_edited</th>\n",
       "      <th>show_super_review_tag</th>\n",
       "      <th>super_review_status</th>\n",
       "      <th>item_cart_info</th>\n",
       "    </tr>\n",
       "  </thead>\n",
       "  <tbody>\n",
       "    <tr>\n",
       "      <th>0</th>\n",
       "      <td>145389818291449</td>\n",
       "      <td>20282046522</td>\n",
       "      <td>12334513190</td>\n",
       "      <td>1692509692</td>\n",
       "      <td>1</td>\n",
       "      <td>155102263</td>\n",
       "      <td>51925611</td>\n",
       "      <td>Sepadan dengan Harga:YA\\nFitur Terbaik:Kapasit...</td>\n",
       "      <td>5</td>\n",
       "      <td>2</td>\n",
       "      <td>1693114045</td>\n",
       "      <td>1</td>\n",
       "      <td>2</td>\n",
       "      <td>7</td>\n",
       "      <td>[]</td>\n",
       "      <td>False</td>\n",
       "      <td>None</td>\n",
       "      <td>None</td>\n",
       "      <td>virjinki14</td>\n",
       "      <td>13dfd76373ea09e4de0b84277419014e</td>\n",
       "      <td>155100340</td>\n",
       "      <td>False</td>\n",
       "      <td>[id-11134103-7r98o-lknfa025o01be4, id-11134103...</td>\n",
       "      <td>[{'id': 'id-11110103-6ke14-lknf8bvfqqfd32', 'c...</td>\n",
       "      <td>[{'itemid': 20282046522, 'shopid': 51925611, '...</td>\n",
       "      <td>None</td>\n",
       "      <td>None</td>\n",
       "      <td>None</td>\n",
       "      <td>None</td>\n",
       "      <td>1695101692</td>\n",
       "      <td>None</td>\n",
       "      <td>155.0</td>\n",
       "      <td>None</td>\n",
       "      <td>False</td>\n",
       "      <td>{'product_quality': 5, 'seller_service': 5, 'd...</td>\n",
       "      <td>False</td>\n",
       "      <td>{'tier_code': 30, 'user_tier_badge_url': 'http...</td>\n",
       "      <td>[Sepadan dengan Harga, Fitur Terbaik]</td>\n",
       "      <td>True</td>\n",
       "      <td>None</td>\n",
       "      <td>{'is_oversea': False, 'origin_region': 'id'}</td>\n",
       "      <td>False</td>\n",
       "      <td>True</td>\n",
       "      <td>0</td>\n",
       "      <td>True</td>\n",
       "      <td>None</td>\n",
       "      <td>None</td>\n",
       "      <td>None</td>\n",
       "      <td>None</td>\n",
       "      <td>None</td>\n",
       "      <td></td>\n",
       "      <td>[{'image_id': 'id-11134103-7r98o-lknfa025o01be...</td>\n",
       "      <td>{'key_media_code': 0, 'key_media_id': ''}</td>\n",
       "      <td>False</td>\n",
       "      <td>[]</td>\n",
       "      <td>None</td>\n",
       "      <td>None</td>\n",
       "      <td>None</td>\n",
       "      <td>ID</td>\n",
       "      <td>{'itemid': 20282046522, 'shopid': 51925611, 'n...</td>\n",
       "      <td>None</td>\n",
       "      <td>None</td>\n",
       "      <td>False</td>\n",
       "      <td>0</td>\n",
       "      <td>None</td>\n",
       "    </tr>\n",
       "    <tr>\n",
       "      <th>1</th>\n",
       "      <td>145272354210475</td>\n",
       "      <td>20282046522</td>\n",
       "      <td>12271698548</td>\n",
       "      <td>1691947017</td>\n",
       "      <td>1</td>\n",
       "      <td>569480333</td>\n",
       "      <td>51925611</td>\n",
       "      <td>Sepadan dengan Harga:sepadan\\nFitur Terbaik:ra...</td>\n",
       "      <td>5</td>\n",
       "      <td>2</td>\n",
       "      <td>1693093707</td>\n",
       "      <td>1</td>\n",
       "      <td>2</td>\n",
       "      <td>7</td>\n",
       "      <td>[]</td>\n",
       "      <td>False</td>\n",
       "      <td>None</td>\n",
       "      <td>None</td>\n",
       "      <td>setiawan_custom</td>\n",
       "      <td>2c79f847f9d74ec3e9efc929137b8aaf</td>\n",
       "      <td>569460748</td>\n",
       "      <td>False</td>\n",
       "      <td>[id-11134103-7qul4-lke58bhicswkaf, id-11134103...</td>\n",
       "      <td>[{'id': 'id-11110103-6jt7g-lke5a66oqydwa3', 'c...</td>\n",
       "      <td>[{'itemid': 20282046522, 'shopid': 51925611, '...</td>\n",
       "      <td>None</td>\n",
       "      <td>None</td>\n",
       "      <td>None</td>\n",
       "      <td>None</td>\n",
       "      <td>1694539017</td>\n",
       "      <td>None</td>\n",
       "      <td>58.0</td>\n",
       "      <td>None</td>\n",
       "      <td>False</td>\n",
       "      <td>{'product_quality': 5, 'seller_service': 5, 'd...</td>\n",
       "      <td>False</td>\n",
       "      <td>{'tier_code': 20, 'user_tier_badge_url': 'http...</td>\n",
       "      <td>[Sepadan dengan Harga, Fitur Terbaik]</td>\n",
       "      <td>True</td>\n",
       "      <td>None</td>\n",
       "      <td>{'is_oversea': False, 'origin_region': 'id'}</td>\n",
       "      <td>False</td>\n",
       "      <td>True</td>\n",
       "      <td>0</td>\n",
       "      <td>True</td>\n",
       "      <td>None</td>\n",
       "      <td>None</td>\n",
       "      <td>None</td>\n",
       "      <td>None</td>\n",
       "      <td>None</td>\n",
       "      <td></td>\n",
       "      <td>[{'image_id': 'id-11134103-7qul4-lke58bhicswka...</td>\n",
       "      <td>{'key_media_code': 0, 'key_media_id': ''}</td>\n",
       "      <td>False</td>\n",
       "      <td>[]</td>\n",
       "      <td>None</td>\n",
       "      <td>None</td>\n",
       "      <td>None</td>\n",
       "      <td>ID</td>\n",
       "      <td>{'itemid': 20282046522, 'shopid': 51925611, 'n...</td>\n",
       "      <td>None</td>\n",
       "      <td>None</td>\n",
       "      <td>False</td>\n",
       "      <td>0</td>\n",
       "      <td>None</td>\n",
       "    </tr>\n",
       "    <tr>\n",
       "      <th>2</th>\n",
       "      <td>146328248260133</td>\n",
       "      <td>20282046522</td>\n",
       "      <td>12364921975</td>\n",
       "      <td>1692784620</td>\n",
       "      <td>1</td>\n",
       "      <td>552508547</td>\n",
       "      <td>51925611</td>\n",
       "      <td>Fitur Terbaik:penyimpanan besar\\nSepadan denga...</td>\n",
       "      <td>5</td>\n",
       "      <td>2</td>\n",
       "      <td>1693112906</td>\n",
       "      <td>1</td>\n",
       "      <td>2</td>\n",
       "      <td>7</td>\n",
       "      <td>[]</td>\n",
       "      <td>False</td>\n",
       "      <td>None</td>\n",
       "      <td>None</td>\n",
       "      <td>fitrianingsihfitrianings649</td>\n",
       "      <td>id-11134233-7r98o-lkujgg0qar5u1d</td>\n",
       "      <td>552488966</td>\n",
       "      <td>False</td>\n",
       "      <td>[id-11134103-7r98o-lkrzfc6w3klfe6, id-11134103...</td>\n",
       "      <td>[{'id': 'id-11110103-6ke14-lkrzgpplmscqfe', 'c...</td>\n",
       "      <td>[{'itemid': 20282046522, 'shopid': 51925611, '...</td>\n",
       "      <td>None</td>\n",
       "      <td>None</td>\n",
       "      <td>None</td>\n",
       "      <td>None</td>\n",
       "      <td>1695376620</td>\n",
       "      <td>None</td>\n",
       "      <td>17.0</td>\n",
       "      <td>None</td>\n",
       "      <td>False</td>\n",
       "      <td>{'product_quality': 5, 'seller_service': 5, 'd...</td>\n",
       "      <td>False</td>\n",
       "      <td>{'tier_code': 30, 'user_tier_badge_url': 'http...</td>\n",
       "      <td>[Fitur Terbaik, Sepadan dengan Harga]</td>\n",
       "      <td>True</td>\n",
       "      <td>None</td>\n",
       "      <td>{'is_oversea': False, 'origin_region': 'id'}</td>\n",
       "      <td>False</td>\n",
       "      <td>True</td>\n",
       "      <td>0</td>\n",
       "      <td>True</td>\n",
       "      <td>None</td>\n",
       "      <td>None</td>\n",
       "      <td>None</td>\n",
       "      <td>None</td>\n",
       "      <td>None</td>\n",
       "      <td></td>\n",
       "      <td>[{'image_id': 'id-11134103-7r98o-lkrzfc6w3klfe...</td>\n",
       "      <td>{'key_media_code': 0, 'key_media_id': ''}</td>\n",
       "      <td>False</td>\n",
       "      <td>[]</td>\n",
       "      <td>None</td>\n",
       "      <td>None</td>\n",
       "      <td>None</td>\n",
       "      <td>ID</td>\n",
       "      <td>{'itemid': 20282046522, 'shopid': 51925611, 'n...</td>\n",
       "      <td>None</td>\n",
       "      <td>None</td>\n",
       "      <td>False</td>\n",
       "      <td>0</td>\n",
       "      <td>None</td>\n",
       "    </tr>\n",
       "    <tr>\n",
       "      <th>3</th>\n",
       "      <td>145018472253232</td>\n",
       "      <td>20282046522</td>\n",
       "      <td>12236929079</td>\n",
       "      <td>1691675285</td>\n",
       "      <td>1</td>\n",
       "      <td>45047786</td>\n",
       "      <td>51925611</td>\n",
       "      <td>Sepadan dengan Harga:barang sampai dengan sela...</td>\n",
       "      <td>5</td>\n",
       "      <td>2</td>\n",
       "      <td>1693103502</td>\n",
       "      <td>1</td>\n",
       "      <td>2</td>\n",
       "      <td>7</td>\n",
       "      <td>[]</td>\n",
       "      <td>False</td>\n",
       "      <td>None</td>\n",
       "      <td>None</td>\n",
       "      <td>n*****i</td>\n",
       "      <td>5bb2847561b25caa836d3d672d02089b</td>\n",
       "      <td>45046400</td>\n",
       "      <td>True</td>\n",
       "      <td>[id-11134103-7qul5-lk9nrep4176hd4, id-11134103...</td>\n",
       "      <td>[{'id': 'id-11110103-6jt7b-lk9nqpveshuc79', 'c...</td>\n",
       "      <td>[{'itemid': 20282046522, 'shopid': 51925611, '...</td>\n",
       "      <td>None</td>\n",
       "      <td>None</td>\n",
       "      <td>None</td>\n",
       "      <td>None</td>\n",
       "      <td>1694267285</td>\n",
       "      <td>None</td>\n",
       "      <td>40.0</td>\n",
       "      <td>None</td>\n",
       "      <td>False</td>\n",
       "      <td>{'product_quality': 5, 'seller_service': 5, 'd...</td>\n",
       "      <td>False</td>\n",
       "      <td>{'tier_code': 30, 'user_tier_badge_url': 'http...</td>\n",
       "      <td>[Sepadan dengan Harga, Fitur Terbaik]</td>\n",
       "      <td>True</td>\n",
       "      <td>None</td>\n",
       "      <td>{'is_oversea': False, 'origin_region': 'id'}</td>\n",
       "      <td>False</td>\n",
       "      <td>True</td>\n",
       "      <td>0</td>\n",
       "      <td>True</td>\n",
       "      <td>None</td>\n",
       "      <td>None</td>\n",
       "      <td>None</td>\n",
       "      <td>None</td>\n",
       "      <td>None</td>\n",
       "      <td></td>\n",
       "      <td>[{'image_id': 'id-11134103-7qul5-lk9nrep4176hd...</td>\n",
       "      <td>{'key_media_code': 0, 'key_media_id': ''}</td>\n",
       "      <td>False</td>\n",
       "      <td>[]</td>\n",
       "      <td>None</td>\n",
       "      <td>None</td>\n",
       "      <td>None</td>\n",
       "      <td>ID</td>\n",
       "      <td>{'itemid': 20282046522, 'shopid': 51925611, 'n...</td>\n",
       "      <td>None</td>\n",
       "      <td>None</td>\n",
       "      <td>False</td>\n",
       "      <td>0</td>\n",
       "      <td>None</td>\n",
       "    </tr>\n",
       "    <tr>\n",
       "      <th>4</th>\n",
       "      <td>144902339237858</td>\n",
       "      <td>20282046522</td>\n",
       "      <td>12213849243</td>\n",
       "      <td>1691497024</td>\n",
       "      <td>1</td>\n",
       "      <td>864071948</td>\n",
       "      <td>51925611</td>\n",
       "      <td>Sepadan dengan Harga:Kualitas dan harga worth ...</td>\n",
       "      <td>5</td>\n",
       "      <td>2</td>\n",
       "      <td>1693115644</td>\n",
       "      <td>1</td>\n",
       "      <td>2</td>\n",
       "      <td>7</td>\n",
       "      <td>[]</td>\n",
       "      <td>False</td>\n",
       "      <td>None</td>\n",
       "      <td>None</td>\n",
       "      <td>nurbagusm6</td>\n",
       "      <td></td>\n",
       "      <td>864052692</td>\n",
       "      <td>False</td>\n",
       "      <td>[id-11134103-7qula-lk6pqbs64de7ba, id-11134103...</td>\n",
       "      <td>[{'id': 'id-11110103-6jt79-lk6pqzjlcjz68c', 'c...</td>\n",
       "      <td>[{'itemid': 20282046522, 'shopid': 51925611, '...</td>\n",
       "      <td>None</td>\n",
       "      <td>None</td>\n",
       "      <td>None</td>\n",
       "      <td>None</td>\n",
       "      <td>1694089024</td>\n",
       "      <td>None</td>\n",
       "      <td>35.0</td>\n",
       "      <td>None</td>\n",
       "      <td>False</td>\n",
       "      <td>{'product_quality': 5, 'seller_service': 5, 'd...</td>\n",
       "      <td>False</td>\n",
       "      <td>{'tier_code': 30, 'user_tier_badge_url': 'http...</td>\n",
       "      <td>[Sepadan dengan Harga, Fitur Terbaik]</td>\n",
       "      <td>True</td>\n",
       "      <td>None</td>\n",
       "      <td>{'is_oversea': False, 'origin_region': 'id'}</td>\n",
       "      <td>False</td>\n",
       "      <td>True</td>\n",
       "      <td>0</td>\n",
       "      <td>True</td>\n",
       "      <td>None</td>\n",
       "      <td>None</td>\n",
       "      <td>None</td>\n",
       "      <td>None</td>\n",
       "      <td>None</td>\n",
       "      <td></td>\n",
       "      <td>[{'image_id': 'id-11134103-7qula-lk6pqbs64de7b...</td>\n",
       "      <td>{'key_media_code': 0, 'key_media_id': ''}</td>\n",
       "      <td>False</td>\n",
       "      <td>[]</td>\n",
       "      <td>None</td>\n",
       "      <td>None</td>\n",
       "      <td>None</td>\n",
       "      <td>ID</td>\n",
       "      <td>{'itemid': 20282046522, 'shopid': 51925611, 'n...</td>\n",
       "      <td>None</td>\n",
       "      <td>None</td>\n",
       "      <td>False</td>\n",
       "      <td>0</td>\n",
       "      <td>None</td>\n",
       "    </tr>\n",
       "    <tr>\n",
       "      <th>5</th>\n",
       "      <td>145459660283119</td>\n",
       "      <td>20282046522</td>\n",
       "      <td>12280161295</td>\n",
       "      <td>1692015592</td>\n",
       "      <td>1</td>\n",
       "      <td>142988162</td>\n",
       "      <td>51925611</td>\n",
       "      <td>Fitur Terbaik:Kamera\\nSepadan dengan Harga:Iya...</td>\n",
       "      <td>5</td>\n",
       "      <td>2</td>\n",
       "      <td>1692940100</td>\n",
       "      <td>1</td>\n",
       "      <td>2</td>\n",
       "      <td>7</td>\n",
       "      <td>[]</td>\n",
       "      <td>False</td>\n",
       "      <td>None</td>\n",
       "      <td>None</td>\n",
       "      <td>y*****p</td>\n",
       "      <td>fe28e440dab814d3a81dfe8b6d94115c</td>\n",
       "      <td>142986338</td>\n",
       "      <td>True</td>\n",
       "      <td>[id-11134103-7qul9-lkfa0siurwdydf, id-11134103...</td>\n",
       "      <td>[{'id': 'id-11110103-6jt7n-lkfa3a1lrsm176', 'c...</td>\n",
       "      <td>[{'itemid': 20282046522, 'shopid': 51925611, '...</td>\n",
       "      <td>None</td>\n",
       "      <td>None</td>\n",
       "      <td>None</td>\n",
       "      <td>None</td>\n",
       "      <td>1694607592</td>\n",
       "      <td>None</td>\n",
       "      <td>9.0</td>\n",
       "      <td>None</td>\n",
       "      <td>False</td>\n",
       "      <td>{'product_quality': 5, 'seller_service': 5, 'd...</td>\n",
       "      <td>False</td>\n",
       "      <td>{'tier_code': 30, 'user_tier_badge_url': 'http...</td>\n",
       "      <td>[Fitur Terbaik, Sepadan dengan Harga]</td>\n",
       "      <td>True</td>\n",
       "      <td>None</td>\n",
       "      <td>{'is_oversea': False, 'origin_region': 'id'}</td>\n",
       "      <td>False</td>\n",
       "      <td>True</td>\n",
       "      <td>0</td>\n",
       "      <td>True</td>\n",
       "      <td>None</td>\n",
       "      <td>None</td>\n",
       "      <td>None</td>\n",
       "      <td>None</td>\n",
       "      <td>None</td>\n",
       "      <td></td>\n",
       "      <td>[{'image_id': 'id-11134103-7qul9-lkfa0siurwdyd...</td>\n",
       "      <td>{'key_media_code': 0, 'key_media_id': ''}</td>\n",
       "      <td>False</td>\n",
       "      <td>[]</td>\n",
       "      <td>None</td>\n",
       "      <td>None</td>\n",
       "      <td>None</td>\n",
       "      <td>ID</td>\n",
       "      <td>{'itemid': 20282046522, 'shopid': 51925611, 'n...</td>\n",
       "      <td>None</td>\n",
       "      <td>None</td>\n",
       "      <td>False</td>\n",
       "      <td>0</td>\n",
       "      <td>None</td>\n",
       "    </tr>\n",
       "    <tr>\n",
       "      <th>6</th>\n",
       "      <td>144910004218296</td>\n",
       "      <td>20282046522</td>\n",
       "      <td>12240126688</td>\n",
       "      <td>1691717647</td>\n",
       "      <td>1</td>\n",
       "      <td>66400275</td>\n",
       "      <td>51925611</td>\n",
       "      <td>Fitur Terbaik:bagus banget\\nSepadan dengan Har...</td>\n",
       "      <td>5</td>\n",
       "      <td>2</td>\n",
       "      <td>1693100570</td>\n",
       "      <td>1</td>\n",
       "      <td>2</td>\n",
       "      <td>7</td>\n",
       "      <td>[]</td>\n",
       "      <td>False</td>\n",
       "      <td>None</td>\n",
       "      <td>None</td>\n",
       "      <td>g*****a</td>\n",
       "      <td>e6e610da3943787874d687f9986839be</td>\n",
       "      <td>66398819</td>\n",
       "      <td>True</td>\n",
       "      <td>[id-11134103-7qul6-lkabn7a15b1m24, id-11134103...</td>\n",
       "      <td>[{'id': 'id-11110103-6jt7j-lkacxeeow2bdb5', 'c...</td>\n",
       "      <td>[{'itemid': 20282046522, 'shopid': 51925611, '...</td>\n",
       "      <td>None</td>\n",
       "      <td>None</td>\n",
       "      <td>None</td>\n",
       "      <td>None</td>\n",
       "      <td>1694309647</td>\n",
       "      <td>None</td>\n",
       "      <td>14.0</td>\n",
       "      <td>None</td>\n",
       "      <td>False</td>\n",
       "      <td>{'product_quality': 5, 'seller_service': 5, 'd...</td>\n",
       "      <td>False</td>\n",
       "      <td>{'tier_code': 30, 'user_tier_badge_url': 'http...</td>\n",
       "      <td>[Fitur Terbaik, Sepadan dengan Harga]</td>\n",
       "      <td>True</td>\n",
       "      <td>None</td>\n",
       "      <td>{'is_oversea': False, 'origin_region': 'id'}</td>\n",
       "      <td>False</td>\n",
       "      <td>True</td>\n",
       "      <td>0</td>\n",
       "      <td>True</td>\n",
       "      <td>None</td>\n",
       "      <td>None</td>\n",
       "      <td>None</td>\n",
       "      <td>None</td>\n",
       "      <td>None</td>\n",
       "      <td></td>\n",
       "      <td>[{'image_id': 'id-11134103-7qul6-lkabn7a15b1m2...</td>\n",
       "      <td>{'key_media_code': 0, 'key_media_id': ''}</td>\n",
       "      <td>False</td>\n",
       "      <td>[]</td>\n",
       "      <td>None</td>\n",
       "      <td>None</td>\n",
       "      <td>None</td>\n",
       "      <td>ID</td>\n",
       "      <td>{'itemid': 20282046522, 'shopid': 51925611, 'n...</td>\n",
       "      <td>None</td>\n",
       "      <td>None</td>\n",
       "      <td>False</td>\n",
       "      <td>0</td>\n",
       "      <td>None</td>\n",
       "    </tr>\n",
       "    <tr>\n",
       "      <th>7</th>\n",
       "      <td>144567734221465</td>\n",
       "      <td>20282046522</td>\n",
       "      <td>12184342794</td>\n",
       "      <td>1691232327</td>\n",
       "      <td>1</td>\n",
       "      <td>200262650</td>\n",
       "      <td>51925611</td>\n",
       "      <td>Fitur Terbaik:Penyimpanan BESAR Dan Body Kaca\\...</td>\n",
       "      <td>5</td>\n",
       "      <td>2</td>\n",
       "      <td>1693029490</td>\n",
       "      <td>1</td>\n",
       "      <td>2</td>\n",
       "      <td>7</td>\n",
       "      <td>[]</td>\n",
       "      <td>False</td>\n",
       "      <td>None</td>\n",
       "      <td>None</td>\n",
       "      <td>e*****1</td>\n",
       "      <td>bb1cca9099aa428aa884c44fb648ae56</td>\n",
       "      <td>200259523</td>\n",
       "      <td>True</td>\n",
       "      <td>[id-11134103-7qula-lk2bozd657vmb2, id-11134103...</td>\n",
       "      <td>[{'id': 'id-11110103-6jt74-lk2bnvzlrnmvae', 'c...</td>\n",
       "      <td>[{'itemid': 20282046522, 'shopid': 51925611, '...</td>\n",
       "      <td>None</td>\n",
       "      <td>None</td>\n",
       "      <td>None</td>\n",
       "      <td>None</td>\n",
       "      <td>1693824327</td>\n",
       "      <td>None</td>\n",
       "      <td>22.0</td>\n",
       "      <td>None</td>\n",
       "      <td>False</td>\n",
       "      <td>{'product_quality': 5, 'seller_service': 5, 'd...</td>\n",
       "      <td>False</td>\n",
       "      <td>{'tier_code': 20, 'user_tier_badge_url': 'http...</td>\n",
       "      <td>[Fitur Terbaik]</td>\n",
       "      <td>True</td>\n",
       "      <td>None</td>\n",
       "      <td>{'is_oversea': False, 'origin_region': 'id'}</td>\n",
       "      <td>False</td>\n",
       "      <td>True</td>\n",
       "      <td>0</td>\n",
       "      <td>True</td>\n",
       "      <td>None</td>\n",
       "      <td>None</td>\n",
       "      <td>None</td>\n",
       "      <td>None</td>\n",
       "      <td>None</td>\n",
       "      <td></td>\n",
       "      <td>[{'image_id': 'id-11134103-7qula-lk2bozd657vmb...</td>\n",
       "      <td>{'key_media_code': 0, 'key_media_id': ''}</td>\n",
       "      <td>False</td>\n",
       "      <td>[]</td>\n",
       "      <td>None</td>\n",
       "      <td>None</td>\n",
       "      <td>None</td>\n",
       "      <td>ID</td>\n",
       "      <td>{'itemid': 20282046522, 'shopid': 51925611, 'n...</td>\n",
       "      <td>None</td>\n",
       "      <td>None</td>\n",
       "      <td>False</td>\n",
       "      <td>0</td>\n",
       "      <td>None</td>\n",
       "    </tr>\n",
       "    <tr>\n",
       "      <th>8</th>\n",
       "      <td>144909334295893</td>\n",
       "      <td>20282046522</td>\n",
       "      <td>12211670134</td>\n",
       "      <td>1691484854</td>\n",
       "      <td>1</td>\n",
       "      <td>98602919</td>\n",
       "      <td>51925611</td>\n",
       "      <td>Fitur Terbaik:hp sudah datang tanpa ada cacat ...</td>\n",
       "      <td>5</td>\n",
       "      <td>2</td>\n",
       "      <td>1693064339</td>\n",
       "      <td>1</td>\n",
       "      <td>2</td>\n",
       "      <td>7</td>\n",
       "      <td>[]</td>\n",
       "      <td>False</td>\n",
       "      <td>None</td>\n",
       "      <td>None</td>\n",
       "      <td>s*****t</td>\n",
       "      <td>351a91514a70a707874aa55817f5c74d</td>\n",
       "      <td>98601441</td>\n",
       "      <td>True</td>\n",
       "      <td>[id-11134103-7qukw-lk6ida2b9qprf3, id-11134103...</td>\n",
       "      <td>[{'id': 'id-11110103-6jt7f-lk6ig3o4kyzua7', 'c...</td>\n",
       "      <td>[{'itemid': 20282046522, 'shopid': 51925611, '...</td>\n",
       "      <td>None</td>\n",
       "      <td>None</td>\n",
       "      <td>None</td>\n",
       "      <td>None</td>\n",
       "      <td>1694076854</td>\n",
       "      <td>None</td>\n",
       "      <td>44.0</td>\n",
       "      <td>None</td>\n",
       "      <td>False</td>\n",
       "      <td>{'product_quality': 5, 'seller_service': 5, 'd...</td>\n",
       "      <td>False</td>\n",
       "      <td>{'tier_code': 30, 'user_tier_badge_url': 'http...</td>\n",
       "      <td>[Fitur Terbaik, Sepadan dengan Harga]</td>\n",
       "      <td>True</td>\n",
       "      <td>None</td>\n",
       "      <td>{'is_oversea': False, 'origin_region': 'id'}</td>\n",
       "      <td>False</td>\n",
       "      <td>True</td>\n",
       "      <td>0</td>\n",
       "      <td>True</td>\n",
       "      <td>None</td>\n",
       "      <td>None</td>\n",
       "      <td>None</td>\n",
       "      <td>None</td>\n",
       "      <td>None</td>\n",
       "      <td></td>\n",
       "      <td>[{'image_id': 'id-11134103-7qukw-lk6ida2b9qprf...</td>\n",
       "      <td>{'key_media_code': 0, 'key_media_id': ''}</td>\n",
       "      <td>False</td>\n",
       "      <td>[]</td>\n",
       "      <td>None</td>\n",
       "      <td>None</td>\n",
       "      <td>None</td>\n",
       "      <td>ID</td>\n",
       "      <td>{'itemid': 20282046522, 'shopid': 51925611, 'n...</td>\n",
       "      <td>None</td>\n",
       "      <td>None</td>\n",
       "      <td>False</td>\n",
       "      <td>0</td>\n",
       "      <td>None</td>\n",
       "    </tr>\n",
       "    <tr>\n",
       "      <th>9</th>\n",
       "      <td>144857977288610</td>\n",
       "      <td>20282046522</td>\n",
       "      <td>12222342975</td>\n",
       "      <td>1691574379</td>\n",
       "      <td>1</td>\n",
       "      <td>598904136</td>\n",
       "      <td>51925611</td>\n",
       "      <td>Fitur Terbaik:bgs sesuai dengan deskripsi\\nSep...</td>\n",
       "      <td>5</td>\n",
       "      <td>2</td>\n",
       "      <td>1693043240</td>\n",
       "      <td>1</td>\n",
       "      <td>2</td>\n",
       "      <td>7</td>\n",
       "      <td>[]</td>\n",
       "      <td>False</td>\n",
       "      <td>None</td>\n",
       "      <td>None</td>\n",
       "      <td>c*****3</td>\n",
       "      <td>b901e4f475d015645ac52de083f095c5</td>\n",
       "      <td>598884551</td>\n",
       "      <td>True</td>\n",
       "      <td>[id-11134103-7qul0-lk7zm6ak30svb3, id-11134103...</td>\n",
       "      <td>[{'id': 'id-11110103-6jt7h-lk7zqi1u5fze5a', 'c...</td>\n",
       "      <td>[{'itemid': 20282046522, 'shopid': 51925611, '...</td>\n",
       "      <td>None</td>\n",
       "      <td>None</td>\n",
       "      <td>None</td>\n",
       "      <td>None</td>\n",
       "      <td>1694166379</td>\n",
       "      <td>None</td>\n",
       "      <td>8.0</td>\n",
       "      <td>None</td>\n",
       "      <td>False</td>\n",
       "      <td>{'product_quality': 5, 'seller_service': 5, 'd...</td>\n",
       "      <td>False</td>\n",
       "      <td>{'tier_code': 30, 'user_tier_badge_url': 'http...</td>\n",
       "      <td>[Fitur Terbaik, Sepadan dengan Harga]</td>\n",
       "      <td>True</td>\n",
       "      <td>None</td>\n",
       "      <td>{'is_oversea': False, 'origin_region': 'id'}</td>\n",
       "      <td>False</td>\n",
       "      <td>True</td>\n",
       "      <td>0</td>\n",
       "      <td>True</td>\n",
       "      <td>None</td>\n",
       "      <td>None</td>\n",
       "      <td>None</td>\n",
       "      <td>None</td>\n",
       "      <td>None</td>\n",
       "      <td></td>\n",
       "      <td>[{'image_id': 'id-11134103-7qul0-lk7zm6ak30svb...</td>\n",
       "      <td>{'key_media_code': 0, 'key_media_id': ''}</td>\n",
       "      <td>False</td>\n",
       "      <td>[]</td>\n",
       "      <td>None</td>\n",
       "      <td>None</td>\n",
       "      <td>None</td>\n",
       "      <td>ID</td>\n",
       "      <td>{'itemid': 20282046522, 'shopid': 51925611, 'n...</td>\n",
       "      <td>None</td>\n",
       "      <td>None</td>\n",
       "      <td>False</td>\n",
       "      <td>0</td>\n",
       "      <td>None</td>\n",
       "    </tr>\n",
       "    <tr>\n",
       "      <th>10</th>\n",
       "      <td>145361307215004</td>\n",
       "      <td>20282046522</td>\n",
       "      <td>12278668309</td>\n",
       "      <td>1692008083</td>\n",
       "      <td>1</td>\n",
       "      <td>398413423</td>\n",
       "      <td>51925611</td>\n",
       "      <td>Fitur Terbaik:mantapp\\nSepadan dengan Harga:mu...</td>\n",
       "      <td>5</td>\n",
       "      <td>2</td>\n",
       "      <td>1692944607</td>\n",
       "      <td>1</td>\n",
       "      <td>2</td>\n",
       "      <td>7</td>\n",
       "      <td>[]</td>\n",
       "      <td>False</td>\n",
       "      <td>None</td>\n",
       "      <td>None</td>\n",
       "      <td>yesiwidyarto_96</td>\n",
       "      <td>4584d2b89981e600dfdaef5b8b00eae6</td>\n",
       "      <td>398393846</td>\n",
       "      <td>False</td>\n",
       "      <td>[id-11134103-7qul4-lkf5nn09v4ple7, id-11134103...</td>\n",
       "      <td>[{'id': 'id-11110103-6jt7i-lkf5p0kdcb3e3d', 'c...</td>\n",
       "      <td>[{'itemid': 20282046522, 'shopid': 51925611, '...</td>\n",
       "      <td>None</td>\n",
       "      <td>None</td>\n",
       "      <td>None</td>\n",
       "      <td>None</td>\n",
       "      <td>1694600083</td>\n",
       "      <td>None</td>\n",
       "      <td>6.0</td>\n",
       "      <td>None</td>\n",
       "      <td>False</td>\n",
       "      <td>{'product_quality': 5, 'seller_service': None,...</td>\n",
       "      <td>False</td>\n",
       "      <td>{'tier_code': 30, 'user_tier_badge_url': 'http...</td>\n",
       "      <td>[Fitur Terbaik, Sepadan dengan Harga]</td>\n",
       "      <td>True</td>\n",
       "      <td>None</td>\n",
       "      <td>{'is_oversea': False, 'origin_region': 'id'}</td>\n",
       "      <td>False</td>\n",
       "      <td>True</td>\n",
       "      <td>0</td>\n",
       "      <td>True</td>\n",
       "      <td>None</td>\n",
       "      <td>None</td>\n",
       "      <td>None</td>\n",
       "      <td>None</td>\n",
       "      <td>None</td>\n",
       "      <td></td>\n",
       "      <td>[{'image_id': 'id-11134103-7qul4-lkf5nn09v4ple...</td>\n",
       "      <td>{'key_media_code': 0, 'key_media_id': ''}</td>\n",
       "      <td>False</td>\n",
       "      <td>[]</td>\n",
       "      <td>None</td>\n",
       "      <td>None</td>\n",
       "      <td>None</td>\n",
       "      <td>ID</td>\n",
       "      <td>{'itemid': 20282046522, 'shopid': 51925611, 'n...</td>\n",
       "      <td>None</td>\n",
       "      <td>None</td>\n",
       "      <td>False</td>\n",
       "      <td>0</td>\n",
       "      <td>None</td>\n",
       "    </tr>\n",
       "    <tr>\n",
       "      <th>11</th>\n",
       "      <td>144900147226370</td>\n",
       "      <td>20282046522</td>\n",
       "      <td>12240199037</td>\n",
       "      <td>1691718208</td>\n",
       "      <td>1</td>\n",
       "      <td>37558782</td>\n",
       "      <td>51925611</td>\n",
       "      <td>Sepadan dengan Harga:sangat sepadan dengan har...</td>\n",
       "      <td>5</td>\n",
       "      <td>2</td>\n",
       "      <td>1693101263</td>\n",
       "      <td>1</td>\n",
       "      <td>2</td>\n",
       "      <td>7</td>\n",
       "      <td>[]</td>\n",
       "      <td>False</td>\n",
       "      <td>None</td>\n",
       "      <td>None</td>\n",
       "      <td>6*****6</td>\n",
       "      <td>61e01b133517b1cc1c30db4fc686f037</td>\n",
       "      <td>37557397</td>\n",
       "      <td>True</td>\n",
       "      <td>[id-11134103-7qul7-lkad836tt4t5d4, id-11134103...</td>\n",
       "      <td>[{'id': 'id-11110103-6jt7d-lkad97omjt4w56', 'c...</td>\n",
       "      <td>[{'itemid': 20282046522, 'shopid': 51925611, '...</td>\n",
       "      <td>None</td>\n",
       "      <td>None</td>\n",
       "      <td>None</td>\n",
       "      <td>None</td>\n",
       "      <td>1694310208</td>\n",
       "      <td>None</td>\n",
       "      <td>39.0</td>\n",
       "      <td>None</td>\n",
       "      <td>False</td>\n",
       "      <td>{'product_quality': 5, 'seller_service': 4, 'd...</td>\n",
       "      <td>False</td>\n",
       "      <td>{'tier_code': 30, 'user_tier_badge_url': 'http...</td>\n",
       "      <td>[Sepadan dengan Harga, Fitur Terbaik]</td>\n",
       "      <td>True</td>\n",
       "      <td>None</td>\n",
       "      <td>{'is_oversea': False, 'origin_region': 'id'}</td>\n",
       "      <td>False</td>\n",
       "      <td>True</td>\n",
       "      <td>0</td>\n",
       "      <td>True</td>\n",
       "      <td>None</td>\n",
       "      <td>None</td>\n",
       "      <td>None</td>\n",
       "      <td>None</td>\n",
       "      <td>None</td>\n",
       "      <td></td>\n",
       "      <td>[{'image_id': 'id-11134103-7qul7-lkad836tt4t5d...</td>\n",
       "      <td>{'key_media_code': 0, 'key_media_id': ''}</td>\n",
       "      <td>False</td>\n",
       "      <td>[]</td>\n",
       "      <td>None</td>\n",
       "      <td>None</td>\n",
       "      <td>None</td>\n",
       "      <td>ID</td>\n",
       "      <td>{'itemid': 20282046522, 'shopid': 51925611, 'n...</td>\n",
       "      <td>None</td>\n",
       "      <td>None</td>\n",
       "      <td>False</td>\n",
       "      <td>0</td>\n",
       "      <td>None</td>\n",
       "    </tr>\n",
       "    <tr>\n",
       "      <th>12</th>\n",
       "      <td>144832034209831</td>\n",
       "      <td>20282046522</td>\n",
       "      <td>12206046764</td>\n",
       "      <td>1691427921</td>\n",
       "      <td>1</td>\n",
       "      <td>286532826</td>\n",
       "      <td>51925611</td>\n",
       "      <td>Fitur Terbaik:Bagus semua\\nSepadan dengan Harg...</td>\n",
       "      <td>5</td>\n",
       "      <td>2</td>\n",
       "      <td>1693034559</td>\n",
       "      <td>1</td>\n",
       "      <td>2</td>\n",
       "      <td>7</td>\n",
       "      <td>[]</td>\n",
       "      <td>False</td>\n",
       "      <td>None</td>\n",
       "      <td>None</td>\n",
       "      <td>rurosan</td>\n",
       "      <td>efadb59f491dff1c4b63b042245ea1db</td>\n",
       "      <td>286513717</td>\n",
       "      <td>False</td>\n",
       "      <td>[id-11134103-7qul2-lk5jqaoef12a6a, id-11134103...</td>\n",
       "      <td>[{'id': 'id-11110103-6jt76-lk5joj95cil7c3', 'c...</td>\n",
       "      <td>[{'itemid': 20282046522, 'shopid': 51925611, '...</td>\n",
       "      <td>None</td>\n",
       "      <td>None</td>\n",
       "      <td>None</td>\n",
       "      <td>None</td>\n",
       "      <td>1694019921</td>\n",
       "      <td>None</td>\n",
       "      <td>8.0</td>\n",
       "      <td>None</td>\n",
       "      <td>False</td>\n",
       "      <td>{'product_quality': 5, 'seller_service': 5, 'd...</td>\n",
       "      <td>False</td>\n",
       "      <td>{'tier_code': 20, 'user_tier_badge_url': 'http...</td>\n",
       "      <td>[Fitur Terbaik, Sepadan dengan Harga]</td>\n",
       "      <td>True</td>\n",
       "      <td>None</td>\n",
       "      <td>{'is_oversea': False, 'origin_region': 'id'}</td>\n",
       "      <td>False</td>\n",
       "      <td>True</td>\n",
       "      <td>0</td>\n",
       "      <td>True</td>\n",
       "      <td>None</td>\n",
       "      <td>None</td>\n",
       "      <td>None</td>\n",
       "      <td>None</td>\n",
       "      <td>None</td>\n",
       "      <td></td>\n",
       "      <td>[{'image_id': 'id-11134103-7qul2-lk5jqaoef12a6...</td>\n",
       "      <td>{'key_media_code': 0, 'key_media_id': ''}</td>\n",
       "      <td>False</td>\n",
       "      <td>[]</td>\n",
       "      <td>None</td>\n",
       "      <td>None</td>\n",
       "      <td>None</td>\n",
       "      <td>ID</td>\n",
       "      <td>{'itemid': 20282046522, 'shopid': 51925611, 'n...</td>\n",
       "      <td>None</td>\n",
       "      <td>None</td>\n",
       "      <td>False</td>\n",
       "      <td>0</td>\n",
       "      <td>None</td>\n",
       "    </tr>\n",
       "    <tr>\n",
       "      <th>13</th>\n",
       "      <td>145348825245438</td>\n",
       "      <td>20282046522</td>\n",
       "      <td>12324232902</td>\n",
       "      <td>1692412739</td>\n",
       "      <td>1</td>\n",
       "      <td>16058689</td>\n",
       "      <td>51925611</td>\n",
       "      <td>Sepadan dengan Harga:dengan harga 2 juta sudah...</td>\n",
       "      <td>5</td>\n",
       "      <td>2</td>\n",
       "      <td>1693110532</td>\n",
       "      <td>1</td>\n",
       "      <td>2</td>\n",
       "      <td>7</td>\n",
       "      <td>[]</td>\n",
       "      <td>False</td>\n",
       "      <td>None</td>\n",
       "      <td>None</td>\n",
       "      <td>arie_prihady</td>\n",
       "      <td>c63e8a75426165cab65204554bf2f964</td>\n",
       "      <td>16057353</td>\n",
       "      <td>False</td>\n",
       "      <td>[id-11134103-7r98o-lklu6oywo0ff5b, id-11134103...</td>\n",
       "      <td>[{'id': 'id-11110103-6ke14-lklu73mn7qy758', 'c...</td>\n",
       "      <td>[{'itemid': 20282046522, 'shopid': 51925611, '...</td>\n",
       "      <td>None</td>\n",
       "      <td>None</td>\n",
       "      <td>None</td>\n",
       "      <td>None</td>\n",
       "      <td>1695004739</td>\n",
       "      <td>None</td>\n",
       "      <td>62.0</td>\n",
       "      <td>None</td>\n",
       "      <td>False</td>\n",
       "      <td>{'product_quality': 5, 'seller_service': 5, 'd...</td>\n",
       "      <td>False</td>\n",
       "      <td>{'tier_code': 30, 'user_tier_badge_url': 'http...</td>\n",
       "      <td>[Sepadan dengan Harga, Fitur Terbaik]</td>\n",
       "      <td>True</td>\n",
       "      <td>None</td>\n",
       "      <td>{'is_oversea': False, 'origin_region': 'id'}</td>\n",
       "      <td>False</td>\n",
       "      <td>True</td>\n",
       "      <td>0</td>\n",
       "      <td>True</td>\n",
       "      <td>None</td>\n",
       "      <td>None</td>\n",
       "      <td>None</td>\n",
       "      <td>None</td>\n",
       "      <td>None</td>\n",
       "      <td></td>\n",
       "      <td>[{'image_id': 'id-11134103-7r98o-lklu6oywo0ff5...</td>\n",
       "      <td>{'key_media_code': 0, 'key_media_id': ''}</td>\n",
       "      <td>False</td>\n",
       "      <td>[]</td>\n",
       "      <td>None</td>\n",
       "      <td>None</td>\n",
       "      <td>None</td>\n",
       "      <td>ID</td>\n",
       "      <td>{'itemid': 20282046522, 'shopid': 51925611, 'n...</td>\n",
       "      <td>None</td>\n",
       "      <td>None</td>\n",
       "      <td>False</td>\n",
       "      <td>0</td>\n",
       "      <td>None</td>\n",
       "    </tr>\n",
       "    <tr>\n",
       "      <th>14</th>\n",
       "      <td>145199574249761</td>\n",
       "      <td>20282046522</td>\n",
       "      <td>12254782003</td>\n",
       "      <td>1691820810</td>\n",
       "      <td>1</td>\n",
       "      <td>119776235</td>\n",
       "      <td>51925611</td>\n",
       "      <td>Sepadan dengan Harga:Bagus\\nFitur Terbaik:Bagu...</td>\n",
       "      <td>5</td>\n",
       "      <td>2</td>\n",
       "      <td>1692945560</td>\n",
       "      <td>1</td>\n",
       "      <td>2</td>\n",
       "      <td>7</td>\n",
       "      <td>[]</td>\n",
       "      <td>False</td>\n",
       "      <td>None</td>\n",
       "      <td>None</td>\n",
       "      <td>agusmuham</td>\n",
       "      <td>1f851eb914359cf554d39a355b4def7d</td>\n",
       "      <td>119774411</td>\n",
       "      <td>False</td>\n",
       "      <td>[id-11134103-7qul6-lkc24zuzubluc7, id-11134103...</td>\n",
       "      <td>[{'id': 'id-11110103-6jt75-lkc24gki2mj833', 'c...</td>\n",
       "      <td>[{'itemid': 20282046522, 'shopid': 51925611, '...</td>\n",
       "      <td>None</td>\n",
       "      <td>None</td>\n",
       "      <td>None</td>\n",
       "      <td>None</td>\n",
       "      <td>1694412810</td>\n",
       "      <td>None</td>\n",
       "      <td>5.0</td>\n",
       "      <td>None</td>\n",
       "      <td>False</td>\n",
       "      <td>{'product_quality': 5, 'seller_service': 5, 'd...</td>\n",
       "      <td>False</td>\n",
       "      <td>{'tier_code': 20, 'user_tier_badge_url': 'http...</td>\n",
       "      <td>[Sepadan dengan Harga, Fitur Terbaik]</td>\n",
       "      <td>True</td>\n",
       "      <td>None</td>\n",
       "      <td>{'is_oversea': False, 'origin_region': 'id'}</td>\n",
       "      <td>False</td>\n",
       "      <td>True</td>\n",
       "      <td>0</td>\n",
       "      <td>True</td>\n",
       "      <td>None</td>\n",
       "      <td>None</td>\n",
       "      <td>None</td>\n",
       "      <td>None</td>\n",
       "      <td>None</td>\n",
       "      <td></td>\n",
       "      <td>[{'image_id': 'id-11134103-7qul6-lkc24zuzubluc...</td>\n",
       "      <td>{'key_media_code': 0, 'key_media_id': ''}</td>\n",
       "      <td>False</td>\n",
       "      <td>[]</td>\n",
       "      <td>None</td>\n",
       "      <td>None</td>\n",
       "      <td>None</td>\n",
       "      <td>ID</td>\n",
       "      <td>{'itemid': 20282046522, 'shopid': 51925611, 'n...</td>\n",
       "      <td>None</td>\n",
       "      <td>None</td>\n",
       "      <td>False</td>\n",
       "      <td>0</td>\n",
       "      <td>None</td>\n",
       "    </tr>\n",
       "    <tr>\n",
       "      <th>15</th>\n",
       "      <td>144734974269729</td>\n",
       "      <td>20282046522</td>\n",
       "      <td>12203008562</td>\n",
       "      <td>1691407347</td>\n",
       "      <td>1</td>\n",
       "      <td>198084632</td>\n",
       "      <td>51925611</td>\n",
       "      <td>Fitur Terbaik:xiomi redmi 12 bagus\\nSepadan de...</td>\n",
       "      <td>5</td>\n",
       "      <td>2</td>\n",
       "      <td>1693039475</td>\n",
       "      <td>1</td>\n",
       "      <td>2</td>\n",
       "      <td>7</td>\n",
       "      <td>[]</td>\n",
       "      <td>False</td>\n",
       "      <td>None</td>\n",
       "      <td>None</td>\n",
       "      <td>tendysutendy</td>\n",
       "      <td>15a920bfd5f4168a1f304d34c4eeb461</td>\n",
       "      <td>198081612</td>\n",
       "      <td>False</td>\n",
       "      <td>[id-11134103-7qul4-lk58c68kcjdu44, id-11134103...</td>\n",
       "      <td>[{'id': 'id-11110103-6jt7a-lk58db4si47s18', 'c...</td>\n",
       "      <td>[{'itemid': 20282046522, 'shopid': 51925611, '...</td>\n",
       "      <td>None</td>\n",
       "      <td>None</td>\n",
       "      <td>None</td>\n",
       "      <td>None</td>\n",
       "      <td>1693999347</td>\n",
       "      <td>None</td>\n",
       "      <td>13.0</td>\n",
       "      <td>None</td>\n",
       "      <td>False</td>\n",
       "      <td>{'product_quality': 5, 'seller_service': 5, 'd...</td>\n",
       "      <td>False</td>\n",
       "      <td>{'tier_code': 30, 'user_tier_badge_url': 'http...</td>\n",
       "      <td>[Fitur Terbaik, Sepadan dengan Harga]</td>\n",
       "      <td>True</td>\n",
       "      <td>None</td>\n",
       "      <td>{'is_oversea': False, 'origin_region': 'id'}</td>\n",
       "      <td>False</td>\n",
       "      <td>True</td>\n",
       "      <td>0</td>\n",
       "      <td>True</td>\n",
       "      <td>None</td>\n",
       "      <td>None</td>\n",
       "      <td>None</td>\n",
       "      <td>None</td>\n",
       "      <td>None</td>\n",
       "      <td></td>\n",
       "      <td>[{'image_id': 'id-11134103-7qul4-lk58c68kcjdu4...</td>\n",
       "      <td>{'key_media_code': 0, 'key_media_id': ''}</td>\n",
       "      <td>False</td>\n",
       "      <td>[]</td>\n",
       "      <td>None</td>\n",
       "      <td>None</td>\n",
       "      <td>None</td>\n",
       "      <td>ID</td>\n",
       "      <td>{'itemid': 20282046522, 'shopid': 51925611, 'n...</td>\n",
       "      <td>None</td>\n",
       "      <td>None</td>\n",
       "      <td>False</td>\n",
       "      <td>0</td>\n",
       "      <td>None</td>\n",
       "    </tr>\n",
       "    <tr>\n",
       "      <th>16</th>\n",
       "      <td>144806178278351</td>\n",
       "      <td>20282046522</td>\n",
       "      <td>12289242156</td>\n",
       "      <td>1692095232</td>\n",
       "      <td>1</td>\n",
       "      <td>95567059</td>\n",
       "      <td>51925611</td>\n",
       "      <td>Sepadan dengan Harga:Sepada\\nFitur Terbaik:HP ...</td>\n",
       "      <td>5</td>\n",
       "      <td>2</td>\n",
       "      <td>1693076906</td>\n",
       "      <td>1</td>\n",
       "      <td>2</td>\n",
       "      <td>7</td>\n",
       "      <td>[]</td>\n",
       "      <td>False</td>\n",
       "      <td>None</td>\n",
       "      <td>None</td>\n",
       "      <td>yanvitaanggraeni</td>\n",
       "      <td>d428a020713608e412d49bc23eff0404</td>\n",
       "      <td>95565581</td>\n",
       "      <td>False</td>\n",
       "      <td>[id-11134103-7qul5-lkgl9e7y8gc6a7, id-11134103...</td>\n",
       "      <td>[{'id': 'id-11110103-6jt79-lkglfhyqnygab8', 'c...</td>\n",
       "      <td>[{'itemid': 20282046522, 'shopid': 51925611, '...</td>\n",
       "      <td>None</td>\n",
       "      <td>None</td>\n",
       "      <td>None</td>\n",
       "      <td>None</td>\n",
       "      <td>1694687232</td>\n",
       "      <td>None</td>\n",
       "      <td>12.0</td>\n",
       "      <td>None</td>\n",
       "      <td>False</td>\n",
       "      <td>{'product_quality': 5, 'seller_service': 5, 'd...</td>\n",
       "      <td>False</td>\n",
       "      <td>{'tier_code': 20, 'user_tier_badge_url': 'http...</td>\n",
       "      <td>[Sepadan dengan Harga, Fitur Terbaik]</td>\n",
       "      <td>True</td>\n",
       "      <td>None</td>\n",
       "      <td>{'is_oversea': False, 'origin_region': 'id'}</td>\n",
       "      <td>False</td>\n",
       "      <td>True</td>\n",
       "      <td>0</td>\n",
       "      <td>True</td>\n",
       "      <td>None</td>\n",
       "      <td>None</td>\n",
       "      <td>None</td>\n",
       "      <td>None</td>\n",
       "      <td>None</td>\n",
       "      <td></td>\n",
       "      <td>[{'image_id': 'id-11134103-7qul5-lkgl9e7y8gc6a...</td>\n",
       "      <td>{'key_media_code': 0, 'key_media_id': ''}</td>\n",
       "      <td>False</td>\n",
       "      <td>[]</td>\n",
       "      <td>None</td>\n",
       "      <td>None</td>\n",
       "      <td>None</td>\n",
       "      <td>ID</td>\n",
       "      <td>{'itemid': 20282046522, 'shopid': 51925611, 'n...</td>\n",
       "      <td>None</td>\n",
       "      <td>None</td>\n",
       "      <td>False</td>\n",
       "      <td>0</td>\n",
       "      <td>None</td>\n",
       "    </tr>\n",
       "    <tr>\n",
       "      <th>17</th>\n",
       "      <td>145606052280517</td>\n",
       "      <td>20282046522</td>\n",
       "      <td>12333412824</td>\n",
       "      <td>1692501892</td>\n",
       "      <td>1</td>\n",
       "      <td>715085727</td>\n",
       "      <td>51925611</td>\n",
       "      <td>Fitur Terbaik:mantap banget\\n\\nAlhamdulillah p...</td>\n",
       "      <td>5</td>\n",
       "      <td>2</td>\n",
       "      <td>1692657550</td>\n",
       "      <td>1</td>\n",
       "      <td>2</td>\n",
       "      <td>7</td>\n",
       "      <td>[]</td>\n",
       "      <td>False</td>\n",
       "      <td>None</td>\n",
       "      <td>None</td>\n",
       "      <td>weny222222</td>\n",
       "      <td>dbfe822a67bd92ccbd8074f903419c47</td>\n",
       "      <td>715066142</td>\n",
       "      <td>False</td>\n",
       "      <td>[id-11134103-7r98o-lknbbiig4z7t9b, id-11134103...</td>\n",
       "      <td>[{'id': 'id-11110103-6ke14-lknbaw2qyy392d', 'c...</td>\n",
       "      <td>[{'itemid': 20282046522, 'shopid': 51925611, '...</td>\n",
       "      <td>None</td>\n",
       "      <td>None</td>\n",
       "      <td>None</td>\n",
       "      <td>None</td>\n",
       "      <td>1695093892</td>\n",
       "      <td>None</td>\n",
       "      <td>NaN</td>\n",
       "      <td>None</td>\n",
       "      <td>False</td>\n",
       "      <td>{'product_quality': 5, 'seller_service': 4, 'd...</td>\n",
       "      <td>False</td>\n",
       "      <td>{'tier_code': 20, 'user_tier_badge_url': 'http...</td>\n",
       "      <td>[Fitur Terbaik, Sepadan dengan Harga]</td>\n",
       "      <td>True</td>\n",
       "      <td>None</td>\n",
       "      <td>{'is_oversea': False, 'origin_region': 'id'}</td>\n",
       "      <td>False</td>\n",
       "      <td>True</td>\n",
       "      <td>0</td>\n",
       "      <td>True</td>\n",
       "      <td>None</td>\n",
       "      <td>None</td>\n",
       "      <td>None</td>\n",
       "      <td>None</td>\n",
       "      <td>None</td>\n",
       "      <td></td>\n",
       "      <td>[{'image_id': 'id-11134103-7r98o-lknbbiig4z7t9...</td>\n",
       "      <td>{'key_media_code': 0, 'key_media_id': ''}</td>\n",
       "      <td>False</td>\n",
       "      <td>[]</td>\n",
       "      <td>None</td>\n",
       "      <td>None</td>\n",
       "      <td>None</td>\n",
       "      <td>ID</td>\n",
       "      <td>{'itemid': 20282046522, 'shopid': 51925611, 'n...</td>\n",
       "      <td>None</td>\n",
       "      <td>None</td>\n",
       "      <td>False</td>\n",
       "      <td>0</td>\n",
       "      <td>None</td>\n",
       "    </tr>\n",
       "    <tr>\n",
       "      <th>18</th>\n",
       "      <td>145846229215941</td>\n",
       "      <td>20282046522</td>\n",
       "      <td>12363025675</td>\n",
       "      <td>1692773154</td>\n",
       "      <td>1</td>\n",
       "      <td>323376886</td>\n",
       "      <td>51925611</td>\n",
       "      <td>Sepadan dengan Harga:murah lah dengan spek ban...</td>\n",
       "      <td>5</td>\n",
       "      <td>2</td>\n",
       "      <td>1693037764</td>\n",
       "      <td>1</td>\n",
       "      <td>2</td>\n",
       "      <td>7</td>\n",
       "      <td>[]</td>\n",
       "      <td>False</td>\n",
       "      <td>None</td>\n",
       "      <td>None</td>\n",
       "      <td>alfi_44shop</td>\n",
       "      <td>77881b9a30b889b407ce80fe13985c4c</td>\n",
       "      <td>323357287</td>\n",
       "      <td>False</td>\n",
       "      <td>[id-11134103-7r98o-lkrsgtic2z1w89, id-11134103...</td>\n",
       "      <td>[{'id': 'id-11110103-6ke14-lkrshvsryz9032', 'c...</td>\n",
       "      <td>[{'itemid': 20282046522, 'shopid': 51925611, '...</td>\n",
       "      <td>None</td>\n",
       "      <td>None</td>\n",
       "      <td>None</td>\n",
       "      <td>None</td>\n",
       "      <td>1695365154</td>\n",
       "      <td>None</td>\n",
       "      <td>1.0</td>\n",
       "      <td>None</td>\n",
       "      <td>False</td>\n",
       "      <td>{'product_quality': 5, 'seller_service': None,...</td>\n",
       "      <td>False</td>\n",
       "      <td>{'tier_code': 30, 'user_tier_badge_url': 'http...</td>\n",
       "      <td>[Sepadan dengan Harga, Fitur Terbaik]</td>\n",
       "      <td>True</td>\n",
       "      <td>None</td>\n",
       "      <td>{'is_oversea': False, 'origin_region': 'id'}</td>\n",
       "      <td>False</td>\n",
       "      <td>True</td>\n",
       "      <td>0</td>\n",
       "      <td>True</td>\n",
       "      <td>None</td>\n",
       "      <td>None</td>\n",
       "      <td>None</td>\n",
       "      <td>None</td>\n",
       "      <td>None</td>\n",
       "      <td></td>\n",
       "      <td>[{'image_id': 'id-11134103-7r98o-lkrsgtic2z1w8...</td>\n",
       "      <td>{'key_media_code': 0, 'key_media_id': ''}</td>\n",
       "      <td>False</td>\n",
       "      <td>[]</td>\n",
       "      <td>None</td>\n",
       "      <td>None</td>\n",
       "      <td>None</td>\n",
       "      <td>ID</td>\n",
       "      <td>{'itemid': 20282046522, 'shopid': 51925611, 'n...</td>\n",
       "      <td>None</td>\n",
       "      <td>None</td>\n",
       "      <td>False</td>\n",
       "      <td>0</td>\n",
       "      <td>None</td>\n",
       "    </tr>\n",
       "    <tr>\n",
       "      <th>19</th>\n",
       "      <td>144595525202190</td>\n",
       "      <td>20282046522</td>\n",
       "      <td>12185409906</td>\n",
       "      <td>1691238678</td>\n",
       "      <td>1</td>\n",
       "      <td>562983666</td>\n",
       "      <td>51925611</td>\n",
       "      <td>Fitur Terbaik:penyimpananya gede\\nSepadan deng...</td>\n",
       "      <td>5</td>\n",
       "      <td>2</td>\n",
       "      <td>1692935794</td>\n",
       "      <td>1</td>\n",
       "      <td>2</td>\n",
       "      <td>7</td>\n",
       "      <td>[]</td>\n",
       "      <td>False</td>\n",
       "      <td>None</td>\n",
       "      <td>None</td>\n",
       "      <td>treizzhttreizzht</td>\n",
       "      <td></td>\n",
       "      <td>562964081</td>\n",
       "      <td>False</td>\n",
       "      <td>[id-11134103-7qul7-lk2g4evz1rrsae, id-11134103...</td>\n",
       "      <td>[{'id': 'id-11110103-6jt7m-lk2g4v697tn39b', 'c...</td>\n",
       "      <td>[{'itemid': 20282046522, 'shopid': 51925611, '...</td>\n",
       "      <td>None</td>\n",
       "      <td>None</td>\n",
       "      <td>None</td>\n",
       "      <td>None</td>\n",
       "      <td>1693830678</td>\n",
       "      <td>None</td>\n",
       "      <td>32.0</td>\n",
       "      <td>None</td>\n",
       "      <td>False</td>\n",
       "      <td>{'product_quality': 5, 'seller_service': 5, 'd...</td>\n",
       "      <td>False</td>\n",
       "      <td>{'tier_code': 30, 'user_tier_badge_url': 'http...</td>\n",
       "      <td>[Fitur Terbaik, Sepadan dengan Harga]</td>\n",
       "      <td>True</td>\n",
       "      <td>None</td>\n",
       "      <td>{'is_oversea': False, 'origin_region': 'id'}</td>\n",
       "      <td>False</td>\n",
       "      <td>True</td>\n",
       "      <td>0</td>\n",
       "      <td>True</td>\n",
       "      <td>None</td>\n",
       "      <td>None</td>\n",
       "      <td>None</td>\n",
       "      <td>None</td>\n",
       "      <td>None</td>\n",
       "      <td></td>\n",
       "      <td>[{'image_id': 'id-11134103-7qul7-lk2g4evz1rrsa...</td>\n",
       "      <td>{'key_media_code': 0, 'key_media_id': ''}</td>\n",
       "      <td>False</td>\n",
       "      <td>[]</td>\n",
       "      <td>None</td>\n",
       "      <td>None</td>\n",
       "      <td>None</td>\n",
       "      <td>ID</td>\n",
       "      <td>{'itemid': 20282046522, 'shopid': 51925611, 'n...</td>\n",
       "      <td>None</td>\n",
       "      <td>None</td>\n",
       "      <td>False</td>\n",
       "      <td>0</td>\n",
       "      <td>None</td>\n",
       "    </tr>\n",
       "    <tr>\n",
       "      <th>20</th>\n",
       "      <td>144863204221284</td>\n",
       "      <td>20282046522</td>\n",
       "      <td>12186588601</td>\n",
       "      <td>1691246731</td>\n",
       "      <td>1</td>\n",
       "      <td>213779265</td>\n",
       "      <td>51925611</td>\n",
       "      <td>Fitur Terbaik:design nya keren abies\\nSepadan ...</td>\n",
       "      <td>5</td>\n",
       "      <td>2</td>\n",
       "      <td>1693098034</td>\n",
       "      <td>1</td>\n",
       "      <td>2</td>\n",
       "      <td>7</td>\n",
       "      <td>[]</td>\n",
       "      <td>False</td>\n",
       "      <td>None</td>\n",
       "      <td>None</td>\n",
       "      <td>vearactivewear</td>\n",
       "      <td>a06d5a9927fa3e00e6caa014c2abb762</td>\n",
       "      <td>213775546</td>\n",
       "      <td>False</td>\n",
       "      <td>[id-11134103-7qul0-lk2kvzmi54rrfe, id-11134103...</td>\n",
       "      <td>[{'id': 'id-11110103-6jt7l-lk2kwtwnttjs4b', 'c...</td>\n",
       "      <td>[{'itemid': 20282046522, 'shopid': 51925611, '...</td>\n",
       "      <td>None</td>\n",
       "      <td>None</td>\n",
       "      <td>None</td>\n",
       "      <td>None</td>\n",
       "      <td>1693838731</td>\n",
       "      <td>None</td>\n",
       "      <td>8.0</td>\n",
       "      <td>None</td>\n",
       "      <td>False</td>\n",
       "      <td>{'product_quality': 5, 'seller_service': 5, 'd...</td>\n",
       "      <td>False</td>\n",
       "      <td>{'tier_code': 40, 'user_tier_badge_url': 'http...</td>\n",
       "      <td>[Fitur Terbaik, Sepadan dengan Harga]</td>\n",
       "      <td>True</td>\n",
       "      <td>None</td>\n",
       "      <td>{'is_oversea': False, 'origin_region': 'id'}</td>\n",
       "      <td>False</td>\n",
       "      <td>True</td>\n",
       "      <td>0</td>\n",
       "      <td>True</td>\n",
       "      <td>None</td>\n",
       "      <td>None</td>\n",
       "      <td>None</td>\n",
       "      <td>None</td>\n",
       "      <td>None</td>\n",
       "      <td></td>\n",
       "      <td>[{'image_id': 'id-11134103-7qul0-lk2kvzmi54rrf...</td>\n",
       "      <td>{'key_media_code': 0, 'key_media_id': ''}</td>\n",
       "      <td>False</td>\n",
       "      <td>[]</td>\n",
       "      <td>None</td>\n",
       "      <td>None</td>\n",
       "      <td>None</td>\n",
       "      <td>ID</td>\n",
       "      <td>{'itemid': 20282046522, 'shopid': 51925611, 'n...</td>\n",
       "      <td>None</td>\n",
       "      <td>None</td>\n",
       "      <td>False</td>\n",
       "      <td>0</td>\n",
       "      <td>None</td>\n",
       "    </tr>\n",
       "    <tr>\n",
       "      <th>21</th>\n",
       "      <td>145872516275899</td>\n",
       "      <td>20282046522</td>\n",
       "      <td>12326937212</td>\n",
       "      <td>1692430437</td>\n",
       "      <td>1</td>\n",
       "      <td>17636242</td>\n",
       "      <td>51925611</td>\n",
       "      <td>Barang sesuai dan berfungsi dengan baik, pengi...</td>\n",
       "      <td>5</td>\n",
       "      <td>2</td>\n",
       "      <td>1693059461</td>\n",
       "      <td>1</td>\n",
       "      <td>2</td>\n",
       "      <td>7</td>\n",
       "      <td>[]</td>\n",
       "      <td>False</td>\n",
       "      <td>None</td>\n",
       "      <td>None</td>\n",
       "      <td>r*****5</td>\n",
       "      <td>3cbe6a90e29414e36883ae835b40a53d</td>\n",
       "      <td>17634906</td>\n",
       "      <td>True</td>\n",
       "      <td>[id-11134103-7r98o-lkm4p6uuvbqnd8, id-11134103...</td>\n",
       "      <td>[{'id': 'id-11110103-6ke14-lkm4vgsq6zh169', 'c...</td>\n",
       "      <td>[{'itemid': 20282046522, 'shopid': 51925611, '...</td>\n",
       "      <td>None</td>\n",
       "      <td>None</td>\n",
       "      <td>None</td>\n",
       "      <td>None</td>\n",
       "      <td>1695022437</td>\n",
       "      <td>None</td>\n",
       "      <td>7.0</td>\n",
       "      <td>None</td>\n",
       "      <td>False</td>\n",
       "      <td>{'product_quality': 5, 'seller_service': 5, 'd...</td>\n",
       "      <td>False</td>\n",
       "      <td>{'tier_code': 20, 'user_tier_badge_url': 'http...</td>\n",
       "      <td>[]</td>\n",
       "      <td>False</td>\n",
       "      <td>None</td>\n",
       "      <td>{'is_oversea': False, 'origin_region': 'id'}</td>\n",
       "      <td>False</td>\n",
       "      <td>True</td>\n",
       "      <td>0</td>\n",
       "      <td>True</td>\n",
       "      <td>None</td>\n",
       "      <td>None</td>\n",
       "      <td>None</td>\n",
       "      <td>None</td>\n",
       "      <td>None</td>\n",
       "      <td></td>\n",
       "      <td>[{'image_id': 'id-11134103-7r98o-lkm4p6uuvbqnd...</td>\n",
       "      <td>{'key_media_code': 0, 'key_media_id': ''}</td>\n",
       "      <td>False</td>\n",
       "      <td>[]</td>\n",
       "      <td>None</td>\n",
       "      <td>None</td>\n",
       "      <td>None</td>\n",
       "      <td>ID</td>\n",
       "      <td>{'itemid': 20282046522, 'shopid': 51925611, 'n...</td>\n",
       "      <td>None</td>\n",
       "      <td>None</td>\n",
       "      <td>False</td>\n",
       "      <td>0</td>\n",
       "      <td>None</td>\n",
       "    </tr>\n",
       "    <tr>\n",
       "      <th>22</th>\n",
       "      <td>144599972233669</td>\n",
       "      <td>20282046522</td>\n",
       "      <td>12245579438</td>\n",
       "      <td>1691747255</td>\n",
       "      <td>1</td>\n",
       "      <td>349387490</td>\n",
       "      <td>51925611</td>\n",
       "      <td>Sepadan dengan Harga:sepadan\\n\\nProduk datang ...</td>\n",
       "      <td>5</td>\n",
       "      <td>2</td>\n",
       "      <td>1692471242</td>\n",
       "      <td>1</td>\n",
       "      <td>2</td>\n",
       "      <td>7</td>\n",
       "      <td>[]</td>\n",
       "      <td>False</td>\n",
       "      <td>None</td>\n",
       "      <td>None</td>\n",
       "      <td>s*****a</td>\n",
       "      <td>83e0765727c3f902cbd73e509b7f5a35</td>\n",
       "      <td>349367915</td>\n",
       "      <td>True</td>\n",
       "      <td>[id-11134103-7qul7-lkauj7dj0rpwcd, id-11134103...</td>\n",
       "      <td>[{'id': 'id-11110103-6jt78-lkaujzqlik6xcf', 'c...</td>\n",
       "      <td>[{'itemid': 20282046522, 'shopid': 51925611, '...</td>\n",
       "      <td>None</td>\n",
       "      <td>None</td>\n",
       "      <td>None</td>\n",
       "      <td>None</td>\n",
       "      <td>1694339255</td>\n",
       "      <td>None</td>\n",
       "      <td>3.0</td>\n",
       "      <td>None</td>\n",
       "      <td>False</td>\n",
       "      <td>{'product_quality': 5, 'seller_service': 5, 'd...</td>\n",
       "      <td>False</td>\n",
       "      <td>{'tier_code': 40, 'user_tier_badge_url': 'http...</td>\n",
       "      <td>[Sepadan dengan Harga, Fitur Terbaik]</td>\n",
       "      <td>True</td>\n",
       "      <td>None</td>\n",
       "      <td>{'is_oversea': False, 'origin_region': 'id'}</td>\n",
       "      <td>False</td>\n",
       "      <td>True</td>\n",
       "      <td>0</td>\n",
       "      <td>True</td>\n",
       "      <td>None</td>\n",
       "      <td>None</td>\n",
       "      <td>None</td>\n",
       "      <td>None</td>\n",
       "      <td>None</td>\n",
       "      <td></td>\n",
       "      <td>[{'image_id': 'id-11134103-7qul7-lkauj7dj0rpwc...</td>\n",
       "      <td>{'key_media_code': 0, 'key_media_id': ''}</td>\n",
       "      <td>False</td>\n",
       "      <td>[]</td>\n",
       "      <td>None</td>\n",
       "      <td>None</td>\n",
       "      <td>None</td>\n",
       "      <td>ID</td>\n",
       "      <td>{'itemid': 20282046522, 'shopid': 51925611, 'n...</td>\n",
       "      <td>None</td>\n",
       "      <td>None</td>\n",
       "      <td>False</td>\n",
       "      <td>0</td>\n",
       "      <td>None</td>\n",
       "    </tr>\n",
       "    <tr>\n",
       "      <th>23</th>\n",
       "      <td>145785084209111</td>\n",
       "      <td>20282046522</td>\n",
       "      <td>12331681162</td>\n",
       "      <td>1692468724</td>\n",
       "      <td>1</td>\n",
       "      <td>46115110</td>\n",
       "      <td>51925611</td>\n",
       "      <td>alhamdulillah hp sudah sampai.. \\naman terkend...</td>\n",
       "      <td>5</td>\n",
       "      <td>2</td>\n",
       "      <td>1693104539</td>\n",
       "      <td>1</td>\n",
       "      <td>2</td>\n",
       "      <td>7</td>\n",
       "      <td>[]</td>\n",
       "      <td>False</td>\n",
       "      <td>None</td>\n",
       "      <td>None</td>\n",
       "      <td>dinirohma611</td>\n",
       "      <td>2163789e9589f66beeaee41846857b81</td>\n",
       "      <td>46113724</td>\n",
       "      <td>False</td>\n",
       "      <td>[id-11134103-7r98o-lkmied1nvqc1c3, id-11134103...</td>\n",
       "      <td>[{'id': 'id-11110103-6ke14-lkmrig7hiq7zf2', 'c...</td>\n",
       "      <td>[{'itemid': 20282046522, 'shopid': 51925611, '...</td>\n",
       "      <td>None</td>\n",
       "      <td>None</td>\n",
       "      <td>None</td>\n",
       "      <td>None</td>\n",
       "      <td>1695060724</td>\n",
       "      <td>None</td>\n",
       "      <td>27.0</td>\n",
       "      <td>None</td>\n",
       "      <td>False</td>\n",
       "      <td>{'product_quality': 5, 'seller_service': 5, 'd...</td>\n",
       "      <td>False</td>\n",
       "      <td>{'tier_code': 30, 'user_tier_badge_url': 'http...</td>\n",
       "      <td>[]</td>\n",
       "      <td>False</td>\n",
       "      <td>None</td>\n",
       "      <td>{'is_oversea': False, 'origin_region': 'id'}</td>\n",
       "      <td>False</td>\n",
       "      <td>True</td>\n",
       "      <td>0</td>\n",
       "      <td>True</td>\n",
       "      <td>None</td>\n",
       "      <td>None</td>\n",
       "      <td>None</td>\n",
       "      <td>None</td>\n",
       "      <td>None</td>\n",
       "      <td></td>\n",
       "      <td>[{'image_id': 'id-11134103-7r98o-lkmied1nvqc1c...</td>\n",
       "      <td>{'key_media_code': 0, 'key_media_id': ''}</td>\n",
       "      <td>False</td>\n",
       "      <td>[]</td>\n",
       "      <td>None</td>\n",
       "      <td>None</td>\n",
       "      <td>None</td>\n",
       "      <td>ID</td>\n",
       "      <td>{'itemid': 20282046522, 'shopid': 51925611, 'n...</td>\n",
       "      <td>None</td>\n",
       "      <td>None</td>\n",
       "      <td>False</td>\n",
       "      <td>0</td>\n",
       "      <td>None</td>\n",
       "    </tr>\n",
       "    <tr>\n",
       "      <th>24</th>\n",
       "      <td>144849145252911</td>\n",
       "      <td>20282046522</td>\n",
       "      <td>12199606794</td>\n",
       "      <td>1691387364</td>\n",
       "      <td>1</td>\n",
       "      <td>87259400</td>\n",
       "      <td>51925611</td>\n",
       "      <td>ipengiriman cepat\\nProduk original dan harga s...</td>\n",
       "      <td>5</td>\n",
       "      <td>2</td>\n",
       "      <td>1692541024</td>\n",
       "      <td>1</td>\n",
       "      <td>2</td>\n",
       "      <td>7</td>\n",
       "      <td>[]</td>\n",
       "      <td>False</td>\n",
       "      <td>None</td>\n",
       "      <td>None</td>\n",
       "      <td>ellindalindoo</td>\n",
       "      <td>6a9c94f1ee11bb84f194cd816973da87</td>\n",
       "      <td>87257922</td>\n",
       "      <td>False</td>\n",
       "      <td>[id-11134103-7qul2-lk4wh2hcwl3j30, id-11134103...</td>\n",
       "      <td>[{'id': 'id-11110103-6jt7k-lk4wgxc0ft94bc', 'c...</td>\n",
       "      <td>[{'itemid': 20282046522, 'shopid': 51925611, '...</td>\n",
       "      <td>None</td>\n",
       "      <td>None</td>\n",
       "      <td>None</td>\n",
       "      <td>None</td>\n",
       "      <td>1693979364</td>\n",
       "      <td>None</td>\n",
       "      <td>3.0</td>\n",
       "      <td>None</td>\n",
       "      <td>False</td>\n",
       "      <td>{'product_quality': 5, 'seller_service': 5, 'd...</td>\n",
       "      <td>False</td>\n",
       "      <td>{'tier_code': 40, 'user_tier_badge_url': 'http...</td>\n",
       "      <td>[]</td>\n",
       "      <td>False</td>\n",
       "      <td>None</td>\n",
       "      <td>{'is_oversea': False, 'origin_region': 'id'}</td>\n",
       "      <td>False</td>\n",
       "      <td>True</td>\n",
       "      <td>0</td>\n",
       "      <td>True</td>\n",
       "      <td>None</td>\n",
       "      <td>None</td>\n",
       "      <td>None</td>\n",
       "      <td>None</td>\n",
       "      <td>None</td>\n",
       "      <td></td>\n",
       "      <td>[{'image_id': 'id-11134103-7qul2-lk4wh2hcwl3j3...</td>\n",
       "      <td>{'key_media_code': 0, 'key_media_id': ''}</td>\n",
       "      <td>False</td>\n",
       "      <td>[]</td>\n",
       "      <td>None</td>\n",
       "      <td>None</td>\n",
       "      <td>None</td>\n",
       "      <td>ID</td>\n",
       "      <td>{'itemid': 20282046522, 'shopid': 51925611, 'n...</td>\n",
       "      <td>None</td>\n",
       "      <td>None</td>\n",
       "      <td>False</td>\n",
       "      <td>0</td>\n",
       "      <td>None</td>\n",
       "    </tr>\n",
       "  </tbody>\n",
       "</table>\n",
       "</div>"
      ],
      "text/plain": [
       "            orderid       itemid  ...  super_review_status  item_cart_info\n",
       "0   145389818291449  20282046522  ...                    0            None\n",
       "1   145272354210475  20282046522  ...                    0            None\n",
       "2   146328248260133  20282046522  ...                    0            None\n",
       "3   145018472253232  20282046522  ...                    0            None\n",
       "4   144902339237858  20282046522  ...                    0            None\n",
       "5   145459660283119  20282046522  ...                    0            None\n",
       "6   144910004218296  20282046522  ...                    0            None\n",
       "7   144567734221465  20282046522  ...                    0            None\n",
       "8   144909334295893  20282046522  ...                    0            None\n",
       "9   144857977288610  20282046522  ...                    0            None\n",
       "10  145361307215004  20282046522  ...                    0            None\n",
       "11  144900147226370  20282046522  ...                    0            None\n",
       "12  144832034209831  20282046522  ...                    0            None\n",
       "13  145348825245438  20282046522  ...                    0            None\n",
       "14  145199574249761  20282046522  ...                    0            None\n",
       "15  144734974269729  20282046522  ...                    0            None\n",
       "16  144806178278351  20282046522  ...                    0            None\n",
       "17  145606052280517  20282046522  ...                    0            None\n",
       "18  145846229215941  20282046522  ...                    0            None\n",
       "19  144595525202190  20282046522  ...                    0            None\n",
       "20  144863204221284  20282046522  ...                    0            None\n",
       "21  145872516275899  20282046522  ...                    0            None\n",
       "22  144599972233669  20282046522  ...                    0            None\n",
       "23  145785084209111  20282046522  ...                    0            None\n",
       "24  144849145252911  20282046522  ...                    0            None\n",
       "\n",
       "[25 rows x 65 columns]"
      ]
     },
     "execution_count": 51,
     "metadata": {},
     "output_type": "execute_result"
    }
   ],
   "source": [
    "ratings=pd.DataFrame(df['data']['ratings'])\n",
    "ratings.head(25)"
   ]
  },
  {
   "cell_type": "code",
   "execution_count": null,
   "id": "66abd685-fc8e-4770-ba40-1dce5fe9f0f7",
   "metadata": {
    "executionCancelledAt": null,
    "executionTime": 133,
    "lastExecutedAt": 1693115710400,
    "lastScheduledRunId": null,
    "lastSuccessfullyExecutedCode": "ratingss = ratings[['comment', 'rating_star', 'author_username','like_count','detailed_rating','images','videos']]\nratingss.head(50)\n",
    "outputsMetadata": {
     "0": {
      "height": 313,
      "type": "dataFrame"
     }
    }
   },
   "outputs": [
    {
     "data": {
      "application/com.datacamp.data-table.v1+json": {
       "table": {
        "data": [
         {
          "author_username": "virjinki14",
          "comment": "Sepadan dengan Harga:YA\nFitur Terbaik:Kapasitas penyimpanan\n\nHampir seminggu pemakaian, \n(+) user interface enak dipake, body hp elegan\n(+) kamera foto lumayan jernih (siang/pencahayaan bagus), ada kamera 0.5\n(+) baterai pemakaian standar (sosmed) tahan bisa 12 jam-seharian\n(+) speakernya kuat walopun cuma satu\n\n(-) bingung kenapa tampilan di tiktok videonya pada ngezoom semua, kepotong, ngga full 🥲 masih nyari settingannya sampe skrg, udh coba update tetep sama aja\n(-) body gede jadi kalo digenggam satu tangan lama\" cape\n(-) kalo ngescroll/slide kurang srek, ga bouncy gmn gtu (mungkin krn sblmnya pake iph ato blm biasa aja hehehe)\n(-) charge dari 0-100% butuh waktu 2jam20menit\n(-) rekam video harus pake gimbal krn ga ada stabilisasinya\nTAPI, harga segini udah worth to buy kok. XIAOMI keren!!!",
          "detailed_rating": {
           "delivery_service": 5,
           "driver_service": null,
           "product_quality": 5,
           "seller_service": 5
          },
          "images": [
           "id-11134103-7r98o-lknfa025o01be4",
           "id-11134103-7r98o-lknfa025nztd5f",
           "id-11134103-7r98o-lknfa025nzu305",
           "id-11134103-7r98o-lknfa025nzj44e",
           "id-11134103-7r98o-lknfa025nzunc9"
          ],
          "index": 0,
          "like_count": 155,
          "rating_star": 5,
          "videos": [
           {
            "cover": "https://down-aka-sg.img.susercontent.com/id-11110103-23080-87ptittipxuvca",
            "cover_image_id": "sg-11134206-7rbk0-lkq288q769ata2",
            "duration": 14291,
            "highlight": {
             "cover": "https://play-ws.vod.shopee.com/c3/98934353/160/A3oyOYvMAFRpimsoEZ8JACc.jpg",
             "cover_image_id": "",
             "duration": 3000,
             "highlight": null,
             "id": "sg-11110160-6ke14-lkq2a9n0h54o00",
             "mms_ext": "{\"vid\":\"sg-11110160-6ke14-lkq2a9n0h54o00\",\"biz\":103,\"duration\":3000,\"create_time\":1692668165,\"serviceID\":6,\"cover\":\"https://play-ws.vod.shopee.com/c3/98934353/160/A3oyOYvMAFRpimsoEZ8JACc.jpg\",\"cover_list\":null,\"formats\":[],\"default_format\":{\"format\":600001,\"defn\":\"ORI\",\"profile\":\"MP4\",\"path\":\"\",\"url\":\"https://play-ws.vod.shopee.com/c3/98934353/160/A3oyOYAeAPRoimsoEagAACc.mp4\",\"width\":250,\"height\":250,\"bitrate\":222624,\"size\":85220,\"fps\":25,\"duration\":3000,\"update_time\":1692668166},\"extend_formats\":{\"H265\":[{\"format\":1600305,\"defn\":\"V270P\",\"profile\":\"MP4\",\"path\":\"api/v4/11110160/mms/sg-11110160-6ke14-lkq2a9n0h54o00.16003051692668174.mp4\",\"url\":\"https://play-ws.vod.shopee.com/api/v4/11110160/mms/sg-11110160-6ke14-lkq2a9n0h54o00.16003051692668174.mp4\",\"width\":250,\"height\":250,\"bitrate\":115478,\"size\":47052,\"fps\":25.33784,\"duration\":2960,\"update_time\":1692668168}]},\"ab_test\":\"\"}",
             "upload_time": null,
             "url": "https://play-ws.vod.shopee.com/c3/98934353/160/A3oyOYAeAPRoimsoEagAACc.mp4"
            },
            "id": "id-11110103-6ke14-lknf8bvfqqfd32",
            "mms_ext": "{\"vid\":\"id-11110103-6ke14-lknf8bvfqqfd32\",\"biz\":103,\"duration\":14291,\"create_time\":1692508347,\"serviceID\":6,\"cover\":\"https://down-aka-sg.img.susercontent.com/id-11110103-23080-87ptittipxuvca\",\"cover_list\":null,\"formats\":[{\"format\":1600323,\"defn\":\"V540P\",\"profile\":\"MP4\",\"path\":\"api/v4/11110103/mms/id-11110103-6ke14-lknf8bvfqqfd32.default.mp4\",\"url\":\"https://play-ws.vod.shopee.com/api/v4/11110103/mms/id-11110103-6ke14-lknf8bvfqqfd32.default.mp4\",\"width\":360,\"height\":640,\"bitrate\":453005,\"size\":995954,\"fps\":25.07022,\"duration\":14293,\"update_time\":1692508372},{\"format\":1600005,\"defn\":\"V640P\",\"profile\":\"MP4\",\"path\":\"api/v4/11110103/mms/id-11110103-6ke14-lknf8bvfqqfd32.16000051692508348.mp4\",\"url\":\"https://play-ws.vod.shopee.com/api/v4/11110103/mms/id-11110103-6ke14-lknf8bvfqqfd32.16000051692508348.mp4\",\"width\":360,\"height\":640,\"bitrate\":460958,\"size\":1005961,\"fps\":25.07022,\"duration\":14281,\"update_time\":1692508351}],\"default_format\":{\"format\":600001,\"defn\":\"ORI\",\"profile\":\"MP4\",\"path\":\"\",\"url\":\"https://play-ws.vod.shopee.com/c3/98934353/103/A3oyOYfDALRsb0UoEbYLACY.mp4\",\"width\":360,\"height\":640,\"bitrate\":1587659,\"size\":3021610,\"fps\":24,\"duration\":14291,\"update_time\":1692508348},\"extend_formats\":{\"H265\":[{\"format\":1600308,\"defn\":\"V640P\",\"profile\":\"MP4\",\"path\":\"api/v4/11110103/mms/id-11110103-6ke14-lknf8bvfqqfd32.16003081692558725.mp4\",\"url\":\"https://play-ws.vod.shopee.com/api/v4/11110103/mms/id-11110103-6ke14-lknf8bvfqqfd32.16003081692558725.mp4\",\"width\":360,\"height\":640,\"bitrate\":382445,\"size\":874101,\"fps\":25.07022,\"duration\":14281,\"update_time\":1692558737}]},\"ab_test\":\"\"}",
            "upload_time": null,
            "url": "https://play-ws.vod.shopee.com/api/v4/11110103/mms/id-11110103-6ke14-lknf8bvfqqfd32.default.mp4"
           }
          ]
         },
         {
          "author_username": "setiawan_custom",
          "comment": "Sepadan dengan Harga:sepadan\nFitur Terbaik:ram nya gede, body baguss mewah\n\nHP bagus , aman tidak ada yg kurang, pengemasan lumayan lama berfungsi dg baik, ram nya gede, semoga awett \nDulu beli note 11 disini jg pemakaian 3blan hilang kecopetan smoga kali ini awett aminn",
          "detailed_rating": {
           "delivery_service": 5,
           "driver_service": null,
           "product_quality": 5,
           "seller_service": 5
          },
          "images": [
           "id-11134103-7qul4-lke58bhicswkaf",
           "id-11134103-7qukw-lke58bhie7h045",
           "id-11134103-7qul4-lke58bhifm1ga6",
           "id-11134103-7qul4-lke58bhih0lw2e",
           "id-11134103-7qul9-lke58bhiif6ce5"
          ],
          "index": 1,
          "like_count": 58,
          "rating_star": 5,
          "videos": [
           {
            "cover": "https://down-aka-sg.img.susercontent.com/id-11110103-23080-iwtaz5mkfouva5",
            "cover_image_id": "sg-11134206-7r98o-lkk7hivjw2kb7e",
            "duration": 10289,
            "highlight": {
             "cover": "https://play-ws.vod.shopee.com/c3/98934353/160/A3oyOdbhANwwDRcoEYAAACc.jpg",
             "cover_image_id": "",
             "duration": 3000,
             "highlight": null,
             "id": "sg-11110160-6ke14-lkk7jdylpx2x7f",
             "mms_ext": "{\"vid\":\"sg-11110160-6ke14-lkk7jdylpx2x7f\",\"biz\":103,\"duration\":3000,\"create_time\":1692313792,\"serviceID\":6,\"cover\":\"https://play-ws.vod.shopee.com/c3/98934353/160/A3oyOdbhANwwDRcoEYAAACc.jpg\",\"cover_list\":null,\"formats\":[],\"default_format\":{\"format\":600001,\"defn\":\"ORI\",\"profile\":\"MP4\",\"path\":\"\",\"url\":\"https://play-ws.vod.shopee.com/c3/98934353/160/A3oyOYWPAFwwDRcoEYAFACc.mp4\",\"width\":250,\"height\":250,\"bitrate\":213501,\"size\":81914,\"fps\":25,\"duration\":3000,\"update_time\":1692313793},\"extend_formats\":{\"H265\":[{\"format\":1600305,\"defn\":\"V270P\",\"profile\":\"MP4\",\"path\":\"api/v4/11110160/mms/sg-11110160-6ke14-lkk7jdylpx2x7f.16003051692313800.mp4\",\"url\":\"https://play-ws.vod.shopee.com/api/v4/11110160/mms/sg-11110160-6ke14-lkk7jdylpx2x7f.16003051692313800.mp4\",\"width\":250,\"height\":250,\"bitrate\":104186,\"size\":42858,\"fps\":25.33784,\"duration\":2960,\"update_time\":1692313795}]},\"ab_test\":\"\"}",
             "upload_time": null,
             "url": "https://play-ws.vod.shopee.com/c3/98934353/160/A3oyOYWPAFwwDRcoEYAFACc.mp4"
            },
            "id": "id-11110103-6jt7g-lke5a66oqydwa3",
            "mms_ext": "{\"vid\":\"id-11110103-6jt7g-lke5a66oqydwa3\",\"biz\":103,\"duration\":10289,\"create_time\":1691946806,\"serviceID\":2,\"cover\":\"https://down-aka-sg.img.susercontent.com/id-11110103-23080-iwtaz5mkfouva5\",\"cover_list\":null,\"formats\":[{\"format\":1600323,\"defn\":\"V540P\",\"profile\":\"MP4\",\"path\":\"api/v4/11110103/mms/id-11110103-6jt7g-lke5a66oqydwa3.default.mp4\",\"url\":\"https://play-ws.vod.shopee.com/api/v4/11110103/mms/id-11110103-6jt7g-lke5a66oqydwa3.default.mp4\",\"width\":540,\"height\":960,\"bitrate\":259996,\"size\":506491,\"fps\":25.09728,\"duration\":10279,\"update_time\":1691946821},{\"format\":1600005,\"defn\":\"V640P\",\"profile\":\"MP4\",\"path\":\"api/v4/11110103/mms/id-11110103-6jt7g-lke5a66oqydwa3.16000051691946808.mp4\",\"url\":\"https://play-ws.vod.shopee.com/api/v4/11110103/mms/id-11110103-6jt7g-lke5a66oqydwa3.16000051691946808.mp4\",\"width\":540,\"height\":960,\"bitrate\":517277,\"size\":797076,\"fps\":25.09728,\"duration\":10279,\"update_time\":1691946813}],\"default_format\":{\"format\":600001,\"defn\":\"ORI\",\"profile\":\"MP4\",\"path\":\"\",\"url\":\"https://play-ws.vod.shopee.com/api/v4/11110103/mms/id-11110103-6jt7g-lke5a66oqydwa3.ori.mp4\",\"width\":540,\"height\":960,\"bitrate\":5177855,\"size\":6837590,\"fps\":17.57575,\"duration\":10289,\"update_time\":1691946807},\"extend_formats\":{\"H265\":[{\"format\":1600307,\"defn\":\"V540P\",\"profile\":\"MP4\",\"path\":\"api/v4/11110103/mms/id-11110103-6jt7g-lke5a66oqydwa3.16003071691946814.mp4\",\"url\":\"https://play-ws.vod.shopee.com/api/v4/11110103/mms/id-11110103-6jt7g-lke5a66oqydwa3.16003071691946814.mp4\",\"width\":540,\"height\":960,\"bitrate\":468393,\"size\":777745,\"fps\":25.09728,\"duration\":10279,\"update_time\":1691946828},{\"format\":1600308,\"defn\":\"V640P\",\"profile\":\"MP4\",\"path\":\"api/v4/11110103/mms/id-11110103-6jt7g-lke5a66oqydwa3.16003081692387753.mp4\",\"url\":\"https://play-ws.vod.shopee.com/api/v4/11110103/mms/id-11110103-6jt7g-lke5a66oqydwa3.16003081692387753.mp4\",\"width\":540,\"height\":960,\"bitrate\":481529,\"size\":794625,\"fps\":25.09728,\"duration\":10279,\"update_time\":1692387766}]},\"ab_test\":\"\"}",
            "upload_time": null,
            "url": "https://play-ws.vod.shopee.com/api/v4/11110103/mms/id-11110103-6jt7g-lke5a66oqydwa3.default.mp4"
           }
          ]
         },
         {
          "author_username": "fitrianingsihfitrianings649",
          "comment": "Fitur Terbaik:penyimpanan besar\nSepadan dengan Harga:2jtan\n\nAlhamdulillah dah sampe hp nya,pesan tanggal 22 Agustus sampe 23 Agustus.terimakasih seller",
          "detailed_rating": {
           "delivery_service": 5,
           "driver_service": null,
           "product_quality": 5,
           "seller_service": 5
          },
          "images": [
           "id-11134103-7r98o-lkrzfc6w3klfe6",
           "id-11134103-7r98o-lkrzfc30991e75",
           "id-11134103-7r98o-lkrzfc3098z09e",
           "id-11134103-7r98o-lkrzfc5860en51",
           "id-11134103-7r98o-lkrzfc3098qd94"
          ],
          "index": 2,
          "like_count": 17,
          "rating_star": 5,
          "videos": [
           {
            "cover": "https://down-aka-sg.img.susercontent.com/id-11110103-23080-3ptt386q02uve6",
            "cover_image_id": "sg-11134206-7rbk0-lkt39t83p6x320",
            "duration": 24450,
            "highlight": {
             "cover": "https://play-aka.vod.shopee.com/c3/98934353/160/A3oyOWk3ADQpRZcoEcELACc.jpg",
             "cover_image_id": "",
             "duration": 3079,
             "highlight": null,
             "id": "sg-11110160-6ke14-lkt3d1r36cgl45",
             "mms_ext": "{\"vid\":\"sg-11110160-6ke14-lkt3d1r36cgl45\",\"biz\":103,\"duration\":3079,\"create_time\":1692851579,\"serviceID\":6,\"cover\":\"https://play-aka.vod.shopee.com/c3/98934353/160/A3oyOWk3ADQpRZcoEcELACc.jpg\",\"cover_list\":null,\"formats\":[],\"default_format\":{\"format\":600001,\"defn\":\"ORI\",\"profile\":\"MP4\",\"path\":\"\",\"url\":\"https://play-aka.vod.shopee.com/c3/98934353/160/A3oyOZv2AMwoRZcoEdQIACc.mp4\",\"width\":250,\"height\":250,\"bitrate\":209400,\"size\":82374,\"fps\":25,\"duration\":3079,\"update_time\":1692851580},\"extend_formats\":{\"H265\":[{\"format\":1600305,\"defn\":\"V270P\",\"profile\":\"MP4\",\"path\":\"api/v4/11110160/mms/sg-11110160-6ke14-lkt3d1r36cgl45.16003051692851588.mp4\",\"url\":\"https://play-aka.vod.shopee.com/api/v4/11110160/mms/sg-11110160-6ke14-lkt3d1r36cgl45.16003051692851588.mp4\",\"width\":250,\"height\":250,\"bitrate\":123136,\"size\":51143,\"fps\":25.32895,\"duration\":3039,\"update_time\":1692851582}]},\"ab_test\":\"\"}",
             "upload_time": null,
             "url": "https://play-aka.vod.shopee.com/c3/98934353/160/A3oyOZv2AMwoRZcoEdQIACc.mp4"
            },
            "id": "id-11110103-6ke14-lkrzgpplmscqfe",
            "mms_ext": "{\"vid\":\"id-11110103-6ke14-lkrzgpplmscqfe\",\"biz\":103,\"duration\":24450,\"create_time\":1692784505,\"serviceID\":6,\"cover\":\"https://down-aka-sg.img.susercontent.com/id-11110103-23080-3ptt386q02uve6\",\"cover_list\":null,\"formats\":[{\"format\":1600323,\"defn\":\"V540P\",\"profile\":\"MP4\",\"path\":\"api/v4/11110103/mms/id-11110103-6ke14-lkrzgpplmscqfe.default.mp4\",\"url\":\"https://play-ws.vod.shopee.com/api/v4/11110103/mms/id-11110103-6ke14-lkrzgpplmscqfe.default.mp4\",\"width\":480,\"height\":848,\"bitrate\":407779,\"size\":1458616,\"fps\":25.04105,\"duration\":24469,\"update_time\":1692784525},{\"format\":1600005,\"defn\":\"V640P\",\"profile\":\"MP4\",\"path\":\"api/v4/11110103/mms/id-11110103-6ke14-lkrzgpplmscqfe.16000051692784506.mp4\",\"url\":\"https://play-ws.vod.shopee.com/api/v4/11110103/mms/id-11110103-6ke14-lkrzgpplmscqfe.16000051692784506.mp4\",\"width\":480,\"height\":848,\"bitrate\":591831,\"size\":2020743,\"fps\":25.04105,\"duration\":24451,\"update_time\":1692784516}],\"default_format\":{\"format\":600001,\"defn\":\"ORI\",\"profile\":\"MP4\",\"path\":\"\",\"url\":\"https://play-ws.vod.shopee.com/c3/98934353/103/A3oyOXv9AADFRocoEYMHACY.mp4\",\"width\":480,\"height\":848,\"bitrate\":1596082,\"size\":5074467,\"fps\":30,\"duration\":24450,\"update_time\":1692784506},\"extend_formats\":{\"H265\":[{\"format\":1600308,\"defn\":\"V640P\",\"profile\":\"MP4\",\"path\":\"api/v4/11110103/mms/id-11110103-6ke14-lkrzgpplmscqfe.16003081692920668.mp4\",\"url\":\"https://play-ws.vod.shopee.com/api/v4/11110103/mms/id-11110103-6ke14-lkrzgpplmscqfe.16003081692920668.mp4\",\"width\":480,\"height\":848,\"bitrate\":471604,\"size\":1657762,\"fps\":25.04105,\"duration\":24451,\"update_time\":1692920691}]},\"ab_test\":\"\"}",
            "upload_time": null,
            "url": "https://play-ws.vod.shopee.com/api/v4/11110103/mms/id-11110103-6ke14-lkrzgpplmscqfe.default.mp4"
           }
          ]
         },
         {
          "author_username": "n*****i",
          "comment": "Sepadan dengan Harga:barang sampai dengan selamat jakarta ke malang\nFitur Terbaik:barang sesuai realpict, bismillah semoga awet amin . Karena baru pertama order HP lewat online 🙏🏻🤗☺️",
          "detailed_rating": {
           "delivery_service": 5,
           "driver_service": null,
           "product_quality": 5,
           "seller_service": 5
          },
          "images": [
           "id-11134103-7qul5-lk9nrep4176hd4",
           "id-11134103-7qul1-lk9nrepo0dgqbe",
           "id-11134103-7qukx-lk9nrep416s427",
           "id-11134103-7qukz-lk9nrepo0dyu00",
           "id-11134103-7qul8-lk9nrepo0doic7"
          ],
          "index": 3,
          "like_count": 40,
          "rating_star": 5,
          "videos": [
           {
            "cover": "https://down-aka-sg.img.susercontent.com/id-11110103-23080-folonn81xjuv7e",
            "cover_image_id": "sg-11134206-7qve7-lkarwesuy6680e",
            "duration": 33166,
            "highlight": {
             "cover": "https://play-ws.vod.shopee.com/c3/98934353/160/A3oyOSvsAATL6Y4nEZYKACc.jpg",
             "cover_image_id": "",
             "duration": 3079,
             "highlight": null,
             "id": "sg-11110160-6jro3-lkarykcpf8uq79",
             "mms_ext": "{\"vid\":\"sg-11110160-6jro3-lkarykcpf8uq79\",\"biz\":103,\"duration\":3079,\"create_time\":1691742788,\"serviceID\":6,\"cover\":\"https://play-ws.vod.shopee.com/c3/98934353/160/A3oyOSvsAATL6Y4nEZYKACc.jpg\",\"cover_list\":null,\"formats\":[],\"default_format\":{\"format\":600001,\"defn\":\"ORI\",\"profile\":\"MP4\",\"path\":\"\",\"url\":\"https://play-ws.vod.shopee.com/c3/98934353/160/A3oyOXV7ACTK6Y4nEZcCACc.mp4\",\"width\":250,\"height\":250,\"bitrate\":279901,\"size\":109453,\"fps\":25,\"duration\":3079,\"update_time\":1691742789},\"extend_formats\":{\"H265\":[{\"format\":1600305,\"defn\":\"V270P\",\"profile\":\"MP4\",\"path\":\"api/v4/11110160/mms/sg-11110160-6jro3-lkarykcpf8uq79.16003051691742795.mp4\",\"url\":\"https://play-ws.vod.shopee.com/api/v4/11110160/mms/sg-11110160-6jro3-lkarykcpf8uq79.16003051691742795.mp4\",\"width\":250,\"height\":250,\"bitrate\":135450,\"size\":55810,\"fps\":25.32895,\"duration\":3039,\"update_time\":1691742791}]},\"ab_test\":\"\"}",
             "upload_time": null,
             "url": "https://play-ws.vod.shopee.com/c3/98934353/160/A3oyOXV7ACTK6Y4nEZcCACc.mp4"
            },
            "id": "id-11110103-6jt7b-lk9nqpveshuc79",
            "mms_ext": "{\"vid\":\"id-11110103-6jt7b-lk9nqpveshuc79\",\"biz\":103,\"duration\":33166,\"create_time\":1691675175,\"serviceID\":6,\"cover\":\"https://down-aka-sg.img.susercontent.com/id-11110103-23080-folonn81xjuv7e\",\"cover_list\":null,\"formats\":[{\"format\":1600408,\"defn\":\"V360P\",\"profile\":\"MP4\",\"path\":\"api/v4/11110103/mms/id-11110103-6jt7b-lk9nqpveshuc79.16004081692055413.mp4\",\"url\":\"https://play-ws.vod.shopee.com/api/v4/11110103/mms/id-11110103-6jt7b-lk9nqpveshuc79.16004081692055413.mp4\",\"width\":360,\"height\":640,\"bitrate\":358644,\"size\":1912894,\"fps\":25.03019,\"duration\":33181,\"update_time\":1692055421},{\"format\":1600323,\"defn\":\"V540P\",\"profile\":\"MP4\",\"path\":\"api/v4/11110103/mms/id-11110103-6jt7b-lk9nqpveshuc79.default.mp4\",\"url\":\"https://play-ws.vod.shopee.com/api/v4/11110103/mms/id-11110103-6jt7b-lk9nqpveshuc79.default.mp4\",\"width\":360,\"height\":640,\"bitrate\":472993,\"size\":2508250,\"fps\":25.03019,\"duration\":33194,\"update_time\":1691675198},{\"format\":1600005,\"defn\":\"V640P\",\"profile\":\"MP4\",\"path\":\"api/v4/11110103/mms/id-11110103-6jt7b-lk9nqpveshuc79.16000051691675177.mp4\",\"url\":\"https://play-ws.vod.shopee.com/api/v4/11110103/mms/id-11110103-6jt7b-lk9nqpveshuc79.16000051691675177.mp4\",\"width\":360,\"height\":640,\"bitrate\":632573,\"size\":3046823,\"fps\":25.03019,\"duration\":33181,\"update_time\":1691675186}],\"default_format\":{\"format\":600001,\"defn\":\"ORI\",\"profile\":\"MP4\",\"path\":\"\",\"url\":\"https://play-ws.vod.shopee.com/c3/98934353/103/A3oyOf2TAFypyn4nEYcLACY.mp4\",\"width\":360,\"height\":640,\"bitrate\":1512740,\"size\":6810660,\"fps\":30,\"duration\":33166,\"update_time\":1691675176},\"extend_formats\":{\"H265\":[{\"format\":1600412,\"defn\":\"V360P\",\"profile\":\"MP4\",\"path\":\"api/v4/11110103/mms/id-11110103-6jt7b-lk9nqpveshuc79.16004121692055422.mp4\",\"url\":\"https://play-ws.vod.shopee.com/api/v4/11110103/mms/id-11110103-6jt7b-lk9nqpveshuc79.16004121692055422.mp4\",\"width\":360,\"height\":640,\"bitrate\":236301,\"size\":1409939,\"fps\":25.03019,\"duration\":33181,\"update_time\":1692055452},{\"format\":1600308,\"defn\":\"V640P\",\"profile\":\"MP4\",\"path\":\"api/v4/11110103/mms/id-11110103-6jt7b-lk9nqpveshuc79.16003081691780197.mp4\",\"url\":\"https://play-ws.vod.shopee.com/api/v4/11110103/mms/id-11110103-6jt7b-lk9nqpveshuc79.16003081691780197.mp4\",\"width\":360,\"height\":640,\"bitrate\":339077,\"size\":1959655,\"fps\":25.03019,\"duration\":33181,\"update_time\":1691780236}]},\"ab_test\":\"\"}",
            "upload_time": null,
            "url": "https://play-ws.vod.shopee.com/api/v4/11110103/mms/id-11110103-6jt7b-lk9nqpveshuc79.16004081692055413.mp4"
           }
          ]
         },
         {
          "author_username": "nurbagusm6",
          "comment": "Sepadan dengan Harga:Kualitas dan harga worth it,\nFitur Terbaik:kamera pixel tinggi\n\nBismillah",
          "detailed_rating": {
           "delivery_service": 5,
           "driver_service": null,
           "product_quality": 5,
           "seller_service": 5
          },
          "images": [
           "id-11134103-7qula-lk6pqbs64de7ba",
           "id-11134103-7qul3-lk6pqbs64d9m22",
           "id-11134103-7quky-lk6pqbs64d9796",
           "id-11134103-7qul1-lk6pqbs64d7c95",
           "id-11134103-7qukx-lk6pqbsg3yv750"
          ],
          "index": 4,
          "like_count": 35,
          "rating_star": 5,
          "videos": [
           {
            "cover": "https://down-aka-sg.img.susercontent.com/id-11110103-7qul6-lk6pqzjldyjm33",
            "cover_image_id": "sg-11134206-7qvfw-lk8vifo1uaif95",
            "duration": 17090,
            "highlight": {
             "cover": "https://play-aka.vod.shopee.com/c3/98934353/160/A3oyOV52AJx3fXMnEZYEACc.jpg",
             "cover_image_id": "",
             "duration": 3079,
             "highlight": null,
             "id": "sg-11110160-6jrq2-lk8vk1oj0v0qe8",
             "mms_ext": "{\"vid\":\"sg-11110160-6jrq2-lk8vk1oj0v0qe8\",\"biz\":103,\"duration\":3079,\"create_time\":1691627767,\"serviceID\":6,\"cover\":\"https://play-aka.vod.shopee.com/c3/98934353/160/A3oyOV52AJx3fXMnEZYEACc.jpg\",\"cover_list\":null,\"formats\":[],\"default_format\":{\"format\":600001,\"defn\":\"ORI\",\"profile\":\"MP4\",\"path\":\"\",\"url\":\"https://play-aka.vod.shopee.com/c3/98934353/160/A3oyOWuHACR3fXMnEQ8LACc.mp4\",\"width\":250,\"height\":250,\"bitrate\":195410,\"size\":77143,\"fps\":25,\"duration\":3079,\"update_time\":1691627768},\"extend_formats\":{\"H265\":[{\"format\":1600305,\"defn\":\"V270P\",\"profile\":\"MP4\",\"path\":\"api/v4/11110160/mms/sg-11110160-6jrq2-lk8vk1oj0v0qe8.16003051691627774.mp4\",\"url\":\"https://play-aka.vod.shopee.com/api/v4/11110160/mms/sg-11110160-6jrq2-lk8vk1oj0v0qe8.16003051691627774.mp4\",\"width\":250,\"height\":250,\"bitrate\":82713,\"size\":35782,\"fps\":25.32895,\"duration\":3039,\"update_time\":1691627770}]},\"ab_test\":\"\"}",
             "upload_time": null,
             "url": "https://play-aka.vod.shopee.com/c3/98934353/160/A3oyOWuHACR3fXMnEQ8LACc.mp4"
            },
            "id": "id-11110103-6jt79-lk6pqzjlcjz68c",
            "mms_ext": "{\"vid\":\"id-11110103-6jt79-lk6pqzjlcjz68c\",\"biz\":103,\"duration\":17090,\"create_time\":1691496945,\"serviceID\":6,\"cover\":\"https://down-aka-sg.img.susercontent.com/id-11110103-7qul6-lk6pqzjldyjm33\",\"cover_list\":null,\"formats\":[{\"format\":1600323,\"defn\":\"V540P\",\"profile\":\"MP4\",\"path\":\"api/v4/11110103/mms/id-11110103-6jt79-lk6pqzjlcjz68c.default.mp4\",\"url\":\"https://play-ws.vod.shopee.com/api/v4/11110103/mms/id-11110103-6jt79-lk6pqzjlcjz68c.default.mp4\",\"width\":960,\"height\":540,\"bitrate\":457059,\"size\":1262053,\"fps\":25.05869,\"duration\":17110,\"update_time\":1691496972},{\"format\":1600005,\"defn\":\"V640P\",\"profile\":\"MP4\",\"path\":\"api/v4/11110103/mms/id-11110103-6jt79-lk6pqzjlcjz68c.16000051691496947.mp4\",\"url\":\"https://play-ws.vod.shopee.com/api/v4/11110103/mms/id-11110103-6jt79-lk6pqzjlcjz68c.16000051691496947.mp4\",\"width\":1138,\"height\":640,\"bitrate\":746425,\"size\":1811544,\"fps\":25.05869,\"duration\":17090,\"update_time\":1691496960}],\"default_format\":{\"format\":600001,\"defn\":\"ORI\",\"profile\":\"MP4\",\"path\":\"\",\"url\":\"https://play-ws.vod.shopee.com/api/v4/11110103/mms/id-11110103-6jt79-lk6pqzjlcjz68c.mp4\",\"width\":1280,\"height\":720,\"bitrate\":1500758,\"size\":3488225,\"fps\":30.05905,\"duration\":17090,\"update_time\":1691496946},\"extend_formats\":{\"H265\":[{\"format\":1600304,\"defn\":\"V480P\",\"profile\":\"MP4\",\"path\":\"api/v4/11110103/mms/id-11110103-6jt79-lk6pqzjlcjz68c.16003041691694851.mp4\",\"url\":\"https://play-ws.vod.shopee.com/api/v4/11110103/mms/id-11110103-6jt79-lk6pqzjlcjz68c.16003041691694851.mp4\",\"width\":854,\"height\":480,\"bitrate\":191412,\"size\":632281,\"fps\":25.05869,\"duration\":17090,\"update_time\":1691694866},{\"format\":1600307,\"defn\":\"V540P\",\"profile\":\"MP4\",\"path\":\"api/v4/11110103/mms/id-11110103-6jt79-lk6pqzjlcjz68c.16003071691496961.mp4\",\"url\":\"https://play-ws.vod.shopee.com/api/v4/11110103/mms/id-11110103-6jt79-lk6pqzjlcjz68c.16003071691496961.mp4\",\"width\":960,\"height\":540,\"bitrate\":223295,\"size\":768416,\"fps\":25.05869,\"duration\":17090,\"update_time\":1691496982},{\"format\":1600308,\"defn\":\"V640P\",\"profile\":\"MP4\",\"path\":\"api/v4/11110103/mms/id-11110103-6jt79-lk6pqzjlcjz68c.16003081691496961.mp4\",\"url\":\"https://play-ws.vod.shopee.com/api/v4/11110103/mms/id-11110103-6jt79-lk6pqzjlcjz68c.16003081691496961.mp4\",\"width\":1138,\"height\":640,\"bitrate\":283608,\"size\":896887,\"fps\":25.05869,\"duration\":17090,\"update_time\":1691496990}]},\"ab_test\":\"\"}",
            "upload_time": null,
            "url": "https://play-ws.vod.shopee.com/api/v4/11110103/mms/id-11110103-6jt79-lk6pqzjlcjz68c.default.mp4"
           }
          ]
         },
         {
          "author_username": "y*****p",
          "comment": "Fitur Terbaik:Kamera\nSepadan dengan Harga:Iyaa\n\nAlhamdulillah mendarat dengan selamat Hp aku nya hehehe😍 Akhirnya aku punya hp yang aku inginkan💓 kurirnya juga ramah banget, toko amanah selalu, pokoknya gapernah mengecewakan dah kalo tiap belanja di shopee tuu🤩🤩🤩 Terimakasih banyak shopee hehe^-^",
          "detailed_rating": {
           "delivery_service": 5,
           "driver_service": null,
           "product_quality": 5,
           "seller_service": 5
          },
          "images": [
           "id-11134103-7qul9-lkfa0siurwdydf",
           "id-11134103-7qul3-lkfa0siurw3m01",
           "id-11134103-7qul6-lkfa0sjer39w95",
           "id-11134103-7qul5-lkfa0sjer2o06b",
           "id-11134103-7qukw-lkfa0siutao2a9"
          ],
          "index": 5,
          "like_count": 9,
          "rating_star": 5,
          "videos": [
           {
            "cover": "https://down-aka-sg.img.susercontent.com/id-11110103-23080-wuxo4jaekpuvd0",
            "cover_image_id": "sg-11134206-7r98o-lkkcegcn0id7db",
            "duration": 16951,
            "highlight": {
             "cover": "https://play-ws.vod.shopee.com/c3/98934353/160/A3oyOVp1APR9BhkoEXwFACc.jpg",
             "cover_image_id": "",
             "duration": 3079,
             "highlight": null,
             "id": "sg-11110160-6ke14-lkkcgmqq7w9c63",
             "mms_ext": "{\"vid\":\"sg-11110160-6ke14-lkkcgmqq7w9c63\",\"biz\":103,\"duration\":3079,\"create_time\":1692322071,\"serviceID\":6,\"cover\":\"https://play-ws.vod.shopee.com/c3/98934353/160/A3oyOVp1APR9BhkoEXwFACc.jpg\",\"cover_list\":null,\"formats\":[],\"default_format\":{\"format\":600001,\"defn\":\"ORI\",\"profile\":\"MP4\",\"path\":\"\",\"url\":\"https://play-ws.vod.shopee.com/c3/98934353/160/A3oyOYQBAER9BhkoEX4CACc.mp4\",\"width\":250,\"height\":250,\"bitrate\":239249,\"size\":94016,\"fps\":25,\"duration\":3079,\"update_time\":1692322072},\"extend_formats\":{\"H265\":[{\"format\":1600305,\"defn\":\"V270P\",\"profile\":\"MP4\",\"path\":\"api/v4/11110160/mms/sg-11110160-6ke14-lkkcgmqq7w9c63.16003051692322079.mp4\",\"url\":\"https://play-ws.vod.shopee.com/api/v4/11110160/mms/sg-11110160-6ke14-lkkcgmqq7w9c63.16003051692322079.mp4\",\"width\":250,\"height\":250,\"bitrate\":82934,\"size\":35846,\"fps\":25.32895,\"duration\":3039,\"update_time\":1692322075}]},\"ab_test\":\"\"}",
             "upload_time": null,
             "url": "https://play-ws.vod.shopee.com/c3/98934353/160/A3oyOYQBAER9BhkoEX4CACc.mp4"
            },
            "id": "id-11110103-6jt7n-lkfa3a1lrsm176",
            "mms_ext": "{\"vid\":\"id-11110103-6jt7n-lkfa3a1lrsm176\",\"biz\":103,\"duration\":16951,\"create_time\":1692015451,\"serviceID\":2,\"cover\":\"https://down-aka-sg.img.susercontent.com/id-11110103-23080-wuxo4jaekpuvd0\",\"cover_list\":null,\"formats\":[{\"format\":1600323,\"defn\":\"V540P\",\"profile\":\"MP4\",\"path\":\"api/v4/11110103/mms/id-11110103-6jt7n-lkfa3a1lrsm176.default.mp4\",\"url\":\"https://play-ws.vod.shopee.com/api/v4/11110103/mms/id-11110103-6jt7n-lkfa3a1lrsm176.default.mp4\",\"width\":540,\"height\":960,\"bitrate\":487490,\"size\":1314491,\"fps\":25.05924,\"duration\":16959,\"update_time\":1692015481},{\"format\":1600005,\"defn\":\"V640P\",\"profile\":\"MP4\",\"path\":\"api/v4/11110103/mms/id-11110103-6jt7n-lkfa3a1lrsm176.16000051692015453.mp4\",\"url\":\"https://play-ws.vod.shopee.com/api/v4/11110103/mms/id-11110103-6jt7n-lkfa3a1lrsm176.16000051692015453.mp4\",\"width\":640,\"height\":1138,\"bitrate\":830989,\"size\":1972486,\"fps\":25.05924,\"duration\":16951,\"update_time\":1692015469}],\"default_format\":{\"format\":600001,\"defn\":\"ORI\",\"profile\":\"MP4\",\"path\":\"\",\"url\":\"https://play-ws.vod.shopee.com/api/v4/11110103/mms/id-11110103-6jt7n-lkfa3a1lrsm176.ori.mp4\",\"width\":720,\"height\":1280,\"bitrate\":1508348,\"size\":3469712,\"fps\":29.06,\"duration\":16951,\"update_time\":1692015453},\"extend_formats\":{\"H265\":[{\"format\":1600307,\"defn\":\"V540P\",\"profile\":\"MP4\",\"path\":\"api/v4/11110103/mms/id-11110103-6jt7n-lkfa3a1lrsm176.16003071692015471.mp4\",\"url\":\"https://play-ws.vod.shopee.com/api/v4/11110103/mms/id-11110103-6jt7n-lkfa3a1lrsm176.16003071692015471.mp4\",\"width\":540,\"height\":960,\"bitrate\":284536,\"size\":890407,\"fps\":25.05924,\"duration\":16951,\"update_time\":1692015501},{\"format\":1600308,\"defn\":\"V640P\",\"profile\":\"MP4\",\"path\":\"api/v4/11110103/mms/id-11110103-6jt7n-lkfa3a1lrsm176.16003081692015471.mp4\",\"url\":\"https://play-ws.vod.shopee.com/api/v4/11110103/mms/id-11110103-6jt7n-lkfa3a1lrsm176.16003081692015471.mp4\",\"width\":640,\"height\":1138,\"bitrate\":356489,\"size\":1042230,\"fps\":25.05924,\"duration\":16951,\"update_time\":1692015503}]},\"ab_test\":\"\"}",
            "upload_time": null,
            "url": "https://play-ws.vod.shopee.com/api/v4/11110103/mms/id-11110103-6jt7n-lkfa3a1lrsm176.default.mp4"
           }
          ]
         },
         {
          "author_username": "g*****a",
          "comment": "Fitur Terbaik:bagus banget\nSepadan dengan Harga:untuk harganya mantap dengan ram segini\n\nGilaakk si ini dengan harga segini dapat ram yg besar wortit bangett. Warnanya juga bagus bangeeetttt. Semoga fitur2nya berjalan dengan baik. Pengirimannya mantull cepet bangeet\nTerimakasih xoami dan shopee",
          "detailed_rating": {
           "delivery_service": 5,
           "driver_service": null,
           "product_quality": 5,
           "seller_service": 5
          },
          "images": [
           "id-11134103-7qul6-lkabn7a15b1m24",
           "id-11134103-7quky-lkacx4zmo7xma9",
           "id-11134103-7qul6-lkacx4zmo8fqd2"
          ],
          "index": 6,
          "like_count": 14,
          "rating_star": 5,
          "videos": [
           {
            "cover": "https://down-aka-sg.img.susercontent.com/id-11110103-7qukw-lkacxeeoxgvt5b",
            "cover_image_id": "sg-11134206-7qvea-lkawy1i8chfg02",
            "duration": 16299,
            "highlight": {
             "cover": "https://play-aka.vod.shopee.com/c3/98934353/160/A3oyOXFbALCu75AnEZAEACc.jpg",
             "cover_image_id": "",
             "duration": 3079,
             "highlight": null,
             "id": "sg-11110160-6jrp4-lkax0839dxtld8",
             "mms_ext": "{\"vid\":\"sg-11110160-6jrp4-lkax0839dxtld8\",\"biz\":103,\"duration\":3079,\"create_time\":1691751273,\"serviceID\":6,\"cover\":\"https://play-aka.vod.shopee.com/c3/98934353/160/A3oyOXFbALCu75AnEZAEACc.jpg\",\"cover_list\":null,\"formats\":[],\"default_format\":{\"format\":600001,\"defn\":\"ORI\",\"profile\":\"MP4\",\"path\":\"\",\"url\":\"https://play-aka.vod.shopee.com/c3/98934353/160/A3oyOYsqADCt75AnEZULACc.mp4\",\"width\":250,\"height\":250,\"bitrate\":332485,\"size\":129606,\"fps\":25,\"duration\":3079,\"update_time\":1691751274},\"extend_formats\":{\"H265\":[{\"format\":1600305,\"defn\":\"V270P\",\"profile\":\"MP4\",\"path\":\"api/v4/11110160/mms/sg-11110160-6jrp4-lkax0839dxtld8.16003051691751280.mp4\",\"url\":\"https://play-aka.vod.shopee.com/api/v4/11110160/mms/sg-11110160-6jrp4-lkax0839dxtld8.16003051691751280.mp4\",\"width\":250,\"height\":250,\"bitrate\":188700,\"size\":76057,\"fps\":25.32895,\"duration\":3039,\"update_time\":1691751277}]},\"ab_test\":\"\"}",
             "upload_time": null,
             "url": "https://play-aka.vod.shopee.com/c3/98934353/160/A3oyOYsqADCt75AnEZULACc.mp4"
            },
            "id": "id-11110103-6jt7j-lkacxeeow2bdb5",
            "mms_ext": "{\"vid\":\"id-11110103-6jt7j-lkacxeeow2bdb5\",\"biz\":103,\"duration\":16299,\"create_time\":1691717522,\"serviceID\":6,\"cover\":\"https://down-aka-sg.img.susercontent.com/id-11110103-7qukw-lkacxeeoxgvt5b\",\"cover_list\":null,\"formats\":[{\"format\":1600408,\"defn\":\"V360P\",\"profile\":\"MP4\",\"path\":\"api/v4/11110103/mms/id-11110103-6jt7j-lkacxeeow2bdb5.16004081692010051.mp4\",\"url\":\"https://play-ws.vod.shopee.com/api/v4/11110103/mms/id-11110103-6jt7j-lkacxeeow2bdb5.16004081692010051.mp4\",\"width\":360,\"height\":640,\"bitrate\":331247,\"size\":714453,\"fps\":25.06142,\"duration\":16301,\"update_time\":1692010056},{\"format\":1600322,\"defn\":\"V360P\",\"profile\":\"MP4\",\"path\":\"api/v4/11110103/mms/id-11110103-6jt7j-lkacxeeow2bdb5.16003221692299435.mp4\",\"url\":\"https://play-ws.vod.shopee.com/api/v4/11110103/mms/id-11110103-6jt7j-lkacxeeow2bdb5.16003221692299435.mp4\",\"width\":360,\"height\":640,\"bitrate\":228574,\"size\":503470,\"fps\":25.06142,\"duration\":16298,\"update_time\":1692299439},{\"format\":1600323,\"defn\":\"V540P\",\"profile\":\"MP4\",\"path\":\"api/v4/11110103/mms/id-11110103-6jt7j-lkacxeeow2bdb5.default.mp4\",\"url\":\"https://play-ws.vod.shopee.com/api/v4/11110103/mms/id-11110103-6jt7j-lkacxeeow2bdb5.default.mp4\",\"width\":360,\"height\":640,\"bitrate\":507544,\"size\":1071175,\"fps\":25.06142,\"duration\":16298,\"update_time\":1691717551},{\"format\":1600005,\"defn\":\"V640P\",\"profile\":\"MP4\",\"path\":\"api/v4/11110103/mms/id-11110103-6jt7j-lkacxeeow2bdb5.16000051691717524.mp4\",\"url\":\"https://play-ws.vod.shopee.com/api/v4/11110103/mms/id-11110103-6jt7j-lkacxeeow2bdb5.16000051691717524.mp4\",\"width\":360,\"height\":640,\"bitrate\":678657,\"size\":1421433,\"fps\":25.06142,\"duration\":16301,\"update_time\":1691717530}],\"default_format\":{\"format\":600001,\"defn\":\"ORI\",\"profile\":\"MP4\",\"path\":\"\",\"url\":\"https://play-ws.vod.shopee.com/api/v4/11110103/mms/id-11110103-6jt7j-lkacxeeow2bdb5.mp4\",\"width\":360,\"height\":640,\"bitrate\":1493321,\"size\":3058302,\"fps\":30,\"duration\":16299,\"update_time\":1691717523},\"extend_formats\":{\"H265\":[{\"format\":1600412,\"defn\":\"V360P\",\"profile\":\"MP4\",\"path\":\"api/v4/11110103/mms/id-11110103-6jt7j-lkacxeeow2bdb5.16004121692010057.mp4\",\"url\":\"https://play-ws.vod.shopee.com/api/v4/11110103/mms/id-11110103-6jt7j-lkacxeeow2bdb5.16004121692010057.mp4\",\"width\":360,\"height\":640,\"bitrate\":245250,\"size\":542346,\"fps\":25.06142,\"duration\":16301,\"update_time\":1692010074},{\"format\":1600315,\"defn\":\"V360P\",\"profile\":\"MP4\",\"path\":\"api/v4/11110103/mms/id-11110103-6jt7j-lkacxeeow2bdb5.16003151692299436.mp4\",\"url\":\"https://play-ws.vod.shopee.com/api/v4/11110103/mms/id-11110103-6jt7j-lkacxeeow2bdb5.16003151692299436.mp4\",\"width\":360,\"height\":640,\"bitrate\":265623,\"size\":583805,\"fps\":25.06142,\"duration\":16301,\"update_time\":1692299451},{\"format\":1600308,\"defn\":\"V640P\",\"profile\":\"MP4\",\"path\":\"api/v4/11110103/mms/id-11110103-6jt7j-lkacxeeow2bdb5.16003081691780515.mp4\",\"url\":\"https://play-ws.vod.shopee.com/api/v4/11110103/mms/id-11110103-6jt7j-lkacxeeow2bdb5.16003081691780515.mp4\",\"width\":360,\"height\":640,\"bitrate\":396673,\"size\":850492,\"fps\":25.06142,\"duration\":16301,\"update_time\":1691780535}]},\"ab_test\":\"\"}",
            "upload_time": null,
            "url": "https://play-ws.vod.shopee.com/api/v4/11110103/mms/id-11110103-6jt7j-lkacxeeow2bdb5.16004081692010051.mp4"
           }
          ]
         },
         {
          "author_username": "e*****1",
          "comment": "Fitur Terbaik:Penyimpanan BESAR Dan Body Kaca\n\nMantap Harga Segitu Bisa Dapat Penyimpanan 8/256 GB Tapi Sayangnya Masih Emmc dan Chipset Helio G88.\n#Majelis Kaum Mendang Mending",
          "detailed_rating": {
           "delivery_service": 5,
           "driver_service": null,
           "product_quality": 5,
           "seller_service": 5
          },
          "images": [
           "id-11134103-7qula-lk2bozd657vmb2",
           "id-11134103-7qul0-lk2bozd6585bd4",
           "id-11134103-7qul8-lk2bozd658arf9",
           "id-11134103-7quky-lk2bozd657xj6e",
           "id-11134103-7qul7-lk2bozea3ljs95"
          ],
          "index": 7,
          "like_count": 22,
          "rating_star": 5,
          "videos": [
           {
            "cover": "https://down-aka-sg.img.susercontent.com/id-11110103-23080-f56ytsbylcuv11",
            "cover_image_id": "sg-11134206-7qvg9-lk5k54dze9sa5e",
            "duration": 22895,
            "highlight": {
             "cover": "https://play-ws.vod.shopee.com/c3/98934353/160/A3oyOSKOALCspEMnISEBCAAn.jpg",
             "cover_image_id": "",
             "duration": 3119,
             "highlight": null,
             "id": "sg-11110160-6jrp0-lk5k7jek0q7o6e",
             "mms_ext": "{\"vid\":\"sg-11110160-6jrp0-lk5k7jek0q7o6e\",\"biz\":103,\"duration\":3119,\"create_time\":1691427083,\"serviceID\":6,\"cover\":\"https://play-ws.vod.shopee.com/c3/98934353/160/A3oyOSKOALCspEMnISEBCAAn.jpg\",\"cover_list\":null,\"formats\":[],\"default_format\":{\"format\":600001,\"defn\":\"ORI\",\"profile\":\"MP4\",\"path\":\"\",\"url\":\"https://play-ws.vod.shopee.com/c3/98934353/160/A3oyOSs4AAispEMnIR8BAAAn.mp4\",\"width\":250,\"height\":250,\"bitrate\":221310,\"size\":88276,\"fps\":25,\"duration\":3119,\"update_time\":1691427084},\"extend_formats\":{\"H265\":[{\"format\":1600305,\"defn\":\"V270P\",\"profile\":\"MP4\",\"path\":\"api/v4/11110160/mms/sg-11110160-6jrp0-lk5k7jek0q7o6e.16003051691427090.mp4\",\"url\":\"https://play-ws.vod.shopee.com/api/v4/11110160/mms/sg-11110160-6jrp0-lk5k7jek0q7o6e.16003051691427090.mp4\",\"width\":250,\"height\":250,\"bitrate\":98397,\"size\":42239,\"fps\":25.32467,\"duration\":3079,\"update_time\":1691427087}]},\"ab_test\":\"\"}",
             "upload_time": null,
             "url": "https://play-ws.vod.shopee.com/c3/98934353/160/A3oyOSs4AAispEMnIR8BAAAn.mp4"
            },
            "id": "id-11110103-6jt74-lk2bnvzlrnmvae",
            "mms_ext": "{\"vid\":\"id-11110103-6jt74-lk2bnvzlrnmvae\",\"biz\":103,\"duration\":22895,\"create_time\":1691231121,\"serviceID\":6,\"cover\":\"https://down-aka-sg.img.susercontent.com/id-11110103-23080-f56ytsbylcuv11\",\"cover_list\":null,\"formats\":[{\"format\":1600046,\"defn\":\"V480P\",\"profile\":\"MP4\",\"path\":\"api/v4/11110103/mms/id-11110103-6jt74-lk2bnvzlrnmvae.12000461691231142.mp4\",\"url\":\"https://play-ws.vod.shopee.com/api/v4/11110103/mms/id-11110103-6jt74-lk2bnvzlrnmvae.12000461691231142.mp4\",\"width\":640,\"height\":480,\"bitrate\":647890,\"size\":1879161,\"fps\":25,\"duration\":22919,\"update_time\":1691231142},{\"format\":1600005,\"defn\":\"V640P\",\"profile\":\"MP4\",\"path\":\"api/v4/11110103/mms/id-11110103-6jt74-lk2bnvzlrnmvae.16000051691231123.mp4\",\"url\":\"https://play-ws.vod.shopee.com/api/v4/11110103/mms/id-11110103-6jt74-lk2bnvzlrnmvae.16000051691231123.mp4\",\"width\":854,\"height\":640,\"bitrate\":654804,\"size\":2161705,\"fps\":25.04386,\"duration\":22895,\"update_time\":1691231135}],\"default_format\":{\"format\":600001,\"defn\":\"ORI\",\"profile\":\"MP4\",\"path\":\"\",\"url\":\"https://play-ws.vod.shopee.com/c3/98934353/103/A3oyORjQAHy76xQnIRABAQAm.mp4\",\"width\":1280,\"height\":960,\"bitrate\":1504991,\"size\":4679127,\"fps\":30.0442,\"duration\":22895,\"update_time\":1691231122},\"extend_formats\":{\"H265\":[{\"format\":1600304,\"defn\":\"V480P\",\"profile\":\"MP4\",\"path\":\"api/v4/11110103/mms/id-11110103-6jt74-lk2bnvzlrnmvae.16003041691231136.mp4\",\"url\":\"https://play-ws.vod.shopee.com/api/v4/11110103/mms/id-11110103-6jt74-lk2bnvzlrnmvae.16003041691231136.mp4\",\"width\":640,\"height\":480,\"bitrate\":204828,\"size\":882361,\"fps\":25.04386,\"duration\":22895,\"update_time\":1691231159},{\"format\":1600308,\"defn\":\"V640P\",\"profile\":\"MP4\",\"path\":\"api/v4/11110103/mms/id-11110103-6jt74-lk2bnvzlrnmvae.16003081691231136.mp4\",\"url\":\"https://play-ws.vod.shopee.com/api/v4/11110103/mms/id-11110103-6jt74-lk2bnvzlrnmvae.16003081691231136.mp4\",\"width\":854,\"height\":640,\"bitrate\":289042,\"size\":1214044,\"fps\":25.04386,\"duration\":22895,\"update_time\":1691231164}]},\"ab_test\":\"\"}",
            "upload_time": null,
            "url": "https://play-ws.vod.shopee.com/api/v4/11110103/mms/id-11110103-6jt74-lk2bnvzlrnmvae.12000461691231142.mp4"
           }
          ]
         },
         {
          "author_username": "s*****t",
          "comment": "Fitur Terbaik:hp sudah datang tanpa ada cacat sedikitpun\nSepadan dengan Harga:harga relatif murah tapi barang bagus",
          "detailed_rating": {
           "delivery_service": 5,
           "driver_service": null,
           "product_quality": 5,
           "seller_service": 5
          },
          "images": [
           "id-11134103-7qukw-lk6ida2b9qprf3",
           "id-11134103-7qul6-lk6ida2bb5a7d7",
           "id-11134103-7qukx-lk6ida2bcjun02",
           "id-11134103-7qukz-lk6ida2bdyf391",
           "id-11134103-7qula-lk6ida2bfczj17"
          ],
          "index": 8,
          "like_count": 44,
          "rating_star": 5,
          "videos": [
           {
            "cover": "https://down-aka-sg.img.susercontent.com/id-11110103-23080-a7rlfpatsguv62",
            "cover_image_id": "sg-11134206-7qvcu-lk6imm87ewlzf7",
            "duration": 59959,
            "highlight": {
             "cover": "https://play-ws.vod.shopee.com/c3/98934353/160/A3oyOQm0ABRYeVEnIUcBAQAn.jpg",
             "cover_image_id": "",
             "duration": 3039,
             "highlight": null,
             "id": "sg-11110160-6jrq1-lk6iphzphma256",
             "mms_ext": "{\"vid\":\"sg-11110160-6jrq1-lk6iphzphma256\",\"biz\":103,\"duration\":3039,\"create_time\":1691485093,\"serviceID\":6,\"cover\":\"https://play-ws.vod.shopee.com/c3/98934353/160/A3oyOQm0ABRYeVEnIUcBAQAn.jpg\",\"cover_list\":null,\"formats\":[],\"default_format\":{\"format\":600001,\"defn\":\"ORI\",\"profile\":\"MP4\",\"path\":\"\",\"url\":\"https://play-ws.vod.shopee.com/c3/98934353/160/A3oyOW0eAMBXeVEnIUUBCAAn.mp4\",\"width\":250,\"height\":250,\"bitrate\":257989,\"size\":99888,\"fps\":25,\"duration\":3039,\"update_time\":1691485095},\"extend_formats\":{\"H265\":[{\"format\":1600305,\"defn\":\"V270P\",\"profile\":\"MP4\",\"path\":\"api/v4/11110160/mms/sg-11110160-6jrq1-lk6iphzphma256.16003051691485100.mp4\",\"url\":\"https://play-ws.vod.shopee.com/api/v4/11110160/mms/sg-11110160-6jrq1-lk6iphzphma256.16003051691485100.mp4\",\"width\":250,\"height\":250,\"bitrate\":129530,\"size\":52904,\"fps\":25.33333,\"duration\":3000,\"update_time\":1691485096}]},\"ab_test\":\"\"}",
             "upload_time": null,
             "url": "https://play-ws.vod.shopee.com/c3/98934353/160/A3oyOW0eAMBXeVEnIUUBCAAn.mp4"
            },
            "id": "id-11110103-6jt7f-lk6ig3o4kyzua7",
            "mms_ext": "{\"vid\":\"id-11110103-6jt7f-lk6ig3o4kyzua7\",\"biz\":103,\"duration\":59959,\"create_time\":1691484794,\"serviceID\":6,\"cover\":\"https://down-aka-sg.img.susercontent.com/id-11110103-23080-a7rlfpatsguv62\",\"cover_list\":null,\"formats\":[{\"format\":1600408,\"defn\":\"V360P\",\"profile\":\"MP4\",\"path\":\"api/v4/11110103/mms/id-11110103-6jt7f-lk6ig3o4kyzua7.16004081691691002.mp4\",\"url\":\"https://play-ws.vod.shopee.com/api/v4/11110103/mms/id-11110103-6jt7f-lk6ig3o4kyzua7.16004081691691002.mp4\",\"width\":360,\"height\":640,\"bitrate\":210024,\"size\":2347287,\"fps\":25.01665,\"duration\":60040,\"update_time\":1691691031},{\"format\":1600322,\"defn\":\"V360P\",\"profile\":\"MP4\",\"path\":\"api/v4/11110103/mms/id-11110103-6jt7f-lk6ig3o4kyzua7.16003221691694224.mp4\",\"url\":\"https://play-ws.vod.shopee.com/api/v4/11110103/mms/id-11110103-6jt7f-lk6ig3o4kyzua7.16003221691694224.mp4\",\"width\":360,\"height\":640,\"bitrate\":203551,\"size\":2291905,\"fps\":25.01668,\"duration\":59959,\"update_time\":1691694249},{\"format\":1600409,\"defn\":\"V540P\",\"profile\":\"MP4\",\"path\":\"api/v4/11110103/mms/id-11110103-6jt7f-lk6ig3o4kyzua7.16004091691691032.mp4\",\"url\":\"https://play-ws.vod.shopee.com/api/v4/11110103/mms/id-11110103-6jt7f-lk6ig3o4kyzua7.16004091691691032.mp4\",\"width\":540,\"height\":960,\"bitrate\":440762,\"size\":4318323,\"fps\":25.01665,\"duration\":60040,\"update_time\":1691691058},{\"format\":1600323,\"defn\":\"V540P\",\"profile\":\"MP4\",\"path\":\"api/v4/11110103/mms/id-11110103-6jt7f-lk6ig3o4kyzua7.default.mp4\",\"url\":\"https://play-ws.vod.shopee.com/api/v4/11110103/mms/id-11110103-6jt7f-lk6ig3o4kyzua7.default.mp4\",\"width\":540,\"height\":960,\"bitrate\":440290,\"size\":4305552,\"fps\":25.01668,\"duration\":59959,\"update_time\":1691484881},{\"format\":1600005,\"defn\":\"V640P\",\"profile\":\"MP4\",\"path\":\"api/v4/11110103/mms/id-11110103-6jt7f-lk6ig3o4kyzua7.16000051691484796.mp4\",\"url\":\"https://play-ws.vod.shopee.com/api/v4/11110103/mms/id-11110103-6jt7f-lk6ig3o4kyzua7.16000051691484796.mp4\",\"width\":640,\"height\":1138,\"bitrate\":751583,\"size\":6404059,\"fps\":25.01668,\"duration\":59959,\"update_time\":1691484844},{\"format\":1600410,\"defn\":\"V720P\",\"profile\":\"MP4\",\"path\":\"api/v4/11110103/mms/id-11110103-6jt7f-lk6ig3o4kyzua7.16004101691691032.mp4\",\"url\":\"https://play-ws.vod.shopee.com/api/v4/11110103/mms/id-11110103-6jt7f-lk6ig3o4kyzua7.16004101691691032.mp4\",\"width\":720,\"height\":1280,\"bitrate\":933455,\"size\":8015920,\"fps\":25.01665,\"duration\":60040,\"update_time\":1691691088},{\"format\":1600411,\"defn\":\"V720P\",\"profile\":\"MP4\",\"path\":\"api/v4/11110103/mms/id-11110103-6jt7f-lk6ig3o4kyzua7.16004111691691032.mp4\",\"url\":\"https://play-ws.vod.shopee.com/api/v4/11110103/mms/id-11110103-6jt7f-lk6ig3o4kyzua7.16004111691691032.mp4\",\"width\":720,\"height\":1280,\"bitrate\":1100668,\"size\":9270857,\"fps\":25.01665,\"duration\":60040,\"update_time\":1691691077},{\"format\":1600324,\"defn\":\"V720P\",\"profile\":\"MP4\",\"path\":\"api/v4/11110103/mms/id-11110103-6jt7f-lk6ig3o4kyzua7.16003241691694224.mp4\",\"url\":\"https://play-ws.vod.shopee.com/api/v4/11110103/mms/id-11110103-6jt7f-lk6ig3o4kyzua7.16003241691694224.mp4\",\"width\":720,\"height\":1280,\"bitrate\":753176,\"size\":6650555,\"fps\":25.01668,\"duration\":59959,\"update_time\":1691694279},{\"format\":1600325,\"defn\":\"V720P\",\"profile\":\"MP4\",\"path\":\"api/v4/11110103/mms/id-11110103-6jt7f-lk6ig3o4kyzua7.16003251691694224.mp4\",\"url\":\"https://play-ws.vod.shopee.com/api/v4/11110103/mms/id-11110103-6jt7f-lk6ig3o4kyzua7.16003251691694224.mp4\",\"width\":720,\"height\":1280,\"bitrate\":1428290,\"size\":11710534,\"fps\":25.01668,\"duration\":59959,\"update_time\":1691694278}],\"default_format\":{\"format\":600001,\"defn\":\"ORI\",\"profile\":\"MP4\",\"path\":\"\",\"url\":\"https://play-ws.vod.shopee.com/c3/98934353/103/A3oyOa7CACiuZlEnIS4BBQAm.mp4\",\"width\":720,\"height\":1280,\"bitrate\":6138284,\"size\":47018344,\"fps\":24.53254,\"duration\":59959,\"update_time\":1691484796},\"extend_formats\":{\"H265\":[{\"format\":1600412,\"defn\":\"V360P\",\"profile\":\"MP4\",\"path\":\"api/v4/11110103/mms/id-11110103-6jt7f-lk6ig3o4kyzua7.16004121691691032.mp4\",\"url\":\"https://play-ws.vod.shopee.com/api/v4/11110103/mms/id-11110103-6jt7f-lk6ig3o4kyzua7.16004121691691032.mp4\",\"width\":360,\"height\":640,\"bitrate\":189022,\"size\":2193671,\"fps\":25.01665,\"duration\":60040,\"update_time\":1691691076},{\"format\":1600315,\"defn\":\"V360P\",\"profile\":\"MP4\",\"path\":\"api/v4/11110103/mms/id-11110103-6jt7f-lk6ig3o4kyzua7.16003151691694224.mp4\",\"url\":\"https://play-ws.vod.shopee.com/api/v4/11110103/mms/id-11110103-6jt7f-lk6ig3o4kyzua7.16003151691694224.mp4\",\"width\":360,\"height\":640,\"bitrate\":265612,\"size\":2765726,\"fps\":25.01668,\"duration\":59959,\"update_time\":1691694287},{\"format\":1600304,\"defn\":\"V480P\",\"profile\":\"MP4\",\"path\":\"api/v4/11110103/mms/id-11110103-6jt7f-lk6ig3o4kyzua7.16003041691519395.mp4\",\"url\":\"https://play-ws.vod.shopee.com/api/v4/11110103/mms/id-11110103-6jt7f-lk6ig3o4kyzua7.16003041691519395.mp4\",\"width\":480,\"height\":854,\"bitrate\":483878,\"size\":4401614,\"fps\":25.01668,\"duration\":59959,\"update_time\":1691519457},{\"format\":1600413,\"defn\":\"V540P\",\"profile\":\"MP4\",\"path\":\"api/v4/11110103/mms/id-11110103-6jt7f-lk6ig3o4kyzua7.16004131691691032.mp4\",\"url\":\"https://play-ws.vod.shopee.com/api/v4/11110103/mms/id-11110103-6jt7f-lk6ig3o4kyzua7.16004131691691032.mp4\",\"width\":540,\"height\":960,\"bitrate\":329803,\"size\":3489545,\"fps\":25.01665,\"duration\":60040,\"update_time\":1691691105},{\"format\":1600316,\"defn\":\"V540P\",\"profile\":\"MP4\",\"path\":\"api/v4/11110103/mms/id-11110103-6jt7f-lk6ig3o4kyzua7.16003161691694224.mp4\",\"url\":\"https://play-ws.vod.shopee.com/api/v4/11110103/mms/id-11110103-6jt7f-lk6ig3o4kyzua7.16003161691694224.mp4\",\"width\":540,\"height\":960,\"bitrate\":562677,\"size\":5231656,\"fps\":25.01668,\"duration\":59959,\"update_time\":1691694322},{\"format\":1600307,\"defn\":\"V540P\",\"profile\":\"MP4\",\"path\":\"api/v4/11110103/mms/id-11110103-6jt7f-lk6ig3o4kyzua7.16003071691484845.mp4\",\"url\":\"https://play-ws.vod.shopee.com/api/v4/11110103/mms/id-11110103-6jt7f-lk6ig3o4kyzua7.16003071691484845.mp4\",\"width\":540,\"height\":960,\"bitrate\":559359,\"size\":5206767,\"fps\":25.01668,\"duration\":59959,\"update_time\":1691484921},{\"format\":1600308,\"defn\":\"V640P\",\"profile\":\"MP4\",\"path\":\"api/v4/11110103/mms/id-11110103-6jt7f-lk6ig3o4kyzua7.16003081691484845.mp4\",\"url\":\"https://play-ws.vod.shopee.com/api/v4/11110103/mms/id-11110103-6jt7f-lk6ig3o4kyzua7.16003081691484845.mp4\",\"width\":640,\"height\":1138,\"bitrate\":713455,\"size\":6361720,\"fps\":25.01668,\"duration\":59959,\"update_time\":1691484956},{\"format\":1600414,\"defn\":\"V720P\",\"profile\":\"MP4\",\"path\":\"api/v4/11110103/mms/id-11110103-6jt7f-lk6ig3o4kyzua7.16004141691691032.mp4\",\"url\":\"https://play-ws.vod.shopee.com/api/v4/11110103/mms/id-11110103-6jt7f-lk6ig3o4kyzua7.16004141691691032.mp4\",\"width\":720,\"height\":1280,\"bitrate\":710803,\"size\":6348946,\"fps\":25.01665,\"duration\":60040,\"update_time\":1691691152},{\"format\":1600415,\"defn\":\"V720P\",\"profile\":\"MP4\",\"path\":\"api/v4/11110103/mms/id-11110103-6jt7f-lk6ig3o4kyzua7.16004151691691032.mp4\",\"url\":\"https://play-ws.vod.shopee.com/api/v4/11110103/mms/id-11110103-6jt7f-lk6ig3o4kyzua7.16004151691691032.mp4\",\"width\":720,\"height\":1280,\"bitrate\":714890,\"size\":6379621,\"fps\":25.01665,\"duration\":60040,\"update_time\":1691691161},{\"format\":1600317,\"defn\":\"V720P\",\"profile\":\"MP4\",\"path\":\"api/v4/11110103/mms/id-11110103-6jt7f-lk6ig3o4kyzua7.16003171691694224.mp4\",\"url\":\"https://play-ws.vod.shopee.com/api/v4/11110103/mms/id-11110103-6jt7f-lk6ig3o4kyzua7.16003171691694224.mp4\",\"width\":720,\"height\":1280,\"bitrate\":1268970,\"size\":10525303,\"fps\":25.01668,\"duration\":59959,\"update_time\":1691694399},{\"format\":1600318,\"defn\":\"V720P\",\"profile\":\"MP4\",\"path\":\"api/v4/11110103/mms/id-11110103-6jt7f-lk6ig3o4kyzua7.16003181691694224.mp4\",\"url\":\"https://play-ws.vod.shopee.com/api/v4/11110103/mms/id-11110103-6jt7f-lk6ig3o4kyzua7.16003181691694224.mp4\",\"width\":720,\"height\":1280,\"bitrate\":1270687,\"size\":10538174,\"fps\":25.01668,\"duration\":59959,\"update_time\":1691694373}]},\"ab_test\":\"\"}",
            "upload_time": null,
            "url": "https://play-ws.vod.shopee.com/api/v4/11110103/mms/id-11110103-6jt7f-lk6ig3o4kyzua7.16004081691691002.mp4"
           }
          ]
         },
         {
          "author_username": "c*****3",
          "comment": "Fitur Terbaik:bgs sesuai dengan deskripsi\nSepadan dengan Harga:hrga sesuai ya dengan hpnya bgs skli\n\nPsn tnggl 5 sampai tnggl 9 oktober 2023 \nBgs sesuai dengan di pesan pengerjaannya rapih \nRekomen",
          "detailed_rating": {
           "delivery_service": 5,
           "driver_service": null,
           "product_quality": 5,
           "seller_service": 5
          },
          "images": [
           "id-11134103-7qul0-lk7zm6ak30svb3",
           "id-11134103-7qul6-lk7zm6ak4fdbf9",
           "id-11134103-7qul2-lk7zmoi7fk8z13",
           "id-11134103-7qul7-lk7zmoi7fjvr92"
          ],
          "index": 9,
          "like_count": 8,
          "rating_star": 5,
          "videos": [
           {
            "cover": "https://down-aka-sg.img.susercontent.com/id-11110103-23080-ne4h6fy10huvc8",
            "cover_image_id": "sg-11134206-7qve4-lk93lswk43uy78",
            "duration": 32250,
            "highlight": {
             "cover": "https://play-ws.vod.shopee.com/c3/98934353/160/A3oyOV7jAAzavnYnEZEBACc.jpg",
             "cover_image_id": "",
             "duration": 3000,
             "highlight": null,
             "id": "sg-11110160-6jro4-lk93odfsqnlqe6",
             "mms_ext": "{\"vid\":\"sg-11110160-6jro4-lk93odfsqnlqe6\",\"biz\":103,\"duration\":3000,\"create_time\":1691641421,\"serviceID\":6,\"cover\":\"https://play-ws.vod.shopee.com/c3/98934353/160/A3oyOV7jAAzavnYnEZEBACc.jpg\",\"cover_list\":null,\"formats\":[],\"default_format\":{\"format\":600001,\"defn\":\"ORI\",\"profile\":\"MP4\",\"path\":\"\",\"url\":\"https://play-ws.vod.shopee.com/c3/98934353/160/A3oyOZciAKjZvnYnEY8BACc.mp4\",\"width\":250,\"height\":250,\"bitrate\":280856,\"size\":107072,\"fps\":25,\"duration\":3000,\"update_time\":1691641422},\"extend_formats\":{\"H265\":[{\"format\":1600305,\"defn\":\"V270P\",\"profile\":\"MP4\",\"path\":\"api/v4/11110160/mms/sg-11110160-6jro4-lk93odfsqnlqe6.16003051691641428.mp4\",\"url\":\"https://play-ws.vod.shopee.com/api/v4/11110160/mms/sg-11110160-6jro4-lk93odfsqnlqe6.16003051691641428.mp4\",\"width\":250,\"height\":250,\"bitrate\":138902,\"size\":55703,\"fps\":25.33784,\"duration\":2960,\"update_time\":1691641425}]},\"ab_test\":\"\"}",
             "upload_time": null,
             "url": "https://play-ws.vod.shopee.com/c3/98934353/160/A3oyOZciAKjZvnYnEY8BACc.mp4"
            },
            "id": "id-11110103-6jt7h-lk7zqi1u5fze5a",
            "mms_ext": "{\"vid\":\"id-11110103-6jt7h-lk7zqi1u5fze5a\",\"biz\":103,\"duration\":32250,\"create_time\":1691574273,\"serviceID\":6,\"cover\":\"https://down-aka-sg.img.susercontent.com/id-11110103-23080-ne4h6fy10huvc8\",\"cover_list\":null,\"formats\":[{\"format\":1600323,\"defn\":\"V540P\",\"profile\":\"MP4\",\"path\":\"api/v4/11110103/mms/id-11110103-6jt7h-lk7zqi1u5fze5a.default.mp4\",\"url\":\"https://play-ws.vod.shopee.com/api/v4/11110103/mms/id-11110103-6jt7h-lk7zqi1u5fze5a.default.mp4\",\"width\":360,\"height\":640,\"bitrate\":383003,\"size\":1615971,\"fps\":25.03106,\"duration\":32256,\"update_time\":1691574291},{\"format\":1600005,\"defn\":\"V640P\",\"profile\":\"MP4\",\"path\":\"api/v4/11110103/mms/id-11110103-6jt7h-lk7zqi1u5fze5a.16000051691574274.mp4\",\"url\":\"https://play-ws.vod.shopee.com/api/v4/11110103/mms/id-11110103-6jt7h-lk7zqi1u5fze5a.16000051691574274.mp4\",\"width\":360,\"height\":640,\"bitrate\":354131,\"size\":1503820,\"fps\":25.03106,\"duration\":32252,\"update_time\":1691574280}],\"default_format\":{\"format\":600001,\"defn\":\"ORI\",\"profile\":\"MP4\",\"path\":\"\",\"url\":\"https://play-ws.vod.shopee.com/c3/98934353/103/A3oyOcEAAOAPvGYnEWEGACY.mp4\",\"width\":360,\"height\":640,\"bitrate\":1505108,\"size\":6088162,\"fps\":24,\"duration\":32250,\"update_time\":1691574274},\"extend_formats\":{\"H265\":[{\"format\":1600308,\"defn\":\"V640P\",\"profile\":\"MP4\",\"path\":\"api/v4/11110103/mms/id-11110103-6jt7h-lk7zqi1u5fze5a.16003081691695055.mp4\",\"url\":\"https://play-ws.vod.shopee.com/api/v4/11110103/mms/id-11110103-6jt7h-lk7zqi1u5fze5a.16003081691695055.mp4\",\"width\":360,\"height\":640,\"bitrate\":229638,\"size\":1006016,\"fps\":25.03106,\"duration\":32252,\"update_time\":1691695074}]},\"ab_test\":\"\"}",
            "upload_time": null,
            "url": "https://play-ws.vod.shopee.com/api/v4/11110103/mms/id-11110103-6jt7h-lk7zqi1u5fze5a.default.mp4"
           }
          ]
         },
         {
          "author_username": "yesiwidyarto_96",
          "comment": "Fitur Terbaik:mantapp\nSepadan dengan Harga:murah\n\nMantap, sangat murah harganya, dan elegan modelnya, mantapp sekali, insha Allah puas",
          "detailed_rating": {
           "delivery_service": null,
           "driver_service": null,
           "product_quality": 5,
           "seller_service": null
          },
          "images": [
           "id-11134103-7qul4-lkf5nn09v4ple7",
           "id-11134103-7qukw-lkf5nn0tub2sec",
           "id-11134103-7quky-lkf5nn0tuazu86",
           "id-11134103-7qukx-lkf5nvezk5ec7c",
           "id-11134103-7qul4-lkf5odev81hw6c"
          ],
          "index": 10,
          "like_count": 6,
          "rating_star": 5,
          "videos": [
           {
            "cover": "https://down-aka-sg.img.susercontent.com/id-11110103-23080-jg0f1ujzfpuv6b",
            "cover_image_id": "sg-11134206-7qvcz-lkg3ss16t9z062",
            "duration": 43700,
            "highlight": {
             "cover": "https://play-ws.vod.shopee.com/c3/98934353/160/A3oyOf3OAPyv3dsnERMEACc.jpg",
             "cover_image_id": "",
             "duration": 3000,
             "highlight": null,
             "id": "sg-11110160-6jrpm-lkg3wp1of1kse2",
             "mms_ext": "{\"vid\":\"sg-11110160-6jrpm-lkg3wp1of1kse2\",\"biz\":103,\"duration\":3000,\"create_time\":1692065551,\"serviceID\":6,\"cover\":\"https://play-ws.vod.shopee.com/c3/98934353/160/A3oyOf3OAPyv3dsnERMEACc.jpg\",\"cover_list\":null,\"formats\":[],\"default_format\":{\"format\":600001,\"defn\":\"ORI\",\"profile\":\"MP4\",\"path\":\"\",\"url\":\"https://play-ws.vod.shopee.com/c3/98934353/160/A3oyOQH=AFiv3dsnEbwIACc.mp4\",\"width\":250,\"height\":250,\"bitrate\":257768,\"size\":98362,\"fps\":25,\"duration\":3000,\"update_time\":1692065551},\"extend_formats\":{\"H265\":[{\"format\":1600305,\"defn\":\"V270P\",\"profile\":\"MP4\",\"path\":\"api/v4/11110160/mms/sg-11110160-6jrpm-lkg3wp1of1kse2.16003051692065558.mp4\",\"url\":\"https://play-ws.vod.shopee.com/api/v4/11110160/mms/sg-11110160-6jrpm-lkg3wp1of1kse2.16003051692065558.mp4\",\"width\":250,\"height\":250,\"bitrate\":142556,\"size\":57055,\"fps\":25.33784,\"duration\":2960,\"update_time\":1692065554}]},\"ab_test\":\"\"}",
             "upload_time": null,
             "url": "https://play-ws.vod.shopee.com/c3/98934353/160/A3oyOQH=AFiv3dsnEbwIACc.mp4"
            },
            "id": "id-11110103-6jt7i-lkf5p0kdcb3e3d",
            "mms_ext": "{\"vid\":\"id-11110103-6jt7i-lkf5p0kdcb3e3d\",\"biz\":103,\"duration\":43700,\"create_time\":1692008037,\"serviceID\":6,\"cover\":\"https://down-aka-sg.img.susercontent.com/id-11110103-23080-jg0f1ujzfpuv6b\",\"cover_list\":null,\"formats\":[{\"format\":1600323,\"defn\":\"V540P\",\"profile\":\"MP4\",\"path\":\"api/v4/11110103/mms/id-11110103-6jt7i-lkf5p0kdcb3e3d.default.mp4\",\"url\":\"https://play-ws.vod.shopee.com/api/v4/11110103/mms/id-11110103-6jt7i-lkf5p0kdcb3e3d.default.mp4\",\"width\":480,\"height\":848,\"bitrate\":445561,\"size\":2990558,\"fps\":25.02291,\"duration\":43712,\"update_time\":1692008073},{\"format\":1600005,\"defn\":\"V640P\",\"profile\":\"MP4\",\"path\":\"api/v4/11110103/mms/id-11110103-6jt7i-lkf5p0kdcb3e3d.16000051692008039.mp4\",\"url\":\"https://play-ws.vod.shopee.com/api/v4/11110103/mms/id-11110103-6jt7i-lkf5p0kdcb3e3d.16000051692008039.mp4\",\"width\":480,\"height\":848,\"bitrate\":673988,\"size\":4239771,\"fps\":25.02291,\"duration\":43700,\"update_time\":1692008054}],\"default_format\":{\"format\":600001,\"defn\":\"ORI\",\"profile\":\"MP4\",\"path\":\"\",\"url\":\"https://play-ws.vod.shopee.com/c3/98934353/103/A3oyOVwCAKTuJs4nEaYGACY.mp4\",\"width\":480,\"height\":848,\"bitrate\":1398211,\"size\":8175278,\"fps\":20,\"duration\":43700,\"update_time\":1692008038},\"extend_formats\":{\"H265\":[{\"format\":1600308,\"defn\":\"V640P\",\"profile\":\"MP4\",\"path\":\"api/v4/11110103/mms/id-11110103-6jt7i-lkf5p0kdcb3e3d.16003081692128210.mp4\",\"url\":\"https://play-ws.vod.shopee.com/api/v4/11110103/mms/id-11110103-6jt7i-lkf5p0kdcb3e3d.16003081692128210.mp4\",\"width\":480,\"height\":848,\"bitrate\":451826,\"size\":3031456,\"fps\":25.02291,\"duration\":43700,\"update_time\":1692128257}]},\"ab_test\":\"\"}",
            "upload_time": null,
            "url": "https://play-ws.vod.shopee.com/api/v4/11110103/mms/id-11110103-6jt7i-lkf5p0kdcb3e3d.default.mp4"
           }
          ]
         },
         {
          "author_username": "6*****6",
          "comment": "Sepadan dengan Harga:sangat sepadan dengan harga\nFitur Terbaik:teknologi AI\n\nAlhamdulillah sudah sampai dengan baik, Terimakasih banyak seller karena sudah amanah, semoga awet dan bisa langganan 🙏😊",
          "detailed_rating": {
           "delivery_service": 4,
           "driver_service": null,
           "product_quality": 5,
           "seller_service": 4
          },
          "images": [
           "id-11134103-7qul7-lkad836tt4t5d4",
           "id-11134103-7qukz-lkad8391pvw61e",
           "id-11134103-7qul3-lkad8373sppme4",
           "id-11134103-7qul5-lkad8391pvlucf",
           "id-11134103-7qul0-lkad8373spskc5"
          ],
          "index": 11,
          "like_count": 39,
          "rating_star": 5,
          "videos": [
           {
            "cover": "https://down-aka-sg.img.susercontent.com/id-11110103-7qul6-lkad97oml7pcc2",
            "cover_image_id": "sg-11134206-7qve3-lkaxyu260t6o8d",
            "duration": 30860,
            "highlight": {
             "cover": "https://play-ws.vod.shopee.com/c3/98934353/160/A3oyOeOvAGy0WZEnEZwAACc.jpg",
             "cover_image_id": "",
             "duration": 3079,
             "highlight": null,
             "id": "sg-11110160-6jrpu-lkay1ez00nd3a7",
             "mms_ext": "{\"vid\":\"sg-11110160-6jrpu-lkay1ez00nd3a7\",\"biz\":103,\"duration\":3079,\"create_time\":1691753010,\"serviceID\":6,\"cover\":\"https://play-ws.vod.shopee.com/c3/98934353/160/A3oyOeOvAGy0WZEnEZwAACc.jpg\",\"cover_list\":null,\"formats\":[],\"default_format\":{\"format\":600001,\"defn\":\"ORI\",\"profile\":\"MP4\",\"path\":\"\",\"url\":\"https://play-ws.vod.shopee.com/c3/98934353/160/A3oyObHeABS0WZEnEZgFACc.mp4\",\"width\":250,\"height\":250,\"bitrate\":371184,\"size\":144730,\"fps\":25,\"duration\":3079,\"update_time\":1691753011},\"extend_formats\":{\"H265\":[{\"format\":1600305,\"defn\":\"V270P\",\"profile\":\"MP4\",\"path\":\"api/v4/11110160/mms/sg-11110160-6jrpu-lkay1ez00nd3a7.16003051691753017.mp4\",\"url\":\"https://play-ws.vod.shopee.com/api/v4/11110160/mms/sg-11110160-6jrpu-lkay1ez00nd3a7.16003051691753017.mp4\",\"width\":250,\"height\":250,\"bitrate\":162994,\"size\":66281,\"fps\":25.32895,\"duration\":3039,\"update_time\":1691753014}]},\"ab_test\":\"\"}",
             "upload_time": null,
             "url": "https://play-ws.vod.shopee.com/c3/98934353/160/A3oyObHeABS0WZEnEZgFACc.mp4"
            },
            "id": "id-11110103-6jt7d-lkad97omjt4w56",
            "mms_ext": "{\"vid\":\"id-11110103-6jt7d-lkad97omjt4w56\",\"biz\":103,\"duration\":30860,\"create_time\":1691718077,\"serviceID\":6,\"cover\":\"https://down-aka-sg.img.susercontent.com/id-11110103-7qul6-lkad97oml7pcc2\",\"cover_list\":null,\"formats\":[{\"format\":1600408,\"defn\":\"V360P\",\"profile\":\"MP4\",\"path\":\"api/v4/11110103/mms/id-11110103-6jt7d-lkad97omjt4w56.16004081691901632.mp4\",\"url\":\"https://play-ws.vod.shopee.com/api/v4/11110103/mms/id-11110103-6jt7d-lkad97omjt4w56.16004081691901632.mp4\",\"width\":360,\"height\":800,\"bitrate\":393913,\"size\":1591579,\"fps\":25.03247,\"duration\":30860,\"update_time\":1691901643},{\"format\":1600322,\"defn\":\"V360P\",\"profile\":\"MP4\",\"path\":\"api/v4/11110103/mms/id-11110103-6jt7d-lkad97omjt4w56.16003221691865891.mp4\",\"url\":\"https://play-ws.vod.shopee.com/api/v4/11110103/mms/id-11110103-6jt7d-lkad97omjt4w56.16003221691865891.mp4\",\"width\":360,\"height\":800,\"bitrate\":222427,\"size\":1246006,\"fps\":25.03247,\"duration\":30870,\"update_time\":1691865905},{\"format\":1600409,\"defn\":\"V540P\",\"profile\":\"MP4\",\"path\":\"api/v4/11110103/mms/id-11110103-6jt7d-lkad97omjt4w56.16004091691901644.mp4\",\"url\":\"https://play-ws.vod.shopee.com/api/v4/11110103/mms/id-11110103-6jt7d-lkad97omjt4w56.16004091691901644.mp4\",\"width\":540,\"height\":1200,\"bitrate\":698224,\"size\":2763087,\"fps\":25.03247,\"duration\":30860,\"update_time\":1691901662},{\"format\":1600323,\"defn\":\"V540P\",\"profile\":\"MP4\",\"path\":\"api/v4/11110103/mms/id-11110103-6jt7d-lkad97omjt4w56.default.mp4\",\"url\":\"https://play-ws.vod.shopee.com/api/v4/11110103/mms/id-11110103-6jt7d-lkad97omjt4w56.default.mp4\",\"width\":540,\"height\":1200,\"bitrate\":496460,\"size\":2430328,\"fps\":25.03247,\"duration\":30870,\"update_time\":1691718117},{\"format\":1600005,\"defn\":\"V640P\",\"profile\":\"MP4\",\"path\":\"api/v4/11110103/mms/id-11110103-6jt7d-lkad97omjt4w56.16000051691718079.mp4\",\"url\":\"https://play-ws.vod.shopee.com/api/v4/11110103/mms/id-11110103-6jt7d-lkad97omjt4w56.16000051691718079.mp4\",\"width\":576,\"height\":1280,\"bitrate\":847442,\"size\":3660341,\"fps\":25.03247,\"duration\":30860,\"update_time\":1691718098}],\"default_format\":{\"format\":600001,\"defn\":\"ORI\",\"profile\":\"MP4\",\"path\":\"\",\"url\":\"https://play-ws.vod.shopee.com/api/v4/11110103/mms/id-11110103-6jt7d-lkad97omjt4w56.mp4\",\"width\":576,\"height\":1280,\"bitrate\":1991158,\"size\":8188750,\"fps\":30.03279,\"duration\":30860,\"update_time\":1691718078},\"extend_formats\":{\"H265\":[{\"format\":1600412,\"defn\":\"V360P\",\"profile\":\"MP4\",\"path\":\"api/v4/11110103/mms/id-11110103-6jt7d-lkad97omjt4w56.16004121691901644.mp4\",\"url\":\"https://play-ws.vod.shopee.com/api/v4/11110103/mms/id-11110103-6jt7d-lkad97omjt4w56.16004121691901644.mp4\",\"width\":360,\"height\":800,\"bitrate\":246866,\"size\":1028759,\"fps\":25.03247,\"duration\":30860,\"update_time\":1691901680},{\"format\":1600315,\"defn\":\"V360P\",\"profile\":\"MP4\",\"path\":\"api/v4/11110103/mms/id-11110103-6jt7d-lkad97omjt4w56.16003151691865891.mp4\",\"url\":\"https://play-ws.vod.shopee.com/api/v4/11110103/mms/id-11110103-6jt7d-lkad97omjt4w56.16003151691865891.mp4\",\"width\":360,\"height\":800,\"bitrate\":274679,\"size\":1458559,\"fps\":25.03247,\"duration\":30860,\"update_time\":1691865922},{\"format\":1600304,\"defn\":\"V480P\",\"profile\":\"MP4\",\"path\":\"api/v4/11110103/mms/id-11110103-6jt7d-lkad97omjt4w56.16003041691780506.mp4\",\"url\":\"https://play-ws.vod.shopee.com/api/v4/11110103/mms/id-11110103-6jt7d-lkad97omjt4w56.16003041691780506.mp4\",\"width\":480,\"height\":1066,\"bitrate\":494821,\"size\":2306119,\"fps\":25.03247,\"duration\":30860,\"update_time\":1691780560},{\"format\":1600413,\"defn\":\"V540P\",\"profile\":\"MP4\",\"path\":\"api/v4/11110103/mms/id-11110103-6jt7d-lkad97omjt4w56.16004131691901644.mp4\",\"url\":\"https://play-ws.vod.shopee.com/api/v4/11110103/mms/id-11110103-6jt7d-lkad97omjt4w56.16004131691901644.mp4\",\"width\":540,\"height\":1200,\"bitrate\":400350,\"size\":1619652,\"fps\":25.03247,\"duration\":30860,\"update_time\":1691901700},{\"format\":1600307,\"defn\":\"V540P\",\"profile\":\"MP4\",\"path\":\"api/v4/11110103/mms/id-11110103-6jt7d-lkad97omjt4w56.16003071691718099.mp4\",\"url\":\"https://play-ws.vod.shopee.com/api/v4/11110103/mms/id-11110103-6jt7d-lkad97omjt4w56.16003071691718099.mp4\",\"width\":540,\"height\":1200,\"bitrate\":559367,\"size\":2678123,\"fps\":25.03247,\"duration\":30860,\"update_time\":1691718183},{\"format\":1600316,\"defn\":\"V540P\",\"profile\":\"MP4\",\"path\":\"api/v4/11110103/mms/id-11110103-6jt7d-lkad97omjt4w56.16003161691865891.mp4\",\"url\":\"https://play-ws.vod.shopee.com/api/v4/11110103/mms/id-11110103-6jt7d-lkad97omjt4w56.16003161691865891.mp4\",\"width\":540,\"height\":1200,\"bitrate\":417835,\"size\":2133206,\"fps\":25.03247,\"duration\":30860,\"update_time\":1691865942},{\"format\":1600308,\"defn\":\"V640P\",\"profile\":\"MP4\",\"path\":\"api/v4/11110103/mms/id-11110103-6jt7d-lkad97omjt4w56.16003081691718099.mp4\",\"url\":\"https://play-ws.vod.shopee.com/api/v4/11110103/mms/id-11110103-6jt7d-lkad97omjt4w56.16003081691718099.mp4\",\"width\":576,\"height\":1280,\"bitrate\":656436,\"size\":3051833,\"fps\":25.03247,\"duration\":30860,\"update_time\":1691718192}]},\"ab_test\":\"\"}",
            "upload_time": null,
            "url": "https://play-ws.vod.shopee.com/api/v4/11110103/mms/id-11110103-6jt7d-lkad97omjt4w56.16004081691901632.mp4"
           }
          ]
         },
         {
          "author_username": "rurosan",
          "comment": "Fitur Terbaik:Bagus semua\nSepadan dengan Harga:ya, spek memuaskan\n\nIni yg ke 3 kalinya beli di official Xiaomi mulai dari redmi note 9, redmi 10, dan ini yg redmi 12. Tidak mengecewakan. Packing dus plus buble wrap 🤩. Video nya kena pelanggaran karna gelap 🤣 harap maklum pakai hp jadul jadi tidak bisa di share..",
          "detailed_rating": {
           "delivery_service": 5,
           "driver_service": null,
           "product_quality": 5,
           "seller_service": 5
          },
          "images": [
           "id-11134103-7qul2-lk5jqaoef12a6a",
           "id-11134103-7qukx-lk5jqaoegfmq9f",
           "id-11134103-7qul7-lk5jqaoehu7604",
           "id-11134103-7qul2-lk5jqaoej8rm92",
           "id-11134103-7qul5-lk5jqaoeknc2b0"
          ],
          "index": 12,
          "like_count": 8,
          "rating_star": 5,
          "videos": [
           {
            "cover": "https://down-aka-sg.img.susercontent.com/id-11110103-23080-mhlphf0yufuv98",
            "cover_image_id": "sg-11134206-7qvem-lk66beqodji610",
            "duration": 9404,
            "highlight": {
             "cover": "https://play-ws.vod.shopee.com/c3/98934353/160/A3oyOXUYALwGh0wnIUkBBQAn.jpg",
             "cover_image_id": "",
             "duration": 3079,
             "highlight": null,
             "id": "sg-11110160-6jrpw-lk66db7o23py0e",
             "mms_ext": "{\"vid\":\"sg-11110160-6jrpw-lk66db7o23py0e\",\"biz\":103,\"duration\":3079,\"create_time\":1691464346,\"serviceID\":6,\"cover\":\"https://play-ws.vod.shopee.com/c3/98934353/160/A3oyOXUYALwGh0wnIUkBBQAn.jpg\",\"cover_list\":null,\"formats\":[],\"default_format\":{\"format\":600001,\"defn\":\"ORI\",\"profile\":\"MP4\",\"path\":\"\",\"url\":\"https://play-ws.vod.shopee.com/c3/98934353/160/A3oyOfm8ADgGh0wnIUEBCgAn.mp4\",\"width\":250,\"height\":250,\"bitrate\":308067,\"size\":120566,\"fps\":25,\"duration\":3079,\"update_time\":1691464348},\"extend_formats\":{\"H265\":[{\"format\":1600305,\"defn\":\"V270P\",\"profile\":\"MP4\",\"path\":\"api/v4/11110160/mms/sg-11110160-6jrpw-lk66db7o23py0e.16003051691464354.mp4\",\"url\":\"https://play-ws.vod.shopee.com/api/v4/11110160/mms/sg-11110160-6jrpw-lk66db7o23py0e.16003051691464354.mp4\",\"width\":250,\"height\":250,\"bitrate\":155415,\"size\":63409,\"fps\":25.32895,\"duration\":3039,\"update_time\":1691464351}]},\"ab_test\":\"\"}",
             "upload_time": null,
             "url": "https://play-ws.vod.shopee.com/c3/98934353/160/A3oyOfm8ADgGh0wnIUEBCgAn.mp4"
            },
            "id": "id-11110103-6jt76-lk5joj95cil7c3",
            "mms_ext": "{\"vid\":\"id-11110103-6jt76-lk5joj95cil7c3\",\"biz\":103,\"duration\":9404,\"create_time\":1691427902,\"serviceID\":6,\"cover\":\"https://down-aka-sg.img.susercontent.com/id-11110103-23080-mhlphf0yufuv98\",\"cover_list\":null,\"formats\":[{\"format\":1600408,\"defn\":\"V360P\",\"profile\":\"MP4\",\"path\":\"api/v4/11110103/mms/id-11110103-6jt76-lk5joj95cil7c3.16004081692058341.mp4\",\"url\":\"https://play-ws.vod.shopee.com/api/v4/11110103/mms/id-11110103-6jt76-lk5joj95cil7c3.16004081692058341.mp4\",\"width\":360,\"height\":640,\"bitrate\":209442,\"size\":367123,\"fps\":25.1073,\"duration\":9404,\"update_time\":1692058345},{\"format\":1600409,\"defn\":\"V540P\",\"profile\":\"MP4\",\"path\":\"api/v4/11110103/mms/id-11110103-6jt76-lk5joj95cil7c3.16004091692058346.mp4\",\"url\":\"https://play-ws.vod.shopee.com/api/v4/11110103/mms/id-11110103-6jt76-lk5joj95cil7c3.16004091692058346.mp4\",\"width\":540,\"height\":960,\"bitrate\":385590,\"size\":609989,\"fps\":25.1073,\"duration\":9404,\"update_time\":1692058351},{\"format\":1600323,\"defn\":\"V540P\",\"profile\":\"MP4\",\"path\":\"api/v4/11110103/mms/id-11110103-6jt76-lk5joj95cil7c3.default.mp4\",\"url\":\"https://play-ws.vod.shopee.com/api/v4/11110103/mms/id-11110103-6jt76-lk5joj95cil7c3.default.mp4\",\"width\":540,\"height\":960,\"bitrate\":503106,\"size\":746338,\"fps\":25.1073,\"duration\":9407,\"update_time\":1691427919},{\"format\":1600005,\"defn\":\"V640P\",\"profile\":\"MP4\",\"path\":\"api/v4/11110103/mms/id-11110103-6jt76-lk5joj95cil7c3.16000051691427903.mp4\",\"url\":\"https://play-ws.vod.shopee.com/api/v4/11110103/mms/id-11110103-6jt76-lk5joj95cil7c3.16000051691427903.mp4\",\"width\":640,\"height\":1138,\"bitrate\":858624,\"size\":1123462,\"fps\":25.1073,\"duration\":9404,\"update_time\":1691427910},{\"format\":1600410,\"defn\":\"V720P\",\"profile\":\"MP4\",\"path\":\"api/v4/11110103/mms/id-11110103-6jt76-lk5joj95cil7c3.16004101692058346.mp4\",\"url\":\"https://play-ws.vod.shopee.com/api/v4/11110103/mms/id-11110103-6jt76-lk5joj95cil7c3.16004101692058346.mp4\",\"width\":720,\"height\":1280,\"bitrate\":673039,\"size\":944867,\"fps\":25.1073,\"duration\":9404,\"update_time\":1692058353},{\"format\":1600411,\"defn\":\"V720P\",\"profile\":\"MP4\",\"path\":\"api/v4/11110103/mms/id-11110103-6jt76-lk5joj95cil7c3.16004111692058346.mp4\",\"url\":\"https://play-ws.vod.shopee.com/api/v4/11110103/mms/id-11110103-6jt76-lk5joj95cil7c3.16004111692058346.mp4\",\"width\":720,\"height\":1280,\"bitrate\":1207275,\"size\":1567252,\"fps\":25.1073,\"duration\":9404,\"update_time\":1692058354}],\"default_format\":{\"format\":600001,\"defn\":\"ORI\",\"profile\":\"MP4\",\"path\":\"\",\"url\":\"https://play-ws.vod.shopee.com/c3/98934353/103/A3oyOUfvAIg61kMnIRABAQAm.mp4\",\"width\":720,\"height\":1280,\"bitrate\":1495176,\"size\":1908672,\"fps\":30.10735,\"duration\":9404,\"update_time\":1691427903},\"extend_formats\":{\"H265\":[{\"format\":1600412,\"defn\":\"V360P\",\"profile\":\"MP4\",\"path\":\"api/v4/11110103/mms/id-11110103-6jt76-lk5joj95cil7c3.16004121692058346.mp4\",\"url\":\"https://play-ws.vod.shopee.com/api/v4/11110103/mms/id-11110103-6jt76-lk5joj95cil7c3.16004121692058346.mp4\",\"width\":360,\"height\":640,\"bitrate\":188084,\"size\":344964,\"fps\":25.1073,\"duration\":9404,\"update_time\":1692058354},{\"format\":1600304,\"defn\":\"V480P\",\"profile\":\"MP4\",\"path\":\"api/v4/11110103/mms/id-11110103-6jt76-lk5joj95cil7c3.16003041691519177.mp4\",\"url\":\"https://play-ws.vod.shopee.com/api/v4/11110103/mms/id-11110103-6jt76-lk5joj95cil7c3.16003041691519177.mp4\",\"width\":480,\"height\":854,\"bitrate\":421149,\"size\":616533,\"fps\":25.1073,\"duration\":9404,\"update_time\":1691519187},{\"format\":1600413,\"defn\":\"V540P\",\"profile\":\"MP4\",\"path\":\"api/v4/11110103/mms/id-11110103-6jt76-lk5joj95cil7c3.16004131692058346.mp4\",\"url\":\"https://play-ws.vod.shopee.com/api/v4/11110103/mms/id-11110103-6jt76-lk5joj95cil7c3.16004131692058346.mp4\",\"width\":540,\"height\":960,\"bitrate\":274514,\"size\":483313,\"fps\":25.1073,\"duration\":9404,\"update_time\":1692058355},{\"format\":1600307,\"defn\":\"V540P\",\"profile\":\"MP4\",\"path\":\"api/v4/11110103/mms/id-11110103-6jt76-lk5joj95cil7c3.16003071691427911.mp4\",\"url\":\"https://play-ws.vod.shopee.com/api/v4/11110103/mms/id-11110103-6jt76-lk5joj95cil7c3.16003071691427911.mp4\",\"width\":540,\"height\":960,\"bitrate\":496328,\"size\":741765,\"fps\":25.1073,\"duration\":9404,\"update_time\":1691427926},{\"format\":1600308,\"defn\":\"V640P\",\"profile\":\"MP4\",\"path\":\"api/v4/11110103/mms/id-11110103-6jt76-lk5joj95cil7c3.16003081691427911.mp4\",\"url\":\"https://play-ws.vod.shopee.com/api/v4/11110103/mms/id-11110103-6jt76-lk5joj95cil7c3.16003081691427911.mp4\",\"width\":640,\"height\":1138,\"bitrate\":631180,\"size\":898866,\"fps\":25.1073,\"duration\":9404,\"update_time\":1691427927},{\"format\":1600414,\"defn\":\"V720P\",\"profile\":\"MP4\",\"path\":\"api/v4/11110103/mms/id-11110103-6jt76-lk5joj95cil7c3.16004141692058346.mp4\",\"url\":\"https://play-ws.vod.shopee.com/api/v4/11110103/mms/id-11110103-6jt76-lk5joj95cil7c3.16004141692058346.mp4\",\"width\":720,\"height\":1280,\"bitrate\":488047,\"size\":732081,\"fps\":25.1073,\"duration\":9404,\"update_time\":1692058359},{\"format\":1600415,\"defn\":\"V720P\",\"profile\":\"MP4\",\"path\":\"api/v4/11110103/mms/id-11110103-6jt76-lk5joj95cil7c3.16004151692058346.mp4\",\"url\":\"https://play-ws.vod.shopee.com/api/v4/11110103/mms/id-11110103-6jt76-lk5joj95cil7c3.16004151692058346.mp4\",\"width\":720,\"height\":1280,\"bitrate\":626690,\"size\":893601,\"fps\":25.1073,\"duration\":9404,\"update_time\":1692058361}]},\"ab_test\":\"\"}",
            "upload_time": null,
            "url": "https://play-ws.vod.shopee.com/api/v4/11110103/mms/id-11110103-6jt76-lk5joj95cil7c3.16004081692058341.mp4"
           }
          ]
         },
         {
          "author_username": "arie_prihady",
          "comment": "Sepadan dengan Harga:dengan harga 2 juta sudah mendapat spesifikasi terbaik...\nFitur Terbaik:untuk browsing dan main game ok, keseluruhan ok banget fitur..fitur di handphone nya...\n\nOrderan saya sudah sampai ke alamat yang jadi tujuan....\n\nTerimakasih...",
          "detailed_rating": {
           "delivery_service": 5,
           "driver_service": null,
           "product_quality": 5,
           "seller_service": 5
          },
          "images": [
           "id-11134103-7r98o-lklu6oywo0ff5b",
           "id-11134103-7r98o-lklu6oywo11l32",
           "id-11134103-7r98o-lklu6oycou8l99",
           "id-11134103-7r98o-lklu6p00mec1ab",
           "id-11134103-7r98o-lklu6oz6nmenb9"
          ],
          "index": 13,
          "like_count": 62,
          "rating_star": 5,
          "videos": [
           {
            "cover": "https://down-aka-sg.img.susercontent.com/id-11110103-23080-rry3rzih5vuvce",
            "cover_image_id": "sg-11134206-7rbk0-lknrvo6tklv264",
            "duration": 11866,
            "highlight": {
             "cover": "https://play-ws.vod.shopee.com/c3/98934353/160/A3oyObCqAPRehkooEY4JACc.jpg",
             "cover_image_id": "",
             "duration": 3079,
             "highlight": null,
             "id": "sg-11110160-6ke14-lknrxjngukt4a9",
             "mms_ext": "{\"vid\":\"sg-11110160-6ke14-lknrxjngukt4a9\",\"biz\":103,\"duration\":3079,\"create_time\":1692529687,\"serviceID\":6,\"cover\":\"https://play-ws.vod.shopee.com/c3/98934353/160/A3oyObCqAPRehkooEY4JACc.jpg\",\"cover_list\":null,\"formats\":[],\"default_format\":{\"format\":600001,\"defn\":\"ORI\",\"profile\":\"MP4\",\"path\":\"\",\"url\":\"https://play-ws.vod.shopee.com/c3/98934353/160/A3oyOZPGAHBehkooEZYFACc.mp4\",\"width\":250,\"height\":250,\"bitrate\":482161,\"size\":187578,\"fps\":25,\"duration\":3079,\"update_time\":1692529688},\"extend_formats\":{\"H265\":[{\"format\":1600305,\"defn\":\"V270P\",\"profile\":\"MP4\",\"path\":\"api/v4/11110160/mms/sg-11110160-6ke14-lknrxjngukt4a9.16003051692529695.mp4\",\"url\":\"https://play-ws.vod.shopee.com/api/v4/11110160/mms/sg-11110160-6ke14-lknrxjngukt4a9.16003051692529695.mp4\",\"width\":250,\"height\":250,\"bitrate\":242531,\"size\":96513,\"fps\":25.32895,\"duration\":3039,\"update_time\":1692529691}]},\"ab_test\":\"\"}",
             "upload_time": null,
             "url": "https://play-ws.vod.shopee.com/c3/98934353/160/A3oyOZPGAHBehkooEZYFACc.mp4"
            },
            "id": "id-11110103-6ke14-lklu73mn7qy758",
            "mms_ext": "{\"vid\":\"id-11110103-6ke14-lklu73mn7qy758\",\"biz\":103,\"duration\":11866,\"create_time\":1692412440,\"serviceID\":6,\"cover\":\"https://down-aka-sg.img.susercontent.com/id-11110103-23080-rry3rzih5vuvce\",\"cover_list\":null,\"formats\":[{\"format\":1600323,\"defn\":\"V540P\",\"profile\":\"MP4\",\"path\":\"api/v4/11110103/mms/id-11110103-6ke14-lklu73mn7qy758.default.mp4\",\"url\":\"https://play-ws.vod.shopee.com/api/v4/11110103/mms/id-11110103-6ke14-lklu73mn7qy758.default.mp4\",\"width\":540,\"height\":960,\"bitrate\":508439,\"size\":950845,\"fps\":25.08475,\"duration\":11883,\"update_time\":1692412469},{\"format\":1600005,\"defn\":\"V640P\",\"profile\":\"MP4\",\"path\":\"api/v4/11110103/mms/id-11110103-6ke14-lklu73mn7qy758.16000051692412441.mp4\",\"url\":\"https://play-ws.vod.shopee.com/api/v4/11110103/mms/id-11110103-6ke14-lklu73mn7qy758.16000051692412441.mp4\",\"width\":640,\"height\":1138,\"bitrate\":860949,\"size\":1423853,\"fps\":25.08475,\"duration\":11866,\"update_time\":1692412449}],\"default_format\":{\"format\":600001,\"defn\":\"ORI\",\"profile\":\"MP4\",\"path\":\"\",\"url\":\"https://play-ws.vod.shopee.com/c3/98934353/103/A3oyOVyzANi0kS4oEaUHACY.mp4\",\"width\":720,\"height\":1280,\"bitrate\":2072861,\"size\":3262434,\"fps\":30.08508,\"duration\":11866,\"update_time\":1692412441},\"extend_formats\":{\"H265\":[{\"format\":1600307,\"defn\":\"V540P\",\"profile\":\"MP4\",\"path\":\"api/v4/11110103/mms/id-11110103-6ke14-lklu73mn7qy758.16003071692474862.mp4\",\"url\":\"https://play-ws.vod.shopee.com/api/v4/11110103/mms/id-11110103-6ke14-lklu73mn7qy758.16003071692474862.mp4\",\"width\":540,\"height\":960,\"bitrate\":602149,\"size\":1092483,\"fps\":25.08475,\"duration\":11866,\"update_time\":1692474883},{\"format\":1600308,\"defn\":\"V640P\",\"profile\":\"MP4\",\"path\":\"api/v4/11110103/mms/id-11110103-6ke14-lklu73mn7qy758.16003081692412462.mp4\",\"url\":\"https://play-ws.vod.shopee.com/api/v4/11110103/mms/id-11110103-6ke14-lklu73mn7qy758.16003081692412462.mp4\",\"width\":640,\"height\":1138,\"bitrate\":747259,\"size\":1306528,\"fps\":25.08475,\"duration\":11866,\"update_time\":1692412490}]},\"ab_test\":\"\"}",
            "upload_time": null,
            "url": "https://play-ws.vod.shopee.com/api/v4/11110103/mms/id-11110103-6ke14-lklu73mn7qy758.default.mp4"
           }
          ]
         },
         {
          "author_username": "agusmuham",
          "comment": "Sepadan dengan Harga:Bagus\nFitur Terbaik:Bagus\n\nTerima Kasih Paket sangat cepat sampainya Produk sesuai pesanan. Kurirnya baik",
          "detailed_rating": {
           "delivery_service": 5,
           "driver_service": null,
           "product_quality": 5,
           "seller_service": 5
          },
          "images": [
           "id-11134103-7qul6-lkc24zuzubluc7",
           "id-11134103-7qul4-lkc24zuzvq6a93",
           "id-11134103-7qul3-lkc24zuzx4qq99",
           "id-11134103-7qul2-lkc24zuzyjb69d",
           "id-11134103-7qul2-lkc24zuzzxvmbf"
          ],
          "index": 14,
          "like_count": 5,
          "rating_star": 5,
          "videos": [
           {
            "cover": "https://down-aka-sg.img.susercontent.com/id-11110103-23080-766yvmwecmuv94",
            "cover_image_id": "sg-11134206-7r98o-lkjgc79qwyd75f",
            "duration": 13996,
            "highlight": {
             "cover": "https://play-ws.vod.shopee.com/c3/98934353/160/A3oyOS7cAChyLQwoEQ4HACc.jpg",
             "cover_image_id": "",
             "duration": 3039,
             "highlight": null,
             "id": "sg-11110160-6ke14-lkjgexm6x41l54",
             "mms_ext": "{\"vid\":\"sg-11110160-6ke14-lkjgexm6x41l54\",\"biz\":103,\"duration\":3039,\"create_time\":1692268183,\"serviceID\":6,\"cover\":\"https://play-ws.vod.shopee.com/c3/98934353/160/A3oyOS7cAChyLQwoEQ4HACc.jpg\",\"cover_list\":null,\"formats\":[],\"default_format\":{\"format\":600001,\"defn\":\"ORI\",\"profile\":\"MP4\",\"path\":\"\",\"url\":\"https://play-ws.vod.shopee.com/c3/98934353/160/A3oyOWenALRxLQwoEQ4AACc.mp4\",\"width\":250,\"height\":250,\"bitrate\":440715,\"size\":169249,\"fps\":25,\"duration\":3039,\"update_time\":1692268184},\"extend_formats\":{\"H265\":[{\"format\":1600305,\"defn\":\"V270P\",\"profile\":\"MP4\",\"path\":\"api/v4/11110160/mms/sg-11110160-6ke14-lkjgexm6x41l54.16003051692268191.mp4\",\"url\":\"https://play-ws.vod.shopee.com/api/v4/11110160/mms/sg-11110160-6ke14-lkjgexm6x41l54.16003051692268191.mp4\",\"width\":250,\"height\":250,\"bitrate\":215522,\"size\":85151,\"fps\":25.33333,\"duration\":3000,\"update_time\":1692268187}]},\"ab_test\":\"\"}",
             "upload_time": null,
             "url": "https://play-ws.vod.shopee.com/c3/98934353/160/A3oyOWenALRxLQwoEQ4AACc.mp4"
            },
            "id": "id-11110103-6jt75-lkc24gki2mj833",
            "mms_ext": "{\"vid\":\"id-11110103-6jt75-lkc24gki2mj833\",\"biz\":103,\"duration\":13996,\"create_time\":1691820425,\"serviceID\":6,\"cover\":\"https://down-aka-sg.img.susercontent.com/id-11110103-23080-766yvmwecmuv94\",\"cover_list\":null,\"formats\":[{\"format\":1600323,\"defn\":\"V540P\",\"profile\":\"MP4\",\"path\":\"api/v4/11110103/mms/id-11110103-6jt75-lkc24gki2mj833.default.mp4\",\"url\":\"https://play-ws.vod.shopee.com/api/v4/11110103/mms/id-11110103-6jt75-lkc24gki2mj833.default.mp4\",\"width\":960,\"height\":540,\"bitrate\":425797,\"size\":922025,\"fps\":25.07163,\"duration\":13994,\"update_time\":1691820446},{\"format\":1600005,\"defn\":\"V640P\",\"profile\":\"MP4\",\"path\":\"api/v4/11110103/mms/id-11110103-6jt75-lkc24gki2mj833.16000051691820426.mp4\",\"url\":\"https://play-ws.vod.shopee.com/api/v4/11110103/mms/id-11110103-6jt75-lkc24gki2mj833.16000051691820426.mp4\",\"width\":1138,\"height\":640,\"bitrate\":742172,\"size\":1475229,\"fps\":25.07163,\"duration\":14001,\"update_time\":1691820437}],\"default_format\":{\"format\":600001,\"defn\":\"ORI\",\"profile\":\"MP4\",\"path\":\"\",\"url\":\"https://play-ws.vod.shopee.com/c3/98934353/103/A3oyORq8ANAAbKEnEcoCACY.mp4\",\"width\":1280,\"height\":720,\"bitrate\":6004685,\"size\":10679202,\"fps\":30.00948,\"duration\":13996,\"update_time\":1691820426},\"extend_formats\":{\"H265\":[{\"format\":1600304,\"defn\":\"V480P\",\"profile\":\"MP4\",\"path\":\"api/v4/11110103/mms/id-11110103-6jt75-lkc24gki2mj833.16003041691953266.mp4\",\"url\":\"https://play-ws.vod.shopee.com/api/v4/11110103/mms/id-11110103-6jt75-lkc24gki2mj833.16003041691953266.mp4\",\"width\":854,\"height\":480,\"bitrate\":543790,\"size\":1131869,\"fps\":25.07163,\"duration\":14001,\"update_time\":1691953285},{\"format\":1600307,\"defn\":\"V540P\",\"profile\":\"MP4\",\"path\":\"api/v4/11110103/mms/id-11110103-6jt75-lkc24gki2mj833.16003071691820438.mp4\",\"url\":\"https://play-ws.vod.shopee.com/api/v4/11110103/mms/id-11110103-6jt75-lkc24gki2mj833.16003071691820438.mp4\",\"width\":960,\"height\":540,\"bitrate\":588512,\"size\":1209909,\"fps\":25.07163,\"duration\":14001,\"update_time\":1691820461},{\"format\":1600308,\"defn\":\"V640P\",\"profile\":\"MP4\",\"path\":\"api/v4/11110103/mms/id-11110103-6jt75-lkc24gki2mj833.16003081691820438.mp4\",\"url\":\"https://play-ws.vod.shopee.com/api/v4/11110103/mms/id-11110103-6jt75-lkc24gki2mj833.16003081691820438.mp4\",\"width\":1138,\"height\":640,\"bitrate\":729361,\"size\":1455692,\"fps\":25.07163,\"duration\":14001,\"update_time\":1691820470}]},\"ab_test\":\"\"}",
            "upload_time": null,
            "url": "https://play-ws.vod.shopee.com/api/v4/11110103/mms/id-11110103-6jt75-lkc24gki2mj833.default.mp4"
           }
          ]
         },
         {
          "author_username": "tendysutendy",
          "comment": "Fitur Terbaik:xiomi redmi 12 bagus\nSepadan dengan Harga:dgn ram 8 / 128 terbaik lah di harga 2 jt an\n\nTerima kasih hp nya sudah datang\nPacking rapih \nProduk original dan berjalan dgn baik\nMudah2an awet yaa ga ada kendala",
          "detailed_rating": {
           "delivery_service": 5,
           "driver_service": null,
           "product_quality": 5,
           "seller_service": 5
          },
          "images": [
           "id-11134103-7qul4-lk58c68kcjdu44",
           "id-11134103-7qul1-lk58c694bqag8e",
           "id-11134103-7qukw-lk58c69yaimn4d",
           "id-11134103-7qul0-lk58c68kcjnj60"
          ],
          "index": 15,
          "like_count": 13,
          "rating_star": 5,
          "videos": [
           {
            "cover": "https://down-aka-sg.img.susercontent.com/id-11110103-23080-ycth7n1nifuva5",
            "cover_image_id": "sg-11134206-7qvcq-lk8l62bh0wsl29",
            "duration": 25402,
            "highlight": {
             "cover": "https://play-ws.vod.shopee.com/c3/98934353/160/A3oyORiYAMh5WW8nEZ0BACc.jpg",
             "cover_image_id": "",
             "duration": 3119,
             "highlight": null,
             "id": "sg-11110160-6jrov-lk8l88fanbn8e3",
             "mms_ext": "{\"vid\":\"sg-11110160-6jrov-lk8l88fanbn8e3\",\"biz\":103,\"duration\":3119,\"create_time\":1691610400,\"serviceID\":6,\"cover\":\"https://play-ws.vod.shopee.com/c3/98934353/160/A3oyORiYAMh5WW8nEZ0BACc.jpg\",\"cover_list\":null,\"formats\":[],\"default_format\":{\"format\":600001,\"defn\":\"ORI\",\"profile\":\"MP4\",\"path\":\"\",\"url\":\"https://play-ws.vod.shopee.com/c3/98934353/160/A3oyOSEfAGh5WW8nEZ0KACc.mp4\",\"width\":250,\"height\":250,\"bitrate\":448412,\"size\":176833,\"fps\":25,\"duration\":3119,\"update_time\":1691610401},\"extend_formats\":{\"H265\":[{\"format\":1600305,\"defn\":\"V270P\",\"profile\":\"MP4\",\"path\":\"api/v4/11110160/mms/sg-11110160-6jrov-lk8l88fanbn8e3.16003051691610407.mp4\",\"url\":\"https://play-ws.vod.shopee.com/api/v4/11110160/mms/sg-11110160-6jrov-lk8l88fanbn8e3.16003051691610407.mp4\",\"width\":250,\"height\":250,\"bitrate\":206031,\"size\":83674,\"fps\":25.32467,\"duration\":3079,\"update_time\":1691610404}]},\"ab_test\":\"\"}",
             "upload_time": null,
             "url": "https://play-ws.vod.shopee.com/c3/98934353/160/A3oyOSEfAGh5WW8nEZ0KACc.mp4"
            },
            "id": "id-11110103-6jt7a-lk58db4si47s18",
            "mms_ext": "{\"vid\":\"id-11110103-6jt7a-lk58db4si47s18\",\"biz\":103,\"duration\":25402,\"create_time\":1691407199,\"serviceID\":6,\"cover\":\"https://down-aka-sg.img.susercontent.com/id-11110103-23080-ycth7n1nifuva5\",\"cover_list\":null,\"formats\":[{\"format\":1600408,\"defn\":\"V360P\",\"profile\":\"MP4\",\"path\":\"api/v4/11110103/mms/id-11110103-6jt7a-lk58db4si47s18.16004081691942270.mp4\",\"url\":\"https://play-ws.vod.shopee.com/api/v4/11110103/mms/id-11110103-6jt7a-lk58db4si47s18.16004081691942270.mp4\",\"width\":360,\"height\":640,\"bitrate\":303415,\"size\":1022207,\"fps\":25.03949,\"duration\":25402,\"update_time\":1691942280},{\"format\":1600322,\"defn\":\"V360P\",\"profile\":\"MP4\",\"path\":\"api/v4/11110103/mms/id-11110103-6jt7a-lk58db4si47s18.16003221692127589.mp4\",\"url\":\"https://play-ws.vod.shopee.com/api/v4/11110103/mms/id-11110103-6jt7a-lk58db4si47s18.16003221692127589.mp4\",\"width\":360,\"height\":640,\"bitrate\":221037,\"size\":1020449,\"fps\":25.03949,\"duration\":25408,\"update_time\":1692127599},{\"format\":1600409,\"defn\":\"V540P\",\"profile\":\"MP4\",\"path\":\"api/v4/11110103/mms/id-11110103-6jt7a-lk58db4si47s18.16004091691942281.mp4\",\"url\":\"https://play-ws.vod.shopee.com/api/v4/11110103/mms/id-11110103-6jt7a-lk58db4si47s18.16004091691942281.mp4\",\"width\":540,\"height\":960,\"bitrate\":572286,\"size\":1873143,\"fps\":25.03949,\"duration\":25402,\"update_time\":1691942296},{\"format\":1600323,\"defn\":\"V540P\",\"profile\":\"MP4\",\"path\":\"api/v4/11110103/mms/id-11110103-6jt7a-lk58db4si47s18.default.mp4\",\"url\":\"https://play-ws.vod.shopee.com/api/v4/11110103/mms/id-11110103-6jt7a-lk58db4si47s18.default.mp4\",\"width\":540,\"height\":960,\"bitrate\":500013,\"size\":2009834,\"fps\":25.03949,\"duration\":25408,\"update_time\":1691407238},{\"format\":1600005,\"defn\":\"V640P\",\"profile\":\"MP4\",\"path\":\"api/v4/11110103/mms/id-11110103-6jt7a-lk58db4si47s18.16000051691407200.mp4\",\"url\":\"https://play-ws.vod.shopee.com/api/v4/11110103/mms/id-11110103-6jt7a-lk58db4si47s18.16000051691407200.mp4\",\"width\":640,\"height\":1138,\"bitrate\":855438,\"size\":3034982,\"fps\":25.03949,\"duration\":25402,\"update_time\":1691407222},{\"format\":1600410,\"defn\":\"V720P\",\"profile\":\"MP4\",\"path\":\"api/v4/11110103/mms/id-11110103-6jt7a-lk58db4si47s18.16004101691942281.mp4\",\"url\":\"https://play-ws.vod.shopee.com/api/v4/11110103/mms/id-11110103-6jt7a-lk58db4si47s18.16004101691942281.mp4\",\"width\":720,\"height\":1280,\"bitrate\":954123,\"size\":3081672,\"fps\":25.03949,\"duration\":25402,\"update_time\":1691942309},{\"format\":1600411,\"defn\":\"V720P\",\"profile\":\"MP4\",\"path\":\"api/v4/11110103/mms/id-11110103-6jt7a-lk58db4si47s18.16004111691942281.mp4\",\"url\":\"https://play-ws.vod.shopee.com/api/v4/11110103/mms/id-11110103-6jt7a-lk58db4si47s18.16004111691942281.mp4\",\"width\":720,\"height\":1280,\"bitrate\":1207695,\"size\":3884229,\"fps\":25.03949,\"duration\":25402,\"update_time\":1691942305},{\"format\":1600324,\"defn\":\"V720P\",\"profile\":\"MP4\",\"path\":\"api/v4/11110103/mms/id-11110103-6jt7a-lk58db4si47s18.16003241692127589.mp4\",\"url\":\"https://play-ws.vod.shopee.com/api/v4/11110103/mms/id-11110103-6jt7a-lk58db4si47s18.16003241692127589.mp4\",\"width\":720,\"height\":1280,\"bitrate\":814298,\"size\":3004645,\"fps\":25.03949,\"duration\":25408,\"update_time\":1692127613},{\"format\":1600325,\"defn\":\"V720P\",\"profile\":\"MP4\",\"path\":\"api/v4/11110103/mms/id-11110103-6jt7a-lk58db4si47s18.16003251692127589.mp4\",\"url\":\"https://play-ws.vod.shopee.com/api/v4/11110103/mms/id-11110103-6jt7a-lk58db4si47s18.16003251692127589.mp4\",\"width\":720,\"height\":1280,\"bitrate\":1469291,\"size\":5077699,\"fps\":25.03949,\"duration\":25408,\"update_time\":1692127621}],\"default_format\":{\"format\":600001,\"defn\":\"ORI\",\"profile\":\"MP4\",\"path\":\"\",\"url\":\"https://play-ws.vod.shopee.com/c3/98934353/103/A3oyOcSvALSk5j4nITEBAAAm.mp4\",\"width\":720,\"height\":1280,\"bitrate\":2494272,\"size\":8319714,\"fps\":30.03983,\"duration\":25402,\"update_time\":1691407200},\"extend_formats\":{\"H265\":[{\"format\":1600412,\"defn\":\"V360P\",\"profile\":\"MP4\",\"path\":\"api/v4/11110103/mms/id-11110103-6jt7a-lk58db4si47s18.16004121691942281.mp4\",\"url\":\"https://play-ws.vod.shopee.com/api/v4/11110103/mms/id-11110103-6jt7a-lk58db4si47s18.16004121691942281.mp4\",\"width\":360,\"height\":640,\"bitrate\":199057,\"size\":695173,\"fps\":25.03949,\"duration\":25402,\"update_time\":1691942304},{\"format\":1600315,\"defn\":\"V360P\",\"profile\":\"MP4\",\"path\":\"api/v4/11110103/mms/id-11110103-6jt7a-lk58db4si47s18.16003151692127589.mp4\",\"url\":\"https://play-ws.vod.shopee.com/api/v4/11110103/mms/id-11110103-6jt7a-lk58db4si47s18.16003151692127589.mp4\",\"width\":360,\"height\":640,\"bitrate\":239662,\"size\":1089377,\"fps\":25.03949,\"duration\":25402,\"update_time\":1692127616},{\"format\":1600304,\"defn\":\"V480P\",\"profile\":\"MP4\",\"path\":\"api/v4/11110103/mms/id-11110103-6jt7a-lk58db4si47s18.16003041691435345.mp4\",\"url\":\"https://play-ws.vod.shopee.com/api/v4/11110103/mms/id-11110103-6jt7a-lk58db4si47s18.16003041691435345.mp4\",\"width\":480,\"height\":854,\"bitrate\":486569,\"size\":1870804,\"fps\":25.03949,\"duration\":25402,\"update_time\":1691435378},{\"format\":1600413,\"defn\":\"V540P\",\"profile\":\"MP4\",\"path\":\"api/v4/11110103/mms/id-11110103-6jt7a-lk58db4si47s18.16004131691942281.mp4\",\"url\":\"https://play-ws.vod.shopee.com/api/v4/11110103/mms/id-11110103-6jt7a-lk58db4si47s18.16004131691942281.mp4\",\"width\":540,\"height\":960,\"bitrate\":341902,\"size\":1147262,\"fps\":25.03949,\"duration\":25402,\"update_time\":1691942315},{\"format\":1600316,\"defn\":\"V540P\",\"profile\":\"MP4\",\"path\":\"api/v4/11110103/mms/id-11110103-6jt7a-lk58db4si47s18.16003161692127589.mp4\",\"url\":\"https://play-ws.vod.shopee.com/api/v4/11110103/mms/id-11110103-6jt7a-lk58db4si47s18.16003161692127589.mp4\",\"width\":540,\"height\":960,\"bitrate\":399948,\"size\":1698382,\"fps\":25.03949,\"duration\":25402,\"update_time\":1692127626},{\"format\":1600307,\"defn\":\"V540P\",\"profile\":\"MP4\",\"path\":\"api/v4/11110103/mms/id-11110103-6jt7a-lk58db4si47s18.16003071691407223.mp4\",\"url\":\"https://play-ws.vod.shopee.com/api/v4/11110103/mms/id-11110103-6jt7a-lk58db4si47s18.16003071691407223.mp4\",\"width\":540,\"height\":960,\"bitrate\":546244,\"size\":2161400,\"fps\":25.03949,\"duration\":25402,\"update_time\":1691407276},{\"format\":1600308,\"defn\":\"V640P\",\"profile\":\"MP4\",\"path\":\"api/v4/11110103/mms/id-11110103-6jt7a-lk58db4si47s18.16003081691407223.mp4\",\"url\":\"https://play-ws.vod.shopee.com/api/v4/11110103/mms/id-11110103-6jt7a-lk58db4si47s18.16003081691407223.mp4\",\"width\":640,\"height\":1138,\"bitrate\":681724,\"size\":2590180,\"fps\":25.03949,\"duration\":25402,\"update_time\":1691407299},{\"format\":1600415,\"defn\":\"V720P\",\"profile\":\"MP4\",\"path\":\"api/v4/11110103/mms/id-11110103-6jt7a-lk58db4si47s18.16004151691942281.mp4\",\"url\":\"https://play-ws.vod.shopee.com/api/v4/11110103/mms/id-11110103-6jt7a-lk58db4si47s18.16004151691942281.mp4\",\"width\":720,\"height\":1280,\"bitrate\":612530,\"size\":2003773,\"fps\":25.03949,\"duration\":25402,\"update_time\":1691942360},{\"format\":1600414,\"defn\":\"V720P\",\"profile\":\"MP4\",\"path\":\"api/v4/11110103/mms/id-11110103-6jt7a-lk58db4si47s18.16004141691942281.mp4\",\"url\":\"https://play-ws.vod.shopee.com/api/v4/11110103/mms/id-11110103-6jt7a-lk58db4si47s18.16004141691942281.mp4\",\"width\":720,\"height\":1280,\"bitrate\":564625,\"size\":1852154,\"fps\":25.03949,\"duration\":25402,\"update_time\":1691942347},{\"format\":1600318,\"defn\":\"V720P\",\"profile\":\"MP4\",\"path\":\"api/v4/11110103/mms/id-11110103-6jt7a-lk58db4si47s18.16003181692127589.mp4\",\"url\":\"https://play-ws.vod.shopee.com/api/v4/11110103/mms/id-11110103-6jt7a-lk58db4si47s18.16003181692127589.mp4\",\"width\":720,\"height\":1280,\"bitrate\":830003,\"size\":3059469,\"fps\":25.03949,\"duration\":25402,\"update_time\":1692127676},{\"format\":1600317,\"defn\":\"V720P\",\"profile\":\"MP4\",\"path\":\"api/v4/11110103/mms/id-11110103-6jt7a-lk58db4si47s18.16003171692127589.mp4\",\"url\":\"https://play-ws.vod.shopee.com/api/v4/11110103/mms/id-11110103-6jt7a-lk58db4si47s18.16003171692127589.mp4\",\"width\":720,\"height\":1280,\"bitrate\":637110,\"size\":2448964,\"fps\":25.03949,\"duration\":25402,\"update_time\":1692127647}]},\"ab_test\":\"\"}",
            "upload_time": null,
            "url": "https://play-ws.vod.shopee.com/api/v4/11110103/mms/id-11110103-6jt7a-lk58db4si47s18.16004081691942270.mp4"
           }
          ]
         },
         {
          "author_username": "yanvitaanggraeni",
          "comment": "Sepadan dengan Harga:Sepada\nFitur Terbaik:HP gede banget ,internal ,ram dan kamera baguss\n\nPengiriman cepat dan sesuai dgn pesanan pembeli ,packing juga rapi dan amaan., Terima kasih atas rejeki.. saya nekat langsung beli dgn SPayLater 12bulan saat flash sale.,",
          "detailed_rating": {
           "delivery_service": 5,
           "driver_service": null,
           "product_quality": 5,
           "seller_service": 5
          },
          "images": [
           "id-11134103-7qul5-lkgl9e7y8gc6a7",
           "id-11134103-7quky-lkgl9e7y8fu25a",
           "id-11134103-7qul9-lkgl9e6ua2dw00",
           "id-11134103-7qul7-lkgl9e6ubgyc5e"
          ],
          "index": 16,
          "like_count": 12,
          "rating_star": 5,
          "videos": [
           {
            "cover": "https://down-aka-sg.img.susercontent.com/id-11110103-23080-sfryp4qqvquveb",
            "cover_image_id": "sg-11134206-7qveu-lkglll8ls9bw62",
            "duration": 33414,
            "highlight": {
             "cover": "https://play-ws.vod.shopee.com/c3/98934353/160/A3oyOajJAOzy--InEbUIACc.jpg",
             "cover_image_id": "",
             "duration": 3079,
             "highlight": null,
             "id": "sg-11110160-6jrnl-lkglnw1olszi8f",
             "mms_ext": "{\"vid\":\"sg-11110160-6jrnl-lkglnw1olszi8f\",\"biz\":103,\"duration\":3079,\"create_time\":1692095406,\"serviceID\":6,\"cover\":\"https://play-ws.vod.shopee.com/c3/98934353/160/A3oyOajJAOzy--InEbUIACc.jpg\",\"cover_list\":null,\"formats\":[],\"default_format\":{\"format\":600001,\"defn\":\"ORI\",\"profile\":\"MP4\",\"path\":\"\",\"url\":\"https://play-ws.vod.shopee.com/c3/98934353/160/A3oyOWJdAPzx--InEbQKACc.mp4\",\"width\":250,\"height\":250,\"bitrate\":239742,\"size\":94253,\"fps\":25,\"duration\":3079,\"update_time\":1692095407},\"extend_formats\":{\"H265\":[{\"format\":1600305,\"defn\":\"V270P\",\"profile\":\"MP4\",\"path\":\"api/v4/11110160/mms/sg-11110160-6jrnl-lkglnw1olszi8f.16003051692095414.mp4\",\"url\":\"https://play-ws.vod.shopee.com/api/v4/11110160/mms/sg-11110160-6jrnl-lkglnw1olszi8f.16003051692095414.mp4\",\"width\":250,\"height\":250,\"bitrate\":124676,\"size\":51728,\"fps\":25.32895,\"duration\":3039,\"update_time\":1692095409}]},\"ab_test\":\"\"}",
             "upload_time": null,
             "url": "https://play-ws.vod.shopee.com/c3/98934353/160/A3oyOWJdAPzx--InEbQKACc.mp4"
            },
            "id": "id-11110103-6jt79-lkglfhyqnygab8",
            "mms_ext": "{\"vid\":\"id-11110103-6jt79-lkglfhyqnygab8\",\"biz\":103,\"duration\":33414,\"create_time\":1692095063,\"serviceID\":2,\"cover\":\"https://down-aka-sg.img.susercontent.com/id-11110103-23080-sfryp4qqvquveb\",\"cover_list\":null,\"formats\":[{\"format\":1600408,\"defn\":\"V360P\",\"profile\":\"MP4\",\"path\":\"api/v4/11110103/mms/id-11110103-6jt79-lkglfhyqnygab8.16004081692555302.mp4\",\"url\":\"https://play-ws.vod.shopee.com/api/v4/11110103/mms/id-11110103-6jt79-lkglfhyqnygab8.16004081692555302.mp4\",\"width\":360,\"height\":644,\"bitrate\":194441,\"size\":1241391,\"fps\":25.02998,\"duration\":33414,\"update_time\":1692555313},{\"format\":1600322,\"defn\":\"V360P\",\"profile\":\"MP4\",\"path\":\"api/v4/11110103/mms/id-11110103-6jt79-lkglfhyqnygab8.16003221692646512.mp4\",\"url\":\"https://play-ws.vod.shopee.com/api/v4/11110103/mms/id-11110103-6jt79-lkglfhyqnygab8.16003221692646512.mp4\",\"width\":360,\"height\":644,\"bitrate\":200464,\"size\":1264195,\"fps\":25.02998,\"duration\":33430,\"update_time\":1692646522},{\"format\":1600409,\"defn\":\"V540P\",\"profile\":\"MP4\",\"path\":\"api/v4/11110103/mms/id-11110103-6jt79-lkglfhyqnygab8.16004091692555314.mp4\",\"url\":\"https://play-ws.vod.shopee.com/api/v4/11110103/mms/id-11110103-6jt79-lkglfhyqnygab8.16004091692555314.mp4\",\"width\":540,\"height\":966,\"bitrate\":354002,\"size\":2007118,\"fps\":25.02998,\"duration\":33414,\"update_time\":1692555331},{\"format\":1600323,\"defn\":\"V540P\",\"profile\":\"MP4\",\"path\":\"api/v4/11110103/mms/id-11110103-6jt79-lkglfhyqnygab8.default.mp4\",\"url\":\"https://play-ws.vod.shopee.com/api/v4/11110103/mms/id-11110103-6jt79-lkglfhyqnygab8.default.mp4\",\"width\":540,\"height\":966,\"bitrate\":449145,\"size\":2434950,\"fps\":25.02998,\"duration\":33430,\"update_time\":1692095107},{\"format\":1600005,\"defn\":\"V640P\",\"profile\":\"MP4\",\"path\":\"api/v4/11110103/mms/id-11110103-6jt79-lkglfhyqnygab8.16000051692095066.mp4\",\"url\":\"https://play-ws.vod.shopee.com/api/v4/11110103/mms/id-11110103-6jt79-lkglfhyqnygab8.16000051692095066.mp4\",\"width\":640,\"height\":1144,\"bitrate\":770137,\"size\":3642042,\"fps\":25.02998,\"duration\":33414,\"update_time\":1692095089},{\"format\":1600410,\"defn\":\"V720P\",\"profile\":\"MP4\",\"path\":\"api/v4/11110103/mms/id-11110103-6jt79-lkglfhyqnygab8.16004101692555314.mp4\",\"url\":\"https://play-ws.vod.shopee.com/api/v4/11110103/mms/id-11110103-6jt79-lkglfhyqnygab8.16004101692555314.mp4\",\"width\":716,\"height\":1280,\"bitrate\":571179,\"size\":2912695,\"fps\":25.02998,\"duration\":33414,\"update_time\":1692555337},{\"format\":1600411,\"defn\":\"V720P\",\"profile\":\"MP4\",\"path\":\"api/v4/11110103/mms/id-11110103-6jt79-lkglfhyqnygab8.16004111692555314.mp4\",\"url\":\"https://play-ws.vod.shopee.com/api/v4/11110103/mms/id-11110103-6jt79-lkglfhyqnygab8.16004111692555314.mp4\",\"width\":716,\"height\":1280,\"bitrate\":1060321,\"size\":4952420,\"fps\":25.02998,\"duration\":33414,\"update_time\":1692555338},{\"format\":1600324,\"defn\":\"V720P\",\"profile\":\"MP4\",\"path\":\"api/v4/11110103/mms/id-11110103-6jt79-lkglfhyqnygab8.16003241692646511.mp4\",\"url\":\"https://play-ws.vod.shopee.com/api/v4/11110103/mms/id-11110103-6jt79-lkglfhyqnygab8.16003241692646511.mp4\",\"width\":716,\"height\":1280,\"bitrate\":732672,\"size\":3617285,\"fps\":25.02998,\"duration\":33430,\"update_time\":1692646535},{\"format\":1600325,\"defn\":\"V720P\",\"profile\":\"MP4\",\"path\":\"api/v4/11110103/mms/id-11110103-6jt79-lkglfhyqnygab8.16003251692646511.mp4\",\"url\":\"https://play-ws.vod.shopee.com/api/v4/11110103/mms/id-11110103-6jt79-lkglfhyqnygab8.16003251692646511.mp4\",\"width\":716,\"height\":1280,\"bitrate\":1271311,\"size\":5863408,\"fps\":25.02998,\"duration\":33430,\"update_time\":1692646547}],\"default_format\":{\"format\":600001,\"defn\":\"ORI\",\"profile\":\"MP4\",\"path\":\"\",\"url\":\"https://play-ws.vod.shopee.com/api/v4/11110103/mms/id-11110103-6jt79-lkglfhyqnygab8.ori.mp4\",\"width\":716,\"height\":1280,\"bitrate\":2256614,\"size\":9979213,\"fps\":30.03026,\"duration\":33414,\"update_time\":1692095066},\"extend_formats\":{\"H265\":[{\"format\":1600412,\"defn\":\"V360P\",\"profile\":\"MP4\",\"path\":\"api/v4/11110103/mms/id-11110103-6jt79-lkglfhyqnygab8.16004121692555314.mp4\",\"url\":\"https://play-ws.vod.shopee.com/api/v4/11110103/mms/id-11110103-6jt79-lkglfhyqnygab8.16004121692555314.mp4\",\"width\":360,\"height\":644,\"bitrate\":167999,\"size\":1134488,\"fps\":25.02998,\"duration\":33414,\"update_time\":1692555338},{\"format\":1600315,\"defn\":\"V360P\",\"profile\":\"MP4\",\"path\":\"api/v4/11110103/mms/id-11110103-6jt79-lkglfhyqnygab8.16003151692646512.mp4\",\"url\":\"https://play-ws.vod.shopee.com/api/v4/11110103/mms/id-11110103-6jt79-lkglfhyqnygab8.16003151692646512.mp4\",\"width\":360,\"height\":644,\"bitrate\":187002,\"size\":1213717,\"fps\":25.02998,\"duration\":33414,\"update_time\":1692646535},{\"format\":1600413,\"defn\":\"V540P\",\"profile\":\"MP4\",\"path\":\"api/v4/11110103/mms/id-11110103-6jt79-lkglfhyqnygab8.16004131692555314.mp4\",\"url\":\"https://play-ws.vod.shopee.com/api/v4/11110103/mms/id-11110103-6jt79-lkglfhyqnygab8.16004131692555314.mp4\",\"width\":540,\"height\":966,\"bitrate\":227881,\"size\":1484495,\"fps\":25.02998,\"duration\":33414,\"update_time\":1692555354},{\"format\":1600307,\"defn\":\"V540P\",\"profile\":\"MP4\",\"path\":\"api/v4/11110103/mms/id-11110103-6jt79-lkglfhyqnygab8.16003071692300447.mp4\",\"url\":\"https://play-ws.vod.shopee.com/api/v4/11110103/mms/id-11110103-6jt79-lkglfhyqnygab8.16003071692300447.mp4\",\"width\":540,\"height\":966,\"bitrate\":360170,\"size\":2069570,\"fps\":25.02998,\"duration\":33414,\"update_time\":1692300482},{\"format\":1600316,\"defn\":\"V540P\",\"profile\":\"MP4\",\"path\":\"api/v4/11110103/mms/id-11110103-6jt79-lkglfhyqnygab8.16003161692646511.mp4\",\"url\":\"https://play-ws.vod.shopee.com/api/v4/11110103/mms/id-11110103-6jt79-lkglfhyqnygab8.16003161692646511.mp4\",\"width\":540,\"height\":966,\"bitrate\":345796,\"size\":2009634,\"fps\":25.02998,\"duration\":33414,\"update_time\":1692646561},{\"format\":1600308,\"defn\":\"V640P\",\"profile\":\"MP4\",\"path\":\"api/v4/11110103/mms/id-11110103-6jt79-lkglfhyqnygab8.16003081692095091.mp4\",\"url\":\"https://play-ws.vod.shopee.com/api/v4/11110103/mms/id-11110103-6jt79-lkglfhyqnygab8.16003081692095091.mp4\",\"width\":640,\"height\":1144,\"bitrate\":433988,\"size\":2377389,\"fps\":25.02998,\"duration\":33414,\"update_time\":1692095147},{\"format\":1600414,\"defn\":\"V720P\",\"profile\":\"MP4\",\"path\":\"api/v4/11110103/mms/id-11110103-6jt79-lkglfhyqnygab8.16004141692555314.mp4\",\"url\":\"https://play-ws.vod.shopee.com/api/v4/11110103/mms/id-11110103-6jt79-lkglfhyqnygab8.16004141692555314.mp4\",\"width\":716,\"height\":1280,\"bitrate\":403470,\"size\":2216690,\"fps\":25.02998,\"duration\":33414,\"update_time\":1692555365},{\"format\":1600415,\"defn\":\"V720P\",\"profile\":\"MP4\",\"path\":\"api/v4/11110103/mms/id-11110103-6jt79-lkglfhyqnygab8.16004151692555314.mp4\",\"url\":\"https://play-ws.vod.shopee.com/api/v4/11110103/mms/id-11110103-6jt79-lkglfhyqnygab8.16004151692555314.mp4\",\"width\":716,\"height\":1280,\"bitrate\":557072,\"size\":2857209,\"fps\":25.02998,\"duration\":33414,\"update_time\":1692555376},{\"format\":1600318,\"defn\":\"V720P\",\"profile\":\"MP4\",\"path\":\"api/v4/11110103/mms/id-11110103-6jt79-lkglfhyqnygab8.16003181692646512.mp4\",\"url\":\"https://play-ws.vod.shopee.com/api/v4/11110103/mms/id-11110103-6jt79-lkglfhyqnygab8.16003181692646512.mp4\",\"width\":716,\"height\":1280,\"bitrate\":686633,\"size\":3430913,\"fps\":25.02998,\"duration\":33414,\"update_time\":1692646600},{\"format\":1600317,\"defn\":\"V720P\",\"profile\":\"MP4\",\"path\":\"api/v4/11110103/mms/id-11110103-6jt79-lkglfhyqnygab8.16003171692646511.mp4\",\"url\":\"https://play-ws.vod.shopee.com/api/v4/11110103/mms/id-11110103-6jt79-lkglfhyqnygab8.16003171692646511.mp4\",\"width\":716,\"height\":1280,\"bitrate\":452128,\"size\":2453029,\"fps\":25.02998,\"duration\":33414,\"update_time\":1692646569}]},\"ab_test\":\"\"}",
            "upload_time": null,
            "url": "https://play-ws.vod.shopee.com/api/v4/11110103/mms/id-11110103-6jt79-lkglfhyqnygab8.16004081692555302.mp4"
           }
          ]
         },
         {
          "author_username": "weny222222",
          "comment": "Fitur Terbaik:mantap banget\n\nAlhamdulillah pas bgt dateng nya di hari H. Udah deg2an aja kalo2 dateng nya lewat hari H...",
          "detailed_rating": {
           "delivery_service": 4,
           "driver_service": null,
           "product_quality": 5,
           "seller_service": 4
          },
          "images": [
           "id-11134103-7r98o-lknbbiig4z7t9b",
           "id-11134103-7r98o-lknbbiig4z7345",
           "id-11134103-7r98o-lknbbiig4ylnc8",
           "id-11134103-7r98o-lknbbihm671177",
           "id-11134103-7r98o-lknbdzdc3sj344"
          ],
          "index": 17,
          "like_count": null,
          "rating_star": 5,
          "videos": [
           {
            "cover": "https://down-aka-sg.img.susercontent.com/id-11110103-7r98o-lknbaw2r0cnpa2",
            "cover_image_id": "sg-11134206-7r98o-lkpvwawzduum21",
            "duration": 21106,
            "highlight": {
             "cover": "https://play-ws.vod.shopee.com/c3/98934353/160/A3oyOfy-AJAsAWkoEZIBACc.jpg",
             "cover_image_id": "",
             "duration": 3000,
             "highlight": null,
             "id": "sg-11110160-6ke14-lkpvyj8ft5yed2",
             "mms_ext": "{\"vid\":\"sg-11110160-6ke14-lkpvyj8ft5yed2\",\"biz\":103,\"duration\":3000,\"create_time\":1692657528,\"serviceID\":6,\"cover\":\"https://play-ws.vod.shopee.com/c3/98934353/160/A3oyOfy-AJAsAWkoEZIBACc.jpg\",\"cover_list\":null,\"formats\":[],\"default_format\":{\"format\":600001,\"defn\":\"ORI\",\"profile\":\"MP4\",\"path\":\"\",\"url\":\"https://play-ws.vod.shopee.com/c3/98934353/160/A3oyOUKTAAgsAWkoEZIJACc.mp4\",\"width\":250,\"height\":250,\"bitrate\":354826,\"size\":134628,\"fps\":25,\"duration\":3000,\"update_time\":1692657529},\"extend_formats\":{\"H265\":[{\"format\":1600305,\"defn\":\"V270P\",\"profile\":\"MP4\",\"path\":\"api/v4/11110160/mms/sg-11110160-6ke14-lkpvyj8ft5yed2.16003051692657537.mp4\",\"url\":\"https://play-ws.vod.shopee.com/api/v4/11110160/mms/sg-11110160-6ke14-lkpvyj8ft5yed2.16003051692657537.mp4\",\"width\":250,\"height\":250,\"bitrate\":135659,\"size\":54507,\"fps\":25.33784,\"duration\":2960,\"update_time\":1692657532}]},\"ab_test\":\"\"}",
             "upload_time": null,
             "url": "https://play-ws.vod.shopee.com/c3/98934353/160/A3oyOUKTAAgsAWkoEZIJACc.mp4"
            },
            "id": "id-11110103-6ke14-lknbaw2qyy392d",
            "mms_ext": "{\"vid\":\"id-11110103-6ke14-lknbaw2qyy392d\",\"biz\":103,\"duration\":21106,\"create_time\":1692501743,\"serviceID\":6,\"cover\":\"https://down-aka-sg.img.susercontent.com/id-11110103-7r98o-lknbaw2r0cnpa2\",\"cover_list\":null,\"formats\":[{\"format\":1600323,\"defn\":\"V540P\",\"profile\":\"MP4\",\"path\":\"api/v4/11110103/mms/id-11110103-6ke14-lknbaw2qyy392d.default.mp4\",\"url\":\"https://play-ws.vod.shopee.com/api/v4/11110103/mms/id-11110103-6ke14-lknbaw2qyy392d.default.mp4\",\"width\":960,\"height\":540,\"bitrate\":505582,\"size\":1377874,\"fps\":25.04753,\"duration\":21120,\"update_time\":1692501784},{\"format\":1600005,\"defn\":\"V640P\",\"profile\":\"MP4\",\"path\":\"api/v4/11110103/mms/id-11110103-6ke14-lknbaw2qyy392d.16000051692501745.mp4\",\"url\":\"https://play-ws.vod.shopee.com/api/v4/11110103/mms/id-11110103-6ke14-lknbaw2qyy392d.16000051692501745.mp4\",\"width\":1138,\"height\":640,\"bitrate\":877504,\"size\":2358625,\"fps\":25.04753,\"duration\":21107,\"update_time\":1692501766}],\"default_format\":{\"format\":600001,\"defn\":\"ORI\",\"profile\":\"MP4\",\"path\":\"\",\"url\":\"https://play-ws.vod.shopee.com/api/v4/11110103/mms/id-11110103-6ke14-lknbaw2qyy392d.mp4\",\"width\":1920,\"height\":1080,\"bitrate\":5926822,\"size\":15601371,\"fps\":25.04753,\"duration\":21106,\"update_time\":1692501745},\"extend_formats\":{\"H265\":[{\"format\":1600307,\"defn\":\"V540P\",\"profile\":\"MP4\",\"path\":\"api/v4/11110103/mms/id-11110103-6ke14-lknbaw2qyy392d.16003071692725670.mp4\",\"url\":\"https://play-ws.vod.shopee.com/api/v4/11110103/mms/id-11110103-6ke14-lknbaw2qyy392d.16003071692725670.mp4\",\"width\":960,\"height\":540,\"bitrate\":578150,\"size\":1575278,\"fps\":25.04753,\"duration\":21107,\"update_time\":1692725721},{\"format\":1600308,\"defn\":\"V640P\",\"profile\":\"MP4\",\"path\":\"api/v4/11110103/mms/id-11110103-6ke14-lknbaw2qyy392d.16003081692501768.mp4\",\"url\":\"https://play-ws.vod.shopee.com/api/v4/11110103/mms/id-11110103-6ke14-lknbaw2qyy392d.16003081692501768.mp4\",\"width\":1138,\"height\":640,\"bitrate\":717224,\"size\":1941073,\"fps\":25.04753,\"duration\":21107,\"update_time\":1692501831}]},\"ab_test\":\"\"}",
            "upload_time": null,
            "url": "https://play-ws.vod.shopee.com/api/v4/11110103/mms/id-11110103-6ke14-lknbaw2qyy392d.default.mp4"
           }
          ]
         },
         {
          "author_username": "alfi_44shop",
          "comment": "Sepadan dengan Harga:murah lah dengan spek banyak\nFitur Terbaik:keren\n\nSaya sampai beli 2 ,sama anak saya..karena kata anak sy,spek nya bagus dan murah..\nSeller ramah dan baik, kurir sopan",
          "detailed_rating": {
           "delivery_service": null,
           "driver_service": null,
           "product_quality": 5,
           "seller_service": null
          },
          "images": [
           "id-11134103-7r98o-lkrsgtic2z1w89",
           "id-11134103-7r98o-lkrsgtic4dmc82",
           "id-11134103-7r98o-lkrsgtic5s6sbb",
           "id-11134103-7r98o-lkrsgtic76r829",
           "id-11134103-7r98o-lkrsgtic8lboaa"
          ],
          "index": 18,
          "like_count": 1,
          "rating_star": 5,
          "videos": [
           {
            "cover": "https://down-aka-sg.img.susercontent.com/id-11110103-23080-xbmkw3bz32uv33",
            "cover_image_id": "sg-11134206-7rbk0-lkt0vgg90hgwa4",
            "duration": 8987,
            "highlight": {
             "cover": "https://play-ws.vod.shopee.com/c3/98934353/160/A3oyOWemADAhTJYoEdUGACc.jpg",
             "cover_image_id": "",
             "duration": 3079,
             "highlight": null,
             "id": "sg-11110160-6ke14-lkt0xp291rp310",
             "mms_ext": "{\"vid\":\"sg-11110160-6ke14-lkt0xp291rp310\",\"biz\":103,\"duration\":3079,\"create_time\":1692847499,\"serviceID\":6,\"cover\":\"https://play-ws.vod.shopee.com/c3/98934353/160/A3oyOWemADAhTJYoEdUGACc.jpg\",\"cover_list\":null,\"formats\":[],\"default_format\":{\"format\":600001,\"defn\":\"ORI\",\"profile\":\"MP4\",\"path\":\"\",\"url\":\"https://play-ws.vod.shopee.com/c3/98934353/160/A3oyOaffANAgTJYoEdcDACc.mp4\",\"width\":250,\"height\":250,\"bitrate\":242249,\"size\":95219,\"fps\":25,\"duration\":3079,\"update_time\":1692847500},\"extend_formats\":{\"H265\":[{\"format\":1600305,\"defn\":\"V270P\",\"profile\":\"MP4\",\"path\":\"api/v4/11110160/mms/sg-11110160-6ke14-lkt0xp291rp310.16003051692847508.mp4\",\"url\":\"https://play-ws.vod.shopee.com/api/v4/11110160/mms/sg-11110160-6ke14-lkt0xp291rp310.16003051692847508.mp4\",\"width\":250,\"height\":250,\"bitrate\":132247,\"size\":54605,\"fps\":25.32895,\"duration\":3039,\"update_time\":1692847502}]},\"ab_test\":\"\"}",
             "upload_time": null,
             "url": "https://play-ws.vod.shopee.com/c3/98934353/160/A3oyOaffANAgTJYoEdcDACc.mp4"
            },
            "id": "id-11110103-6ke14-lkrshvsryz9032",
            "mms_ext": "{\"vid\":\"id-11110103-6ke14-lkrshvsryz9032\",\"biz\":103,\"duration\":8987,\"create_time\":1692773115,\"serviceID\":6,\"cover\":\"https://down-aka-sg.img.susercontent.com/id-11110103-23080-xbmkw3bz32uv33\",\"cover_list\":null,\"formats\":[{\"format\":1600323,\"defn\":\"V540P\",\"profile\":\"MP4\",\"path\":\"api/v4/11110103/mms/id-11110103-6ke14-lkrshvsryz9032.default.mp4\",\"url\":\"https://play-ws.vod.shopee.com/api/v4/11110103/mms/id-11110103-6ke14-lkrshvsryz9032.default.mp4\",\"width\":960,\"height\":540,\"bitrate\":498038,\"size\":707955,\"fps\":25.11211,\"duration\":9003,\"update_time\":1692773140},{\"format\":1600005,\"defn\":\"V640P\",\"profile\":\"MP4\",\"path\":\"api/v4/11110103/mms/id-11110103-6ke14-lkrshvsryz9032.16000051692773117.mp4\",\"url\":\"https://play-ws.vod.shopee.com/api/v4/11110103/mms/id-11110103-6ke14-lkrshvsryz9032.16000051692773117.mp4\",\"width\":1138,\"height\":640,\"bitrate\":853599,\"size\":1068913,\"fps\":25.11211,\"duration\":8987,\"update_time\":1692773124}],\"default_format\":{\"format\":600001,\"defn\":\"ORI\",\"profile\":\"MP4\",\"path\":\"\",\"url\":\"https://play-ws.vod.shopee.com/c3/98934353/103/A3oyOeybAGCZj4QoEX8HACY.mp4\",\"width\":1280,\"height\":720,\"bitrate\":1513975,\"size\":1840645,\"fps\":30.11258,\"duration\":8987,\"update_time\":1692773116},\"extend_formats\":{\"H265\":[{\"format\":1600307,\"defn\":\"V540P\",\"profile\":\"MP4\",\"path\":\"api/v4/11110103/mms/id-11110103-6ke14-lkrshvsryz9032.16003071692922225.mp4\",\"url\":\"https://play-ws.vod.shopee.com/api/v4/11110103/mms/id-11110103-6ke14-lkrshvsryz9032.16003071692922225.mp4\",\"width\":960,\"height\":540,\"bitrate\":603782,\"size\":828979,\"fps\":25.11211,\"duration\":8987,\"update_time\":1692922238},{\"format\":1600308,\"defn\":\"V640P\",\"profile\":\"MP4\",\"path\":\"api/v4/11110103/mms/id-11110103-6ke14-lkrshvsryz9032.16003081692773135.mp4\",\"url\":\"https://play-ws.vod.shopee.com/api/v4/11110103/mms/id-11110103-6ke14-lkrshvsryz9032.16003081692773135.mp4\",\"width\":1138,\"height\":640,\"bitrate\":755184,\"size\":997796,\"fps\":25.11211,\"duration\":8987,\"update_time\":1692773154}]},\"ab_test\":\"\"}",
            "upload_time": null,
            "url": "https://play-ws.vod.shopee.com/api/v4/11110103/mms/id-11110103-6ke14-lkrshvsryz9032.default.mp4"
           }
          ]
         },
         {
          "author_username": "treizzhttreizzht",
          "comment": "Fitur Terbaik:penyimpananya gede\nSepadan dengan Harga:rill\n\nakhirnya bisa ganti hp di 2023 dan langsung ke redmi 12 yang baru aja launching, tau hp ini dari ignya ci shanii😍😍😍 dan langsung chekout wkwkw selebihnya mantap si",
          "detailed_rating": {
           "delivery_service": 5,
           "driver_service": null,
           "product_quality": 5,
           "seller_service": 5
          },
          "images": [
           "id-11134103-7qul7-lk2g4evz1rrsae",
           "id-11134103-7qul2-lk2g4evz1rmq09",
           "id-11134103-7quky-lk2g4evz36764e",
           "id-11134103-7quky-lk2g4evz4krmd0"
          ],
          "index": 19,
          "like_count": 32,
          "rating_star": 5,
          "videos": [
           {
            "cover": "https://down-aka-sg.img.susercontent.com/id-11110103-23080-ezw4ut0eqcuv8d",
            "cover_image_id": "sg-11134206-7qvdz-lk88nb1pmrr91e",
            "duration": 6896,
            "highlight": {
             "cover": "https://play-ws.vod.shopee.com/c3/98934353/160/A3oyOemvAPA5UmonEW8HACc.jpg",
             "cover_image_id": "",
             "duration": 3079,
             "highlight": null,
             "id": "sg-11110160-6jroz-lk88opd9zridb2",
             "mms_ext": "{\"vid\":\"sg-11110160-6jroz-lk88opd9zridb2\",\"biz\":103,\"duration\":3079,\"create_time\":1691589310,\"serviceID\":6,\"cover\":\"https://play-ws.vod.shopee.com/c3/98934353/160/A3oyOemvAPA5UmonEW8HACc.jpg\",\"cover_list\":null,\"formats\":[],\"default_format\":{\"format\":600001,\"defn\":\"ORI\",\"profile\":\"MP4\",\"path\":\"\",\"url\":\"https://play-ws.vod.shopee.com/c3/98934353/160/A3oyOd1gANg4UmonEXsBACc.mp4\",\"width\":250,\"height\":250,\"bitrate\":220610,\"size\":86893,\"fps\":25,\"duration\":3079,\"update_time\":1691589310},\"extend_formats\":{\"H265\":[{\"format\":1600305,\"defn\":\"V270P\",\"profile\":\"MP4\",\"path\":\"api/v4/11110160/mms/sg-11110160-6jroz-lk88opd9zridb2.16003051691589317.mp4\",\"url\":\"https://play-ws.vod.shopee.com/api/v4/11110160/mms/sg-11110160-6jroz-lk88opd9zridb2.16003051691589317.mp4\",\"width\":250,\"height\":250,\"bitrate\":100828,\"size\":42634,\"fps\":25.32895,\"duration\":3039,\"update_time\":1691589313}]},\"ab_test\":\"\"}",
             "upload_time": null,
             "url": "https://play-ws.vod.shopee.com/c3/98934353/160/A3oyOd1gANg4UmonEXsBACc.mp4"
            },
            "id": "id-11110103-6jt7m-lk2g4v697tn39b",
            "mms_ext": "{\"vid\":\"id-11110103-6jt7m-lk2g4v697tn39b\",\"biz\":103,\"duration\":6896,\"create_time\":1691238638,\"serviceID\":2,\"cover\":\"https://down-aka-sg.img.susercontent.com/id-11110103-23080-ezw4ut0eqcuv8d\",\"cover_list\":null,\"formats\":[{\"format\":1600046,\"defn\":\"V480P\",\"profile\":\"MP4\",\"path\":\"api/v4/11110103/mms/id-11110103-6jt7m-lk2g4v697tn39b.16000461691238648.mp4\",\"url\":\"https://play-ws.vod.shopee.com/api/v4/11110103/mms/id-11110103-6jt7m-lk2g4v697tn39b.16000461691238648.mp4\",\"width\":480,\"height\":854,\"bitrate\":585210,\"size\":587263,\"fps\":25.14706,\"duration\":6912,\"update_time\":1691238651},{\"format\":1600005,\"defn\":\"V640P\",\"profile\":\"MP4\",\"path\":\"api/v4/11110103/mms/id-11110103-6jt7m-lk2g4v697tn39b.16000051691238640.mp4\",\"url\":\"https://play-ws.vod.shopee.com/api/v4/11110103/mms/id-11110103-6jt7m-lk2g4v697tn39b.16000051691238640.mp4\",\"width\":640,\"height\":1138,\"bitrate\":790224,\"size\":761848,\"fps\":25.14706,\"duration\":6896,\"update_time\":1691238646}],\"default_format\":{\"format\":600001,\"defn\":\"ORI\",\"profile\":\"MP4\",\"path\":\"\",\"url\":\"https://play-ws.vod.shopee.com/api/v4/11110103/mms/id-11110103-6jt7m-lk2g4v697tn39b.ori.mp4\",\"width\":720,\"height\":1280,\"bitrate\":2442639,\"size\":2196584,\"fps\":30.14735,\"duration\":6896,\"update_time\":1691238640},\"extend_formats\":{\"H265\":[{\"format\":1600304,\"defn\":\"V480P\",\"profile\":\"MP4\",\"path\":\"api/v4/11110103/mms/id-11110103-6jt7m-lk2g4v697tn39b.16003041691238647.mp4\",\"url\":\"https://play-ws.vod.shopee.com/api/v4/11110103/mms/id-11110103-6jt7m-lk2g4v697tn39b.16003041691238647.mp4\",\"width\":480,\"height\":854,\"bitrate\":357436,\"size\":396660,\"fps\":25.14706,\"duration\":6896,\"update_time\":1691238657},{\"format\":1600308,\"defn\":\"V640P\",\"profile\":\"MP4\",\"path\":\"api/v4/11110103/mms/id-11110103-6jt7m-lk2g4v697tn39b.16003081691238647.mp4\",\"url\":\"https://play-ws.vod.shopee.com/api/v4/11110103/mms/id-11110103-6jt7m-lk2g4v697tn39b.16003081691238647.mp4\",\"width\":640,\"height\":1138,\"bitrate\":555180,\"size\":592410,\"fps\":25.14706,\"duration\":6896,\"update_time\":1691238660}]},\"ab_test\":\"\"}",
            "upload_time": null,
            "url": "https://play-ws.vod.shopee.com/api/v4/11110103/mms/id-11110103-6jt7m-lk2g4v697tn39b.16000461691238648.mp4"
           }
          ]
         },
         {
          "author_username": "vearactivewear",
          "comment": "Fitur Terbaik:design nya keren abies\nSepadan dengan Harga:worth to buy sih buat spec sgini\n\nPengiriman sameday dari official\nStore beneran langsung sampai . Smoga awet dah",
          "detailed_rating": {
           "delivery_service": 5,
           "driver_service": null,
           "product_quality": 5,
           "seller_service": 5
          },
          "images": [
           "id-11134103-7qul0-lk2kvzmi54rrfe",
           "id-11134103-7qukx-lk2kvzmi6jc7e6",
           "id-11134103-7qul5-lk2kwcsyutaw37"
          ],
          "index": 20,
          "like_count": 8,
          "rating_star": 5,
          "videos": [
           {
            "cover": "https://down-aka-sg.img.susercontent.com/id-11110103-23080-e6d2uea8ucuv22",
            "cover_image_id": "sg-11134206-7qvf8-lk7g0bsxappz30",
            "duration": 12034,
            "highlight": {
             "cover": "https://play-ws.vod.shopee.com/c3/98934353/160/A3oyOd8-AMiQ114nITQBCgAn.jpg",
             "cover_image_id": "",
             "duration": 3079,
             "highlight": null,
             "id": "sg-11110160-6jroi-lk7g1wtvt1jm37",
             "mms_ext": "{\"vid\":\"sg-11110160-6jroi-lk7g1wtvt1jm37\",\"biz\":103,\"duration\":3079,\"create_time\":1691541163,\"serviceID\":6,\"cover\":\"https://play-ws.vod.shopee.com/c3/98934353/160/A3oyOd8-AMiQ114nITQBCgAn.jpg\",\"cover_list\":null,\"formats\":[],\"default_format\":{\"format\":600001,\"defn\":\"ORI\",\"profile\":\"MP4\",\"path\":\"\",\"url\":\"https://play-ws.vod.shopee.com/c3/98934353/160/A3oyOb20AFyQ114nESILACc.mp4\",\"width\":250,\"height\":250,\"bitrate\":209698,\"size\":82501,\"fps\":25,\"duration\":3079,\"update_time\":1691541165},\"extend_formats\":{\"H265\":[{\"format\":1600305,\"defn\":\"V270P\",\"profile\":\"MP4\",\"path\":\"api/v4/11110160/mms/sg-11110160-6jroi-lk7g1wtvt1jm37.16003051691541171.mp4\",\"url\":\"https://play-ws.vod.shopee.com/api/v4/11110160/mms/sg-11110160-6jroi-lk7g1wtvt1jm37.16003051691541171.mp4\",\"width\":250,\"height\":250,\"bitrate\":100813,\"size\":42660,\"fps\":25.32895,\"duration\":3039,\"update_time\":1691541167}]},\"ab_test\":\"\"}",
             "upload_time": null,
             "url": "https://play-ws.vod.shopee.com/c3/98934353/160/A3oyOb20AFyQ114nESILACc.mp4"
            },
            "id": "id-11110103-6jt7l-lk2kwtwnttjs4b",
            "mms_ext": "{\"vid\":\"id-11110103-6jt7l-lk2kwtwnttjs4b\",\"biz\":103,\"duration\":12034,\"create_time\":1691246673,\"serviceID\":6,\"cover\":\"https://down-aka-sg.img.susercontent.com/id-11110103-23080-e6d2uea8ucuv22\",\"cover_list\":null,\"formats\":[{\"format\":1600046,\"defn\":\"V480P\",\"profile\":\"MP4\",\"path\":\"api/v4/11110103/mms/id-11110103-6jt7l-lk2kwtwnttjs4b.16000461691246685.mp4\",\"url\":\"https://play-ws.vod.shopee.com/api/v4/11110103/mms/id-11110103-6jt7l-lk2kwtwnttjs4b.16000461691246685.mp4\",\"width\":480,\"height\":854,\"bitrate\":638351,\"size\":1113501,\"fps\":25.08333,\"duration\":12053,\"update_time\":1691246691},{\"format\":1600005,\"defn\":\"V640P\",\"profile\":\"MP4\",\"path\":\"api/v4/11110103/mms/id-11110103-6jt7l-lk2kwtwnttjs4b.16000051691246675.mp4\",\"url\":\"https://play-ws.vod.shopee.com/api/v4/11110103/mms/id-11110103-6jt7l-lk2kwtwnttjs4b.16000051691246675.mp4\",\"width\":640,\"height\":1138,\"bitrate\":837899,\"size\":1413638,\"fps\":25.08333,\"duration\":12052,\"update_time\":1691246684}],\"default_format\":{\"format\":600001,\"defn\":\"ORI\",\"profile\":\"MP4\",\"path\":\"\",\"url\":\"https://play-ws.vod.shopee.com/c3/98934353/103/A3oyOfReAHj-oBgnIRIBCAAm.mp4\",\"width\":720,\"height\":1280,\"bitrate\":6182943,\"size\":9486302,\"fps\":29.49869,\"duration\":12034,\"update_time\":1691246674},\"extend_formats\":{\"H265\":[{\"format\":1600304,\"defn\":\"V480P\",\"profile\":\"MP4\",\"path\":\"api/v4/11110103/mms/id-11110103-6jt7l-lk2kwtwnttjs4b.16003041691246685.mp4\",\"url\":\"https://play-ws.vod.shopee.com/api/v4/11110103/mms/id-11110103-6jt7l-lk2kwtwnttjs4b.16003041691246685.mp4\",\"width\":480,\"height\":854,\"bitrate\":438510,\"size\":817319,\"fps\":25.08333,\"duration\":12052,\"update_time\":1691246704},{\"format\":1600308,\"defn\":\"V640P\",\"profile\":\"MP4\",\"path\":\"api/v4/11110103/mms/id-11110103-6jt7l-lk2kwtwnttjs4b.16003081691246685.mp4\",\"url\":\"https://play-ws.vod.shopee.com/api/v4/11110103/mms/id-11110103-6jt7l-lk2kwtwnttjs4b.16003081691246685.mp4\",\"width\":640,\"height\":1138,\"bitrate\":616546,\"size\":1088699,\"fps\":25.08333,\"duration\":12052,\"update_time\":1691246710}]},\"ab_test\":\"\"}",
            "upload_time": null,
            "url": "https://play-ws.vod.shopee.com/api/v4/11110103/mms/id-11110103-6jt7l-lk2kwtwnttjs4b.16000461691246685.mp4"
           }
          ]
         },
         {
          "author_username": "r*****5",
          "comment": "Barang sesuai dan berfungsi dengan baik, pengiriman cepat dan admin fast respon 👍🏻👍🏻",
          "detailed_rating": {
           "delivery_service": 5,
           "driver_service": null,
           "product_quality": 5,
           "seller_service": 5
          },
          "images": [
           "id-11134103-7r98o-lkm4p6uuvbqnd8",
           "id-11134103-7r98o-lkm4p6w8rvv582",
           "id-11134103-7r98o-lkm4p6w8rvvv32",
           "id-11134103-7r98o-lkm4p6uuwqb31f"
          ],
          "index": 21,
          "like_count": 7,
          "rating_star": 5,
          "videos": [
           {
            "cover": "https://down-aka-sg.img.susercontent.com/id-11110103-23080-kxj33vy6ewuv45",
            "cover_image_id": "sg-11134206-7rbk0-lknusqjek88e35",
            "duration": 30186,
            "highlight": {
             "cover": "https://play-ws.vod.shopee.com/c3/98934353/160/A3oyOf4UAAAatUsoEXUIACc.jpg",
             "cover_image_id": "",
             "duration": 3119,
             "highlight": null,
             "id": "sg-11110160-6ke14-lknuvqgqmifs74",
             "mms_ext": "{\"vid\":\"sg-11110160-6ke14-lknuvqgqmifs74\",\"biz\":103,\"duration\":3119,\"create_time\":1692534647,\"serviceID\":6,\"cover\":\"https://play-ws.vod.shopee.com/c3/98934353/160/A3oyOf4UAAAatUsoEXUIACc.jpg\",\"cover_list\":null,\"formats\":[],\"default_format\":{\"format\":600001,\"defn\":\"ORI\",\"profile\":\"MP4\",\"path\":\"\",\"url\":\"https://play-ws.vod.shopee.com/c3/98934353/160/A3oyOb-4AKwZtUsoEXkEACc.mp4\",\"width\":250,\"height\":250,\"bitrate\":303133,\"size\":120174,\"fps\":25,\"duration\":3119,\"update_time\":1692534648},\"extend_formats\":{\"H265\":[{\"format\":1600305,\"defn\":\"V270P\",\"profile\":\"MP4\",\"path\":\"api/v4/11110160/mms/sg-11110160-6ke14-lknuvqgqmifs74.16003051692534655.mp4\",\"url\":\"https://play-ws.vod.shopee.com/api/v4/11110160/mms/sg-11110160-6ke14-lknuvqgqmifs74.16003051692534655.mp4\",\"width\":250,\"height\":250,\"bitrate\":146810,\"size\":60874,\"fps\":25.32467,\"duration\":3079,\"update_time\":1692534650}]},\"ab_test\":\"\"}",
             "upload_time": null,
             "url": "https://play-ws.vod.shopee.com/c3/98934353/160/A3oyOb-4AKwZtUsoEXkEACc.mp4"
            },
            "id": "id-11110103-6ke14-lkm4vgsq6zh169",
            "mms_ext": "{\"vid\":\"id-11110103-6ke14-lkm4vgsq6zh169\",\"biz\":103,\"duration\":30186,\"create_time\":1692430394,\"serviceID\":2,\"cover\":\"https://down-aka-sg.img.susercontent.com/id-11110103-23080-kxj33vy6ewuv45\",\"cover_list\":null,\"formats\":[{\"format\":1600323,\"defn\":\"V540P\",\"profile\":\"MP4\",\"path\":\"api/v4/11110103/mms/id-11110103-6ke14-lkm4vgsq6zh169.default.mp4\",\"url\":\"https://play-ws.vod.shopee.com/api/v4/11110103/mms/id-11110103-6ke14-lkm4vgsq6zh169.default.mp4\",\"width\":540,\"height\":966,\"bitrate\":483764,\"size\":2329296,\"fps\":25.0332,\"duration\":30187,\"update_time\":1692430464},{\"format\":1600005,\"defn\":\"V640P\",\"profile\":\"MP4\",\"path\":\"api/v4/11110103/mms/id-11110103-6ke14-lkm4vgsq6zh169.16000051692430398.mp4\",\"url\":\"https://play-ws.vod.shopee.com/api/v4/11110103/mms/id-11110103-6ke14-lkm4vgsq6zh169.16000051692430398.mp4\",\"width\":640,\"height\":1144,\"bitrate\":839524,\"size\":3550588,\"fps\":25.0332,\"duration\":30186,\"update_time\":1692430426}],\"default_format\":{\"format\":600001,\"defn\":\"ORI\",\"profile\":\"MP4\",\"path\":\"\",\"url\":\"https://play-ws.vod.shopee.com/api/v4/11110103/mms/id-11110103-6ke14-lkm4vgsq6zh169.ori.mp4\",\"width\":716,\"height\":1280,\"bitrate\":2474541,\"size\":9839253,\"fps\":30.03351,\"duration\":30186,\"update_time\":1692430398},\"extend_formats\":{\"H265\":[{\"format\":1600307,\"defn\":\"V540P\",\"profile\":\"MP4\",\"path\":\"api/v4/11110103/mms/id-11110103-6ke14-lkm4vgsq6zh169.16003071692559393.mp4\",\"url\":\"https://play-ws.vod.shopee.com/api/v4/11110103/mms/id-11110103-6ke14-lkm4vgsq6zh169.16003071692559393.mp4\",\"width\":540,\"height\":966,\"bitrate\":583510,\"size\":2710835,\"fps\":25.0332,\"duration\":30186,\"update_time\":1692559453},{\"format\":1600308,\"defn\":\"V640P\",\"profile\":\"MP4\",\"path\":\"api/v4/11110103/mms/id-11110103-6ke14-lkm4vgsq6zh169.16003081692430447.mp4\",\"url\":\"https://play-ws.vod.shopee.com/api/v4/11110103/mms/id-11110103-6ke14-lkm4vgsq6zh169.16003081692430447.mp4\",\"width\":640,\"height\":1144,\"bitrate\":726368,\"size\":3248692,\"fps\":25.0332,\"duration\":30186,\"update_time\":1692430524}]},\"ab_test\":\"\"}",
            "upload_time": null,
            "url": "https://play-ws.vod.shopee.com/api/v4/11110103/mms/id-11110103-6ke14-lkm4vgsq6zh169.default.mp4"
           }
          ]
         },
         {
          "author_username": "s*****a",
          "comment": "Sepadan dengan Harga:sepadan\n\nProduk datang sesuai pesanan, tidak lecet, aman. Pengemasan aman dan terlindungi dengan bublewrap. Lumayan dapat harga diskon. Pengiriman lumayan cepet. Fitur baik dan hp berfungsi dengan baik tanpa ada kendala. Kelengkapan sangat lengkap.",
          "detailed_rating": {
           "delivery_service": 5,
           "driver_service": null,
           "product_quality": 5,
           "seller_service": 5
          },
          "images": [
           "id-11134103-7qul7-lkauj7dj0rpwcd",
           "id-11134103-7qukx-lkauj7dj26ac8a"
          ],
          "index": 22,
          "like_count": 3,
          "rating_star": 5,
          "videos": [
           {
            "cover": "https://down-aka-sg.img.susercontent.com/id-11110103-23080-7yj8rbju5kuv8e",
            "cover_image_id": "sg-11134206-7qvej-lkew1d6m36ikce",
            "duration": 11100,
            "highlight": {
             "cover": "https://play-ws.vod.shopee.com/c3/98934353/160/A3oyOcZFALwkSsonIUACAQAn.jpg",
             "cover_image_id": "",
             "duration": 3079,
             "highlight": null,
             "id": "sg-11110160-6jrnv-lkew2e3y1vgyec",
             "mms_ext": "{\"vid\":\"sg-11110160-6jrnv-lkew2e3y1vgyec\",\"biz\":103,\"duration\":3079,\"create_time\":1691991830,\"serviceID\":6,\"cover\":\"https://play-ws.vod.shopee.com/c3/98934353/160/A3oyOcZFALwkSsonIUACAQAn.jpg\",\"cover_list\":null,\"formats\":[],\"default_format\":{\"format\":600001,\"defn\":\"ORI\",\"profile\":\"MP4\",\"path\":\"\",\"url\":\"https://play-ws.vod.shopee.com/c3/98934353/160/A3oyOWXRAFQkSsonIYoCCwAn.mp4\",\"width\":250,\"height\":250,\"bitrate\":228997,\"size\":90034,\"fps\":25,\"duration\":3079,\"update_time\":1691991831},\"extend_formats\":{\"H265\":[{\"format\":1600305,\"defn\":\"V270P\",\"profile\":\"MP4\",\"path\":\"api/v4/11110160/mms/sg-11110160-6jrnv-lkew2e3y1vgyec.16003051691991837.mp4\",\"url\":\"https://play-ws.vod.shopee.com/api/v4/11110160/mms/sg-11110160-6jrnv-lkew2e3y1vgyec.16003051691991837.mp4\",\"width\":250,\"height\":250,\"bitrate\":117321,\"size\":48933,\"fps\":25.32895,\"duration\":3039,\"update_time\":1691991832}]},\"ab_test\":\"\"}",
             "upload_time": null,
             "url": "https://play-ws.vod.shopee.com/c3/98934353/160/A3oyOWXRAFQkSsonIYoCCwAn.mp4"
            },
            "id": "id-11110103-6jt78-lkaujzqlik6xcf",
            "mms_ext": "{\"vid\":\"id-11110103-6jt78-lkaujzqlik6xcf\",\"biz\":103,\"duration\":11100,\"create_time\":1691747168,\"serviceID\":2,\"cover\":\"https://down-aka-sg.img.susercontent.com/id-11110103-23080-7yj8rbju5kuv8e\",\"cover_list\":null,\"formats\":[{\"format\":1600323,\"defn\":\"V540P\",\"profile\":\"MP4\",\"path\":\"api/v4/11110103/mms/id-11110103-6jt78-lkaujzqlik6xcf.default.mp4\",\"url\":\"https://play-ws.vod.shopee.com/api/v4/11110103/mms/id-11110103-6jt78-lkaujzqlik6xcf.default.mp4\",\"width\":540,\"height\":960,\"bitrate\":348512,\"size\":669884,\"fps\":25.08993,\"duration\":11119,\"update_time\":1691747186},{\"format\":1600005,\"defn\":\"V640P\",\"profile\":\"MP4\",\"path\":\"api/v4/11110103/mms/id-11110103-6jt78-lkaujzqlik6xcf.16000051691747170.mp4\",\"url\":\"https://play-ws.vod.shopee.com/api/v4/11110103/mms/id-11110103-6jt78-lkaujzqlik6xcf.16000051691747170.mp4\",\"width\":640,\"height\":1138,\"bitrate\":639661,\"size\":1031840,\"fps\":25.08993,\"duration\":11119,\"update_time\":1691747178}],\"default_format\":{\"format\":600001,\"defn\":\"ORI\",\"profile\":\"MP4\",\"path\":\"\",\"url\":\"https://play-ws.vod.shopee.com/api/v4/11110103/mms/id-11110103-6jt78-lkaujzqlik6xcf.ori.mp4\",\"width\":720,\"height\":1280,\"bitrate\":6101658,\"size\":8659022,\"fps\":21.15271,\"duration\":11100,\"update_time\":1691747170},\"extend_formats\":{\"H265\":[{\"format\":1600304,\"defn\":\"V480P\",\"profile\":\"MP4\",\"path\":\"api/v4/11110103/mms/id-11110103-6jt78-lkaujzqlik6xcf.16003041691780228.mp4\",\"url\":\"https://play-ws.vod.shopee.com/api/v4/11110103/mms/id-11110103-6jt78-lkaujzqlik6xcf.16003041691780228.mp4\",\"width\":480,\"height\":854,\"bitrate\":370213,\"size\":660082,\"fps\":25.08993,\"duration\":11119,\"update_time\":1691780242},{\"format\":1600307,\"defn\":\"V540P\",\"profile\":\"MP4\",\"path\":\"api/v4/11110103/mms/id-11110103-6jt78-lkaujzqlik6xcf.16003071691747179.mp4\",\"url\":\"https://play-ws.vod.shopee.com/api/v4/11110103/mms/id-11110103-6jt78-lkaujzqlik6xcf.16003071691747179.mp4\",\"width\":540,\"height\":960,\"bitrate\":438580,\"size\":798657,\"fps\":25.08993,\"duration\":11119,\"update_time\":1691747197},{\"format\":1600308,\"defn\":\"V640P\",\"profile\":\"MP4\",\"path\":\"api/v4/11110103/mms/id-11110103-6jt78-lkaujzqlik6xcf.16003081691747179.mp4\",\"url\":\"https://play-ws.vod.shopee.com/api/v4/11110103/mms/id-11110103-6jt78-lkaujzqlik6xcf.16003081691747179.mp4\",\"width\":640,\"height\":1138,\"bitrate\":582271,\"size\":998391,\"fps\":25.08993,\"duration\":11119,\"update_time\":1691747198}]},\"ab_test\":\"\"}",
            "upload_time": null,
            "url": "https://play-ws.vod.shopee.com/api/v4/11110103/mms/id-11110103-6jt78-lkaujzqlik6xcf.default.mp4"
           }
          ]
         },
         {
          "author_username": "dinirohma611",
          "comment": "alhamdulillah hp sudah sampai.. \naman terkendali no minus2.. packing aman.. hp bisa berfungsi dengan baik... awalnya sempet ragu mau beli hp takut gimana2 gitu.. \nehh alhamdulillah nya barang sampai dengan aman dan full utuh... \nkelengkapan nya pun juga oke, dari cas dan printilan nya.. \nTerima kasih..",
          "detailed_rating": {
           "delivery_service": 5,
           "driver_service": null,
           "product_quality": 5,
           "seller_service": 5
          },
          "images": [
           "id-11134103-7r98o-lkmied1nvqc1c3",
           "id-11134103-7r98o-lkmied1nx4wh73"
          ],
          "index": 23,
          "like_count": 27,
          "rating_star": 5,
          "videos": [
           {
            "cover": "https://down-aka-sg.img.susercontent.com/id-11110103-23080-olulrk2s2wuv03",
            "cover_image_id": "sg-11134206-7rbk0-lkpzl3evo0vl54",
            "duration": 6519,
            "highlight": {
             "cover": "https://play-ws.vod.shopee.com/c3/98934353/160/A3oyOX=2AESseGooEYgFACc.jpg",
             "cover_image_id": "",
             "duration": 3079,
             "highlight": null,
             "id": "sg-11110160-6ke14-lkpzm8x10bxs0d",
             "mms_ext": "{\"vid\":\"sg-11110160-6ke14-lkpzm8x10bxs0d\",\"biz\":103,\"duration\":3079,\"create_time\":1692663680,\"serviceID\":6,\"cover\":\"https://play-ws.vod.shopee.com/c3/98934353/160/A3oyOX=2AESseGooEYgFACc.jpg\",\"cover_list\":null,\"formats\":[],\"default_format\":{\"format\":600001,\"defn\":\"ORI\",\"profile\":\"MP4\",\"path\":\"\",\"url\":\"https://play-ws.vod.shopee.com/c3/98934353/160/A3oyOXf2ALSreGooEYgFACc.mp4\",\"width\":250,\"height\":250,\"bitrate\":294587,\"size\":115250,\"fps\":25,\"duration\":3079,\"update_time\":1692663680},\"extend_formats\":{\"H265\":[{\"format\":1600305,\"defn\":\"V270P\",\"profile\":\"MP4\",\"path\":\"api/v4/11110160/mms/sg-11110160-6ke14-lkpzm8x10bxs0d.16003051692663688.mp4\",\"url\":\"https://play-ws.vod.shopee.com/api/v4/11110160/mms/sg-11110160-6ke14-lkpzm8x10bxs0d.16003051692663688.mp4\",\"width\":250,\"height\":250,\"bitrate\":160452,\"size\":65323,\"fps\":25.32895,\"duration\":3039,\"update_time\":1692663682}]},\"ab_test\":\"\"}",
             "upload_time": null,
             "url": "https://play-ws.vod.shopee.com/c3/98934353/160/A3oyOXf2ALSreGooEYgFACc.mp4"
            },
            "id": "id-11110103-6ke14-lkmrig7hiq7zf2",
            "mms_ext": "{\"vid\":\"id-11110103-6ke14-lkmrig7hiq7zf2\",\"biz\":103,\"duration\":6519,\"create_time\":1692468466,\"serviceID\":2,\"cover\":\"https://down-aka-sg.img.susercontent.com/id-11110103-23080-olulrk2s2wuv03\",\"cover_list\":null,\"formats\":[{\"format\":1600323,\"defn\":\"V540P\",\"profile\":\"MP4\",\"path\":\"api/v4/11110103/mms/id-11110103-6ke14-lkmrig7hiq7zf2.default.mp4\",\"url\":\"https://play-ws.vod.shopee.com/api/v4/11110103/mms/id-11110103-6ke14-lkmrig7hiq7zf2.default.mp4\",\"width\":540,\"height\":960,\"bitrate\":490596,\"size\":506202,\"fps\":25.15432,\"duration\":6480,\"update_time\":1692468491},{\"format\":1600005,\"defn\":\"V640P\",\"profile\":\"MP4\",\"path\":\"api/v4/11110103/mms/id-11110103-6ke14-lkmrig7hiq7zf2.16000051692468469.mp4\",\"url\":\"https://play-ws.vod.shopee.com/api/v4/11110103/mms/id-11110103-6ke14-lkmrig7hiq7zf2.16000051692468469.mp4\",\"width\":640,\"height\":1138,\"bitrate\":834940,\"size\":760176,\"fps\":25.15432,\"duration\":6480,\"update_time\":1692468475}],\"default_format\":{\"format\":600001,\"defn\":\"ORI\",\"profile\":\"MP4\",\"path\":\"\",\"url\":\"https://play-ws.vod.shopee.com/api/v4/11110103/mms/id-11110103-6ke14-lkmrig7hiq7zf2.ori.mp4\",\"width\":720,\"height\":1280,\"bitrate\":6189054,\"size\":5154280,\"fps\":29.59484,\"duration\":6519,\"update_time\":1692468469},\"extend_formats\":{\"H265\":[{\"format\":1600307,\"defn\":\"V540P\",\"profile\":\"MP4\",\"path\":\"api/v4/11110103/mms/id-11110103-6ke14-lkmrig7hiq7zf2.16003071692558778.mp4\",\"url\":\"https://play-ws.vod.shopee.com/api/v4/11110103/mms/id-11110103-6ke14-lkmrig7hiq7zf2.16003071692558778.mp4\",\"width\":540,\"height\":960,\"bitrate\":586187,\"size\":586670,\"fps\":25.15432,\"duration\":6480,\"update_time\":1692558788},{\"format\":1600308,\"defn\":\"V640P\",\"profile\":\"MP4\",\"path\":\"api/v4/11110103/mms/id-11110103-6ke14-lkmrig7hiq7zf2.16003081692468487.mp4\",\"url\":\"https://play-ws.vod.shopee.com/api/v4/11110103/mms/id-11110103-6ke14-lkmrig7hiq7zf2.16003081692468487.mp4\",\"width\":640,\"height\":1138,\"bitrate\":753923,\"size\":722539,\"fps\":25.15432,\"duration\":6480,\"update_time\":1692468499}]},\"ab_test\":\"\"}",
            "upload_time": null,
            "url": "https://play-ws.vod.shopee.com/api/v4/11110103/mms/id-11110103-6ke14-lkmrig7hiq7zf2.default.mp4"
           }
          ]
         },
         {
          "author_username": "ellindalindoo",
          "comment": "ipengiriman cepat\nProduk original dan harga sangat bersahabat\nTerimakasih\nSemoga awet ga bikin panas",
          "detailed_rating": {
           "delivery_service": 5,
           "driver_service": null,
           "product_quality": 5,
           "seller_service": 5
          },
          "images": [
           "id-11134103-7qul2-lk4wh2hcwl3j30",
           "id-11134103-7qul1-lk4wh2hcxznz65",
           "id-11134103-7qul2-lk4wh95d5d8j53",
           "id-11134103-7qul2-lk4wh95d6rszb9",
           "id-11134103-7qul1-lk4wjoqqyriwff"
          ],
          "index": 24,
          "like_count": 3,
          "rating_star": 5,
          "videos": [
           {
            "cover": "https://down-aka-sg.img.susercontent.com/id-11110103-23080-i5x56t5r7euvc3",
            "cover_image_id": "sg-11134206-7qver-lk5zkypksiafff",
            "duration": 5943,
            "highlight": {
             "cover": "https://play-ws.vod.shopee.com/c3/98934353/160/A3oyOSf2AASg1UknIRgBCQAn.jpg",
             "cover_image_id": "",
             "duration": 3079,
             "highlight": null,
             "id": "sg-11110160-6jrpd-lk5znhq5hepj57",
             "mms_ext": "{\"vid\":\"sg-11110160-6jrpd-lk5znhq5hepj57\",\"biz\":103,\"duration\":3079,\"create_time\":1691453051,\"serviceID\":6,\"cover\":\"https://play-ws.vod.shopee.com/c3/98934353/160/A3oyOSf2AASg1UknIRgBCQAn.jpg\",\"cover_list\":null,\"formats\":[],\"default_format\":{\"format\":600001,\"defn\":\"ORI\",\"profile\":\"MP4\",\"path\":\"\",\"url\":\"https://play-ws.vod.shopee.com/c3/98934353/160/A3oyOSX2AJyf1UknIRgBCQAn.mp4\",\"width\":250,\"height\":250,\"bitrate\":217571,\"size\":85540,\"fps\":25,\"duration\":3079,\"update_time\":1691453052},\"extend_formats\":{\"H265\":[{\"format\":1600305,\"defn\":\"V270P\",\"profile\":\"MP4\",\"path\":\"api/v4/11110160/mms/sg-11110160-6jrpd-lk5znhq5hepj57.16003051691453058.mp4\",\"url\":\"https://play-ws.vod.shopee.com/api/v4/11110160/mms/sg-11110160-6jrpd-lk5znhq5hepj57.16003051691453058.mp4\",\"width\":250,\"height\":250,\"bitrate\":113481,\"size\":47474,\"fps\":25.32895,\"duration\":3039,\"update_time\":1691453054}]},\"ab_test\":\"\"}",
             "upload_time": null,
             "url": "https://play-ws.vod.shopee.com/c3/98934353/160/A3oyOSX2AJyf1UknIRgBCQAn.mp4"
            },
            "id": "id-11110103-6jt7k-lk4wgxc0ft94bc",
            "mms_ext": "{\"vid\":\"id-11110103-6jt7k-lk4wgxc0ft94bc\",\"biz\":103,\"duration\":5943,\"create_time\":1691387211,\"serviceID\":2,\"cover\":\"https://down-aka-sg.img.susercontent.com/id-11110103-23080-i5x56t5r7euvc3\",\"cover_list\":null,\"formats\":[{\"format\":1600046,\"defn\":\"V480P\",\"profile\":\"MP4\",\"path\":\"api/v4/11110103/mms/id-11110103-6jt7k-lk4wgxc0ft94bc.16000461691387220.mp4\",\"url\":\"https://play-ws.vod.shopee.com/api/v4/11110103/mms/id-11110103-6jt7k-lk4wgxc0ft94bc.16000461691387220.mp4\",\"width\":480,\"height\":854,\"bitrate\":497695,\"size\":446397,\"fps\":25.16892,\"duration\":5973,\"update_time\":1691387224},{\"format\":1600005,\"defn\":\"V640P\",\"profile\":\"MP4\",\"path\":\"api/v4/11110103/mms/id-11110103-6jt7k-lk4wgxc0ft94bc.16000051691387214.mp4\",\"url\":\"https://play-ws.vod.shopee.com/api/v4/11110103/mms/id-11110103-6jt7k-lk4wgxc0ft94bc.16000051691387214.mp4\",\"width\":640,\"height\":1138,\"bitrate\":654145,\"size\":562573,\"fps\":25.16892,\"duration\":5967,\"update_time\":1691387219}],\"default_format\":{\"format\":600001,\"defn\":\"ORI\",\"profile\":\"MP4\",\"path\":\"\",\"url\":\"https://play-ws.vod.shopee.com/api/v4/11110103/mms/id-11110103-6jt7k-lk4wgxc0ft94bc.ori.mp4\",\"width\":720,\"height\":1280,\"bitrate\":6295660,\"size\":4778303,\"fps\":29.82902,\"duration\":5943,\"update_time\":1691387214},\"extend_formats\":{\"H265\":[{\"format\":1600304,\"defn\":\"V480P\",\"profile\":\"MP4\",\"path\":\"api/v4/11110103/mms/id-11110103-6jt7k-lk4wgxc0ft94bc.16003041691387220.mp4\",\"url\":\"https://play-ws.vod.shopee.com/api/v4/11110103/mms/id-11110103-6jt7k-lk4wgxc0ft94bc.16003041691387220.mp4\",\"width\":480,\"height\":854,\"bitrate\":432735,\"size\":401365,\"fps\":25.16892,\"duration\":5967,\"update_time\":1691387228},{\"format\":1600308,\"defn\":\"V640P\",\"profile\":\"MP4\",\"path\":\"api/v4/11110103/mms/id-11110103-6jt7k-lk4wgxc0ft94bc.16003081691387220.mp4\",\"url\":\"https://play-ws.vod.shopee.com/api/v4/11110103/mms/id-11110103-6jt7k-lk4wgxc0ft94bc.16003081691387220.mp4\",\"width\":640,\"height\":1138,\"bitrate\":642933,\"size\":561178,\"fps\":25.16892,\"duration\":5967,\"update_time\":1691387230}]},\"ab_test\":\"\"}",
            "upload_time": null,
            "url": "https://play-ws.vod.shopee.com/api/v4/11110103/mms/id-11110103-6jt7k-lk4wgxc0ft94bc.16000461691387220.mp4"
           }
          ]
         },
         {
          "author_username": "midaham12",
          "comment": "Fitur Terbaik:bagus\n\nRespon admin toko nya sangat2 bagus ,cepet . Hanya kendala di pengiriman , pihak ekspedisi yg luuuama..but love you Xiaomi hhhh",
          "detailed_rating": {
           "delivery_service": 1,
           "driver_service": null,
           "product_quality": 5,
           "seller_service": 5
          },
          "images": [
           "id-11134103-7qul8-lk4yyu99mrkr75",
           "id-11134103-7qul9-lk4yyub7iijr96",
           "id-11134103-7qul7-lk4yyub7iiwz56",
           "id-11134103-7qul7-lk4yyu99ld5b9e",
           "id-11134103-7qul4-lk4yyub7iip6c7"
          ],
          "index": 25,
          "like_count": 3,
          "rating_star": 5,
          "videos": [
           {
            "cover": "https://down-aka-sg.img.susercontent.com/id-11110103-23080-792rv3ea0euveb",
            "cover_image_id": "sg-11134206-7qveu-lk60fyndmsjp83",
            "duration": 43840,
            "highlight": {
             "cover": "https://play-ws.vod.shopee.com/c3/98934353/160/A3oyOWvIAIgRL0onEW8IACc.jpg",
             "cover_image_id": "",
             "duration": 2960,
             "highlight": null,
             "id": "sg-11110160-6jrq9-lk60iv6wq4l3a4",
             "mms_ext": "{\"vid\":\"sg-11110160-6jrq9-lk60iv6wq4l3a4\",\"biz\":103,\"duration\":2960,\"create_time\":1691454516,\"serviceID\":6,\"cover\":\"https://play-ws.vod.shopee.com/c3/98934353/160/A3oyOWvIAIgRL0onEW8IACc.jpg\",\"cover_list\":null,\"formats\":[],\"default_format\":{\"format\":600001,\"defn\":\"ORI\",\"profile\":\"MP4\",\"path\":\"\",\"url\":\"https://play-ws.vod.shopee.com/c3/98934353/160/A3oyOWfIACwRL0onEW8IACc.mp4\",\"width\":250,\"height\":250,\"bitrate\":186183,\"size\":70818,\"fps\":25,\"duration\":2960,\"update_time\":1691454517},\"extend_formats\":{\"H265\":[{\"format\":1600305,\"defn\":\"V270P\",\"profile\":\"MP4\",\"path\":\"api/v4/11110160/mms/sg-11110160-6jrq9-lk60iv6wq4l3a4.16003051691454523.mp4\",\"url\":\"https://play-ws.vod.shopee.com/api/v4/11110160/mms/sg-11110160-6jrq9-lk60iv6wq4l3a4.16003051691454523.mp4\",\"width\":250,\"height\":250,\"bitrate\":90975,\"size\":37518,\"fps\":25.34247,\"duration\":2920,\"update_time\":1691454519}]},\"ab_test\":\"\"}",
             "upload_time": null,
             "url": "https://play-ws.vod.shopee.com/c3/98934353/160/A3oyOWfIACwRL0onEW8IACc.mp4"
            },
            "id": "id-11110103-6jt75-lk4z00by0t9mb4",
            "mms_ext": "{\"vid\":\"id-11110103-6jt75-lk4z00by0t9mb4\",\"biz\":103,\"duration\":43840,\"create_time\":1691391429,\"serviceID\":2,\"cover\":\"https://down-aka-sg.img.susercontent.com/id-11110103-23080-792rv3ea0euveb\",\"cover_list\":null,\"formats\":[{\"format\":1600323,\"defn\":\"V540P\",\"profile\":\"MP4\",\"path\":\"api/v4/11110103/mms/id-11110103-6jt75-lk4z00by0t9mb4.default.mp4\",\"url\":\"https://play-aka.vod.shopee.com/api/v4/11110103/mms/id-11110103-6jt75-lk4z00by0t9mb4.default.mp4\",\"width\":540,\"height\":960,\"bitrate\":319023,\"size\":2478364,\"fps\":25.02289,\"duration\":43840,\"update_time\":1691391471},{\"format\":1600005,\"defn\":\"V640P\",\"profile\":\"MP4\",\"path\":\"api/v4/11110103/mms/id-11110103-6jt75-lk4z00by0t9mb4.16000051691391431.mp4\",\"url\":\"https://play-aka.vod.shopee.com/api/v4/11110103/mms/id-11110103-6jt75-lk4z00by0t9mb4.16000051691391431.mp4\",\"width\":640,\"height\":1138,\"bitrate\":557805,\"size\":3610016,\"fps\":25.02289,\"duration\":43840,\"update_time\":1691391453}],\"default_format\":{\"format\":600001,\"defn\":\"ORI\",\"profile\":\"MP4\",\"path\":\"\",\"url\":\"https://play-aka.vod.shopee.com/api/v4/11110103/mms/id-11110103-6jt75-lk4z00by0t9mb4.ori.mp4\",\"width\":720,\"height\":1280,\"bitrate\":1506601,\"size\":8974209,\"fps\":16.02286,\"duration\":43840,\"update_time\":1691391431},\"extend_formats\":{\"H265\":[{\"format\":1600304,\"defn\":\"V480P\",\"profile\":\"MP4\",\"path\":\"api/v4/11110103/mms/id-11110103-6jt75-lk4z00by0t9mb4.16003041691391454.mp4\",\"url\":\"https://play-aka.vod.shopee.com/api/v4/11110103/mms/id-11110103-6jt75-lk4z00by0t9mb4.16003041691391454.mp4\",\"width\":480,\"height\":854,\"bitrate\":188232,\"size\":1595711,\"fps\":25.02289,\"duration\":43840,\"update_time\":1691391487},{\"format\":1600308,\"defn\":\"V640P\",\"profile\":\"MP4\",\"path\":\"api/v4/11110103/mms/id-11110103-6jt75-lk4z00by0t9mb4.16003081691391454.mp4\",\"url\":\"https://play-aka.vod.shopee.com/api/v4/11110103/mms/id-11110103-6jt75-lk4z00by0t9mb4.16003081691391454.mp4\",\"width\":640,\"height\":1138,\"bitrate\":276682,\"size\":2254099,\"fps\":25.02289,\"duration\":43840,\"update_time\":1691391506}]},\"ab_test\":\"\"}",
            "upload_time": null,
            "url": "https://play-aka.vod.shopee.com/api/v4/11110103/mms/id-11110103-6jt75-lk4z00by0t9mb4.default.mp4"
           }
          ]
         },
         {
          "author_username": "gunadi9285",
          "comment": "Murah tapi kualitas tidak Murahan, 2,2 dapat Ram 8/256 model terbaru pula.",
          "detailed_rating": {
           "delivery_service": 4,
           "driver_service": null,
           "product_quality": 5,
           "seller_service": 5
          },
          "images": [
           "id-11134103-7qul0-lk41i6cda7mj36",
           "id-11134103-7qul4-lk41i6gj44lf4b",
           "id-11134103-7qul3-lk41i6gj5iy2a8",
           "id-11134103-7qul9-lk41i6c3amdr2f",
           "id-11134103-7qul0-lk41i6btb0t4be"
          ],
          "index": 26,
          "like_count": 21,
          "rating_star": 5,
          "videos": [
           {
            "cover": "https://down-ws-sg.img.susercontent.com/id-11110103-23080-ur7abxptbeuvb6",
            "cover_image_id": "sg-11134206-7qvdr-lk5vqas9r2tu2a",
            "duration": 8151,
            "highlight": {
             "cover": "https://play-ws.vod.shopee.com/c3/98934353/160/A3oyOSA4AIzNSEgnIRwBBwAn.jpg",
             "cover_image_id": "",
             "duration": 3079,
             "highlight": null,
             "id": "sg-11110160-6jrp5-lk5vsalepgxq0a",
             "mms_ext": "{\"vid\":\"sg-11110160-6jrp5-lk5vsalepgxq0a\",\"biz\":103,\"duration\":3079,\"create_time\":1691446549,\"serviceID\":6,\"cover\":\"https://play-ws.vod.shopee.com/c3/98934353/160/A3oyOSA4AIzNSEgnIRwBBwAn.jpg\",\"cover_list\":null,\"formats\":[],\"default_format\":{\"format\":600001,\"defn\":\"ORI\",\"profile\":\"MP4\",\"path\":\"\",\"url\":\"https://play-ws.vod.shopee.com/c3/98934353/160/A3oyORp=AMjKSEgnIR4BBQAn.mp4\",\"width\":250,\"height\":250,\"bitrate\":206275,\"size\":81375,\"fps\":25,\"duration\":3079,\"update_time\":1691446550},\"extend_formats\":{\"H265\":[{\"format\":1600305,\"defn\":\"V270P\",\"profile\":\"MP4\",\"path\":\"api/v4/11110160/mms/sg-11110160-6jrp5-lk5vsalepgxq0a.16003051691446556.mp4\",\"url\":\"https://play-ws.vod.shopee.com/api/v4/11110160/mms/sg-11110160-6jrp5-lk5vsalepgxq0a.16003051691446556.mp4\",\"width\":250,\"height\":250,\"bitrate\":80886,\"size\":35088,\"fps\":25.32895,\"duration\":3039,\"update_time\":1691446552}]},\"ab_test\":\"\"}",
             "upload_time": null,
             "url": "https://play-ws.vod.shopee.com/c3/98934353/160/A3oyORp=AMjKSEgnIR4BBQAn.mp4"
            },
            "id": "id-11110103-6jt7h-lk41j9otpee3ae",
            "mms_ext": "{\"vid\":\"id-11110103-6jt7h-lk41j9otpee3ae\",\"biz\":103,\"duration\":8151,\"create_time\":1691335160,\"serviceID\":6,\"cover\":\"https://down-ws-sg.img.susercontent.com/id-11110103-23080-ur7abxptbeuvb6\",\"cover_list\":null,\"formats\":[{\"format\":1600408,\"defn\":\"V360P\",\"profile\":\"MP4\",\"path\":\"api/v4/11110103/mms/id-11110103-6jt7h-lk41j9otpee3ae.16004081691804050.mp4\",\"url\":\"https://play-ws.vod.shopee.com/api/v4/11110103/mms/id-11110103-6jt7h-lk41j9otpee3ae.16004081691804050.mp4\",\"width\":360,\"height\":800,\"bitrate\":200600,\"size\":309530,\"fps\":25.12376,\"duration\":8151,\"update_time\":1691804054},{\"format\":1600322,\"defn\":\"V360P\",\"profile\":\"MP4\",\"path\":\"api/v4/11110103/mms/id-11110103-6jt7h-lk41j9otpee3ae.16003221691694359.mp4\",\"url\":\"https://play-ws.vod.shopee.com/api/v4/11110103/mms/id-11110103-6jt7h-lk41j9otpee3ae.16003221691694359.mp4\",\"width\":360,\"height\":800,\"bitrate\":189077,\"size\":297120,\"fps\":25.12376,\"duration\":8170,\"update_time\":1691694364},{\"format\":1600046,\"defn\":\"V480P\",\"profile\":\"MP4\",\"path\":\"api/v4/11110103/mms/id-11110103-6jt7h-lk41j9otpee3ae.16000461691335167.mp4\",\"url\":\"https://play-ws.vod.shopee.com/api/v4/11110103/mms/id-11110103-6jt7h-lk41j9otpee3ae.16000461691335167.mp4\",\"width\":480,\"height\":1066,\"bitrate\":590539,\"size\":702598,\"fps\":25.12376,\"duration\":8170,\"update_time\":1691335172},{\"format\":1600409,\"defn\":\"V540P\",\"profile\":\"MP4\",\"path\":\"api/v4/11110103/mms/id-11110103-6jt7h-lk41j9otpee3ae.16004091691804055.mp4\",\"url\":\"https://play-ws.vod.shopee.com/api/v4/11110103/mms/id-11110103-6jt7h-lk41j9otpee3ae.16004091691804055.mp4\",\"width\":540,\"height\":1200,\"bitrate\":378471,\"size\":521612,\"fps\":25.12376,\"duration\":8151,\"update_time\":1691804060},{\"format\":1600323,\"defn\":\"V540P\",\"profile\":\"MP4\",\"path\":\"api/v4/11110103/mms/id-11110103-6jt7h-lk41j9otpee3ae.default.mp4\",\"url\":\"https://play-ws.vod.shopee.com/api/v4/11110103/mms/id-11110103-6jt7h-lk41j9otpee3ae.default.mp4\",\"width\":540,\"height\":1200,\"bitrate\":432720,\"size\":575731,\"fps\":25.12376,\"duration\":8170,\"update_time\":1691694359},{\"format\":1600005,\"defn\":\"V640P\",\"profile\":\"MP4\",\"path\":\"api/v4/11110103/mms/id-11110103-6jt7h-lk41j9otpee3ae.16000051691335161.mp4\",\"url\":\"https://play-ws.vod.shopee.com/api/v4/11110103/mms/id-11110103-6jt7h-lk41j9otpee3ae.16000051691335161.mp4\",\"width\":576,\"height\":1280,\"bitrate\":804245,\"size\":919113,\"fps\":25.12376,\"duration\":8151,\"update_time\":1691335166}],\"default_format\":{\"format\":600001,\"defn\":\"ORI\",\"profile\":\"MP4\",\"path\":\"\",\"url\":\"https://play-ws.vod.shopee.com/c3/98934353/103/A3oyOWcnAFCouS0nEfMKACY.mp4\",\"width\":576,\"height\":1280,\"bitrate\":2009558,\"size\":2168240,\"fps\":30.12421,\"duration\":8151,\"update_time\":1691335161},\"extend_formats\":{\"H265\":[{\"format\":1600412,\"defn\":\"V360P\",\"profile\":\"MP4\",\"path\":\"api/v4/11110103/mms/id-11110103-6jt7h-lk41j9otpee3ae.16004121691804055.mp4\",\"url\":\"https://play-ws.vod.shopee.com/api/v4/11110103/mms/id-11110103-6jt7h-lk41j9otpee3ae.16004121691804055.mp4\",\"width\":360,\"height\":800,\"bitrate\":191013,\"size\":302536,\"fps\":25.12376,\"duration\":8151,\"update_time\":1691804061},{\"format\":1600315,\"defn\":\"V360P\",\"profile\":\"MP4\",\"path\":\"api/v4/11110103/mms/id-11110103-6jt7h-lk41j9otpee3ae.16003151691694360.mp4\",\"url\":\"https://play-ws.vod.shopee.com/api/v4/11110103/mms/id-11110103-6jt7h-lk41j9otpee3ae.16003151691694360.mp4\",\"width\":360,\"height\":800,\"bitrate\":212766,\"size\":324423,\"fps\":25.12376,\"duration\":8151,\"update_time\":1691694365},{\"format\":1600304,\"defn\":\"V480P\",\"profile\":\"MP4\",\"path\":\"api/v4/11110103/mms/id-11110103-6jt7h-lk41j9otpee3ae.16003041691335167.mp4\",\"url\":\"https://play-ws.vod.shopee.com/api/v4/11110103/mms/id-11110103-6jt7h-lk41j9otpee3ae.16003041691335167.mp4\",\"width\":480,\"height\":1066,\"bitrate\":419896,\"size\":533628,\"fps\":25.12376,\"duration\":8151,\"update_time\":1691335179},{\"format\":1600413,\"defn\":\"V540P\",\"profile\":\"MP4\",\"path\":\"api/v4/11110103/mms/id-11110103-6jt7h-lk41j9otpee3ae.16004131691804055.mp4\",\"url\":\"https://play-ws.vod.shopee.com/api/v4/11110103/mms/id-11110103-6jt7h-lk41j9otpee3ae.16004131691804055.mp4\",\"width\":540,\"height\":1200,\"bitrate\":256708,\"size\":401322,\"fps\":25.12376,\"duration\":8151,\"update_time\":1691804066},{\"format\":1600316,\"defn\":\"V540P\",\"profile\":\"MP4\",\"path\":\"api/v4/11110103/mms/id-11110103-6jt7h-lk41j9otpee3ae.16003161691694360.mp4\",\"url\":\"https://play-ws.vod.shopee.com/api/v4/11110103/mms/id-11110103-6jt7h-lk41j9otpee3ae.16003161691694360.mp4\",\"width\":540,\"height\":1200,\"bitrate\":393138,\"size\":539117,\"fps\":25.12376,\"duration\":8151,\"update_time\":1691694374},{\"format\":1600308,\"defn\":\"V640P\",\"profile\":\"MP4\",\"path\":\"api/v4/11110103/mms/id-11110103-6jt7h-lk41j9otpee3ae.16003081691335167.mp4\",\"url\":\"https://play-ws.vod.shopee.com/api/v4/11110103/mms/id-11110103-6jt7h-lk41j9otpee3ae.16003081691335167.mp4\",\"width\":576,\"height\":1280,\"bitrate\":678370,\"size\":827186,\"fps\":25.12376,\"duration\":8151,\"update_time\":1691335182}]},\"ab_test\":\"\"}",
            "upload_time": null,
            "url": "https://play-ws.vod.shopee.com/api/v4/11110103/mms/id-11110103-6jt7h-lk41j9otpee3ae.16004081691804050.mp4"
           }
          ]
         },
         {
          "author_username": "e*****0",
          "comment": "Paket sudah sampai barang ori masi segel pekingan rapi makasi sudah amanah",
          "detailed_rating": {
           "delivery_service": 5,
           "driver_service": null,
           "product_quality": 5,
           "seller_service": 5
          },
          "images": [
           "id-11134103-7qula-lk7rxejktogy53",
           "id-11134103-7qul2-lk7rxejkv31ed9",
           "id-11134103-7qul6-lk7rxejkwhluf8",
           "id-11134103-7qul2-lk7rxejkxw6a77",
           "id-11134103-7qul2-lk7rxejkzaqq95"
          ],
          "index": 27,
          "like_count": 7,
          "rating_star": 5,
          "videos": [
           {
            "cover": "https://down-aka-sg.img.susercontent.com/id-11110103-23080-uhqbujn92huv4b",
            "cover_image_id": "sg-11134206-7qvf1-lk7s2mz12x87af",
            "duration": 10496,
            "highlight": {
             "cover": "https://play-ws.vod.shopee.com/c3/98934353/160/A3oyOcNIANwHrmMnESkKACc.jpg",
             "cover_image_id": "",
             "duration": 3039,
             "highlight": null,
             "id": "sg-11110160-6jrow-lk7s4btc1odz5e",
             "mms_ext": "{\"vid\":\"sg-11110160-6jrow-lk7s4btc1odz5e\",\"biz\":103,\"duration\":3039,\"create_time\":1691561454,\"serviceID\":6,\"cover\":\"https://play-ws.vod.shopee.com/c3/98934353/160/A3oyOcNIANwHrmMnESkKACc.jpg\",\"cover_list\":null,\"formats\":[],\"default_format\":{\"format\":600001,\"defn\":\"ORI\",\"profile\":\"MP4\",\"path\":\"\",\"url\":\"https://play-ws.vod.shopee.com/c3/98934353/160/A3oyOcvzAGQHrmMnESoJACc.mp4\",\"width\":250,\"height\":250,\"bitrate\":197889,\"size\":77085,\"fps\":25,\"duration\":3039,\"update_time\":1691561455},\"extend_formats\":{\"H265\":[{\"format\":1600305,\"defn\":\"V270P\",\"profile\":\"MP4\",\"path\":\"api/v4/11110160/mms/sg-11110160-6jrow-lk7s4btc1odz5e.16003051691561461.mp4\",\"url\":\"https://play-ws.vod.shopee.com/api/v4/11110160/mms/sg-11110160-6jrow-lk7s4btc1odz5e.16003051691561461.mp4\",\"width\":250,\"height\":250,\"bitrate\":90029,\"size\":38091,\"fps\":25.33333,\"duration\":3000,\"update_time\":1691561457}]},\"ab_test\":\"\"}",
             "upload_time": null,
             "url": "https://play-ws.vod.shopee.com/c3/98934353/160/A3oyOcvzAGQHrmMnESoJACc.mp4"
            },
            "id": "id-11110103-6jt7e-lk7ry8qen8rf23",
            "mms_ext": "{\"vid\":\"id-11110103-6jt7e-lk7ry8qen8rf23\",\"biz\":103,\"duration\":10496,\"create_time\":1691561180,\"serviceID\":6,\"cover\":\"https://down-aka-sg.img.susercontent.com/id-11110103-23080-uhqbujn92huv4b\",\"cover_list\":null,\"formats\":[{\"format\":1600323,\"defn\":\"V540P\",\"profile\":\"MP4\",\"path\":\"api/v4/11110103/mms/id-11110103-6jt7e-lk7ry8qen8rf23.default.mp4\",\"url\":\"https://play-ws.vod.shopee.com/api/v4/11110103/mms/id-11110103-6jt7e-lk7ry8qen8rf23.default.mp4\",\"width\":540,\"height\":960,\"bitrate\":417450,\"size\":718164,\"fps\":25.09653,\"duration\":10496,\"update_time\":1691561194},{\"format\":1600005,\"defn\":\"V640P\",\"profile\":\"MP4\",\"path\":\"api/v4/11110103/mms/id-11110103-6jt7e-lk7ry8qen8rf23.16000051691561181.mp4\",\"url\":\"https://play-ws.vod.shopee.com/api/v4/11110103/mms/id-11110103-6jt7e-lk7ry8qen8rf23.16000051691561181.mp4\",\"width\":540,\"height\":960,\"bitrate\":663277,\"size\":995233,\"fps\":25.09653,\"duration\":10496,\"update_time\":1691561187}],\"default_format\":{\"format\":600001,\"defn\":\"ORI\",\"profile\":\"MP4\",\"path\":\"\",\"url\":\"https://play-ws.vod.shopee.com/c3/98934353/103/A3oyOWLTADTvnGMnETAKACY.mp4\",\"width\":540,\"height\":960,\"bitrate\":1521557,\"size\":2149440,\"fps\":22.09668,\"duration\":10496,\"update_time\":1691561181},\"extend_formats\":{\"H265\":[{\"format\":1600304,\"defn\":\"V480P\",\"profile\":\"MP4\",\"path\":\"api/v4/11110103/mms/id-11110103-6jt7e-lk7ry8qen8rf23.16003041691607053.mp4\",\"url\":\"https://play-ws.vod.shopee.com/api/v4/11110103/mms/id-11110103-6jt7e-lk7ry8qen8rf23.16003041691607053.mp4\",\"width\":480,\"height\":854,\"bitrate\":284771,\"size\":507855,\"fps\":25.09653,\"duration\":10496,\"update_time\":1691607063},{\"format\":1600307,\"defn\":\"V540P\",\"profile\":\"MP4\",\"path\":\"api/v4/11110103/mms/id-11110103-6jt7e-lk7ry8qen8rf23.16003071691561188.mp4\",\"url\":\"https://play-ws.vod.shopee.com/api/v4/11110103/mms/id-11110103-6jt7e-lk7ry8qen8rf23.16003071691561188.mp4\",\"width\":540,\"height\":960,\"bitrate\":374652,\"size\":666329,\"fps\":25.09653,\"duration\":10496,\"update_time\":1691561202},{\"format\":1600308,\"defn\":\"V640P\",\"profile\":\"MP4\",\"path\":\"api/v4/11110103/mms/id-11110103-6jt7e-lk7ry8qen8rf23.16003081691607041.mp4\",\"url\":\"https://play-ws.vod.shopee.com/api/v4/11110103/mms/id-11110103-6jt7e-lk7ry8qen8rf23.16003081691607041.mp4\",\"width\":540,\"height\":960,\"bitrate\":374817,\"size\":666543,\"fps\":25.09653,\"duration\":10496,\"update_time\":1691607052}]},\"ab_test\":\"\"}",
            "upload_time": null,
            "url": "https://play-ws.vod.shopee.com/api/v4/11110103/mms/id-11110103-6jt7e-lk7ry8qen8rf23.default.mp4"
           }
          ]
         },
         {
          "author_username": "edwinsalsabila",
          "comment": "Sepadan dengan Harga:Harusnya dapat G99\nFitur Terbaik:Ultra Wide\n\nMantap gan God bless you sampai ketemu di harbolnas lagi ciyeee di ruang server Shopee pay per click advertising lumayan, ternyata gede juga ini iPhone 😂, semoga awet",
          "detailed_rating": {
           "delivery_service": 5,
           "driver_service": null,
           "product_quality": 5,
           "seller_service": 5
          },
          "images": [
           "id-11134103-7r98o-lklgictdthuo65",
           "id-11134103-7r98o-lklgict3twr548",
           "id-11134103-7r98o-lklgictnt3jz96",
           "id-11134103-7r98o-lklgictdti5n24"
          ],
          "index": 28,
          "like_count": 2,
          "rating_star": 5,
          "videos": [
           {
            "cover": "https://down-aka-sg.img.susercontent.com/id-11110103-23080-j6zi2m7sqvuvb5",
            "cover_image_id": "sg-11134206-7rbk0-lkpk0e2mgvx12b",
            "duration": 7876,
            "highlight": {
             "cover": "https://play-ws.vod.shopee.com/c3/98934353/160/A3oyOTEDAPy1PGQoEc0CACc.jpg",
             "cover_image_id": "",
             "duration": 3000,
             "highlight": null,
             "id": "sg-11110160-6ke14-lkpk2fjoy4q66d",
             "mms_ext": "{\"vid\":\"sg-11110160-6ke14-lkpk2fjoy4q66d\",\"biz\":103,\"duration\":3000,\"create_time\":1692637532,\"serviceID\":6,\"cover\":\"https://play-ws.vod.shopee.com/c3/98934353/160/A3oyOTEDAPy1PGQoEc0CACc.jpg\",\"cover_list\":null,\"formats\":[],\"default_format\":{\"format\":600001,\"defn\":\"ORI\",\"profile\":\"MP4\",\"path\":\"\",\"url\":\"https://play-ws.vod.shopee.com/c3/98934353/160/A3oyORvWAHC1PGQoEc4FACc.mp4\",\"width\":250,\"height\":250,\"bitrate\":250648,\"size\":95693,\"fps\":25,\"duration\":3000,\"update_time\":1692637533},\"extend_formats\":{\"H265\":[{\"format\":1600305,\"defn\":\"V270P\",\"profile\":\"MP4\",\"path\":\"api/v4/11110160/mms/sg-11110160-6ke14-lkpk2fjoy4q66d.16003051692637540.mp4\",\"url\":\"https://play-ws.vod.shopee.com/api/v4/11110160/mms/sg-11110160-6ke14-lkpk2fjoy4q66d.16003051692637540.mp4\",\"width\":250,\"height\":250,\"bitrate\":121767,\"size\":49379,\"fps\":25.33784,\"duration\":2960,\"update_time\":1692637535}]},\"ab_test\":\"\"}",
             "upload_time": null,
             "url": "https://play-ws.vod.shopee.com/c3/98934353/160/A3oyORvWAHC1PGQoEc4FACc.mp4"
            },
            "id": "id-11110103-6ke14-lklgitl59z4l9b",
            "mms_ext": "{\"vid\":\"id-11110103-6ke14-lklgitl59z4l9b\",\"biz\":103,\"duration\":7876,\"create_time\":1692389443,\"serviceID\":6,\"cover\":\"https://down-aka-sg.img.susercontent.com/id-11110103-23080-j6zi2m7sqvuvb5\",\"cover_list\":null,\"formats\":[{\"format\":1600323,\"defn\":\"V540P\",\"profile\":\"MP4\",\"path\":\"api/v4/11110103/mms/id-11110103-6ke14-lklgitl59z4l9b.default.mp4\",\"url\":\"https://play-ws.vod.shopee.com/api/v4/11110103/mms/id-11110103-6ke14-lklgitl59z4l9b.default.mp4\",\"width\":540,\"height\":960,\"bitrate\":432913,\"size\":497742,\"fps\":25.1269,\"duration\":7880,\"update_time\":1692389466},{\"format\":1600005,\"defn\":\"V640P\",\"profile\":\"MP4\",\"path\":\"api/v4/11110103/mms/id-11110103-6ke14-lklgitl59z4l9b.16000051692389444.mp4\",\"url\":\"https://play-ws.vod.shopee.com/api/v4/11110103/mms/id-11110103-6ke14-lklgitl59z4l9b.16000051692389444.mp4\",\"width\":640,\"height\":1138,\"bitrate\":747129,\"size\":807679,\"fps\":25.1269,\"duration\":7880,\"update_time\":1692389450}],\"default_format\":{\"format\":600001,\"defn\":\"ORI\",\"profile\":\"MP4\",\"path\":\"\",\"url\":\"https://play-ws.vod.shopee.com/c3/98934353/103/A3oyOaCUAMwfFikoEQoJACY.mp4\",\"width\":720,\"height\":1280,\"bitrate\":5905951,\"size\":5885414,\"fps\":21.0744,\"duration\":7876,\"update_time\":1692389444},\"extend_formats\":{\"H265\":[{\"format\":1600307,\"defn\":\"V540P\",\"profile\":\"MP4\",\"path\":\"api/v4/11110103/mms/id-11110103-6ke14-lklgitl59z4l9b.16003071692474850.mp4\",\"url\":\"https://play-ws.vod.shopee.com/api/v4/11110103/mms/id-11110103-6ke14-lklgitl59z4l9b.16003071692474850.mp4\",\"width\":540,\"height\":960,\"bitrate\":446298,\"size\":514040,\"fps\":25.1269,\"duration\":7880,\"update_time\":1692474860},{\"format\":1600308,\"defn\":\"V640P\",\"profile\":\"MP4\",\"path\":\"api/v4/11110103/mms/id-11110103-6ke14-lklgitl59z4l9b.16003081692389462.mp4\",\"url\":\"https://play-ws.vod.shopee.com/api/v4/11110103/mms/id-11110103-6ke14-lklgitl59z4l9b.16003081692389462.mp4\",\"width\":640,\"height\":1138,\"bitrate\":571142,\"size\":637014,\"fps\":25.1269,\"duration\":7880,\"update_time\":1692389475}]},\"ab_test\":\"\"}",
            "upload_time": null,
            "url": "https://play-ws.vod.shopee.com/api/v4/11110103/mms/id-11110103-6ke14-lklgitl59z4l9b.default.mp4"
           }
          ]
         },
         {
          "author_username": "j*****4",
          "comment": "Sepadan dengan Harga:iya, mantap\nFitur Terbaik:sangat baik",
          "detailed_rating": {
           "delivery_service": 5,
           "driver_service": null,
           "product_quality": 5,
           "seller_service": 5
          },
          "images": [
           "id-11134103-7qukw-lk8a70z65peg77",
           "id-11134103-7qukz-lk8a70z673yw1a",
           "id-11134103-7qukw-lk8a70z68ijc4d",
           "id-11134103-7qul8-lk8a70z69x3s21"
          ],
          "index": 29,
          "like_count": 6,
          "rating_star": 5,
          "videos": [
           {
            "cover": "https://down-aka-sg.img.susercontent.com/id-11110103-23080-3h1t1dgqkiuvc4",
            "cover_image_id": "sg-11134206-7qveb-lket1xds6ohl52",
            "duration": 7737,
            "highlight": {
             "cover": "https://play-aka.vod.shopee.com/c3/98934353/160/A3oyOQ9UAHQbGcknIf8BCgAn.jpg",
             "cover_image_id": "",
             "duration": 2799,
             "highlight": null,
             "id": "sg-11110160-6jrpr-lket3e5axk6e8a",
             "mms_ext": "{\"vid\":\"sg-11110160-6jrpr-lket3e5axk6e8a\",\"biz\":103,\"duration\":2799,\"create_time\":1691986832,\"serviceID\":6,\"cover\":\"https://play-aka.vod.shopee.com/c3/98934353/160/A3oyOQ9UAHQbGcknIf8BCgAn.jpg\",\"cover_list\":null,\"formats\":[],\"default_format\":{\"format\":600001,\"defn\":\"ORI\",\"profile\":\"MP4\",\"path\":\"\",\"url\":\"https://play-aka.vod.shopee.com/c3/98934353/160/A3oyOUR=AGQaGcknIdwBCgAn.mp4\",\"width\":250,\"height\":250,\"bitrate\":159905,\"size\":57672,\"fps\":25,\"duration\":2799,\"update_time\":1691986833},\"extend_formats\":{\"H265\":[{\"format\":1600305,\"defn\":\"V270P\",\"profile\":\"MP4\",\"path\":\"api/v4/11110160/mms/sg-11110160-6jrpr-lket3e5axk6e8a.16003051691986840.mp4\",\"url\":\"https://play-aka.vod.shopee.com/api/v4/11110160/mms/sg-11110160-6jrpr-lket3e5axk6e8a.16003051691986840.mp4\",\"width\":250,\"height\":250,\"bitrate\":70295,\"size\":28504,\"fps\":25.36232,\"duration\":2759,\"update_time\":1691986835}]},\"ab_test\":\"\"}",
             "upload_time": null,
             "url": "https://play-aka.vod.shopee.com/c3/98934353/160/A3oyOUR=AGQaGcknIdwBCgAn.mp4"
            },
            "id": "id-11110103-6jt7h-lk8a9nyd8xqwe0",
            "mms_ext": "{\"vid\":\"id-11110103-6jt7h-lk8a9nyd8xqwe0\",\"biz\":103,\"duration\":7737,\"create_time\":1691592279,\"serviceID\":6,\"cover\":\"https://down-aka-sg.img.susercontent.com/id-11110103-23080-3h1t1dgqkiuvc4\",\"cover_list\":null,\"formats\":[{\"format\":1600323,\"defn\":\"V540P\",\"profile\":\"MP4\",\"path\":\"api/v4/11110103/mms/id-11110103-6jt7h-lk8a9nyd8xqwe0.default.mp4\",\"url\":\"https://play-ws.vod.shopee.com/api/v4/11110103/mms/id-11110103-6jt7h-lk8a9nyd8xqwe0.default.mp4\",\"width\":960,\"height\":540,\"bitrate\":383986,\"size\":471056,\"fps\":25.12953,\"duration\":7723,\"update_time\":1691592291},{\"format\":1600005,\"defn\":\"V640P\",\"profile\":\"MP4\",\"path\":\"api/v4/11110103/mms/id-11110103-6jt7h-lk8a9nyd8xqwe0.16000051691592280.mp4\",\"url\":\"https://play-ws.vod.shopee.com/api/v4/11110103/mms/id-11110103-6jt7h-lk8a9nyd8xqwe0.16000051691592280.mp4\",\"width\":1138,\"height\":640,\"bitrate\":607899,\"size\":687186,\"fps\":25.12953,\"duration\":7723,\"update_time\":1691592285}],\"default_format\":{\"format\":600001,\"defn\":\"ORI\",\"profile\":\"MP4\",\"path\":\"\",\"url\":\"https://play-ws.vod.shopee.com/c3/98934353/103/A3oyOX0zAKAMB2snEWoAACY.mp4\",\"width\":1280,\"height\":720,\"bitrate\":5983665,\"size\":5883582,\"fps\":29.98475,\"duration\":7737,\"update_time\":1691592280},\"extend_formats\":{\"H265\":[{\"format\":1600304,\"defn\":\"V480P\",\"profile\":\"MP4\",\"path\":\"api/v4/11110103/mms/id-11110103-6jt7h-lk8a9nyd8xqwe0.16003041691607172.mp4\",\"url\":\"https://play-ws.vod.shopee.com/api/v4/11110103/mms/id-11110103-6jt7h-lk8a9nyd8xqwe0.16003041691607172.mp4\",\"width\":854,\"height\":480,\"bitrate\":391440,\"size\":480980,\"fps\":25.12953,\"duration\":7723,\"update_time\":1691607180},{\"format\":1600307,\"defn\":\"V540P\",\"profile\":\"MP4\",\"path\":\"api/v4/11110103/mms/id-11110103-6jt7h-lk8a9nyd8xqwe0.16003071691592286.mp4\",\"url\":\"https://play-ws.vod.shopee.com/api/v4/11110103/mms/id-11110103-6jt7h-lk8a9nyd8xqwe0.16003071691592286.mp4\",\"width\":960,\"height\":540,\"bitrate\":431210,\"size\":519357,\"fps\":25.12953,\"duration\":7723,\"update_time\":1691592294},{\"format\":1600308,\"defn\":\"V640P\",\"profile\":\"MP4\",\"path\":\"api/v4/11110103/mms/id-11110103-6jt7h-lk8a9nyd8xqwe0.16003081691592286.mp4\",\"url\":\"https://play-ws.vod.shopee.com/api/v4/11110103/mms/id-11110103-6jt7h-lk8a9nyd8xqwe0.16003081691592286.mp4\",\"width\":1138,\"height\":640,\"bitrate\":544133,\"size\":628323,\"fps\":25.12953,\"duration\":7723,\"update_time\":1691592296}]},\"ab_test\":\"\"}",
            "upload_time": null,
            "url": "https://play-ws.vod.shopee.com/api/v4/11110103/mms/id-11110103-6jt7h-lk8a9nyd8xqwe0.default.mp4"
           }
          ]
         },
         {
          "author_username": "rizkyencha91",
          "comment": "Sepadan dengan Harga:kualitas sesuai dengan harga,hanya pengiriman nya sangat lama.",
          "detailed_rating": {
           "delivery_service": 2,
           "driver_service": null,
           "product_quality": 5,
           "seller_service": 5
          },
          "images": [
           "id-11134103-7qul2-lkj4stv1c80k1c",
           "id-11134103-7qul8-lkj4stv1dml04c",
           "id-11134103-7quky-lkj4stv1f15g8f",
           "id-11134103-7qul5-lkj4stv1gfpwda",
           "id-11134103-7qul5-lkj4stv1huac91"
          ],
          "index": 30,
          "like_count": 2,
          "rating_star": 5,
          "videos": [
           {
            "cover": "https://down-ws-sg.img.susercontent.com/id-11110103-23080-1huhn5p4etuvf8",
            "cover_image_id": "sg-11134206-7rbk0-lkl1yjcnfoha6e",
            "duration": 56554,
            "highlight": {
             "cover": "https://play-ws.vod.shopee.com/c3/98934353/160/A3oyOQJSABz=RSMoEaQDACc.jpg",
             "cover_image_id": "",
             "duration": 3079,
             "highlight": null,
             "id": "sg-11110160-6ke14-lkl20vmg43a026",
             "mms_ext": "{\"vid\":\"sg-11110160-6ke14-lkl20vmg43a026\",\"biz\":103,\"duration\":3079,\"create_time\":1692365055,\"serviceID\":6,\"cover\":\"https://play-ws.vod.shopee.com/c3/98934353/160/A3oyOQJSABz=RSMoEaQDACc.jpg\",\"cover_list\":null,\"formats\":[],\"default_format\":{\"format\":600001,\"defn\":\"ORI\",\"profile\":\"MP4\",\"path\":\"\",\"url\":\"https://play-ws.vod.shopee.com/c3/98934353/160/A3oyObMWAID-RSMoEaMKACc.mp4\",\"width\":250,\"height\":250,\"bitrate\":324612,\"size\":126724,\"fps\":25,\"duration\":3079,\"update_time\":1692365055},\"extend_formats\":{\"H265\":[{\"format\":1600305,\"defn\":\"V270P\",\"profile\":\"MP4\",\"path\":\"api/v4/11110160/mms/sg-11110160-6ke14-lkl20vmg43a026.16003051692365063.mp4\",\"url\":\"https://play-ws.vod.shopee.com/api/v4/11110160/mms/sg-11110160-6ke14-lkl20vmg43a026.16003051692365063.mp4\",\"width\":250,\"height\":250,\"bitrate\":149834,\"size\":61288,\"fps\":25.32895,\"duration\":3039,\"update_time\":1692365058}]},\"ab_test\":\"\"}",
             "upload_time": null,
             "url": "https://play-ws.vod.shopee.com/c3/98934353/160/A3oyObMWAID-RSMoEaMKACc.mp4"
            },
            "id": "id-11110103-6jt79-lkj4sinbsf4pc9",
            "mms_ext": "{\"vid\":\"id-11110103-6jt79-lkj4sinbsf4pc9\",\"biz\":103,\"duration\":56554,\"create_time\":1692248686,\"serviceID\":2,\"cover\":\"https://down-ws-sg.img.susercontent.com/id-11110103-23080-1huhn5p4etuvf8\",\"cover_list\":null,\"formats\":[{\"format\":1600323,\"defn\":\"V540P\",\"profile\":\"MP4\",\"path\":\"api/v4/11110103/mms/id-11110103-6jt79-lkj4sinbsf4pc9.default.mp4\",\"url\":\"https://play-ws.vod.shopee.com/api/v4/11110103/mms/id-11110103-6jt79-lkj4sinbsf4pc9.default.mp4\",\"width\":480,\"height\":848,\"bitrate\":374349,\"size\":3594650,\"fps\":25.01769,\"duration\":56555,\"update_time\":1692248740},{\"format\":1600005,\"defn\":\"V640P\",\"profile\":\"MP4\",\"path\":\"api/v4/11110103/mms/id-11110103-6jt79-lkj4sinbsf4pc9.16000051692248690.mp4\",\"url\":\"https://play-ws.vod.shopee.com/api/v4/11110103/mms/id-11110103-6jt79-lkj4sinbsf4pc9.16000051692248690.mp4\",\"width\":480,\"height\":848,\"bitrate\":608975,\"size\":5030713,\"fps\":25.01769,\"duration\":56563,\"update_time\":1692248712}],\"default_format\":{\"format\":600001,\"defn\":\"ORI\",\"profile\":\"MP4\",\"path\":\"\",\"url\":\"https://play-ws.vod.shopee.com/api/v4/11110103/mms/id-11110103-6jt79-lkj4sinbsf4pc9.ori.mp4\",\"width\":480,\"height\":848,\"bitrate\":1731012,\"size\":13171558,\"fps\":25.26992,\"duration\":56554,\"update_time\":1692248690},\"extend_formats\":{\"H265\":[{\"format\":1600308,\"defn\":\"V640P\",\"profile\":\"MP4\",\"path\":\"api/v4/11110103/mms/id-11110103-6jt79-lkj4sinbsf4pc9.16003081692475415.mp4\",\"url\":\"https://play-ws.vod.shopee.com/api/v4/11110103/mms/id-11110103-6jt79-lkj4sinbsf4pc9.16003081692475415.mp4\",\"width\":480,\"height\":848,\"bitrate\":669455,\"size\":5687869,\"fps\":25.01769,\"duration\":56563,\"update_time\":1692475466}]},\"ab_test\":\"\"}",
            "upload_time": null,
            "url": "https://play-ws.vod.shopee.com/api/v4/11110103/mms/id-11110103-6jt79-lkj4sinbsf4pc9.default.mp4"
           }
          ]
         },
         {
          "author_username": "mamahaji",
          "comment": "Fitur Terbaik:sangat baik\nSepadan dengan Harga:cocok lah dengan harga segituh\n\nBarang bagus bagus gak ada kendala pengiriman cepat tapi sayangnya pacingnya kurang rapih tapi aman gak ada kendala",
          "detailed_rating": {
           "delivery_service": 5,
           "driver_service": null,
           "product_quality": 5,
           "seller_service": 5
          },
          "images": [
           "id-11134103-7qul3-lk9fd4eqzdeca1",
           "id-11134103-7qul4-lk9fd4er0rys5e",
           "id-11134103-7qula-lk9fd4er26j848",
           "id-11134103-7qul3-lk9fd4er3l3o36"
          ],
          "index": 31,
          "like_count": 3,
          "rating_star": 5,
          "videos": [
           {
            "cover": "https://down-ws-sg.img.susercontent.com/id-11110103-7qul0-lk9famvq2owk9c",
            "cover_image_id": "sg-11134206-7qvdl-lkapzdd81iwudd",
            "duration": 17648,
            "highlight": {
             "cover": "https://play-ws.vod.shopee.com/c3/98934353/160/A3oyOZfVAERKJI4nEZUBACc.jpg",
             "cover_image_id": "",
             "duration": 2680,
             "highlight": null,
             "id": "sg-11110160-6jros-lkaq1ad32p2efa",
             "mms_ext": "{\"vid\":\"sg-11110160-6jros-lkaq1ad32p2efa\",\"biz\":103,\"duration\":2680,\"create_time\":1691739552,\"serviceID\":6,\"cover\":\"https://play-ws.vod.shopee.com/c3/98934353/160/A3oyOZfVAERKJI4nEZUBACc.jpg\",\"cover_list\":null,\"formats\":[],\"default_format\":{\"format\":600001,\"defn\":\"ORI\",\"profile\":\"MP4\",\"path\":\"\",\"url\":\"https://play-ws.vod.shopee.com/c3/98934353/160/A3oyORNEAOxJJI4nEZQIACc.mp4\",\"width\":250,\"height\":250,\"bitrate\":269638,\"size\":92105,\"fps\":25,\"duration\":2680,\"update_time\":1691739553},\"extend_formats\":{\"H265\":[{\"format\":1600305,\"defn\":\"V270P\",\"profile\":\"MP4\",\"path\":\"api/v4/11110160/mms/sg-11110160-6jros-lkaq1ad32p2efa.16003051691739559.mp4\",\"url\":\"https://play-ws.vod.shopee.com/api/v4/11110160/mms/sg-11110160-6jros-lkaq1ad32p2efa.16003051691739559.mp4\",\"width\":250,\"height\":250,\"bitrate\":113148,\"size\":41560,\"fps\":25.37879,\"duration\":2640,\"update_time\":1691739555}]},\"ab_test\":\"\"}",
             "upload_time": null,
             "url": "https://play-ws.vod.shopee.com/c3/98934353/160/A3oyORNEAOxJJI4nEZQIACc.mp4"
            },
            "id": "id-11110103-6jt7h-lk9famvq1ac4bd",
            "mms_ext": "{\"vid\":\"id-11110103-6jt7h-lk9famvq1ac4bd\",\"biz\":103,\"duration\":17648,\"create_time\":1691661910,\"serviceID\":6,\"cover\":\"https://down-ws-sg.img.susercontent.com/id-11110103-7qul0-lk9famvq2owk9c\",\"cover_list\":null,\"formats\":[{\"format\":1600323,\"defn\":\"V540P\",\"profile\":\"MP4\",\"path\":\"api/v4/11110103/mms/id-11110103-6jt7h-lk9famvq1ac4bd.default.mp4\",\"url\":\"https://play-ws.vod.shopee.com/api/v4/11110103/mms/id-11110103-6jt7h-lk9famvq1ac4bd.default.mp4\",\"width\":540,\"height\":960,\"bitrate\":496967,\"size\":1391114,\"fps\":25.05682,\"duration\":17663,\"update_time\":1691661934},{\"format\":1600005,\"defn\":\"V640P\",\"profile\":\"MP4\",\"path\":\"api/v4/11110103/mms/id-11110103-6jt7h-lk9famvq1ac4bd.16000051691661911.mp4\",\"url\":\"https://play-ws.vod.shopee.com/api/v4/11110103/mms/id-11110103-6jt7h-lk9famvq1ac4bd.16000051691661911.mp4\",\"width\":640,\"height\":1138,\"bitrate\":855176,\"size\":2109865,\"fps\":25.05682,\"duration\":17648,\"update_time\":1691661924}],\"default_format\":{\"format\":600001,\"defn\":\"ORI\",\"profile\":\"MP4\",\"path\":\"\",\"url\":\"https://play-ws.vod.shopee.com/api/v4/11110103/mms/id-11110103-6jt7h-lk9famvq1ac4bd.mp4\",\"width\":720,\"height\":1280,\"bitrate\":2492774,\"size\":5786923,\"fps\":30.05715,\"duration\":17648,\"update_time\":1691661911},\"extend_formats\":{\"H265\":[{\"format\":1600304,\"defn\":\"V480P\",\"profile\":\"MP4\",\"path\":\"api/v4/11110103/mms/id-11110103-6jt7h-lk9famvq1ac4bd.16003041691780698.mp4\",\"url\":\"https://play-ws.vod.shopee.com/api/v4/11110103/mms/id-11110103-6jt7h-lk9famvq1ac4bd.16003041691780698.mp4\",\"width\":480,\"height\":854,\"bitrate\":395963,\"size\":1102637,\"fps\":25.05682,\"duration\":17648,\"update_time\":1691780718},{\"format\":1600307,\"defn\":\"V540P\",\"profile\":\"MP4\",\"path\":\"api/v4/11110103/mms/id-11110103-6jt7h-lk9famvq1ac4bd.16003071691661925.mp4\",\"url\":\"https://play-ws.vod.shopee.com/api/v4/11110103/mms/id-11110103-6jt7h-lk9famvq1ac4bd.16003071691661925.mp4\",\"width\":540,\"height\":960,\"bitrate\":451392,\"size\":1295216,\"fps\":25.05682,\"duration\":17648,\"update_time\":1691661955},{\"format\":1600308,\"defn\":\"V640P\",\"profile\":\"MP4\",\"path\":\"api/v4/11110103/mms/id-11110103-6jt7h-lk9famvq1ac4bd.16003081691661925.mp4\",\"url\":\"https://play-ws.vod.shopee.com/api/v4/11110103/mms/id-11110103-6jt7h-lk9famvq1ac4bd.16003081691661925.mp4\",\"width\":640,\"height\":1138,\"bitrate\":561068,\"size\":1536505,\"fps\":25.05682,\"duration\":17648,\"update_time\":1691661956}]},\"ab_test\":\"\"}",
            "upload_time": null,
            "url": "https://play-ws.vod.shopee.com/api/v4/11110103/mms/id-11110103-6jt7h-lk9famvq1ac4bd.default.mp4"
           }
          ]
         },
         {
          "author_username": "b*****y",
          "comment": "Fitur Terbaik:yg pasti memorynya...\n\nTerima kasih barangnya sdh diterima dengan baik. Warnanya cantikkkkk sekali, blm dicoba jd blm tau isi hp nya. Semoga maksimal bgt semua fungsi2nya dan awet tahan lamaaa. Makasih Shopee dan Xiaomi",
          "detailed_rating": {
           "delivery_service": 5,
           "driver_service": null,
           "product_quality": 5,
           "seller_service": 5
          },
          "images": [
           "id-11134103-7qul8-ljybyjplv1j306",
           "id-11134103-7qul7-ljybyjpbvfxj65",
           "id-11134103-7qukw-ljybyjqptesib3",
           "id-11134103-7qul8-ljybyjpbvgar60",
           "id-11134103-7qukw-ljybyjpbvg2y46"
          ],
          "index": 32,
          "like_count": 193,
          "rating_star": 5,
          "videos": [
           {
            "cover": "https://down-aka-sg.img.susercontent.com/id-11110103-23080-ej45zvkam9tv5f",
            "cover_image_id": "sg-11134206-7qvg0-ljyc5utov7fae2",
            "duration": 47090,
            "highlight": {
             "cover": "https://play-ws.vod.shopee.com/c3/98934353/160/A3oyOSBMACiYbNsmEf4HACc.jpg",
             "cover_image_id": "",
             "duration": 3079,
             "highlight": null,
             "id": "sg-11110160-6jrox-ljyc8yh1fyd02b",
             "mms_ext": "{\"vid\":\"sg-11110160-6jrox-ljyc8yh1fyd02b\",\"biz\":103,\"duration\":3079,\"create_time\":1690989958,\"serviceID\":6,\"cover\":\"https://play-ws.vod.shopee.com/c3/98934353/160/A3oyOSBMACiYbNsmEf4HACc.jpg\",\"cover_list\":null,\"formats\":[],\"default_format\":{\"format\":600001,\"defn\":\"ORI\",\"profile\":\"MP4\",\"path\":\"\",\"url\":\"https://play-ws.vod.shopee.com/c3/98934353/160/A3oyOXBLAGCPbNsmEf4IACc.mp4\",\"width\":250,\"height\":250,\"bitrate\":305249,\"size\":119462,\"fps\":25,\"duration\":3079,\"update_time\":1690989959},\"extend_formats\":{\"H265\":[{\"format\":1600305,\"defn\":\"V270P\",\"profile\":\"MP4\",\"path\":\"api/v4/11110160/mms/sg-11110160-6jrox-ljyc8yh1fyd02b.16003051690989964.mp4\",\"url\":\"https://play-ws.vod.shopee.com/api/v4/11110160/mms/sg-11110160-6jrox-ljyc8yh1fyd02b.16003051690989964.mp4\",\"width\":250,\"height\":250,\"bitrate\":147463,\"size\":60387,\"fps\":25.32895,\"duration\":3039,\"update_time\":1690989962}]},\"ab_test\":\"\"}",
             "upload_time": null,
             "url": "https://play-ws.vod.shopee.com/c3/98934353/160/A3oyOXBLAGCPbNsmEf4IACc.mp4"
            },
            "id": "id-11110103-6jt77-ljybzxbn9e2ne8",
            "mms_ext": "{\"vid\":\"id-11110103-6jt77-ljybzxbn9e2ne8\",\"biz\":103,\"duration\":47090,\"create_time\":1690989555,\"serviceID\":6,\"cover\":\"https://down-aka-sg.img.susercontent.com/id-11110103-23080-ej45zvkam9tv5f\",\"cover_list\":null,\"formats\":[{\"format\":1600408,\"defn\":\"V360P\",\"profile\":\"MP4\",\"path\":\"api/v4/11110103/mms/id-11110103-6jt77-ljybzxbn9e2ne8.16004081691202334.mp4\",\"url\":\"https://play-ws.vod.shopee.com/api/v4/11110103/mms/id-11110103-6jt77-ljybzxbn9e2ne8.16004081691202334.mp4\",\"width\":360,\"height\":640,\"bitrate\":256408,\"size\":1621590,\"fps\":25.02126,\"duration\":47090,\"update_time\":1691202352},{\"format\":1600322,\"defn\":\"V360P\",\"profile\":\"MP4\",\"path\":\"api/v4/11110103/mms/id-11110103-6jt77-ljybzxbn9e2ne8.16003221691176393.mp4\",\"url\":\"https://play-ws.vod.shopee.com/api/v4/11110103/mms/id-11110103-6jt77-ljybzxbn9e2ne8.16003221691176393.mp4\",\"width\":360,\"height\":640,\"bitrate\":216415,\"size\":1866494,\"fps\":25.02126,\"duration\":47104,\"update_time\":1691176415},{\"format\":1600046,\"defn\":\"V480P\",\"profile\":\"MP4\",\"path\":\"api/v4/11110103/mms/id-11110103-6jt77-ljybzxbn9e2ne8.16000461690989591.mp4\",\"url\":\"https://play-ws.vod.shopee.com/api/v4/11110103/mms/id-11110103-6jt77-ljybzxbn9e2ne8.16000461690989591.mp4\",\"width\":480,\"height\":854,\"bitrate\":639249,\"size\":4352751,\"fps\":25.02126,\"duration\":47104,\"update_time\":1690989615},{\"format\":1600409,\"defn\":\"V540P\",\"profile\":\"MP4\",\"path\":\"api/v4/11110103/mms/id-11110103-6jt77-ljybzxbn9e2ne8.16004091691202353.mp4\",\"url\":\"https://play-ws.vod.shopee.com/api/v4/11110103/mms/id-11110103-6jt77-ljybzxbn9e2ne8.16004091691202353.mp4\",\"width\":540,\"height\":960,\"bitrate\":498127,\"size\":3042896,\"fps\":25.02126,\"duration\":47090,\"update_time\":1691202376},{\"format\":1600323,\"defn\":\"V540P\",\"profile\":\"MP4\",\"path\":\"api/v4/11110103/mms/id-11110103-6jt77-ljybzxbn9e2ne8.default.mp4\",\"url\":\"https://play-ws.vod.shopee.com/api/v4/11110103/mms/id-11110103-6jt77-ljybzxbn9e2ne8.default.mp4\",\"width\":540,\"height\":960,\"bitrate\":478084,\"size\":3602386,\"fps\":25.02126,\"duration\":47104,\"update_time\":1691176367},{\"format\":1600005,\"defn\":\"V640P\",\"profile\":\"MP4\",\"path\":\"api/v4/11110103/mms/id-11110103-6jt77-ljybzxbn9e2ne8.16000051690989557.mp4\",\"url\":\"https://play-ws.vod.shopee.com/api/v4/11110103/mms/id-11110103-6jt77-ljybzxbn9e2ne8.16000051690989557.mp4\",\"width\":640,\"height\":1138,\"bitrate\":821376,\"size\":5435909,\"fps\":25.02126,\"duration\":47090,\"update_time\":1690989590},{\"format\":1600411,\"defn\":\"V720P\",\"profile\":\"MP4\",\"path\":\"api/v4/11110103/mms/id-11110103-6jt77-ljybzxbn9e2ne8.16004111691202353.mp4\",\"url\":\"https://play-ws.vod.shopee.com/api/v4/11110103/mms/id-11110103-6jt77-ljybzxbn9e2ne8.16004111691202353.mp4\",\"width\":720,\"height\":1280,\"bitrate\":1183580,\"size\":7073275,\"fps\":25.02126,\"duration\":47090,\"update_time\":1691202394},{\"format\":1600410,\"defn\":\"V720P\",\"profile\":\"MP4\",\"path\":\"api/v4/11110103/mms/id-11110103-6jt77-ljybzxbn9e2ne8.16004101691202353.mp4\",\"url\":\"https://play-ws.vod.shopee.com/api/v4/11110103/mms/id-11110103-6jt77-ljybzxbn9e2ne8.16004101691202353.mp4\",\"width\":720,\"height\":1280,\"bitrate\":884175,\"size\":5312772,\"fps\":25.02126,\"duration\":47090,\"update_time\":1691202390},{\"format\":1600324,\"defn\":\"V720P\",\"profile\":\"MP4\",\"path\":\"api/v4/11110103/mms/id-11110103-6jt77-ljybzxbn9e2ne8.16003241691176393.mp4\",\"url\":\"https://play-ws.vod.shopee.com/api/v4/11110103/mms/id-11110103-6jt77-ljybzxbn9e2ne8.16003241691176393.mp4\",\"width\":720,\"height\":1280,\"bitrate\":778477,\"size\":5368725,\"fps\":25.02126,\"duration\":47104,\"update_time\":1691176426},{\"format\":1600325,\"defn\":\"V720P\",\"profile\":\"MP4\",\"path\":\"api/v4/11110103/mms/id-11110103-6jt77-ljybzxbn9e2ne8.16003251691176393.mp4\",\"url\":\"https://play-ws.vod.shopee.com/api/v4/11110103/mms/id-11110103-6jt77-ljybzxbn9e2ne8.16003251691176393.mp4\",\"width\":720,\"height\":1280,\"bitrate\":1441893,\"size\":9269612,\"fps\":25.02126,\"duration\":47104,\"update_time\":1691176445}],\"default_format\":{\"format\":600001,\"defn\":\"ORI\",\"profile\":\"MP4\",\"path\":\"\",\"url\":\"https://play-ws.vod.shopee.com/c3/98934353/103/A3oyOWnuAPS2U9smIQABAgAm.mp4\",\"width\":720,\"height\":1280,\"bitrate\":2760466,\"size\":17022414,\"fps\":30.02155,\"duration\":47090,\"update_time\":1690989557},\"extend_formats\":{\"H265\":[{\"format\":1600412,\"defn\":\"V360P\",\"profile\":\"MP4\",\"path\":\"api/v4/11110103/mms/id-11110103-6jt77-ljybzxbn9e2ne8.16004121691202353.mp4\",\"url\":\"https://play-ws.vod.shopee.com/api/v4/11110103/mms/id-11110103-6jt77-ljybzxbn9e2ne8.16004121691202353.mp4\",\"width\":360,\"height\":640,\"bitrate\":198053,\"size\":1282083,\"fps\":25.02126,\"duration\":47090,\"update_time\":1691202388},{\"format\":1600315,\"defn\":\"V360P\",\"profile\":\"MP4\",\"path\":\"api/v4/11110103/mms/id-11110103-6jt77-ljybzxbn9e2ne8.16003151691176393.mp4\",\"url\":\"https://play-ws.vod.shopee.com/api/v4/11110103/mms/id-11110103-6jt77-ljybzxbn9e2ne8.16003151691176393.mp4\",\"width\":360,\"height\":640,\"bitrate\":262253,\"size\":2151882,\"fps\":25.02126,\"duration\":47090,\"update_time\":1691176427},{\"format\":1600304,\"defn\":\"V480P\",\"profile\":\"MP4\",\"path\":\"api/v4/11110103/mms/id-11110103-6jt77-ljybzxbn9e2ne8.16003041690989591.mp4\",\"url\":\"https://play-ws.vod.shopee.com/api/v4/11110103/mms/id-11110103-6jt77-ljybzxbn9e2ne8.16003041690989591.mp4\",\"width\":480,\"height\":854,\"bitrate\":493561,\"size\":3511987,\"fps\":25.02126,\"duration\":47090,\"update_time\":1690989641},{\"format\":1600413,\"defn\":\"V540P\",\"profile\":\"MP4\",\"path\":\"api/v4/11110103/mms/id-11110103-6jt77-ljybzxbn9e2ne8.16004131691202353.mp4\",\"url\":\"https://play-ws.vod.shopee.com/api/v4/11110103/mms/id-11110103-6jt77-ljybzxbn9e2ne8.16004131691202353.mp4\",\"width\":540,\"height\":960,\"bitrate\":351373,\"size\":2183606,\"fps\":25.02126,\"duration\":47090,\"update_time\":1691202407},{\"format\":1600316,\"defn\":\"V540P\",\"profile\":\"MP4\",\"path\":\"api/v4/11110103/mms/id-11110103-6jt77-ljybzxbn9e2ne8.16003161691176393.mp4\",\"url\":\"https://play-ws.vod.shopee.com/api/v4/11110103/mms/id-11110103-6jt77-ljybzxbn9e2ne8.16003161691176393.mp4\",\"width\":540,\"height\":960,\"bitrate\":460649,\"size\":3506909,\"fps\":25.02126,\"duration\":47090,\"update_time\":1691176445},{\"format\":1600308,\"defn\":\"V640P\",\"profile\":\"MP4\",\"path\":\"api/v4/11110103/mms/id-11110103-6jt77-ljybzxbn9e2ne8.16003081690989591.mp4\",\"url\":\"https://play-ws.vod.shopee.com/api/v4/11110103/mms/id-11110103-6jt77-ljybzxbn9e2ne8.16003081690989591.mp4\",\"width\":640,\"height\":1138,\"bitrate\":675011,\"size\":4767374,\"fps\":25.02126,\"duration\":47090,\"update_time\":1690989676},{\"format\":1600414,\"defn\":\"V720P\",\"profile\":\"MP4\",\"path\":\"api/v4/11110103/mms/id-11110103-6jt77-ljybzxbn9e2ne8.16004141691202353.mp4\",\"url\":\"https://play-ws.vod.shopee.com/api/v4/11110103/mms/id-11110103-6jt77-ljybzxbn9e2ne8.16004141691202353.mp4\",\"width\":720,\"height\":1280,\"bitrate\":613140,\"size\":3722797,\"fps\":25.02126,\"duration\":47090,\"update_time\":1691202433},{\"format\":1600415,\"defn\":\"V720P\",\"profile\":\"MP4\",\"path\":\"api/v4/11110103/mms/id-11110103-6jt77-ljybzxbn9e2ne8.16004151691202353.mp4\",\"url\":\"https://play-ws.vod.shopee.com/api/v4/11110103/mms/id-11110103-6jt77-ljybzxbn9e2ne8.16004151691202353.mp4\",\"width\":720,\"height\":1280,\"bitrate\":639981,\"size\":3880622,\"fps\":25.02126,\"duration\":47090,\"update_time\":1691202451},{\"format\":1600317,\"defn\":\"V720P\",\"profile\":\"MP4\",\"path\":\"api/v4/11110103/mms/id-11110103-6jt77-ljybzxbn9e2ne8.16003171691176393.mp4\",\"url\":\"https://play-ws.vod.shopee.com/api/v4/11110103/mms/id-11110103-6jt77-ljybzxbn9e2ne8.16003171691176393.mp4\",\"width\":720,\"height\":1280,\"bitrate\":762100,\"size\":5279462,\"fps\":25.02126,\"duration\":47090,\"update_time\":1691176478},{\"format\":1600318,\"defn\":\"V720P\",\"profile\":\"MP4\",\"path\":\"api/v4/11110103/mms/id-11110103-6jt77-ljybzxbn9e2ne8.16003181691176393.mp4\",\"url\":\"https://play-ws.vod.shopee.com/api/v4/11110103/mms/id-11110103-6jt77-ljybzxbn9e2ne8.16003181691176393.mp4\",\"width\":720,\"height\":1280,\"bitrate\":842503,\"size\":5752232,\"fps\":25.02126,\"duration\":47090,\"update_time\":1691176481}]},\"ab_test\":\"\"}",
            "upload_time": null,
            "url": "https://play-ws.vod.shopee.com/api/v4/11110103/mms/id-11110103-6jt77-ljybzxbn9e2ne8.16004081691202334.mp4"
           }
          ]
         },
         {
          "author_username": "em_store89",
          "comment": "Kardus di tersegel->OK\nTerisi daya 75%,\nTelpon Selular->OK\nAdapter->OK\nKabel USB Tipe C->OK\nAlat SIM Ejector->OK\nKartu Garansi->OK\nPanduan buku->OK\nCasing Pelindung->OK",
          "detailed_rating": {
           "delivery_service": 5,
           "driver_service": null,
           "product_quality": 5,
           "seller_service": 5
          },
          "images": [
           "id-11134103-7qula-lkb3avcv7k1679",
           "id-11134103-7qul9-lkb3avcv8ylm4b",
           "id-11134103-7qukx-lkb3avcvad6222",
           "id-11134103-7qula-lkb3avcvbrqi96",
           "id-11134103-7qul6-lkb3avcvd6ay3a"
          ],
          "index": 33,
          "like_count": 3,
          "rating_star": 5,
          "videos": [
           {
            "cover": "https://down-aka-sg.img.susercontent.com/id-11110103-23080-uhuiq25bdluv0e",
            "cover_image_id": "sg-11134206-7r98o-lkjk6y4rgmmw53",
            "duration": 36409,
            "highlight": {
             "cover": "https://play-ws.vod.shopee.com/c3/98934353/160/A3oyOR-iAISKuQ0oEX8DACc.jpg",
             "cover_image_id": "",
             "duration": 3000,
             "highlight": null,
             "id": "sg-11110160-6ke14-lkjk9ve3feky93",
             "mms_ext": "{\"vid\":\"sg-11110160-6ke14-lkjk9ve3feky93\",\"biz\":103,\"duration\":3000,\"create_time\":1692274673,\"serviceID\":6,\"cover\":\"https://play-ws.vod.shopee.com/c3/98934353/160/A3oyOR-iAISKuQ0oEX8DACc.jpg\",\"cover_list\":null,\"formats\":[],\"default_format\":{\"format\":600001,\"defn\":\"ORI\",\"profile\":\"MP4\",\"path\":\"\",\"url\":\"https://play-ws.vod.shopee.com/c3/98934353/160/A3oyOYSgAOyJuQ0oEX8FACc.mp4\",\"width\":250,\"height\":250,\"bitrate\":250338,\"size\":95799,\"fps\":25,\"duration\":3000,\"update_time\":1692274674},\"extend_formats\":{\"H265\":[{\"format\":1600305,\"defn\":\"V270P\",\"profile\":\"MP4\",\"path\":\"api/v4/11110160/mms/sg-11110160-6ke14-lkjk9ve3feky93.16003051692274681.mp4\",\"url\":\"https://play-ws.vod.shopee.com/api/v4/11110160/mms/sg-11110160-6ke14-lkjk9ve3feky93.16003051692274681.mp4\",\"width\":250,\"height\":250,\"bitrate\":104464,\"size\":42969,\"fps\":25.33784,\"duration\":2960,\"update_time\":1692274676}]},\"ab_test\":\"\"}",
             "upload_time": null,
             "url": "https://play-ws.vod.shopee.com/c3/98934353/160/A3oyOYSgAOyJuQ0oEX8FACc.mp4"
            },
            "id": "id-11110103-6jt7k-lkb31m94o0xic8",
            "mms_ext": "{\"vid\":\"id-11110103-6jt7k-lkb31m94o0xic8\",\"biz\":103,\"duration\":36409,\"create_time\":1691761441,\"serviceID\":2,\"cover\":\"https://down-aka-sg.img.susercontent.com/id-11110103-23080-uhuiq25bdluv0e\",\"cover_list\":null,\"formats\":[{\"format\":1600323,\"defn\":\"V540P\",\"profile\":\"MP4\",\"path\":\"api/v4/11110103/mms/id-11110103-6jt7k-lkb31m94o0xic8.default.mp4\",\"url\":\"https://play-aka.vod.shopee.com/api/v4/11110103/mms/id-11110103-6jt7k-lkb31m94o0xic8.default.mp4\",\"width\":540,\"height\":960,\"bitrate\":494710,\"size\":2857405,\"fps\":25.02753,\"duration\":36416,\"update_time\":1691761507},{\"format\":1600005,\"defn\":\"V640P\",\"profile\":\"MP4\",\"path\":\"api/v4/11110103/mms/id-11110103-6jt7k-lkb31m94o0xic8.16000051691761444.mp4\",\"url\":\"https://play-aka.vod.shopee.com/api/v4/11110103/mms/id-11110103-6jt7k-lkb31m94o0xic8.16000051691761444.mp4\",\"width\":640,\"height\":1138,\"bitrate\":853187,\"size\":4341747,\"fps\":25.02753,\"duration\":36409,\"update_time\":1691761482}],\"default_format\":{\"format\":600001,\"defn\":\"ORI\",\"profile\":\"MP4\",\"path\":\"\",\"url\":\"https://play-aka.vod.shopee.com/api/v4/11110103/mms/id-11110103-6jt7k-lkb31m94o0xic8.ori.mp4\",\"width\":720,\"height\":1280,\"bitrate\":2490445,\"size\":11933245,\"fps\":25.0275,\"duration\":36409,\"update_time\":1691761444},\"extend_formats\":{\"H265\":[{\"format\":1600304,\"defn\":\"V480P\",\"profile\":\"MP4\",\"path\":\"api/v4/11110103/mms/id-11110103-6jt7k-lkb31m94o0xic8.16003041691780764.mp4\",\"url\":\"https://play-aka.vod.shopee.com/api/v4/11110103/mms/id-11110103-6jt7k-lkb31m94o0xic8.16003041691780764.mp4\",\"width\":480,\"height\":854,\"bitrate\":352727,\"size\":2073813,\"fps\":25.02753,\"duration\":36409,\"update_time\":1691780811},{\"format\":1600307,\"defn\":\"V540P\",\"profile\":\"MP4\",\"path\":\"api/v4/11110103/mms/id-11110103-6jt7k-lkb31m94o0xic8.16003071691761484.mp4\",\"url\":\"https://play-aka.vod.shopee.com/api/v4/11110103/mms/id-11110103-6jt7k-lkb31m94o0xic8.16003071691761484.mp4\",\"width\":540,\"height\":960,\"bitrate\":400902,\"size\":2438234,\"fps\":25.02753,\"duration\":36409,\"update_time\":1691761545},{\"format\":1600308,\"defn\":\"V640P\",\"profile\":\"MP4\",\"path\":\"api/v4/11110103/mms/id-11110103-6jt7k-lkb31m94o0xic8.16003081691761484.mp4\",\"url\":\"https://play-aka.vod.shopee.com/api/v4/11110103/mms/id-11110103-6jt7k-lkb31m94o0xic8.16003081691761484.mp4\",\"width\":640,\"height\":1138,\"bitrate\":488375,\"size\":2835367,\"fps\":25.02753,\"duration\":36409,\"update_time\":1691761578}]},\"ab_test\":\"\"}",
            "upload_time": null,
            "url": "https://play-aka.vod.shopee.com/api/v4/11110103/mms/id-11110103-6jt7k-lkb31m94o0xic8.default.mp4"
           }
          ]
         },
         {
          "author_username": "f*****h",
          "comment": "Sepadan dengan Harga:sangat worth it untuk harga segini dengan ram yg besar\nFitur Terbaik:ram besar harga terjangkau emng paling mantepppp xiaomi ini\n\nAlhamdulillah sampe dengan selamat tanpa kendala kerusakan",
          "detailed_rating": {
           "delivery_service": 5,
           "driver_service": null,
           "product_quality": 5,
           "seller_service": 5
          },
          "images": [
           "id-11134103-7qukx-lkf5k7jkjel092",
           "id-11134103-7qul5-lkf5k7jkkt5ga8"
          ],
          "index": 34,
          "like_count": 5,
          "rating_star": 5,
          "videos": [
           {
            "cover": "https://down-aka-sg.img.susercontent.com/id-11110103-23080-vyuvy6nvfpuv19",
            "cover_image_id": "sg-11134206-7qvf4-lkg3junr2c22f8",
            "duration": 5989,
            "highlight": {
             "cover": "https://play-ws.vod.shopee.com/c3/98934353/160/A3oyOXwkABhwvNsnEbEKACc.jpg",
             "cover_image_id": "",
             "duration": 3079,
             "highlight": null,
             "id": "sg-11110160-6jro7-lkg3l17ct10me2",
             "mms_ext": "{\"vid\":\"sg-11110160-6jro7-lkg3l17ct10me2\",\"biz\":103,\"duration\":3079,\"create_time\":1692065006,\"serviceID\":6,\"cover\":\"https://play-ws.vod.shopee.com/c3/98934353/160/A3oyOXwkABhwvNsnEbEKACc.jpg\",\"cover_list\":null,\"formats\":[],\"default_format\":{\"format\":600001,\"defn\":\"ORI\",\"profile\":\"MP4\",\"path\":\"\",\"url\":\"https://play-ws.vod.shopee.com/c3/98934353/160/A3oyOU52AJhvvNsnERIAACc.mp4\",\"width\":250,\"height\":250,\"bitrate\":271851,\"size\":106558,\"fps\":25,\"duration\":3079,\"update_time\":1692065007},\"extend_formats\":{\"H265\":[{\"format\":1600305,\"defn\":\"V270P\",\"profile\":\"MP4\",\"path\":\"api/v4/11110160/mms/sg-11110160-6jro7-lkg3l17ct10me2.16003051692065014.mp4\",\"url\":\"https://play-ws.vod.shopee.com/api/v4/11110160/mms/sg-11110160-6jro7-lkg3l17ct10me2.16003051692065014.mp4\",\"width\":250,\"height\":250,\"bitrate\":141007,\"size\":57934,\"fps\":25.32895,\"duration\":3039,\"update_time\":1692065009}]},\"ab_test\":\"\"}",
             "upload_time": null,
             "url": "https://play-ws.vod.shopee.com/c3/98934353/160/A3oyOU52AJhvvNsnERIAACc.mp4"
            },
            "id": "id-11110103-6jt7h-lkf5l3dhyhllf6",
            "mms_ext": "{\"vid\":\"id-11110103-6jt7h-lkf5l3dhyhllf6\",\"biz\":103,\"duration\":5989,\"create_time\":1692007856,\"serviceID\":6,\"cover\":\"https://down-aka-sg.img.susercontent.com/id-11110103-23080-vyuvy6nvfpuv19\",\"cover_list\":null,\"formats\":[{\"format\":1600408,\"defn\":\"V360P\",\"profile\":\"MP4\",\"path\":\"api/v4/11110103/mms/id-11110103-6jt7h-lkf5l3dhyhllf6.16004081692399039.mp4\",\"url\":\"https://play-ws.vod.shopee.com/api/v4/11110103/mms/id-11110103-6jt7h-lkf5l3dhyhllf6.16004081692399039.mp4\",\"width\":360,\"height\":640,\"bitrate\":200761,\"size\":227964,\"fps\":25.16667,\"duration\":6000,\"update_time\":1692399042},{\"format\":1600322,\"defn\":\"V360P\",\"profile\":\"MP4\",\"path\":\"api/v4/11110103/mms/id-11110103-6jt7h-lkf5l3dhyhllf6.16003221692299244.mp4\",\"url\":\"https://play-ws.vod.shopee.com/api/v4/11110103/mms/id-11110103-6jt7h-lkf5l3dhyhllf6.16003221692299244.mp4\",\"width\":360,\"height\":640,\"bitrate\":206633,\"size\":230939,\"fps\":25.16779,\"duration\":5960,\"update_time\":1692299247},{\"format\":1600409,\"defn\":\"V540P\",\"profile\":\"MP4\",\"path\":\"api/v4/11110103/mms/id-11110103-6jt7h-lkf5l3dhyhllf6.16004091692399044.mp4\",\"url\":\"https://play-ws.vod.shopee.com/api/v4/11110103/mms/id-11110103-6jt7h-lkf5l3dhyhllf6.16004091692399044.mp4\",\"width\":540,\"height\":960,\"bitrate\":362361,\"size\":372267,\"fps\":25.16667,\"duration\":6000,\"update_time\":1692399048},{\"format\":1600323,\"defn\":\"V540P\",\"profile\":\"MP4\",\"path\":\"api/v4/11110103/mms/id-11110103-6jt7h-lkf5l3dhyhllf6.default.mp4\",\"url\":\"https://play-ws.vod.shopee.com/api/v4/11110103/mms/id-11110103-6jt7h-lkf5l3dhyhllf6.default.mp4\",\"width\":540,\"height\":960,\"bitrate\":397026,\"size\":396008,\"fps\":25.16779,\"duration\":5960,\"update_time\":1692007867},{\"format\":1600005,\"defn\":\"V640P\",\"profile\":\"MP4\",\"path\":\"api/v4/11110103/mms/id-11110103-6jt7h-lkf5l3dhyhllf6.16000051692007857.mp4\",\"url\":\"https://play-ws.vod.shopee.com/api/v4/11110103/mms/id-11110103-6jt7h-lkf5l3dhyhllf6.16000051692007857.mp4\",\"width\":640,\"height\":1138,\"bitrate\":612448,\"size\":533570,\"fps\":25.16779,\"duration\":5960,\"update_time\":1692007861},{\"format\":1600410,\"defn\":\"V720P\",\"profile\":\"MP4\",\"path\":\"api/v4/11110103/mms/id-11110103-6jt7h-lkf5l3dhyhllf6.16004101692399043.mp4\",\"url\":\"https://play-ws.vod.shopee.com/api/v4/11110103/mms/id-11110103-6jt7h-lkf5l3dhyhllf6.16004101692399043.mp4\",\"width\":720,\"height\":1280,\"bitrate\":636210,\"size\":577654,\"fps\":25.16667,\"duration\":6000,\"update_time\":1692399048},{\"format\":1600411,\"defn\":\"V720P\",\"profile\":\"MP4\",\"path\":\"api/v4/11110103/mms/id-11110103-6jt7h-lkf5l3dhyhllf6.16004111692399043.mp4\",\"url\":\"https://play-ws.vod.shopee.com/api/v4/11110103/mms/id-11110103-6jt7h-lkf5l3dhyhllf6.16004111692399043.mp4\",\"width\":720,\"height\":1280,\"bitrate\":993348,\"size\":845507,\"fps\":25.16667,\"duration\":6000,\"update_time\":1692399049},{\"format\":1600324,\"defn\":\"V720P\",\"profile\":\"MP4\",\"path\":\"api/v4/11110103/mms/id-11110103-6jt7h-lkf5l3dhyhllf6.16003241692299244.mp4\",\"url\":\"https://play-ws.vod.shopee.com/api/v4/11110103/mms/id-11110103-6jt7h-lkf5l3dhyhllf6.16003241692299244.mp4\",\"width\":720,\"height\":1280,\"bitrate\":619675,\"size\":561881,\"fps\":25.16779,\"duration\":5960,\"update_time\":1692299249},{\"format\":1600325,\"defn\":\"V720P\",\"profile\":\"MP4\",\"path\":\"api/v4/11110103/mms/id-11110103-6jt7h-lkf5l3dhyhllf6.16003251692299245.mp4\",\"url\":\"https://play-ws.vod.shopee.com/api/v4/11110103/mms/id-11110103-6jt7h-lkf5l3dhyhllf6.16003251692299245.mp4\",\"width\":720,\"height\":1280,\"bitrate\":1110053,\"size\":927213,\"fps\":25.16779,\"duration\":5960,\"update_time\":1692299250}],\"default_format\":{\"format\":600001,\"defn\":\"ORI\",\"profile\":\"MP4\",\"path\":\"\",\"url\":\"https://play-ws.vod.shopee.com/c3/98934353/103/A3oyOah3AGzYG84nEacDACY.mp4\",\"width\":720,\"height\":1280,\"bitrate\":6086385,\"size\":4662404,\"fps\":30.01876,\"duration\":5989,\"update_time\":1692007857},\"extend_formats\":{\"H265\":[{\"format\":1600412,\"defn\":\"V360P\",\"profile\":\"MP4\",\"path\":\"api/v4/11110103/mms/id-11110103-6jt7h-lkf5l3dhyhllf6.16004121692399044.mp4\",\"url\":\"https://play-ws.vod.shopee.com/api/v4/11110103/mms/id-11110103-6jt7h-lkf5l3dhyhllf6.16004121692399044.mp4\",\"width\":360,\"height\":640,\"bitrate\":187836,\"size\":220902,\"fps\":25.16667,\"duration\":6000,\"update_time\":1692399049},{\"format\":1600315,\"defn\":\"V360P\",\"profile\":\"MP4\",\"path\":\"api/v4/11110103/mms/id-11110103-6jt7h-lkf5l3dhyhllf6.16003151692299245.mp4\",\"url\":\"https://play-ws.vod.shopee.com/api/v4/11110103/mms/id-11110103-6jt7h-lkf5l3dhyhllf6.16003151692299245.mp4\",\"width\":360,\"height\":640,\"bitrate\":213668,\"size\":239109,\"fps\":25.16779,\"duration\":5960,\"update_time\":1692299251},{\"format\":1600413,\"defn\":\"V540P\",\"profile\":\"MP4\",\"path\":\"api/v4/11110103/mms/id-11110103-6jt7h-lkf5l3dhyhllf6.16004131692399044.mp4\",\"url\":\"https://play-ws.vod.shopee.com/api/v4/11110103/mms/id-11110103-6jt7h-lkf5l3dhyhllf6.16004131692399044.mp4\",\"width\":540,\"height\":960,\"bitrate\":258700,\"size\":297154,\"fps\":25.16667,\"duration\":6000,\"update_time\":1692399050},{\"format\":1600316,\"defn\":\"V540P\",\"profile\":\"MP4\",\"path\":\"api/v4/11110103/mms/id-11110103-6jt7h-lkf5l3dhyhllf6.16003161692299244.mp4\",\"url\":\"https://play-ws.vod.shopee.com/api/v4/11110103/mms/id-11110103-6jt7h-lkf5l3dhyhllf6.16003161692299244.mp4\",\"width\":540,\"height\":960,\"bitrate\":394677,\"size\":397228,\"fps\":25.16779,\"duration\":5960,\"update_time\":1692299251},{\"format\":1600307,\"defn\":\"V540P\",\"profile\":\"MP4\",\"path\":\"api/v4/11110103/mms/id-11110103-6jt7h-lkf5l3dhyhllf6.16003071692007863.mp4\",\"url\":\"https://play-ws.vod.shopee.com/api/v4/11110103/mms/id-11110103-6jt7h-lkf5l3dhyhllf6.16003071692007863.mp4\",\"width\":540,\"height\":960,\"bitrate\":445280,\"size\":434936,\"fps\":25.16779,\"duration\":5960,\"update_time\":1692007870},{\"format\":1600308,\"defn\":\"V640P\",\"profile\":\"MP4\",\"path\":\"api/v4/11110103/mms/id-11110103-6jt7h-lkf5l3dhyhllf6.16003081692007863.mp4\",\"url\":\"https://play-ws.vod.shopee.com/api/v4/11110103/mms/id-11110103-6jt7h-lkf5l3dhyhllf6.16003081692007863.mp4\",\"width\":640,\"height\":1138,\"bitrate\":584110,\"size\":538359,\"fps\":25.16779,\"duration\":5960,\"update_time\":1692007873},{\"format\":1600414,\"defn\":\"V720P\",\"profile\":\"MP4\",\"path\":\"api/v4/11110103/mms/id-11110103-6jt7h-lkf5l3dhyhllf6.16004141692399043.mp4\",\"url\":\"https://play-ws.vod.shopee.com/api/v4/11110103/mms/id-11110103-6jt7h-lkf5l3dhyhllf6.16004141692399043.mp4\",\"width\":720,\"height\":1280,\"bitrate\":463065,\"size\":450414,\"fps\":25.16667,\"duration\":6000,\"update_time\":1692399052},{\"format\":1600415,\"defn\":\"V720P\",\"profile\":\"MP4\",\"path\":\"api/v4/11110103/mms/id-11110103-6jt7h-lkf5l3dhyhllf6.16004151692399043.mp4\",\"url\":\"https://play-ws.vod.shopee.com/api/v4/11110103/mms/id-11110103-6jt7h-lkf5l3dhyhllf6.16004151692399043.mp4\",\"width\":720,\"height\":1280,\"bitrate\":638102,\"size\":581693,\"fps\":25.16667,\"duration\":6000,\"update_time\":1692399053},{\"format\":1600317,\"defn\":\"V720P\",\"profile\":\"MP4\",\"path\":\"api/v4/11110103/mms/id-11110103-6jt7h-lkf5l3dhyhllf6.16003171692299244.mp4\",\"url\":\"https://play-ws.vod.shopee.com/api/v4/11110103/mms/id-11110103-6jt7h-lkf5l3dhyhllf6.16003171692299244.mp4\",\"width\":720,\"height\":1280,\"bitrate\":617671,\"size\":563368,\"fps\":25.16779,\"duration\":5960,\"update_time\":1692299254},{\"format\":1600318,\"defn\":\"V720P\",\"profile\":\"MP4\",\"path\":\"api/v4/11110103/mms/id-11110103-6jt7h-lkf5l3dhyhllf6.16003181692299245.mp4\",\"url\":\"https://play-ws.vod.shopee.com/api/v4/11110103/mms/id-11110103-6jt7h-lkf5l3dhyhllf6.16003181692299245.mp4\",\"width\":720,\"height\":1280,\"bitrate\":866810,\"size\":748978,\"fps\":25.16779,\"duration\":5960,\"update_time\":1692299258}]},\"ab_test\":\"\"}",
            "upload_time": null,
            "url": "https://play-ws.vod.shopee.com/api/v4/11110103/mms/id-11110103-6jt7h-lkf5l3dhyhllf6.16004081692399039.mp4"
           }
          ]
         },
         {
          "author_username": "u*****5",
          "comment": "Sepadan dengan Harga:sepadan\nFitur Terbaik:penyimpanan dan desain\n\nPackingnya ada kardus dan bubble warp tapi bubble warpnya tipis sekali.. Untung aman sampai ditujuan... Pengirimannya lumayan .. Kurir ramah .. Sudah dicoba aman semuanya",
          "detailed_rating": {
           "delivery_service": 5,
           "driver_service": null,
           "product_quality": 5,
           "seller_service": 5
          },
          "images": [
           "id-11134103-7qul9-lk3iuhc5q59m3b",
           "id-11134103-7qul8-lk3iuhc5rju2ef",
           "id-11134103-7qukx-lk3iuhc5syeia0"
          ],
          "index": 35,
          "like_count": 6,
          "rating_star": 5,
          "videos": [
           {
            "cover": "https://down-ws-sg.img.susercontent.com/id-11110103-7qul4-lk3ivnfxoisbe4",
            "cover_image_id": "sg-11134206-7qven-lk7hora1po9e92",
            "duration": 6038,
            "highlight": {
             "cover": "https://play-ws.vod.shopee.com/c3/98934353/160/A3oyOcwaALy0g18nETUFACc.jpg",
             "cover_image_id": "",
             "duration": 2960,
             "highlight": null,
             "id": "sg-11110160-6jrp5-lk7hqakkvlnafc",
             "mms_ext": "{\"vid\":\"sg-11110160-6jrp5-lk7hqakkvlnafc\",\"biz\":103,\"duration\":2960,\"create_time\":1691543983,\"serviceID\":6,\"cover\":\"https://play-ws.vod.shopee.com/c3/98934353/160/A3oyOcwaALy0g18nETUFACc.jpg\",\"cover_list\":null,\"formats\":[],\"default_format\":{\"format\":600001,\"defn\":\"ORI\",\"profile\":\"MP4\",\"path\":\"\",\"url\":\"https://play-ws.vod.shopee.com/c3/98934353/160/A3oyOcauAFy0g18nIRQCCwAn.mp4\",\"width\":250,\"height\":250,\"bitrate\":174505,\"size\":66478,\"fps\":25,\"duration\":2960,\"update_time\":1691543984},\"extend_formats\":{\"H265\":[{\"format\":1600305,\"defn\":\"V270P\",\"profile\":\"MP4\",\"path\":\"api/v4/11110160/mms/sg-11110160-6jrp5-lk7hqakkvlnafc.16003051691543990.mp4\",\"url\":\"https://play-ws.vod.shopee.com/api/v4/11110160/mms/sg-11110160-6jrp5-lk7hqakkvlnafc.16003051691543990.mp4\",\"width\":250,\"height\":250,\"bitrate\":93369,\"size\":38384,\"fps\":25.34247,\"duration\":2920,\"update_time\":1691543986}]},\"ab_test\":\"\"}",
             "upload_time": null,
             "url": "https://play-ws.vod.shopee.com/c3/98934353/160/A3oyOcauAFy0g18nIRQCCwAn.mp4"
            },
            "id": "id-11110103-6jt7g-lk3ivnfxn47v6a",
            "mms_ext": "{\"vid\":\"id-11110103-6jt7g-lk3ivnfxn47v6a\",\"biz\":103,\"duration\":6038,\"create_time\":1691303785,\"serviceID\":6,\"cover\":\"https://down-ws-sg.img.susercontent.com/id-11110103-7qul4-lk3ivnfxoisbe4\",\"cover_list\":null,\"formats\":[{\"format\":1600408,\"defn\":\"V360P\",\"profile\":\"MP4\",\"path\":\"api/v4/11110103/mms/id-11110103-6jt7g-lk3ivnfxn47v6a.16004081692054389.mp4\",\"url\":\"https://play-ws.vod.shopee.com/api/v4/11110103/mms/id-11110103-6jt7g-lk3ivnfxn47v6a.16004081692054389.mp4\",\"width\":360,\"height\":640,\"bitrate\":190579,\"size\":156821,\"fps\":25.16892,\"duration\":6038,\"update_time\":1692054390},{\"format\":1600046,\"defn\":\"V480P\",\"profile\":\"MP4\",\"path\":\"api/v4/11110103/mms/id-11110103-6jt7g-lk3ivnfxn47v6a.16000461691303791.mp4\",\"url\":\"https://play-ws.vod.shopee.com/api/v4/11110103/mms/id-11110103-6jt7g-lk3ivnfxn47v6a.16000461691303791.mp4\",\"width\":480,\"height\":854,\"bitrate\":605800,\"size\":525805,\"fps\":25.16892,\"duration\":6038,\"update_time\":1691303795},{\"format\":1600409,\"defn\":\"V540P\",\"profile\":\"MP4\",\"path\":\"api/v4/11110103/mms/id-11110103-6jt7g-lk3ivnfxn47v6a.16004091692054391.mp4\",\"url\":\"https://play-ws.vod.shopee.com/api/v4/11110103/mms/id-11110103-6jt7g-lk3ivnfxn47v6a.16004091692054391.mp4\",\"width\":540,\"height\":960,\"bitrate\":385597,\"size\":301110,\"fps\":25.16892,\"duration\":6038,\"update_time\":1692054395},{\"format\":1600005,\"defn\":\"V640P\",\"profile\":\"MP4\",\"path\":\"api/v4/11110103/mms/id-11110103-6jt7g-lk3ivnfxn47v6a.16000051691303786.mp4\",\"url\":\"https://play-ws.vod.shopee.com/api/v4/11110103/mms/id-11110103-6jt7g-lk3ivnfxn47v6a.16000051691303786.mp4\",\"width\":540,\"height\":960,\"bitrate\":691562,\"size\":590857,\"fps\":25.16892,\"duration\":6038,\"update_time\":1691303790}],\"default_format\":{\"format\":600001,\"defn\":\"ORI\",\"profile\":\"MP4\",\"path\":\"\",\"url\":\"https://play-ws.vod.shopee.com/api/v4/11110103/mms/id-11110103-6jt7g-lk3ivnfxn47v6a.mp4\",\"width\":540,\"height\":960,\"bitrate\":1589563,\"size\":1280660,\"fps\":14.16884,\"duration\":6038,\"update_time\":1691303786},\"extend_formats\":{\"H265\":[{\"format\":1600412,\"defn\":\"V360P\",\"profile\":\"MP4\",\"path\":\"api/v4/11110103/mms/id-11110103-6jt7g-lk3ivnfxn47v6a.16004121692054391.mp4\",\"url\":\"https://play-ws.vod.shopee.com/api/v4/11110103/mms/id-11110103-6jt7g-lk3ivnfxn47v6a.16004121692054391.mp4\",\"width\":360,\"height\":640,\"bitrate\":177604,\"size\":149853,\"fps\":25.16892,\"duration\":6038,\"update_time\":1692054397},{\"format\":1600304,\"defn\":\"V480P\",\"profile\":\"MP4\",\"path\":\"api/v4/11110103/mms/id-11110103-6jt7g-lk3ivnfxn47v6a.16003041691303791.mp4\",\"url\":\"https://play-ws.vod.shopee.com/api/v4/11110103/mms/id-11110103-6jt7g-lk3ivnfxn47v6a.16003041691303791.mp4\",\"width\":480,\"height\":854,\"bitrate\":282040,\"size\":290432,\"fps\":25.16892,\"duration\":6038,\"update_time\":1691303797},{\"format\":1600413,\"defn\":\"V540P\",\"profile\":\"MP4\",\"path\":\"api/v4/11110103/mms/id-11110103-6jt7g-lk3ivnfxn47v6a.16004131692054391.mp4\",\"url\":\"https://play-ws.vod.shopee.com/api/v4/11110103/mms/id-11110103-6jt7g-lk3ivnfxn47v6a.16004131692054391.mp4\",\"width\":540,\"height\":960,\"bitrate\":251005,\"size\":204171,\"fps\":25.16892,\"duration\":6038,\"update_time\":1692054398},{\"format\":1600308,\"defn\":\"V640P\",\"profile\":\"MP4\",\"path\":\"api/v4/11110103/mms/id-11110103-6jt7g-lk3ivnfxn47v6a.16003081691350580.mp4\",\"url\":\"https://play-ws.vod.shopee.com/api/v4/11110103/mms/id-11110103-6jt7g-lk3ivnfxn47v6a.16003081691350580.mp4\",\"width\":540,\"height\":960,\"bitrate\":375679,\"size\":384002,\"fps\":25.16892,\"duration\":6038,\"update_time\":1691350588}]},\"ab_test\":\"\"}",
            "upload_time": null,
            "url": "https://play-ws.vod.shopee.com/api/v4/11110103/mms/id-11110103-6jt7g-lk3ivnfxn47v6a.16004081692054389.mp4"
           }
          ]
         },
         {
          "author_username": "dientrisna",
          "comment": "Fitur Terbaik:nfc, ip53, 8/256, charger\nSepadan dengan Harga:lumayan\n\nKelengkapan bawaan hp lumayan banyak untuk harga 2.2 juta.\nDari rom/ ram besar, charger, casing plastik, nfc serta sertifikat ip53.\nHanya pengirimannya saja lama lewat 1 hari dari tanggal perkiraan.\nDi terima lengkap di 73% penyetelan serta dimainkan game bertahan 6 jaman.\nDi charge 0% keadaan mati 2 jam 15 menit sampai 100%.",
          "detailed_rating": {
           "delivery_service": 2,
           "driver_service": null,
           "product_quality": 5,
           "seller_service": 4
          },
          "images": [
           "id-11134103-7qul9-lkf0shn51i2e61",
           "id-11134103-7qul0-lkf0shn52wmu2b",
           "id-11134103-7qul2-lkf0shn54b7a06",
           "id-11134103-7qukx-lkf0shn55prq2e"
          ],
          "index": 36,
          "like_count": 35,
          "rating_star": 5,
          "videos": [
           {
            "cover": "https://down-aka-sg.img.susercontent.com/id-11110103-23080-cc34jwdsbpuv07",
            "cover_image_id": "sg-11134206-7r98o-lkk9jz25x81ne6",
            "duration": 12005,
            "highlight": {
             "cover": "https://play-ws.vod.shopee.com/c3/98934353/160/A3oyOekDAAgO4BcoEYcCACc.jpg",
             "cover_image_id": "",
             "duration": 3119,
             "highlight": null,
             "id": "sg-11110160-6ke14-lkk9lco77c8e7c",
             "mms_ext": "{\"vid\":\"sg-11110160-6ke14-lkk9lco77c8e7c\",\"biz\":103,\"duration\":3119,\"create_time\":1692317247,\"serviceID\":6,\"cover\":\"https://play-ws.vod.shopee.com/c3/98934353/160/A3oyOekDAAgO4BcoEYcCACc.jpg\",\"cover_list\":null,\"formats\":[],\"default_format\":{\"format\":600001,\"defn\":\"ORI\",\"profile\":\"MP4\",\"path\":\"\",\"url\":\"https://play-ws.vod.shopee.com/c3/98934353/160/A3oyOQdxAKAN4BcoEYcBACc.mp4\",\"width\":250,\"height\":250,\"bitrate\":261751,\"size\":104020,\"fps\":25,\"duration\":3119,\"update_time\":1692317248},\"extend_formats\":{\"H265\":[{\"format\":1600305,\"defn\":\"V270P\",\"profile\":\"MP4\",\"path\":\"api/v4/11110160/mms/sg-11110160-6ke14-lkk9lco77c8e7c.16003051692317255.mp4\",\"url\":\"https://play-ws.vod.shopee.com/api/v4/11110160/mms/sg-11110160-6ke14-lkk9lco77c8e7c.16003051692317255.mp4\",\"width\":250,\"height\":250,\"bitrate\":142568,\"size\":59245,\"fps\":25.32467,\"duration\":3079,\"update_time\":1692317250}]},\"ab_test\":\"\"}",
             "upload_time": null,
             "url": "https://play-ws.vod.shopee.com/c3/98934353/160/A3oyOQdxAKAN4BcoEYcBACc.mp4"
            },
            "id": "id-11110103-6jt7l-lkf1huzifn7md3",
            "mms_ext": "{\"vid\":\"id-11110103-6jt7l-lkf1huzifn7md3\",\"biz\":103,\"duration\":12005,\"create_time\":1692000977,\"serviceID\":6,\"cover\":\"https://down-aka-sg.img.susercontent.com/id-11110103-23080-cc34jwdsbpuv07\",\"cover_list\":null,\"formats\":[{\"format\":1600323,\"defn\":\"V540P\",\"profile\":\"MP4\",\"path\":\"api/v4/11110103/mms/id-11110103-6jt7l-lkf1huzifn7md3.default.mp4\",\"url\":\"https://play-ws.vod.shopee.com/api/v4/11110103/mms/id-11110103-6jt7l-lkf1huzifn7md3.default.mp4\",\"width\":540,\"height\":960,\"bitrate\":485442,\"size\":926356,\"fps\":25.08389,\"duration\":12010,\"update_time\":1692000998},{\"format\":1600005,\"defn\":\"V640P\",\"profile\":\"MP4\",\"path\":\"api/v4/11110103/mms/id-11110103-6jt7l-lkf1huzifn7md3.16000051692000978.mp4\",\"url\":\"https://play-ws.vod.shopee.com/api/v4/11110103/mms/id-11110103-6jt7l-lkf1huzifn7md3.16000051692000978.mp4\",\"width\":640,\"height\":1138,\"bitrate\":851064,\"size\":1423852,\"fps\":25.08389,\"duration\":12005,\"update_time\":1692000990}],\"default_format\":{\"format\":600001,\"defn\":\"ORI\",\"profile\":\"MP4\",\"path\":\"\",\"url\":\"https://play-ws.vod.shopee.com/c3/98934353/103/A3oyOU-xAMT4d8wnEbQIACY.mp4\",\"width\":720,\"height\":1280,\"bitrate\":2701884,\"size\":4226508,\"fps\":30.08436,\"duration\":12005,\"update_time\":1692000977},\"extend_formats\":{\"H265\":[{\"format\":1600304,\"defn\":\"V480P\",\"profile\":\"MP4\",\"path\":\"api/v4/11110103/mms/id-11110103-6jt7l-lkf1huzifn7md3.16003041692039437.mp4\",\"url\":\"https://play-ws.vod.shopee.com/api/v4/11110103/mms/id-11110103-6jt7l-lkf1huzifn7md3.16003041692039437.mp4\",\"width\":480,\"height\":854,\"bitrate\":504246,\"size\":909872,\"fps\":25.08389,\"duration\":12005,\"update_time\":1692039455},{\"format\":1600307,\"defn\":\"V540P\",\"profile\":\"MP4\",\"path\":\"api/v4/11110103/mms/id-11110103-6jt7l-lkf1huzifn7md3.16003071692000991.mp4\",\"url\":\"https://play-ws.vod.shopee.com/api/v4/11110103/mms/id-11110103-6jt7l-lkf1huzifn7md3.16003071692000991.mp4\",\"width\":540,\"height\":960,\"bitrate\":566716,\"size\":1051062,\"fps\":25.08389,\"duration\":12005,\"update_time\":1692001009},{\"format\":1600308,\"defn\":\"V640P\",\"profile\":\"MP4\",\"path\":\"api/v4/11110103/mms/id-11110103-6jt7l-lkf1huzifn7md3.16003081692000991.mp4\",\"url\":\"https://play-ws.vod.shopee.com/api/v4/11110103/mms/id-11110103-6jt7l-lkf1huzifn7md3.16003081692000991.mp4\",\"width\":640,\"height\":1138,\"bitrate\":714453,\"size\":1271176,\"fps\":25.08389,\"duration\":12005,\"update_time\":1692001024}]},\"ab_test\":\"\"}",
            "upload_time": null,
            "url": "https://play-ws.vod.shopee.com/api/v4/11110103/mms/id-11110103-6jt7l-lkf1huzifn7md3.default.mp4"
           }
          ]
         },
         {
          "author_username": "irahamelberg93",
          "comment": "Sepadan dengan Harga:Keren bangettt\nFitur Terbaik:Bagus Bangettt\n\nKeren HP nya original pengiriman aman. Design keren parah sukaaa elegant bgt. Thank you seller ❤❤❤",
          "detailed_rating": {
           "delivery_service": 5,
           "driver_service": null,
           "product_quality": 5,
           "seller_service": 5
          },
          "images": [
           "id-11134103-7qul5-lkb6q8cgd002db",
           "id-11134103-7qul3-lkb6q8aifu3u2c",
           "id-11134103-7qukw-lkb6q8aifulyb6",
           "id-11134103-7qul4-lkb6q8aih96e7b"
          ],
          "index": 37,
          "like_count": 3,
          "rating_star": 5,
          "videos": [
           {
            "cover": "https://down-aka-sg.img.susercontent.com/id-11110103-23080-m2qqeqb1gluvde",
            "cover_image_id": "sg-11134206-7r98o-lkjl7x0hvlpk61",
            "duration": 20434,
            "highlight": {
             "cover": "https://play-ws.vod.shopee.com/c3/98934353/160/A3oyOWmuAIwxIA4oEYYEACc.jpg",
             "cover_image_id": "",
             "duration": 3119,
             "highlight": null,
             "id": "sg-11110160-6ke14-lkjl9vnqhvoo33",
             "mms_ext": "{\"vid\":\"sg-11110160-6ke14-lkjl9vnqhvoo33\",\"biz\":103,\"duration\":3119,\"create_time\":1692276355,\"serviceID\":6,\"cover\":\"https://play-ws.vod.shopee.com/c3/98934353/160/A3oyOWmuAIwxIA4oEYYEACc.jpg\",\"cover_list\":null,\"formats\":[],\"default_format\":{\"format\":600001,\"defn\":\"ORI\",\"profile\":\"MP4\",\"path\":\"\",\"url\":\"https://play-ws.vod.shopee.com/c3/98934353/160/A3oyOVFeAAAxIA4oEYkCACc.mp4\",\"width\":250,\"height\":250,\"bitrate\":263141,\"size\":104563,\"fps\":25,\"duration\":3119,\"update_time\":1692276356},\"extend_formats\":{\"H265\":[{\"format\":1600305,\"defn\":\"V270P\",\"profile\":\"MP4\",\"path\":\"api/v4/11110160/mms/sg-11110160-6ke14-lkjl9vnqhvoo33.16003051692276363.mp4\",\"url\":\"https://play-ws.vod.shopee.com/api/v4/11110160/mms/sg-11110160-6ke14-lkjl9vnqhvoo33.16003051692276363.mp4\",\"width\":250,\"height\":250,\"bitrate\":112384,\"size\":47616,\"fps\":25.32467,\"duration\":3079,\"update_time\":1692276359}]},\"ab_test\":\"\"}",
             "upload_time": null,
             "url": "https://play-ws.vod.shopee.com/c3/98934353/160/A3oyOVFeAAAxIA4oEYkCACc.mp4"
            },
            "id": "id-11110103-6jt7n-lkb6pl0aihjoad",
            "mms_ext": "{\"vid\":\"id-11110103-6jt7n-lkb6pl0aihjoad\",\"biz\":103,\"duration\":20434,\"create_time\":1691767617,\"serviceID\":2,\"cover\":\"https://down-aka-sg.img.susercontent.com/id-11110103-23080-m2qqeqb1gluvde\",\"cover_list\":null,\"formats\":[{\"format\":1600323,\"defn\":\"V540P\",\"profile\":\"MP4\",\"path\":\"api/v4/11110103/mms/id-11110103-6jt7n-lkb6pl0aihjoad.default.mp4\",\"url\":\"https://play-ws.vod.shopee.com/api/v4/11110103/mms/id-11110103-6jt7n-lkb6pl0aihjoad.default.mp4\",\"width\":540,\"height\":960,\"bitrate\":467927,\"size\":1535697,\"fps\":25.04912,\"duration\":20437,\"update_time\":1691767646},{\"format\":1600005,\"defn\":\"V640P\",\"profile\":\"MP4\",\"path\":\"api/v4/11110103/mms/id-11110103-6jt7n-lkb6pl0aihjoad.16000051691767619.mp4\",\"url\":\"https://play-ws.vod.shopee.com/api/v4/11110103/mms/id-11110103-6jt7n-lkb6pl0aihjoad.16000051691767619.mp4\",\"width\":640,\"height\":1138,\"bitrate\":812682,\"size\":2333068,\"fps\":25.04912,\"duration\":20434,\"update_time\":1691767634}],\"default_format\":{\"format\":600001,\"defn\":\"ORI\",\"profile\":\"MP4\",\"path\":\"\",\"url\":\"https://play-ws.vod.shopee.com/api/v4/11110103/mms/id-11110103-6jt7n-lkb6pl0aihjoad.ori.mp4\",\"width\":720,\"height\":1280,\"bitrate\":2483749,\"size\":6673130,\"fps\":30.04939,\"duration\":20434,\"update_time\":1691767618},\"extend_formats\":{\"H265\":[{\"format\":1600304,\"defn\":\"V480P\",\"profile\":\"MP4\",\"path\":\"api/v4/11110103/mms/id-11110103-6jt7n-lkb6pl0aihjoad.16003041691867293.mp4\",\"url\":\"https://play-ws.vod.shopee.com/api/v4/11110103/mms/id-11110103-6jt7n-lkb6pl0aihjoad.16003041691867293.mp4\",\"width\":480,\"height\":854,\"bitrate\":365754,\"size\":1198617,\"fps\":25.04912,\"duration\":20434,\"update_time\":1691867322},{\"format\":1600307,\"defn\":\"V540P\",\"profile\":\"MP4\",\"path\":\"api/v4/11110103/mms/id-11110103-6jt7n-lkb6pl0aihjoad.16003071691767635.mp4\",\"url\":\"https://play-ws.vod.shopee.com/api/v4/11110103/mms/id-11110103-6jt7n-lkb6pl0aihjoad.16003071691767635.mp4\",\"width\":540,\"height\":960,\"bitrate\":430409,\"size\":1444877,\"fps\":25.04912,\"duration\":20434,\"update_time\":1691767661},{\"format\":1600308,\"defn\":\"V640P\",\"profile\":\"MP4\",\"path\":\"api/v4/11110103/mms/id-11110103-6jt7n-lkb6pl0aihjoad.16003081691767635.mp4\",\"url\":\"https://play-ws.vod.shopee.com/api/v4/11110103/mms/id-11110103-6jt7n-lkb6pl0aihjoad.16003081691767635.mp4\",\"width\":640,\"height\":1138,\"bitrate\":547750,\"size\":1743512,\"fps\":25.04912,\"duration\":20434,\"update_time\":1691767669}]},\"ab_test\":\"\"}",
            "upload_time": null,
            "url": "https://play-ws.vod.shopee.com/api/v4/11110103/mms/id-11110103-6jt7n-lkb6pl0aihjoad.default.mp4"
           }
          ]
         },
         {
          "author_username": "a*****8",
          "comment": "Sepadan dengan Harga:Murah\nFitur Terbaik:ok\n\nOri 100%, sesuai dgn spek nya yg datang, warna hp nya jg sesuai dgn yg di pilih. Pengiriman cepat. Cuma kardusnya gepeng, mungkin dri pihak pengirimannya yg kurang bagus. Sudah 2x pesan di sini dan yg datang sangat memuaskan. Terima kasih banyak XIAOMIINDONESIA",
          "detailed_rating": {
           "delivery_service": 2,
           "driver_service": null,
           "product_quality": 5,
           "seller_service": 3
          },
          "images": [
           "id-11134103-7qukx-lk6oljqyesfb06",
           "id-11134103-7qukx-lk6oljqyessj04",
           "id-11134103-7qul5-lk6oljswbybj05",
           "id-11134103-7qul2-lk6oljswby1u02"
          ],
          "index": 38,
          "like_count": 6,
          "rating_star": 5,
          "videos": [
           {
            "cover": "https://down-aka-sg.img.susercontent.com/id-11110103-23080-qbdv2kuyyguv93",
            "cover_image_id": "sg-11134206-7qvd2-lk6oq4gddssy50",
            "duration": 6849,
            "highlight": {
             "cover": "https://play-ws.vod.shopee.com/c3/98934353/160/A3oyORB1ACiA5lMnIT8BBAAn.jpg",
             "cover_image_id": "",
             "duration": 3079,
             "highlight": null,
             "id": "sg-11110160-6jroq-lk6ordrv2by6c4",
             "mms_ext": "{\"vid\":\"sg-11110160-6jroq-lk6ordrv2by6c4\",\"biz\":103,\"duration\":3079,\"create_time\":1691495270,\"serviceID\":6,\"cover\":\"https://play-ws.vod.shopee.com/c3/98934353/160/A3oyORB1ACiA5lMnIT8BBAAn.jpg\",\"cover_list\":null,\"formats\":[],\"default_format\":{\"format\":600001,\"defn\":\"ORI\",\"profile\":\"MP4\",\"path\":\"\",\"url\":\"https://play-ws.vod.shopee.com/c3/98934353/160/A3oyORQqAKx=5lMnESAAACc.mp4\",\"width\":250,\"height\":250,\"bitrate\":393914,\"size\":153600,\"fps\":25,\"duration\":3079,\"update_time\":1691495271},\"extend_formats\":{\"H265\":[{\"format\":1600305,\"defn\":\"V270P\",\"profile\":\"MP4\",\"path\":\"api/v4/11110160/mms/sg-11110160-6jroq-lk6ordrv2by6c4.16003051691495277.mp4\",\"url\":\"https://play-ws.vod.shopee.com/api/v4/11110160/mms/sg-11110160-6jroq-lk6ordrv2by6c4.16003051691495277.mp4\",\"width\":250,\"height\":250,\"bitrate\":180831,\"size\":73067,\"fps\":25.32895,\"duration\":3039,\"update_time\":1691495274}]},\"ab_test\":\"\"}",
             "upload_time": null,
             "url": "https://play-ws.vod.shopee.com/c3/98934353/160/A3oyORQqAKx=5lMnESAAACc.mp4"
            },
            "id": "id-11110103-6jt7m-lk6oo4iinqvs2a",
            "mms_ext": "{\"vid\":\"id-11110103-6jt7m-lk6oo4iinqvs2a\",\"biz\":103,\"duration\":6849,\"create_time\":1691495143,\"serviceID\":2,\"cover\":\"https://down-aka-sg.img.susercontent.com/id-11110103-23080-qbdv2kuyyguv93\",\"cover_list\":null,\"formats\":[{\"format\":1600408,\"defn\":\"V360P\",\"profile\":\"MP4\",\"path\":\"api/v4/11110103/mms/id-11110103-6jt7m-lk6oo4iinqvs2a.16004081691821380.mp4\",\"url\":\"https://play-ws.vod.shopee.com/api/v4/11110103/mms/id-11110103-6jt7m-lk6oo4iinqvs2a.16004081691821380.mp4\",\"width\":360,\"height\":640,\"bitrate\":359673,\"size\":393786,\"fps\":25.14793,\"duration\":6849,\"update_time\":1691821384},{\"format\":1600322,\"defn\":\"V360P\",\"profile\":\"MP4\",\"path\":\"api/v4/11110103/mms/id-11110103-6jt7m-lk6oo4iinqvs2a.16003221691779820.mp4\",\"url\":\"https://play-ws.vod.shopee.com/api/v4/11110103/mms/id-11110103-6jt7m-lk6oo4iinqvs2a.16003221691779820.mp4\",\"width\":360,\"height\":640,\"bitrate\":220949,\"size\":275992,\"fps\":25.14793,\"duration\":6869,\"update_time\":1691779823},{\"format\":1600409,\"defn\":\"V540P\",\"profile\":\"MP4\",\"path\":\"api/v4/11110103/mms/id-11110103-6jt7m-lk6oo4iinqvs2a.16004091691821385.mp4\",\"url\":\"https://play-ws.vod.shopee.com/api/v4/11110103/mms/id-11110103-6jt7m-lk6oo4iinqvs2a.16004091691821385.mp4\",\"width\":540,\"height\":960,\"bitrate\":678200,\"size\":690126,\"fps\":25.14793,\"duration\":6849,\"update_time\":1691821389},{\"format\":1600323,\"defn\":\"V540P\",\"profile\":\"MP4\",\"path\":\"api/v4/11110103/mms/id-11110103-6jt7m-lk6oo4iinqvs2a.default.mp4\",\"url\":\"https://play-ws.vod.shopee.com/api/v4/11110103/mms/id-11110103-6jt7m-lk6oo4iinqvs2a.default.mp4\",\"width\":540,\"height\":960,\"bitrate\":498846,\"size\":538373,\"fps\":25.14793,\"duration\":6869,\"update_time\":1691495158},{\"format\":1600005,\"defn\":\"V640P\",\"profile\":\"MP4\",\"path\":\"api/v4/11110103/mms/id-11110103-6jt7m-lk6oo4iinqvs2a.16000051691495145.mp4\",\"url\":\"https://play-ws.vod.shopee.com/api/v4/11110103/mms/id-11110103-6jt7m-lk6oo4iinqvs2a.16000051691495145.mp4\",\"width\":640,\"height\":1138,\"bitrate\":863370,\"size\":819468,\"fps\":25.14793,\"duration\":6849,\"update_time\":1691495151},{\"format\":1600410,\"defn\":\"V720P\",\"profile\":\"MP4\",\"path\":\"api/v4/11110103/mms/id-11110103-6jt7m-lk6oo4iinqvs2a.16004101691821385.mp4\",\"url\":\"https://play-ws.vod.shopee.com/api/v4/11110103/mms/id-11110103-6jt7m-lk6oo4iinqvs2a.16004101691821385.mp4\",\"width\":720,\"height\":1280,\"bitrate\":1138885,\"size\":1079417,\"fps\":25.14793,\"duration\":6849,\"update_time\":1691821393},{\"format\":1600411,\"defn\":\"V720P\",\"profile\":\"MP4\",\"path\":\"api/v4/11110103/mms/id-11110103-6jt7m-lk6oo4iinqvs2a.16004111691821385.mp4\",\"url\":\"https://play-ws.vod.shopee.com/api/v4/11110103/mms/id-11110103-6jt7m-lk6oo4iinqvs2a.16004111691821385.mp4\",\"width\":720,\"height\":1280,\"bitrate\":1240532,\"size\":1165309,\"fps\":25.14793,\"duration\":6849,\"update_time\":1691821393},{\"format\":1600324,\"defn\":\"V720P\",\"profile\":\"MP4\",\"path\":\"api/v4/11110103/mms/id-11110103-6jt7m-lk6oo4iinqvs2a.16003241691779820.mp4\",\"url\":\"https://play-ws.vod.shopee.com/api/v4/11110103/mms/id-11110103-6jt7m-lk6oo4iinqvs2a.16003241691779820.mp4\",\"width\":720,\"height\":1280,\"bitrate\":838203,\"size\":825114,\"fps\":25.14793,\"duration\":6869,\"update_time\":1691779826},{\"format\":1600325,\"defn\":\"V720P\",\"profile\":\"MP4\",\"path\":\"api/v4/11110103/mms/id-11110103-6jt7m-lk6oo4iinqvs2a.16003251691779820.mp4\",\"url\":\"https://play-ws.vod.shopee.com/api/v4/11110103/mms/id-11110103-6jt7m-lk6oo4iinqvs2a.16003251691779820.mp4\",\"width\":720,\"height\":1280,\"bitrate\":1511068,\"size\":1393685,\"fps\":25.14793,\"duration\":6869,\"update_time\":1691779827}],\"default_format\":{\"format\":600001,\"defn\":\"ORI\",\"profile\":\"MP4\",\"path\":\"\",\"url\":\"https://play-ws.vod.shopee.com/api/v4/11110103/mms/id-11110103-6jt7m-lk6oo4iinqvs2a.ori.mp4\",\"width\":720,\"height\":1280,\"bitrate\":1511015,\"size\":1405389,\"fps\":30,\"duration\":6849,\"update_time\":1691495144},\"extend_formats\":{\"H265\":[{\"format\":1600412,\"defn\":\"V360P\",\"profile\":\"MP4\",\"path\":\"api/v4/11110103/mms/id-11110103-6jt7m-lk6oo4iinqvs2a.16004121691821385.mp4\",\"url\":\"https://play-ws.vod.shopee.com/api/v4/11110103/mms/id-11110103-6jt7m-lk6oo4iinqvs2a.16004121691821385.mp4\",\"width\":360,\"height\":640,\"bitrate\":242195,\"size\":297172,\"fps\":25.14793,\"duration\":6849,\"update_time\":1691821395},{\"format\":1600315,\"defn\":\"V360P\",\"profile\":\"MP4\",\"path\":\"api/v4/11110103/mms/id-11110103-6jt7m-lk6oo4iinqvs2a.16003151691779820.mp4\",\"url\":\"https://play-ws.vod.shopee.com/api/v4/11110103/mms/id-11110103-6jt7m-lk6oo4iinqvs2a.16003151691779820.mp4\",\"width\":360,\"height\":640,\"bitrate\":292350,\"size\":339622,\"fps\":25.14793,\"duration\":6849,\"update_time\":1691779827},{\"format\":1600304,\"defn\":\"V480P\",\"profile\":\"MP4\",\"path\":\"api/v4/11110103/mms/id-11110103-6jt7m-lk6oo4iinqvs2a.16003041691519511.mp4\",\"url\":\"https://play-ws.vod.shopee.com/api/v4/11110103/mms/id-11110103-6jt7m-lk6oo4iinqvs2a.16003041691519511.mp4\",\"width\":480,\"height\":854,\"bitrate\":558932,\"size\":564887,\"fps\":25.14793,\"duration\":6849,\"update_time\":1691519521},{\"format\":1600413,\"defn\":\"V540P\",\"profile\":\"MP4\",\"path\":\"api/v4/11110103/mms/id-11110103-6jt7m-lk6oo4iinqvs2a.16004131691821385.mp4\",\"url\":\"https://play-ws.vod.shopee.com/api/v4/11110103/mms/id-11110103-6jt7m-lk6oo4iinqvs2a.16004131691821385.mp4\",\"width\":540,\"height\":960,\"bitrate\":425655,\"size\":479406,\"fps\":25.14793,\"duration\":6849,\"update_time\":1691821395},{\"format\":1600307,\"defn\":\"V540P\",\"profile\":\"MP4\",\"path\":\"api/v4/11110103/mms/id-11110103-6jt7m-lk6oo4iinqvs2a.16003071691495153.mp4\",\"url\":\"https://play-ws.vod.shopee.com/api/v4/11110103/mms/id-11110103-6jt7m-lk6oo4iinqvs2a.16003071691495153.mp4\",\"width\":540,\"height\":960,\"bitrate\":588848,\"size\":617309,\"fps\":25.14793,\"duration\":6849,\"update_time\":1691495166},{\"format\":1600316,\"defn\":\"V540P\",\"profile\":\"MP4\",\"path\":\"api/v4/11110103/mms/id-11110103-6jt7m-lk6oo4iinqvs2a.16003161691779820.mp4\",\"url\":\"https://play-ws.vod.shopee.com/api/v4/11110103/mms/id-11110103-6jt7m-lk6oo4iinqvs2a.16003161691779820.mp4\",\"width\":540,\"height\":960,\"bitrate\":487266,\"size\":531471,\"fps\":25.14793,\"duration\":6849,\"update_time\":1691779836},{\"format\":1600308,\"defn\":\"V640P\",\"profile\":\"MP4\",\"path\":\"api/v4/11110103/mms/id-11110103-6jt7m-lk6oo4iinqvs2a.16003081691495153.mp4\",\"url\":\"https://play-ws.vod.shopee.com/api/v4/11110103/mms/id-11110103-6jt7m-lk6oo4iinqvs2a.16003081691495153.mp4\",\"width\":640,\"height\":1138,\"bitrate\":761531,\"size\":763229,\"fps\":25.14793,\"duration\":6849,\"update_time\":1691495171},{\"format\":1600414,\"defn\":\"V720P\",\"profile\":\"MP4\",\"path\":\"api/v4/11110103/mms/id-11110103-6jt7m-lk6oo4iinqvs2a.16004141691821385.mp4\",\"url\":\"https://play-ws.vod.shopee.com/api/v4/11110103/mms/id-11110103-6jt7m-lk6oo4iinqvs2a.16004141691821385.mp4\",\"width\":720,\"height\":1280,\"bitrate\":707131,\"size\":717259,\"fps\":25.14793,\"duration\":6849,\"update_time\":1691821406},{\"format\":1600415,\"defn\":\"V720P\",\"profile\":\"MP4\",\"path\":\"api/v4/11110103/mms/id-11110103-6jt7m-lk6oo4iinqvs2a.16004151691821385.mp4\",\"url\":\"https://play-ws.vod.shopee.com/api/v4/11110103/mms/id-11110103-6jt7m-lk6oo4iinqvs2a.16004151691821385.mp4\",\"width\":720,\"height\":1280,\"bitrate\":733429,\"size\":739482,\"fps\":25.14793,\"duration\":6849,\"update_time\":1691821404},{\"format\":1600317,\"defn\":\"V720P\",\"profile\":\"MP4\",\"path\":\"api/v4/11110103/mms/id-11110103-6jt7m-lk6oo4iinqvs2a.16003171691779820.mp4\",\"url\":\"https://play-ws.vod.shopee.com/api/v4/11110103/mms/id-11110103-6jt7m-lk6oo4iinqvs2a.16003171691779820.mp4\",\"width\":720,\"height\":1280,\"bitrate\":763753,\"size\":765105,\"fps\":25.14793,\"duration\":6849,\"update_time\":1691779847},{\"format\":1600318,\"defn\":\"V720P\",\"profile\":\"MP4\",\"path\":\"api/v4/11110103/mms/id-11110103-6jt7m-lk6oo4iinqvs2a.16003181691779820.mp4\",\"url\":\"https://play-ws.vod.shopee.com/api/v4/11110103/mms/id-11110103-6jt7m-lk6oo4iinqvs2a.16003181691779820.mp4\",\"width\":720,\"height\":1280,\"bitrate\":909810,\"size\":888524,\"fps\":25.14793,\"duration\":6849,\"update_time\":1691779838}]},\"ab_test\":\"\"}",
            "upload_time": null,
            "url": "https://play-ws.vod.shopee.com/api/v4/11110103/mms/id-11110103-6jt7m-lk6oo4iinqvs2a.16004081691821380.mp4"
           }
          ]
         },
         {
          "author_username": "citranovelasari",
          "comment": "Sepadan dengan Harga:bagus sepadan dengan harga\nFitur Terbaik:all mirip iphone\n\nKualitas oke mirip iphone lah, dapet cashback coin 100+rb lumayan buat jajan lainnya",
          "detailed_rating": {
           "delivery_service": 5,
           "driver_service": null,
           "product_quality": 5,
           "seller_service": 5
          },
          "images": [
           "id-11134103-7r98o-lknpmzxrpjxnd2",
           "id-11134103-7r98o-lknpmzxrqyi38d",
           "id-11134103-7r98o-lknpmzxrsd2jda",
           "id-11134103-7r98o-lknpmzxrtrmzf8",
           "id-11134103-7r98o-lknpmzxrv67f52"
          ],
          "index": 39,
          "like_count": 2,
          "rating_star": 5,
          "videos": [
           {
            "cover": "https://down-aka-sg.img.susercontent.com/id-11110103-7r98o-lknpoycynlwge5",
            "cover_image_id": "sg-11134206-7rbk0-lko6u5rp4gu193",
            "duration": 25518,
            "highlight": {
             "cover": "https://play-ws.vod.shopee.com/c3/98934353/160/A3oyOY7sADxJiFAoEYcFACc.jpg",
             "cover_image_id": "",
             "duration": 3079,
             "highlight": null,
             "id": "sg-11110160-6ke14-lko6wzzpkmij4f",
             "mms_ext": "{\"vid\":\"sg-11110160-6ke14-lko6wzzpkmij4f\",\"biz\":103,\"duration\":3079,\"create_time\":1692554884,\"serviceID\":6,\"cover\":\"https://play-ws.vod.shopee.com/c3/98934353/160/A3oyOY7sADxJiFAoEYcFACc.jpg\",\"cover_list\":null,\"formats\":[],\"default_format\":{\"format\":600001,\"defn\":\"ORI\",\"profile\":\"MP4\",\"path\":\"\",\"url\":\"https://play-ws.vod.shopee.com/c3/98934353/160/A3oyObOtAOhIiFAoEYQEACc.mp4\",\"width\":250,\"height\":250,\"bitrate\":207449,\"size\":81820,\"fps\":25,\"duration\":3079,\"update_time\":1692554885},\"extend_formats\":{\"H265\":[{\"format\":1600305,\"defn\":\"V270P\",\"profile\":\"MP4\",\"path\":\"api/v4/11110160/mms/sg-11110160-6ke14-lko6wzzpkmij4f.16003051692554893.mp4\",\"url\":\"https://play-ws.vod.shopee.com/api/v4/11110160/mms/sg-11110160-6ke14-lko6wzzpkmij4f.16003051692554893.mp4\",\"width\":250,\"height\":250,\"bitrate\":108381,\"size\":45536,\"fps\":25.32895,\"duration\":3039,\"update_time\":1692554887}]},\"ab_test\":\"\"}",
             "upload_time": null,
             "url": "https://play-ws.vod.shopee.com/c3/98934353/160/A3oyObOtAOhIiFAoEYQEACc.mp4"
            },
            "id": "id-11110103-6ke14-lknpoycym7c0bf",
            "mms_ext": "{\"vid\":\"id-11110103-6ke14-lknpoycym7c0bf\",\"biz\":103,\"duration\":25518,\"create_time\":1692526272,\"serviceID\":6,\"cover\":\"https://down-aka-sg.img.susercontent.com/id-11110103-7r98o-lknpoycynlwge5\",\"cover_list\":null,\"formats\":[{\"format\":1600323,\"defn\":\"V540P\",\"profile\":\"MP4\",\"path\":\"api/v4/11110103/mms/id-11110103-6ke14-lknpoycym7c0bf.default.mp4\",\"url\":\"https://play-ws.vod.shopee.com/api/v4/11110103/mms/id-11110103-6ke14-lknpoycym7c0bf.default.mp4\",\"width\":540,\"height\":960,\"bitrate\":438193,\"size\":1823199,\"fps\":25.03931,\"duration\":25535,\"update_time\":1692526318},{\"format\":1600005,\"defn\":\"V640P\",\"profile\":\"MP4\",\"path\":\"api/v4/11110103/mms/id-11110103-6ke14-lknpoycym7c0bf.16000051692526273.mp4\",\"url\":\"https://play-ws.vod.shopee.com/api/v4/11110103/mms/id-11110103-6ke14-lknpoycym7c0bf.16000051692526273.mp4\",\"width\":640,\"height\":1138,\"bitrate\":744679,\"size\":2697330,\"fps\":25.03931,\"duration\":25518,\"update_time\":1692526288}],\"default_format\":{\"format\":600001,\"defn\":\"ORI\",\"profile\":\"MP4\",\"path\":\"\",\"url\":\"https://play-ws.vod.shopee.com/api/v4/11110103/mms/id-11110103-6ke14-lknpoycym7c0bf.mp4\",\"width\":720,\"height\":1280,\"bitrate\":1503727,\"size\":5219224,\"fps\":27.0393,\"duration\":25518,\"update_time\":1692526273},\"extend_formats\":{\"H265\":[{\"format\":1600307,\"defn\":\"V540P\",\"profile\":\"MP4\",\"path\":\"api/v4/11110103/mms/id-11110103-6ke14-lknpoycym7c0bf.16003071692559457.mp4\",\"url\":\"https://play-ws.vod.shopee.com/api/v4/11110103/mms/id-11110103-6ke14-lknpoycym7c0bf.16003071692559457.mp4\",\"width\":540,\"height\":960,\"bitrate\":412485,\"size\":1746252,\"fps\":25.03931,\"duration\":25518,\"update_time\":1692559483},{\"format\":1600308,\"defn\":\"V640P\",\"profile\":\"MP4\",\"path\":\"api/v4/11110103/mms/id-11110103-6ke14-lknpoycym7c0bf.16003081692526306.mp4\",\"url\":\"https://play-ws.vod.shopee.com/api/v4/11110103/mms/id-11110103-6ke14-lknpoycym7c0bf.16003081692526306.mp4\",\"width\":640,\"height\":1138,\"bitrate\":518710,\"size\":2084052,\"fps\":25.03931,\"duration\":25518,\"update_time\":1692526344}]},\"ab_test\":\"\"}",
            "upload_time": null,
            "url": "https://play-ws.vod.shopee.com/api/v4/11110103/mms/id-11110103-6ke14-lknpoycym7c0bf.default.mp4"
           }
          ]
         },
         {
          "author_username": "d*****r",
          "comment": "Fitur Terbaik:overall good\nSepadan dengan Harga:worth it untuk harga segini\n\nGood product...good price..gokd seller.terimakasih,sukses selalu",
          "detailed_rating": {
           "delivery_service": 5,
           "driver_service": null,
           "product_quality": 5,
           "seller_service": 5
          },
          "images": [
           "id-11134103-7qul8-lk4nicfeljx7b7",
           "id-11134103-7qukx-lk4nicfemyhn40",
           "id-11134103-7qul8-lk4nicfeod235b"
          ],
          "index": 40,
          "like_count": 3,
          "rating_star": 5,
          "videos": [
           {
            "cover": "https://down-aka-sg.img.susercontent.com/id-11110103-23080-azs6goexxeuvd7",
            "cover_image_id": "sg-11134206-7qvcz-lk7jxr76m77ud5",
            "duration": 5991,
            "highlight": {
             "cover": "https://play-ws.vod.shopee.com/c3/98934353/160/A3oyOZ3bADDfamAnESkIACc.jpg",
             "cover_image_id": "",
             "duration": 3079,
             "highlight": null,
             "id": "sg-11110160-6jrp3-lk7jzdo1217b4c",
             "mms_ext": "{\"vid\":\"sg-11110160-6jrp3-lk7jzdo1217b4c\",\"biz\":103,\"duration\":3079,\"create_time\":1691547771,\"serviceID\":6,\"cover\":\"https://play-ws.vod.shopee.com/c3/98934353/160/A3oyOZ3bADDfamAnESkIACc.jpg\",\"cover_list\":null,\"formats\":[],\"default_format\":{\"format\":600001,\"defn\":\"ORI\",\"profile\":\"MP4\",\"path\":\"\",\"url\":\"https://play-ws.vod.shopee.com/c3/98934353/160/A3oyOaAwANzeamAnESwAACc.mp4\",\"width\":250,\"height\":250,\"bitrate\":250779,\"size\":98517,\"fps\":25,\"duration\":3079,\"update_time\":1691547772},\"extend_formats\":{\"H265\":[{\"format\":1600305,\"defn\":\"V270P\",\"profile\":\"MP4\",\"path\":\"api/v4/11110160/mms/sg-11110160-6jrp3-lk7jzdo1217b4c.16003051691547777.mp4\",\"url\":\"https://play-ws.vod.shopee.com/api/v4/11110160/mms/sg-11110160-6jrp3-lk7jzdo1217b4c.16003051691547777.mp4\",\"width\":250,\"height\":250,\"bitrate\":111505,\"size\":46723,\"fps\":25.32895,\"duration\":3039,\"update_time\":1691547774}]},\"ab_test\":\"\"}",
             "upload_time": null,
             "url": "https://play-ws.vod.shopee.com/c3/98934353/160/A3oyOaAwANzeamAnESwAACc.mp4"
            },
            "id": "id-11110103-6jt76-lk4nn2565uf756",
            "mms_ext": "{\"vid\":\"id-11110103-6jt76-lk4nn2565uf756\",\"biz\":103,\"duration\":5991,\"create_time\":1691372325,\"serviceID\":2,\"cover\":\"https://down-aka-sg.img.susercontent.com/id-11110103-23080-azs6goexxeuvd7\",\"cover_list\":null,\"formats\":[{\"format\":1600046,\"defn\":\"V480P\",\"profile\":\"MP4\",\"path\":\"api/v4/11110103/mms/id-11110103-6jt76-lk4nn2565uf756.16000461691372332.mp4\",\"url\":\"https://play-ws.vod.shopee.com/api/v4/11110103/mms/id-11110103-6jt76-lk4nn2565uf756.16000461691372332.mp4\",\"width\":480,\"height\":854,\"bitrate\":532344,\"size\":470936,\"fps\":25.16892,\"duration\":5994,\"update_time\":1691372335},{\"format\":1600005,\"defn\":\"V640P\",\"profile\":\"MP4\",\"path\":\"api/v4/11110103/mms/id-11110103-6jt76-lk4nn2565uf756.16000051691372327.mp4\",\"url\":\"https://play-ws.vod.shopee.com/api/v4/11110103/mms/id-11110103-6jt76-lk4nn2565uf756.16000051691372327.mp4\",\"width\":640,\"height\":1138,\"bitrate\":716945,\"size\":609097,\"fps\":25.16892,\"duration\":5991,\"update_time\":1691372331}],\"default_format\":{\"format\":600001,\"defn\":\"ORI\",\"profile\":\"MP4\",\"path\":\"\",\"url\":\"https://play-ws.vod.shopee.com/api/v4/11110103/mms/id-11110103-6jt76-lk4nn2565uf756.ori.mp4\",\"width\":720,\"height\":1280,\"bitrate\":2463883,\"size\":1932131,\"fps\":30.16887,\"duration\":5991,\"update_time\":1691372327},\"extend_formats\":{\"H265\":[{\"format\":1600304,\"defn\":\"V480P\",\"profile\":\"MP4\",\"path\":\"api/v4/11110103/mms/id-11110103-6jt76-lk4nn2565uf756.16003041691372332.mp4\",\"url\":\"https://play-ws.vod.shopee.com/api/v4/11110103/mms/id-11110103-6jt76-lk4nn2565uf756.16003041691372332.mp4\",\"width\":480,\"height\":854,\"bitrate\":253479,\"size\":268768,\"fps\":25.16892,\"duration\":5991,\"update_time\":1691372339},{\"format\":1600308,\"defn\":\"V640P\",\"profile\":\"MP4\",\"path\":\"api/v4/11110103/mms/id-11110103-6jt76-lk4nn2565uf756.16003081691372332.mp4\",\"url\":\"https://play-ws.vod.shopee.com/api/v4/11110103/mms/id-11110103-6jt76-lk4nn2565uf756.16003081691372332.mp4\",\"width\":640,\"height\":1138,\"bitrate\":375143,\"size\":382857,\"fps\":25.16892,\"duration\":5991,\"update_time\":1691372340}]},\"ab_test\":\"\"}",
            "upload_time": null,
            "url": "https://play-ws.vod.shopee.com/api/v4/11110103/mms/id-11110103-6jt76-lk4nn2565uf756.16000461691372332.mp4"
           }
          ]
         },
         {
          "author_username": "yettyanggraini81",
          "comment": "Alhamdulillah paketnya sudah sampai\nDgn kondisi yg aman\nSuka banget cantik\nMksh yaaa",
          "detailed_rating": {
           "delivery_service": 5,
           "driver_service": null,
           "product_quality": 5,
           "seller_service": 5
          },
          "images": [
           "id-11134103-7qukz-lk6c9vgjx6hn0c",
           "id-11134103-7qula-lk6c9vfpyeage4",
           "id-11134103-7qul7-lk6c9vfpyehb42"
          ],
          "index": 41,
          "like_count": 2,
          "rating_star": 5,
          "videos": [
           {
            "cover": "https://down-aka-sg.img.susercontent.com/id-11110103-23080-quxqrk1mmguv1f",
            "cover_image_id": "sg-11134206-7qvdf-lk7p130uknsb3e",
            "duration": 44001,
            "highlight": {
             "cover": "https://play-aka.vod.shopee.com/c3/98934353/160/A3oyOYI8APSXeGInIQ8BBwAn.jpg",
             "cover_image_id": "",
             "duration": 3119,
             "highlight": null,
             "id": "sg-11110160-6jrpy-lk7p3sc47giza7",
             "mms_ext": "{\"vid\":\"sg-11110160-6jrpy-lk7p3sc47giza7\",\"biz\":103,\"duration\":3119,\"create_time\":1691556384,\"serviceID\":6,\"cover\":\"https://play-aka.vod.shopee.com/c3/98934353/160/A3oyOYI8APSXeGInIQ8BBwAn.jpg\",\"cover_list\":null,\"formats\":[],\"default_format\":{\"format\":600001,\"defn\":\"ORI\",\"profile\":\"MP4\",\"path\":\"\",\"url\":\"https://play-aka.vod.shopee.com/c3/98934353/160/A3oyOfKeAJiXeGInEQMEACc.mp4\",\"width\":250,\"height\":250,\"bitrate\":561920,\"size\":221138,\"fps\":25,\"duration\":3119,\"update_time\":1691556386},\"extend_formats\":{\"H265\":[{\"format\":1600305,\"defn\":\"V270P\",\"profile\":\"MP4\",\"path\":\"api/v4/11110160/mms/sg-11110160-6jrpy-lk7p3sc47giza7.16003051691556392.mp4\",\"url\":\"https://play-aka.vod.shopee.com/api/v4/11110160/mms/sg-11110160-6jrpy-lk7p3sc47giza7.16003051691556392.mp4\",\"width\":250,\"height\":250,\"bitrate\":326654,\"size\":130118,\"fps\":25.32467,\"duration\":3079,\"update_time\":1691556389}]},\"ab_test\":\"\"}",
             "upload_time": null,
             "url": "https://play-aka.vod.shopee.com/c3/98934353/160/A3oyOfKeAJiXeGInEQMEACc.mp4"
            },
            "id": "id-11110103-6jt78-lk6cbap4xusb24",
            "mms_ext": "{\"vid\":\"id-11110103-6jt78-lk6cbap4xusb24\",\"biz\":103,\"duration\":44001,\"create_time\":1691474411,\"serviceID\":2,\"cover\":\"https://down-aka-sg.img.susercontent.com/id-11110103-23080-quxqrk1mmguv1f\",\"cover_list\":null,\"formats\":[{\"format\":1600323,\"defn\":\"V540P\",\"profile\":\"MP4\",\"path\":\"api/v4/11110103/mms/id-11110103-6jt78-lk6cbap4xusb24.default.mp4\",\"url\":\"https://play-ws.vod.shopee.com/api/v4/11110103/mms/id-11110103-6jt78-lk6cbap4xusb24.default.mp4\",\"width\":540,\"height\":960,\"bitrate\":452070,\"size\":3221821,\"fps\":25.02277,\"duration\":44011,\"update_time\":1691474470},{\"format\":1600005,\"defn\":\"V640P\",\"profile\":\"MP4\",\"path\":\"api/v4/11110103/mms/id-11110103-6jt78-lk6cbap4xusb24.16000051691474414.mp4\",\"url\":\"https://play-ws.vod.shopee.com/api/v4/11110103/mms/id-11110103-6jt78-lk6cbap4xusb24.16000051691474414.mp4\",\"width\":640,\"height\":1138,\"bitrate\":788514,\"size\":4896434,\"fps\":25.02277,\"duration\":44001,\"update_time\":1691474443}],\"default_format\":{\"format\":600001,\"defn\":\"ORI\",\"profile\":\"MP4\",\"path\":\"\",\"url\":\"https://play-ws.vod.shopee.com/api/v4/11110103/mms/id-11110103-6jt78-lk6cbap4xusb24.ori.mp4\",\"width\":720,\"height\":1280,\"bitrate\":2490427,\"size\":14422238,\"fps\":30.02307,\"duration\":44001,\"update_time\":1691474413},\"extend_formats\":{\"H265\":[{\"format\":1600304,\"defn\":\"V480P\",\"profile\":\"MP4\",\"path\":\"api/v4/11110103/mms/id-11110103-6jt78-lk6cbap4xusb24.16003041691606823.mp4\",\"url\":\"https://play-ws.vod.shopee.com/api/v4/11110103/mms/id-11110103-6jt78-lk6cbap4xusb24.16003041691606823.mp4\",\"width\":480,\"height\":854,\"bitrate\":545253,\"size\":3564523,\"fps\":25.02277,\"duration\":44001,\"update_time\":1691606867},{\"format\":1600307,\"defn\":\"V540P\",\"profile\":\"MP4\",\"path\":\"api/v4/11110103/mms/id-11110103-6jt78-lk6cbap4xusb24.16003071691474444.mp4\",\"url\":\"https://play-ws.vod.shopee.com/api/v4/11110103/mms/id-11110103-6jt78-lk6cbap4xusb24.16003071691474444.mp4\",\"width\":540,\"height\":960,\"bitrate\":586308,\"size\":3965743,\"fps\":25.02277,\"duration\":44001,\"update_time\":1691474505},{\"format\":1600308,\"defn\":\"V640P\",\"profile\":\"MP4\",\"path\":\"api/v4/11110103/mms/id-11110103-6jt78-lk6cbap4xusb24.16003081691474444.mp4\",\"url\":\"https://play-ws.vod.shopee.com/api/v4/11110103/mms/id-11110103-6jt78-lk6cbap4xusb24.16003081691474444.mp4\",\"width\":640,\"height\":1138,\"bitrate\":727204,\"size\":4739246,\"fps\":25.02277,\"duration\":44001,\"update_time\":1691474516}]},\"ab_test\":\"\"}",
            "upload_time": null,
            "url": "https://play-ws.vod.shopee.com/api/v4/11110103/mms/id-11110103-6jt78-lk6cbap4xusb24.default.mp4"
           }
          ]
         },
         {
          "author_username": "rianadwimakrti",
          "comment": "Bagus banget harganyaa murah kualitas nya bagus, untuk pengiriman cepat banget dan aman, dapet case clear jugaa, makasih 🫰🏽🥰",
          "detailed_rating": {
           "delivery_service": 5,
           "driver_service": null,
           "product_quality": 5,
           "seller_service": 5
          },
          "images": [
           "id-11134103-7qul7-lk82e77cl4ijca",
           "id-11134103-7qukw-lk82e77cl4nj04",
           "id-11134103-7qul2-lk82e77cl4iy3c"
          ],
          "index": 42,
          "like_count": 5,
          "rating_star": 5,
          "videos": [
           {
            "cover": "https://down-aka-sg.img.susercontent.com/id-11110103-23080-a7rtx2tpciuv43",
            "cover_image_id": "sg-11134206-7qveg-lk8kszhpy01j91",
            "duration": 15750,
            "highlight": {
             "cover": "https://play-ws.vod.shopee.com/c3/98934353/160/A3oyOXqaADT6Mm8nEakDACc.jpg",
             "cover_image_id": "",
             "duration": 3000,
             "highlight": null,
             "id": "sg-11110160-6jrp9-lk8kuq9o2txu0b",
             "mms_ext": "{\"vid\":\"sg-11110160-6jrp9-lk8kuq9o2txu0b\",\"biz\":103,\"duration\":3000,\"create_time\":1691609769,\"serviceID\":6,\"cover\":\"https://play-ws.vod.shopee.com/c3/98934353/160/A3oyOXqaADT6Mm8nEakDACc.jpg\",\"cover_list\":null,\"formats\":[],\"default_format\":{\"format\":600001,\"defn\":\"ORI\",\"profile\":\"MP4\",\"path\":\"\",\"url\":\"https://play-ws.vod.shopee.com/c3/98934353/160/A3oyObJbAGz5Mm8nIVQCBwAn.mp4\",\"width\":250,\"height\":250,\"bitrate\":135024,\"size\":52361,\"fps\":25,\"duration\":3000,\"update_time\":1691609770},\"extend_formats\":{\"H265\":[{\"format\":1600305,\"defn\":\"V270P\",\"profile\":\"MP4\",\"path\":\"api/v4/11110160/mms/sg-11110160-6jrp9-lk8kuq9o2txu0b.16003051691609776.mp4\",\"url\":\"https://play-ws.vod.shopee.com/api/v4/11110160/mms/sg-11110160-6jrp9-lk8kuq9o2txu0b.16003051691609776.mp4\",\"width\":250,\"height\":250,\"bitrate\":51572,\"size\":23391,\"fps\":25.33784,\"duration\":2960,\"update_time\":1691609771}]},\"ab_test\":\"\"}",
             "upload_time": null,
             "url": "https://play-ws.vod.shopee.com/c3/98934353/160/A3oyObJbAGz5Mm8nIVQCBwAn.mp4"
            },
            "id": "id-11110103-6jt7g-lk82fgt3um22f1",
            "mms_ext": "{\"vid\":\"id-11110103-6jt7g-lk82fgt3um22f1\",\"biz\":103,\"duration\":15750,\"create_time\":1691578798,\"serviceID\":2,\"cover\":\"https://down-aka-sg.img.susercontent.com/id-11110103-23080-a7rtx2tpciuv43\",\"cover_list\":null,\"formats\":[{\"format\":1600408,\"defn\":\"V360P\",\"profile\":\"MP4\",\"path\":\"api/v4/11110103/mms/id-11110103-6jt7g-lk82fgt3um22f1.16004081691915744.mp4\",\"url\":\"https://play-ws.vod.shopee.com/api/v4/11110103/mms/id-11110103-6jt7g-lk82fgt3um22f1.16004081691915744.mp4\",\"width\":360,\"height\":640,\"bitrate\":197275,\"size\":426671,\"fps\":25.06361,\"duration\":15744,\"update_time\":1691915747},{\"format\":1600322,\"defn\":\"V360P\",\"profile\":\"MP4\",\"path\":\"api/v4/11110103/mms/id-11110103-6jt7g-lk82fgt3um22f1.16003221691952814.mp4\",\"url\":\"https://play-ws.vod.shopee.com/api/v4/11110103/mms/id-11110103-6jt7g-lk82fgt3um22f1.16003221691952814.mp4\",\"width\":360,\"height\":640,\"bitrate\":206610,\"size\":443014,\"fps\":25.06361,\"duration\":15744,\"update_time\":1691952818},{\"format\":1600323,\"defn\":\"V540P\",\"profile\":\"MP4\",\"path\":\"api/v4/11110103/mms/id-11110103-6jt7g-lk82fgt3um22f1.default.mp4\",\"url\":\"https://play-ws.vod.shopee.com/api/v4/11110103/mms/id-11110103-6jt7g-lk82fgt3um22f1.default.mp4\",\"width\":360,\"height\":640,\"bitrate\":449272,\"size\":919846,\"fps\":25.06361,\"duration\":15744,\"update_time\":1691578812},{\"format\":1600005,\"defn\":\"V640P\",\"profile\":\"MP4\",\"path\":\"api/v4/11110103/mms/id-11110103-6jt7g-lk82fgt3um22f1.16000051691578799.mp4\",\"url\":\"https://play-ws.vod.shopee.com/api/v4/11110103/mms/id-11110103-6jt7g-lk82fgt3um22f1.16000051691578799.mp4\",\"width\":360,\"height\":640,\"bitrate\":361379,\"size\":749126,\"fps\":25.06361,\"duration\":15744,\"update_time\":1691578805}],\"default_format\":{\"format\":600001,\"defn\":\"ORI\",\"profile\":\"MP4\",\"path\":\"\",\"url\":\"https://play-ws.vod.shopee.com/api/v4/11110103/mms/id-11110103-6jt7g-lk82fgt3um22f1.ori.mp4\",\"width\":360,\"height\":640,\"bitrate\":1512227,\"size\":2988227,\"fps\":24,\"duration\":15750,\"update_time\":1691578799},\"extend_formats\":{\"H265\":[{\"format\":1600412,\"defn\":\"V360P\",\"profile\":\"MP4\",\"path\":\"api/v4/11110103/mms/id-11110103-6jt7g-lk82fgt3um22f1.16004121691915748.mp4\",\"url\":\"https://play-ws.vod.shopee.com/api/v4/11110103/mms/id-11110103-6jt7g-lk82fgt3um22f1.16004121691915748.mp4\",\"width\":360,\"height\":640,\"bitrate\":178050,\"size\":391772,\"fps\":25.06361,\"duration\":15744,\"update_time\":1691915760},{\"format\":1600315,\"defn\":\"V360P\",\"profile\":\"MP4\",\"path\":\"api/v4/11110103/mms/id-11110103-6jt7g-lk82fgt3um22f1.16003151691952815.mp4\",\"url\":\"https://play-ws.vod.shopee.com/api/v4/11110103/mms/id-11110103-6jt7g-lk82fgt3um22f1.16003151691952815.mp4\",\"width\":360,\"height\":640,\"bitrate\":200218,\"size\":435332,\"fps\":25.06361,\"duration\":15744,\"update_time\":1691952826},{\"format\":1600308,\"defn\":\"V640P\",\"profile\":\"MP4\",\"path\":\"api/v4/11110103/mms/id-11110103-6jt7g-lk82fgt3um22f1.16003081691607136.mp4\",\"url\":\"https://play-ws.vod.shopee.com/api/v4/11110103/mms/id-11110103-6jt7g-lk82fgt3um22f1.16003081691607136.mp4\",\"width\":360,\"height\":640,\"bitrate\":165146,\"size\":366417,\"fps\":25.06361,\"duration\":15744,\"update_time\":1691607146}]},\"ab_test\":\"\"}",
            "upload_time": null,
            "url": "https://play-ws.vod.shopee.com/api/v4/11110103/mms/id-11110103-6jt7g-lk82fgt3um22f1.16004081691915744.mp4"
           }
          ]
         },
         {
          "author_username": "atanknoercsoekardie",
          "comment": "Fitur Terbaik:hape nya gedhe\nSepadan dengan Harga:pass\n\nLayar nya besar. Beratnya pas. Harganya murah. Dibanding merk sebelah. Lebih wortid ini. Buat ngegame lancar. Nonton video jg enak. Seller gercep.",
          "detailed_rating": {
           "delivery_service": 4,
           "driver_service": null,
           "product_quality": 5,
           "seller_service": 5
          },
          "images": [
           "id-11134103-7qul2-lk1yrrd2uvybd5",
           "id-11134103-7qul2-lk1yrrd2wair43",
           "id-11134103-7qul8-lk1yrrd2xp37c9"
          ],
          "index": 43,
          "like_count": 39,
          "rating_star": 5,
          "videos": [
           {
            "cover": "https://down-aka-sg.img.susercontent.com/id-11110103-7qul0-lk1yt8h34vywe2",
            "cover_image_id": "sg-11134206-7qven-lk5g5b1zso3u00",
            "duration": 8406,
            "highlight": {
             "cover": "https://play-ws.vod.shopee.com/c3/98934353/160/A3oyOWWjANT9B0InIRMBAQAn.jpg",
             "cover_image_id": "",
             "duration": 3079,
             "highlight": null,
             "id": "sg-11110160-6jrq7-lk5g6s5q1p4bd0",
             "mms_ext": "{\"vid\":\"sg-11110160-6jrq7-lk5g6s5q1p4bd0\",\"biz\":103,\"duration\":3079,\"create_time\":1691420322,\"serviceID\":6,\"cover\":\"https://play-ws.vod.shopee.com/c3/98934353/160/A3oyOWWjANT9B0InIRMBAQAn.jpg\",\"cover_list\":null,\"formats\":[],\"default_format\":{\"format\":600001,\"defn\":\"ORI\",\"profile\":\"MP4\",\"path\":\"\",\"url\":\"https://play-ws.vod.shopee.com/c3/98934353/160/A3oyOZKFAET9B0InIRABAgAn.mp4\",\"width\":250,\"height\":250,\"bitrate\":251127,\"size\":98624,\"fps\":25,\"duration\":3079,\"update_time\":1691420323},\"extend_formats\":{\"H265\":[{\"format\":1600305,\"defn\":\"V270P\",\"profile\":\"MP4\",\"path\":\"api/v4/11110160/mms/sg-11110160-6jrq7-lk5g6s5q1p4bd0.16003051691420329.mp4\",\"url\":\"https://play-ws.vod.shopee.com/api/v4/11110160/mms/sg-11110160-6jrq7-lk5g6s5q1p4bd0.16003051691420329.mp4\",\"width\":250,\"height\":250,\"bitrate\":107502,\"size\":45194,\"fps\":25.32895,\"duration\":3039,\"update_time\":1691420325}]},\"ab_test\":\"\"}",
             "upload_time": null,
             "url": "https://play-ws.vod.shopee.com/c3/98934353/160/A3oyOZKFAET9B0InIRABAgAn.mp4"
            },
            "id": "id-11110103-6jt76-lk1yt8h33hegf9",
            "mms_ext": "{\"vid\":\"id-11110103-6jt76-lk1yt8h33hegf9\",\"biz\":103,\"duration\":8406,\"create_time\":1691209513,\"serviceID\":6,\"cover\":\"https://down-aka-sg.img.susercontent.com/id-11110103-7qul0-lk1yt8h34vywe2\",\"cover_list\":null,\"formats\":[{\"format\":1600408,\"defn\":\"V360P\",\"profile\":\"MP4\",\"path\":\"api/v4/11110103/mms/id-11110103-6jt76-lk1yt8h33hegf9.16004081691742886.mp4\",\"url\":\"https://play-ws.vod.shopee.com/api/v4/11110103/mms/id-11110103-6jt76-lk1yt8h33hegf9.16004081691742886.mp4\",\"width\":360,\"height\":640,\"bitrate\":187646,\"size\":304720,\"fps\":25.12019,\"duration\":8406,\"update_time\":1691742891},{\"format\":1600322,\"defn\":\"V360P\",\"profile\":\"MP4\",\"path\":\"api/v4/11110103/mms/id-11110103-6jt76-lk1yt8h33hegf9.16003221691693931.mp4\",\"url\":\"https://play-ws.vod.shopee.com/api/v4/11110103/mms/id-11110103-6jt76-lk1yt8h33hegf9.16003221691693931.mp4\",\"width\":360,\"height\":640,\"bitrate\":207524,\"size\":324735,\"fps\":25.12019,\"duration\":8406,\"update_time\":1691693935},{\"format\":1600046,\"defn\":\"V480P\",\"profile\":\"MP4\",\"path\":\"api/v4/11110103/mms/id-11110103-6jt76-lk1yt8h33hegf9.16000461691209521.mp4\",\"url\":\"https://play-ws.vod.shopee.com/api/v4/11110103/mms/id-11110103-6jt76-lk1yt8h33hegf9.16000461691209521.mp4\",\"width\":480,\"height\":854,\"bitrate\":581866,\"size\":714059,\"fps\":25.12019,\"duration\":8406,\"update_time\":1691209525},{\"format\":1600409,\"defn\":\"V540P\",\"profile\":\"MP4\",\"path\":\"api/v4/11110103/mms/id-11110103-6jt76-lk1yt8h33hegf9.16004091691742892.mp4\",\"url\":\"https://play-ws.vod.shopee.com/api/v4/11110103/mms/id-11110103-6jt76-lk1yt8h33hegf9.16004091691742892.mp4\",\"width\":540,\"height\":960,\"bitrate\":344978,\"size\":502053,\"fps\":25.12019,\"duration\":8406,\"update_time\":1691742897},{\"format\":1600323,\"defn\":\"V540P\",\"profile\":\"MP4\",\"path\":\"api/v4/11110103/mms/id-11110103-6jt76-lk1yt8h33hegf9.default.mp4\",\"url\":\"https://play-ws.vod.shopee.com/api/v4/11110103/mms/id-11110103-6jt76-lk1yt8h33hegf9.default.mp4\",\"width\":540,\"height\":960,\"bitrate\":448599,\"size\":609147,\"fps\":25.12019,\"duration\":8406,\"update_time\":1691693895},{\"format\":1600005,\"defn\":\"V640P\",\"profile\":\"MP4\",\"path\":\"api/v4/11110103/mms/id-11110103-6jt76-lk1yt8h33hegf9.16000051691209514.mp4\",\"url\":\"https://play-ws.vod.shopee.com/api/v4/11110103/mms/id-11110103-6jt76-lk1yt8h33hegf9.16000051691209514.mp4\",\"width\":640,\"height\":1138,\"bitrate\":741736,\"size\":880947,\"fps\":25.12019,\"duration\":8406,\"update_time\":1691209520},{\"format\":1600410,\"defn\":\"V720P\",\"profile\":\"MP4\",\"path\":\"api/v4/11110103/mms/id-11110103-6jt76-lk1yt8h33hegf9.16004101691742892.mp4\",\"url\":\"https://play-ws.vod.shopee.com/api/v4/11110103/mms/id-11110103-6jt76-lk1yt8h33hegf9.16004101691742892.mp4\",\"width\":720,\"height\":1280,\"bitrate\":607731,\"size\":775296,\"fps\":25.12019,\"duration\":8406,\"update_time\":1691742899},{\"format\":1600411,\"defn\":\"V720P\",\"profile\":\"MP4\",\"path\":\"api/v4/11110103/mms/id-11110103-6jt76-lk1yt8h33hegf9.16004111691742892.mp4\",\"url\":\"https://play-ws.vod.shopee.com/api/v4/11110103/mms/id-11110103-6jt76-lk1yt8h33hegf9.16004111691742892.mp4\",\"width\":720,\"height\":1280,\"bitrate\":1070411,\"size\":1256483,\"fps\":25.12019,\"duration\":8406,\"update_time\":1691742899},{\"format\":1600324,\"defn\":\"V720P\",\"profile\":\"MP4\",\"path\":\"api/v4/11110103/mms/id-11110103-6jt76-lk1yt8h33hegf9.16003241691693931.mp4\",\"url\":\"https://play-ws.vod.shopee.com/api/v4/11110103/mms/id-11110103-6jt76-lk1yt8h33hegf9.16003241691693931.mp4\",\"width\":720,\"height\":1280,\"bitrate\":743414,\"size\":915755,\"fps\":25.12019,\"duration\":8406,\"update_time\":1691693939},{\"format\":1600325,\"defn\":\"V720P\",\"profile\":\"MP4\",\"path\":\"api/v4/11110103/mms/id-11110103-6jt76-lk1yt8h33hegf9.16003251691693931.mp4\",\"url\":\"https://play-ws.vod.shopee.com/api/v4/11110103/mms/id-11110103-6jt76-lk1yt8h33hegf9.16003251691693931.mp4\",\"width\":720,\"height\":1280,\"bitrate\":1359509,\"size\":1556494,\"fps\":25.12019,\"duration\":8406,\"update_time\":1691693941}],\"default_format\":{\"format\":600001,\"defn\":\"ORI\",\"profile\":\"MP4\",\"path\":\"\",\"url\":\"https://play-ws.vod.shopee.com/api/v4/11110103/mms/id-11110103-6jt76-lk1yt8h33hegf9.mp4\",\"width\":720,\"height\":1280,\"bitrate\":1876776,\"size\":2101328,\"fps\":30.12024,\"duration\":8406,\"update_time\":1691209513},\"extend_formats\":{\"H265\":[{\"format\":1600412,\"defn\":\"V360P\",\"profile\":\"MP4\",\"path\":\"api/v4/11110103/mms/id-11110103-6jt76-lk1yt8h33hegf9.16004121691742891.mp4\",\"url\":\"https://play-ws.vod.shopee.com/api/v4/11110103/mms/id-11110103-6jt76-lk1yt8h33hegf9.16004121691742891.mp4\",\"width\":360,\"height\":640,\"bitrate\":172670,\"size\":291831,\"fps\":25.12019,\"duration\":8406,\"update_time\":1691742898},{\"format\":1600315,\"defn\":\"V360P\",\"profile\":\"MP4\",\"path\":\"api/v4/11110103/mms/id-11110103-6jt76-lk1yt8h33hegf9.16003151691693931.mp4\",\"url\":\"https://play-ws.vod.shopee.com/api/v4/11110103/mms/id-11110103-6jt76-lk1yt8h33hegf9.16003151691693931.mp4\",\"width\":360,\"height\":640,\"bitrate\":204179,\"size\":324601,\"fps\":25.12019,\"duration\":8406,\"update_time\":1691693939},{\"format\":1600304,\"defn\":\"V480P\",\"profile\":\"MP4\",\"path\":\"api/v4/11110103/mms/id-11110103-6jt76-lk1yt8h33hegf9.16003041691209521.mp4\",\"url\":\"https://play-ws.vod.shopee.com/api/v4/11110103/mms/id-11110103-6jt76-lk1yt8h33hegf9.16003041691209521.mp4\",\"width\":480,\"height\":854,\"bitrate\":395176,\"size\":523241,\"fps\":25.12019,\"duration\":8406,\"update_time\":1691209530},{\"format\":1600413,\"defn\":\"V540P\",\"profile\":\"MP4\",\"path\":\"api/v4/11110103/mms/id-11110103-6jt76-lk1yt8h33hegf9.16004131691742891.mp4\",\"url\":\"https://play-ws.vod.shopee.com/api/v4/11110103/mms/id-11110103-6jt76-lk1yt8h33hegf9.16004131691742891.mp4\",\"width\":540,\"height\":960,\"bitrate\":250972,\"size\":406981,\"fps\":25.12019,\"duration\":8406,\"update_time\":1691742901},{\"format\":1600316,\"defn\":\"V540P\",\"profile\":\"MP4\",\"path\":\"api/v4/11110103/mms/id-11110103-6jt76-lk1yt8h33hegf9.16003161691693931.mp4\",\"url\":\"https://play-ws.vod.shopee.com/api/v4/11110103/mms/id-11110103-6jt76-lk1yt8h33hegf9.16003161691693931.mp4\",\"width\":540,\"height\":960,\"bitrate\":378001,\"size\":539092,\"fps\":25.12019,\"duration\":8406,\"update_time\":1691693939},{\"format\":1600308,\"defn\":\"V640P\",\"profile\":\"MP4\",\"path\":\"api/v4/11110103/mms/id-11110103-6jt76-lk1yt8h33hegf9.16003081691209521.mp4\",\"url\":\"https://play-ws.vod.shopee.com/api/v4/11110103/mms/id-11110103-6jt76-lk1yt8h33hegf9.16003081691209521.mp4\",\"width\":640,\"height\":1138,\"bitrate\":618397,\"size\":789107,\"fps\":25.12019,\"duration\":8406,\"update_time\":1691209534},{\"format\":1600414,\"defn\":\"V720P\",\"profile\":\"MP4\",\"path\":\"api/v4/11110103/mms/id-11110103-6jt76-lk1yt8h33hegf9.16004141691742892.mp4\",\"url\":\"https://play-ws.vod.shopee.com/api/v4/11110103/mms/id-11110103-6jt76-lk1yt8h33hegf9.16004141691742892.mp4\",\"width\":720,\"height\":1280,\"bitrate\":454334,\"size\":618480,\"fps\":25.12019,\"duration\":8406,\"update_time\":1691742905},{\"format\":1600415,\"defn\":\"V720P\",\"profile\":\"MP4\",\"path\":\"api/v4/11110103/mms/id-11110103-6jt76-lk1yt8h33hegf9.16004151691742892.mp4\",\"url\":\"https://play-ws.vod.shopee.com/api/v4/11110103/mms/id-11110103-6jt76-lk1yt8h33hegf9.16004151691742892.mp4\",\"width\":720,\"height\":1280,\"bitrate\":611465,\"size\":781897,\"fps\":25.12019,\"duration\":8406,\"update_time\":1691742907},{\"format\":1600317,\"defn\":\"V720P\",\"profile\":\"MP4\",\"path\":\"api/v4/11110103/mms/id-11110103-6jt76-lk1yt8h33hegf9.16003171691693931.mp4\",\"url\":\"https://play-ws.vod.shopee.com/api/v4/11110103/mms/id-11110103-6jt76-lk1yt8h33hegf9.16003171691693931.mp4\",\"width\":720,\"height\":1280,\"bitrate\":640150,\"size\":811728,\"fps\":25.12019,\"duration\":8406,\"update_time\":1691693944},{\"format\":1600318,\"defn\":\"V720P\",\"profile\":\"MP4\",\"path\":\"api/v4/11110103/mms/id-11110103-6jt76-lk1yt8h33hegf9.16003181691693931.mp4\",\"url\":\"https://play-ws.vod.shopee.com/api/v4/11110103/mms/id-11110103-6jt76-lk1yt8h33hegf9.16003181691693931.mp4\",\"width\":720,\"height\":1280,\"bitrate\":848565,\"size\":1028481,\"fps\":25.12019,\"duration\":8406,\"update_time\":1691693954}]},\"ab_test\":\"\"}",
            "upload_time": null,
            "url": "https://play-ws.vod.shopee.com/api/v4/11110103/mms/id-11110103-6jt76-lk1yt8h33hegf9.16004081691742886.mp4"
           }
          ]
         },
         {
          "author_username": "taufikfathur193",
          "comment": "Sepadan dengan Harga:iya\nFitur Terbaik:terbaik",
          "detailed_rating": {
           "delivery_service": 5,
           "driver_service": null,
           "product_quality": 5,
           "seller_service": 5
          },
          "images": [
           "id-11134103-7quky-lkckqvwh0itc8f",
           "id-11134103-7qul1-lkckqv4g2qmsc6",
           "id-11134103-7qul1-lkckqv2s55xe74",
           "id-11134103-7quky-lkckqv2s6khuc1",
           "id-11134103-7qukx-lkckqv2s7z2afd"
          ],
          "index": 44,
          "like_count": 7,
          "rating_star": 5,
          "videos": [
           {
            "cover": "https://down-ws-sg.img.susercontent.com/id-11110103-23080-q1hyx803umuved",
            "cover_image_id": "sg-11134206-7r98o-lkjmgr51ssfvda",
            "duration": 13659,
            "highlight": {
             "cover": "https://play-ws.vod.shopee.com/c3/98934353/160/A3oyORNBACTRoA4oEXoBACc.jpg",
             "cover_image_id": "",
             "duration": 3079,
             "highlight": null,
             "id": "sg-11110160-6ke14-lkjmizvhoyt5eb",
             "mms_ext": "{\"vid\":\"sg-11110160-6ke14-lkjmizvhoyt5eb\",\"biz\":103,\"duration\":3079,\"create_time\":1692278462,\"serviceID\":6,\"cover\":\"https://play-ws.vod.shopee.com/c3/98934353/160/A3oyORNBACTRoA4oEXoBACc.jpg\",\"cover_list\":null,\"formats\":[],\"default_format\":{\"format\":600001,\"defn\":\"ORI\",\"profile\":\"MP4\",\"path\":\"\",\"url\":\"https://play-ws.vod.shopee.com/c3/98934353/160/A3oyOVlWAIDQoA4oEXkGACc.mp4\",\"width\":250,\"height\":250,\"bitrate\":421901,\"size\":164318,\"fps\":25,\"duration\":3079,\"update_time\":1692278464},\"extend_formats\":{\"H265\":[{\"format\":1600305,\"defn\":\"V270P\",\"profile\":\"MP4\",\"path\":\"api/v4/11110160/mms/sg-11110160-6ke14-lkjmizvhoyt5eb.16003051692278471.mp4\",\"url\":\"https://play-ws.vod.shopee.com/api/v4/11110160/mms/sg-11110160-6ke14-lkjmizvhoyt5eb.16003051692278471.mp4\",\"width\":250,\"height\":250,\"bitrate\":235513,\"size\":93846,\"fps\":25.32895,\"duration\":3039,\"update_time\":1692278466}]},\"ab_test\":\"\"}",
             "upload_time": null,
             "url": "https://play-ws.vod.shopee.com/c3/98934353/160/A3oyOVlWAIDQoA4oEXkGACc.mp4"
            },
            "id": "id-11110103-6jt76-lkcksc54hlxedc",
            "mms_ext": "{\"vid\":\"id-11110103-6jt76-lkcksc54hlxedc\",\"biz\":103,\"duration\":13659,\"create_time\":1691851830,\"serviceID\":2,\"cover\":\"https://down-ws-sg.img.susercontent.com/id-11110103-23080-q1hyx803umuved\",\"cover_list\":null,\"formats\":[{\"format\":1600323,\"defn\":\"V540P\",\"profile\":\"MP4\",\"path\":\"api/v4/11110103/mms/id-11110103-6jt76-lkcksc54hlxedc.default.mp4\",\"url\":\"https://play-ws.vod.shopee.com/api/v4/11110103/mms/id-11110103-6jt76-lkcksc54hlxedc.default.mp4\",\"width\":540,\"height\":960,\"bitrate\":369523,\"size\":857103,\"fps\":25.07331,\"duration\":13640,\"update_time\":1691851855},{\"format\":1600005,\"defn\":\"V640P\",\"profile\":\"MP4\",\"path\":\"api/v4/11110103/mms/id-11110103-6jt76-lkcksc54hlxedc.16000051691851832.mp4\",\"url\":\"https://play-ws.vod.shopee.com/api/v4/11110103/mms/id-11110103-6jt76-lkcksc54hlxedc.16000051691851832.mp4\",\"width\":640,\"height\":1138,\"bitrate\":635390,\"size\":1257804,\"fps\":25.07331,\"duration\":13640,\"update_time\":1691851842}],\"default_format\":{\"format\":600001,\"defn\":\"ORI\",\"profile\":\"MP4\",\"path\":\"\",\"url\":\"https://play-ws.vod.shopee.com/api/v4/11110103/mms/id-11110103-6jt76-lkcksc54hlxedc.ori.mp4\",\"width\":720,\"height\":1280,\"bitrate\":6172063,\"size\":10768019,\"fps\":29.94007,\"duration\":13659,\"update_time\":1691851832},\"extend_formats\":{\"H265\":[{\"format\":1600307,\"defn\":\"V540P\",\"profile\":\"MP4\",\"path\":\"api/v4/11110103/mms/id-11110103-6jt76-lkcksc54hlxedc.16003071691851844.mp4\",\"url\":\"https://play-ws.vod.shopee.com/api/v4/11110103/mms/id-11110103-6jt76-lkcksc54hlxedc.16003071691851844.mp4\",\"width\":540,\"height\":960,\"bitrate\":591259,\"size\":1238780,\"fps\":25.07331,\"duration\":13640,\"update_time\":1691851858},{\"format\":1600308,\"defn\":\"V640P\",\"profile\":\"MP4\",\"path\":\"api/v4/11110103/mms/id-11110103-6jt76-lkcksc54hlxedc.16003081691851844.mp4\",\"url\":\"https://play-ws.vod.shopee.com/api/v4/11110103/mms/id-11110103-6jt76-lkcksc54hlxedc.16003081691851844.mp4\",\"width\":640,\"height\":1138,\"bitrate\":735130,\"size\":1484082,\"fps\":25.07331,\"duration\":13640,\"update_time\":1691851866}]},\"ab_test\":\"\"}",
            "upload_time": null,
            "url": "https://play-ws.vod.shopee.com/api/v4/11110103/mms/id-11110103-6jt76-lkcksc54hlxedc.default.mp4"
           }
          ]
         },
         {
          "author_username": "n*****7",
          "comment": "Barangnya sudah sampai dengan aman, bagus sesuai pesanan. Ini sebenarnya punya kakak jadi seneng banget pas udah datang terimakasih seller",
          "detailed_rating": {
           "delivery_service": 5,
           "driver_service": null,
           "product_quality": 5,
           "seller_service": 5
          },
          "images": [
           "id-11134103-7r98o-lkththinngg29d",
           "id-11134103-7r98o-lkththixn1ite3",
           "id-11134103-7r98o-lkththidnuyad2"
          ],
          "index": 45,
          "like_count": null,
          "rating_star": 5,
          "videos": [
           {
            "cover": "https://down-ws-sg.img.susercontent.com/id-11110103-23080-2ezn8u93r4uva9",
            "cover_image_id": "sg-11134206-7rbk0-lkthxgcmmta9e5",
            "duration": 20851,
            "highlight": {
             "cover": "https://play-ws.vod.shopee.com/c3/98934353/160/A3oyOfRLAIxwH50oEYEEACc.jpg",
             "cover_image_id": "",
             "duration": 3119,
             "highlight": null,
             "id": "sg-11110160-6ke14-lkthyll2aiivbd",
             "mms_ext": "{\"vid\":\"sg-11110160-6ke14-lkthyll2aiivbd\",\"biz\":103,\"duration\":3119,\"create_time\":1692876127,\"serviceID\":6,\"cover\":\"https://play-ws.vod.shopee.com/c3/98934353/160/A3oyOfRLAIxwH50oEYEEACc.jpg\",\"cover_list\":null,\"formats\":[],\"default_format\":{\"format\":600001,\"defn\":\"ORI\",\"profile\":\"MP4\",\"path\":\"\",\"url\":\"https://play-ws.vod.shopee.com/c3/98934353/160/A3oyOX5JAPBvH50oEX8IACc.mp4\",\"width\":250,\"height\":250,\"bitrate\":384710,\"size\":151940,\"fps\":25,\"duration\":3119,\"update_time\":1692876128},\"extend_formats\":{\"H265\":[{\"format\":1600305,\"defn\":\"V270P\",\"profile\":\"MP4\",\"path\":\"api/v4/11110160/mms/sg-11110160-6ke14-lkthyll2aiivbd.16003051692876136.mp4\",\"url\":\"https://play-ws.vod.shopee.com/api/v4/11110160/mms/sg-11110160-6ke14-lkthyll2aiivbd.16003051692876136.mp4\",\"width\":250,\"height\":250,\"bitrate\":183984,\"size\":75178,\"fps\":25.32467,\"duration\":3079,\"update_time\":1692876130}]},\"ab_test\":\"\"}",
             "upload_time": null,
             "url": "https://play-ws.vod.shopee.com/c3/98934353/160/A3oyOX5JAPBvH50oEX8IACc.mp4"
            },
            "id": "id-11110103-6ke14-lkthsvkzr14i06",
            "mms_ext": "{\"vid\":\"id-11110103-6ke14-lkthsvkzr14i06\",\"biz\":103,\"duration\":20851,\"create_time\":1692875870,\"serviceID\":6,\"cover\":\"https://down-ws-sg.img.susercontent.com/id-11110103-23080-2ezn8u93r4uva9\",\"cover_list\":null,\"formats\":[{\"format\":1600323,\"defn\":\"V540P\",\"profile\":\"MP4\",\"path\":\"api/v4/11110103/mms/id-11110103-6ke14-lkthsvkzr14i06.default.mp4\",\"url\":\"https://play-ws.vod.shopee.com/api/v4/11110103/mms/id-11110103-6ke14-lkthsvkzr14i06.default.mp4\",\"width\":540,\"height\":960,\"bitrate\":489699,\"size\":1624401,\"fps\":25.04808,\"duration\":20864,\"update_time\":1692875923},{\"format\":1600005,\"defn\":\"V640P\",\"profile\":\"MP4\",\"path\":\"api/v4/11110103/mms/id-11110103-6ke14-lkthsvkzr14i06.16000051692875872.mp4\",\"url\":\"https://play-ws.vod.shopee.com/api/v4/11110103/mms/id-11110103-6ke14-lkthsvkzr14i06.16000051692875872.mp4\",\"width\":640,\"height\":1138,\"bitrate\":860472,\"size\":2506282,\"fps\":25.04808,\"duration\":20851,\"update_time\":1692875892}],\"default_format\":{\"format\":600001,\"defn\":\"ORI\",\"profile\":\"MP4\",\"path\":\"\",\"url\":\"https://play-ws.vod.shopee.com/c3/98934353/103/A3oyOVA6APRED50oEaQIACY.mp4\",\"width\":720,\"height\":1280,\"bitrate\":2500441,\"size\":6856536,\"fps\":30.04836,\"duration\":20851,\"update_time\":1692875871},\"extend_formats\":{\"H265\":[{\"format\":1600308,\"defn\":\"V640P\",\"profile\":\"MP4\",\"path\":\"api/v4/11110103/mms/id-11110103-6ke14-lkthsvkzr14i06.16003081692875910.mp4\",\"url\":\"https://play-ws.vod.shopee.com/api/v4/11110103/mms/id-11110103-6ke14-lkthsvkzr14i06.16003081692875910.mp4\",\"width\":640,\"height\":1138,\"bitrate\":678606,\"size\":2120211,\"fps\":25.04808,\"duration\":20851,\"update_time\":1692875952}]},\"ab_test\":\"\"}",
            "upload_time": null,
            "url": "https://play-ws.vod.shopee.com/api/v4/11110103/mms/id-11110103-6ke14-lkthsvkzr14i06.default.mp4"
           }
          ]
         },
         {
          "author_username": "sitifatimahlubis20",
          "comment": "Alhamdulillah paketannya sampai juga walaupun ada kendala pengiriman dan keterlambatan\nRespon penjual sangat baik banget dan cepat \nSelain dari kendala pengiriman semuanya baik pakingnya juga baik ngak ada yang penyok atau gimana\n\nPokoknya bagus 👍👍👍",
          "detailed_rating": {
           "delivery_service": null,
           "driver_service": null,
           "product_quality": 5,
           "seller_service": null
          },
          "images": [
           "id-11134103-7r98o-lklfop6g7rts04",
           "id-11134103-7r98o-lklfop6g6dkv8d",
           "id-11134103-7r98o-lklfop5w76sraf"
          ],
          "index": 46,
          "like_count": 3,
          "rating_star": 5,
          "videos": [
           {
            "cover": "https://down-aka-sg.img.susercontent.com/id-11110103-23080-17aepoydqvuv81",
            "cover_image_id": "sg-11134206-7rbk0-lknq18bls3ax62",
            "duration": 59326,
            "highlight": {
             "cover": "https://play-aka.vod.shopee.com/c3/98934353/160/A3oyOdsTAJC4zEkoEYgIACc.jpg",
             "cover_image_id": "",
             "duration": 3079,
             "highlight": null,
             "id": "sg-11110160-6ke14-lknq4fbdi1sife",
             "mms_ext": "{\"vid\":\"sg-11110160-6ke14-lknq4fbdi1sife\",\"biz\":103,\"duration\":3079,\"create_time\":1692526645,\"serviceID\":6,\"cover\":\"https://play-aka.vod.shopee.com/c3/98934353/160/A3oyOdsTAJC4zEkoEYgIACc.jpg\",\"cover_list\":null,\"formats\":[],\"default_format\":{\"format\":600001,\"defn\":\"ORI\",\"profile\":\"MP4\",\"path\":\"\",\"url\":\"https://play-aka.vod.shopee.com/c3/98934353/160/A3oyOUlRABC4zEkoEYwEACc.mp4\",\"width\":250,\"height\":250,\"bitrate\":278350,\"size\":109076,\"fps\":25,\"duration\":3079,\"update_time\":1692526646},\"extend_formats\":{\"H265\":[{\"format\":1600305,\"defn\":\"V270P\",\"profile\":\"MP4\",\"path\":\"api/v4/11110160/mms/sg-11110160-6ke14-lknq4fbdi1sife.16003051692526653.mp4\",\"url\":\"https://play-aka.vod.shopee.com/api/v4/11110160/mms/sg-11110160-6ke14-lknq4fbdi1sife.16003051692526653.mp4\",\"width\":250,\"height\":250,\"bitrate\":118207,\"size\":49270,\"fps\":25.32895,\"duration\":3039,\"update_time\":1692526649}]},\"ab_test\":\"\"}",
             "upload_time": null,
             "url": "https://play-aka.vod.shopee.com/c3/98934353/160/A3oyOUlRABC4zEkoEYwEACc.mp4"
            },
            "id": "id-11110103-6ke14-lklg1x4fro5tea",
            "mms_ext": "{\"vid\":\"id-11110103-6ke14-lklg1x4fro5tea\",\"biz\":103,\"duration\":59326,\"create_time\":1692388729,\"serviceID\":2,\"cover\":\"https://down-aka-sg.img.susercontent.com/id-11110103-23080-17aepoydqvuv81\",\"cover_list\":null,\"formats\":[{\"format\":1600323,\"defn\":\"V540P\",\"profile\":\"MP4\",\"path\":\"api/v4/11110103/mms/id-11110103-6ke14-lklg1x4fro5tea.default.mp4\",\"url\":\"https://play-ws.vod.shopee.com/api/v4/11110103/mms/id-11110103-6ke14-lklg1x4fro5tea.default.mp4\",\"width\":480,\"height\":848,\"bitrate\":488621,\"size\":4616769,\"fps\":25.01687,\"duration\":59327,\"update_time\":1692388806},{\"format\":1600005,\"defn\":\"V640P\",\"profile\":\"MP4\",\"path\":\"api/v4/11110103/mms/id-11110103-6ke14-lklg1x4fro5tea.16000051692388734.mp4\",\"url\":\"https://play-ws.vod.shopee.com/api/v4/11110103/mms/id-11110103-6ke14-lklg1x4fro5tea.16000051692388734.mp4\",\"width\":480,\"height\":848,\"bitrate\":697442,\"size\":5931260,\"fps\":25.01687,\"duration\":59326,\"update_time\":1692388755}],\"default_format\":{\"format\":600001,\"defn\":\"ORI\",\"profile\":\"MP4\",\"path\":\"\",\"url\":\"https://play-ws.vod.shopee.com/api/v4/11110103/mms/id-11110103-6ke14-lklg1x4fro5tea.ori.mp4\",\"width\":480,\"height\":848,\"bitrate\":1800846,\"size\":14342731,\"fps\":30.01717,\"duration\":59326,\"update_time\":1692388733},\"extend_formats\":{\"H265\":[{\"format\":1600308,\"defn\":\"V640P\",\"profile\":\"MP4\",\"path\":\"api/v4/11110103/mms/id-11110103-6ke14-lklg1x4fro5tea.16003081692474625.mp4\",\"url\":\"https://play-ws.vod.shopee.com/api/v4/11110103/mms/id-11110103-6ke14-lklg1x4fro5tea.16003081692474625.mp4\",\"width\":480,\"height\":848,\"bitrate\":364123,\"size\":3702785,\"fps\":25.01687,\"duration\":59326,\"update_time\":1692474693}]},\"ab_test\":\"\"}",
            "upload_time": null,
            "url": "https://play-ws.vod.shopee.com/api/v4/11110103/mms/id-11110103-6ke14-lklg1x4fro5tea.default.mp4"
           }
          ]
         },
         {
          "author_username": "heddy_kusmayadi",
          "comment": "Sepadan dengan Harga:sangat bagus dan memuaskan\nFitur Terbaik:sangat baik\n\nAlhamdulillah hp nya sudah keterima dengan baik , masih di segel , pengiriman super cepat 👍👍👍👍👍👍 xiomi memang terbaik",
          "detailed_rating": {
           "delivery_service": 5,
           "driver_service": null,
           "product_quality": 5,
           "seller_service": 5
          },
          "images": [
           "id-11134103-7qul8-lk6pkj9d9o3ndc",
           "id-11134103-7qul9-lk6pkj9d9nvf25",
           "id-11134103-7qul7-lk6pkj9d9nqf95",
           "id-11134103-7qul5-lk6pkj9d9nvu7b"
          ],
          "index": 47,
          "like_count": 4,
          "rating_star": 5,
          "videos": []
         },
         {
          "author_username": "konsu151",
          "comment": "paket datang dengan kondisi aman, walau bubble wrapnya cuma 1 lapis, itu pun tidak tetutup menyeluruh, sudah di coba, semua aman, cukup memadai untuk anak anak kuliahan, selama tidak untuk main game2 berat",
          "detailed_rating": {
           "delivery_service": 5,
           "driver_service": null,
           "product_quality": 5,
           "seller_service": 4
          },
          "images": [
           "id-11134103-7qukx-lk9myz1y4mki99",
           "id-11134103-7qul5-lk9myz1y614yfc",
           "id-11134103-7qul3-lk9myz1y7fpe26"
          ],
          "index": 48,
          "like_count": 3,
          "rating_star": 5,
          "videos": [
           {
            "cover": "https://down-ws-sg.img.susercontent.com/id-11110103-23080-uz5ak6pexjuv11",
            "cover_image_id": "sg-11134206-7qvg3-lkatasve8k3kae",
            "duration": 24329,
            "highlight": {
             "cover": "https://play-ws.vod.shopee.com/c3/98934353/160/A3oyOU-JALyAeY8nEdYDACc.jpg",
             "cover_image_id": "",
             "duration": 3119,
             "highlight": null,
             "id": "sg-11110160-6jrpu-lkatcz3xsam8be",
             "mms_ext": "{\"vid\":\"sg-11110160-6jrpu-lkatcz3xsam8be\",\"biz\":103,\"duration\":3119,\"create_time\":1691745142,\"serviceID\":6,\"cover\":\"https://play-ws.vod.shopee.com/c3/98934353/160/A3oyOU-JALyAeY8nEdYDACc.jpg\",\"cover_list\":null,\"formats\":[],\"default_format\":{\"format\":600001,\"defn\":\"ORI\",\"profile\":\"MP4\",\"path\":\"\",\"url\":\"https://play-ws.vod.shopee.com/c3/98934353/160/A3oyOU31AGCAeY8nEdgIACc.mp4\",\"width\":250,\"height\":250,\"bitrate\":143979,\"size\":58044,\"fps\":25,\"duration\":3119,\"update_time\":1691745143},\"extend_formats\":{\"H265\":[{\"format\":1600305,\"defn\":\"V270P\",\"profile\":\"MP4\",\"path\":\"api/v4/11110160/mms/sg-11110160-6jrpu-lkatcz3xsam8be.16003051691745150.mp4\",\"url\":\"https://play-ws.vod.shopee.com/api/v4/11110160/mms/sg-11110160-6jrpu-lkatcz3xsam8be.16003051691745150.mp4\",\"width\":250,\"height\":250,\"bitrate\":74129,\"size\":32896,\"fps\":25.32467,\"duration\":3079,\"update_time\":1691745145}]},\"ab_test\":\"\"}",
             "upload_time": null,
             "url": "https://play-ws.vod.shopee.com/c3/98934353/160/A3oyOU31AGCAeY8nEdgIACc.mp4"
            },
            "id": "id-11110103-6jt78-lk9n441db5uc98",
            "mms_ext": "{\"vid\":\"id-11110103-6jt78-lk9n441db5uc98\",\"biz\":103,\"duration\":24329,\"create_time\":1691674125,\"serviceID\":6,\"cover\":\"https://down-ws-sg.img.susercontent.com/id-11110103-23080-uz5ak6pexjuv11\",\"cover_list\":null,\"formats\":[{\"format\":1600323,\"defn\":\"V540P\",\"profile\":\"MP4\",\"path\":\"api/v4/11110103/mms/id-11110103-6jt78-lk9n441db5uc98.default.mp4\",\"url\":\"https://play-ws.vod.shopee.com/api/v4/11110103/mms/id-11110103-6jt78-lk9n441db5uc98.default.mp4\",\"width\":540,\"height\":960,\"bitrate\":349683,\"size\":1460572,\"fps\":25.04119,\"duration\":24280,\"update_time\":1691674170},{\"format\":1600005,\"defn\":\"V640P\",\"profile\":\"MP4\",\"path\":\"api/v4/11110103/mms/id-11110103-6jt78-lk9n441db5uc98.16000051691674126.mp4\",\"url\":\"https://play-ws.vod.shopee.com/api/v4/11110103/mms/id-11110103-6jt78-lk9n441db5uc98.16000051691674126.mp4\",\"width\":640,\"height\":1138,\"bitrate\":660019,\"size\":2309580,\"fps\":25.04119,\"duration\":24280,\"update_time\":1691674150}],\"default_format\":{\"format\":600001,\"defn\":\"ORI\",\"profile\":\"MP4\",\"path\":\"\",\"url\":\"https://play-ws.vod.shopee.com/c3/98934353/103/A3oyOY1fAHiEin4nEQwEACY.mp4\",\"width\":720,\"height\":1280,\"bitrate\":6147861,\"size\":19098702,\"fps\":24.41368,\"duration\":24329,\"update_time\":1691674126},\"extend_formats\":{\"H265\":[{\"format\":1600304,\"defn\":\"V480P\",\"profile\":\"MP4\",\"path\":\"api/v4/11110103/mms/id-11110103-6jt78-lk9n441db5uc98.16003041691780217.mp4\",\"url\":\"https://play-ws.vod.shopee.com/api/v4/11110103/mms/id-11110103-6jt78-lk9n441db5uc98.16003041691780217.mp4\",\"width\":480,\"height\":854,\"bitrate\":226688,\"size\":997530,\"fps\":25.04119,\"duration\":24280,\"update_time\":1691780238},{\"format\":1600307,\"defn\":\"V540P\",\"profile\":\"MP4\",\"path\":\"api/v4/11110103/mms/id-11110103-6jt78-lk9n441db5uc98.16003071691674152.mp4\",\"url\":\"https://play-ws.vod.shopee.com/api/v4/11110103/mms/id-11110103-6jt78-lk9n441db5uc98.16003071691674152.mp4\",\"width\":540,\"height\":960,\"bitrate\":266741,\"size\":1213490,\"fps\":25.04119,\"duration\":24280,\"update_time\":1691674189},{\"format\":1600308,\"defn\":\"V640P\",\"profile\":\"MP4\",\"path\":\"api/v4/11110103/mms/id-11110103-6jt78-lk9n441db5uc98.16003081691674152.mp4\",\"url\":\"https://play-ws.vod.shopee.com/api/v4/11110103/mms/id-11110103-6jt78-lk9n441db5uc98.16003081691674152.mp4\",\"width\":640,\"height\":1138,\"bitrate\":338067,\"size\":1429983,\"fps\":25.04119,\"duration\":24280,\"update_time\":1691674199}]},\"ab_test\":\"\"}",
            "upload_time": null,
            "url": "https://play-ws.vod.shopee.com/api/v4/11110103/mms/id-11110103-6jt78-lk9n441db5uc98.default.mp4"
           }
          ]
         },
         {
          "author_username": "k*****1",
          "comment": "Fitur Terbaik:baik\nSepadan dengan Harga:oke\n\nOke banget selalu suka sama xiaomi harga terjangkau pengiriman cepet teteh aku suka banget terimakasih",
          "detailed_rating": {
           "delivery_service": 5,
           "driver_service": null,
           "product_quality": 5,
           "seller_service": 5
          },
          "images": [
           "id-11134103-7qukx-lk6jid8r3n2786",
           "id-11134103-7qul0-lk6jid8qo6jm74",
           "id-11134103-7qul3-lk6jid8qo6lj45"
          ],
          "index": 49,
          "like_count": 3,
          "rating_star": 5,
          "videos": [
           {
            "cover": "https://down-aka-sg.img.susercontent.com/id-11110103-23080-mtldx49stguv22",
            "cover_image_id": "sg-11134206-7qvff-lk6jkt2g6sy2f9",
            "duration": 12121,
            "highlight": {
             "cover": "https://play-ws.vod.shopee.com/c3/98934353/160/A3oyOTKFANTd1VEnITIBCwAn.jpg",
             "cover_image_id": "",
             "duration": 3079,
             "highlight": null,
             "id": "sg-11110160-6jrow-lk6jlyc9r35jc5",
             "mms_ext": "{\"vid\":\"sg-11110160-6jrow-lk6jlyc9r35jc5\",\"biz\":103,\"duration\":3079,\"create_time\":1691486609,\"serviceID\":6,\"cover\":\"https://play-ws.vod.shopee.com/c3/98934353/160/A3oyOTKFANTd1VEnITIBCwAn.jpg\",\"cover_list\":null,\"formats\":[],\"default_format\":{\"format\":600001,\"defn\":\"ORI\",\"profile\":\"MP4\",\"path\":\"\",\"url\":\"https://play-ws.vod.shopee.com/c3/98934353/160/A3oyOS-FAIjd1VEnITIBCwAn.mp4\",\"width\":250,\"height\":250,\"bitrate\":370194,\"size\":144425,\"fps\":25,\"duration\":3079,\"update_time\":1691486611},\"extend_formats\":{\"H265\":[{\"format\":1600305,\"defn\":\"V270P\",\"profile\":\"MP4\",\"path\":\"api/v4/11110160/mms/sg-11110160-6jrow-lk6jlyc9r35jc5.16003051691486617.mp4\",\"url\":\"https://play-ws.vod.shopee.com/api/v4/11110160/mms/sg-11110160-6jrow-lk6jlyc9r35jc5.16003051691486617.mp4\",\"width\":250,\"height\":250,\"bitrate\":172657,\"size\":69925,\"fps\":25.32895,\"duration\":3039,\"update_time\":1691486614}]},\"ab_test\":\"\"}",
             "upload_time": null,
             "url": "https://play-ws.vod.shopee.com/c3/98934353/160/A3oyOS-FAIjd1VEnITIBCwAn.mp4"
            },
            "id": "id-11110103-6jt78-lk6jiu2627u285",
            "mms_ext": "{\"vid\":\"id-11110103-6jt78-lk6jiu2627u285\",\"biz\":103,\"duration\":12121,\"create_time\":1691486473,\"serviceID\":2,\"cover\":\"https://down-aka-sg.img.susercontent.com/id-11110103-23080-mtldx49stguv22\",\"cover_list\":null,\"formats\":[{\"format\":1600408,\"defn\":\"V360P\",\"profile\":\"MP4\",\"path\":\"api/v4/11110103/mms/id-11110103-6jt78-lk6jiu2627u285.16004081692056012.mp4\",\"url\":\"https://play-ws.vod.shopee.com/api/v4/11110103/mms/id-11110103-6jt78-lk6jiu2627u285.16004081692056012.mp4\",\"width\":640,\"height\":360,\"bitrate\":429239,\"size\":806114,\"fps\":25.08278,\"duration\":12121,\"update_time\":1692056017},{\"format\":1600409,\"defn\":\"V540P\",\"profile\":\"MP4\",\"path\":\"api/v4/11110103/mms/id-11110103-6jt78-lk6jiu2627u285.16004091692056018.mp4\",\"url\":\"https://play-ws.vod.shopee.com/api/v4/11110103/mms/id-11110103-6jt78-lk6jiu2627u285.16004091692056018.mp4\",\"width\":960,\"height\":540,\"bitrate\":755661,\"size\":1347394,\"fps\":25.08278,\"duration\":12121,\"update_time\":1692056026},{\"format\":1600323,\"defn\":\"V540P\",\"profile\":\"MP4\",\"path\":\"api/v4/11110103/mms/id-11110103-6jt78-lk6jiu2627u285.default.mp4\",\"url\":\"https://play-ws.vod.shopee.com/api/v4/11110103/mms/id-11110103-6jt78-lk6jiu2627u285.default.mp4\",\"width\":960,\"height\":540,\"bitrate\":509121,\"size\":974318,\"fps\":25.08278,\"duration\":12138,\"update_time\":1691486498},{\"format\":1600005,\"defn\":\"V640P\",\"profile\":\"MP4\",\"path\":\"api/v4/11110103/mms/id-11110103-6jt78-lk6jiu2627u285.16000051691486476.mp4\",\"url\":\"https://play-ws.vod.shopee.com/api/v4/11110103/mms/id-11110103-6jt78-lk6jiu2627u285.16000051691486476.mp4\",\"width\":1138,\"height\":640,\"bitrate\":889252,\"size\":1500942,\"fps\":25.08278,\"duration\":12121,\"update_time\":1691486488},{\"format\":1600411,\"defn\":\"V720P\",\"profile\":\"MP4\",\"path\":\"api/v4/11110103/mms/id-11110103-6jt78-lk6jiu2627u285.16004111692056018.mp4\",\"url\":\"https://play-ws.vod.shopee.com/api/v4/11110103/mms/id-11110103-6jt78-lk6jiu2627u285.16004111692056018.mp4\",\"width\":1280,\"height\":720,\"bitrate\":1265947,\"size\":2117882,\"fps\":25.08278,\"duration\":12121,\"update_time\":1692056033},{\"format\":1600410,\"defn\":\"V720P\",\"profile\":\"MP4\",\"path\":\"api/v4/11110103/mms/id-11110103-6jt78-lk6jiu2627u285.16004101692056017.mp4\",\"url\":\"https://play-ws.vod.shopee.com/api/v4/11110103/mms/id-11110103-6jt78-lk6jiu2627u285.16004101692056017.mp4\",\"width\":1280,\"height\":720,\"bitrate\":1184465,\"size\":1994844,\"fps\":25.08278,\"duration\":12121,\"update_time\":1692056034}],\"default_format\":{\"format\":600001,\"defn\":\"ORI\",\"profile\":\"MP4\",\"path\":\"\",\"url\":\"https://play-ws.vod.shopee.com/api/v4/11110103/mms/id-11110103-6jt78-lk6jiu2627u285.ori.mp4\",\"width\":1280,\"height\":720,\"bitrate\":2480107,\"size\":3951745,\"fps\":30.0832,\"duration\":12121,\"update_time\":1691486475},\"extend_formats\":{\"H265\":[{\"format\":1600412,\"defn\":\"V360P\",\"profile\":\"MP4\",\"path\":\"api/v4/11110103/mms/id-11110103-6jt78-lk6jiu2627u285.16004121692056017.mp4\",\"url\":\"https://play-ws.vod.shopee.com/api/v4/11110103/mms/id-11110103-6jt78-lk6jiu2627u285.16004121692056017.mp4\",\"width\":640,\"height\":360,\"bitrate\":257946,\"size\":550382,\"fps\":25.08278,\"duration\":12121,\"update_time\":1692056032},{\"format\":1600304,\"defn\":\"V480P\",\"profile\":\"MP4\",\"path\":\"api/v4/11110103/mms/id-11110103-6jt78-lk6jiu2627u285.16003041691519251.mp4\",\"url\":\"https://play-ws.vod.shopee.com/api/v4/11110103/mms/id-11110103-6jt78-lk6jiu2627u285.16003041691519251.mp4\",\"width\":854,\"height\":480,\"bitrate\":547263,\"size\":987548,\"fps\":25.08278,\"duration\":12121,\"update_time\":1691519273},{\"format\":1600413,\"defn\":\"V540P\",\"profile\":\"MP4\",\"path\":\"api/v4/11110103/mms/id-11110103-6jt78-lk6jiu2627u285.16004131692056018.mp4\",\"url\":\"https://play-ws.vod.shopee.com/api/v4/11110103/mms/id-11110103-6jt78-lk6jiu2627u285.16004131692056018.mp4\",\"width\":960,\"height\":540,\"bitrate\":420261,\"size\":843869,\"fps\":25.08278,\"duration\":12121,\"update_time\":1692056040},{\"format\":1600307,\"defn\":\"V540P\",\"profile\":\"MP4\",\"path\":\"api/v4/11110103/mms/id-11110103-6jt78-lk6jiu2627u285.16003071691486490.mp4\",\"url\":\"https://play-ws.vod.shopee.com/api/v4/11110103/mms/id-11110103-6jt78-lk6jiu2627u285.16003071691486490.mp4\",\"width\":960,\"height\":540,\"bitrate\":585410,\"size\":1093285,\"fps\":25.08278,\"duration\":12121,\"update_time\":1691486518},{\"format\":1600308,\"defn\":\"V640P\",\"profile\":\"MP4\",\"path\":\"api/v4/11110103/mms/id-11110103-6jt78-lk6jiu2627u285.16003081691486489.mp4\",\"url\":\"https://play-ws.vod.shopee.com/api/v4/11110103/mms/id-11110103-6jt78-lk6jiu2627u285.16003081691486489.mp4\",\"width\":1138,\"height\":640,\"bitrate\":724784,\"size\":1303750,\"fps\":25.08278,\"duration\":12121,\"update_time\":1691486522},{\"format\":1600414,\"defn\":\"V720P\",\"profile\":\"MP4\",\"path\":\"api/v4/11110103/mms/id-11110103-6jt78-lk6jiu2627u285.16004141692056017.mp4\",\"url\":\"https://play-ws.vod.shopee.com/api/v4/11110103/mms/id-11110103-6jt78-lk6jiu2627u285.16004141692056017.mp4\",\"width\":1280,\"height\":720,\"bitrate\":624750,\"size\":1152653,\"fps\":25.08278,\"duration\":12121,\"update_time\":1692056051},{\"format\":1600415,\"defn\":\"V720P\",\"profile\":\"MP4\",\"path\":\"api/v4/11110103/mms/id-11110103-6jt78-lk6jiu2627u285.16004151692056018.mp4\",\"url\":\"https://play-ws.vod.shopee.com/api/v4/11110103/mms/id-11110103-6jt78-lk6jiu2627u285.16004151692056018.mp4\",\"width\":1280,\"height\":720,\"bitrate\":665978,\"size\":1214909,\"fps\":25.08278,\"duration\":12121,\"update_time\":1692056060}]},\"ab_test\":\"\"}",
            "upload_time": null,
            "url": "https://play-ws.vod.shopee.com/api/v4/11110103/mms/id-11110103-6jt78-lk6jiu2627u285.16004081692056012.mp4"
           }
          ]
         }
        ],
        "schema": {
         "fields": [
          {
           "name": "index",
           "type": "integer"
          },
          {
           "name": "comment",
           "type": "string"
          },
          {
           "name": "rating_star",
           "type": "integer"
          },
          {
           "name": "author_username",
           "type": "string"
          },
          {
           "name": "like_count",
           "type": "number"
          },
          {
           "name": "detailed_rating",
           "type": "string"
          },
          {
           "name": "images",
           "type": "string"
          },
          {
           "name": "videos",
           "type": "string"
          }
         ],
         "pandas_version": "1.4.0",
         "primaryKey": [
          "index"
         ]
        }
       },
       "total_rows": 50,
       "truncation_type": null
      },
      "text/html": [
       "<div>\n",
       "<style scoped>\n",
       "    .dataframe tbody tr th:only-of-type {\n",
       "        vertical-align: middle;\n",
       "    }\n",
       "\n",
       "    .dataframe tbody tr th {\n",
       "        vertical-align: top;\n",
       "    }\n",
       "\n",
       "    .dataframe thead th {\n",
       "        text-align: right;\n",
       "    }\n",
       "</style>\n",
       "<table border=\"1\" class=\"dataframe\">\n",
       "  <thead>\n",
       "    <tr style=\"text-align: right;\">\n",
       "      <th></th>\n",
       "      <th>comment</th>\n",
       "      <th>rating_star</th>\n",
       "      <th>author_username</th>\n",
       "      <th>like_count</th>\n",
       "      <th>detailed_rating</th>\n",
       "      <th>images</th>\n",
       "      <th>videos</th>\n",
       "    </tr>\n",
       "  </thead>\n",
       "  <tbody>\n",
       "    <tr>\n",
       "      <th>0</th>\n",
       "      <td>Sepadan dengan Harga:YA\\nFitur Terbaik:Kapasit...</td>\n",
       "      <td>5</td>\n",
       "      <td>virjinki14</td>\n",
       "      <td>155.0</td>\n",
       "      <td>{'product_quality': 5, 'seller_service': 5, 'd...</td>\n",
       "      <td>[id-11134103-7r98o-lknfa025o01be4, id-11134103...</td>\n",
       "      <td>[{'id': 'id-11110103-6ke14-lknf8bvfqqfd32', 'c...</td>\n",
       "    </tr>\n",
       "    <tr>\n",
       "      <th>1</th>\n",
       "      <td>Sepadan dengan Harga:sepadan\\nFitur Terbaik:ra...</td>\n",
       "      <td>5</td>\n",
       "      <td>setiawan_custom</td>\n",
       "      <td>58.0</td>\n",
       "      <td>{'product_quality': 5, 'seller_service': 5, 'd...</td>\n",
       "      <td>[id-11134103-7qul4-lke58bhicswkaf, id-11134103...</td>\n",
       "      <td>[{'id': 'id-11110103-6jt7g-lke5a66oqydwa3', 'c...</td>\n",
       "    </tr>\n",
       "    <tr>\n",
       "      <th>2</th>\n",
       "      <td>Fitur Terbaik:penyimpanan besar\\nSepadan denga...</td>\n",
       "      <td>5</td>\n",
       "      <td>fitrianingsihfitrianings649</td>\n",
       "      <td>17.0</td>\n",
       "      <td>{'product_quality': 5, 'seller_service': 5, 'd...</td>\n",
       "      <td>[id-11134103-7r98o-lkrzfc6w3klfe6, id-11134103...</td>\n",
       "      <td>[{'id': 'id-11110103-6ke14-lkrzgpplmscqfe', 'c...</td>\n",
       "    </tr>\n",
       "    <tr>\n",
       "      <th>3</th>\n",
       "      <td>Sepadan dengan Harga:barang sampai dengan sela...</td>\n",
       "      <td>5</td>\n",
       "      <td>n*****i</td>\n",
       "      <td>40.0</td>\n",
       "      <td>{'product_quality': 5, 'seller_service': 5, 'd...</td>\n",
       "      <td>[id-11134103-7qul5-lk9nrep4176hd4, id-11134103...</td>\n",
       "      <td>[{'id': 'id-11110103-6jt7b-lk9nqpveshuc79', 'c...</td>\n",
       "    </tr>\n",
       "    <tr>\n",
       "      <th>4</th>\n",
       "      <td>Sepadan dengan Harga:Kualitas dan harga worth ...</td>\n",
       "      <td>5</td>\n",
       "      <td>nurbagusm6</td>\n",
       "      <td>35.0</td>\n",
       "      <td>{'product_quality': 5, 'seller_service': 5, 'd...</td>\n",
       "      <td>[id-11134103-7qula-lk6pqbs64de7ba, id-11134103...</td>\n",
       "      <td>[{'id': 'id-11110103-6jt79-lk6pqzjlcjz68c', 'c...</td>\n",
       "    </tr>\n",
       "    <tr>\n",
       "      <th>5</th>\n",
       "      <td>Fitur Terbaik:Kamera\\nSepadan dengan Harga:Iya...</td>\n",
       "      <td>5</td>\n",
       "      <td>y*****p</td>\n",
       "      <td>9.0</td>\n",
       "      <td>{'product_quality': 5, 'seller_service': 5, 'd...</td>\n",
       "      <td>[id-11134103-7qul9-lkfa0siurwdydf, id-11134103...</td>\n",
       "      <td>[{'id': 'id-11110103-6jt7n-lkfa3a1lrsm176', 'c...</td>\n",
       "    </tr>\n",
       "    <tr>\n",
       "      <th>6</th>\n",
       "      <td>Fitur Terbaik:bagus banget\\nSepadan dengan Har...</td>\n",
       "      <td>5</td>\n",
       "      <td>g*****a</td>\n",
       "      <td>14.0</td>\n",
       "      <td>{'product_quality': 5, 'seller_service': 5, 'd...</td>\n",
       "      <td>[id-11134103-7qul6-lkabn7a15b1m24, id-11134103...</td>\n",
       "      <td>[{'id': 'id-11110103-6jt7j-lkacxeeow2bdb5', 'c...</td>\n",
       "    </tr>\n",
       "    <tr>\n",
       "      <th>7</th>\n",
       "      <td>Fitur Terbaik:Penyimpanan BESAR Dan Body Kaca\\...</td>\n",
       "      <td>5</td>\n",
       "      <td>e*****1</td>\n",
       "      <td>22.0</td>\n",
       "      <td>{'product_quality': 5, 'seller_service': 5, 'd...</td>\n",
       "      <td>[id-11134103-7qula-lk2bozd657vmb2, id-11134103...</td>\n",
       "      <td>[{'id': 'id-11110103-6jt74-lk2bnvzlrnmvae', 'c...</td>\n",
       "    </tr>\n",
       "    <tr>\n",
       "      <th>8</th>\n",
       "      <td>Fitur Terbaik:hp sudah datang tanpa ada cacat ...</td>\n",
       "      <td>5</td>\n",
       "      <td>s*****t</td>\n",
       "      <td>44.0</td>\n",
       "      <td>{'product_quality': 5, 'seller_service': 5, 'd...</td>\n",
       "      <td>[id-11134103-7qukw-lk6ida2b9qprf3, id-11134103...</td>\n",
       "      <td>[{'id': 'id-11110103-6jt7f-lk6ig3o4kyzua7', 'c...</td>\n",
       "    </tr>\n",
       "    <tr>\n",
       "      <th>9</th>\n",
       "      <td>Fitur Terbaik:bgs sesuai dengan deskripsi\\nSep...</td>\n",
       "      <td>5</td>\n",
       "      <td>c*****3</td>\n",
       "      <td>8.0</td>\n",
       "      <td>{'product_quality': 5, 'seller_service': 5, 'd...</td>\n",
       "      <td>[id-11134103-7qul0-lk7zm6ak30svb3, id-11134103...</td>\n",
       "      <td>[{'id': 'id-11110103-6jt7h-lk7zqi1u5fze5a', 'c...</td>\n",
       "    </tr>\n",
       "    <tr>\n",
       "      <th>10</th>\n",
       "      <td>Fitur Terbaik:mantapp\\nSepadan dengan Harga:mu...</td>\n",
       "      <td>5</td>\n",
       "      <td>yesiwidyarto_96</td>\n",
       "      <td>6.0</td>\n",
       "      <td>{'product_quality': 5, 'seller_service': None,...</td>\n",
       "      <td>[id-11134103-7qul4-lkf5nn09v4ple7, id-11134103...</td>\n",
       "      <td>[{'id': 'id-11110103-6jt7i-lkf5p0kdcb3e3d', 'c...</td>\n",
       "    </tr>\n",
       "    <tr>\n",
       "      <th>11</th>\n",
       "      <td>Sepadan dengan Harga:sangat sepadan dengan har...</td>\n",
       "      <td>5</td>\n",
       "      <td>6*****6</td>\n",
       "      <td>39.0</td>\n",
       "      <td>{'product_quality': 5, 'seller_service': 4, 'd...</td>\n",
       "      <td>[id-11134103-7qul7-lkad836tt4t5d4, id-11134103...</td>\n",
       "      <td>[{'id': 'id-11110103-6jt7d-lkad97omjt4w56', 'c...</td>\n",
       "    </tr>\n",
       "    <tr>\n",
       "      <th>12</th>\n",
       "      <td>Fitur Terbaik:Bagus semua\\nSepadan dengan Harg...</td>\n",
       "      <td>5</td>\n",
       "      <td>rurosan</td>\n",
       "      <td>8.0</td>\n",
       "      <td>{'product_quality': 5, 'seller_service': 5, 'd...</td>\n",
       "      <td>[id-11134103-7qul2-lk5jqaoef12a6a, id-11134103...</td>\n",
       "      <td>[{'id': 'id-11110103-6jt76-lk5joj95cil7c3', 'c...</td>\n",
       "    </tr>\n",
       "    <tr>\n",
       "      <th>13</th>\n",
       "      <td>Sepadan dengan Harga:dengan harga 2 juta sudah...</td>\n",
       "      <td>5</td>\n",
       "      <td>arie_prihady</td>\n",
       "      <td>62.0</td>\n",
       "      <td>{'product_quality': 5, 'seller_service': 5, 'd...</td>\n",
       "      <td>[id-11134103-7r98o-lklu6oywo0ff5b, id-11134103...</td>\n",
       "      <td>[{'id': 'id-11110103-6ke14-lklu73mn7qy758', 'c...</td>\n",
       "    </tr>\n",
       "    <tr>\n",
       "      <th>14</th>\n",
       "      <td>Sepadan dengan Harga:Bagus\\nFitur Terbaik:Bagu...</td>\n",
       "      <td>5</td>\n",
       "      <td>agusmuham</td>\n",
       "      <td>5.0</td>\n",
       "      <td>{'product_quality': 5, 'seller_service': 5, 'd...</td>\n",
       "      <td>[id-11134103-7qul6-lkc24zuzubluc7, id-11134103...</td>\n",
       "      <td>[{'id': 'id-11110103-6jt75-lkc24gki2mj833', 'c...</td>\n",
       "    </tr>\n",
       "    <tr>\n",
       "      <th>15</th>\n",
       "      <td>Fitur Terbaik:xiomi redmi 12 bagus\\nSepadan de...</td>\n",
       "      <td>5</td>\n",
       "      <td>tendysutendy</td>\n",
       "      <td>13.0</td>\n",
       "      <td>{'product_quality': 5, 'seller_service': 5, 'd...</td>\n",
       "      <td>[id-11134103-7qul4-lk58c68kcjdu44, id-11134103...</td>\n",
       "      <td>[{'id': 'id-11110103-6jt7a-lk58db4si47s18', 'c...</td>\n",
       "    </tr>\n",
       "    <tr>\n",
       "      <th>16</th>\n",
       "      <td>Sepadan dengan Harga:Sepada\\nFitur Terbaik:HP ...</td>\n",
       "      <td>5</td>\n",
       "      <td>yanvitaanggraeni</td>\n",
       "      <td>12.0</td>\n",
       "      <td>{'product_quality': 5, 'seller_service': 5, 'd...</td>\n",
       "      <td>[id-11134103-7qul5-lkgl9e7y8gc6a7, id-11134103...</td>\n",
       "      <td>[{'id': 'id-11110103-6jt79-lkglfhyqnygab8', 'c...</td>\n",
       "    </tr>\n",
       "    <tr>\n",
       "      <th>17</th>\n",
       "      <td>Fitur Terbaik:mantap banget\\n\\nAlhamdulillah p...</td>\n",
       "      <td>5</td>\n",
       "      <td>weny222222</td>\n",
       "      <td>NaN</td>\n",
       "      <td>{'product_quality': 5, 'seller_service': 4, 'd...</td>\n",
       "      <td>[id-11134103-7r98o-lknbbiig4z7t9b, id-11134103...</td>\n",
       "      <td>[{'id': 'id-11110103-6ke14-lknbaw2qyy392d', 'c...</td>\n",
       "    </tr>\n",
       "    <tr>\n",
       "      <th>18</th>\n",
       "      <td>Sepadan dengan Harga:murah lah dengan spek ban...</td>\n",
       "      <td>5</td>\n",
       "      <td>alfi_44shop</td>\n",
       "      <td>1.0</td>\n",
       "      <td>{'product_quality': 5, 'seller_service': None,...</td>\n",
       "      <td>[id-11134103-7r98o-lkrsgtic2z1w89, id-11134103...</td>\n",
       "      <td>[{'id': 'id-11110103-6ke14-lkrshvsryz9032', 'c...</td>\n",
       "    </tr>\n",
       "    <tr>\n",
       "      <th>19</th>\n",
       "      <td>Fitur Terbaik:penyimpananya gede\\nSepadan deng...</td>\n",
       "      <td>5</td>\n",
       "      <td>treizzhttreizzht</td>\n",
       "      <td>32.0</td>\n",
       "      <td>{'product_quality': 5, 'seller_service': 5, 'd...</td>\n",
       "      <td>[id-11134103-7qul7-lk2g4evz1rrsae, id-11134103...</td>\n",
       "      <td>[{'id': 'id-11110103-6jt7m-lk2g4v697tn39b', 'c...</td>\n",
       "    </tr>\n",
       "    <tr>\n",
       "      <th>20</th>\n",
       "      <td>Fitur Terbaik:design nya keren abies\\nSepadan ...</td>\n",
       "      <td>5</td>\n",
       "      <td>vearactivewear</td>\n",
       "      <td>8.0</td>\n",
       "      <td>{'product_quality': 5, 'seller_service': 5, 'd...</td>\n",
       "      <td>[id-11134103-7qul0-lk2kvzmi54rrfe, id-11134103...</td>\n",
       "      <td>[{'id': 'id-11110103-6jt7l-lk2kwtwnttjs4b', 'c...</td>\n",
       "    </tr>\n",
       "    <tr>\n",
       "      <th>21</th>\n",
       "      <td>Barang sesuai dan berfungsi dengan baik, pengi...</td>\n",
       "      <td>5</td>\n",
       "      <td>r*****5</td>\n",
       "      <td>7.0</td>\n",
       "      <td>{'product_quality': 5, 'seller_service': 5, 'd...</td>\n",
       "      <td>[id-11134103-7r98o-lkm4p6uuvbqnd8, id-11134103...</td>\n",
       "      <td>[{'id': 'id-11110103-6ke14-lkm4vgsq6zh169', 'c...</td>\n",
       "    </tr>\n",
       "    <tr>\n",
       "      <th>22</th>\n",
       "      <td>Sepadan dengan Harga:sepadan\\n\\nProduk datang ...</td>\n",
       "      <td>5</td>\n",
       "      <td>s*****a</td>\n",
       "      <td>3.0</td>\n",
       "      <td>{'product_quality': 5, 'seller_service': 5, 'd...</td>\n",
       "      <td>[id-11134103-7qul7-lkauj7dj0rpwcd, id-11134103...</td>\n",
       "      <td>[{'id': 'id-11110103-6jt78-lkaujzqlik6xcf', 'c...</td>\n",
       "    </tr>\n",
       "    <tr>\n",
       "      <th>23</th>\n",
       "      <td>alhamdulillah hp sudah sampai.. \\naman terkend...</td>\n",
       "      <td>5</td>\n",
       "      <td>dinirohma611</td>\n",
       "      <td>27.0</td>\n",
       "      <td>{'product_quality': 5, 'seller_service': 5, 'd...</td>\n",
       "      <td>[id-11134103-7r98o-lkmied1nvqc1c3, id-11134103...</td>\n",
       "      <td>[{'id': 'id-11110103-6ke14-lkmrig7hiq7zf2', 'c...</td>\n",
       "    </tr>\n",
       "    <tr>\n",
       "      <th>24</th>\n",
       "      <td>ipengiriman cepat\\nProduk original dan harga s...</td>\n",
       "      <td>5</td>\n",
       "      <td>ellindalindoo</td>\n",
       "      <td>3.0</td>\n",
       "      <td>{'product_quality': 5, 'seller_service': 5, 'd...</td>\n",
       "      <td>[id-11134103-7qul2-lk4wh2hcwl3j30, id-11134103...</td>\n",
       "      <td>[{'id': 'id-11110103-6jt7k-lk4wgxc0ft94bc', 'c...</td>\n",
       "    </tr>\n",
       "    <tr>\n",
       "      <th>25</th>\n",
       "      <td>Fitur Terbaik:bagus\\n\\nRespon admin toko nya s...</td>\n",
       "      <td>5</td>\n",
       "      <td>midaham12</td>\n",
       "      <td>3.0</td>\n",
       "      <td>{'product_quality': 5, 'seller_service': 5, 'd...</td>\n",
       "      <td>[id-11134103-7qul8-lk4yyu99mrkr75, id-11134103...</td>\n",
       "      <td>[{'id': 'id-11110103-6jt75-lk4z00by0t9mb4', 'c...</td>\n",
       "    </tr>\n",
       "    <tr>\n",
       "      <th>26</th>\n",
       "      <td>Murah tapi kualitas tidak Murahan, 2,2 dapat R...</td>\n",
       "      <td>5</td>\n",
       "      <td>gunadi9285</td>\n",
       "      <td>21.0</td>\n",
       "      <td>{'product_quality': 5, 'seller_service': 5, 'd...</td>\n",
       "      <td>[id-11134103-7qul0-lk41i6cda7mj36, id-11134103...</td>\n",
       "      <td>[{'id': 'id-11110103-6jt7h-lk41j9otpee3ae', 'c...</td>\n",
       "    </tr>\n",
       "    <tr>\n",
       "      <th>27</th>\n",
       "      <td>Paket sudah sampai barang ori masi segel pekin...</td>\n",
       "      <td>5</td>\n",
       "      <td>e*****0</td>\n",
       "      <td>7.0</td>\n",
       "      <td>{'product_quality': 5, 'seller_service': 5, 'd...</td>\n",
       "      <td>[id-11134103-7qula-lk7rxejktogy53, id-11134103...</td>\n",
       "      <td>[{'id': 'id-11110103-6jt7e-lk7ry8qen8rf23', 'c...</td>\n",
       "    </tr>\n",
       "    <tr>\n",
       "      <th>28</th>\n",
       "      <td>Sepadan dengan Harga:Harusnya dapat G99\\nFitur...</td>\n",
       "      <td>5</td>\n",
       "      <td>edwinsalsabila</td>\n",
       "      <td>2.0</td>\n",
       "      <td>{'product_quality': 5, 'seller_service': 5, 'd...</td>\n",
       "      <td>[id-11134103-7r98o-lklgictdthuo65, id-11134103...</td>\n",
       "      <td>[{'id': 'id-11110103-6ke14-lklgitl59z4l9b', 'c...</td>\n",
       "    </tr>\n",
       "    <tr>\n",
       "      <th>29</th>\n",
       "      <td>Sepadan dengan Harga:iya, mantap\\nFitur Terbai...</td>\n",
       "      <td>5</td>\n",
       "      <td>j*****4</td>\n",
       "      <td>6.0</td>\n",
       "      <td>{'product_quality': 5, 'seller_service': 5, 'd...</td>\n",
       "      <td>[id-11134103-7qukw-lk8a70z65peg77, id-11134103...</td>\n",
       "      <td>[{'id': 'id-11110103-6jt7h-lk8a9nyd8xqwe0', 'c...</td>\n",
       "    </tr>\n",
       "    <tr>\n",
       "      <th>30</th>\n",
       "      <td>Sepadan dengan Harga:kualitas sesuai dengan ha...</td>\n",
       "      <td>5</td>\n",
       "      <td>rizkyencha91</td>\n",
       "      <td>2.0</td>\n",
       "      <td>{'product_quality': 5, 'seller_service': 5, 'd...</td>\n",
       "      <td>[id-11134103-7qul2-lkj4stv1c80k1c, id-11134103...</td>\n",
       "      <td>[{'id': 'id-11110103-6jt79-lkj4sinbsf4pc9', 'c...</td>\n",
       "    </tr>\n",
       "    <tr>\n",
       "      <th>31</th>\n",
       "      <td>Fitur Terbaik:sangat baik\\nSepadan dengan Harg...</td>\n",
       "      <td>5</td>\n",
       "      <td>mamahaji</td>\n",
       "      <td>3.0</td>\n",
       "      <td>{'product_quality': 5, 'seller_service': 5, 'd...</td>\n",
       "      <td>[id-11134103-7qul3-lk9fd4eqzdeca1, id-11134103...</td>\n",
       "      <td>[{'id': 'id-11110103-6jt7h-lk9famvq1ac4bd', 'c...</td>\n",
       "    </tr>\n",
       "    <tr>\n",
       "      <th>32</th>\n",
       "      <td>Fitur Terbaik:yg pasti memorynya...\\n\\nTerima ...</td>\n",
       "      <td>5</td>\n",
       "      <td>b*****y</td>\n",
       "      <td>193.0</td>\n",
       "      <td>{'product_quality': 5, 'seller_service': 5, 'd...</td>\n",
       "      <td>[id-11134103-7qul8-ljybyjplv1j306, id-11134103...</td>\n",
       "      <td>[{'id': 'id-11110103-6jt77-ljybzxbn9e2ne8', 'c...</td>\n",
       "    </tr>\n",
       "    <tr>\n",
       "      <th>33</th>\n",
       "      <td>Kardus di tersegel-&gt;OK\\nTerisi daya 75%,\\nTelp...</td>\n",
       "      <td>5</td>\n",
       "      <td>em_store89</td>\n",
       "      <td>3.0</td>\n",
       "      <td>{'product_quality': 5, 'seller_service': 5, 'd...</td>\n",
       "      <td>[id-11134103-7qula-lkb3avcv7k1679, id-11134103...</td>\n",
       "      <td>[{'id': 'id-11110103-6jt7k-lkb31m94o0xic8', 'c...</td>\n",
       "    </tr>\n",
       "    <tr>\n",
       "      <th>34</th>\n",
       "      <td>Sepadan dengan Harga:sangat worth it untuk har...</td>\n",
       "      <td>5</td>\n",
       "      <td>f*****h</td>\n",
       "      <td>5.0</td>\n",
       "      <td>{'product_quality': 5, 'seller_service': 5, 'd...</td>\n",
       "      <td>[id-11134103-7qukx-lkf5k7jkjel092, id-11134103...</td>\n",
       "      <td>[{'id': 'id-11110103-6jt7h-lkf5l3dhyhllf6', 'c...</td>\n",
       "    </tr>\n",
       "    <tr>\n",
       "      <th>35</th>\n",
       "      <td>Sepadan dengan Harga:sepadan\\nFitur Terbaik:pe...</td>\n",
       "      <td>5</td>\n",
       "      <td>u*****5</td>\n",
       "      <td>6.0</td>\n",
       "      <td>{'product_quality': 5, 'seller_service': 5, 'd...</td>\n",
       "      <td>[id-11134103-7qul9-lk3iuhc5q59m3b, id-11134103...</td>\n",
       "      <td>[{'id': 'id-11110103-6jt7g-lk3ivnfxn47v6a', 'c...</td>\n",
       "    </tr>\n",
       "    <tr>\n",
       "      <th>36</th>\n",
       "      <td>Fitur Terbaik:nfc, ip53, 8/256, charger\\nSepad...</td>\n",
       "      <td>5</td>\n",
       "      <td>dientrisna</td>\n",
       "      <td>35.0</td>\n",
       "      <td>{'product_quality': 5, 'seller_service': 4, 'd...</td>\n",
       "      <td>[id-11134103-7qul9-lkf0shn51i2e61, id-11134103...</td>\n",
       "      <td>[{'id': 'id-11110103-6jt7l-lkf1huzifn7md3', 'c...</td>\n",
       "    </tr>\n",
       "    <tr>\n",
       "      <th>37</th>\n",
       "      <td>Sepadan dengan Harga:Keren bangettt\\nFitur Ter...</td>\n",
       "      <td>5</td>\n",
       "      <td>irahamelberg93</td>\n",
       "      <td>3.0</td>\n",
       "      <td>{'product_quality': 5, 'seller_service': 5, 'd...</td>\n",
       "      <td>[id-11134103-7qul5-lkb6q8cgd002db, id-11134103...</td>\n",
       "      <td>[{'id': 'id-11110103-6jt7n-lkb6pl0aihjoad', 'c...</td>\n",
       "    </tr>\n",
       "    <tr>\n",
       "      <th>38</th>\n",
       "      <td>Sepadan dengan Harga:Murah\\nFitur Terbaik:ok\\n...</td>\n",
       "      <td>5</td>\n",
       "      <td>a*****8</td>\n",
       "      <td>6.0</td>\n",
       "      <td>{'product_quality': 5, 'seller_service': 3, 'd...</td>\n",
       "      <td>[id-11134103-7qukx-lk6oljqyesfb06, id-11134103...</td>\n",
       "      <td>[{'id': 'id-11110103-6jt7m-lk6oo4iinqvs2a', 'c...</td>\n",
       "    </tr>\n",
       "    <tr>\n",
       "      <th>39</th>\n",
       "      <td>Sepadan dengan Harga:bagus sepadan dengan harg...</td>\n",
       "      <td>5</td>\n",
       "      <td>citranovelasari</td>\n",
       "      <td>2.0</td>\n",
       "      <td>{'product_quality': 5, 'seller_service': 5, 'd...</td>\n",
       "      <td>[id-11134103-7r98o-lknpmzxrpjxnd2, id-11134103...</td>\n",
       "      <td>[{'id': 'id-11110103-6ke14-lknpoycym7c0bf', 'c...</td>\n",
       "    </tr>\n",
       "    <tr>\n",
       "      <th>40</th>\n",
       "      <td>Fitur Terbaik:overall good\\nSepadan dengan Har...</td>\n",
       "      <td>5</td>\n",
       "      <td>d*****r</td>\n",
       "      <td>3.0</td>\n",
       "      <td>{'product_quality': 5, 'seller_service': 5, 'd...</td>\n",
       "      <td>[id-11134103-7qul8-lk4nicfeljx7b7, id-11134103...</td>\n",
       "      <td>[{'id': 'id-11110103-6jt76-lk4nn2565uf756', 'c...</td>\n",
       "    </tr>\n",
       "    <tr>\n",
       "      <th>41</th>\n",
       "      <td>Alhamdulillah paketnya sudah sampai\\nDgn kondi...</td>\n",
       "      <td>5</td>\n",
       "      <td>yettyanggraini81</td>\n",
       "      <td>2.0</td>\n",
       "      <td>{'product_quality': 5, 'seller_service': 5, 'd...</td>\n",
       "      <td>[id-11134103-7qukz-lk6c9vgjx6hn0c, id-11134103...</td>\n",
       "      <td>[{'id': 'id-11110103-6jt78-lk6cbap4xusb24', 'c...</td>\n",
       "    </tr>\n",
       "    <tr>\n",
       "      <th>42</th>\n",
       "      <td>Bagus banget harganyaa murah kualitas nya bagu...</td>\n",
       "      <td>5</td>\n",
       "      <td>rianadwimakrti</td>\n",
       "      <td>5.0</td>\n",
       "      <td>{'product_quality': 5, 'seller_service': 5, 'd...</td>\n",
       "      <td>[id-11134103-7qul7-lk82e77cl4ijca, id-11134103...</td>\n",
       "      <td>[{'id': 'id-11110103-6jt7g-lk82fgt3um22f1', 'c...</td>\n",
       "    </tr>\n",
       "    <tr>\n",
       "      <th>43</th>\n",
       "      <td>Fitur Terbaik:hape nya gedhe\\nSepadan dengan H...</td>\n",
       "      <td>5</td>\n",
       "      <td>atanknoercsoekardie</td>\n",
       "      <td>39.0</td>\n",
       "      <td>{'product_quality': 5, 'seller_service': 5, 'd...</td>\n",
       "      <td>[id-11134103-7qul2-lk1yrrd2uvybd5, id-11134103...</td>\n",
       "      <td>[{'id': 'id-11110103-6jt76-lk1yt8h33hegf9', 'c...</td>\n",
       "    </tr>\n",
       "    <tr>\n",
       "      <th>44</th>\n",
       "      <td>Sepadan dengan Harga:iya\\nFitur Terbaik:terbaik</td>\n",
       "      <td>5</td>\n",
       "      <td>taufikfathur193</td>\n",
       "      <td>7.0</td>\n",
       "      <td>{'product_quality': 5, 'seller_service': 5, 'd...</td>\n",
       "      <td>[id-11134103-7quky-lkckqvwh0itc8f, id-11134103...</td>\n",
       "      <td>[{'id': 'id-11110103-6jt76-lkcksc54hlxedc', 'c...</td>\n",
       "    </tr>\n",
       "    <tr>\n",
       "      <th>45</th>\n",
       "      <td>Barangnya sudah sampai dengan aman, bagus sesu...</td>\n",
       "      <td>5</td>\n",
       "      <td>n*****7</td>\n",
       "      <td>NaN</td>\n",
       "      <td>{'product_quality': 5, 'seller_service': 5, 'd...</td>\n",
       "      <td>[id-11134103-7r98o-lkththinngg29d, id-11134103...</td>\n",
       "      <td>[{'id': 'id-11110103-6ke14-lkthsvkzr14i06', 'c...</td>\n",
       "    </tr>\n",
       "    <tr>\n",
       "      <th>46</th>\n",
       "      <td>Alhamdulillah paketannya sampai juga walaupun ...</td>\n",
       "      <td>5</td>\n",
       "      <td>sitifatimahlubis20</td>\n",
       "      <td>3.0</td>\n",
       "      <td>{'product_quality': 5, 'seller_service': None,...</td>\n",
       "      <td>[id-11134103-7r98o-lklfop6g7rts04, id-11134103...</td>\n",
       "      <td>[{'id': 'id-11110103-6ke14-lklg1x4fro5tea', 'c...</td>\n",
       "    </tr>\n",
       "    <tr>\n",
       "      <th>47</th>\n",
       "      <td>Sepadan dengan Harga:sangat bagus dan memuaska...</td>\n",
       "      <td>5</td>\n",
       "      <td>heddy_kusmayadi</td>\n",
       "      <td>4.0</td>\n",
       "      <td>{'product_quality': 5, 'seller_service': 5, 'd...</td>\n",
       "      <td>[id-11134103-7qul8-lk6pkj9d9o3ndc, id-11134103...</td>\n",
       "      <td>[]</td>\n",
       "    </tr>\n",
       "    <tr>\n",
       "      <th>48</th>\n",
       "      <td>paket datang dengan kondisi aman, walau bubble...</td>\n",
       "      <td>5</td>\n",
       "      <td>konsu151</td>\n",
       "      <td>3.0</td>\n",
       "      <td>{'product_quality': 5, 'seller_service': 4, 'd...</td>\n",
       "      <td>[id-11134103-7qukx-lk9myz1y4mki99, id-11134103...</td>\n",
       "      <td>[{'id': 'id-11110103-6jt78-lk9n441db5uc98', 'c...</td>\n",
       "    </tr>\n",
       "    <tr>\n",
       "      <th>49</th>\n",
       "      <td>Fitur Terbaik:baik\\nSepadan dengan Harga:oke\\n...</td>\n",
       "      <td>5</td>\n",
       "      <td>k*****1</td>\n",
       "      <td>3.0</td>\n",
       "      <td>{'product_quality': 5, 'seller_service': 5, 'd...</td>\n",
       "      <td>[id-11134103-7qukx-lk6jid8r3n2786, id-11134103...</td>\n",
       "      <td>[{'id': 'id-11110103-6jt78-lk6jiu2627u285', 'c...</td>\n",
       "    </tr>\n",
       "  </tbody>\n",
       "</table>\n",
       "</div>"
      ],
      "text/plain": [
       "                                              comment  ...                                             videos\n",
       "0   Sepadan dengan Harga:YA\\nFitur Terbaik:Kapasit...  ...  [{'id': 'id-11110103-6ke14-lknf8bvfqqfd32', 'c...\n",
       "1   Sepadan dengan Harga:sepadan\\nFitur Terbaik:ra...  ...  [{'id': 'id-11110103-6jt7g-lke5a66oqydwa3', 'c...\n",
       "2   Fitur Terbaik:penyimpanan besar\\nSepadan denga...  ...  [{'id': 'id-11110103-6ke14-lkrzgpplmscqfe', 'c...\n",
       "3   Sepadan dengan Harga:barang sampai dengan sela...  ...  [{'id': 'id-11110103-6jt7b-lk9nqpveshuc79', 'c...\n",
       "4   Sepadan dengan Harga:Kualitas dan harga worth ...  ...  [{'id': 'id-11110103-6jt79-lk6pqzjlcjz68c', 'c...\n",
       "5   Fitur Terbaik:Kamera\\nSepadan dengan Harga:Iya...  ...  [{'id': 'id-11110103-6jt7n-lkfa3a1lrsm176', 'c...\n",
       "6   Fitur Terbaik:bagus banget\\nSepadan dengan Har...  ...  [{'id': 'id-11110103-6jt7j-lkacxeeow2bdb5', 'c...\n",
       "7   Fitur Terbaik:Penyimpanan BESAR Dan Body Kaca\\...  ...  [{'id': 'id-11110103-6jt74-lk2bnvzlrnmvae', 'c...\n",
       "8   Fitur Terbaik:hp sudah datang tanpa ada cacat ...  ...  [{'id': 'id-11110103-6jt7f-lk6ig3o4kyzua7', 'c...\n",
       "9   Fitur Terbaik:bgs sesuai dengan deskripsi\\nSep...  ...  [{'id': 'id-11110103-6jt7h-lk7zqi1u5fze5a', 'c...\n",
       "10  Fitur Terbaik:mantapp\\nSepadan dengan Harga:mu...  ...  [{'id': 'id-11110103-6jt7i-lkf5p0kdcb3e3d', 'c...\n",
       "11  Sepadan dengan Harga:sangat sepadan dengan har...  ...  [{'id': 'id-11110103-6jt7d-lkad97omjt4w56', 'c...\n",
       "12  Fitur Terbaik:Bagus semua\\nSepadan dengan Harg...  ...  [{'id': 'id-11110103-6jt76-lk5joj95cil7c3', 'c...\n",
       "13  Sepadan dengan Harga:dengan harga 2 juta sudah...  ...  [{'id': 'id-11110103-6ke14-lklu73mn7qy758', 'c...\n",
       "14  Sepadan dengan Harga:Bagus\\nFitur Terbaik:Bagu...  ...  [{'id': 'id-11110103-6jt75-lkc24gki2mj833', 'c...\n",
       "15  Fitur Terbaik:xiomi redmi 12 bagus\\nSepadan de...  ...  [{'id': 'id-11110103-6jt7a-lk58db4si47s18', 'c...\n",
       "16  Sepadan dengan Harga:Sepada\\nFitur Terbaik:HP ...  ...  [{'id': 'id-11110103-6jt79-lkglfhyqnygab8', 'c...\n",
       "17  Fitur Terbaik:mantap banget\\n\\nAlhamdulillah p...  ...  [{'id': 'id-11110103-6ke14-lknbaw2qyy392d', 'c...\n",
       "18  Sepadan dengan Harga:murah lah dengan spek ban...  ...  [{'id': 'id-11110103-6ke14-lkrshvsryz9032', 'c...\n",
       "19  Fitur Terbaik:penyimpananya gede\\nSepadan deng...  ...  [{'id': 'id-11110103-6jt7m-lk2g4v697tn39b', 'c...\n",
       "20  Fitur Terbaik:design nya keren abies\\nSepadan ...  ...  [{'id': 'id-11110103-6jt7l-lk2kwtwnttjs4b', 'c...\n",
       "21  Barang sesuai dan berfungsi dengan baik, pengi...  ...  [{'id': 'id-11110103-6ke14-lkm4vgsq6zh169', 'c...\n",
       "22  Sepadan dengan Harga:sepadan\\n\\nProduk datang ...  ...  [{'id': 'id-11110103-6jt78-lkaujzqlik6xcf', 'c...\n",
       "23  alhamdulillah hp sudah sampai.. \\naman terkend...  ...  [{'id': 'id-11110103-6ke14-lkmrig7hiq7zf2', 'c...\n",
       "24  ipengiriman cepat\\nProduk original dan harga s...  ...  [{'id': 'id-11110103-6jt7k-lk4wgxc0ft94bc', 'c...\n",
       "25  Fitur Terbaik:bagus\\n\\nRespon admin toko nya s...  ...  [{'id': 'id-11110103-6jt75-lk4z00by0t9mb4', 'c...\n",
       "26  Murah tapi kualitas tidak Murahan, 2,2 dapat R...  ...  [{'id': 'id-11110103-6jt7h-lk41j9otpee3ae', 'c...\n",
       "27  Paket sudah sampai barang ori masi segel pekin...  ...  [{'id': 'id-11110103-6jt7e-lk7ry8qen8rf23', 'c...\n",
       "28  Sepadan dengan Harga:Harusnya dapat G99\\nFitur...  ...  [{'id': 'id-11110103-6ke14-lklgitl59z4l9b', 'c...\n",
       "29  Sepadan dengan Harga:iya, mantap\\nFitur Terbai...  ...  [{'id': 'id-11110103-6jt7h-lk8a9nyd8xqwe0', 'c...\n",
       "30  Sepadan dengan Harga:kualitas sesuai dengan ha...  ...  [{'id': 'id-11110103-6jt79-lkj4sinbsf4pc9', 'c...\n",
       "31  Fitur Terbaik:sangat baik\\nSepadan dengan Harg...  ...  [{'id': 'id-11110103-6jt7h-lk9famvq1ac4bd', 'c...\n",
       "32  Fitur Terbaik:yg pasti memorynya...\\n\\nTerima ...  ...  [{'id': 'id-11110103-6jt77-ljybzxbn9e2ne8', 'c...\n",
       "33  Kardus di tersegel->OK\\nTerisi daya 75%,\\nTelp...  ...  [{'id': 'id-11110103-6jt7k-lkb31m94o0xic8', 'c...\n",
       "34  Sepadan dengan Harga:sangat worth it untuk har...  ...  [{'id': 'id-11110103-6jt7h-lkf5l3dhyhllf6', 'c...\n",
       "35  Sepadan dengan Harga:sepadan\\nFitur Terbaik:pe...  ...  [{'id': 'id-11110103-6jt7g-lk3ivnfxn47v6a', 'c...\n",
       "36  Fitur Terbaik:nfc, ip53, 8/256, charger\\nSepad...  ...  [{'id': 'id-11110103-6jt7l-lkf1huzifn7md3', 'c...\n",
       "37  Sepadan dengan Harga:Keren bangettt\\nFitur Ter...  ...  [{'id': 'id-11110103-6jt7n-lkb6pl0aihjoad', 'c...\n",
       "38  Sepadan dengan Harga:Murah\\nFitur Terbaik:ok\\n...  ...  [{'id': 'id-11110103-6jt7m-lk6oo4iinqvs2a', 'c...\n",
       "39  Sepadan dengan Harga:bagus sepadan dengan harg...  ...  [{'id': 'id-11110103-6ke14-lknpoycym7c0bf', 'c...\n",
       "40  Fitur Terbaik:overall good\\nSepadan dengan Har...  ...  [{'id': 'id-11110103-6jt76-lk4nn2565uf756', 'c...\n",
       "41  Alhamdulillah paketnya sudah sampai\\nDgn kondi...  ...  [{'id': 'id-11110103-6jt78-lk6cbap4xusb24', 'c...\n",
       "42  Bagus banget harganyaa murah kualitas nya bagu...  ...  [{'id': 'id-11110103-6jt7g-lk82fgt3um22f1', 'c...\n",
       "43  Fitur Terbaik:hape nya gedhe\\nSepadan dengan H...  ...  [{'id': 'id-11110103-6jt76-lk1yt8h33hegf9', 'c...\n",
       "44    Sepadan dengan Harga:iya\\nFitur Terbaik:terbaik  ...  [{'id': 'id-11110103-6jt76-lkcksc54hlxedc', 'c...\n",
       "45  Barangnya sudah sampai dengan aman, bagus sesu...  ...  [{'id': 'id-11110103-6ke14-lkthsvkzr14i06', 'c...\n",
       "46  Alhamdulillah paketannya sampai juga walaupun ...  ...  [{'id': 'id-11110103-6ke14-lklg1x4fro5tea', 'c...\n",
       "47  Sepadan dengan Harga:sangat bagus dan memuaska...  ...                                                 []\n",
       "48  paket datang dengan kondisi aman, walau bubble...  ...  [{'id': 'id-11110103-6jt78-lk9n441db5uc98', 'c...\n",
       "49  Fitur Terbaik:baik\\nSepadan dengan Harga:oke\\n...  ...  [{'id': 'id-11110103-6jt78-lk6jiu2627u285', 'c...\n",
       "\n",
       "[50 rows x 7 columns]"
      ]
     },
     "execution_count": 53,
     "metadata": {},
     "output_type": "execute_result"
    }
   ],
   "source": [
    "ratingss = ratings[['comment', 'rating_star', 'author_username','like_count','detailed_rating','images','videos']]\n",
    "ratingss.head(50)\n"
   ]
  },
  {
   "cell_type": "code",
   "execution_count": null,
   "id": "21c73ce5-62dc-4e56-a41a-0b4dc091df64",
   "metadata": {
    "executionCancelledAt": null,
    "executionTime": 55,
    "lastExecutedAt": 1693115730036,
    "lastScheduledRunId": null,
    "lastSuccessfullyExecutedCode": "ratingss.to_csv('ratingss-'+produk+'-'+str(offset)+'-50.csv')"
   },
   "outputs": [],
   "source": [
    "ratingss.to_csv('ratingss-'+produk+'-'+str(offset)+'-50.csv')"
   ]
  },
  {
   "cell_type": "code",
   "execution_count": null,
   "id": "fef4ec55-2847-4fe3-bc9c-6a25de8af60d",
   "metadata": {
    "executionCancelledAt": null,
    "executionTime": 47,
    "lastExecutedAt": 1693115516422,
    "lastScheduledRunId": null,
    "lastSuccessfullyExecutedCode": "# import pandas as pd\n# from pandas.io.json import json_normalize\n\n# video_df = json_normalize(ratingss['videos'])\n# video_df",
    "outputsMetadata": {
     "0": {
      "height": 313,
      "type": "dataFrame"
     }
    }
   },
   "outputs": [],
   "source": [
    "# import pandas as pd\n",
    "# from pandas.io.json import json_normalize\n",
    "\n",
    "# video_df = json_normalize(ratingss['videos'])\n",
    "# video_df"
   ]
  },
  {
   "cell_type": "code",
   "execution_count": null,
   "id": "b19e08c3-b300-41c0-8174-9412152606b9",
   "metadata": {
    "chartConfig": {
     "bar": {
      "hasRoundedCorners": true,
      "stacked": false
     },
     "type": "bar",
     "version": "v1"
    },
    "executionCancelledAt": null,
    "executionTime": 47,
    "lastExecutedAt": 1693115516470,
    "lastScheduledRunId": null,
    "lastSuccessfullyExecutedCode": "# import pandas as pd\n# import json\n\n# Convert the JSON list to a DataFrame\n# ratings_json = json.loads(ratingss['videos'].to_json(orient='records'))\n# video_df = pd.DataFrame(ratings_json)\n\n# video_df.head(25)",
    "outputsMetadata": {
     "0": {
      "height": 313,
      "type": "dataFrame"
     }
    },
    "visualizeDataframe": false
   },
   "outputs": [],
   "source": [
    "# import pandas as pd\n",
    "# import json\n",
    "\n",
    "# Convert the JSON list to a DataFrame\n",
    "# ratings_json = json.loads(ratingss['videos'].to_json(orient='records'))\n",
    "# video_df = pd.DataFrame(ratings_json)\n",
    "\n",
    "# video_df.head(25)"
   ]
  },
  {
   "cell_type": "code",
   "execution_count": null,
   "id": "66b30a10-027c-4472-a8c2-bbc1156ac525",
   "metadata": {
    "executionCancelledAt": null,
    "executionTime": 26,
    "lastExecutedAt": 1693115829611,
    "lastScheduledRunId": null,
    "lastSuccessfullyExecutedCode": "import pandas as pd\n\nvideo_df = pd.DataFrame(ratingss['videos'])\nvideo_df.head()",
    "outputsMetadata": {
     "0": {
      "height": 192,
      "type": "dataFrame"
     }
    }
   },
   "outputs": [
    {
     "data": {
      "application/com.datacamp.data-table.v1+json": {
       "table": {
        "data": [
         {
          "index": 0,
          "videos": [
           {
            "cover": "https://down-aka-sg.img.susercontent.com/id-11110103-23080-87ptittipxuvca",
            "cover_image_id": "sg-11134206-7rbk0-lkq288q769ata2",
            "duration": 14291,
            "highlight": {
             "cover": "https://play-ws.vod.shopee.com/c3/98934353/160/A3oyOYvMAFRpimsoEZ8JACc.jpg",
             "cover_image_id": "",
             "duration": 3000,
             "highlight": null,
             "id": "sg-11110160-6ke14-lkq2a9n0h54o00",
             "mms_ext": "{\"vid\":\"sg-11110160-6ke14-lkq2a9n0h54o00\",\"biz\":103,\"duration\":3000,\"create_time\":1692668165,\"serviceID\":6,\"cover\":\"https://play-ws.vod.shopee.com/c3/98934353/160/A3oyOYvMAFRpimsoEZ8JACc.jpg\",\"cover_list\":null,\"formats\":[],\"default_format\":{\"format\":600001,\"defn\":\"ORI\",\"profile\":\"MP4\",\"path\":\"\",\"url\":\"https://play-ws.vod.shopee.com/c3/98934353/160/A3oyOYAeAPRoimsoEagAACc.mp4\",\"width\":250,\"height\":250,\"bitrate\":222624,\"size\":85220,\"fps\":25,\"duration\":3000,\"update_time\":1692668166},\"extend_formats\":{\"H265\":[{\"format\":1600305,\"defn\":\"V270P\",\"profile\":\"MP4\",\"path\":\"api/v4/11110160/mms/sg-11110160-6ke14-lkq2a9n0h54o00.16003051692668174.mp4\",\"url\":\"https://play-ws.vod.shopee.com/api/v4/11110160/mms/sg-11110160-6ke14-lkq2a9n0h54o00.16003051692668174.mp4\",\"width\":250,\"height\":250,\"bitrate\":115478,\"size\":47052,\"fps\":25.33784,\"duration\":2960,\"update_time\":1692668168}]},\"ab_test\":\"\"}",
             "upload_time": null,
             "url": "https://play-ws.vod.shopee.com/c3/98934353/160/A3oyOYAeAPRoimsoEagAACc.mp4"
            },
            "id": "id-11110103-6ke14-lknf8bvfqqfd32",
            "mms_ext": "{\"vid\":\"id-11110103-6ke14-lknf8bvfqqfd32\",\"biz\":103,\"duration\":14291,\"create_time\":1692508347,\"serviceID\":6,\"cover\":\"https://down-aka-sg.img.susercontent.com/id-11110103-23080-87ptittipxuvca\",\"cover_list\":null,\"formats\":[{\"format\":1600323,\"defn\":\"V540P\",\"profile\":\"MP4\",\"path\":\"api/v4/11110103/mms/id-11110103-6ke14-lknf8bvfqqfd32.default.mp4\",\"url\":\"https://play-ws.vod.shopee.com/api/v4/11110103/mms/id-11110103-6ke14-lknf8bvfqqfd32.default.mp4\",\"width\":360,\"height\":640,\"bitrate\":453005,\"size\":995954,\"fps\":25.07022,\"duration\":14293,\"update_time\":1692508372},{\"format\":1600005,\"defn\":\"V640P\",\"profile\":\"MP4\",\"path\":\"api/v4/11110103/mms/id-11110103-6ke14-lknf8bvfqqfd32.16000051692508348.mp4\",\"url\":\"https://play-ws.vod.shopee.com/api/v4/11110103/mms/id-11110103-6ke14-lknf8bvfqqfd32.16000051692508348.mp4\",\"width\":360,\"height\":640,\"bitrate\":460958,\"size\":1005961,\"fps\":25.07022,\"duration\":14281,\"update_time\":1692508351}],\"default_format\":{\"format\":600001,\"defn\":\"ORI\",\"profile\":\"MP4\",\"path\":\"\",\"url\":\"https://play-ws.vod.shopee.com/c3/98934353/103/A3oyOYfDALRsb0UoEbYLACY.mp4\",\"width\":360,\"height\":640,\"bitrate\":1587659,\"size\":3021610,\"fps\":24,\"duration\":14291,\"update_time\":1692508348},\"extend_formats\":{\"H265\":[{\"format\":1600308,\"defn\":\"V640P\",\"profile\":\"MP4\",\"path\":\"api/v4/11110103/mms/id-11110103-6ke14-lknf8bvfqqfd32.16003081692558725.mp4\",\"url\":\"https://play-ws.vod.shopee.com/api/v4/11110103/mms/id-11110103-6ke14-lknf8bvfqqfd32.16003081692558725.mp4\",\"width\":360,\"height\":640,\"bitrate\":382445,\"size\":874101,\"fps\":25.07022,\"duration\":14281,\"update_time\":1692558737}]},\"ab_test\":\"\"}",
            "upload_time": null,
            "url": "https://play-ws.vod.shopee.com/api/v4/11110103/mms/id-11110103-6ke14-lknf8bvfqqfd32.default.mp4"
           }
          ]
         },
         {
          "index": 1,
          "videos": [
           {
            "cover": "https://down-aka-sg.img.susercontent.com/id-11110103-23080-iwtaz5mkfouva5",
            "cover_image_id": "sg-11134206-7r98o-lkk7hivjw2kb7e",
            "duration": 10289,
            "highlight": {
             "cover": "https://play-ws.vod.shopee.com/c3/98934353/160/A3oyOdbhANwwDRcoEYAAACc.jpg",
             "cover_image_id": "",
             "duration": 3000,
             "highlight": null,
             "id": "sg-11110160-6ke14-lkk7jdylpx2x7f",
             "mms_ext": "{\"vid\":\"sg-11110160-6ke14-lkk7jdylpx2x7f\",\"biz\":103,\"duration\":3000,\"create_time\":1692313792,\"serviceID\":6,\"cover\":\"https://play-ws.vod.shopee.com/c3/98934353/160/A3oyOdbhANwwDRcoEYAAACc.jpg\",\"cover_list\":null,\"formats\":[],\"default_format\":{\"format\":600001,\"defn\":\"ORI\",\"profile\":\"MP4\",\"path\":\"\",\"url\":\"https://play-ws.vod.shopee.com/c3/98934353/160/A3oyOYWPAFwwDRcoEYAFACc.mp4\",\"width\":250,\"height\":250,\"bitrate\":213501,\"size\":81914,\"fps\":25,\"duration\":3000,\"update_time\":1692313793},\"extend_formats\":{\"H265\":[{\"format\":1600305,\"defn\":\"V270P\",\"profile\":\"MP4\",\"path\":\"api/v4/11110160/mms/sg-11110160-6ke14-lkk7jdylpx2x7f.16003051692313800.mp4\",\"url\":\"https://play-ws.vod.shopee.com/api/v4/11110160/mms/sg-11110160-6ke14-lkk7jdylpx2x7f.16003051692313800.mp4\",\"width\":250,\"height\":250,\"bitrate\":104186,\"size\":42858,\"fps\":25.33784,\"duration\":2960,\"update_time\":1692313795}]},\"ab_test\":\"\"}",
             "upload_time": null,
             "url": "https://play-ws.vod.shopee.com/c3/98934353/160/A3oyOYWPAFwwDRcoEYAFACc.mp4"
            },
            "id": "id-11110103-6jt7g-lke5a66oqydwa3",
            "mms_ext": "{\"vid\":\"id-11110103-6jt7g-lke5a66oqydwa3\",\"biz\":103,\"duration\":10289,\"create_time\":1691946806,\"serviceID\":2,\"cover\":\"https://down-aka-sg.img.susercontent.com/id-11110103-23080-iwtaz5mkfouva5\",\"cover_list\":null,\"formats\":[{\"format\":1600323,\"defn\":\"V540P\",\"profile\":\"MP4\",\"path\":\"api/v4/11110103/mms/id-11110103-6jt7g-lke5a66oqydwa3.default.mp4\",\"url\":\"https://play-ws.vod.shopee.com/api/v4/11110103/mms/id-11110103-6jt7g-lke5a66oqydwa3.default.mp4\",\"width\":540,\"height\":960,\"bitrate\":259996,\"size\":506491,\"fps\":25.09728,\"duration\":10279,\"update_time\":1691946821},{\"format\":1600005,\"defn\":\"V640P\",\"profile\":\"MP4\",\"path\":\"api/v4/11110103/mms/id-11110103-6jt7g-lke5a66oqydwa3.16000051691946808.mp4\",\"url\":\"https://play-ws.vod.shopee.com/api/v4/11110103/mms/id-11110103-6jt7g-lke5a66oqydwa3.16000051691946808.mp4\",\"width\":540,\"height\":960,\"bitrate\":517277,\"size\":797076,\"fps\":25.09728,\"duration\":10279,\"update_time\":1691946813}],\"default_format\":{\"format\":600001,\"defn\":\"ORI\",\"profile\":\"MP4\",\"path\":\"\",\"url\":\"https://play-ws.vod.shopee.com/api/v4/11110103/mms/id-11110103-6jt7g-lke5a66oqydwa3.ori.mp4\",\"width\":540,\"height\":960,\"bitrate\":5177855,\"size\":6837590,\"fps\":17.57575,\"duration\":10289,\"update_time\":1691946807},\"extend_formats\":{\"H265\":[{\"format\":1600307,\"defn\":\"V540P\",\"profile\":\"MP4\",\"path\":\"api/v4/11110103/mms/id-11110103-6jt7g-lke5a66oqydwa3.16003071691946814.mp4\",\"url\":\"https://play-ws.vod.shopee.com/api/v4/11110103/mms/id-11110103-6jt7g-lke5a66oqydwa3.16003071691946814.mp4\",\"width\":540,\"height\":960,\"bitrate\":468393,\"size\":777745,\"fps\":25.09728,\"duration\":10279,\"update_time\":1691946828},{\"format\":1600308,\"defn\":\"V640P\",\"profile\":\"MP4\",\"path\":\"api/v4/11110103/mms/id-11110103-6jt7g-lke5a66oqydwa3.16003081692387753.mp4\",\"url\":\"https://play-ws.vod.shopee.com/api/v4/11110103/mms/id-11110103-6jt7g-lke5a66oqydwa3.16003081692387753.mp4\",\"width\":540,\"height\":960,\"bitrate\":481529,\"size\":794625,\"fps\":25.09728,\"duration\":10279,\"update_time\":1692387766}]},\"ab_test\":\"\"}",
            "upload_time": null,
            "url": "https://play-ws.vod.shopee.com/api/v4/11110103/mms/id-11110103-6jt7g-lke5a66oqydwa3.default.mp4"
           }
          ]
         },
         {
          "index": 2,
          "videos": [
           {
            "cover": "https://down-aka-sg.img.susercontent.com/id-11110103-23080-3ptt386q02uve6",
            "cover_image_id": "sg-11134206-7rbk0-lkt39t83p6x320",
            "duration": 24450,
            "highlight": {
             "cover": "https://play-aka.vod.shopee.com/c3/98934353/160/A3oyOWk3ADQpRZcoEcELACc.jpg",
             "cover_image_id": "",
             "duration": 3079,
             "highlight": null,
             "id": "sg-11110160-6ke14-lkt3d1r36cgl45",
             "mms_ext": "{\"vid\":\"sg-11110160-6ke14-lkt3d1r36cgl45\",\"biz\":103,\"duration\":3079,\"create_time\":1692851579,\"serviceID\":6,\"cover\":\"https://play-aka.vod.shopee.com/c3/98934353/160/A3oyOWk3ADQpRZcoEcELACc.jpg\",\"cover_list\":null,\"formats\":[],\"default_format\":{\"format\":600001,\"defn\":\"ORI\",\"profile\":\"MP4\",\"path\":\"\",\"url\":\"https://play-aka.vod.shopee.com/c3/98934353/160/A3oyOZv2AMwoRZcoEdQIACc.mp4\",\"width\":250,\"height\":250,\"bitrate\":209400,\"size\":82374,\"fps\":25,\"duration\":3079,\"update_time\":1692851580},\"extend_formats\":{\"H265\":[{\"format\":1600305,\"defn\":\"V270P\",\"profile\":\"MP4\",\"path\":\"api/v4/11110160/mms/sg-11110160-6ke14-lkt3d1r36cgl45.16003051692851588.mp4\",\"url\":\"https://play-aka.vod.shopee.com/api/v4/11110160/mms/sg-11110160-6ke14-lkt3d1r36cgl45.16003051692851588.mp4\",\"width\":250,\"height\":250,\"bitrate\":123136,\"size\":51143,\"fps\":25.32895,\"duration\":3039,\"update_time\":1692851582}]},\"ab_test\":\"\"}",
             "upload_time": null,
             "url": "https://play-aka.vod.shopee.com/c3/98934353/160/A3oyOZv2AMwoRZcoEdQIACc.mp4"
            },
            "id": "id-11110103-6ke14-lkrzgpplmscqfe",
            "mms_ext": "{\"vid\":\"id-11110103-6ke14-lkrzgpplmscqfe\",\"biz\":103,\"duration\":24450,\"create_time\":1692784505,\"serviceID\":6,\"cover\":\"https://down-aka-sg.img.susercontent.com/id-11110103-23080-3ptt386q02uve6\",\"cover_list\":null,\"formats\":[{\"format\":1600323,\"defn\":\"V540P\",\"profile\":\"MP4\",\"path\":\"api/v4/11110103/mms/id-11110103-6ke14-lkrzgpplmscqfe.default.mp4\",\"url\":\"https://play-ws.vod.shopee.com/api/v4/11110103/mms/id-11110103-6ke14-lkrzgpplmscqfe.default.mp4\",\"width\":480,\"height\":848,\"bitrate\":407779,\"size\":1458616,\"fps\":25.04105,\"duration\":24469,\"update_time\":1692784525},{\"format\":1600005,\"defn\":\"V640P\",\"profile\":\"MP4\",\"path\":\"api/v4/11110103/mms/id-11110103-6ke14-lkrzgpplmscqfe.16000051692784506.mp4\",\"url\":\"https://play-ws.vod.shopee.com/api/v4/11110103/mms/id-11110103-6ke14-lkrzgpplmscqfe.16000051692784506.mp4\",\"width\":480,\"height\":848,\"bitrate\":591831,\"size\":2020743,\"fps\":25.04105,\"duration\":24451,\"update_time\":1692784516}],\"default_format\":{\"format\":600001,\"defn\":\"ORI\",\"profile\":\"MP4\",\"path\":\"\",\"url\":\"https://play-ws.vod.shopee.com/c3/98934353/103/A3oyOXv9AADFRocoEYMHACY.mp4\",\"width\":480,\"height\":848,\"bitrate\":1596082,\"size\":5074467,\"fps\":30,\"duration\":24450,\"update_time\":1692784506},\"extend_formats\":{\"H265\":[{\"format\":1600308,\"defn\":\"V640P\",\"profile\":\"MP4\",\"path\":\"api/v4/11110103/mms/id-11110103-6ke14-lkrzgpplmscqfe.16003081692920668.mp4\",\"url\":\"https://play-ws.vod.shopee.com/api/v4/11110103/mms/id-11110103-6ke14-lkrzgpplmscqfe.16003081692920668.mp4\",\"width\":480,\"height\":848,\"bitrate\":471604,\"size\":1657762,\"fps\":25.04105,\"duration\":24451,\"update_time\":1692920691}]},\"ab_test\":\"\"}",
            "upload_time": null,
            "url": "https://play-ws.vod.shopee.com/api/v4/11110103/mms/id-11110103-6ke14-lkrzgpplmscqfe.default.mp4"
           }
          ]
         },
         {
          "index": 3,
          "videos": [
           {
            "cover": "https://down-aka-sg.img.susercontent.com/id-11110103-23080-folonn81xjuv7e",
            "cover_image_id": "sg-11134206-7qve7-lkarwesuy6680e",
            "duration": 33166,
            "highlight": {
             "cover": "https://play-ws.vod.shopee.com/c3/98934353/160/A3oyOSvsAATL6Y4nEZYKACc.jpg",
             "cover_image_id": "",
             "duration": 3079,
             "highlight": null,
             "id": "sg-11110160-6jro3-lkarykcpf8uq79",
             "mms_ext": "{\"vid\":\"sg-11110160-6jro3-lkarykcpf8uq79\",\"biz\":103,\"duration\":3079,\"create_time\":1691742788,\"serviceID\":6,\"cover\":\"https://play-ws.vod.shopee.com/c3/98934353/160/A3oyOSvsAATL6Y4nEZYKACc.jpg\",\"cover_list\":null,\"formats\":[],\"default_format\":{\"format\":600001,\"defn\":\"ORI\",\"profile\":\"MP4\",\"path\":\"\",\"url\":\"https://play-ws.vod.shopee.com/c3/98934353/160/A3oyOXV7ACTK6Y4nEZcCACc.mp4\",\"width\":250,\"height\":250,\"bitrate\":279901,\"size\":109453,\"fps\":25,\"duration\":3079,\"update_time\":1691742789},\"extend_formats\":{\"H265\":[{\"format\":1600305,\"defn\":\"V270P\",\"profile\":\"MP4\",\"path\":\"api/v4/11110160/mms/sg-11110160-6jro3-lkarykcpf8uq79.16003051691742795.mp4\",\"url\":\"https://play-ws.vod.shopee.com/api/v4/11110160/mms/sg-11110160-6jro3-lkarykcpf8uq79.16003051691742795.mp4\",\"width\":250,\"height\":250,\"bitrate\":135450,\"size\":55810,\"fps\":25.32895,\"duration\":3039,\"update_time\":1691742791}]},\"ab_test\":\"\"}",
             "upload_time": null,
             "url": "https://play-ws.vod.shopee.com/c3/98934353/160/A3oyOXV7ACTK6Y4nEZcCACc.mp4"
            },
            "id": "id-11110103-6jt7b-lk9nqpveshuc79",
            "mms_ext": "{\"vid\":\"id-11110103-6jt7b-lk9nqpveshuc79\",\"biz\":103,\"duration\":33166,\"create_time\":1691675175,\"serviceID\":6,\"cover\":\"https://down-aka-sg.img.susercontent.com/id-11110103-23080-folonn81xjuv7e\",\"cover_list\":null,\"formats\":[{\"format\":1600408,\"defn\":\"V360P\",\"profile\":\"MP4\",\"path\":\"api/v4/11110103/mms/id-11110103-6jt7b-lk9nqpveshuc79.16004081692055413.mp4\",\"url\":\"https://play-ws.vod.shopee.com/api/v4/11110103/mms/id-11110103-6jt7b-lk9nqpveshuc79.16004081692055413.mp4\",\"width\":360,\"height\":640,\"bitrate\":358644,\"size\":1912894,\"fps\":25.03019,\"duration\":33181,\"update_time\":1692055421},{\"format\":1600323,\"defn\":\"V540P\",\"profile\":\"MP4\",\"path\":\"api/v4/11110103/mms/id-11110103-6jt7b-lk9nqpveshuc79.default.mp4\",\"url\":\"https://play-ws.vod.shopee.com/api/v4/11110103/mms/id-11110103-6jt7b-lk9nqpveshuc79.default.mp4\",\"width\":360,\"height\":640,\"bitrate\":472993,\"size\":2508250,\"fps\":25.03019,\"duration\":33194,\"update_time\":1691675198},{\"format\":1600005,\"defn\":\"V640P\",\"profile\":\"MP4\",\"path\":\"api/v4/11110103/mms/id-11110103-6jt7b-lk9nqpveshuc79.16000051691675177.mp4\",\"url\":\"https://play-ws.vod.shopee.com/api/v4/11110103/mms/id-11110103-6jt7b-lk9nqpveshuc79.16000051691675177.mp4\",\"width\":360,\"height\":640,\"bitrate\":632573,\"size\":3046823,\"fps\":25.03019,\"duration\":33181,\"update_time\":1691675186}],\"default_format\":{\"format\":600001,\"defn\":\"ORI\",\"profile\":\"MP4\",\"path\":\"\",\"url\":\"https://play-ws.vod.shopee.com/c3/98934353/103/A3oyOf2TAFypyn4nEYcLACY.mp4\",\"width\":360,\"height\":640,\"bitrate\":1512740,\"size\":6810660,\"fps\":30,\"duration\":33166,\"update_time\":1691675176},\"extend_formats\":{\"H265\":[{\"format\":1600412,\"defn\":\"V360P\",\"profile\":\"MP4\",\"path\":\"api/v4/11110103/mms/id-11110103-6jt7b-lk9nqpveshuc79.16004121692055422.mp4\",\"url\":\"https://play-ws.vod.shopee.com/api/v4/11110103/mms/id-11110103-6jt7b-lk9nqpveshuc79.16004121692055422.mp4\",\"width\":360,\"height\":640,\"bitrate\":236301,\"size\":1409939,\"fps\":25.03019,\"duration\":33181,\"update_time\":1692055452},{\"format\":1600308,\"defn\":\"V640P\",\"profile\":\"MP4\",\"path\":\"api/v4/11110103/mms/id-11110103-6jt7b-lk9nqpveshuc79.16003081691780197.mp4\",\"url\":\"https://play-ws.vod.shopee.com/api/v4/11110103/mms/id-11110103-6jt7b-lk9nqpveshuc79.16003081691780197.mp4\",\"width\":360,\"height\":640,\"bitrate\":339077,\"size\":1959655,\"fps\":25.03019,\"duration\":33181,\"update_time\":1691780236}]},\"ab_test\":\"\"}",
            "upload_time": null,
            "url": "https://play-ws.vod.shopee.com/api/v4/11110103/mms/id-11110103-6jt7b-lk9nqpveshuc79.16004081692055413.mp4"
           }
          ]
         },
         {
          "index": 4,
          "videos": [
           {
            "cover": "https://down-aka-sg.img.susercontent.com/id-11110103-7qul6-lk6pqzjldyjm33",
            "cover_image_id": "sg-11134206-7qvfw-lk8vifo1uaif95",
            "duration": 17090,
            "highlight": {
             "cover": "https://play-aka.vod.shopee.com/c3/98934353/160/A3oyOV52AJx3fXMnEZYEACc.jpg",
             "cover_image_id": "",
             "duration": 3079,
             "highlight": null,
             "id": "sg-11110160-6jrq2-lk8vk1oj0v0qe8",
             "mms_ext": "{\"vid\":\"sg-11110160-6jrq2-lk8vk1oj0v0qe8\",\"biz\":103,\"duration\":3079,\"create_time\":1691627767,\"serviceID\":6,\"cover\":\"https://play-aka.vod.shopee.com/c3/98934353/160/A3oyOV52AJx3fXMnEZYEACc.jpg\",\"cover_list\":null,\"formats\":[],\"default_format\":{\"format\":600001,\"defn\":\"ORI\",\"profile\":\"MP4\",\"path\":\"\",\"url\":\"https://play-aka.vod.shopee.com/c3/98934353/160/A3oyOWuHACR3fXMnEQ8LACc.mp4\",\"width\":250,\"height\":250,\"bitrate\":195410,\"size\":77143,\"fps\":25,\"duration\":3079,\"update_time\":1691627768},\"extend_formats\":{\"H265\":[{\"format\":1600305,\"defn\":\"V270P\",\"profile\":\"MP4\",\"path\":\"api/v4/11110160/mms/sg-11110160-6jrq2-lk8vk1oj0v0qe8.16003051691627774.mp4\",\"url\":\"https://play-aka.vod.shopee.com/api/v4/11110160/mms/sg-11110160-6jrq2-lk8vk1oj0v0qe8.16003051691627774.mp4\",\"width\":250,\"height\":250,\"bitrate\":82713,\"size\":35782,\"fps\":25.32895,\"duration\":3039,\"update_time\":1691627770}]},\"ab_test\":\"\"}",
             "upload_time": null,
             "url": "https://play-aka.vod.shopee.com/c3/98934353/160/A3oyOWuHACR3fXMnEQ8LACc.mp4"
            },
            "id": "id-11110103-6jt79-lk6pqzjlcjz68c",
            "mms_ext": "{\"vid\":\"id-11110103-6jt79-lk6pqzjlcjz68c\",\"biz\":103,\"duration\":17090,\"create_time\":1691496945,\"serviceID\":6,\"cover\":\"https://down-aka-sg.img.susercontent.com/id-11110103-7qul6-lk6pqzjldyjm33\",\"cover_list\":null,\"formats\":[{\"format\":1600323,\"defn\":\"V540P\",\"profile\":\"MP4\",\"path\":\"api/v4/11110103/mms/id-11110103-6jt79-lk6pqzjlcjz68c.default.mp4\",\"url\":\"https://play-ws.vod.shopee.com/api/v4/11110103/mms/id-11110103-6jt79-lk6pqzjlcjz68c.default.mp4\",\"width\":960,\"height\":540,\"bitrate\":457059,\"size\":1262053,\"fps\":25.05869,\"duration\":17110,\"update_time\":1691496972},{\"format\":1600005,\"defn\":\"V640P\",\"profile\":\"MP4\",\"path\":\"api/v4/11110103/mms/id-11110103-6jt79-lk6pqzjlcjz68c.16000051691496947.mp4\",\"url\":\"https://play-ws.vod.shopee.com/api/v4/11110103/mms/id-11110103-6jt79-lk6pqzjlcjz68c.16000051691496947.mp4\",\"width\":1138,\"height\":640,\"bitrate\":746425,\"size\":1811544,\"fps\":25.05869,\"duration\":17090,\"update_time\":1691496960}],\"default_format\":{\"format\":600001,\"defn\":\"ORI\",\"profile\":\"MP4\",\"path\":\"\",\"url\":\"https://play-ws.vod.shopee.com/api/v4/11110103/mms/id-11110103-6jt79-lk6pqzjlcjz68c.mp4\",\"width\":1280,\"height\":720,\"bitrate\":1500758,\"size\":3488225,\"fps\":30.05905,\"duration\":17090,\"update_time\":1691496946},\"extend_formats\":{\"H265\":[{\"format\":1600304,\"defn\":\"V480P\",\"profile\":\"MP4\",\"path\":\"api/v4/11110103/mms/id-11110103-6jt79-lk6pqzjlcjz68c.16003041691694851.mp4\",\"url\":\"https://play-ws.vod.shopee.com/api/v4/11110103/mms/id-11110103-6jt79-lk6pqzjlcjz68c.16003041691694851.mp4\",\"width\":854,\"height\":480,\"bitrate\":191412,\"size\":632281,\"fps\":25.05869,\"duration\":17090,\"update_time\":1691694866},{\"format\":1600307,\"defn\":\"V540P\",\"profile\":\"MP4\",\"path\":\"api/v4/11110103/mms/id-11110103-6jt79-lk6pqzjlcjz68c.16003071691496961.mp4\",\"url\":\"https://play-ws.vod.shopee.com/api/v4/11110103/mms/id-11110103-6jt79-lk6pqzjlcjz68c.16003071691496961.mp4\",\"width\":960,\"height\":540,\"bitrate\":223295,\"size\":768416,\"fps\":25.05869,\"duration\":17090,\"update_time\":1691496982},{\"format\":1600308,\"defn\":\"V640P\",\"profile\":\"MP4\",\"path\":\"api/v4/11110103/mms/id-11110103-6jt79-lk6pqzjlcjz68c.16003081691496961.mp4\",\"url\":\"https://play-ws.vod.shopee.com/api/v4/11110103/mms/id-11110103-6jt79-lk6pqzjlcjz68c.16003081691496961.mp4\",\"width\":1138,\"height\":640,\"bitrate\":283608,\"size\":896887,\"fps\":25.05869,\"duration\":17090,\"update_time\":1691496990}]},\"ab_test\":\"\"}",
            "upload_time": null,
            "url": "https://play-ws.vod.shopee.com/api/v4/11110103/mms/id-11110103-6jt79-lk6pqzjlcjz68c.default.mp4"
           }
          ]
         }
        ],
        "schema": {
         "fields": [
          {
           "name": "index",
           "type": "integer"
          },
          {
           "name": "videos",
           "type": "string"
          }
         ],
         "pandas_version": "1.4.0",
         "primaryKey": [
          "index"
         ]
        }
       },
       "total_rows": 5,
       "truncation_type": null
      },
      "text/html": [
       "<div>\n",
       "<style scoped>\n",
       "    .dataframe tbody tr th:only-of-type {\n",
       "        vertical-align: middle;\n",
       "    }\n",
       "\n",
       "    .dataframe tbody tr th {\n",
       "        vertical-align: top;\n",
       "    }\n",
       "\n",
       "    .dataframe thead th {\n",
       "        text-align: right;\n",
       "    }\n",
       "</style>\n",
       "<table border=\"1\" class=\"dataframe\">\n",
       "  <thead>\n",
       "    <tr style=\"text-align: right;\">\n",
       "      <th></th>\n",
       "      <th>videos</th>\n",
       "    </tr>\n",
       "  </thead>\n",
       "  <tbody>\n",
       "    <tr>\n",
       "      <th>0</th>\n",
       "      <td>[{'id': 'id-11110103-6ke14-lknf8bvfqqfd32', 'c...</td>\n",
       "    </tr>\n",
       "    <tr>\n",
       "      <th>1</th>\n",
       "      <td>[{'id': 'id-11110103-6jt7g-lke5a66oqydwa3', 'c...</td>\n",
       "    </tr>\n",
       "    <tr>\n",
       "      <th>2</th>\n",
       "      <td>[{'id': 'id-11110103-6ke14-lkrzgpplmscqfe', 'c...</td>\n",
       "    </tr>\n",
       "    <tr>\n",
       "      <th>3</th>\n",
       "      <td>[{'id': 'id-11110103-6jt7b-lk9nqpveshuc79', 'c...</td>\n",
       "    </tr>\n",
       "    <tr>\n",
       "      <th>4</th>\n",
       "      <td>[{'id': 'id-11110103-6jt79-lk6pqzjlcjz68c', 'c...</td>\n",
       "    </tr>\n",
       "  </tbody>\n",
       "</table>\n",
       "</div>"
      ],
      "text/plain": [
       "                                              videos\n",
       "0  [{'id': 'id-11110103-6ke14-lknf8bvfqqfd32', 'c...\n",
       "1  [{'id': 'id-11110103-6jt7g-lke5a66oqydwa3', 'c...\n",
       "2  [{'id': 'id-11110103-6ke14-lkrzgpplmscqfe', 'c...\n",
       "3  [{'id': 'id-11110103-6jt7b-lk9nqpveshuc79', 'c...\n",
       "4  [{'id': 'id-11110103-6jt79-lk6pqzjlcjz68c', 'c..."
      ]
     },
     "execution_count": 65,
     "metadata": {},
     "output_type": "execute_result"
    }
   ],
   "source": [
    "import pandas as pd\n",
    "\n",
    "video_df = pd.DataFrame(ratingss['videos'])\n",
    "video_df.head()"
   ]
  },
  {
   "cell_type": "code",
   "execution_count": null,
   "id": "64067a5f-7b18-4fc8-8265-fd469fb3f192",
   "metadata": {
    "executionCancelledAt": null,
    "executionTime": 47,
    "lastExecutedAt": 1693115516578,
    "lastScheduledRunId": null,
    "lastSuccessfullyExecutedCode": "# video_df.info()",
    "outputsMetadata": {
     "0": {
      "height": 173,
      "type": "stream"
     }
    }
   },
   "outputs": [],
   "source": [
    "# video_df.info()"
   ]
  },
  {
   "cell_type": "code",
   "execution_count": null,
   "id": "2bdfdb98-61cb-4f4b-b45d-5f5d1e9645bd",
   "metadata": {
    "executionCancelledAt": null,
    "executionTime": 47,
    "lastExecutedAt": 1693115516626,
    "lastScheduledRunId": null,
    "lastSuccessfullyExecutedCode": "# print(video_df.iloc[0]['videos'])",
    "outputsMetadata": {
     "0": {
      "height": 602,
      "type": "stream"
     }
    }
   },
   "outputs": [],
   "source": [
    "# print(video_df.iloc[0]['videos'])"
   ]
  },
  {
   "cell_type": "code",
   "execution_count": null,
   "id": "8cf9029f-f65e-4a6a-9ae4-a11cffec10d4",
   "metadata": {
    "executionCancelledAt": null,
    "executionTime": 47,
    "lastExecutedAt": 1693115516674,
    "lastScheduledRunId": null,
    "lastSuccessfullyExecutedCode": "# for index, row in video_df.iterrows():\n#     # print('-' * 80)\n#     print(row['videos'])\n#     print('-' * 80)",
    "outputsMetadata": {
     "0": {
      "height": 578,
      "type": "stream"
     }
    }
   },
   "outputs": [],
   "source": [
    "# for index, row in video_df.iterrows():\n",
    "#     # print('-' * 80)\n",
    "#     print(row['videos'])\n",
    "#     print('-' * 80)"
   ]
  },
  {
   "cell_type": "code",
   "execution_count": null,
   "id": "93ccb3fb-52f7-4beb-869b-8775cdbbb8ff",
   "metadata": {
    "executionCancelledAt": null,
    "executionTime": 74,
    "lastExecutedAt": 1693115822203,
    "lastScheduledRunId": null,
    "lastSuccessfullyExecutedCode": "import ast\nimport pandas as pd\n\n# Convert the string representation of videos column to list\nvideo_df['videos'] = video_df['videos'].apply(ast.literal_eval)\n\n# Convert the list of dictionaries to a DataFrame\nvideo_df = pd.DataFrame(video_df['videos'].tolist())\n\nvideo_df.head()",
    "outputsMetadata": {
     "0": {
      "height": 192,
      "type": "dataFrame"
     }
    }
   },
   "outputs": [
    {
     "ename": "ValueError",
     "evalue": "malformed node or string: [{'id': 'id-11110103-6ke14-lknf8bvfqqfd32', 'cover': 'https://down-aka-sg.img.susercontent.com/id-11110103-23080-87ptittipxuvca', 'url': 'https://play-ws.vod.shopee.com/api/v4/11110103/mms/id-11110103-6ke14-lknf8bvfqqfd32.default.mp4', 'duration': 14291, 'upload_time': None, 'mms_ext': '{\"vid\":\"id-11110103-6ke14-lknf8bvfqqfd32\",\"biz\":103,\"duration\":14291,\"create_time\":1692508347,\"serviceID\":6,\"cover\":\"https://down-aka-sg.img.susercontent.com/id-11110103-23080-87ptittipxuvca\",\"cover_list\":null,\"formats\":[{\"format\":1600323,\"defn\":\"V540P\",\"profile\":\"MP4\",\"path\":\"api/v4/11110103/mms/id-11110103-6ke14-lknf8bvfqqfd32.default.mp4\",\"url\":\"https://play-ws.vod.shopee.com/api/v4/11110103/mms/id-11110103-6ke14-lknf8bvfqqfd32.default.mp4\",\"width\":360,\"height\":640,\"bitrate\":453005,\"size\":995954,\"fps\":25.07022,\"duration\":14293,\"update_time\":1692508372},{\"format\":1600005,\"defn\":\"V640P\",\"profile\":\"MP4\",\"path\":\"api/v4/11110103/mms/id-11110103-6ke14-lknf8bvfqqfd32.16000051692508348.mp4\",\"url\":\"https://play-ws.vod.shopee.com/api/v4/11110103/mms/id-11110103-6ke14-lknf8bvfqqfd32.16000051692508348.mp4\",\"width\":360,\"height\":640,\"bitrate\":460958,\"size\":1005961,\"fps\":25.07022,\"duration\":14281,\"update_time\":1692508351}],\"default_format\":{\"format\":600001,\"defn\":\"ORI\",\"profile\":\"MP4\",\"path\":\"\",\"url\":\"https://play-ws.vod.shopee.com/c3/98934353/103/A3oyOYfDALRsb0UoEbYLACY.mp4\",\"width\":360,\"height\":640,\"bitrate\":1587659,\"size\":3021610,\"fps\":24,\"duration\":14291,\"update_time\":1692508348},\"extend_formats\":{\"H265\":[{\"format\":1600308,\"defn\":\"V640P\",\"profile\":\"MP4\",\"path\":\"api/v4/11110103/mms/id-11110103-6ke14-lknf8bvfqqfd32.16003081692558725.mp4\",\"url\":\"https://play-ws.vod.shopee.com/api/v4/11110103/mms/id-11110103-6ke14-lknf8bvfqqfd32.16003081692558725.mp4\",\"width\":360,\"height\":640,\"bitrate\":382445,\"size\":874101,\"fps\":25.07022,\"duration\":14281,\"update_time\":1692558737}]},\"ab_test\":\"\"}', 'cover_image_id': 'sg-11134206-7rbk0-lkq288q769ata2', 'highlight': {'id': 'sg-11110160-6ke14-lkq2a9n0h54o00', 'cover': 'https://play-ws.vod.shopee.com/c3/98934353/160/A3oyOYvMAFRpimsoEZ8JACc.jpg', 'url': 'https://play-ws.vod.shopee.com/c3/98934353/160/A3oyOYAeAPRoimsoEagAACc.mp4', 'duration': 3000, 'upload_time': None, 'mms_ext': '{\"vid\":\"sg-11110160-6ke14-lkq2a9n0h54o00\",\"biz\":103,\"duration\":3000,\"create_time\":1692668165,\"serviceID\":6,\"cover\":\"https://play-ws.vod.shopee.com/c3/98934353/160/A3oyOYvMAFRpimsoEZ8JACc.jpg\",\"cover_list\":null,\"formats\":[],\"default_format\":{\"format\":600001,\"defn\":\"ORI\",\"profile\":\"MP4\",\"path\":\"\",\"url\":\"https://play-ws.vod.shopee.com/c3/98934353/160/A3oyOYAeAPRoimsoEagAACc.mp4\",\"width\":250,\"height\":250,\"bitrate\":222624,\"size\":85220,\"fps\":25,\"duration\":3000,\"update_time\":1692668166},\"extend_formats\":{\"H265\":[{\"format\":1600305,\"defn\":\"V270P\",\"profile\":\"MP4\",\"path\":\"api/v4/11110160/mms/sg-11110160-6ke14-lkq2a9n0h54o00.16003051692668174.mp4\",\"url\":\"https://play-ws.vod.shopee.com/api/v4/11110160/mms/sg-11110160-6ke14-lkq2a9n0h54o00.16003051692668174.mp4\",\"width\":250,\"height\":250,\"bitrate\":115478,\"size\":47052,\"fps\":25.33784,\"duration\":2960,\"update_time\":1692668168}]},\"ab_test\":\"\"}', 'cover_image_id': '', 'highlight': None}}]",
     "output_type": "error",
     "traceback": [
      "\u001b[0;31m---------------------------------------------------------------------------\u001b[0m",
      "\u001b[0;31mValueError\u001b[0m                                Traceback (most recent call last)",
      "Input \u001b[0;32mIn [64]\u001b[0m, in \u001b[0;36m<cell line: 5>\u001b[0;34m()\u001b[0m\n\u001b[1;32m      2\u001b[0m \u001b[38;5;28;01mimport\u001b[39;00m \u001b[38;5;21;01mpandas\u001b[39;00m \u001b[38;5;28;01mas\u001b[39;00m \u001b[38;5;21;01mpd\u001b[39;00m\n\u001b[1;32m      4\u001b[0m \u001b[38;5;66;03m# Convert the string representation of videos column to list\u001b[39;00m\n\u001b[0;32m----> 5\u001b[0m video_df[\u001b[38;5;124m'\u001b[39m\u001b[38;5;124mvideos\u001b[39m\u001b[38;5;124m'\u001b[39m] \u001b[38;5;241m=\u001b[39m \u001b[43mvideo_df\u001b[49m\u001b[43m[\u001b[49m\u001b[38;5;124;43m'\u001b[39;49m\u001b[38;5;124;43mvideos\u001b[39;49m\u001b[38;5;124;43m'\u001b[39;49m\u001b[43m]\u001b[49m\u001b[38;5;241;43m.\u001b[39;49m\u001b[43mapply\u001b[49m\u001b[43m(\u001b[49m\u001b[43mast\u001b[49m\u001b[38;5;241;43m.\u001b[39;49m\u001b[43mliteral_eval\u001b[49m\u001b[43m)\u001b[49m\n\u001b[1;32m      7\u001b[0m \u001b[38;5;66;03m# Convert the list of dictionaries to a DataFrame\u001b[39;00m\n\u001b[1;32m      8\u001b[0m video_df \u001b[38;5;241m=\u001b[39m pd\u001b[38;5;241m.\u001b[39mDataFrame(video_df[\u001b[38;5;124m'\u001b[39m\u001b[38;5;124mvideos\u001b[39m\u001b[38;5;124m'\u001b[39m]\u001b[38;5;241m.\u001b[39mtolist())\n",
      "File \u001b[0;32m/usr/local/lib/python3.8/dist-packages/pandas/core/series.py:4771\u001b[0m, in \u001b[0;36mSeries.apply\u001b[0;34m(self, func, convert_dtype, args, **kwargs)\u001b[0m\n\u001b[1;32m   4661\u001b[0m \u001b[38;5;28;01mdef\u001b[39;00m \u001b[38;5;21mapply\u001b[39m(\n\u001b[1;32m   4662\u001b[0m     \u001b[38;5;28mself\u001b[39m,\n\u001b[1;32m   4663\u001b[0m     func: AggFuncType,\n\u001b[0;32m   (...)\u001b[0m\n\u001b[1;32m   4666\u001b[0m     \u001b[38;5;241m*\u001b[39m\u001b[38;5;241m*\u001b[39mkwargs,\n\u001b[1;32m   4667\u001b[0m ) \u001b[38;5;241m-\u001b[39m\u001b[38;5;241m>\u001b[39m DataFrame \u001b[38;5;241m|\u001b[39m Series:\n\u001b[1;32m   4668\u001b[0m     \u001b[38;5;124;03m\"\"\"\u001b[39;00m\n\u001b[1;32m   4669\u001b[0m \u001b[38;5;124;03m    Invoke function on values of Series.\u001b[39;00m\n\u001b[1;32m   4670\u001b[0m \n\u001b[0;32m   (...)\u001b[0m\n\u001b[1;32m   4769\u001b[0m \u001b[38;5;124;03m    dtype: float64\u001b[39;00m\n\u001b[1;32m   4770\u001b[0m \u001b[38;5;124;03m    \"\"\"\u001b[39;00m\n\u001b[0;32m-> 4771\u001b[0m     \u001b[38;5;28;01mreturn\u001b[39;00m \u001b[43mSeriesApply\u001b[49m\u001b[43m(\u001b[49m\u001b[38;5;28;43mself\u001b[39;49m\u001b[43m,\u001b[49m\u001b[43m \u001b[49m\u001b[43mfunc\u001b[49m\u001b[43m,\u001b[49m\u001b[43m \u001b[49m\u001b[43mconvert_dtype\u001b[49m\u001b[43m,\u001b[49m\u001b[43m \u001b[49m\u001b[43margs\u001b[49m\u001b[43m,\u001b[49m\u001b[43m \u001b[49m\u001b[43mkwargs\u001b[49m\u001b[43m)\u001b[49m\u001b[38;5;241;43m.\u001b[39;49m\u001b[43mapply\u001b[49m\u001b[43m(\u001b[49m\u001b[43m)\u001b[49m\n",
      "File \u001b[0;32m/usr/local/lib/python3.8/dist-packages/pandas/core/apply.py:1105\u001b[0m, in \u001b[0;36mSeriesApply.apply\u001b[0;34m(self)\u001b[0m\n\u001b[1;32m   1102\u001b[0m     \u001b[38;5;28;01mreturn\u001b[39;00m \u001b[38;5;28mself\u001b[39m\u001b[38;5;241m.\u001b[39mapply_str()\n\u001b[1;32m   1104\u001b[0m \u001b[38;5;66;03m# self.f is Callable\u001b[39;00m\n\u001b[0;32m-> 1105\u001b[0m \u001b[38;5;28;01mreturn\u001b[39;00m \u001b[38;5;28;43mself\u001b[39;49m\u001b[38;5;241;43m.\u001b[39;49m\u001b[43mapply_standard\u001b[49m\u001b[43m(\u001b[49m\u001b[43m)\u001b[49m\n",
      "File \u001b[0;32m/usr/local/lib/python3.8/dist-packages/pandas/core/apply.py:1156\u001b[0m, in \u001b[0;36mSeriesApply.apply_standard\u001b[0;34m(self)\u001b[0m\n\u001b[1;32m   1154\u001b[0m     \u001b[38;5;28;01melse\u001b[39;00m:\n\u001b[1;32m   1155\u001b[0m         values \u001b[38;5;241m=\u001b[39m obj\u001b[38;5;241m.\u001b[39mastype(\u001b[38;5;28mobject\u001b[39m)\u001b[38;5;241m.\u001b[39m_values\n\u001b[0;32m-> 1156\u001b[0m         mapped \u001b[38;5;241m=\u001b[39m \u001b[43mlib\u001b[49m\u001b[38;5;241;43m.\u001b[39;49m\u001b[43mmap_infer\u001b[49m\u001b[43m(\u001b[49m\n\u001b[1;32m   1157\u001b[0m \u001b[43m            \u001b[49m\u001b[43mvalues\u001b[49m\u001b[43m,\u001b[49m\n\u001b[1;32m   1158\u001b[0m \u001b[43m            \u001b[49m\u001b[43mf\u001b[49m\u001b[43m,\u001b[49m\n\u001b[1;32m   1159\u001b[0m \u001b[43m            \u001b[49m\u001b[43mconvert\u001b[49m\u001b[38;5;241;43m=\u001b[39;49m\u001b[38;5;28;43mself\u001b[39;49m\u001b[38;5;241;43m.\u001b[39;49m\u001b[43mconvert_dtype\u001b[49m\u001b[43m,\u001b[49m\n\u001b[1;32m   1160\u001b[0m \u001b[43m        \u001b[49m\u001b[43m)\u001b[49m\n\u001b[1;32m   1162\u001b[0m \u001b[38;5;28;01mif\u001b[39;00m \u001b[38;5;28mlen\u001b[39m(mapped) \u001b[38;5;129;01mand\u001b[39;00m \u001b[38;5;28misinstance\u001b[39m(mapped[\u001b[38;5;241m0\u001b[39m], ABCSeries):\n\u001b[1;32m   1163\u001b[0m     \u001b[38;5;66;03m# GH#43986 Need to do list(mapped) in order to get treated as nested\u001b[39;00m\n\u001b[1;32m   1164\u001b[0m     \u001b[38;5;66;03m#  See also GH#25959 regarding EA support\u001b[39;00m\n\u001b[1;32m   1165\u001b[0m     \u001b[38;5;28;01mreturn\u001b[39;00m obj\u001b[38;5;241m.\u001b[39m_constructor_expanddim(\u001b[38;5;28mlist\u001b[39m(mapped), index\u001b[38;5;241m=\u001b[39mobj\u001b[38;5;241m.\u001b[39mindex)\n",
      "File \u001b[0;32m/usr/local/lib/python3.8/dist-packages/pandas/_libs/lib.pyx:2918\u001b[0m, in \u001b[0;36mpandas._libs.lib.map_infer\u001b[0;34m()\u001b[0m\n",
      "File \u001b[0;32m/usr/lib/python3.8/ast.py:99\u001b[0m, in \u001b[0;36mliteral_eval\u001b[0;34m(node_or_string)\u001b[0m\n\u001b[1;32m     97\u001b[0m                 \u001b[38;5;28;01mreturn\u001b[39;00m left \u001b[38;5;241m-\u001b[39m right\n\u001b[1;32m     98\u001b[0m     \u001b[38;5;28;01mreturn\u001b[39;00m _convert_signed_num(node)\n\u001b[0;32m---> 99\u001b[0m \u001b[38;5;28;01mreturn\u001b[39;00m \u001b[43m_convert\u001b[49m\u001b[43m(\u001b[49m\u001b[43mnode_or_string\u001b[49m\u001b[43m)\u001b[49m\n",
      "File \u001b[0;32m/usr/lib/python3.8/ast.py:98\u001b[0m, in \u001b[0;36mliteral_eval.<locals>._convert\u001b[0;34m(node)\u001b[0m\n\u001b[1;32m     96\u001b[0m         \u001b[38;5;28;01melse\u001b[39;00m:\n\u001b[1;32m     97\u001b[0m             \u001b[38;5;28;01mreturn\u001b[39;00m left \u001b[38;5;241m-\u001b[39m right\n\u001b[0;32m---> 98\u001b[0m \u001b[38;5;28;01mreturn\u001b[39;00m \u001b[43m_convert_signed_num\u001b[49m\u001b[43m(\u001b[49m\u001b[43mnode\u001b[49m\u001b[43m)\u001b[49m\n",
      "File \u001b[0;32m/usr/lib/python3.8/ast.py:75\u001b[0m, in \u001b[0;36mliteral_eval.<locals>._convert_signed_num\u001b[0;34m(node)\u001b[0m\n\u001b[1;32m     73\u001b[0m     \u001b[38;5;28;01melse\u001b[39;00m:\n\u001b[1;32m     74\u001b[0m         \u001b[38;5;28;01mreturn\u001b[39;00m \u001b[38;5;241m-\u001b[39m operand\n\u001b[0;32m---> 75\u001b[0m \u001b[38;5;28;01mreturn\u001b[39;00m \u001b[43m_convert_num\u001b[49m\u001b[43m(\u001b[49m\u001b[43mnode\u001b[49m\u001b[43m)\u001b[49m\n",
      "File \u001b[0;32m/usr/lib/python3.8/ast.py:66\u001b[0m, in \u001b[0;36mliteral_eval.<locals>._convert_num\u001b[0;34m(node)\u001b[0m\n\u001b[1;32m     64\u001b[0m \u001b[38;5;28;01mdef\u001b[39;00m \u001b[38;5;21m_convert_num\u001b[39m(node):\n\u001b[1;32m     65\u001b[0m     \u001b[38;5;28;01mif\u001b[39;00m \u001b[38;5;129;01mnot\u001b[39;00m \u001b[38;5;28misinstance\u001b[39m(node, Constant) \u001b[38;5;129;01mor\u001b[39;00m \u001b[38;5;28mtype\u001b[39m(node\u001b[38;5;241m.\u001b[39mvalue) \u001b[38;5;129;01mnot\u001b[39;00m \u001b[38;5;129;01min\u001b[39;00m (\u001b[38;5;28mint\u001b[39m, \u001b[38;5;28mfloat\u001b[39m, \u001b[38;5;28mcomplex\u001b[39m):\n\u001b[0;32m---> 66\u001b[0m         \u001b[43m_raise_malformed_node\u001b[49m\u001b[43m(\u001b[49m\u001b[43mnode\u001b[49m\u001b[43m)\u001b[49m\n\u001b[1;32m     67\u001b[0m     \u001b[38;5;28;01mreturn\u001b[39;00m node\u001b[38;5;241m.\u001b[39mvalue\n",
      "File \u001b[0;32m/usr/lib/python3.8/ast.py:63\u001b[0m, in \u001b[0;36mliteral_eval.<locals>._raise_malformed_node\u001b[0;34m(node)\u001b[0m\n\u001b[1;32m     62\u001b[0m \u001b[38;5;28;01mdef\u001b[39;00m \u001b[38;5;21m_raise_malformed_node\u001b[39m(node):\n\u001b[0;32m---> 63\u001b[0m     \u001b[38;5;28;01mraise\u001b[39;00m \u001b[38;5;167;01mValueError\u001b[39;00m(\u001b[38;5;124mf\u001b[39m\u001b[38;5;124m'\u001b[39m\u001b[38;5;124mmalformed node or string: \u001b[39m\u001b[38;5;132;01m{\u001b[39;00mnode\u001b[38;5;132;01m!r}\u001b[39;00m\u001b[38;5;124m'\u001b[39m)\n",
      "\u001b[0;31mValueError\u001b[0m: malformed node or string: [{'id': 'id-11110103-6ke14-lknf8bvfqqfd32', 'cover': 'https://down-aka-sg.img.susercontent.com/id-11110103-23080-87ptittipxuvca', 'url': 'https://play-ws.vod.shopee.com/api/v4/11110103/mms/id-11110103-6ke14-lknf8bvfqqfd32.default.mp4', 'duration': 14291, 'upload_time': None, 'mms_ext': '{\"vid\":\"id-11110103-6ke14-lknf8bvfqqfd32\",\"biz\":103,\"duration\":14291,\"create_time\":1692508347,\"serviceID\":6,\"cover\":\"https://down-aka-sg.img.susercontent.com/id-11110103-23080-87ptittipxuvca\",\"cover_list\":null,\"formats\":[{\"format\":1600323,\"defn\":\"V540P\",\"profile\":\"MP4\",\"path\":\"api/v4/11110103/mms/id-11110103-6ke14-lknf8bvfqqfd32.default.mp4\",\"url\":\"https://play-ws.vod.shopee.com/api/v4/11110103/mms/id-11110103-6ke14-lknf8bvfqqfd32.default.mp4\",\"width\":360,\"height\":640,\"bitrate\":453005,\"size\":995954,\"fps\":25.07022,\"duration\":14293,\"update_time\":1692508372},{\"format\":1600005,\"defn\":\"V640P\",\"profile\":\"MP4\",\"path\":\"api/v4/11110103/mms/id-11110103-6ke14-lknf8bvfqqfd32.16000051692508348.mp4\",\"url\":\"https://play-ws.vod.shopee.com/api/v4/11110103/mms/id-11110103-6ke14-lknf8bvfqqfd32.16000051692508348.mp4\",\"width\":360,\"height\":640,\"bitrate\":460958,\"size\":1005961,\"fps\":25.07022,\"duration\":14281,\"update_time\":1692508351}],\"default_format\":{\"format\":600001,\"defn\":\"ORI\",\"profile\":\"MP4\",\"path\":\"\",\"url\":\"https://play-ws.vod.shopee.com/c3/98934353/103/A3oyOYfDALRsb0UoEbYLACY.mp4\",\"width\":360,\"height\":640,\"bitrate\":1587659,\"size\":3021610,\"fps\":24,\"duration\":14291,\"update_time\":1692508348},\"extend_formats\":{\"H265\":[{\"format\":1600308,\"defn\":\"V640P\",\"profile\":\"MP4\",\"path\":\"api/v4/11110103/mms/id-11110103-6ke14-lknf8bvfqqfd32.16003081692558725.mp4\",\"url\":\"https://play-ws.vod.shopee.com/api/v4/11110103/mms/id-11110103-6ke14-lknf8bvfqqfd32.16003081692558725.mp4\",\"width\":360,\"height\":640,\"bitrate\":382445,\"size\":874101,\"fps\":25.07022,\"duration\":14281,\"update_time\":1692558737}]},\"ab_test\":\"\"}', 'cover_image_id': 'sg-11134206-7rbk0-lkq288q769ata2', 'highlight': {'id': 'sg-11110160-6ke14-lkq2a9n0h54o00', 'cover': 'https://play-ws.vod.shopee.com/c3/98934353/160/A3oyOYvMAFRpimsoEZ8JACc.jpg', 'url': 'https://play-ws.vod.shopee.com/c3/98934353/160/A3oyOYAeAPRoimsoEagAACc.mp4', 'duration': 3000, 'upload_time': None, 'mms_ext': '{\"vid\":\"sg-11110160-6ke14-lkq2a9n0h54o00\",\"biz\":103,\"duration\":3000,\"create_time\":1692668165,\"serviceID\":6,\"cover\":\"https://play-ws.vod.shopee.com/c3/98934353/160/A3oyOYvMAFRpimsoEZ8JACc.jpg\",\"cover_list\":null,\"formats\":[],\"default_format\":{\"format\":600001,\"defn\":\"ORI\",\"profile\":\"MP4\",\"path\":\"\",\"url\":\"https://play-ws.vod.shopee.com/c3/98934353/160/A3oyOYAeAPRoimsoEagAACc.mp4\",\"width\":250,\"height\":250,\"bitrate\":222624,\"size\":85220,\"fps\":25,\"duration\":3000,\"update_time\":1692668166},\"extend_formats\":{\"H265\":[{\"format\":1600305,\"defn\":\"V270P\",\"profile\":\"MP4\",\"path\":\"api/v4/11110160/mms/sg-11110160-6ke14-lkq2a9n0h54o00.16003051692668174.mp4\",\"url\":\"https://play-ws.vod.shopee.com/api/v4/11110160/mms/sg-11110160-6ke14-lkq2a9n0h54o00.16003051692668174.mp4\",\"width\":250,\"height\":250,\"bitrate\":115478,\"size\":47052,\"fps\":25.33784,\"duration\":2960,\"update_time\":1692668168}]},\"ab_test\":\"\"}', 'cover_image_id': '', 'highlight': None}}]"
     ]
    }
   ],
   "source": [
    "import ast\n",
    "import pandas as pd\n",
    "\n",
    "# Convert the string representation of videos column to list\n",
    "video_df['videos'] = video_df['videos'].apply(ast.literal_eval)\n",
    "\n",
    "# Convert the list of dictionaries to a DataFrame\n",
    "video_df = pd.DataFrame(video_df['videos'].tolist())\n",
    "\n",
    "video_df.head()"
   ]
  },
  {
   "cell_type": "code",
   "execution_count": null,
   "id": "fed80d35-16bf-4cc5-b0d0-a38957e77d91",
   "metadata": {
    "executionCancelledAt": null,
    "executionTime": 51,
    "lastExecutedAt": 1693115836656,
    "lastScheduledRunId": null,
    "lastSuccessfullyExecutedCode": "i=1\nfor i, rating in enumerate(data['data']['ratings'], 1):\n    # print(rating['videos'])\n    j=1\n    for j,vid in enumerate(rating['videos'],1):\n        print(vid['url'])\n    # print(rating['image_data'])\n    # print('-' * 80)",
    "outputsMetadata": {
     "0": {
      "height": 578,
      "type": "stream"
     }
    }
   },
   "outputs": [
    {
     "name": "stdout",
     "output_type": "stream",
     "text": [
      "https://play-ws.vod.shopee.com/api/v4/11110103/mms/id-11110103-6ke14-lknf8bvfqqfd32.default.mp4\n",
      "https://play-ws.vod.shopee.com/api/v4/11110103/mms/id-11110103-6jt7g-lke5a66oqydwa3.default.mp4\n",
      "https://play-ws.vod.shopee.com/api/v4/11110103/mms/id-11110103-6ke14-lkrzgpplmscqfe.default.mp4\n",
      "https://play-ws.vod.shopee.com/api/v4/11110103/mms/id-11110103-6jt7b-lk9nqpveshuc79.16004081692055413.mp4\n",
      "https://play-ws.vod.shopee.com/api/v4/11110103/mms/id-11110103-6jt79-lk6pqzjlcjz68c.default.mp4\n",
      "https://play-ws.vod.shopee.com/api/v4/11110103/mms/id-11110103-6jt7n-lkfa3a1lrsm176.default.mp4\n",
      "https://play-ws.vod.shopee.com/api/v4/11110103/mms/id-11110103-6jt7j-lkacxeeow2bdb5.16004081692010051.mp4\n",
      "https://play-ws.vod.shopee.com/api/v4/11110103/mms/id-11110103-6jt74-lk2bnvzlrnmvae.12000461691231142.mp4\n",
      "https://play-ws.vod.shopee.com/api/v4/11110103/mms/id-11110103-6jt7f-lk6ig3o4kyzua7.16004081691691002.mp4\n",
      "https://play-ws.vod.shopee.com/api/v4/11110103/mms/id-11110103-6jt7h-lk7zqi1u5fze5a.default.mp4\n",
      "https://play-ws.vod.shopee.com/api/v4/11110103/mms/id-11110103-6jt7i-lkf5p0kdcb3e3d.default.mp4\n",
      "https://play-ws.vod.shopee.com/api/v4/11110103/mms/id-11110103-6jt7d-lkad97omjt4w56.16004081691901632.mp4\n",
      "https://play-ws.vod.shopee.com/api/v4/11110103/mms/id-11110103-6jt76-lk5joj95cil7c3.16004081692058341.mp4\n",
      "https://play-ws.vod.shopee.com/api/v4/11110103/mms/id-11110103-6ke14-lklu73mn7qy758.default.mp4\n",
      "https://play-ws.vod.shopee.com/api/v4/11110103/mms/id-11110103-6jt75-lkc24gki2mj833.default.mp4\n",
      "https://play-ws.vod.shopee.com/api/v4/11110103/mms/id-11110103-6jt7a-lk58db4si47s18.16004081691942270.mp4\n",
      "https://play-ws.vod.shopee.com/api/v4/11110103/mms/id-11110103-6jt79-lkglfhyqnygab8.16004081692555302.mp4\n",
      "https://play-ws.vod.shopee.com/api/v4/11110103/mms/id-11110103-6ke14-lknbaw2qyy392d.default.mp4\n",
      "https://play-ws.vod.shopee.com/api/v4/11110103/mms/id-11110103-6ke14-lkrshvsryz9032.default.mp4\n",
      "https://play-ws.vod.shopee.com/api/v4/11110103/mms/id-11110103-6jt7m-lk2g4v697tn39b.16000461691238648.mp4\n",
      "https://play-ws.vod.shopee.com/api/v4/11110103/mms/id-11110103-6jt7l-lk2kwtwnttjs4b.16000461691246685.mp4\n",
      "https://play-ws.vod.shopee.com/api/v4/11110103/mms/id-11110103-6ke14-lkm4vgsq6zh169.default.mp4\n",
      "https://play-ws.vod.shopee.com/api/v4/11110103/mms/id-11110103-6jt78-lkaujzqlik6xcf.default.mp4\n",
      "https://play-ws.vod.shopee.com/api/v4/11110103/mms/id-11110103-6ke14-lkmrig7hiq7zf2.default.mp4\n",
      "https://play-ws.vod.shopee.com/api/v4/11110103/mms/id-11110103-6jt7k-lk4wgxc0ft94bc.16000461691387220.mp4\n",
      "https://play-aka.vod.shopee.com/api/v4/11110103/mms/id-11110103-6jt75-lk4z00by0t9mb4.default.mp4\n",
      "https://play-ws.vod.shopee.com/api/v4/11110103/mms/id-11110103-6jt7h-lk41j9otpee3ae.16004081691804050.mp4\n",
      "https://play-ws.vod.shopee.com/api/v4/11110103/mms/id-11110103-6jt7e-lk7ry8qen8rf23.default.mp4\n",
      "https://play-ws.vod.shopee.com/api/v4/11110103/mms/id-11110103-6ke14-lklgitl59z4l9b.default.mp4\n",
      "https://play-ws.vod.shopee.com/api/v4/11110103/mms/id-11110103-6jt7h-lk8a9nyd8xqwe0.default.mp4\n",
      "https://play-ws.vod.shopee.com/api/v4/11110103/mms/id-11110103-6jt79-lkj4sinbsf4pc9.default.mp4\n",
      "https://play-ws.vod.shopee.com/api/v4/11110103/mms/id-11110103-6jt7h-lk9famvq1ac4bd.default.mp4\n",
      "https://play-ws.vod.shopee.com/api/v4/11110103/mms/id-11110103-6jt77-ljybzxbn9e2ne8.16004081691202334.mp4\n",
      "https://play-aka.vod.shopee.com/api/v4/11110103/mms/id-11110103-6jt7k-lkb31m94o0xic8.default.mp4\n",
      "https://play-ws.vod.shopee.com/api/v4/11110103/mms/id-11110103-6jt7h-lkf5l3dhyhllf6.16004081692399039.mp4\n",
      "https://play-ws.vod.shopee.com/api/v4/11110103/mms/id-11110103-6jt7g-lk3ivnfxn47v6a.16004081692054389.mp4\n",
      "https://play-ws.vod.shopee.com/api/v4/11110103/mms/id-11110103-6jt7l-lkf1huzifn7md3.default.mp4\n",
      "https://play-ws.vod.shopee.com/api/v4/11110103/mms/id-11110103-6jt7n-lkb6pl0aihjoad.default.mp4\n",
      "https://play-ws.vod.shopee.com/api/v4/11110103/mms/id-11110103-6jt7m-lk6oo4iinqvs2a.16004081691821380.mp4\n",
      "https://play-ws.vod.shopee.com/api/v4/11110103/mms/id-11110103-6ke14-lknpoycym7c0bf.default.mp4\n",
      "https://play-ws.vod.shopee.com/api/v4/11110103/mms/id-11110103-6jt76-lk4nn2565uf756.16000461691372332.mp4\n",
      "https://play-ws.vod.shopee.com/api/v4/11110103/mms/id-11110103-6jt78-lk6cbap4xusb24.default.mp4\n",
      "https://play-ws.vod.shopee.com/api/v4/11110103/mms/id-11110103-6jt7g-lk82fgt3um22f1.16004081691915744.mp4\n",
      "https://play-ws.vod.shopee.com/api/v4/11110103/mms/id-11110103-6jt76-lk1yt8h33hegf9.16004081691742886.mp4\n",
      "https://play-ws.vod.shopee.com/api/v4/11110103/mms/id-11110103-6jt76-lkcksc54hlxedc.default.mp4\n",
      "https://play-ws.vod.shopee.com/api/v4/11110103/mms/id-11110103-6ke14-lkthsvkzr14i06.default.mp4\n",
      "https://play-ws.vod.shopee.com/api/v4/11110103/mms/id-11110103-6ke14-lklg1x4fro5tea.default.mp4\n",
      "https://play-ws.vod.shopee.com/api/v4/11110103/mms/id-11110103-6jt78-lk9n441db5uc98.default.mp4\n",
      "https://play-ws.vod.shopee.com/api/v4/11110103/mms/id-11110103-6jt78-lk6jiu2627u285.16004081692056012.mp4\n"
     ]
    }
   ],
   "source": [
    "i=1\n",
    "for i, rating in enumerate(data['data']['ratings'], 1):\n",
    "    # print(rating['videos'])\n",
    "    j=1\n",
    "    for j,vid in enumerate(rating['videos'],1):\n",
    "        print(vid['url'])\n",
    "    # print(rating['image_data'])\n",
    "    # print('-' * 80)"
   ]
  },
  {
   "cell_type": "code",
   "execution_count": null,
   "id": "afd601a0-f7f3-49c0-b603-aaa217fab35f",
   "metadata": {
    "executionCancelledAt": null,
    "executionTime": 11,
    "lastExecutedAt": 1693115846060,
    "lastScheduledRunId": null,
    "lastSuccessfullyExecutedCode": "datavideo=pd.DataFrame()"
   },
   "outputs": [],
   "source": [
    "datavideo=pd.DataFrame()"
   ]
  },
  {
   "cell_type": "code",
   "execution_count": null,
   "id": "9a3ffe70-2175-4b41-9199-692991bb3f30",
   "metadata": {
    "executionCancelledAt": null,
    "executionTime": 48,
    "lastExecutedAt": 1693116051670,
    "lastScheduledRunId": null,
    "lastSuccessfullyExecutedCode": "# Create an empty list to store the video URLs\nvideo_urls = []\ncover_urls = []\nauthor=[]\n\n\n# Iterate over the ratings in the data\nfor rating in data['data']['ratings']:\n    # Iterate over the videos in each rating\n    author.append(rating['author_username'])\n    for vid in rating['videos']:\n        # Append the URL of each video to the list\n        video_urls.append(vid['url'])\n        cover_urls.append(vid['cover'])\n\nauthor = author[:len(datavideo)]\n# Create a new column 'video_urls' in the video_df DataFrame and assign the video URLs\ndatavideo['author_username']=author\ndatavideo['video_urls'] = video_urls\ndatavideo['cover_urls'] = cover_urls",
    "outputsMetadata": {
     "0": {
      "height": 616,
      "type": "stream"
     }
    }
   },
   "outputs": [],
   "source": [
    "# Create an empty list to store the video URLs\n",
    "video_urls = []\n",
    "cover_urls = []\n",
    "author=[]\n",
    "\n",
    "\n",
    "# Iterate over the ratings in the data\n",
    "for rating in data['data']['ratings']:\n",
    "    # Iterate over the videos in each rating\n",
    "    author.append(rating['author_username'])\n",
    "    for vid in rating['videos']:\n",
    "        # Append the URL of each video to the list\n",
    "        video_urls.append(vid['url'])\n",
    "        cover_urls.append(vid['cover'])\n",
    "\n",
    "author = author[:len(datavideo)]\n",
    "# Create a new column 'video_urls' in the video_df DataFrame and assign the video URLs\n",
    "datavideo['author_username']=author\n",
    "datavideo['video_urls'] = video_urls\n",
    "datavideo['cover_urls'] = cover_urls"
   ]
  },
  {
   "cell_type": "code",
   "execution_count": null,
   "id": "d266b534-88d7-4afa-820f-3f53189342ff",
   "metadata": {
    "executionCancelledAt": null,
    "executionTime": 56,
    "lastExecutedAt": 1693115516939,
    "lastScheduledRunId": null,
    "lastSuccessfullyExecutedCode": "datavideo.head()",
    "outputsMetadata": {
     "0": {
      "height": 192,
      "type": "dataFrame"
     },
     "1": {
      "height": 313,
      "type": "dataFrame"
     }
    }
   },
   "outputs": [
    {
     "data": {
      "application/com.datacamp.data-table.v1+json": {
       "table": {
        "data": [
         {
          "author_username": null,
          "cover_urls": "https://play-ws.vod.shopee.com/c3/98934353/103/AnoyE9gAIMgjDgUhJAIJAEc.jpg",
          "index": 0,
          "video_urls": "https://play-ws.vod.shopee.com/api/v4/11110103/mms/id_97ff3f32-4321-4678-ae2f-d8b18cd0abab_000387.16004081688901933.mp4"
         },
         {
          "author_username": null,
          "cover_urls": "https://play-ws.vod.shopee.com/c3/98934353/103/AnoxsoUAIFSCuAERxAgARw.jpg",
          "index": 1,
          "video_urls": "https://play-ws.vod.shopee.com/api/v4/11110103/mms/id_48e2549c-3c0f-474a-b2ad-6a9a3c131f89_000323.16003221688619572.mp4"
         },
         {
          "author_username": null,
          "cover_urls": "https://play-ws.vod.shopee.com/c3/98934353/103/AmM144oAYCJw1=chzQEEBeNH.jpg",
          "index": 2,
          "video_urls": "https://play-ws.vod.shopee.com/api/v4/11110103/mms/id_8c7db614-efd8-43fc-8d23-d3f7c3e1ec71_000299.16004081691439549.mp4"
         },
         {
          "author_username": null,
          "cover_urls": "https://down-aka-sg.img.susercontent.com/id-11110103-23020-ofcyfibjt5mv3e",
          "index": 3,
          "video_urls": "https://play-ws.vod.shopee.com/api/v4/11110103/mms/id_1d98fbf0-dafa-4614-a048-e798ebdd27d0_000513.16000461675504918.mp4"
         },
         {
          "author_username": null,
          "cover_urls": "https://play-ws.vod.shopee.com/c3/98934353/103/AnoxeEoA=NBgtAEReQ8ARw.jpg",
          "index": 4,
          "video_urls": "https://play-ws.vod.shopee.com/api/v4/11110103/mms/id_d64080ae-fa52-4b4b-bfc8-fd63d767d4f7_000316.16003221688489741.mp4"
         }
        ],
        "schema": {
         "fields": [
          {
           "name": "index",
           "type": "integer"
          },
          {
           "name": "author_username",
           "type": "number"
          },
          {
           "name": "video_urls",
           "type": "string"
          },
          {
           "name": "cover_urls",
           "type": "string"
          }
         ],
         "pandas_version": "1.4.0",
         "primaryKey": [
          "index"
         ]
        }
       },
       "total_rows": 5,
       "truncation_type": null
      },
      "text/html": [
       "<div>\n",
       "<style scoped>\n",
       "    .dataframe tbody tr th:only-of-type {\n",
       "        vertical-align: middle;\n",
       "    }\n",
       "\n",
       "    .dataframe tbody tr th {\n",
       "        vertical-align: top;\n",
       "    }\n",
       "\n",
       "    .dataframe thead th {\n",
       "        text-align: right;\n",
       "    }\n",
       "</style>\n",
       "<table border=\"1\" class=\"dataframe\">\n",
       "  <thead>\n",
       "    <tr style=\"text-align: right;\">\n",
       "      <th></th>\n",
       "      <th>author_username</th>\n",
       "      <th>video_urls</th>\n",
       "      <th>cover_urls</th>\n",
       "    </tr>\n",
       "  </thead>\n",
       "  <tbody>\n",
       "    <tr>\n",
       "      <th>0</th>\n",
       "      <td>NaN</td>\n",
       "      <td>https://play-ws.vod.shopee.com/api/v4/11110103...</td>\n",
       "      <td>https://play-ws.vod.shopee.com/c3/98934353/103...</td>\n",
       "    </tr>\n",
       "    <tr>\n",
       "      <th>1</th>\n",
       "      <td>NaN</td>\n",
       "      <td>https://play-ws.vod.shopee.com/api/v4/11110103...</td>\n",
       "      <td>https://play-ws.vod.shopee.com/c3/98934353/103...</td>\n",
       "    </tr>\n",
       "    <tr>\n",
       "      <th>2</th>\n",
       "      <td>NaN</td>\n",
       "      <td>https://play-ws.vod.shopee.com/api/v4/11110103...</td>\n",
       "      <td>https://play-ws.vod.shopee.com/c3/98934353/103...</td>\n",
       "    </tr>\n",
       "    <tr>\n",
       "      <th>3</th>\n",
       "      <td>NaN</td>\n",
       "      <td>https://play-ws.vod.shopee.com/api/v4/11110103...</td>\n",
       "      <td>https://down-aka-sg.img.susercontent.com/id-11...</td>\n",
       "    </tr>\n",
       "    <tr>\n",
       "      <th>4</th>\n",
       "      <td>NaN</td>\n",
       "      <td>https://play-ws.vod.shopee.com/api/v4/11110103...</td>\n",
       "      <td>https://play-ws.vod.shopee.com/c3/98934353/103...</td>\n",
       "    </tr>\n",
       "  </tbody>\n",
       "</table>\n",
       "</div>"
      ],
      "text/plain": [
       "   author_username  ...                                         cover_urls\n",
       "0              NaN  ...  https://play-ws.vod.shopee.com/c3/98934353/103...\n",
       "1              NaN  ...  https://play-ws.vod.shopee.com/c3/98934353/103...\n",
       "2              NaN  ...  https://play-ws.vod.shopee.com/c3/98934353/103...\n",
       "3              NaN  ...  https://down-aka-sg.img.susercontent.com/id-11...\n",
       "4              NaN  ...  https://play-ws.vod.shopee.com/c3/98934353/103...\n",
       "\n",
       "[5 rows x 3 columns]"
      ]
     },
     "execution_count": 40,
     "metadata": {},
     "output_type": "execute_result"
    }
   ],
   "source": [
    "datavideo.head()"
   ]
  },
  {
   "cell_type": "code",
   "execution_count": null,
   "id": "b49f9dd5-c9ba-49a1-b580-02a5c46bc202",
   "metadata": {
    "executionCancelledAt": null,
    "executionTime": 47,
    "lastExecutedAt": 1693115516986,
    "lastScheduledRunId": null,
    "lastSuccessfullyExecutedCode": "datavideo.to_csv('data-video-ratingss-'+produk+'-'+str(offset)+'-50.csv')"
   },
   "outputs": [],
   "source": [
    "datavideo.to_csv('data-video-ratingss-'+produk+'-'+str(offset)+'-50.csv')"
   ]
  },
  {
   "cell_type": "code",
   "execution_count": null,
   "id": "18f03b1c-63dc-4d1c-ad64-b685d9b0850d",
   "metadata": {
    "executionCancelledAt": null,
    "executionTime": 24061,
    "lastExecutedAt": 1693115541048,
    "lastScheduledRunId": null,
    "lastSuccessfullyExecutedCode": "import os\n# Create a folder to save the downloaded videos\nfolder_path = 'videos/'+produk+'/'\nos.makedirs(folder_path, exist_ok=True)\n\n# Read the CSV file into a DataFrame\n# df = pd.read_csv('data-video-ratingss'+str(offset)+'-50-kahf.csv')\n\n# Iterate over each row in the DataFrame\nfor index, row in datavideo.iterrows():\n    # Get the URL of the video\n    video_url = row['video_urls']\n    \n    # Send a GET request to download the video\n    response = requests.get(video_url)\n    \n    # Save the video to a file in the specified folder\n    video_path = os.path.join(folder_path, f'video_rating'+produk+'-'+str(offset)+'-50-{index}.mp4')\n    with open(video_path, 'wb') as f:\n        f.write(response.content)\n        \n    print(f'Downloaded video rating {index}')",
    "outputsMetadata": {
     "0": {
      "height": 578,
      "type": "stream"
     }
    }
   },
   "outputs": [
    {
     "name": "stdout",
     "output_type": "stream",
     "text": [
      "Downloaded video rating 0\n",
      "Downloaded video rating 1\n",
      "Downloaded video rating 2\n",
      "Downloaded video rating 3\n",
      "Downloaded video rating 4\n",
      "Downloaded video rating 5\n",
      "Downloaded video rating 6\n",
      "Downloaded video rating 7\n",
      "Downloaded video rating 8\n",
      "Downloaded video rating 9\n",
      "Downloaded video rating 10\n",
      "Downloaded video rating 11\n",
      "Downloaded video rating 12\n",
      "Downloaded video rating 13\n",
      "Downloaded video rating 14\n",
      "Downloaded video rating 15\n",
      "Downloaded video rating 16\n",
      "Downloaded video rating 17\n",
      "Downloaded video rating 18\n",
      "Downloaded video rating 19\n",
      "Downloaded video rating 20\n",
      "Downloaded video rating 21\n",
      "Downloaded video rating 22\n",
      "Downloaded video rating 23\n",
      "Downloaded video rating 24\n",
      "Downloaded video rating 25\n",
      "Downloaded video rating 26\n",
      "Downloaded video rating 27\n",
      "Downloaded video rating 28\n",
      "Downloaded video rating 29\n",
      "Downloaded video rating 30\n",
      "Downloaded video rating 31\n",
      "Downloaded video rating 32\n",
      "Downloaded video rating 33\n",
      "Downloaded video rating 34\n",
      "Downloaded video rating 35\n",
      "Downloaded video rating 36\n",
      "Downloaded video rating 37\n",
      "Downloaded video rating 38\n",
      "Downloaded video rating 39\n",
      "Downloaded video rating 40\n",
      "Downloaded video rating 41\n",
      "Downloaded video rating 42\n",
      "Downloaded video rating 43\n",
      "Downloaded video rating 44\n",
      "Downloaded video rating 45\n",
      "Downloaded video rating 46\n",
      "Downloaded video rating 47\n"
     ]
    }
   ],
   "source": [
    "import os\n",
    "# Create a folder to save the downloaded videos\n",
    "folder_path = 'videos/'+produk+'/'\n",
    "os.makedirs(folder_path, exist_ok=True)\n",
    "\n",
    "# Read the CSV file into a DataFrame\n",
    "# df = pd.read_csv('data-video-ratingss'+str(offset)+'-50-kahf.csv')\n",
    "\n",
    "# Iterate over each row in the DataFrame\n",
    "for index, row in datavideo.iterrows():\n",
    "    # Get the URL of the video\n",
    "    video_url = row['video_urls']\n",
    "    \n",
    "    # Send a GET request to download the video\n",
    "    response = requests.get(video_url)\n",
    "    \n",
    "    # Save the video to a file in the specified folder\n",
    "    video_path = os.path.join(folder_path, f'video_rating'+produk+'-'+str(offset)+'-50-{index}.mp4')\n",
    "    with open(video_path, 'wb') as f:\n",
    "        f.write(response.content)\n",
    "        \n",
    "    print(f'Downloaded video rating {index}')"
   ]
  },
  {
   "cell_type": "code",
   "execution_count": null,
   "id": "fd7c3895-b097-4025-a8d3-1bdc0885b48d",
   "metadata": {
    "executionCancelledAt": null,
    "executionTime": 46,
    "lastExecutedAt": 1693115541094,
    "lastScheduledRunId": null,
    "lastSuccessfullyExecutedCode": ""
   },
   "outputs": [],
   "source": []
  }
 ],
 "metadata": {
  "colab": {
   "name": "Welcome to DataCamp Workspaces.ipynb",
   "provenance": []
  },
  "kernelspec": {
   "display_name": "Python 3",
   "language": "python",
   "name": "python3"
  },
  "language_info": {
   "codemirror_mode": {
    "name": "ipython",
    "version": 3
   },
   "file_extension": ".py",
   "mimetype": "text/x-python",
   "name": "python",
   "nbconvert_exporter": "python",
   "pygments_lexer": "ipython3",
   "version": "3.12.3"
  }
 },
 "nbformat": 4,
 "nbformat_minor": 5
}
